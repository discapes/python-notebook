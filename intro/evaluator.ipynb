{
 "cells": [
  {
   "cell_type": "markdown",
   "id": "7b47816e-fdaf-4975-9c26-97018a88223f",
   "metadata": {
    "tags": []
   },
   "source": [
    "### Better version using ipywidgets' `interact`"
   ]
  },
  {
   "cell_type": "code",
   "execution_count": 2,
   "id": "ae9c0c90-8cf6-4401-b9b4-931b3b9ac96e",
   "metadata": {
    "tags": []
   },
   "outputs": [
    {
     "data": {
      "application/vnd.jupyter.widget-view+json": {
       "model_id": "8d5b8523d9ae412998913b718c7d0944",
       "version_major": 2,
       "version_minor": 0
      },
      "text/plain": [
       "interactive(children=(Text(value='5*x', description='f'), Text(value='2', description='x'), Output()), _dom_cl…"
      ]
     },
     "metadata": {},
     "output_type": "display_data"
    }
   ],
   "source": [
    "from ipywidgets import interact\n",
    "\n",
    "@interact(f=\"5*x\", x=\"2\")\n",
    "def run(f, x):\n",
    "    if x.isdecimal():\n",
    "        y = eval(f, { \"x\": int(x) })\n",
    "        print(f\"f({x}) = {y}\")"
   ]
  }
 ],
 "metadata": {
  "kernelspec": {
   "display_name": "Python 3 (ipykernel)",
   "language": "python",
   "name": "python3"
  },
  "language_info": {
   "codemirror_mode": {
    "name": "ipython",
    "version": 3
   },
   "file_extension": ".py",
   "mimetype": "text/x-python",
   "name": "python",
   "nbconvert_exporter": "python",
   "pygments_lexer": "ipython3",
   "version": "3.10.9"
  }
 },
 "nbformat": 4,
 "nbformat_minor": 5
}
