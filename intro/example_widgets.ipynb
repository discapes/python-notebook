{
 "cells": [
  {
   "cell_type": "code",
   "execution_count": 2,
   "id": "a1259101-736b-43f2-9d8f-52f26c160dda",
   "metadata": {
    "tags": []
   },
   "outputs": [],
   "source": [
    "from ipywidgets import widgets"
   ]
  },
  {
   "cell_type": "markdown",
   "id": "c1d8307a-a1e0-431d-8b92-63b29aaa1a7a",
   "metadata": {},
   "source": [
    "### This example demonstrates listening to a text field and showing some output"
   ]
  },
  {
   "cell_type": "code",
   "execution_count": 3,
   "id": "b2d49e29-47b6-4312-bfee-b094bcfd4e44",
   "metadata": {
    "tags": []
   },
   "outputs": [
    {
     "data": {
      "application/vnd.jupyter.widget-view+json": {
       "model_id": "72a576a77a47468c82ab7e6b4d5a2ede",
       "version_major": 2,
       "version_minor": 0
      },
      "text/plain": [
       "VBox(children=(Text(value='', continuous_update=False, description='Name: ', placeholder='...'), Output()))"
      ]
     },
     "execution_count": 3,
     "metadata": {},
     "output_type": "execute_result"
    }
   ],
   "source": [
    "text = widgets.Text(\n",
    "    value='',\n",
    "    placeholder='...',\n",
    "    description='Name: ',\n",
    "    disabled=False,\n",
    "    continuous_update=False\n",
    ")\n",
    "\n",
    "out = widgets.Output()\n",
    "@out.capture()\n",
    "def callback(change):\n",
    "    print(\"Your name is\", change.new)\n",
    "    \n",
    "text.observe(callback, \"value\")\n",
    "widgets.VBox([text, out])"
   ]
  },
  {
   "cell_type": "markdown",
   "id": "f1fd5fe6-82fd-4a90-92c6-c3896fabc017",
   "metadata": {},
   "source": [
    "To print the output only once:"
   ]
  },
  {
   "cell_type": "code",
   "execution_count": 4,
   "id": "e5e41c8e-56d2-4e53-b562-5a53bd7190b2",
   "metadata": {
    "tags": []
   },
   "outputs": [
    {
     "data": {
      "application/vnd.jupyter.widget-view+json": {
       "model_id": "1090f57736704c91996f27c1f1cdaabc",
       "version_major": 2,
       "version_minor": 0
      },
      "text/plain": [
       "VBox(children=(Text(value='', continuous_update=False, description='Name: ', placeholder='...'), Output()))"
      ]
     },
     "execution_count": 4,
     "metadata": {},
     "output_type": "execute_result"
    }
   ],
   "source": [
    "out = widgets.Output()\n",
    "@out.capture(clear_output=True)\n",
    "def callback(change):\n",
    "    print(\"Your name is\", change.new)\n",
    "    \n",
    "text.observe(callback, \"value\")\n",
    "widgets.VBox([text, out])"
   ]
  },
  {
   "cell_type": "markdown",
   "id": "75251737-708b-4719-ab71-53252ea4e683",
   "metadata": {},
   "source": [
    "### Buttons"
   ]
  },
  {
   "cell_type": "code",
   "execution_count": 5,
   "id": "7f57aef0-f1fa-4754-b00d-5b526e46ed3a",
   "metadata": {
    "tags": []
   },
   "outputs": [
    {
     "data": {
      "application/vnd.jupyter.widget-view+json": {
       "model_id": "96219be62036431d94aa9cb76048eaa0",
       "version_major": 2,
       "version_minor": 0
      },
      "text/plain": [
       "VBox(children=(Button(description='Press me', style=ButtonStyle()), Output()))"
      ]
     },
     "execution_count": 5,
     "metadata": {},
     "output_type": "execute_result"
    }
   ],
   "source": [
    "out = widgets.Output()\n",
    "btn = widgets.Button(description='Press me')\n",
    "\n",
    "@out.capture()\n",
    "def btn_eventhandler(obj):\n",
    "    print(f'Hello from the {obj.description} button.')\n",
    "btn.on_click(btn_eventhandler)\n",
    "widgets.VBox([btn, out])"
   ]
  },
  {
   "cell_type": "markdown",
   "id": "365fc83e-9e94-477f-89af-30899d911bed",
   "metadata": {
    "tags": []
   },
   "source": [
    "### Sliders"
   ]
  },
  {
   "cell_type": "code",
   "execution_count": 6,
   "id": "be456479-551c-4b96-82c8-4309e02e61e1",
   "metadata": {
    "tags": []
   },
   "outputs": [
    {
     "data": {
      "application/vnd.jupyter.widget-view+json": {
       "model_id": "843594e4775a4c9490454c345a4b1052",
       "version_major": 2,
       "version_minor": 0
      },
      "text/plain": [
       "IntSlider(value=3, description='Slider:', max=10)"
      ]
     },
     "execution_count": 6,
     "metadata": {},
     "output_type": "execute_result"
    }
   ],
   "source": [
    "widgets.IntSlider(\n",
    "    min=0,\n",
    "    max=10,\n",
    "    step=1,\n",
    "    description='Slider:',\n",
    "    value=3\n",
    ")"
   ]
  },
  {
   "cell_type": "code",
   "execution_count": 7,
   "id": "2c64c1c6-f800-403b-a6dd-ee03e98a68c8",
   "metadata": {
    "tags": []
   },
   "outputs": [
    {
     "data": {
      "application/vnd.jupyter.widget-view+json": {
       "model_id": "67f0c22695254516a7e7d4a5ca30a322",
       "version_major": 2,
       "version_minor": 0
      },
      "text/plain": [
       "HBox(children=(VBox(children=(IntSlider(value=0, description='a'), IntSlider(value=0, description='b'), IntSli…"
      ]
     },
     "execution_count": 7,
     "metadata": {},
     "output_type": "execute_result"
    }
   ],
   "source": [
    "a = widgets.IntSlider(description='a')\n",
    "b = widgets.IntSlider(description='b')\n",
    "c = widgets.IntSlider(description='c')\n",
    "def f(a, b, c):\n",
    "    print('{}*{}*{}={}'.format(a, b, c, a*b*c))\n",
    "\n",
    "out = widgets.interactive_output(f, {'a': a, 'b': b, 'c': c})\n",
    "\n",
    "widgets.HBox([widgets.VBox([a, b, c]), out])"
   ]
  }
 ],
 "metadata": {
  "kernelspec": {
   "display_name": "Python 3 (ipykernel)",
   "language": "python",
   "name": "python3"
  },
  "language_info": {
   "codemirror_mode": {
    "name": "ipython",
    "version": 3
   },
   "file_extension": ".py",
   "mimetype": "text/x-python",
   "name": "python",
   "nbconvert_exporter": "python",
   "pygments_lexer": "ipython3",
   "version": "3.10.9"
  }
 },
 "nbformat": 4,
 "nbformat_minor": 5
}
