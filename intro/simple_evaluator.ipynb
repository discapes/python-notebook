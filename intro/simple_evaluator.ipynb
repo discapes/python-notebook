{
 "cells": [
  {
   "cell_type": "markdown",
   "id": "890ebc84-a7c4-40eb-aa47-63467ab1d520",
   "metadata": {
    "tags": []
   },
   "source": [
    "# function-eval\n",
    "\n",
    "This function asks a user to input a python expression that can use the variable x, like `x*5`.\n",
    "It then asks repeatedly for values of x, and evaluates the function with that value, printing the result."
   ]
  },
  {
   "cell_type": "code",
   "execution_count": 1,
   "id": "e69b6f04-167d-4816-a94b-b02305966911",
   "metadata": {
    "tags": []
   },
   "outputs": [
    {
     "name": "stdin",
     "output_type": "stream",
     "text": [
      "f(x)= 5\n",
      "x= 12\n"
     ]
    },
    {
     "name": "stdout",
     "output_type": "stream",
     "text": [
      "f(12) = 5\n"
     ]
    },
    {
     "name": "stdin",
     "output_type": "stream",
     "text": [
      "x= 12\n"
     ]
    },
    {
     "name": "stdout",
     "output_type": "stream",
     "text": [
      "f(12) = 5\n"
     ]
    },
    {
     "name": "stdin",
     "output_type": "stream",
     "text": [
      "x= \n"
     ]
    }
   ],
   "source": [
    "func_body = input(\"f(x)=\")\n",
    "run_func = lambda x: eval(func_body, { \"x\": x })\n",
    "run_and_print_func = lambda x: print(f\"f({x}) = {run_func(x)}\")\n",
    "\n",
    "while (x_input := input(\"x=\")).isdecimal():\n",
    "    x = int(x_input)\n",
    "    run_and_print_func(x)"
   ]
  }
 ],
 "metadata": {
  "kernelspec": {
   "display_name": "Python 3 (ipykernel)",
   "language": "python",
   "name": "python3"
  },
  "language_info": {
   "codemirror_mode": {
    "name": "ipython",
    "version": 3
   },
   "file_extension": ".py",
   "mimetype": "text/x-python",
   "name": "python",
   "nbconvert_exporter": "python",
   "pygments_lexer": "ipython3",
   "version": "3.10.9"
  }
 },
 "nbformat": 4,
 "nbformat_minor": 5
}
