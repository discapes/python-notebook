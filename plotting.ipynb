{
 "cells": [
  {
   "cell_type": "code",
   "execution_count": 2,
   "id": "00fefa0f-38d3-455a-a887-cc5d01df2b0a",
   "metadata": {
    "tags": []
   },
   "outputs": [
    {
     "data": {
      "application/vnd.jupyter.widget-view+json": {
       "model_id": "f314fc0bdaf74120a95e16c6d26c4e89",
       "version_major": 2,
       "version_minor": 0
      },
      "text/plain": [
       "interactive(children=(IntSlider(value=1, description='x', max=3, min=-1), IntSlider(value=1, description='y', …"
      ]
     },
     "metadata": {},
     "output_type": "display_data"
    }
   ],
   "source": [
    "import matplotlib.pyplot as plt\n",
    "from ipywidgets import interact\n",
    "from numpy import polyfit, poly1d, polynomial\n",
    "\n",
    "@interact(x=1, y=1, z=1, a=1, b=1)\n",
    "def draw(x,y,z,a,b):\n",
    "    xlist = [0,1,2,3,4]\n",
    "    ylist = [x,y,z,a,b]\n",
    "    trendline = polyfit(xlist, ylist, 1)\n",
    "    plt.plot(xlist, ylist, \"o-\", mfc=\"red\")\n",
    "    plt.plot(xlist, poly1d(trendline)(xlist))\n",
    "    \n",
    "    plt.ylabel('y')\n",
    "    plt.xlabel('x')\n",
    "    plt.show()"
   ]
  },
  {
   "cell_type": "code",
   "execution_count": null,
   "id": "ce473167-2ef0-433f-b8d3-ec6a090aca5a",
   "metadata": {},
   "outputs": [],
   "source": []
  }
 ],
 "metadata": {
  "kernelspec": {
   "display_name": "Python 3 (ipykernel)",
   "language": "python",
   "name": "python3"
  },
  "language_info": {
   "codemirror_mode": {
    "name": "ipython",
    "version": 3
   },
   "file_extension": ".py",
   "mimetype": "text/x-python",
   "name": "python",
   "nbconvert_exporter": "python",
   "pygments_lexer": "ipython3",
   "version": "3.10.9"
  }
 },
 "nbformat": 4,
 "nbformat_minor": 5
}
