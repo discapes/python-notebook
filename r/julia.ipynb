{
 "cells": [
  {
   "cell_type": "code",
   "execution_count": 2,
   "id": "a2084f96-fe02-48ad-b274-b0898ce1b683",
   "metadata": {
    "tags": []
   },
   "outputs": [],
   "source": [
    "%load_ext rpy2.ipython"
   ]
  },
  {
   "cell_type": "code",
   "execution_count": 3,
   "id": "a6409764-8b67-442e-9673-0fec13cae4cd",
   "metadata": {},
   "outputs": [],
   "source": [
    "%%R\n",
    "julia <- function(A) {\n",
    "    step <- 20\n",
    "    C <- 0.7785 * exp(1i*A)\n",
    "    # C <- -0.8 + 0.156i\n",
    "\n",
    "    dx <- 400                    # define width\n",
    "    dy <- 400                    # define height\n",
    "    Z  <- complex(real = rep(seq(-1.5, 1.7, length.out = dx), each = dy),\n",
    "                  imag = rep(seq(-1.2, 1, length.out = dy), dx))\n",
    "    Z <- matrix(Z, dy, dx)       # reshape as square matrix of complex numbers\n",
    "    X <- array(0, c(dy, dx, 20)) # initialize output 3D array\n",
    "    for (k in 1:20) {            # loop with 20 iterations\n",
    "      Z <- Z^2 + C             # the central difference equation\n",
    "      X[, , k] <- exp(-abs(Z))   # capture results\n",
    "    }\n",
    "    image(X[,,step], main=paste(\"a\", A), useRaster=TRUE, axes=FALSE)\n",
    "}"
   ]
  },
  {
   "cell_type": "code",
   "execution_count": 12,
   "id": "e23b084f-6d67-4f16-afcd-e8bbdea579c0",
   "metadata": {
    "tags": []
   },
   "outputs": [],
   "source": [
    "%%R\n",
    "dx <- 400                    # define width\n",
    "dy <- 400                    # define height\n",
    "dz <- 100                    # define height\n",
    "\n",
    "C <- 0.7785 * exp(1i*(seq(pi/2, 3/2*pi, length.out=dz)))\n",
    "\n",
    "Z  <- complex(real = rep(seq(-1.5, 1.7, length.out = dx), each = dy),\n",
    "              imag = rep(seq(-1.2, 1, length.out = dy), dx))\n",
    "Z <- matrix(Z, dy, dx)       # reshape as square matrix of complex numbers\n",
    "Z <- array(rep(Z, each=dz), c(dz,dx,dy))       # reshape as square matrix of complex numbers\n",
    "for (k in 1:20) {            # loop with 20 iterations\n",
    "  Z <- Z^2 + C             # the central difference equation\n",
    "}\n",
    "Z <- exp(-abs(Z))\n",
    "\"ready\""
   ]
  },
  {
   "cell_type": "code",
   "execution_count": 12,
   "id": "945281a4-100a-4b49-b63f-aed209e3b0b8",
   "metadata": {
    "tags": []
   },
   "outputs": [
    {
     "data": {
      "application/vnd.jupyter.widget-view+json": {
       "model_id": "95f92d44608e4f18bb617f73f1309ac7",
       "version_major": 2,
       "version_minor": 0
      },
      "text/plain": [
       "interactive(children=(IntSlider(value=1, description='a', min=1), Output()), _dom_classes=('widget-interact',)…"
      ]
     },
     "metadata": {},
     "output_type": "display_data"
    }
   ],
   "source": [
    "from ipywidgets import interact\n",
    "import math\n",
    "\n",
    "@interact(a=(1,100))\n",
    "def run(a=1):\n",
    "    %R -i a image(Z[a,,], main=paste(\"a\", a), useRaster=TRUE, axes=FALSE)"
   ]
  }
 ],
 "metadata": {
  "kernelspec": {
   "display_name": "Python 3 (ipykernel)",
   "language": "python",
   "name": "python3"
  },
  "language_info": {
   "codemirror_mode": {
    "name": "ipython",
    "version": 3
   },
   "file_extension": ".py",
   "mimetype": "text/x-python",
   "name": "python",
   "nbconvert_exporter": "python",
   "pygments_lexer": "ipython3",
   "version": "3.10.9"
  }
 },
 "nbformat": 4,
 "nbformat_minor": 5
}
