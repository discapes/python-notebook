{
 "cells": [
  {
   "cell_type": "code",
   "execution_count": 4,
   "id": "9ab37d10-b477-4434-8be0-e0a31f626f1e",
   "metadata": {},
   "outputs": [],
   "source": [
    "library(caTools) \n",
    "x <- y <- seq(-4*pi, 4*pi, len=200)\n",
    "r <- sqrt(outer(x^2, y^2, \"+\"))\n",
    "image = array(0, c(200, 200, 10))\n",
    "for(i in 1:10) image[,,i] = cos(r-(2*pi*i/10))/(r^.25)\n",
    "write.gif(image, \"wave.gif\", col=\"rainbow\")"
   ]
  },
  {
   "cell_type": "code",
   "execution_count": null,
   "id": "9a83da88-4af2-4668-8847-54d550b305cd",
   "metadata": {},
   "outputs": [],
   "source": []
  }
 ],
 "metadata": {
  "kernelspec": {
   "display_name": "R",
   "language": "R",
   "name": "ir"
  },
  "language_info": {
   "codemirror_mode": "r",
   "file_extension": ".r",
   "mimetype": "text/x-r-source",
   "name": "R",
   "pygments_lexer": "r",
   "version": "4.3.3"
  }
 },
 "nbformat": 4,
 "nbformat_minor": 5
}
