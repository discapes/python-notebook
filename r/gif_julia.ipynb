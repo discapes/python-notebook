{
 "cells": [
  {
   "cell_type": "code",
   "execution_count": 1,
   "id": "9f2af821-2ce5-4006-930e-3ef470b81f23",
   "metadata": {
    "tags": []
   },
   "outputs": [
    {
     "name": "stderr",
     "output_type": "stream",
     "text": [
      "Warning message in if (col == \"jet\") col = colorRampPalette(c(\"#00007F\", \"blue\", :\n",
      "“the condition has length > 1 and only the first element will be used”\n"
     ]
    },
    {
     "data": {
      "text/html": [
       "'ready!'"
      ],
      "text/latex": [
       "'ready!'"
      ],
      "text/markdown": [
       "'ready!'"
      ],
      "text/plain": [
       "[1] \"ready!\""
      ]
     },
     "metadata": {},
     "output_type": "display_data"
    }
   ],
   "source": [
    "library(caTools)             # external package providing write.gif function\n",
    "# jet.colors <- colorRampPalette(c(\"green\", \"pink\", \"#007FFF\", \"cyan\", \"#7FFF7F\",\n",
    "                                 # \"white\", \"#FF7F00\", \"red\", \"#7F0000\"))\n",
    "dx <- 500                    # define width\n",
    "dy <- 500                    # define height\n",
    "dz <- 120                    # define height\n",
    "\n",
    "C <- 0.7785 * exp(1i*(seq(pi/2, 3/2*pi, length.out=dz)))\n",
    "\n",
    "Z  <- complex(real = rep(seq(-1.5, 1.7, length.out = dx), each = dy),\n",
    "              imag = rep(seq(-1.2, 1, length.out = dy), dx))\n",
    "Z <- matrix(Z, dy, dx)       # reshape as square matrix of complex numbers\n",
    "Z <- array(rep(Z, each=dz), c(dz,dx,dy))       # reshape as square matrix of complex numbers\n",
    "for (k in 1:20) {            # loop with 20 iterations\n",
    "  Z <- Z^2 + C             # the central difference equation\n",
    "}\n",
    "Z <- exp(-abs(Z))\n",
    "\n",
    "\n",
    "Z <- aperm(Z, c(2,3,1))\n",
    "write.gif(Z, \"julia.gif\", delay = 10)\n",
    "\"ready!\""
   ]
  },
  {
   "cell_type": "code",
   "execution_count": null,
   "id": "ac75ec6e-d8f4-4cef-aa8a-8223406443ab",
   "metadata": {
    "tags": []
   },
   "outputs": [],
   "source": [
    "x <- y <- seq(-4*pi, 4*pi, len=200)\n",
    "r <- sqrt(outer(x^2, y^2, \"+\"))\n",
    "image = array(0, c(200, 200, 10))\n",
    "for(i in 1:10) image[,,i] = cos(r-(2*pi*i/10))/(r^.25)\n",
    "write.gif(image, \"wave.gif\", col=\"rainbow\")"
   ]
  }
 ],
 "metadata": {
  "kernelspec": {
   "display_name": "R",
   "language": "R",
   "name": "ir"
  },
  "language_info": {
   "codemirror_mode": "r",
   "file_extension": ".r",
   "mimetype": "text/x-r-source",
   "name": "R",
   "pygments_lexer": "r",
   "version": "4.0.4"
  }
 },
 "nbformat": 4,
 "nbformat_minor": 5
}
