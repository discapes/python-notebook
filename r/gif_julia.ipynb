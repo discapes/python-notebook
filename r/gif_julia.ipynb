{
 "cells": [
  {
   "cell_type": "code",
   "execution_count": 31,
   "id": "9f2af821-2ce5-4006-930e-3ef470b81f23",
   "metadata": {
    "tags": []
   },
   "outputs": [
    {
     "data": {
      "text/html": [
       "'ready!'"
      ],
      "text/latex": [
       "'ready!'"
      ],
      "text/markdown": [
       "'ready!'"
      ],
      "text/plain": [
       "[1] \"ready!\""
      ]
     },
     "metadata": {},
     "output_type": "display_data"
    }
   ],
   "source": [
    "library(caTools)             # external package providing write.gif function\n",
    "jet.colors <- colorRampPalette(c(\"#2F2F2F\", \"#0000FF\", \"#00FFFF\", \"#00FF00\", \"#FFFF00\", \"#FFA500\", \"#FF4500\", \"#FF0000\", \"#8B0000\"))\n",
    "dx <- 500                    # define width\n",
    "dy <- 500                    # define height\n",
    "dz <- 120                    # define height\n",
    "\n",
    "C <- 0.7785 * exp(1i*(seq(pi/2, 3/2*pi, length.out=dz)))\n",
    "\n",
    "Z  <- complex(real = rep(seq(-1.5, 1.7, length.out = dx), each = dy),\n",
    "              imag = rep(seq(-1.2, 1, length.out = dy), dx))\n",
    "Z <- matrix(Z, dy, dx)       # reshape as square matrix of complex numbers\n",
    "Z <- array(rep(Z, each=dz), c(dz,dx,dy))       # reshape as square matrix of complex numbers\n",
    "for (k in 1:20) {            # loop with 20 iterations\n",
    "  Z <- Z^2 + C             # the central difference equation\n",
    "}\n",
    "Z <- exp(-abs(Z))\n",
    "Z <- aperm(Z, c(2,3,1))\n",
    "write.gif(Z, \"julia.gif\", col = jet.colors, delay = 10)\n",
    "\"ready!\""
   ]
  },
  {
   "cell_type": "code",
   "execution_count": null,
   "id": "296f1b23-15e1-49dc-bb44-0c815f9dc278",
   "metadata": {},
   "outputs": [],
   "source": []
  }
 ],
 "metadata": {
  "kernelspec": {
   "display_name": "R",
   "language": "R",
   "name": "ir"
  },
  "language_info": {
   "codemirror_mode": "r",
   "file_extension": ".r",
   "mimetype": "text/x-r-source",
   "name": "R",
   "pygments_lexer": "r",
   "version": "4.3.3"
  }
 },
 "nbformat": 4,
 "nbformat_minor": 5
}
