{
 "cells": [
  {
   "cell_type": "code",
   "execution_count": 4,
   "id": "b9e01d77-6b39-4429-9ef8-ce281932318f",
   "metadata": {
    "tags": []
   },
   "outputs": [],
   "source": [
    "library(caTools)             # external package providing write.gif function\n",
    "jet.colors <- colorRampPalette(c(\"green\", \"pink\", \"#007FFF\", \"cyan\", \"#7FFF7F\",\n",
    "                                 \"white\", \"#FF7F00\", \"red\", \"#7F0000\"))\n",
    "dx <- 1500                    # define width\n",
    "dy <- 1400                    # define height\n",
    "C  <- complex(real = rep(seq(-2.2, 1.0, length.out = dx), each = dy),\n",
    "              imag = rep(seq(-1.2, 1.2, length.out = dy), dx))\n",
    "C <- matrix(C, dy, dx)       # reshape as square matrix of complex numbers\n",
    "Z <- 0                       # initialize Z to zero\n",
    "X <- array(0, c(dy, dx, 20)) # initialize output 3D array\n",
    "for (k in 1:20) {            # loop with 20 iterations\n",
    "  Z <- Z^2 + C               # the central difference equation\n",
    "  X[, , k] <- exp(-abs(Z))   # capture results\n",
    "}\n",
    "write.gif(X, \"mandelbrot.gif\", col = jet.colors, delay = 100)"
   ]
  },
  {
   "cell_type": "code",
   "execution_count": null,
   "id": "de662a51-f91e-43d8-a8bb-2736540fc0df",
   "metadata": {},
   "outputs": [],
   "source": []
  }
 ],
 "metadata": {
  "kernelspec": {
   "display_name": "R",
   "language": "R",
   "name": "ir"
  },
  "language_info": {
   "codemirror_mode": "r",
   "file_extension": ".r",
   "mimetype": "text/x-r-source",
   "name": "R",
   "pygments_lexer": "r",
   "version": "4.3.3"
  }
 },
 "nbformat": 4,
 "nbformat_minor": 5
}
