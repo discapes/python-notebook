{
 "cells": [
  {
   "cell_type": "code",
   "execution_count": 2,
   "id": "8e5c2a72-fe97-4fb2-b598-676eca482170",
   "metadata": {
    "tags": []
   },
   "outputs": [],
   "source": [
    "%load_ext rpy2.ipython"
   ]
  },
  {
   "cell_type": "code",
   "execution_count": 3,
   "id": "becde103-6e96-4af2-9972-834b3295f03b",
   "metadata": {
    "tags": []
   },
   "outputs": [],
   "source": [
    "%%R\n",
    "dx <- 400                    # define width\n",
    "dy <- 400                    # define height\n",
    "C  <- complex(real = rep(seq(-2.2, 1.0, length.out = dx), each = dy),\n",
    "              imag = rep(seq(-1.2, 1.2, length.out = dy), dx))\n",
    "C <- matrix(C, dy, dx)       # reshape as square matrix of complex numbers\n",
    "Z <- 0                    # initialize Z to zero\n",
    "X <- array(0, c(dy, dx, 20)) # initialize output 3D array\n",
    "for (k in 1:20) {            # loop with 20 iterations\n",
    "  Z <- Z^2 + C             # the central difference equation\n",
    "  X[, , k] <- exp(-abs(Z))   # capture results\n",
    "}"
   ]
  },
  {
   "cell_type": "code",
   "execution_count": 3,
   "id": "331cba76-58ba-44d0-a6ac-db7c1eddc840",
   "metadata": {
    "tags": []
   },
   "outputs": [
    {
     "data": {
      "application/vnd.jupyter.widget-view+json": {
       "model_id": "f19d0d0c9cf24ac68ebb22e299b8d81f",
       "version_major": 2,
       "version_minor": 0
      },
      "text/plain": [
       "interactive(children=(IntSlider(value=1, description='step', max=20, min=1), Output()), _dom_classes=('widget-…"
      ]
     },
     "metadata": {},
     "output_type": "display_data"
    }
   ],
   "source": [
    "from ipywidgets import interact\n",
    "\n",
    "@interact(step=(1,20))\n",
    "def run(step=1):\n",
    "    %R -i step image(X[,,step], main=paste(\"Step\", step), useRaster=TRUE, axes=FALSE)"
   ]
  }
 ],
 "metadata": {
  "kernelspec": {
   "display_name": "Python 3 (ipykernel)",
   "language": "python",
   "name": "python3"
  },
  "language_info": {
   "codemirror_mode": {
    "name": "ipython",
    "version": 3
   },
   "file_extension": ".py",
   "mimetype": "text/x-python",
   "name": "python",
   "nbconvert_exporter": "python",
   "pygments_lexer": "ipython3",
   "version": "3.10.9"
  }
 },
 "nbformat": 4,
 "nbformat_minor": 5
}
