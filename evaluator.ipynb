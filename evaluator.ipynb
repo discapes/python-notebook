{
 "cells": [
  {
   "cell_type": "code",
   "execution_count": 1,
   "id": "606c2279-c331-4a48-a8ce-21d6aa4f0311",
   "metadata": {
    "tags": []
   },
   "outputs": [],
   "source": [
    "### Better version using ipywidgets' `interact`"
   ]
  },
  {
   "cell_type": "code",
   "execution_count": 1,
   "id": "ae9c0c90-8cf6-4401-b9b4-931b3b9ac96e",
   "metadata": {
    "tags": []
   },
   "outputs": [
    {
     "data": {
      "application/vnd.jupyter.widget-view+json": {
       "model_id": "dd8ff0484b5d475bba9a6c317073861d",
       "version_major": 2,
       "version_minor": 0
      },
      "text/plain": [
       "interactive(children=(Text(value='5*x', description='f'), Text(value='2', description='x'), Output()), _dom_cl…"
      ]
     },
     "metadata": {},
     "output_type": "display_data"
    }
   ],
   "source": [
    "from ipywidgets import interact\n",
    "\n",
    "@interact(f=\"5*x\", x=\"2\")\n",
    "def run(f, x):\n",
    "    if x.isdecimal():\n",
    "        y = eval(f, { \"x\": int(x) })\n",
    "        print(f\"f({x}) = {y}\")"
   ]
  }
 ],
 "metadata": {
  "kernelspec": {
   "display_name": "Python 3 (ipykernel)",
   "language": "python",
   "name": "python3"
  },
  "language_info": {
   "codemirror_mode": {
    "name": "ipython",
    "version": 3
   },
   "file_extension": ".py",
   "mimetype": "text/x-python",
   "name": "python",
   "nbconvert_exporter": "python",
   "pygments_lexer": "ipython3",
   "version": "3.10.9"
  }
 },
 "nbformat": 4,
 "nbformat_minor": 5
}
