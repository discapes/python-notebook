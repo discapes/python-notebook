{
 "cells": [
  {
   "cell_type": "code",
   "execution_count": 1,
   "id": "b3b8b9b7",
   "metadata": {},
   "outputs": [
    {
     "name": "stdout",
     "output_type": "stream",
     "text": [
      "8\n",
      "8\n"
     ]
    }
   ],
   "source": [
    "x = 1960\n",
    "y = 528\n",
    "\n",
    "def eucl(x, y):\n",
    "    a, b = (x, y) if x > y else (y, x)\n",
    "\n",
    "    mod = a % b\n",
    "    while mod != 0:\n",
    "        res = b % mod\n",
    "        b = mod\n",
    "        mod = res\n",
    "    return b\n",
    "    \n",
    "print(eucl(x, y))\n",
    "print(gcd(x, y))"
   ]
  },
  {
   "cell_type": "code",
   "execution_count": 2,
   "id": "024630c6",
   "metadata": {},
   "outputs": [
    {
     "data": {
      "text/plain": [
       "[2,\n",
       " 3,\n",
       " 5,\n",
       " 7,\n",
       " 11,\n",
       " 13,\n",
       " 17,\n",
       " 19,\n",
       " 23,\n",
       " 29,\n",
       " 31,\n",
       " 37,\n",
       " 41,\n",
       " 43,\n",
       " 47,\n",
       " 53,\n",
       " 59,\n",
       " 61,\n",
       " 67,\n",
       " 71,\n",
       " 73,\n",
       " 79,\n",
       " 83,\n",
       " 89,\n",
       " 97]"
      ]
     },
     "execution_count": 2,
     "metadata": {},
     "output_type": "execute_result"
    }
   ],
   "source": [
    "def sieve(n):\n",
    "    arr = [x for x in range(2, n + 1)]\n",
    "    p = 2\n",
    "    while p <= sqrt(n):\n",
    "        if p in arr:\n",
    "            m = 2\n",
    "            while 1:\n",
    "                res = p * m\n",
    "                if res in arr:\n",
    "                    arr.remove(res)\n",
    "                if res >= n:\n",
    "                    break\n",
    "                m += 1\n",
    "        p += 1\n",
    "    return arr\n",
    "sieve(100)"
   ]
  }
 ],
 "metadata": {
  "kernelspec": {
   "display_name": "SageMath 10.2",
   "language": "sage",
   "name": "sagemath"
  },
  "language_info": {
   "codemirror_mode": {
    "name": "ipython",
    "version": 3
   },
   "file_extension": ".py",
   "mimetype": "text/x-python",
   "name": "python",
   "nbconvert_exporter": "python",
   "pygments_lexer": "ipython3",
   "version": "3.11.10"
  }
 },
 "nbformat": 4,
 "nbformat_minor": 5
}
