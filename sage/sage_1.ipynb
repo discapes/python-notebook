{
 "cells": [
  {
   "cell_type": "code",
   "execution_count": 1,
   "id": "ed27be2f-69c5-4d71-b468-e7544fc97eff",
   "metadata": {},
   "outputs": [],
   "source": [
    "reset()\n",
    "var('x a b c z')\n",
    "from IPython.core.interactiveshell import InteractiveShell\n",
    "InteractiveShell.ast_node_interactivity = \"all\"\n",
    "%display latex"
   ]
  },
  {
   "cell_type": "code",
   "execution_count": 2,
   "id": "7ac3e829",
   "metadata": {},
   "outputs": [],
   "source": [
    "def find_all_roots(f, a, b, eps=0.0000000001):\n",
    "    roots = []\n",
    "    intervals_to_check = [(a,b)]\n",
    "    while intervals_to_check:\n",
    "        start, end = intervals_to_check.pop()\n",
    "        try:\n",
    "            root = find_root(f, start, end)\n",
    "        except RuntimeError:\n",
    "            continue\n",
    "        if root in roots:\n",
    "            continue\n",
    "        if abs(f(root)) < 1:\n",
    "            roots.append(root)\n",
    "        intervals_to_check.extend([(start, root-eps), (root+eps, end)])\n",
    "    roots.sort()\n",
    "    return roots"
   ]
  },
  {
   "cell_type": "code",
   "execution_count": 3,
   "id": "d3ab3707",
   "metadata": {},
   "outputs": [
    {
     "data": {
      "text/html": [
       "<html>\\(\\displaystyle \\left[x = -\\frac{b + \\sqrt{b^{2} - 4 \\, a c}}{2 \\, a}, x = -\\frac{b - \\sqrt{b^{2} - 4 \\, a c}}{2 \\, a}\\right]\\)</html>"
      ],
      "text/latex": [
       "$\\displaystyle \\left[x = -\\frac{b + \\sqrt{b^{2} - 4 \\, a c}}{2 \\, a}, x = -\\frac{b - \\sqrt{b^{2} - 4 \\, a c}}{2 \\, a}\\right]$"
      ],
      "text/plain": [
       "[x == -1/2*(b + sqrt(b^2 - 4*a*c))/a, x == -1/2*(b - sqrt(b^2 - 4*a*c))/a]"
      ]
     },
     "execution_count": 3,
     "metadata": {},
     "output_type": "execute_result"
    }
   ],
   "source": [
    "solve(a*x^2+b*x+c, x)"
   ]
  },
  {
   "cell_type": "code",
   "execution_count": 4,
   "id": "a1e85532-de19-4b8f-8b19-938216e712b9",
   "metadata": {},
   "outputs": [
    {
     "data": {
      "text/html": [
       "<html>\\(\\displaystyle \\left[x = \\frac{5}{4} \\, \\sqrt{5} + \\frac{5}{4} i \\, \\sqrt{2 \\, \\sqrt{5} + 10} - \\frac{5}{4}, x = -\\frac{5}{4} \\, \\sqrt{5} + \\frac{5}{4} i \\, \\sqrt{-2 \\, \\sqrt{5} + 10} - \\frac{5}{4}, x = -\\frac{5}{4} \\, \\sqrt{5} - \\frac{5}{4} i \\, \\sqrt{-2 \\, \\sqrt{5} + 10} - \\frac{5}{4}, x = \\frac{5}{4} \\, \\sqrt{5} - \\frac{5}{4} i \\, \\sqrt{2 \\, \\sqrt{5} + 10} - \\frac{5}{4}, x = 5\\right]\\)</html>"
      ],
      "text/latex": [
       "$\\displaystyle \\left[x = \\frac{5}{4} \\, \\sqrt{5} + \\frac{5}{4} i \\, \\sqrt{2 \\, \\sqrt{5} + 10} - \\frac{5}{4}, x = -\\frac{5}{4} \\, \\sqrt{5} + \\frac{5}{4} i \\, \\sqrt{-2 \\, \\sqrt{5} + 10} - \\frac{5}{4}, x = -\\frac{5}{4} \\, \\sqrt{5} - \\frac{5}{4} i \\, \\sqrt{-2 \\, \\sqrt{5} + 10} - \\frac{5}{4}, x = \\frac{5}{4} \\, \\sqrt{5} - \\frac{5}{4} i \\, \\sqrt{2 \\, \\sqrt{5} + 10} - \\frac{5}{4}, x = 5\\right]$"
      ],
      "text/plain": [
       "[x == 5/4*sqrt(5) + 5/4*I*sqrt(2*sqrt(5) + 10) - 5/4, x == -5/4*sqrt(5) + 5/4*I*sqrt(-2*sqrt(5) + 10) - 5/4, x == -5/4*sqrt(5) - 5/4*I*sqrt(-2*sqrt(5) + 10) - 5/4, x == 5/4*sqrt(5) - 5/4*I*sqrt(2*sqrt(5) + 10) - 5/4, x == 5]"
      ]
     },
     "execution_count": 4,
     "metadata": {},
     "output_type": "execute_result"
    },
    {
     "data": {
      "text/html": [
       "<html>\\(\\displaystyle \\left[x = 5\\right]\\)</html>"
      ],
      "text/latex": [
       "$\\displaystyle \\left[x = 5\\right]$"
      ],
      "text/plain": [
       "[x == 5]"
      ]
     },
     "execution_count": 4,
     "metadata": {},
     "output_type": "execute_result"
    },
    {
     "data": {
      "text/html": [
       "<html>\\(\\displaystyle 4.999999999999942\\)</html>"
      ],
      "text/latex": [
       "$\\displaystyle 4.999999999999942$"
      ],
      "text/plain": [
       "4.999999999999942"
      ]
     },
     "execution_count": 4,
     "metadata": {},
     "output_type": "execute_result"
    },
    {
     "data": {
      "text/html": [
       "<html>\\(\\displaystyle \\left[x = 5\\right]\\)</html>"
      ],
      "text/latex": [
       "$\\displaystyle \\left[x = 5\\right]$"
      ],
      "text/plain": [
       "[x == 5]"
      ]
     },
     "execution_count": 4,
     "metadata": {},
     "output_type": "execute_result"
    }
   ],
   "source": [
    "%display latex\n",
    "solve(x^5==5^5, x)\n",
    "solve(x^5==5^5, x, algorithm=\"sympy\", domain=\"real\")\n",
    "find_root(x^5==5^5,-999,999)\n",
    "\n",
    "assume(x,'real')\n",
    "solve(x^5==5^5, x)\n",
    "forget()"
   ]
  },
  {
   "cell_type": "code",
   "execution_count": 5,
   "id": "aa928287-ffc6-4a67-9c27-153cd522dee1",
   "metadata": {},
   "outputs": [
    {
     "data": {
      "text/html": [
       "<html>\\(\\displaystyle \\left[x = -\\frac{1}{2} \\, b - \\frac{1}{2} \\, \\sqrt{b^{2} - 4 \\, c}, x = -\\frac{1}{2} \\, b + \\frac{1}{2} \\, \\sqrt{b^{2} - 4 \\, c}\\right]\\)</html>"
      ],
      "text/latex": [
       "$\\displaystyle \\left[x = -\\frac{1}{2} \\, b - \\frac{1}{2} \\, \\sqrt{b^{2} - 4 \\, c}, x = -\\frac{1}{2} \\, b + \\frac{1}{2} \\, \\sqrt{b^{2} - 4 \\, c}\\right]$"
      ],
      "text/plain": [
       "[x == -1/2*b - 1/2*sqrt(b^2 - 4*c), x == -1/2*b + 1/2*sqrt(b^2 - 4*c)]"
      ]
     },
     "execution_count": 5,
     "metadata": {},
     "output_type": "execute_result"
    },
    {
     "data": {
      "text/html": [
       "<html>\\(\\displaystyle \\left[\\left\\{x : -\\frac{1}{2} \\, b - \\frac{1}{2} \\, \\sqrt{b^{2} - 4 \\, c}\\right\\}, \\left\\{x : -\\frac{1}{2} \\, b + \\frac{1}{2} \\, \\sqrt{b^{2} - 4 \\, c}\\right\\}\\right]\\)</html>"
      ],
      "text/latex": [
       "$\\displaystyle \\left[\\left\\{x : -\\frac{1}{2} \\, b - \\frac{1}{2} \\, \\sqrt{b^{2} - 4 \\, c}\\right\\}, \\left\\{x : -\\frac{1}{2} \\, b + \\frac{1}{2} \\, \\sqrt{b^{2} - 4 \\, c}\\right\\}\\right]$"
      ],
      "text/plain": [
       "[{x: -1/2*b - 1/2*sqrt(b^2 - 4*c)}, {x: -1/2*b + 1/2*sqrt(b^2 - 4*c)}]"
      ]
     },
     "execution_count": 5,
     "metadata": {},
     "output_type": "execute_result"
    }
   ],
   "source": [
    "sol1 = solve(x^2 + b*x + c == 0,x)\n",
    "sol2 = solve(x^2 + b*x + c == 0,x, solution_dict=True)\n",
    "sol1\n",
    "sol2"
   ]
  },
  {
   "cell_type": "code",
   "execution_count": 6,
   "id": "3218e0b9-2448-487e-9023-c2605a9fdbe1",
   "metadata": {},
   "outputs": [
    {
     "data": {
      "text/html": [
       "<html>\\(\\displaystyle \\left[x = -\\frac{1}{2} \\, \\sqrt{29} - \\frac{7}{2}, x = \\frac{1}{2} \\, \\sqrt{29} - \\frac{7}{2}\\right]\\)</html>"
      ],
      "text/latex": [
       "$\\displaystyle \\left[x = -\\frac{1}{2} \\, \\sqrt{29} - \\frac{7}{2}, x = \\frac{1}{2} \\, \\sqrt{29} - \\frac{7}{2}\\right]$"
      ],
      "text/plain": [
       "[x == -1/2*sqrt(29) - 7/2, x == 1/2*sqrt(29) - 7/2]"
      ]
     },
     "execution_count": 6,
     "metadata": {},
     "output_type": "execute_result"
    },
    {
     "data": {
      "text/html": [
       "<html>\\(\\displaystyle \\left[-\\frac{1}{2} \\, \\sqrt{29} - \\frac{7}{2}, \\frac{1}{2} \\, \\sqrt{29} - \\frac{7}{2}\\right]\\)</html>"
      ],
      "text/latex": [
       "$\\displaystyle \\left[-\\frac{1}{2} \\, \\sqrt{29} - \\frac{7}{2}, \\frac{1}{2} \\, \\sqrt{29} - \\frac{7}{2}\\right]$"
      ],
      "text/plain": [
       "[-1/2*sqrt(29) - 7/2, 1/2*sqrt(29) - 7/2]"
      ]
     },
     "execution_count": 6,
     "metadata": {},
     "output_type": "execute_result"
    },
    {
     "data": {
      "text/html": [
       "<html>\\(\\displaystyle \\left[-6.1925824, -0.80741760\\right]\\)</html>"
      ],
      "text/latex": [
       "$\\displaystyle \\left[-6.1925824, -0.80741760\\right]$"
      ],
      "text/plain": [
       "[-6.1925824, -0.80741760]"
      ]
     },
     "execution_count": 6,
     "metadata": {},
     "output_type": "execute_result"
    }
   ],
   "source": [
    "[s.substitute(c=5, b=7) for s in sol1]\n",
    "[s[x].substitute(c=5, b=7) for s in sol2]\n",
    "[s.n(30) for s in _]"
   ]
  },
  {
   "cell_type": "code",
   "execution_count": 7,
   "id": "4b248f43-82f1-48f6-b692-0af7d9b7f345",
   "metadata": {},
   "outputs": [
    {
     "data": {
      "text/html": [
       "<html>\\(\\displaystyle 0.5615528128087947\\)</html>"
      ],
      "text/latex": [
       "$\\displaystyle 0.5615528128087947$"
      ],
      "text/plain": [
       "0.5615528128087947"
      ]
     },
     "execution_count": 7,
     "metadata": {},
     "output_type": "execute_result"
    }
   ],
   "source": [
    "find_root(x^2 + 3*x + 2==4, -999, 999)"
   ]
  },
  {
   "cell_type": "code",
   "execution_count": 8,
   "id": "7d888d49",
   "metadata": {},
   "outputs": [
    {
     "data": {
      "text/html": [
       "<html>\\(\\displaystyle \\left[x = -\\frac{1}{2} \\, \\sqrt{17} - \\frac{3}{2}, x = \\frac{1}{2} \\, \\sqrt{17} - \\frac{3}{2}\\right]\\)</html>"
      ],
      "text/latex": [
       "$\\displaystyle \\left[x = -\\frac{1}{2} \\, \\sqrt{17} - \\frac{3}{2}, x = \\frac{1}{2} \\, \\sqrt{17} - \\frac{3}{2}\\right]$"
      ],
      "text/plain": [
       "[x == -1/2*sqrt(17) - 3/2, x == 1/2*sqrt(17) - 3/2]"
      ]
     },
     "execution_count": 8,
     "metadata": {},
     "output_type": "execute_result"
    },
    {
     "data": {
      "text/html": [
       "<html>\\(\\displaystyle \\left[0 = x^{10} + 3 \\, x - 2\\right]\\)</html>"
      ],
      "text/latex": [
       "$\\displaystyle \\left[0 = x^{10} + 3 \\, x - 2\\right]$"
      ],
      "text/plain": [
       "[0 == x^10 + 3*x - 2]"
      ]
     },
     "execution_count": 8,
     "metadata": {},
     "output_type": "execute_result"
    },
    {
     "data": {
      "text/html": [
       "<html>\\(\\displaystyle \\left[\\right]\\)</html>"
      ],
      "text/latex": [
       "$\\displaystyle \\left[\\right]$"
      ],
      "text/plain": [
       "[]"
      ]
     },
     "execution_count": 8,
     "metadata": {},
     "output_type": "execute_result"
    },
    {
     "data": {
      "text/html": [
       "<html>\\(\\displaystyle \\left[x = \\left(-1.1871886120996442\\right), x = 0.6613323409006326\\right]\\)</html>"
      ],
      "text/latex": [
       "$\\displaystyle \\left[x = \\left(-1.1871886120996442\\right), x = 0.6613323409006326\\right]$"
      ],
      "text/plain": [
       "[x == -1.1871886120996442, x == 0.6613323409006326]"
      ]
     },
     "execution_count": 8,
     "metadata": {},
     "output_type": "execute_result"
    },
    {
     "data": {
      "text/html": [
       "<html>\\(\\displaystyle 0.6613323769922665\\)</html>"
      ],
      "text/latex": [
       "$\\displaystyle 0.6613323769922665$"
      ],
      "text/plain": [
       "0.6613323769922665"
      ]
     },
     "execution_count": 8,
     "metadata": {},
     "output_type": "execute_result"
    }
   ],
   "source": [
    "solve(x^2 + 3*x + 2==4, x)\n",
    "\n",
    "# can't solve over 10 degree polynomials\n",
    "solve(x^10+ 3*x + 2==4, x) \n",
    "solve(x^10+ 3*x + 2==4,x, explicit_solutions=True)\n",
    "\n",
    "# except with \n",
    "assume(x, \"real\")\n",
    "solve(x^10+ 3*x + 2==4,x, to_poly_solve=True)\n",
    "find_root(x^10+ 3*x + 2==4, -10, 10)\n",
    "#find_all_roots(lambda x: x^10+ 3*x + 2==4, -5, 5, eps=0.0001)"
   ]
  },
  {
   "cell_type": "code",
   "execution_count": null,
   "id": "fa2c790d",
   "metadata": {},
   "outputs": [],
   "source": []
  },
  {
   "cell_type": "code",
   "execution_count": 9,
   "id": "ce5d51d4-8e2e-45cd-99e8-87096679005b",
   "metadata": {},
   "outputs": [
    {
     "data": {
      "image/png": "[encoded data removed]",
      "text/plain": [
       "Graphics object consisting of 1 graphics primitive"
      ]
     },
     "execution_count": 9,
     "metadata": {},
     "output_type": "execute_result"
    }
   ],
   "source": [
    "\n",
    "plot(x^10 - 3*x -10,-1,1)\n"
   ]
  },
  {
   "cell_type": "code",
   "execution_count": 10,
   "id": "701a458d",
   "metadata": {},
   "outputs": [
    {
     "data": {
      "text/html": [
       "<html>\\(\\displaystyle x^{5} + x + 5 = 0\\)</html>"
      ],
      "text/latex": [
       "$\\displaystyle x^{5} + x + 5 = 0$"
      ],
      "text/plain": [
       "x^5 + x + 5 == 0"
      ]
     },
     "metadata": {},
     "output_type": "display_data"
    },
    {
     "data": {
      "image/png": "[encoded data removed]",
      "text/plain": [
       "Graphics object consisting of 1 graphics primitive"
      ]
     },
     "execution_count": 10,
     "metadata": {},
     "output_type": "execute_result"
    }
   ],
   "source": [
    "show(x^5+x+5==0)\n",
    "plot(x^5+x+5==0,-2,2)\n"
   ]
  },
  {
   "cell_type": "code",
   "execution_count": 11,
   "id": "25f0a99d",
   "metadata": {},
   "outputs": [
    {
     "data": {
      "text/html": [
       "<html>\\(\\displaystyle \\left[\\right]\\)</html>"
      ],
      "text/latex": [
       "$\\displaystyle \\left[\\right]$"
      ],
      "text/plain": [
       "[]"
      ]
     },
     "execution_count": 11,
     "metadata": {},
     "output_type": "execute_result"
    },
    {
     "data": {
      "text/html": [
       "<html>\\(\\displaystyle -1.2991527921900519\\)</html>"
      ],
      "text/latex": [
       "$\\displaystyle -1.2991527921900519$"
      ],
      "text/plain": [
       "-1.2991527921900519"
      ]
     },
     "execution_count": 11,
     "metadata": {},
     "output_type": "execute_result"
    }
   ],
   "source": [
    "solve(x^5+x+5==0,x, explicit_solutions=True)\n",
    "find_root(x^5+x+5==0,-10,10)"
   ]
  },
  {
   "cell_type": "code",
   "execution_count": 12,
   "id": "5394fc20",
   "metadata": {},
   "outputs": [
    {
     "data": {
      "text/html": [
       "<html>\\(\\displaystyle 16 \\, x^{4} \\sin\\left(x^{2}\\right) - 48 \\, x^{2} \\cos\\left(x^{2}\\right) - 12 \\, \\sin\\left(x^{2}\\right)\\)</html>"
      ],
      "text/latex": [
       "$\\displaystyle 16 \\, x^{4} \\sin\\left(x^{2}\\right) - 48 \\, x^{2} \\cos\\left(x^{2}\\right) - 12 \\, \\sin\\left(x^{2}\\right)$"
      ],
      "text/plain": [
       "16*x^4*sin(x^2) - 48*x^2*cos(x^2) - 12*sin(x^2)"
      ]
     },
     "metadata": {},
     "output_type": "display_data"
    }
   ],
   "source": [
    "show(diff(sin(x^2), x, 4))"
   ]
  },
  {
   "cell_type": "code",
   "execution_count": 13,
   "id": "dee72475",
   "metadata": {},
   "outputs": [
    {
     "data": {
      "text/html": [
       "<html>\\(\\displaystyle -\\frac{1}{2} \\, \\cos\\left(x^{2}\\right)\\)</html>"
      ],
      "text/latex": [
       "$\\displaystyle -\\frac{1}{2} \\, \\cos\\left(x^{2}\\right)$"
      ],
      "text/plain": [
       "-1/2*cos(x^2)"
      ]
     },
     "metadata": {},
     "output_type": "display_data"
    },
    {
     "data": {
      "text/html": [
       "<html>\\(\\displaystyle \\frac{1}{2} \\, \\log\\left(2\\right)\\)</html>"
      ],
      "text/latex": [
       "$\\displaystyle \\frac{1}{2} \\, \\log\\left(2\\right)$"
      ],
      "text/plain": [
       "1/2*log(2)"
      ]
     },
     "metadata": {},
     "output_type": "display_data"
    }
   ],
   "source": [
    "show(integral(x*sin(x^2), x))\n",
    "show(integral(x/(x^2+1), x, 0, 1))"
   ]
  },
  {
   "cell_type": "code",
   "execution_count": 14,
   "id": "85b1b255",
   "metadata": {},
   "outputs": [
    {
     "data": {
      "image/png": "[encoded data removed]",
      "text/plain": [
       "Graphics object consisting of 1 graphics primitive"
      ]
     },
     "execution_count": 14,
     "metadata": {},
     "output_type": "execute_result"
    },
    {
     "data": {
      "image/png": "[encoded data removed]",
      "text/plain": [
       "Graphics object consisting of 1 graphics primitive"
      ]
     },
     "execution_count": 14,
     "metadata": {},
     "output_type": "execute_result"
    }
   ],
   "source": [
    "circle((0,0), 1, rgbcolor=(1,1,0))\n",
    "plot(cos, (-5,5))"
   ]
  },
  {
   "cell_type": "code",
   "execution_count": 15,
   "id": "0fe47532",
   "metadata": {},
   "outputs": [
    {
     "data": {
      "text/html": [
       "<html>\\(\\displaystyle 7.853981633974491\\)</html>"
      ],
      "text/latex": [
       "$\\displaystyle 7.853981633974491$"
      ],
      "text/plain": [
       "7.853981633974491"
      ]
     },
     "execution_count": 15,
     "metadata": {},
     "output_type": "execute_result"
    }
   ],
   "source": [
    "find_root(cos, -10, 10)"
   ]
  },
  {
   "cell_type": "code",
   "execution_count": 16,
   "id": "8a69c34c",
   "metadata": {},
   "outputs": [
    {
     "data": {
      "text/html": [
       "<html>\\(\\displaystyle \\left[-7.853981633974485, -4.712388980384695, -1.5707963267949456, 1.570796326794895, 4.712388980384688, 7.853981633974491\\right]\\)</html>"
      ],
      "text/latex": [
       "$\\displaystyle \\left[-7.853981633974485, -4.712388980384695, -1.5707963267949456, 1.570796326794895, 4.712388980384688, 7.853981633974491\\right]$"
      ],
      "text/plain": [
       "[-7.853981633974485,\n",
       " -4.712388980384695,\n",
       " -1.5707963267949456,\n",
       " 1.570796326794895,\n",
       " 4.712388980384688,\n",
       " 7.853981633974491]"
      ]
     },
     "execution_count": 16,
     "metadata": {},
     "output_type": "execute_result"
    }
   ],
   "source": [
    "find_all_roots(cos, -10, 10)"
   ]
  },
  {
   "cell_type": "code",
   "execution_count": 17,
   "id": "abdae4d4",
   "metadata": {},
   "outputs": [
    {
     "data": {
      "text/html": [
       "<html>\\(\\displaystyle (z - 1.41421356237310) \\cdot (z + 1.41421356237310)\\)</html>"
      ],
      "text/latex": [
       "$\\displaystyle (z - 1.41421356237310) \\cdot (z + 1.41421356237310)$"
      ],
      "text/plain": [
       "(z - 1.41421356237310) * (z + 1.41421356237310)"
      ]
     },
     "execution_count": 17,
     "metadata": {},
     "output_type": "execute_result"
    }
   ],
   "source": [
    "realpoly.<z> = PolynomialRing(RR)\n",
    "factor(z^2-2)"
   ]
  },
  {
   "cell_type": "code",
   "execution_count": 18,
   "id": "37b75d41",
   "metadata": {},
   "outputs": [
    {
     "data": {
      "text/html": [
       "<html>\\(\\displaystyle \\left[\\left(6.72502395887258, 1\\right)\\right]\\)</html>"
      ],
      "text/latex": [
       "$\\displaystyle \\left[\\left(6.72502395887258, 1\\right)\\right]$"
      ],
      "text/plain": [
       "[(6.72502395887258, 1)]"
      ]
     },
     "execution_count": 18,
     "metadata": {},
     "output_type": "execute_result"
    }
   ],
   "source": [
    "car = x^5-5*x^4-10*x^3-10*x^2-5*x-1\n",
    "car.roots(ring=RR)"
   ]
  },
  {
   "cell_type": "code",
   "execution_count": 19,
   "id": "49df70d4",
   "metadata": {},
   "outputs": [
    {
     "data": {
      "text/html": [
       "<html>\\(\\displaystyle \\left[\\left(-0.696042182195589, 1\\right)\\right]\\)</html>"
      ],
      "text/latex": [
       "$\\displaystyle \\left[\\left(-0.696042182195589, 1\\right)\\right]$"
      ],
      "text/plain": [
       "[(-0.696042182195589, 1)]"
      ]
     },
     "execution_count": 19,
     "metadata": {},
     "output_type": "execute_result"
    }
   ],
   "source": [
    "car = x^10-5*x^23-10*x^12-10*x^14-52*x^13-x-1\n",
    "car.roots(ring=RR)"
   ]
  },
  {
   "cell_type": "code",
   "execution_count": 20,
   "id": "ae16d429",
   "metadata": {},
   "outputs": [
    {
     "data": {
      "text/html": [
       "<html>\\(\\displaystyle \\left[\\right]\\)</html>"
      ],
      "text/latex": [
       "$\\displaystyle \\left[\\right]$"
      ],
      "text/plain": [
       "[]"
      ]
     },
     "execution_count": 20,
     "metadata": {},
     "output_type": "execute_result"
    }
   ],
   "source": [
    "assume(x, \"real\")\n",
    "solve(x^10-5*x^23-10*x^12-10*x^14-52*x^13-x-1,x, explicit_solutions=True)"
   ]
  },
  {
   "cell_type": "code",
   "execution_count": 21,
   "id": "c9ec35d0",
   "metadata": {},
   "outputs": [
    {
     "data": {
      "text/html": [
       "<html>\\(\\displaystyle \\left[x = \\left(-0.696042216358839\\right)\\right]\\)</html>"
      ],
      "text/latex": [
       "$\\displaystyle \\left[x = \\left(-0.696042216358839\\right)\\right]$"
      ],
      "text/plain": [
       "[x == -0.696042216358839]"
      ]
     },
     "execution_count": 21,
     "metadata": {},
     "output_type": "execute_result"
    }
   ],
   "source": [
    "assume(x, \"real\")\n",
    "solve(x^10-5*x^23-10*x^12-10*x^14-52*x^13-x-1,x, explicit_solutions=True, to_poly_solve=True)"
   ]
  },
  {
   "cell_type": "code",
   "execution_count": 22,
   "id": "82783003",
   "metadata": {},
   "outputs": [
    {
     "data": {
      "text/html": [
       "<html>\\(\\displaystyle \\left[\\verb|Line2D(_child0)|\\right]\\)</html>"
      ],
      "text/latex": [
       "$\\displaystyle \\left[\\verb|Line2D(_child0)|\\right]$"
      ],
      "text/plain": [
       "[<matplotlib.lines.Line2D object at 0x7fc096db7050>]"
      ]
     },
     "execution_count": 22,
     "metadata": {},
     "output_type": "execute_result"
    },
    {
     "data": {
      "text/html": [
       "<html>\\(\\displaystyle \\verb|Text(0,|\\verb| |\\verb|0.5,|\\verb| |\\verb|'some|\\verb| |\\verb|numbers')|\\)</html>"
      ],
      "text/latex": [
       "$\\displaystyle \\verb|Text(0,|\\verb| |\\verb|0.5,|\\verb| |\\verb|'some|\\verb| |\\verb|numbers')|$"
      ],
      "text/plain": [
       "Text(0, 0.5, 'some numbers')"
      ]
     },
     "execution_count": 22,
     "metadata": {},
     "output_type": "execute_result"
    },
    {
     "data": {
      "image/png": "[encoded data removed]",
      "text/plain": [
       "<Figure size 640x480 with 1 Axes>"
      ]
     },
     "metadata": {},
     "output_type": "display_data"
    }
   ],
   "source": [
    "import matplotlib.pyplot as plt\n",
    "\n",
    "plt.plot([1, 2, 3, 4])\n",
    "plt.ylabel('some numbers')\n",
    "plt.show()"
   ]
  },
  {
   "cell_type": "code",
   "execution_count": 23,
   "id": "c7f61959",
   "metadata": {},
   "outputs": [
    {
     "data": {
      "text/html": [
       "<html>\\(\\displaystyle \\frac{1}{5 \\, x}\\)</html>"
      ],
      "text/latex": [
       "$\\displaystyle \\frac{1}{5 \\, x}$"
      ],
      "text/plain": [
       "1/5/x"
      ]
     },
     "execution_count": 23,
     "metadata": {},
     "output_type": "execute_result"
    },
    {
     "data": {
      "text/html": [
       "<html>\\(\\displaystyle \\frac{1}{5} \\, x\\)</html>"
      ],
      "text/latex": [
       "$\\displaystyle \\frac{1}{5} \\, x$"
      ],
      "text/plain": [
       "1/5*x"
      ]
     },
     "execution_count": 23,
     "metadata": {},
     "output_type": "execute_result"
    }
   ],
   "source": [
    "5*x/(25*x^2)\n",
    "5*x^2/(25*x)"
   ]
  },
  {
   "cell_type": "code",
   "execution_count": 24,
   "id": "4ec18851",
   "metadata": {},
   "outputs": [
    {
     "data": {
      "text/html": [
       "<html>\\(\\displaystyle 5\\)</html>"
      ],
      "text/latex": [
       "$\\displaystyle 5$"
      ],
      "text/plain": [
       "5"
      ]
     },
     "execution_count": 24,
     "metadata": {},
     "output_type": "execute_result"
    }
   ],
   "source": [
    "3+2"
   ]
  },
  {
   "cell_type": "code",
   "execution_count": 25,
   "id": "6f178aae",
   "metadata": {},
   "outputs": [
    {
     "data": {
      "text/html": [
       "<html>\\(\\displaystyle 1.42857142857143\\)</html>"
      ],
      "text/latex": [
       "$\\displaystyle 1.42857142857143$"
      ],
      "text/plain": [
       "1.42857142857143"
      ]
     },
     "execution_count": 25,
     "metadata": {},
     "output_type": "execute_result"
    }
   ],
   "source": [
    "numerical_approx(20/14)"
   ]
  },
  {
   "cell_type": "code",
   "execution_count": 26,
   "id": "180e9a91",
   "metadata": {},
   "outputs": [
    {
     "data": {
      "text/html": [
       "<html>\\(\\displaystyle 93326215443944152681699238856266700490715968264381621468592963895217599993229915608941463976156518286253697920827223758251185210916864000000000000000000000000\\)</html>"
      ],
      "text/latex": [
       "$\\displaystyle 93326215443944152681699238856266700490715968264381621468592963895217599993229915608941463976156518286253697920827223758251185210916864000000000000000000000000$"
      ],
      "text/plain": [
       "93326215443944152681699238856266700490715968264381621468592963895217599993229915608941463976156518286253697920827223758251185210916864000000000000000000000000"
      ]
     },
     "execution_count": 26,
     "metadata": {},
     "output_type": "execute_result"
    },
    {
     "data": {
      "text/html": [
       "<html>\\(\\displaystyle 2^{97} \\cdot 3^{48} \\cdot 5^{24} \\cdot 7^{16} \\cdot 11^{9} \\cdot 13^{7} \\cdot 17^{5} \\cdot 19^{5} \\cdot 23^{4} \\cdot 29^{3} \\cdot 31^{3} \\cdot 37^{2} \\cdot 41^{2} \\cdot 43^{2} \\cdot 47^{2} \\cdot 53 \\cdot 59 \\cdot 61 \\cdot 67 \\cdot 71 \\cdot 73 \\cdot 79 \\cdot 83 \\cdot 89 \\cdot 97\\)</html>"
      ],
      "text/latex": [
       "$\\displaystyle 2^{97} \\cdot 3^{48} \\cdot 5^{24} \\cdot 7^{16} \\cdot 11^{9} \\cdot 13^{7} \\cdot 17^{5} \\cdot 19^{5} \\cdot 23^{4} \\cdot 29^{3} \\cdot 31^{3} \\cdot 37^{2} \\cdot 41^{2} \\cdot 43^{2} \\cdot 47^{2} \\cdot 53 \\cdot 59 \\cdot 61 \\cdot 67 \\cdot 71 \\cdot 73 \\cdot 79 \\cdot 83 \\cdot 89 \\cdot 97$"
      ],
      "text/plain": [
       "2^97 * 3^48 * 5^24 * 7^16 * 11^9 * 13^7 * 17^5 * 19^5 * 23^4 * 29^3 * 31^3 * 37^2 * 41^2 * 43^2 * 47^2 * 53 * 59 * 61 * 67 * 71 * 73 * 79 * 83 * 89 * 97"
      ]
     },
     "execution_count": 26,
     "metadata": {},
     "output_type": "execute_result"
    }
   ],
   "source": [
    "factorial(100)\n",
    "factor(_)"
   ]
  },
  {
   "cell_type": "code",
   "execution_count": 27,
   "id": "b4933aea",
   "metadata": {},
   "outputs": [
    {
     "data": {
      "text/html": [
       "<html>\\(\\displaystyle 641 \\cdot 6700417\\)</html>"
      ],
      "text/latex": [
       "$\\displaystyle 641 \\cdot 6700417$"
      ],
      "text/plain": [
       "641 * 6700417"
      ]
     },
     "execution_count": 27,
     "metadata": {},
     "output_type": "execute_result"
    }
   ],
   "source": [
    "factor(2^(2^5)+1)"
   ]
  },
  {
   "cell_type": "code",
   "execution_count": 28,
   "id": "53be9035",
   "metadata": {},
   "outputs": [
    {
     "data": {
      "text/html": [
       "<html>\\(\\displaystyle 1\\)</html>"
      ],
      "text/latex": [
       "$\\displaystyle 1$"
      ],
      "text/plain": [
       "1"
      ]
     },
     "execution_count": 28,
     "metadata": {},
     "output_type": "execute_result"
    }
   ],
   "source": [
    "(1+10^50)-10^50"
   ]
  },
  {
   "cell_type": "code",
   "execution_count": 29,
   "id": "57282cbe",
   "metadata": {},
   "outputs": [
    {
     "data": {
      "text/html": [
       "<html>\\(\\displaystyle \\arccos\\left(\\frac{1}{2} \\, \\sqrt{3}\\right)\\)</html>"
      ],
      "text/latex": [
       "$\\displaystyle \\arccos\\left(\\frac{1}{2} \\, \\sqrt{3}\\right)$"
      ],
      "text/plain": [
       "arccos(1/2*sqrt(3))"
      ]
     },
     "execution_count": 29,
     "metadata": {},
     "output_type": "execute_result"
    },
    {
     "data": {
      "text/html": [
       "<html>\\(\\displaystyle \\frac{1}{6} \\, \\pi\\)</html>"
      ],
      "text/latex": [
       "$\\displaystyle \\frac{1}{6} \\, \\pi$"
      ],
      "text/plain": [
       "1/6*pi"
      ]
     },
     "execution_count": 29,
     "metadata": {},
     "output_type": "execute_result"
    },
    {
     "data": {
      "text/html": [
       "<html>\\(\\displaystyle 0.523598775598299\\)</html>"
      ],
      "text/latex": [
       "$\\displaystyle 0.523598775598299$"
      ],
      "text/plain": [
       "0.523598775598299"
      ]
     },
     "execution_count": 29,
     "metadata": {},
     "output_type": "execute_result"
    }
   ],
   "source": [
    "arccos(sin(pi/3))\n",
    "simplify(_)\n",
    "arccos(sin(pi/3)).n()\n"
   ]
  },
  {
   "cell_type": "code",
   "execution_count": 30,
   "id": "dac140ca",
   "metadata": {},
   "outputs": [
    {
     "data": {
      "text/plain": [
       "\u001b[0;31mType:\u001b[0m           Function_sin\n",
       "\u001b[0;31mString form:\u001b[0m    sin\n",
       "\u001b[0;31mFile:\u001b[0m           ~/micromamba/lib/python3.11/site-packages/sage/functions/trig.py\n",
       "\u001b[0;31mDocstring:\u001b[0m     \n",
       "   The sine function.\n",
       "\n",
       "   EXAMPLES:\n",
       "\n",
       "      sage: sin(0)\n",
       "      0\n",
       "      sage: sin(x).subs(x==0)\n",
       "      0\n",
       "      sage: sin(2).n(100)\n",
       "      0.90929742682568169539601986591\n",
       "      sage: sin(x)._sympy_()\n",
       "      sin(x)\n",
       "\n",
       "   We can prevent evaluation using the \"hold\" parameter:\n",
       "\n",
       "      sage: sin(0, hold=True)\n",
       "      sin(0)\n",
       "\n",
       "   To then evaluate again, we currently must use Maxima via\n",
       "   \"sage.symbolic.expression.Expression.simplify()\":\n",
       "\n",
       "      sage: a = sin(0, hold=True); a.simplify()\n",
       "      0\n",
       "\n",
       "   If possible, the argument is also reduced modulo the period length\n",
       "   2\\pi, and well-known identities are directly evaluated:\n",
       "\n",
       "      sage: k = var('k', domain='integer')\n",
       "      sage: sin(1 + 2*k*pi)\n",
       "      sin(1)\n",
       "      sage: sin(k*pi)\n",
       "      0\n",
       "\u001b[0;31mInit docstring:\u001b[0m\n",
       "   The sine function.\n",
       "\n",
       "   EXAMPLES:\n",
       "\n",
       "      sage: sin(0)\n",
       "      0\n",
       "      sage: sin(x).subs(x==0)\n",
       "      0\n",
       "      sage: sin(2).n(100)\n",
       "      0.90929742682568169539601986591\n",
       "      sage: sin(x)._sympy_()\n",
       "      sin(x)\n",
       "\n",
       "   We can prevent evaluation using the \"hold\" parameter:\n",
       "\n",
       "      sage: sin(0, hold=True)\n",
       "      sin(0)\n",
       "\n",
       "   To then evaluate again, we currently must use Maxima via\n",
       "   \"sage.symbolic.expression.Expression.simplify()\":\n",
       "\n",
       "      sage: a = sin(0, hold=True); a.simplify()\n",
       "      0\n",
       "\n",
       "   If possible, the argument is also reduced modulo the period length\n",
       "   2\\pi, and well-known identities are directly evaluated:\n",
       "\n",
       "      sage: k = var('k', domain='integer')\n",
       "      sage: sin(1 + 2*k*pi)\n",
       "      sin(1)\n",
       "      sage: sin(k*pi)\n",
       "      0\n",
       "\u001b[0;31mCall docstring:\u001b[0m\n",
       "   Evaluate this function on the given arguments and return the\n",
       "   result.\n",
       "\n",
       "   EXAMPLES:\n",
       "\n",
       "      sage: exp(5)\n",
       "      e^5\n",
       "      sage: gamma(15)\n",
       "      87178291200\n",
       "\n",
       "   Python float, Python complex, mpmath mpf and mpc as well as numpy\n",
       "   inputs are sent to the relevant \"math\", \"cmath\", \"mpmath\" or\n",
       "   \"numpy\" function:\n",
       "\n",
       "      sage: cos(1.r)\n",
       "      0.5403023058681398\n",
       "      sage: assert type(_) is float\n",
       "      sage: gamma(4.r)\n",
       "      6.0\n",
       "      sage: assert type(_) is float\n",
       "\n",
       "      sage: cos(1jr)  # abstol 1e-15\n",
       "      (1.5430806348152437-0j)\n",
       "      sage: assert type(_) is complex\n",
       "\n",
       "      sage: import mpmath\n",
       "      sage: cos(mpmath.mpf('1.321412'))\n",
       "      mpf('0.24680737898640387')\n",
       "      sage: cos(mpmath.mpc(1,1))\n",
       "      mpc(real='0.83373002513114902', imag='-0.98889770576286506')\n",
       "\n",
       "      sage: import numpy\n",
       "      sage: sin(numpy.int32(0))\n",
       "      0.0\n",
       "      sage: type(_)\n",
       "      <class 'numpy.float64'>"
      ]
     },
     "metadata": {},
     "output_type": "display_data"
    }
   ],
   "source": [
    "sin?"
   ]
  },
  {
   "cell_type": "code",
   "execution_count": 31,
   "id": "a64f406a",
   "metadata": {},
   "outputs": [
    {
     "data": {
      "text/html": [
       "<html>\\(\\displaystyle y\\)</html>"
      ],
      "text/latex": [
       "$\\displaystyle y$"
      ],
      "text/plain": [
       "y"
      ]
     },
     "execution_count": 31,
     "metadata": {},
     "output_type": "execute_result"
    },
    {
     "data": {
      "text/html": [
       "\n",
       "<iframe srcdoc=\"&lt;!DOCTYPE html&gt;\n",
       "&lt;html&gt;\n",
       "&lt;head&gt;\n",
       "&lt;title&gt;&lt;/title&gt;\n",
       "&lt;meta charset=&quot;utf-8&quot;&gt;\n",
       "&lt;meta name=viewport content=&quot;width=device-width, user-scalable=no, minimum-scale=1.0, maximum-scale=1.0&quot;&gt;\n",
       "&lt;style&gt;\n",
       "\n",
       "    body { margin: 0px; overflow: hidden; }\n",
       "\n",
       "    #menu-container { position: absolute; bottom: 30px; right: 40px; cursor: default; }\n",
       "\n",
       "    #menu-message { position: absolute; bottom: 0px; right: 0px; white-space: nowrap;\n",
       "                    display: none; background-color: #F5F5F5; padding: 10px; }\n",
       "\n",
       "    #menu-content { position: absolute; bottom: 0px; right: 0px;\n",
       "                    display: none; background-color: #F5F5F5; border-bottom: 1px solid black;\n",
       "                    border-right: 1px solid black; border-left: 1px solid black; }\n",
       "\n",
       "    #menu-content div { border-top: 1px solid black; padding: 10px; white-space: nowrap; }\n",
       "\n",
       "    #menu-content div:hover { background-color: #FEFEFE; }\n",
       "\n",
       "    .dark-theme #menu-container { color: white; }\n",
       "\n",
       "    .dark-theme #menu-message { background-color: #181818; }\n",
       "\n",
       "    .dark-theme #menu-content { background-color: #181818; border-color: white; }\n",
       "\n",
       "    .dark-theme #menu-content div { border-color: white; }\n",
       "\n",
       "    .dark-theme #menu-content div:hover { background-color: #303030; }\n",
       "\n",
       "&lt;/style&gt;\n",
       "\n",
       "&lt;/head&gt;\n",
       "\n",
       "&lt;body&gt;\n",
       "\n",
       "&lt;script src=&quot;/nbextensions/threejs-sage/r122/three.min.js&quot;&gt;&lt;/script&gt;\n",
       "&lt;script&gt;\n",
       "  if ( !window.THREE ) document.write(&#x27; \\\n",
       "&lt;script src=&quot;https://cdn.jsdelivr.net/gh/sagemath/threejs-sage@r122/build/three.min.js&quot;&gt;&lt;\\/script&gt; \\\n",
       "            &#x27;);\n",
       "&lt;/script&gt;\n",
       "        \n",
       "&lt;script&gt;\n",
       "\n",
       "    var options = {&quot;animate&quot;: false, &quot;animationControls&quot;: true, &quot;aspectRatio&quot;: [1.0, 1.0, 1.0], &quot;autoScaling&quot;: [false, false, false], &quot;autoPlay&quot;: true, &quot;axes&quot;: false, &quot;axesLabels&quot;: [&quot;x&quot;, &quot;y&quot;, &quot;z&quot;], &quot;axesLabelsStyle&quot;: null, &quot;decimals&quot;: 2, &quot;delay&quot;: 20, &quot;frame&quot;: true, &quot;loop&quot;: true, &quot;projection&quot;: &quot;perspective&quot;, &quot;theme&quot;: &quot;light&quot;, &quot;viewpoint&quot;: false};\n",
       "    var animate = options.animate;\n",
       "\n",
       "    if ( options.theme === &#x27;dark&#x27; )\n",
       "        document.body.className = &#x27;dark-theme&#x27;;\n",
       "\n",
       "    var scene = new THREE.Scene();\n",
       "\n",
       "    var renderer = new THREE.WebGLRenderer( { antialias: true, preserveDrawingBuffer: true } );\n",
       "    renderer.setPixelRatio( window.devicePixelRatio );\n",
       "    renderer.setSize( window.innerWidth, window.innerHeight );\n",
       "    renderer.setClearColor( options.theme === &#x27;dark&#x27; ? 0 : 0xffffff, 1 );\n",
       "    document.body.appendChild( renderer.domElement );\n",
       "\n",
       "    var b = [{&quot;x&quot;:-5.0, &quot;y&quot;:-5.0, &quot;z&quot;:-0.6817736703067452}, {&quot;x&quot;:5.0, &quot;y&quot;:5.0, &quot;z&quot;:2.9744484840292196}]; // bounds\n",
       "\n",
       "    if ( b[0].x === b[1].x ) {\n",
       "        b[0].x -= 1;\n",
       "        b[1].x += 1;\n",
       "    }\n",
       "    if ( b[0].y === b[1].y ) {\n",
       "        b[0].y -= 1;\n",
       "        b[1].y += 1;\n",
       "    }\n",
       "    if ( b[0].z === b[1].z ) {\n",
       "        b[0].z -= 1;\n",
       "        b[1].z += 1;\n",
       "    }\n",
       "\n",
       "    var rxRange = Math.sqrt( Math.pow( b[1].z - b[0].z, 2 )\n",
       "                            + Math.pow( b[1].y - b[0].y, 2 ) );\n",
       "    var ryRange = Math.sqrt( Math.pow( b[1].x - b[0].x, 2 )\n",
       "                            + Math.pow( b[1].z - b[0].z, 2 ) );\n",
       "    var rzRange = Math.sqrt( Math.pow( b[1].x - b[0].x, 2 )\n",
       "                            + Math.pow( b[1].y - b[0].y, 2 ) );\n",
       "    var xRange = b[1].x - b[0].x;\n",
       "    var yRange = b[1].y - b[0].y;\n",
       "    var zRange = b[1].z - b[0].z;\n",
       "\n",
       "    var ar = options.aspectRatio;\n",
       "    var a = [ ar[0], ar[1], ar[2] ]; // aspect multipliers\n",
       "\n",
       "    var autoScaling = options.autoScaling;\n",
       "    var autoAspect = 2.5;\n",
       "    if ( xRange &gt; autoAspect * rxRange &amp;&amp; autoScaling[0] ) a[0] = autoAspect * rxRange / xRange;\n",
       "    if ( yRange &gt; autoAspect * ryRange &amp;&amp; autoScaling[1] ) a[1] = autoAspect * ryRange / yRange;\n",
       "    if ( zRange &gt; autoAspect * rzRange &amp;&amp; autoScaling[2] ) a[2] = autoAspect * rzRange / zRange;\n",
       "\n",
       "    // Distance from (xMid,yMid,zMid) to any corner of the bounding box, after applying aspectRatio\n",
       "    var midToCorner = Math.sqrt( a[0]*a[0]*xRange*xRange + a[1]*a[1]*yRange*yRange + a[2]*a[2]*zRange*zRange ) / 2;\n",
       "\n",
       "    var xMid = ( b[0].x + b[1].x ) / 2;\n",
       "    var yMid = ( b[0].y + b[1].y ) / 2;\n",
       "    var zMid = ( b[0].z + b[1].z ) / 2;\n",
       "\n",
       "    var box = new THREE.Geometry();\n",
       "    box.vertices.push( new THREE.Vector3( a[0]*b[0].x, a[1]*b[0].y, a[2]*b[0].z ) );\n",
       "    box.vertices.push( new THREE.Vector3( a[0]*b[1].x, a[1]*b[1].y, a[2]*b[1].z ) );\n",
       "    var boxMesh = new THREE.Line( box );\n",
       "    var boxColor = options.theme === &#x27;dark&#x27; ? &#x27;white&#x27; : &#x27;black&#x27;;\n",
       "    if ( options.frame ) scene.add( new THREE.BoxHelper( boxMesh, boxColor ) );\n",
       "\n",
       "    if ( options.axesLabels ) {\n",
       "\n",
       "        var d = options.decimals; // decimals\n",
       "        var offsetRatio = 0.1;\n",
       "        var al = options.axesLabels;\n",
       "        var als = options.axesLabelsStyle || [{}, {}, {}];\n",
       "\n",
       "        var offset = offsetRatio * a[1]*( b[1].y - b[0].y );\n",
       "        var xm = xMid.toFixed(d);\n",
       "        if ( /^-0.?0*$/.test(xm) ) xm = xm.substr(1);\n",
       "        addLabel( al[0] + &#x27;=&#x27; + xm, a[0]*xMid, a[1]*b[1].y+offset, a[2]*b[0].z, als[0] );\n",
       "        addLabel( ( b[0].x ).toFixed(d), a[0]*b[0].x, a[1]*b[1].y+offset, a[2]*b[0].z, als[0] );\n",
       "        addLabel( ( b[1].x ).toFixed(d), a[0]*b[1].x, a[1]*b[1].y+offset, a[2]*b[0].z, als[0] );\n",
       "\n",
       "        var offset = offsetRatio * a[0]*( b[1].x - b[0].x );\n",
       "        var ym = yMid.toFixed(d);\n",
       "        if ( /^-0.?0*$/.test(ym) ) ym = ym.substr(1);\n",
       "        addLabel( al[1] + &#x27;=&#x27; + ym, a[0]*b[1].x+offset, a[1]*yMid, a[2]*b[0].z, als[1] );\n",
       "        addLabel( ( b[0].y ).toFixed(d), a[0]*b[1].x+offset, a[1]*b[0].y, a[2]*b[0].z, als[1] );\n",
       "        addLabel( ( b[1].y ).toFixed(d), a[0]*b[1].x+offset, a[1]*b[1].y, a[2]*b[0].z, als[1] );\n",
       "\n",
       "        var offset = offsetRatio * a[1]*( b[1].y - b[0].y );\n",
       "        var zm = zMid.toFixed(d);\n",
       "        if ( /^-0.?0*$/.test(zm) ) zm = zm.substr(1);\n",
       "        addLabel( al[2] + &#x27;=&#x27; + zm, a[0]*b[1].x, a[1]*b[0].y-offset, a[2]*zMid, als[2] );\n",
       "        addLabel( ( b[0].z ).toFixed(d), a[0]*b[1].x, a[1]*b[0].y-offset, a[2]*b[0].z, als[2] );\n",
       "        addLabel( ( b[1].z ).toFixed(d), a[0]*b[1].x, a[1]*b[0].y-offset, a[2]*b[1].z, als[2] );\n",
       "\n",
       "    }\n",
       "\n",
       "    function addLabel( text, x, y, z, style ) {\n",
       "\n",
       "        var color = style.color || &#x27;black&#x27;;\n",
       "        var fontSize = style.fontSize || 14;\n",
       "        var fontFamily = style.fontFamily || &#x27;monospace&#x27;;\n",
       "        var fontStyle = style.fontStyle || &#x27;normal&#x27;;\n",
       "        var fontWeight = style.fontWeight || &#x27;normal&#x27;;\n",
       "        var opacity = style.opacity || 1;\n",
       "\n",
       "        if ( options.theme === &#x27;dark&#x27; )\n",
       "            if ( color === &#x27;black&#x27; || color === &#x27;#000000&#x27; )\n",
       "                color = &#x27;white&#x27;;\n",
       "\n",
       "        if ( Array.isArray( fontStyle ) ) {\n",
       "            fontFamily = fontFamily.map( function( f ) {\n",
       "                // Need to put quotes around fonts that have whitespace in their names.\n",
       "                return /\\s/.test( f ) ? &#x27;&quot;&#x27; + f + &#x27;&quot;&#x27; : f;\n",
       "            }).join(&#x27;, &#x27;);\n",
       "        }\n",
       "\n",
       "        var canvas = document.createElement( &#x27;canvas&#x27; );\n",
       "        var context = canvas.getContext( &#x27;2d&#x27; );\n",
       "        var pixelRatio = Math.round( window.devicePixelRatio );\n",
       "\n",
       "        // For example: italic bold 20px &quot;Times New Roman&quot;, Georgia, serif\n",
       "        var font = [fontStyle, fontWeight, fontSize + &#x27;px&#x27;, fontFamily].join(&#x27; &#x27;);\n",
       "\n",
       "        context.font = font;\n",
       "        var width = context.measureText( text ).width;\n",
       "        var height = fontSize;\n",
       "\n",
       "        // The dimensions of the canvas&#x27;s underlying image data need to be powers\n",
       "        // of two in order for the resulting texture to support mipmapping.\n",
       "        canvas.width = THREE.MathUtils.ceilPowerOfTwo( width * pixelRatio );\n",
       "        canvas.height = THREE.MathUtils.ceilPowerOfTwo( height * pixelRatio );\n",
       "\n",
       "        // Re-compute the unscaled dimensions after the power of two conversion.\n",
       "        width = canvas.width / pixelRatio;\n",
       "        height = canvas.height / pixelRatio;\n",
       "\n",
       "        canvas.style.width = width + &#x27;px&#x27;;\n",
       "        canvas.style.height = height + &#x27;px&#x27;;\n",
       "\n",
       "        context.scale( pixelRatio, pixelRatio );\n",
       "        context.fillStyle = color;\n",
       "        context.font = font; // Must be set again after measureText.\n",
       "        context.textAlign = &#x27;center&#x27;;\n",
       "        context.textBaseline = &#x27;middle&#x27;;\n",
       "        context.fillText( text, width/2, height/2 );\n",
       "\n",
       "        var texture = new THREE.Texture( canvas );\n",
       "        texture.needsUpdate = true;\n",
       "\n",
       "        var materialOptions = { map: texture, sizeAttenuation: false, depthWrite: false };\n",
       "        if ( opacity &lt; 1 ) {\n",
       "            // Setting opacity=1 would cause the texture&#x27;s alpha component to be\n",
       "            // discarded, giving the text a black background instead of the\n",
       "            // background being transparent.\n",
       "            materialOptions.opacity = opacity;\n",
       "        }\n",
       "        var sprite = new THREE.Sprite( new THREE.SpriteMaterial( materialOptions ) );\n",
       "        sprite.position.set( x, y, z );\n",
       "\n",
       "        // Scaling factor, chosen somewhat arbitrarily so that the size of the text\n",
       "        // is consistent with previously generated plots.\n",
       "        var scale = 1/625;\n",
       "        if ( options.projection === &#x27;orthographic&#x27; ) {\n",
       "            scale = midToCorner/256; // Needs to scale along with the plot itself.\n",
       "        }\n",
       "        sprite.scale.set( scale * width, scale * height, 1 );\n",
       "\n",
       "        scene.add( sprite );\n",
       "\n",
       "        return sprite;\n",
       "\n",
       "    }\n",
       "\n",
       "    if ( options.axes ) scene.add( new THREE.AxesHelper( Math.min( a[0]*b[1].x, a[1]*b[1].y, a[2]*b[1].z ) ) );\n",
       "\n",
       "    var camera = createCamera();\n",
       "    camera.up.set( 0, 0, 1 );\n",
       "    camera.position.set( a[0]*xMid, a[1]*yMid, a[2]*zMid );\n",
       "\n",
       "    // camera is positioned so that the line from the camera to the center\n",
       "    // of the bounding sphere of the objects makes an angle of 60 degrees with x-axis\n",
       "    // and an angle of 30 degrees with z-axis and the field of view of the camera looking\n",
       "    // at the center has an angle of 45 degrees.\n",
       "    const sin8 = Math.sin(Math.PI / 8);\n",
       "    const sin5 = Math.sin(Math.PI / 5);\n",
       "    const cos5 = Math.cos(Math.PI / 5);\n",
       "    const sin3 = Math.sin(Math.PI / 3);\n",
       "    const cos3 = Math.cos(Math.PI / 3);\n",
       "    var r = midToCorner / sin8;\n",
       "    var offset = new THREE.Vector3( r * sin3 * cos5, r * sin3 * sin5, r * cos3 );\n",
       "\n",
       "    if ( options.viewpoint ) {\n",
       "\n",
       "        var aa = options.viewpoint;\n",
       "        var axis = new THREE.Vector3( aa[0][0], aa[0][1], aa[0][2] ).normalize();\n",
       "        var angle = aa[1] * Math.PI / 180;\n",
       "        var q = new THREE.Quaternion().setFromAxisAngle( axis, angle ).inverse();\n",
       "\n",
       "        offset.set( 0, 0, offset.length() );\n",
       "        offset.applyQuaternion( q );\n",
       "\n",
       "    }\n",
       "\n",
       "    camera.position.add( offset );\n",
       "\n",
       "    function createCamera() {\n",
       "\n",
       "        var aspect = window.innerWidth / window.innerHeight;\n",
       "\n",
       "        // Scale the near and far clipping planes along with the overall plot size.\n",
       "        var nearClip = 0.01 * midToCorner;\n",
       "        var farClip = 100 * midToCorner;\n",
       "\n",
       "        if ( options.projection === &#x27;orthographic&#x27; ) {\n",
       "            var camera = new THREE.OrthographicCamera( -1, 1, 1, -1, -farClip, farClip );\n",
       "            updateCameraAspect( camera, aspect );\n",
       "            return camera;\n",
       "        }\n",
       "\n",
       "        return new THREE.PerspectiveCamera( 45, aspect, nearClip, farClip );\n",
       "\n",
       "    }\n",
       "\n",
       "    function updateCameraAspect( camera, aspect ) {\n",
       "\n",
       "        if ( camera.isPerspectiveCamera ) {\n",
       "            camera.aspect = aspect;\n",
       "        } else if ( camera.isOrthographicCamera ) {\n",
       "            // Fit the camera frustum to the bounding box&#x27;s diagonal so that the entire plot fits\n",
       "            // within at the default zoom level and camera position.\n",
       "            if ( aspect &gt; 1 ) { // Wide window\n",
       "                camera.top = midToCorner;\n",
       "                camera.right = midToCorner * aspect;\n",
       "            } else { // Tall or square window\n",
       "                camera.top = midToCorner / aspect;\n",
       "                camera.right = midToCorner;\n",
       "            }\n",
       "            camera.bottom = -camera.top;\n",
       "            camera.left = -camera.right;\n",
       "        }\n",
       "\n",
       "        camera.updateProjectionMatrix();\n",
       "\n",
       "    }\n",
       "\n",
       "    var lights = [{&quot;x&quot;:-5, &quot;y&quot;:3, &quot;z&quot;:0, &quot;color&quot;:&quot;#7f7f7f&quot;, &quot;parent&quot;:&quot;camera&quot;}];\n",
       "    for ( var i=0 ; i &lt; lights.length ; i++ ) {\n",
       "        var light = new THREE.DirectionalLight( lights[i].color, 1 );\n",
       "        light.position.set( a[0]*lights[i].x, a[1]*lights[i].y, a[2]*lights[i].z );\n",
       "        if ( lights[i].parent === &#x27;camera&#x27; ) {\n",
       "            light.target.position.set( a[0]*xMid, a[1]*yMid, a[2]*zMid );\n",
       "            scene.add( light.target );\n",
       "            camera.add( light );\n",
       "        } else scene.add( light );\n",
       "    }\n",
       "    scene.add( camera );\n",
       "\n",
       "    var ambient = {&quot;color&quot;:&quot;#7f7f7f&quot;};\n",
       "    scene.add( new THREE.AmbientLight( ambient.color, 1 ) );\n",
       "\n",
       "    var controls = new THREE.OrbitControls( camera, renderer.domElement );\n",
       "    controls.target.set( a[0]*xMid, a[1]*yMid, a[2]*zMid );\n",
       "    controls.addEventListener( &#x27;change&#x27;, function() { if ( !animate ) render(); } );\n",
       "\n",
       "    window.addEventListener( &#x27;resize&#x27;, function() {\n",
       "\n",
       "        renderer.setSize( window.innerWidth, window.innerHeight );\n",
       "        updateCameraAspect( camera, window.innerWidth / window.innerHeight );\n",
       "        if ( window.rescaleFatLines ) rescaleFatLines();\n",
       "        if ( !animate ) render();\n",
       "\n",
       "    } );\n",
       "\n",
       "    var texts = [];\n",
       "    for ( var i=0 ; i &lt; texts.length ; i++ ) addText( texts[i] );\n",
       "\n",
       "    function addText( json ) {\n",
       "        var sprite = addLabel( json.text, a[0]*json.x, a[1]*json.y, a[2]*json.z, json );\n",
       "        sprite.userData = json;\n",
       "    }\n",
       "\n",
       "    var points = [];\n",
       "    for ( var i=0 ; i &lt; points.length ; i++ ) addPoint( points[i] );\n",
       "\n",
       "    function addPoint( json ) {\n",
       "\n",
       "        var geometry = new THREE.Geometry();\n",
       "        var v = json.point;\n",
       "        geometry.vertices.push( new THREE.Vector3( a[0]*v[0], a[1]*v[1], a[2]*v[2] ) );\n",
       "\n",
       "        var canvas = document.createElement( &#x27;canvas&#x27; );\n",
       "        canvas.width = 128;\n",
       "        canvas.height = 128;\n",
       "\n",
       "        var context = canvas.getContext( &#x27;2d&#x27; );\n",
       "        context.arc( 64, 64, 64, 0, 2 * Math.PI );\n",
       "        context.fillStyle = json.color;\n",
       "        context.fill();\n",
       "\n",
       "        var texture = new THREE.Texture( canvas );\n",
       "        texture.needsUpdate = true;\n",
       "\n",
       "        var transparent = json.opacity &lt; 1 ? true : false;\n",
       "        var size = camera.isOrthographicCamera ? json.size : json.size/100;\n",
       "        var material = new THREE.PointsMaterial( { size: size, map: texture,\n",
       "                                                   transparent: transparent, opacity: json.opacity,\n",
       "                                                   alphaTest: .1 } );\n",
       "\n",
       "        var c = new THREE.Vector3();\n",
       "        geometry.computeBoundingBox();\n",
       "        geometry.boundingBox.getCenter( c );\n",
       "        geometry.translate( -c.x, -c.y, -c.z );\n",
       "\n",
       "        var mesh = new THREE.Points( geometry, material );\n",
       "        mesh.position.set( c.x, c.y, c.z );\n",
       "        mesh.userData = json;\n",
       "        scene.add( mesh );\n",
       "\n",
       "    }\n",
       "\n",
       "    var lines = [];\n",
       "    for ( var i=0 ; i &lt; lines.length ; i++ ) addLine( lines[i] );\n",
       "\n",
       "    function addLine( json ) {\n",
       "\n",
       "        var geometry = new THREE.Geometry();\n",
       "        for ( var i=0 ; i &lt; json.points.length ; i++ ) {\n",
       "            var v = json.points[i];\n",
       "            geometry.vertices.push( new THREE.Vector3( a[0]*v[0], a[1]*v[1], a[2]*v[2] ) );\n",
       "        }\n",
       "\n",
       "        var c = new THREE.Vector3();\n",
       "        geometry.computeBoundingBox();\n",
       "        geometry.boundingBox.getCenter( c );\n",
       "        geometry.translate( -c.x, -c.y, -c.z );\n",
       "\n",
       "        var transparent = json.opacity &lt; 1 ? true : false;\n",
       "        var materialOptions = { color: json.color, linewidth: json.linewidth,\n",
       "                                transparent: transparent, opacity: json.opacity };\n",
       "\n",
       "        var mesh;\n",
       "        if ( json.linewidth &gt; 1 &amp;&amp; window.createFatLineStrip ) {\n",
       "            mesh = createFatLineStrip( geometry, materialOptions );\n",
       "        } else {\n",
       "            var material = new THREE.LineBasicMaterial( materialOptions );\n",
       "            mesh = new THREE.Line( geometry, material );\n",
       "        }\n",
       "\n",
       "        mesh.position.set( c.x, c.y, c.z );\n",
       "        mesh.userData = json;\n",
       "        scene.add( mesh );\n",
       "\n",
       "    }\n",
       "\n",
       "    var surfaces = [{&quot;vertices&quot;: [{&quot;x&quot;: -5.0, &quot;y&quot;: -5.0, &quot;z&quot;: -0.0313129294284152}, {&quot;x&quot;: -5.0, &quot;y&quot;: -4.743589743589744, &quot;z&quot;: 0.048227962291181654}, {&quot;x&quot;: -4.743589743589744, &quot;y&quot;: -4.743589743589744, &quot;z&quot;: 0.11822884542066826}, {&quot;x&quot;: -4.743589743589744, &quot;y&quot;: -5.0, &quot;z&quot;: 0.048227962291181654}, {&quot;x&quot;: -5.0, &quot;y&quot;: -4.487179487179487, &quot;z&quot;: 0.11521187545903297}, {&quot;x&quot;: -4.743589743589744, &quot;y&quot;: -4.487179487179487, &quot;z&quot;: 0.1524831544527441}, {&quot;x&quot;: -5.0, &quot;y&quot;: -4.230769230769231, &quot;z&quot;: 0.15081521418190952}, {&quot;x&quot;: -4.743589743589744, &quot;y&quot;: -4.230769230769231, &quot;z&quot;: 0.14154019801168846}, {&quot;x&quot;: -5.0, &quot;y&quot;: -3.9743589743589745, &quot;z&quot;: 0.14682584206330213}, {&quot;x&quot;: -4.743589743589744, &quot;y&quot;: -3.9743589743589745, &quot;z&quot;: 0.09018446536478245}, {&quot;x&quot;: -5.0, &quot;y&quot;: -3.717948717948718, &quot;z&quot;: 0.10644610198224208}, {&quot;x&quot;: -4.743589743589744, &quot;y&quot;: -3.717948717948718, &quot;z&quot;: 0.014059422915529975}, {&quot;x&quot;: -5.0, &quot;y&quot;: -3.4615384615384617, &quot;z&quot;: 0.04154590892184195}, {&quot;x&quot;: -4.743589743589744, &quot;y&quot;: -3.4615384615384617, &quot;z&quot;: -0.06650034951626861}, {&quot;x&quot;: -5.0, &quot;y&quot;: -3.2051282051282053, &quot;z&quot;: -0.03202070671104091}, {&quot;x&quot;: -4.743589743589744, &quot;y&quot;: -3.2051282051282053, &quot;z&quot;: -0.1328596087593443}, {&quot;x&quot;: -5.0, &quot;y&quot;: -2.948717948717949, &quot;z&quot;: -0.09917570405967141}, {&quot;x&quot;: -4.743589743589744, &quot;y&quot;: -2.948717948717949, &quot;z&quot;: -0.17263493054486226}, {&quot;x&quot;: -5.0, &quot;y&quot;: -2.6923076923076925, &quot;z&quot;: -0.1490423765968959}, {&quot;x&quot;: -4.743589743589744, &quot;y&quot;: -2.6923076923076925, &quot;z&quot;: -0.181458747260568}, {&quot;x&quot;: -5.0, &quot;y&quot;: -2.435897435897436, &quot;z&quot;: -0.17642014222082292}, {&quot;x&quot;: -4.743589743589744, &quot;y&quot;: -2.435897435897436, &quot;z&quot;: -0.1621512332779497}, {&quot;x&quot;: -5.0, &quot;y&quot;: -2.1794871794871797, &quot;z&quot;: -0.181458747260568}, {&quot;x&quot;: -4.743589743589744, &quot;y&quot;: -2.1794871794871797, &quot;z&quot;: -0.12225553877823543}, {&quot;x&quot;: -5.0, &quot;y&quot;: -1.9230769230769234, &quot;z&quot;: -0.1681651388148705}, {&quot;x&quot;: -4.743589743589744, &quot;y&quot;: -1.9230769230769234, &quot;z&quot;: -0.07110861736368898}, {&quot;x&quot;: -5.0, &quot;y&quot;: -1.666666666666667, &quot;z&quot;: -0.14250583708975548}, {&quot;x&quot;: -4.743589743589744, &quot;y&quot;: -1.666666666666667, &quot;z&quot;: -0.01738852540015784}, {&quot;x&quot;: -5.0, &quot;y&quot;: -1.4102564102564106, &quot;z&quot;: -0.11072072650585248}, {&quot;x&quot;: -4.743589743589744, &quot;y&quot;: -1.4102564102564106, &quot;z&quot;: 0.032372655749033356}, {&quot;x&quot;: -5.0, &quot;y&quot;: -1.1538461538461542, &quot;z&quot;: -0.07818654606831722}, {&quot;x&quot;: -4.743589743589744, &quot;y&quot;: -1.1538461538461542, &quot;z&quot;: 0.07426425040162632}, {&quot;x&quot;: -5.0, &quot;y&quot;: -0.8974358974358978, &quot;z&quot;: -0.0488961793689263}, {&quot;x&quot;: -4.743589743589744, &quot;y&quot;: -0.8974358974358978, &quot;z&quot;: 0.10670645293645792}, {&quot;x&quot;: -5.0, &quot;y&quot;: -0.6410256410256414, &quot;z&quot;: -0.025434298774036877}, {&quot;x&quot;: -4.743589743589744, &quot;y&quot;: -0.6410256410256414, &quot;z&quot;: 0.12974477006536764}, {&quot;x&quot;: -5.0, &quot;y&quot;: -0.384615384615385, &quot;z&quot;: -0.009250285950514308}, {&quot;x&quot;: -4.743589743589744, &quot;y&quot;: -0.384615384615385, &quot;z&quot;: 0.1442431853958254}, {&quot;x&quot;: -5.0, &quot;y&quot;: -0.12820512820512864, &quot;z&quot;: -0.0010322256552946847}, {&quot;x&quot;: -4.743589743589744, &quot;y&quot;: -0.12820512820512864, &quot;z&quot;: 0.1511851284353025}, {&quot;x&quot;: -5.0, &quot;y&quot;: 0.12820512820512775, &quot;z&quot;: -0.0010322256552946847}, {&quot;x&quot;: -4.743589743589744, &quot;y&quot;: 0.12820512820512775, &quot;z&quot;: 0.1511851284353025}, {&quot;x&quot;: -5.0, &quot;y&quot;: 0.38461538461538414, &quot;z&quot;: -0.009250285950514308}, {&quot;x&quot;: -4.743589743589744, &quot;y&quot;: 0.38461538461538414, &quot;z&quot;: 0.1442431853958254}, {&quot;x&quot;: -5.0, &quot;y&quot;: 0.6410256410256405, &quot;z&quot;: -0.025434298774036877}, {&quot;x&quot;: -4.743589743589744, &quot;y&quot;: 0.6410256410256405, &quot;z&quot;: 0.12974477006536764}, {&quot;x&quot;: -5.0, &quot;y&quot;: 0.8974358974358969, &quot;z&quot;: -0.0488961793689263}, {&quot;x&quot;: -4.743589743589744, &quot;y&quot;: 0.8974358974358969, &quot;z&quot;: 0.10670645293645792}, {&quot;x&quot;: -5.0, &quot;y&quot;: 1.1538461538461533, &quot;z&quot;: -0.07818654606831722}, {&quot;x&quot;: -4.743589743589744, &quot;y&quot;: 1.1538461538461533, &quot;z&quot;: 0.07426425040162632}, {&quot;x&quot;: -5.0, &quot;y&quot;: 1.4102564102564097, &quot;z&quot;: -0.11072072650585248}, {&quot;x&quot;: -4.743589743589744, &quot;y&quot;: 1.4102564102564097, &quot;z&quot;: 0.032372655749034064}, {&quot;x&quot;: -5.0, &quot;y&quot;: 1.666666666666666, &quot;z&quot;: -0.14250583708975548}, {&quot;x&quot;: -4.743589743589744, &quot;y&quot;: 1.666666666666666, &quot;z&quot;: -0.01738852540015784}, {&quot;x&quot;: -5.0, &quot;y&quot;: 1.9230769230769225, &quot;z&quot;: -0.16816513881487025}, {&quot;x&quot;: -4.743589743589744, &quot;y&quot;: 1.9230769230769225, &quot;z&quot;: -0.07110861736368898}, {&quot;x&quot;: -5.0, &quot;y&quot;: 2.179487179487179, &quot;z&quot;: -0.181458747260568}, {&quot;x&quot;: -4.743589743589744, &quot;y&quot;: 2.179487179487179, &quot;z&quot;: -0.12225553877823545}, {&quot;x&quot;: -5.0, &quot;y&quot;: 2.4358974358974352, &quot;z&quot;: -0.17642014222082295}, {&quot;x&quot;: -4.743589743589744, &quot;y&quot;: 2.4358974358974352, &quot;z&quot;: -0.16215123327794975}, {&quot;x&quot;: -5.0, &quot;y&quot;: 2.6923076923076916, &quot;z&quot;: -0.14904237659689593}, {&quot;x&quot;: -4.743589743589744, &quot;y&quot;: 2.6923076923076916, &quot;z&quot;: -0.18145874726056793}, {&quot;x&quot;: -5.0, &quot;y&quot;: 2.948717948717948, &quot;z&quot;: -0.09917570405967194}, {&quot;x&quot;: -4.743589743589744, &quot;y&quot;: 2.948717948717948, &quot;z&quot;: -0.17263493054486226}, {&quot;x&quot;: -5.0, &quot;y&quot;: 3.2051282051282044, &quot;z&quot;: -0.032020706711041506}, {&quot;x&quot;: -4.743589743589744, &quot;y&quot;: 3.2051282051282044, &quot;z&quot;: -0.1328596087593443}, {&quot;x&quot;: -5.0, &quot;y&quot;: 3.461538461538461, &quot;z&quot;: 0.04154590892184195}, {&quot;x&quot;: -4.743589743589744, &quot;y&quot;: 3.461538461538461, &quot;z&quot;: -0.06650034951626861}, {&quot;x&quot;: -5.0, &quot;y&quot;: 3.717948717948717, &quot;z&quot;: 0.10644610198224165}, {&quot;x&quot;: -4.743589743589744, &quot;y&quot;: 3.717948717948717, &quot;z&quot;: 0.014059422915529975}, {&quot;x&quot;: -5.0, &quot;y&quot;: 3.9743589743589736, &quot;z&quot;: 0.14682584206330196}, {&quot;x&quot;: -4.743589743589744, &quot;y&quot;: 3.9743589743589736, &quot;z&quot;: 0.09018446536478196}, {&quot;x&quot;: -5.0, &quot;y&quot;: 4.23076923076923, &quot;z&quot;: 0.15081521418190952}, {&quot;x&quot;: -4.743589743589744, &quot;y&quot;: 4.23076923076923, &quot;z&quot;: 0.14154019801168824}, {&quot;x&quot;: -5.0, &quot;y&quot;: 4.487179487179486, &quot;z&quot;: 0.11521187545903333}, {&quot;x&quot;: -4.743589743589744, &quot;y&quot;: 4.487179487179486, &quot;z&quot;: 0.1524831544527441}, {&quot;x&quot;: -5.0, &quot;y&quot;: 4.743589743589743, &quot;z&quot;: 0.048227962291181654}, {&quot;x&quot;: -4.743589743589744, &quot;y&quot;: 4.743589743589743, &quot;z&quot;: 0.11822884542066862}, {&quot;x&quot;: -5.0, &quot;y&quot;: 5.0, &quot;z&quot;: -0.0313129294284152}, {&quot;x&quot;: -4.743589743589744, &quot;y&quot;: 5.0, &quot;z&quot;: 0.048227962291181654}, {&quot;x&quot;: -4.487179487179487, &quot;y&quot;: -4.743589743589744, &quot;z&quot;: 0.1524831544527441}, {&quot;x&quot;: -4.487179487179487, &quot;y&quot;: -5.0, &quot;z&quot;: 0.11521187545903297}, {&quot;x&quot;: -4.487179487179487, &quot;y&quot;: -4.487179487179487, &quot;z&quot;: 0.13945896398071148}, {&quot;x&quot;: -4.487179487179487, &quot;y&quot;: -4.230769230769231, &quot;z&quot;: 0.08130342199845633}, {&quot;x&quot;: -4.487179487179487, &quot;y&quot;: -3.9743589743589745, &quot;z&quot;: -0.0030450962151578765}, {&quot;x&quot;: -4.487179487179487, &quot;y&quot;: -3.717948717948718, &quot;z&quot;: -0.08858400012268328}, {&quot;x&quot;: -4.487179487179487, &quot;y&quot;: -3.4615384615384617, &quot;z&quot;: -0.1526690215534612}, {&quot;x&quot;: -4.487179487179487, &quot;y&quot;: -3.2051282051282053, &quot;z&quot;: -0.18116306412965294}, {&quot;x&quot;: -4.487179487179487, &quot;y&quot;: -2.948717948717949, &quot;z&quot;: -0.17076952332841072}, {&quot;x&quot;: -4.487179487179487, &quot;y&quot;: -2.6923076923076925, &quot;z&quot;: -0.12767883171207908}, {&quot;x&quot;: -4.487179487179487, &quot;y&quot;: -2.435897435897436, &quot;z&quot;: -0.06386100244520297}, {&quot;x&quot;: -4.487179487179487, &quot;y&quot;: -2.1794871794871797, &quot;z&quot;: 0.00725264009597958}, {&quot;x&quot;: -4.487179487179487, &quot;y&quot;: -1.9230769230769234, &quot;z&quot;: 0.07426425040162564}, {&quot;x&quot;: -4.487179487179487, &quot;y&quot;: -1.666666666666667, &quot;z&quot;: 0.12974477006536733}, {&quot;x&quot;: -4.487179487179487, &quot;y&quot;: -1.4102564102564106, &quot;z&quot;: 0.17058680183190766}, {&quot;x&quot;: -4.487179487179487, &quot;y&quot;: -1.1538461538461542, &quot;z&quot;: 0.19722429601204408}, {&quot;x&quot;: -4.487179487179487, &quot;y&quot;: -0.8974358974358978, &quot;z&quot;: 0.21232309865066645}, {&quot;x&quot;: -4.487179487179487, &quot;y&quot;: -0.6410256410256414, &quot;z&quot;: 0.21945165588530713}, {&quot;x&quot;: -4.487179487179487, &quot;y&quot;: -0.384615384615385, &quot;z&quot;: 0.22202850663653775}, {&quot;x&quot;: -4.487179487179487, &quot;y&quot;: -0.12820512820512864, &quot;z&quot;: 0.22263349001904645}, {&quot;x&quot;: -4.487179487179487, &quot;y&quot;: 0.12820512820512775, &quot;z&quot;: 0.22263349001904645}, {&quot;x&quot;: -4.487179487179487, &quot;y&quot;: 0.38461538461538414, &quot;z&quot;: 0.22202850663653775}, {&quot;x&quot;: -4.487179487179487, &quot;y&quot;: 0.6410256410256405, &quot;z&quot;: 0.21945165588530713}, {&quot;x&quot;: -4.487179487179487, &quot;y&quot;: 0.8974358974358969, &quot;z&quot;: 0.21232309865066645}, {&quot;x&quot;: -4.487179487179487, &quot;y&quot;: 1.1538461538461533, &quot;z&quot;: 0.19722429601204408}, {&quot;x&quot;: -4.487179487179487, &quot;y&quot;: 1.4102564102564097, &quot;z&quot;: 0.17058680183190766}, {&quot;x&quot;: -4.487179487179487, &quot;y&quot;: 1.666666666666666, &quot;z&quot;: 0.12974477006536764}, {&quot;x&quot;: -4.487179487179487, &quot;y&quot;: 1.9230769230769225, &quot;z&quot;: 0.07426425040162632}, {&quot;x&quot;: -4.487179487179487, &quot;y&quot;: 2.179487179487179, &quot;z&quot;: 0.007252640095980293}, {&quot;x&quot;: -4.487179487179487, &quot;y&quot;: 2.4358974358974352, &quot;z&quot;: -0.06386100244520297}, {&quot;x&quot;: -4.487179487179487, &quot;y&quot;: 2.6923076923076916, &quot;z&quot;: -0.12767883171207858}, {&quot;x&quot;: -4.487179487179487, &quot;y&quot;: 2.948717948717948, &quot;z&quot;: -0.17076952332841047}, {&quot;x&quot;: -4.487179487179487, &quot;y&quot;: 3.2051282051282044, &quot;z&quot;: -0.18116306412965302}, {&quot;x&quot;: -4.487179487179487, &quot;y&quot;: 3.461538461538461, &quot;z&quot;: -0.1526690215534612}, {&quot;x&quot;: -4.487179487179487, &quot;y&quot;: 3.717948717948717, &quot;z&quot;: -0.08858400012268383}, {&quot;x&quot;: -4.487179487179487, &quot;y&quot;: 3.9743589743589736, &quot;z&quot;: -0.0030450962151578765}, {&quot;x&quot;: -4.487179487179487, &quot;y&quot;: 4.23076923076923, &quot;z&quot;: 0.08130342199845635}, {&quot;x&quot;: -4.487179487179487, &quot;y&quot;: 4.487179487179486, &quot;z&quot;: 0.13945896398071123}, {&quot;x&quot;: -4.487179487179487, &quot;y&quot;: 4.743589743589743, &quot;z&quot;: 0.1524831544527441}, {&quot;x&quot;: -4.487179487179487, &quot;y&quot;: 5.0, &quot;z&quot;: 0.11521187545903297}, {&quot;x&quot;: -4.230769230769231, &quot;y&quot;: -4.743589743589744, &quot;z&quot;: 0.14154019801168846}, {&quot;x&quot;: -4.230769230769231, &quot;y&quot;: -5.0, &quot;z&quot;: 0.15081521418190952}, {&quot;x&quot;: -4.230769230769231, &quot;y&quot;: -4.487179487179487, &quot;z&quot;: 0.08130342199845633}, {&quot;x&quot;: -4.230769230769231, &quot;y&quot;: -4.230769230769231, &quot;z&quot;: -0.00881116142764315}, {&quot;x&quot;: -4.230769230769231, &quot;y&quot;: -3.9743589743589745, &quot;z&quot;: -0.09917570405967141}, {&quot;x&quot;: -4.230769230769231, &quot;y&quot;: -3.717948717948718, &quot;z&quot;: -0.16243685302955652}, {&quot;x&quot;: -4.230769230769231, &quot;y&quot;: -3.4615384615384617, &quot;z&quot;: -0.18191784712162193}, {&quot;x&quot;: -4.230769230769231, &quot;y&quot;: -3.2051282051282053, &quot;z&quot;: -0.1550739432864401}, {&quot;x&quot;: -4.230769230769231, &quot;y&quot;: -2.948717948717949, &quot;z&quot;: -0.09179654096842373}, {&quot;x&quot;: -4.230769230769231, &quot;y&quot;: -2.6923076923076925, &quot;z&quot;: -0.009250285950514308}, {&quot;x&quot;: -4.230769230769231, &quot;y&quot;: -2.435897435897436, &quot;z&quot;: 0.07426425040162632}, {&quot;x&quot;: -4.230769230769231, &quot;y&quot;: -2.1794871794871797, &quot;z&quot;: 0.14424318539582479}, {&quot;x&quot;: -4.230769230769231, &quot;y&quot;: -1.9230769230769234, &quot;z&quot;: 0.19253864247086708}, {&quot;x&quot;: -4.230769230769231, &quot;y&quot;: -1.666666666666667, &quot;z&quot;: 0.21749963044648857}, {&quot;x&quot;: -4.230769230769231, &quot;y&quot;: -1.4102564102564106, &quot;z&quot;: 0.22243257961224736}, {&quot;x&quot;: -4.230769230769231, &quot;y&quot;: -1.1538461538461542, &quot;z&quot;: 0.21338743078659142}, {&quot;x&quot;: -4.230769230769231, &quot;y&quot;: -0.8974358974358978, &quot;z&quot;: 0.19711035355159282}, {&quot;x&quot;: -4.230769230769231, &quot;y&quot;: -0.6410256410256414, &quot;z&quot;: 0.1796237019465825}, {&quot;x&quot;: -4.230769230769231, &quot;y&quot;: -0.384615384615385, &quot;z&quot;: 0.16551234237681514}, {&quot;x&quot;: -4.230769230769231, &quot;y&quot;: -0.12820512820512864, &quot;z&quot;: 0.1577421701184894}, {&quot;x&quot;: -4.230769230769231, &quot;y&quot;: 0.12820512820512775, &quot;z&quot;: 0.1577421701184894}, {&quot;x&quot;: -4.230769230769231, &quot;y&quot;: 0.38461538461538414, &quot;z&quot;: 0.16551234237681514}, {&quot;x&quot;: -4.230769230769231, &quot;y&quot;: 0.6410256410256405, &quot;z&quot;: 0.1796237019465825}, {&quot;x&quot;: -4.230769230769231, &quot;y&quot;: 0.8974358974358969, &quot;z&quot;: 0.19711035355159282}, {&quot;x&quot;: -4.230769230769231, &quot;y&quot;: 1.1538461538461533, &quot;z&quot;: 0.21338743078659142}, {&quot;x&quot;: -4.230769230769231, &quot;y&quot;: 1.4102564102564097, &quot;z&quot;: 0.22243257961224733}, {&quot;x&quot;: -4.230769230769231, &quot;y&quot;: 1.666666666666666, &quot;z&quot;: 0.21749963044648865}, {&quot;x&quot;: -4.230769230769231, &quot;y&quot;: 1.9230769230769225, &quot;z&quot;: 0.19253864247086708}, {&quot;x&quot;: -4.230769230769231, &quot;y&quot;: 2.179487179487179, &quot;z&quot;: 0.1442431853958254}, {&quot;x&quot;: -4.230769230769231, &quot;y&quot;: 2.4358974358974352, &quot;z&quot;: 0.07426425040162632}, {&quot;x&quot;: -4.230769230769231, &quot;y&quot;: 2.6923076923076916, &quot;z&quot;: -0.009250285950514308}, {&quot;x&quot;: -4.230769230769231, &quot;y&quot;: 2.948717948717948, &quot;z&quot;: -0.09179654096842312}, {&quot;x&quot;: -4.230769230769231, &quot;y&quot;: 3.2051282051282044, &quot;z&quot;: -0.15507394328644017}, {&quot;x&quot;: -4.230769230769231, &quot;y&quot;: 3.461538461538461, &quot;z&quot;: -0.1819178471216219}, {&quot;x&quot;: -4.230769230769231, &quot;y&quot;: 3.717948717948717, &quot;z&quot;: -0.16243685302955652}, {&quot;x&quot;: -4.230769230769231, &quot;y&quot;: 3.9743589743589736, &quot;z&quot;: -0.09917570405967194}, {&quot;x&quot;: -4.230769230769231, &quot;y&quot;: 4.23076923076923, &quot;z&quot;: -0.00881116142764315}, {&quot;x&quot;: -4.230769230769231, &quot;y&quot;: 4.487179487179486, &quot;z&quot;: 0.08130342199845635}, {&quot;x&quot;: -4.230769230769231, &quot;y&quot;: 4.743589743589743, &quot;z&quot;: 0.14154019801168824}, {&quot;x&quot;: -4.230769230769231, &quot;y&quot;: 5.0, &quot;z&quot;: 0.15081521418190952}, {&quot;x&quot;: -3.9743589743589745, &quot;y&quot;: -4.743589743589744, &quot;z&quot;: 0.09018446536478245}, {&quot;x&quot;: -3.9743589743589745, &quot;y&quot;: -5.0, &quot;z&quot;: 0.14682584206330213}, {&quot;x&quot;: -3.9743589743589745, &quot;y&quot;: -4.487179487179487, &quot;z&quot;: -0.0030450962151578765}, {&quot;x&quot;: -3.9743589743589745, &quot;y&quot;: -4.230769230769231, &quot;z&quot;: -0.09917570405967141}, {&quot;x&quot;: -3.9743589743589745, &quot;y&quot;: -3.9743589743589745, &quot;z&quot;: -0.165301048297769}, {&quot;x&quot;: -3.9743589743589745, &quot;y&quot;: -3.717948717948718, &quot;z&quot;: -0.18073554583068002}, {&quot;x&quot;: -3.9743589743589745, &quot;y&quot;: -3.4615384615384617, &quot;z&quot;: -0.14250583708975548}, {&quot;x&quot;: -3.9743589743589745, &quot;y&quot;: -3.2051282051282053, &quot;z&quot;: -0.06386100244520364}, {&quot;x&quot;: -3.9743589743589745, &quot;y&quot;: -2.948717948717949, &quot;z&quot;: 0.032372655749033356}, {&quot;x&quot;: -3.9743589743589745, &quot;y&quot;: -2.6923076923076925, &quot;z&quot;: 0.12222104054936181}, {&quot;x&quot;: -3.9743589743589745, &quot;y&quot;: -2.435897435897436, &quot;z&quot;: 0.18751704244724113}, {&quot;x&quot;: -3.9743589743589745, &quot;y&quot;: -2.1794871794871797, &quot;z&quot;: 0.21945165588530713}, {&quot;x&quot;: -3.9743589743589745, &quot;y&quot;: -1.9230769230769234, &quot;z&quot;: 0.21849671405696244}, {&quot;x&quot;: -3.9743589743589745, &quot;y&quot;: -1.666666666666667, &quot;z&quot;: 0.19177960940564062}, {&quot;x&quot;: -3.9743589743589745, &quot;y&quot;: -1.4102564102564106, &quot;z&quot;: 0.14950837516294282}, {&quot;x&quot;: -3.9743589743589745, &quot;y&quot;: -1.1538461538461542, &quot;z&quot;: 0.10182765566147567}, {&quot;x&quot;: -3.9743589743589745, &quot;y&quot;: -0.8974358974358978, &quot;z&quot;: 0.056862409133510455}, {&quot;x&quot;: -3.9743589743589745, &quot;y&quot;: -0.6410256410256414, &quot;z&quot;: 0.02005162258719657}, {&quot;x&quot;: -3.9743589743589745, &quot;y&quot;: -0.384615384615385, &quot;z&quot;: -0.005565270813887195}, {&quot;x&quot;: -3.9743589743589745, &quot;y&quot;: -0.12820512820512864, &quot;z&quot;: -0.018607513033306655}, {&quot;x&quot;: -3.9743589743589745, &quot;y&quot;: 0.12820512820512775, &quot;z&quot;: -0.018607513033307106}, {&quot;x&quot;: -3.9743589743589745, &quot;y&quot;: 0.38461538461538414, &quot;z&quot;: -0.005565270813887195}, {&quot;x&quot;: -3.9743589743589745, &quot;y&quot;: 0.6410256410256405, &quot;z&quot;: 0.02005162258719657}, {&quot;x&quot;: -3.9743589743589745, &quot;y&quot;: 0.8974358974358969, &quot;z&quot;: 0.056862409133510455}, {&quot;x&quot;: -3.9743589743589745, &quot;y&quot;: 1.1538461538461533, &quot;z&quot;: 0.10182765566147567}, {&quot;x&quot;: -3.9743589743589745, &quot;y&quot;: 1.4102564102564097, &quot;z&quot;: 0.1495083751629422}, {&quot;x&quot;: -3.9743589743589745, &quot;y&quot;: 1.666666666666666, &quot;z&quot;: 0.19177960940564043}, {&quot;x&quot;: -3.9743589743589745, &quot;y&quot;: 1.9230769230769225, &quot;z&quot;: 0.21849671405696244}, {&quot;x&quot;: -3.9743589743589745, &quot;y&quot;: 2.179487179487179, &quot;z&quot;: 0.21945165588530713}, {&quot;x&quot;: -3.9743589743589745, &quot;y&quot;: 2.4358974358974352, &quot;z&quot;: 0.18751704244724113}, {&quot;x&quot;: -3.9743589743589745, &quot;y&quot;: 2.6923076923076916, &quot;z&quot;: 0.12222104054936214}, {&quot;x&quot;: -3.9743589743589745, &quot;y&quot;: 2.948717948717948, &quot;z&quot;: 0.032372655749033356}, {&quot;x&quot;: -3.9743589743589745, &quot;y&quot;: 3.2051282051282044, &quot;z&quot;: -0.06386100244520297}, {&quot;x&quot;: -3.9743589743589745, &quot;y&quot;: 3.461538461538461, &quot;z&quot;: -0.14250583708975548}, {&quot;x&quot;: -3.9743589743589745, &quot;y&quot;: 3.717948717948717, &quot;z&quot;: -0.1807355458306799}, {&quot;x&quot;: -3.9743589743589745, &quot;y&quot;: 3.9743589743589736, &quot;z&quot;: -0.165301048297769}, {&quot;x&quot;: -3.9743589743589745, &quot;y&quot;: 4.23076923076923, &quot;z&quot;: -0.09917570405967194}, {&quot;x&quot;: -3.9743589743589745, &quot;y&quot;: 4.487179487179486, &quot;z&quot;: -0.0030450962151578765}, {&quot;x&quot;: -3.9743589743589745, &quot;y&quot;: 4.743589743589743, &quot;z&quot;: 0.09018446536478196}, {&quot;x&quot;: -3.9743589743589745, &quot;y&quot;: 5.0, &quot;z&quot;: 0.14682584206330213}, {&quot;x&quot;: -3.717948717948718, &quot;y&quot;: -4.743589743589744, &quot;z&quot;: 0.014059422915529975}, {&quot;x&quot;: -3.717948717948718, &quot;y&quot;: -5.0, &quot;z&quot;: 0.10644610198224208}, {&quot;x&quot;: -3.717948717948718, &quot;y&quot;: -4.487179487179487, &quot;z&quot;: -0.08858400012268328}, {&quot;x&quot;: -3.717948717948718, &quot;y&quot;: -4.230769230769231, &quot;z&quot;: -0.16243685302955652}, {&quot;x&quot;: -3.717948717948718, &quot;y&quot;: -3.9743589743589745, &quot;z&quot;: -0.18073554583068002}, {&quot;x&quot;: -3.717948717948718, &quot;y&quot;: -3.717948717948718, &quot;z&quot;: -0.1378089409777226}, {&quot;x&quot;: -3.717948717948718, &quot;y&quot;: -3.4615384615384617, &quot;z&quot;: -0.0488961793689263}, {&quot;x&quot;: -3.717948717948718, &quot;y&quot;: -3.2051282051282053, &quot;z&quot;: 0.05759287954635205}, {&quot;x&quot;: -3.717948717948718, &quot;y&quot;: -2.948717948717949, &quot;z&quot;: 0.15118512843530216}, {&quot;x&quot;: -3.717948717948718, &quot;y&quot;: -2.6923076923076925, &quot;z&quot;: 0.20912235190763948}, {&quot;x&quot;: -3.717948717948718, &quot;y&quot;: -2.435897435897436, &quot;z&quot;: 0.22161150667081955}, {&quot;x&quot;: -3.717948717948718, &quot;y&quot;: -2.1794871794871797, &quot;z&quot;: 0.19177960940564062}, {&quot;x&quot;: -3.717948717948718, &quot;y&quot;: -1.9230769230769234, &quot;z&quot;: 0.13169628077917828}, {&quot;x&quot;: -3.717948717948718, &quot;y&quot;: -1.666666666666667, &quot;z&quot;: 0.056862409133510455}, {&quot;x&quot;: -3.717948717948718, &quot;y&quot;: -1.4102564102564106, &quot;z&quot;: -0.018607513033307106}, {&quot;x&quot;: -3.717948717948718, &quot;y&quot;: -1.1538461538461542, &quot;z&quot;: -0.084825533540923}, {&quot;x&quot;: -3.717948717948718, &quot;y&quot;: -0.8974358974358978, &quot;z&quot;: -0.13680209349327188}, {&quot;x&quot;: -3.717948717948718, &quot;y&quot;: -0.6410256410256414, &quot;z&quot;: -0.17352514017266685}, {&quot;x&quot;: -3.717948717948718, &quot;y&quot;: -0.384615384615385, &quot;z&quot;: -0.19629367355494326}, {&quot;x&quot;: -3.717948717948718, &quot;y&quot;: -0.12820512820512864, &quot;z&quot;: -0.20703304952539192}, {&quot;x&quot;: -3.717948717948718, &quot;y&quot;: 0.12820512820512775, &quot;z&quot;: -0.20703304952539192}, {&quot;x&quot;: -3.717948717948718, &quot;y&quot;: 0.38461538461538414, &quot;z&quot;: -0.19629367355494326}, {&quot;x&quot;: -3.717948717948718, &quot;y&quot;: 0.6410256410256405, &quot;z&quot;: -0.17352514017266685}, {&quot;x&quot;: -3.717948717948718, &quot;y&quot;: 0.8974358974358969, &quot;z&quot;: -0.13680209349327188}, {&quot;x&quot;: -3.717948717948718, &quot;y&quot;: 1.1538461538461533, &quot;z&quot;: -0.084825533540923}, {&quot;x&quot;: -3.717948717948718, &quot;y&quot;: 1.4102564102564097, &quot;z&quot;: -0.018607513033307106}, {&quot;x&quot;: -3.717948717948718, &quot;y&quot;: 1.666666666666666, &quot;z&quot;: 0.056862409133510455}, {&quot;x&quot;: -3.717948717948718, &quot;y&quot;: 1.9230769230769225, &quot;z&quot;: 0.13169628077917828}, {&quot;x&quot;: -3.717948717948718, &quot;y&quot;: 2.179487179487179, &quot;z&quot;: 0.19177960940564043}, {&quot;x&quot;: -3.717948717948718, &quot;y&quot;: 2.4358974358974352, &quot;z&quot;: 0.22161150667081944}, {&quot;x&quot;: -3.717948717948718, &quot;y&quot;: 2.6923076923076916, &quot;z&quot;: 0.2091223519076397}, {&quot;x&quot;: -3.717948717948718, &quot;y&quot;: 2.948717948717948, &quot;z&quot;: 0.1511851284353025}, {&quot;x&quot;: -3.717948717948718, &quot;y&quot;: 3.2051282051282044, &quot;z&quot;: 0.057592879546352754}, {&quot;x&quot;: -3.717948717948718, &quot;y&quot;: 3.461538461538461, &quot;z&quot;: -0.048896179368925964}, {&quot;x&quot;: -3.717948717948718, &quot;y&quot;: 3.717948717948717, &quot;z&quot;: -0.13780894097772214}, {&quot;x&quot;: -3.717948717948718, &quot;y&quot;: 3.9743589743589736, &quot;z&quot;: -0.1807355458306799}, {&quot;x&quot;: -3.717948717948718, &quot;y&quot;: 4.23076923076923, &quot;z&quot;: -0.16243685302955652}, {&quot;x&quot;: -3.717948717948718, &quot;y&quot;: 4.487179487179486, &quot;z&quot;: -0.08858400012268436}, {&quot;x&quot;: -3.717948717948718, &quot;y&quot;: 4.743589743589743, &quot;z&quot;: 0.014059422915529975}, {&quot;x&quot;: -3.717948717948718, &quot;y&quot;: 5.0, &quot;z&quot;: 0.10644610198224208}, {&quot;x&quot;: -3.4615384615384617, &quot;y&quot;: -4.743589743589744, &quot;z&quot;: -0.06650034951626861}, {&quot;x&quot;: -3.4615384615384617, &quot;y&quot;: -5.0, &quot;z&quot;: 0.04154590892184195}, {&quot;x&quot;: -3.4615384615384617, &quot;y&quot;: -4.487179487179487, &quot;z&quot;: -0.1526690215534612}, {&quot;x&quot;: -3.4615384615384617, &quot;y&quot;: -4.230769230769231, &quot;z&quot;: -0.18191784712162193}, {&quot;x&quot;: -3.4615384615384617, &quot;y&quot;: -3.9743589743589745, &quot;z&quot;: -0.14250583708975548}, {&quot;x&quot;: -3.4615384615384617, &quot;y&quot;: -3.717948717948718, &quot;z&quot;: -0.0488961793689263}, {&quot;x&quot;: -3.4615384615384617, &quot;y&quot;: -3.4615384615384617, &quot;z&quot;: 0.065952965198231}, {&quot;x&quot;: -3.4615384615384617, &quot;y&quot;: -3.2051282051282053, &quot;z&quot;: 0.16437306451431222}, {&quot;x&quot;: -3.4615384615384617, &quot;y&quot;: -2.948717948717949, &quot;z&quot;: 0.21749963044648857}, {&quot;x&quot;: -3.4615384615384617, &quot;y&quot;: -2.6923076923076925, &quot;z&quot;: 0.21338743078659167}, {&quot;x&quot;: -3.4615384615384617, &quot;y&quot;: -2.435897435897436, &quot;z&quot;: 0.15774217011848968}, {&quot;x&quot;: -3.4615384615384617, &quot;y&quot;: -2.1794871794871797, &quot;z&quot;: 0.06859293033635439}, {&quot;x&quot;: -3.4615384615384617, &quot;y&quot;: -1.9230769230769234, &quot;z&quot;: -0.03176290856153143}, {&quot;x&quot;: -3.4615384615384617, &quot;y&quot;: -1.666666666666667, &quot;z&quot;: -0.12404748116237611}, {&quot;x&quot;: -3.4615384615384617, &quot;y&quot;: -1.4102564102564106, &quot;z&quot;: -0.19629367355494326}, {&quot;x&quot;: -3.4615384615384617, &quot;y&quot;: -1.1538461538461542, &quot;z&quot;: -0.24466721047350626}, {&quot;x&quot;: -3.4615384615384617, &quot;y&quot;: -0.8974358974358978, &quot;z&quot;: -0.2717145043120364}, {&quot;x&quot;: -3.4615384615384617, &quot;y&quot;: -0.6410256410256414, &quot;z&quot;: -0.2834765187178331}, {&quot;x&quot;: -3.4615384615384617, &quot;y&quot;: -0.384615384615385, &quot;z&quot;: -0.28670486470897005}, {&quot;x&quot;: -3.4615384615384617, &quot;y&quot;: -0.12820512820512864, &quot;z&quot;: -0.2868375581433094}, {&quot;x&quot;: -3.4615384615384617, &quot;y&quot;: 0.12820512820512775, &quot;z&quot;: -0.2868375581433094}, {&quot;x&quot;: -3.4615384615384617, &quot;y&quot;: 0.38461538461538414, &quot;z&quot;: -0.28670486470897005}, {&quot;x&quot;: -3.4615384615384617, &quot;y&quot;: 0.6410256410256405, &quot;z&quot;: -0.2834765187178331}, {&quot;x&quot;: -3.4615384615384617, &quot;y&quot;: 0.8974358974358969, &quot;z&quot;: -0.2717145043120364}, {&quot;x&quot;: -3.4615384615384617, &quot;y&quot;: 1.1538461538461533, &quot;z&quot;: -0.24466721047350648}, {&quot;x&quot;: -3.4615384615384617, &quot;y&quot;: 1.4102564102564097, &quot;z&quot;: -0.19629367355494326}, {&quot;x&quot;: -3.4615384615384617, &quot;y&quot;: 1.666666666666666, &quot;z&quot;: -0.12404748116237656}, {&quot;x&quot;: -3.4615384615384617, &quot;y&quot;: 1.9230769230769225, &quot;z&quot;: -0.031762908561531876}, {&quot;x&quot;: -3.4615384615384617, &quot;y&quot;: 2.179487179487179, &quot;z&quot;: 0.06859293033635355}, {&quot;x&quot;: -3.4615384615384617, &quot;y&quot;: 2.4358974358974352, &quot;z&quot;: 0.1577421701184894}, {&quot;x&quot;: -3.4615384615384617, &quot;y&quot;: 2.6923076923076916, &quot;z&quot;: 0.21338743078659142}, {&quot;x&quot;: -3.4615384615384617, &quot;y&quot;: 2.948717948717948, &quot;z&quot;: 0.21749963044648865}, {&quot;x&quot;: -3.4615384615384617, &quot;y&quot;: 3.2051282051282044, &quot;z&quot;: 0.16437306451431274}, {&quot;x&quot;: -3.4615384615384617, &quot;y&quot;: 3.461538461538461, &quot;z&quot;: 0.06595296519823136}, {&quot;x&quot;: -3.4615384615384617, &quot;y&quot;: 3.717948717948717, &quot;z&quot;: -0.0488961793689263}, {&quot;x&quot;: -3.4615384615384617, &quot;y&quot;: 3.9743589743589736, &quot;z&quot;: -0.14250583708975548}, {&quot;x&quot;: -3.4615384615384617, &quot;y&quot;: 4.23076923076923, &quot;z&quot;: -0.1819178471216219}, {&quot;x&quot;: -3.4615384615384617, &quot;y&quot;: 4.487179487179486, &quot;z&quot;: -0.1526690215534612}, {&quot;x&quot;: -3.4615384615384617, &quot;y&quot;: 4.743589743589743, &quot;z&quot;: -0.06650034951626861}, {&quot;x&quot;: -3.4615384615384617, &quot;y&quot;: 5.0, &quot;z&quot;: 0.04154590892184195}, {&quot;x&quot;: -3.2051282051282053, &quot;y&quot;: -4.743589743589744, &quot;z&quot;: -0.1328596087593443}, {&quot;x&quot;: -3.2051282051282053, &quot;y&quot;: -5.0, &quot;z&quot;: -0.03202070671104091}, {&quot;x&quot;: -3.2051282051282053, &quot;y&quot;: -4.487179487179487, &quot;z&quot;: -0.18116306412965294}, {&quot;x&quot;: -3.2051282051282053, &quot;y&quot;: -4.230769230769231, &quot;z&quot;: -0.1550739432864401}, {&quot;x&quot;: -3.2051282051282053, &quot;y&quot;: -3.9743589743589745, &quot;z&quot;: -0.06386100244520364}, {&quot;x&quot;: -3.2051282051282053, &quot;y&quot;: -3.717948717948718, &quot;z&quot;: 0.05759287954635205}, {&quot;x&quot;: -3.2051282051282053, &quot;y&quot;: -3.4615384615384617, &quot;z&quot;: 0.16437306451431222}, {&quot;x&quot;: -3.2051282051282053, &quot;y&quot;: -3.2051282051282053, &quot;z&quot;: 0.21945165588530713}, {&quot;x&quot;: -3.2051282051282053, &quot;y&quot;: -2.948717948717949, &quot;z&quot;: 0.20626059743173433}, {&quot;x&quot;: -3.2051282051282053, &quot;y&quot;: -2.6923076923076925, &quot;z&quot;: 0.13169628077917828}, {&quot;x&quot;: -3.2051282051282053, &quot;y&quot;: -2.435897435897436, &quot;z&quot;: 0.02005162258719657}, {&quot;x&quot;: -3.2051282051282053, &quot;y&quot;: -2.1794871794871797, &quot;z&quot;: -0.09801869890005727}, {&quot;x&quot;: -3.2051282051282053, &quot;y&quot;: -1.9230769230769234, &quot;z&quot;: -0.19629367355494298}, {&quot;x&quot;: -3.2051282051282053, &quot;y&quot;: -1.666666666666667, &quot;z&quot;: -0.259682767971955}, {&quot;x&quot;: -3.2051282051282053, &quot;y&quot;: -1.4102564102564106, &quot;z&quot;: -0.2855743751375799}, {&quot;x&quot;: -3.2051282051282053, &quot;y&quot;: -1.1538461538461542, &quot;z&quot;: -0.28098190137561274}, {&quot;x&quot;: -3.2051282051282053, &quot;y&quot;: -0.8974358974358978, &quot;z&quot;: -0.2578328027491931}, {&quot;x&quot;: -3.2051282051282053, &quot;y&quot;: -0.6410256410256414, &quot;z&quot;: -0.2285992198548628}, {&quot;x&quot;: -3.2051282051282053, &quot;y&quot;: -0.384615384615385, &quot;z&quot;: -0.20348555208197094}, {&quot;x&quot;: -3.2051282051282053, &quot;y&quot;: -0.12820512820512864, &quot;z&quot;: -0.18928253877123413}, {&quot;x&quot;: -3.2051282051282053, &quot;y&quot;: 0.12820512820512775, &quot;z&quot;: -0.18928253877123413}, {&quot;x&quot;: -3.2051282051282053, &quot;y&quot;: 0.38461538461538414, &quot;z&quot;: -0.20348555208197094}, {&quot;x&quot;: -3.2051282051282053, &quot;y&quot;: 0.6410256410256405, &quot;z&quot;: -0.22859921985486248}, {&quot;x&quot;: -3.2051282051282053, &quot;y&quot;: 0.8974358974358969, &quot;z&quot;: -0.2578328027491931}, {&quot;x&quot;: -3.2051282051282053, &quot;y&quot;: 1.1538461538461533, &quot;z&quot;: -0.2809819013756127}, {&quot;x&quot;: -3.2051282051282053, &quot;y&quot;: 1.4102564102564097, &quot;z&quot;: -0.2855743751375799}, {&quot;x&quot;: -3.2051282051282053, &quot;y&quot;: 1.666666666666666, &quot;z&quot;: -0.2596827679719552}, {&quot;x&quot;: -3.2051282051282053, &quot;y&quot;: 1.9230769230769225, &quot;z&quot;: -0.19629367355494326}, {&quot;x&quot;: -3.2051282051282053, &quot;y&quot;: 2.179487179487179, &quot;z&quot;: -0.09801869890005771}, {&quot;x&quot;: -3.2051282051282053, &quot;y&quot;: 2.4358974358974352, &quot;z&quot;: 0.02005162258719657}, {&quot;x&quot;: -3.2051282051282053, &quot;y&quot;: 2.6923076923076916, &quot;z&quot;: 0.13169628077917828}, {&quot;x&quot;: -3.2051282051282053, &quot;y&quot;: 2.948717948717948, &quot;z&quot;: 0.20626059743173403}, {&quot;x&quot;: -3.2051282051282053, &quot;y&quot;: 3.2051282051282044, &quot;z&quot;: 0.21945165588530727}, {&quot;x&quot;: -3.2051282051282053, &quot;y&quot;: 3.461538461538461, &quot;z&quot;: 0.16437306451431274}, {&quot;x&quot;: -3.2051282051282053, &quot;y&quot;: 3.717948717948717, &quot;z&quot;: 0.05759287954635205}, {&quot;x&quot;: -3.2051282051282053, &quot;y&quot;: 3.9743589743589736, &quot;z&quot;: -0.06386100244520297}, {&quot;x&quot;: -3.2051282051282053, &quot;y&quot;: 4.23076923076923, &quot;z&quot;: -0.15507394328644017}, {&quot;x&quot;: -3.2051282051282053, &quot;y&quot;: 4.487179487179486, &quot;z&quot;: -0.18116306412965302}, {&quot;x&quot;: -3.2051282051282053, &quot;y&quot;: 4.743589743589743, &quot;z&quot;: -0.1328596087593443}, {&quot;x&quot;: -3.2051282051282053, &quot;y&quot;: 5.0, &quot;z&quot;: -0.03202070671104091}, {&quot;x&quot;: -2.948717948717949, &quot;y&quot;: -4.743589743589744, &quot;z&quot;: -0.17263493054486226}, {&quot;x&quot;: -2.948717948717949, &quot;y&quot;: -5.0, &quot;z&quot;: -0.09917570405967141}, {&quot;x&quot;: -2.948717948717949, &quot;y&quot;: -4.487179487179487, &quot;z&quot;: -0.17076952332841072}, {&quot;x&quot;: -2.948717948717949, &quot;y&quot;: -4.230769230769231, &quot;z&quot;: -0.09179654096842373}, {&quot;x&quot;: -2.948717948717949, &quot;y&quot;: -3.9743589743589745, &quot;z&quot;: 0.032372655749033356}, {&quot;x&quot;: -2.948717948717949, &quot;y&quot;: -3.717948717948718, &quot;z&quot;: 0.15118512843530216}, {&quot;x&quot;: -2.948717948717949, &quot;y&quot;: -3.4615384615384617, &quot;z&quot;: 0.21749963044648857}, {&quot;x&quot;: -2.948717948717949, &quot;y&quot;: -3.2051282051282053, &quot;z&quot;: 0.20626059743173433}, {&quot;x&quot;: -2.948717948717949, &quot;y&quot;: -2.948717948717949, &quot;z&quot;: 0.12214466427113943}, {&quot;x&quot;: -2.948717948717949, &quot;y&quot;: -2.6923076923076925, &quot;z&quot;: -0.005565270813887195}, {&quot;x&quot;: -2.948717948717949, &quot;y&quot;: -2.435897435897436, &quot;z&quot;: -0.13680209349327188}, {&quot;x&quot;: -2.948717948717949, &quot;y&quot;: -2.1794871794871797, &quot;z&quot;: -0.23614455601492576}, {&quot;x&quot;: -2.948717948717949, &quot;y&quot;: -1.9230769230769234, &quot;z&quot;: -0.2834765187178331}, {&quot;x&quot;: -2.948717948717949, &quot;y&quot;: -1.666666666666667, &quot;z&quot;: -0.27687046867027165}, {&quot;x&quot;: -2.948717948717949, &quot;y&quot;: -1.4102564102564106, &quot;z&quot;: -0.22859921985486248}, {&quot;x&quot;: -2.948717948717949, &quot;y&quot;: -1.1538461538461542, &quot;z&quot;: -0.15770564198367898}, {&quot;x&quot;: -2.948717948717949, &quot;y&quot;: -0.8974358974358978, &quot;z&quot;: -0.08291366426279477}, {&quot;x&quot;: -2.948717948717949, &quot;y&quot;: -0.6410256410256414, &quot;z&quot;: -0.01830385509779292}, {&quot;x&quot;: -2.948717948717949, &quot;y&quot;: -0.384615384615385, &quot;z&quot;: 0.027757766519312485}, {&quot;x&quot;: -2.948717948717949, &quot;y&quot;: -0.12820512820512864, &quot;z&quot;: 0.05142019026962565}, {&quot;x&quot;: -2.948717948717949, &quot;y&quot;: 0.12820512820512775, &quot;z&quot;: 0.05142019026962626}, {&quot;x&quot;: -2.948717948717949, &quot;y&quot;: 0.38461538461538414, &quot;z&quot;: 0.02775776651931309}, {&quot;x&quot;: -2.948717948717949, &quot;y&quot;: 0.6410256410256405, &quot;z&quot;: -0.01830385509779233}, {&quot;x&quot;: -2.948717948717949, &quot;y&quot;: 0.8974358974358969, &quot;z&quot;: -0.08291366426279477}, {&quot;x&quot;: -2.948717948717949, &quot;y&quot;: 1.1538461538461533, &quot;z&quot;: -0.1577056419836785}, {&quot;x&quot;: -2.948717948717949, &quot;y&quot;: 1.4102564102564097, &quot;z&quot;: -0.22859921985486215}, {&quot;x&quot;: -2.948717948717949, &quot;y&quot;: 1.666666666666666, &quot;z&quot;: -0.27687046867027154}, {&quot;x&quot;: -2.948717948717949, &quot;y&quot;: 1.9230769230769225, &quot;z&quot;: -0.2834765187178332}, {&quot;x&quot;: -2.948717948717949, &quot;y&quot;: 2.179487179487179, &quot;z&quot;: -0.23614455601492598}, {&quot;x&quot;: -2.948717948717949, &quot;y&quot;: 2.4358974358974352, &quot;z&quot;: -0.13680209349327227}, {&quot;x&quot;: -2.948717948717949, &quot;y&quot;: 2.6923076923076916, &quot;z&quot;: -0.005565270813887642}, {&quot;x&quot;: -2.948717948717949, &quot;y&quot;: 2.948717948717948, &quot;z&quot;: 0.12214466427113907}, {&quot;x&quot;: -2.948717948717949, &quot;y&quot;: 3.2051282051282044, &quot;z&quot;: 0.20626059743173403}, {&quot;x&quot;: -2.948717948717949, &quot;y&quot;: 3.461538461538461, &quot;z&quot;: 0.21749963044648865}, {&quot;x&quot;: -2.948717948717949, &quot;y&quot;: 3.717948717948717, &quot;z&quot;: 0.1511851284353025}, {&quot;x&quot;: -2.948717948717949, &quot;y&quot;: 3.9743589743589736, &quot;z&quot;: 0.032372655749034064}, {&quot;x&quot;: -2.948717948717949, &quot;y&quot;: 4.23076923076923, &quot;z&quot;: -0.09179654096842312}, {&quot;x&quot;: -2.948717948717949, &quot;y&quot;: 4.487179487179486, &quot;z&quot;: -0.17076952332841047}, {&quot;x&quot;: -2.948717948717949, &quot;y&quot;: 4.743589743589743, &quot;z&quot;: -0.17263493054486245}, {&quot;x&quot;: -2.948717948717949, &quot;y&quot;: 5.0, &quot;z&quot;: -0.09917570405967141}, {&quot;x&quot;: -2.6923076923076925, &quot;y&quot;: -4.743589743589744, &quot;z&quot;: -0.181458747260568}, {&quot;x&quot;: -2.6923076923076925, &quot;y&quot;: -5.0, &quot;z&quot;: -0.1490423765968959}, {&quot;x&quot;: -2.6923076923076925, &quot;y&quot;: -4.487179487179487, &quot;z&quot;: -0.12767883171207908}, {&quot;x&quot;: -2.6923076923076925, &quot;y&quot;: -4.230769230769231, &quot;z&quot;: -0.009250285950514308}, {&quot;x&quot;: -2.6923076923076925, &quot;y&quot;: -3.9743589743589745, &quot;z&quot;: 0.12222104054936181}, {&quot;x&quot;: -2.6923076923076925, &quot;y&quot;: -3.717948717948718, &quot;z&quot;: 0.20912235190763948}, {&quot;x&quot;: -2.6923076923076925, &quot;y&quot;: -3.4615384615384617, &quot;z&quot;: 0.21338743078659167}, {&quot;x&quot;: -2.6923076923076925, &quot;y&quot;: -3.2051282051282053, &quot;z&quot;: 0.13169628077917828}, {&quot;x&quot;: -2.6923076923076925, &quot;y&quot;: -2.948717948717949, &quot;z&quot;: -0.005565270813887195}, {&quot;x&quot;: -2.6923076923076925, &quot;y&quot;: -2.6923076923076925, &quot;z&quot;: -0.14932821393162232}, {&quot;x&quot;: -2.6923076923076925, &quot;y&quot;: -2.435897435897436, &quot;z&quot;: -0.25252736907253187}, {&quot;x&quot;: -2.6923076923076925, &quot;y&quot;: -2.1794871794871797, &quot;z&quot;: -0.2868375581433094}, {&quot;x&quot;: -2.6923076923076925, &quot;y&quot;: -1.9230769230769234, &quot;z&quot;: -0.24922323562680584}, {&quot;x&quot;: -2.6923076923076925, &quot;y&quot;: -1.666666666666667, &quot;z&quot;: -0.15770564198367898}, {&quot;x&quot;: -2.6923076923076925, &quot;y&quot;: -1.4102564102564106, &quot;z&quot;: -0.04051947339047555}, {&quot;x&quot;: -2.6923076923076925, &quot;y&quot;: -1.1538461538461542, &quot;z&quot;: 0.07536961333393281}, {&quot;x&quot;: -2.6923076923076925, &quot;y&quot;: -0.8974358974358978, &quot;z&quot;: 0.1717479510744085}, {&quot;x&quot;: -2.6923076923076925, &quot;y&quot;: -0.6410256410256414, &quot;z&quot;: 0.2410140284630488}, {&quot;x&quot;: -2.6923076923076925, &quot;y&quot;: -0.384615384615385, &quot;z&quot;: 0.2835780881782833}, {&quot;x&quot;: -2.6923076923076925, &quot;y&quot;: -0.12820512820512864, &quot;z&quot;: 0.3032997883859571}, {&quot;x&quot;: -2.6923076923076925, &quot;y&quot;: 0.12820512820512775, &quot;z&quot;: 0.3032997883859571}, {&quot;x&quot;: -2.6923076923076925, &quot;y&quot;: 0.38461538461538414, &quot;z&quot;: 0.2835780881782833}, {&quot;x&quot;: -2.6923076923076925, &quot;y&quot;: 0.6410256410256405, &quot;z&quot;: 0.24101402846304884}, {&quot;x&quot;: -2.6923076923076925, &quot;y&quot;: 0.8974358974358969, &quot;z&quot;: 0.17174795107440904}, {&quot;x&quot;: -2.6923076923076925, &quot;y&quot;: 1.1538461538461533, &quot;z&quot;: 0.07536961333393341}, {&quot;x&quot;: -2.6923076923076925, &quot;y&quot;: 1.4102564102564097, &quot;z&quot;: -0.040519473390474396}, {&quot;x&quot;: -2.6923076923076925, &quot;y&quot;: 1.666666666666666, &quot;z&quot;: -0.1577056419836785}, {&quot;x&quot;: -2.6923076923076925, &quot;y&quot;: 1.9230769230769225, &quot;z&quot;: -0.2492232356268056}, {&quot;x&quot;: -2.6923076923076925, &quot;y&quot;: 2.179487179487179, &quot;z&quot;: -0.2868375581433094}, {&quot;x&quot;: -2.6923076923076925, &quot;y&quot;: 2.4358974358974352, &quot;z&quot;: -0.2525273690725323}, {&quot;x&quot;: -2.6923076923076925, &quot;y&quot;: 2.6923076923076916, &quot;z&quot;: -0.14932821393162313}, {&quot;x&quot;: -2.6923076923076925, &quot;y&quot;: 2.948717948717948, &quot;z&quot;: -0.005565270813887642}, {&quot;x&quot;: -2.6923076923076925, &quot;y&quot;: 3.2051282051282044, &quot;z&quot;: 0.1316962807791776}, {&quot;x&quot;: -2.6923076923076925, &quot;y&quot;: 3.461538461538461, &quot;z&quot;: 0.21338743078659142}, {&quot;x&quot;: -2.6923076923076925, &quot;y&quot;: 3.717948717948717, &quot;z&quot;: 0.2091223519076397}, {&quot;x&quot;: -2.6923076923076925, &quot;y&quot;: 3.9743589743589736, &quot;z&quot;: 0.12222104054936214}, {&quot;x&quot;: -2.6923076923076925, &quot;y&quot;: 4.23076923076923, &quot;z&quot;: -0.009250285950513604}, {&quot;x&quot;: -2.6923076923076925, &quot;y&quot;: 4.487179487179486, &quot;z&quot;: -0.12767883171207858}, {&quot;x&quot;: -2.6923076923076925, &quot;y&quot;: 4.743589743589743, &quot;z&quot;: -0.18145874726056793}, {&quot;x&quot;: -2.6923076923076925, &quot;y&quot;: 5.0, &quot;z&quot;: -0.1490423765968959}, {&quot;x&quot;: -2.435897435897436, &quot;y&quot;: -4.743589743589744, &quot;z&quot;: -0.1621512332779497}, {&quot;x&quot;: -2.435897435897436, &quot;y&quot;: -5.0, &quot;z&quot;: -0.17642014222082292}, {&quot;x&quot;: -2.435897435897436, &quot;y&quot;: -4.487179487179487, &quot;z&quot;: -0.06386100244520297}, {&quot;x&quot;: -2.435897435897436, &quot;y&quot;: -4.230769230769231, &quot;z&quot;: 0.07426425040162632}, {&quot;x&quot;: -2.435897435897436, &quot;y&quot;: -3.9743589743589745, &quot;z&quot;: 0.18751704244724113}, {&quot;x&quot;: -2.435897435897436, &quot;y&quot;: -3.717948717948718, &quot;z&quot;: 0.22161150667081955}, {&quot;x&quot;: -2.435897435897436, &quot;y&quot;: -3.4615384615384617, &quot;z&quot;: 0.15774217011848968}, {&quot;x&quot;: -2.435897435897436, &quot;y&quot;: -3.2051282051282053, &quot;z&quot;: 0.02005162258719657}, {&quot;x&quot;: -2.435897435897436, &quot;y&quot;: -2.948717948717949, &quot;z&quot;: -0.13680209349327188}, {&quot;x&quot;: -2.435897435897436, &quot;y&quot;: -2.6923076923076925, &quot;z&quot;: -0.25252736907253187}, {&quot;x&quot;: -2.435897435897436, &quot;y&quot;: -2.435897435897436, &quot;z&quot;: -0.28594442583519325}, {&quot;x&quot;: -2.435897435897436, &quot;y&quot;: -2.1794871794871797, &quot;z&quot;: -0.22859921985486248}, {&quot;x&quot;: -2.435897435897436, &quot;y&quot;: -1.9230769230769234, &quot;z&quot;: -0.10295020095341274}, {&quot;x&quot;: -2.435897435897436, &quot;y&quot;: -1.666666666666667, &quot;z&quot;: 0.05142019026962565}, {&quot;x&quot;: -2.435897435897436, &quot;y&quot;: -1.4102564102564106, &quot;z&quot;: 0.1953560652597386}, {&quot;x&quot;: -2.435897435897436, &quot;y&quot;: -1.1538461538461542, &quot;z&quot;: 0.303299788385957}, {&quot;x&quot;: -2.435897435897436, &quot;y&quot;: -0.8974358974358978, &quot;z&quot;: 0.36784352552862964}, {&quot;x&quot;: -2.435897435897436, &quot;y&quot;: -0.6410256410256414, &quot;z&quot;: 0.39631500866096975}, {&quot;x&quot;: -2.435897435897436, &quot;y&quot;: -0.384615384615385, &quot;z&quot;: 0.40320180479496565}, {&quot;x&quot;: -2.435897435897436, &quot;y&quot;: -0.12820512820512864, &quot;z&quot;: 0.40251990402331794}, {&quot;x&quot;: -2.435897435897436, &quot;y&quot;: 0.12820512820512775, &quot;z&quot;: 0.40251990402331794}, {&quot;x&quot;: -2.435897435897436, &quot;y&quot;: 0.38461538461538414, &quot;z&quot;: 0.40320180479496565}, {&quot;x&quot;: -2.435897435897436, &quot;y&quot;: 0.6410256410256405, &quot;z&quot;: 0.39631500866096975}, {&quot;x&quot;: -2.435897435897436, &quot;y&quot;: 0.8974358974358969, &quot;z&quot;: 0.36784352552862976}, {&quot;x&quot;: -2.435897435897436, &quot;y&quot;: 1.1538461538461533, &quot;z&quot;: 0.3032997883859571}, {&quot;x&quot;: -2.435897435897436, &quot;y&quot;: 1.4102564102564097, &quot;z&quot;: 0.19535606525973917}, {&quot;x&quot;: -2.435897435897436, &quot;y&quot;: 1.666666666666666, &quot;z&quot;: 0.05142019026962626}, {&quot;x&quot;: -2.435897435897436, &quot;y&quot;: 1.9230769230769225, &quot;z&quot;: -0.10295020095341223}, {&quot;x&quot;: -2.435897435897436, &quot;y&quot;: 2.179487179487179, &quot;z&quot;: -0.22859921985486215}, {&quot;x&quot;: -2.435897435897436, &quot;y&quot;: 2.4358974358974352, &quot;z&quot;: -0.2859444258351932}, {&quot;x&quot;: -2.435897435897436, &quot;y&quot;: 2.6923076923076916, &quot;z&quot;: -0.2525273690725323}, {&quot;x&quot;: -2.435897435897436, &quot;y&quot;: 2.948717948717948, &quot;z&quot;: -0.13680209349327227}, {&quot;x&quot;: -2.435897435897436, &quot;y&quot;: 3.2051282051282044, &quot;z&quot;: 0.020051622587195696}, {&quot;x&quot;: -2.435897435897436, &quot;y&quot;: 3.461538461538461, &quot;z&quot;: 0.1577421701184894}, {&quot;x&quot;: -2.435897435897436, &quot;y&quot;: 3.717948717948717, &quot;z&quot;: 0.22161150667081944}, {&quot;x&quot;: -2.435897435897436, &quot;y&quot;: 3.9743589743589736, &quot;z&quot;: 0.18751704244724113}, {&quot;x&quot;: -2.435897435897436, &quot;y&quot;: 4.23076923076923, &quot;z&quot;: 0.07426425040162701}, {&quot;x&quot;: -2.435897435897436, &quot;y&quot;: 4.487179487179486, &quot;z&quot;: -0.06386100244520297}, {&quot;x&quot;: -2.435897435897436, &quot;y&quot;: 4.743589743589743, &quot;z&quot;: -0.16215123327794975}, {&quot;x&quot;: -2.435897435897436, &quot;y&quot;: 5.0, &quot;z&quot;: -0.17642014222082292}, {&quot;x&quot;: -2.1794871794871797, &quot;y&quot;: -4.743589743589744, &quot;z&quot;: -0.12225553877823543}, {&quot;x&quot;: -2.1794871794871797, &quot;y&quot;: -5.0, &quot;z&quot;: -0.181458747260568}, {&quot;x&quot;: -2.1794871794871797, &quot;y&quot;: -4.487179487179487, &quot;z&quot;: 0.00725264009597958}, {&quot;x&quot;: -2.1794871794871797, &quot;y&quot;: -4.230769230769231, &quot;z&quot;: 0.14424318539582479}, {&quot;x&quot;: -2.1794871794871797, &quot;y&quot;: -3.9743589743589745, &quot;z&quot;: 0.21945165588530713}, {&quot;x&quot;: -2.1794871794871797, &quot;y&quot;: -3.717948717948718, &quot;z&quot;: 0.19177960940564062}, {&quot;x&quot;: -2.1794871794871797, &quot;y&quot;: -3.4615384615384617, &quot;z&quot;: 0.06859293033635439}, {&quot;x&quot;: -2.1794871794871797, &quot;y&quot;: -3.2051282051282053, &quot;z&quot;: -0.09801869890005727}, {&quot;x&quot;: -2.1794871794871797, &quot;y&quot;: -2.948717948717949, &quot;z&quot;: -0.23614455601492576}, {&quot;x&quot;: -2.1794871794871797, &quot;y&quot;: -2.6923076923076925, &quot;z&quot;: -0.2868375581433094}, {&quot;x&quot;: -2.1794871794871797, &quot;y&quot;: -2.435897435897436, &quot;z&quot;: -0.22859921985486248}, {&quot;x&quot;: -2.1794871794871797, &quot;y&quot;: -2.1794871794871797, &quot;z&quot;: -0.08291366426279477}, {&quot;x&quot;: -2.1794871794871797, &quot;y&quot;: -1.9230769230769234, &quot;z&quot;: 0.09949673187583687}, {&quot;x&quot;: -2.1794871794871797, &quot;y&quot;: -1.666666666666667, &quot;z&quot;: 0.2627616487482757}, {&quot;x&quot;: -2.1794871794871797, &quot;y&quot;: -1.4102564102564106, &quot;z&quot;: 0.36784352552862964}, {&quot;x&quot;: -2.1794871794871797, &quot;y&quot;: -1.1538461538461542, &quot;z&quot;: 0.40320180479496565}, {&quot;x&quot;: -2.1794871794871797, &quot;y&quot;: -0.8974358974358978, &quot;z&quot;: 0.38217914697454497}, {&quot;x&quot;: -2.1794871794871797, &quot;y&quot;: -0.6410256410256414, &quot;z&quot;: 0.33182490974641554}, {&quot;x&quot;: -2.1794871794871797, &quot;y&quot;: -0.384615384615385, &quot;z&quot;: 0.2804717729699191}, {&quot;x&quot;: -2.1794871794871797, &quot;y&quot;: -0.12820512820512864, &quot;z&quot;: 0.24936703371622507}, {&quot;x&quot;: -2.1794871794871797, &quot;y&quot;: 0.12820512820512775, &quot;z&quot;: 0.24936703371622507}, {&quot;x&quot;: -2.1794871794871797, &quot;y&quot;: 0.38461538461538414, &quot;z&quot;: 0.2804717729699191}, {&quot;x&quot;: -2.1794871794871797, &quot;y&quot;: 0.6410256410256405, &quot;z&quot;: 0.3318249097464151}, {&quot;x&quot;: -2.1794871794871797, &quot;y&quot;: 0.8974358974358969, &quot;z&quot;: 0.38217914697454475}, {&quot;x&quot;: -2.1794871794871797, &quot;y&quot;: 1.1538461538461533, &quot;z&quot;: 0.40320180479496565}, {&quot;x&quot;: -2.1794871794871797, &quot;y&quot;: 1.4102564102564097, &quot;z&quot;: 0.36784352552862976}, {&quot;x&quot;: -2.1794871794871797, &quot;y&quot;: 1.666666666666666, &quot;z&quot;: 0.2627616487482761}, {&quot;x&quot;: -2.1794871794871797, &quot;y&quot;: 1.9230769230769225, &quot;z&quot;: 0.09949673187583748}, {&quot;x&quot;: -2.1794871794871797, &quot;y&quot;: 2.179487179487179, &quot;z&quot;: -0.08291366426279477}, {&quot;x&quot;: -2.1794871794871797, &quot;y&quot;: 2.4358974358974352, &quot;z&quot;: -0.22859921985486215}, {&quot;x&quot;: -2.1794871794871797, &quot;y&quot;: 2.6923076923076916, &quot;z&quot;: -0.2868375581433094}, {&quot;x&quot;: -2.1794871794871797, &quot;y&quot;: 2.948717948717948, &quot;z&quot;: -0.23614455601492604}, {&quot;x&quot;: -2.1794871794871797, &quot;y&quot;: 3.2051282051282044, &quot;z&quot;: -0.09801869890005771}, {&quot;x&quot;: -2.1794871794871797, &quot;y&quot;: 3.461538461538461, &quot;z&quot;: 0.06859293033635355}, {&quot;x&quot;: -2.1794871794871797, &quot;y&quot;: 3.717948717948717, &quot;z&quot;: 0.19177960940564043}, {&quot;x&quot;: -2.1794871794871797, &quot;y&quot;: 3.9743589743589736, &quot;z&quot;: 0.21945165588530727}, {&quot;x&quot;: -2.1794871794871797, &quot;y&quot;: 4.23076923076923, &quot;z&quot;: 0.1442431853958254}, {&quot;x&quot;: -2.1794871794871797, &quot;y&quot;: 4.487179487179486, &quot;z&quot;: 0.007252640095980293}, {&quot;x&quot;: -2.1794871794871797, &quot;y&quot;: 4.743589743589743, &quot;z&quot;: -0.12225553877823545}, {&quot;x&quot;: -2.1794871794871797, &quot;y&quot;: 5.0, &quot;z&quot;: -0.181458747260568}, {&quot;x&quot;: -1.9230769230769234, &quot;y&quot;: -4.743589743589744, &quot;z&quot;: -0.07110861736368898}, {&quot;x&quot;: -1.9230769230769234, &quot;y&quot;: -5.0, &quot;z&quot;: -0.1681651388148705}, {&quot;x&quot;: -1.9230769230769234, &quot;y&quot;: -4.487179487179487, &quot;z&quot;: 0.07426425040162564}, {&quot;x&quot;: -1.9230769230769234, &quot;y&quot;: -4.230769230769231, &quot;z&quot;: 0.19253864247086708}, {&quot;x&quot;: -1.9230769230769234, &quot;y&quot;: -3.9743589743589745, &quot;z&quot;: 0.21849671405696244}, {&quot;x&quot;: -1.9230769230769234, &quot;y&quot;: -3.717948717948718, &quot;z&quot;: 0.13169628077917828}, {&quot;x&quot;: -1.9230769230769234, &quot;y&quot;: -3.4615384615384617, &quot;z&quot;: -0.03176290856153143}, {&quot;x&quot;: -1.9230769230769234, &quot;y&quot;: -3.2051282051282053, &quot;z&quot;: -0.19629367355494298}, {&quot;x&quot;: -1.9230769230769234, &quot;y&quot;: -2.948717948717949, &quot;z&quot;: -0.2834765187178331}, {&quot;x&quot;: -1.9230769230769234, &quot;y&quot;: -2.6923076923076925, &quot;z&quot;: -0.24922323562680584}, {&quot;x&quot;: -1.9230769230769234, &quot;y&quot;: -2.435897435897436, &quot;z&quot;: -0.10295020095341274}, {&quot;x&quot;: -1.9230769230769234, &quot;y&quot;: -2.1794871794871797, &quot;z&quot;: 0.09949673187583687}, {&quot;x&quot;: -1.9230769230769234, &quot;y&quot;: -1.9230769230769234, &quot;z&quot;: 0.2835780881782833}, {&quot;x&quot;: -1.9230769230769234, &quot;y&quot;: -1.666666666666667, &quot;z&quot;: 0.389072898514482}, {&quot;x&quot;: -1.9230769230769234, &quot;y&quot;: -1.4102564102564106, &quot;z&quot;: 0.39214527958875234}, {&quot;x&quot;: -1.9230769230769234, &quot;y&quot;: -1.1538461538461542, &quot;z&quot;: 0.30795661143730024}, {&quot;x&quot;: -1.9230769230769234, &quot;y&quot;: -0.8974358974358978, &quot;z&quot;: 0.1764520585313724}, {&quot;x&quot;: -1.9230769230769234, &quot;y&quot;: -0.6410256410256414, &quot;z&quot;: 0.04195038936514416}, {&quot;x&quot;: -1.9230769230769234, &quot;y&quot;: -0.384615384615385, &quot;z&quot;: -0.062061535024022604}, {&quot;x&quot;: -1.9230769230769234, &quot;y&quot;: -0.12820512820512864, &quot;z&quot;: -0.11740161711927179}, {&quot;x&quot;: -1.9230769230769234, &quot;y&quot;: 0.12820512820512775, &quot;z&quot;: -0.11740161711927179}, {&quot;x&quot;: -1.9230769230769234, &quot;y&quot;: 0.38461538461538414, &quot;z&quot;: -0.062061535024023055}, {&quot;x&quot;: -1.9230769230769234, &quot;y&quot;: 0.6410256410256405, &quot;z&quot;: 0.04195038936514374}, {&quot;x&quot;: -1.9230769230769234, &quot;y&quot;: 0.8974358974358969, &quot;z&quot;: 0.17645205853137205}, {&quot;x&quot;: -1.9230769230769234, &quot;y&quot;: 1.1538461538461533, &quot;z&quot;: 0.30795661143729963}, {&quot;x&quot;: -1.9230769230769234, &quot;y&quot;: 1.4102564102564097, &quot;z&quot;: 0.39214527958875217}, {&quot;x&quot;: -1.9230769230769234, &quot;y&quot;: 1.666666666666666, &quot;z&quot;: 0.3890728985144823}, {&quot;x&quot;: -1.9230769230769234, &quot;y&quot;: 1.9230769230769225, &quot;z&quot;: 0.2835780881782838}, {&quot;x&quot;: -1.9230769230769234, &quot;y&quot;: 2.179487179487179, &quot;z&quot;: 0.09949673187583807}, {&quot;x&quot;: -1.9230769230769234, &quot;y&quot;: 2.4358974358974352, &quot;z&quot;: -0.10295020095341224}, {&quot;x&quot;: -1.9230769230769234, &quot;y&quot;: 2.6923076923076916, &quot;z&quot;: -0.2492232356268056}, {&quot;x&quot;: -1.9230769230769234, &quot;y&quot;: 2.948717948717948, &quot;z&quot;: -0.2834765187178332}, {&quot;x&quot;: -1.9230769230769234, &quot;y&quot;: 3.2051282051282044, &quot;z&quot;: -0.19629367355494365}, {&quot;x&quot;: -1.9230769230769234, &quot;y&quot;: 3.461538461538461, &quot;z&quot;: -0.031762908561532334}, {&quot;x&quot;: -1.9230769230769234, &quot;y&quot;: 3.717948717948717, &quot;z&quot;: 0.1316962807791776}, {&quot;x&quot;: -1.9230769230769234, &quot;y&quot;: 3.9743589743589736, &quot;z&quot;: 0.21849671405696225}, {&quot;x&quot;: -1.9230769230769234, &quot;y&quot;: 4.23076923076923, &quot;z&quot;: 0.19253864247086708}, {&quot;x&quot;: -1.9230769230769234, &quot;y&quot;: 4.487179487179486, &quot;z&quot;: 0.07426425040162632}, {&quot;x&quot;: -1.9230769230769234, &quot;y&quot;: 4.743589743589743, &quot;z&quot;: -0.07110861736368898}, {&quot;x&quot;: -1.9230769230769234, &quot;y&quot;: 5.0, &quot;z&quot;: -0.1681651388148705}, {&quot;x&quot;: -1.666666666666667, &quot;y&quot;: -4.743589743589744, &quot;z&quot;: -0.01738852540015784}, {&quot;x&quot;: -1.666666666666667, &quot;y&quot;: -5.0, &quot;z&quot;: -0.14250583708975548}, {&quot;x&quot;: -1.666666666666667, &quot;y&quot;: -4.487179487179487, &quot;z&quot;: 0.12974477006536733}, {&quot;x&quot;: -1.666666666666667, &quot;y&quot;: -4.230769230769231, &quot;z&quot;: 0.21749963044648857}, {&quot;x&quot;: -1.666666666666667, &quot;y&quot;: -3.9743589743589745, &quot;z&quot;: 0.19177960940564062}, {&quot;x&quot;: -1.666666666666667, &quot;y&quot;: -3.717948717948718, &quot;z&quot;: 0.056862409133510455}, {&quot;x&quot;: -1.666666666666667, &quot;y&quot;: -3.4615384615384617, &quot;z&quot;: -0.12404748116237611}, {&quot;x&quot;: -1.666666666666667, &quot;y&quot;: -3.2051282051282053, &quot;z&quot;: -0.259682767971955}, {&quot;x&quot;: -1.666666666666667, &quot;y&quot;: -2.948717948717949, &quot;z&quot;: -0.27687046867027165}, {&quot;x&quot;: -1.666666666666667, &quot;y&quot;: -2.6923076923076925, &quot;z&quot;: -0.15770564198367898}, {&quot;x&quot;: -1.666666666666667, &quot;y&quot;: -2.435897435897436, &quot;z&quot;: 0.05142019026962565}, {&quot;x&quot;: -1.666666666666667, &quot;y&quot;: -2.1794871794871797, &quot;z&quot;: 0.2627616487482757}, {&quot;x&quot;: -1.666666666666667, &quot;y&quot;: -1.9230769230769234, &quot;z&quot;: 0.389072898514482}, {&quot;x&quot;: -1.666666666666667, &quot;y&quot;: -1.666666666666667, &quot;z&quot;: 0.38217914697454497}, {&quot;x&quot;: -1.666666666666667, &quot;y&quot;: -1.4102564102564106, &quot;z&quot;: 0.24936703371622507}, {&quot;x&quot;: -1.666666666666667, &quot;y&quot;: -1.1538461538461542, &quot;z&quot;: 0.04195038936514416}, {&quot;x&quot;: -1.666666666666667, &quot;y&quot;: -0.8974358974358978, &quot;z&quot;: -0.17437277928309503}, {&quot;x&quot;: -1.666666666666667, &quot;y&quot;: -0.6410256410256414, &quot;z&quot;: -0.3491911770542299}, {&quot;x&quot;: -1.666666666666667, &quot;y&quot;: -0.384615384615385, &quot;z&quot;: -0.461422742086449}, {&quot;x&quot;: -1.666666666666667, &quot;y&quot;: -0.12820512820512864, &quot;z&quot;: -0.5133961102840859}, {&quot;x&quot;: -1.666666666666667, &quot;y&quot;: 0.12820512820512775, &quot;z&quot;: -0.5133961102840859}, {&quot;x&quot;: -1.666666666666667, &quot;y&quot;: 0.38461538461538414, &quot;z&quot;: -0.461422742086449}, {&quot;x&quot;: -1.666666666666667, &quot;y&quot;: 0.6410256410256405, &quot;z&quot;: -0.34919117705423036}, {&quot;x&quot;: -1.666666666666667, &quot;y&quot;: 0.8974358974358969, &quot;z&quot;: -0.17437277928309503}, {&quot;x&quot;: -1.666666666666667, &quot;y&quot;: 1.1538461538461533, &quot;z&quot;: 0.04195038936514374}, {&quot;x&quot;: -1.666666666666667, &quot;y&quot;: 1.4102564102564097, &quot;z&quot;: 0.24936703371622443}, {&quot;x&quot;: -1.666666666666667, &quot;y&quot;: 1.666666666666666, &quot;z&quot;: 0.38217914697454464}, {&quot;x&quot;: -1.666666666666667, &quot;y&quot;: 1.9230769230769225, &quot;z&quot;: 0.3890728985144823}, {&quot;x&quot;: -1.666666666666667, &quot;y&quot;: 2.179487179487179, &quot;z&quot;: 0.2627616487482761}, {&quot;x&quot;: -1.666666666666667, &quot;y&quot;: 2.4358974358974352, &quot;z&quot;: 0.05142019026962687}, {&quot;x&quot;: -1.666666666666667, &quot;y&quot;: 2.6923076923076916, &quot;z&quot;: -0.1577056419836785}, {&quot;x&quot;: -1.666666666666667, &quot;y&quot;: 2.948717948717948, &quot;z&quot;: -0.2768704686702714}, {&quot;x&quot;: -1.666666666666667, &quot;y&quot;: 3.2051282051282044, &quot;z&quot;: -0.2596827679719554}, {&quot;x&quot;: -1.666666666666667, &quot;y&quot;: 3.461538461538461, &quot;z&quot;: -0.12404748116237656}, {&quot;x&quot;: -1.666666666666667, &quot;y&quot;: 3.717948717948717, &quot;z&quot;: 0.056862409133509616}, {&quot;x&quot;: -1.666666666666667, &quot;y&quot;: 3.9743589743589736, &quot;z&quot;: 0.19177960940564043}, {&quot;x&quot;: -1.666666666666667, &quot;y&quot;: 4.23076923076923, &quot;z&quot;: 0.21749963044648865}, {&quot;x&quot;: -1.666666666666667, &quot;y&quot;: 4.487179487179486, &quot;z&quot;: 0.12974477006536764}, {&quot;x&quot;: -1.666666666666667, &quot;y&quot;: 4.743589743589743, &quot;z&quot;: -0.01738852540015714}, {&quot;x&quot;: -1.666666666666667, &quot;y&quot;: 5.0, &quot;z&quot;: -0.14250583708975548}, {&quot;x&quot;: -1.4102564102564106, &quot;y&quot;: -4.743589743589744, &quot;z&quot;: 0.032372655749033356}, {&quot;x&quot;: -1.4102564102564106, &quot;y&quot;: -5.0, &quot;z&quot;: -0.11072072650585248}, {&quot;x&quot;: -1.4102564102564106, &quot;y&quot;: -4.487179487179487, &quot;z&quot;: 0.17058680183190766}, {&quot;x&quot;: -1.4102564102564106, &quot;y&quot;: -4.230769230769231, &quot;z&quot;: 0.22243257961224736}, {&quot;x&quot;: -1.4102564102564106, &quot;y&quot;: -3.9743589743589745, &quot;z&quot;: 0.14950837516294282}, {&quot;x&quot;: -1.4102564102564106, &quot;y&quot;: -3.717948717948718, &quot;z&quot;: -0.018607513033307106}, {&quot;x&quot;: -1.4102564102564106, &quot;y&quot;: -3.4615384615384617, &quot;z&quot;: -0.19629367355494326}, {&quot;x&quot;: -1.4102564102564106, &quot;y&quot;: -3.2051282051282053, &quot;z&quot;: -0.2855743751375799}, {&quot;x&quot;: -1.4102564102564106, &quot;y&quot;: -2.948717948717949, &quot;z&quot;: -0.22859921985486248}, {&quot;x&quot;: -1.4102564102564106, &quot;y&quot;: -2.6923076923076925, &quot;z&quot;: -0.04051947339047555}, {&quot;x&quot;: -1.4102564102564106, &quot;y&quot;: -2.435897435897436, &quot;z&quot;: 0.1953560652597386}, {&quot;x&quot;: -1.4102564102564106, &quot;y&quot;: -2.1794871794871797, &quot;z&quot;: 0.36784352552862964}, {&quot;x&quot;: -1.4102564102564106, &quot;y&quot;: -1.9230769230769234, &quot;z&quot;: 0.39214527958875234}, {&quot;x&quot;: -1.4102564102564106, &quot;y&quot;: -1.666666666666667, &quot;z&quot;: 0.24936703371622507}, {&quot;x&quot;: -1.4102564102564106, &quot;y&quot;: -1.4102564102564106, &quot;z&quot;: -0.008814793892181807}, {&quot;x&quot;: -1.4102564102564106, &quot;y&quot;: -1.1538461538461542, &quot;z&quot;: -0.2909471751707847}, {&quot;x&quot;: -1.4102564102564106, &quot;y&quot;: -0.8974358974358978, &quot;z&quot;: -0.5133961102840857}, {&quot;x&quot;: -1.4102564102564106, &quot;y&quot;: -0.6410256410256414, &quot;z&quot;: -0.6378653553566377}, {&quot;x&quot;: -1.4102564102564106, &quot;y&quot;: -0.384615384615385, &quot;z&quot;: -0.6791754504995728}, {&quot;x&quot;: -1.4102564102564106, &quot;y&quot;: -0.12820512820512864, &quot;z&quot;: -0.6817736703067452}, {&quot;x&quot;: -1.4102564102564106, &quot;y&quot;: 0.12820512820512775, &quot;z&quot;: -0.6817736703067451}, {&quot;x&quot;: -1.4102564102564106, &quot;y&quot;: 0.38461538461538414, &quot;z&quot;: -0.679175450499573}, {&quot;x&quot;: -1.4102564102564106, &quot;y&quot;: 0.6410256410256405, &quot;z&quot;: -0.6378653553566379}, {&quot;x&quot;: -1.4102564102564106, &quot;y&quot;: 0.8974358974358969, &quot;z&quot;: -0.5133961102840863}, {&quot;x&quot;: -1.4102564102564106, &quot;y&quot;: 1.1538461538461533, &quot;z&quot;: -0.2909471751707856}, {&quot;x&quot;: -1.4102564102564106, &quot;y&quot;: 1.4102564102564097, &quot;z&quot;: -0.008814793892183148}, {&quot;x&quot;: -1.4102564102564106, &quot;y&quot;: 1.666666666666666, &quot;z&quot;: 0.24936703371622443}, {&quot;x&quot;: -1.4102564102564106, &quot;y&quot;: 1.9230769230769225, &quot;z&quot;: 0.39214527958875217}, {&quot;x&quot;: -1.4102564102564106, &quot;y&quot;: 2.179487179487179, &quot;z&quot;: 0.36784352552862976}, {&quot;x&quot;: -1.4102564102564106, &quot;y&quot;: 2.4358974358974352, &quot;z&quot;: 0.1953560652597397}, {&quot;x&quot;: -1.4102564102564106, &quot;y&quot;: 2.6923076923076916, &quot;z&quot;: -0.040519473390474396}, {&quot;x&quot;: -1.4102564102564106, &quot;y&quot;: 2.948717948717948, &quot;z&quot;: -0.2285992198548618}, {&quot;x&quot;: -1.4102564102564106, &quot;y&quot;: 3.2051282051282044, &quot;z&quot;: -0.28557437513757994}, {&quot;x&quot;: -1.4102564102564106, &quot;y&quot;: 3.461538461538461, &quot;z&quot;: -0.19629367355494395}, {&quot;x&quot;: -1.4102564102564106, &quot;y&quot;: 3.717948717948717, &quot;z&quot;: -0.01860751303330755}, {&quot;x&quot;: -1.4102564102564106, &quot;y&quot;: 3.9743589743589736, &quot;z&quot;: 0.1495083751629422}, {&quot;x&quot;: -1.4102564102564106, &quot;y&quot;: 4.23076923076923, &quot;z&quot;: 0.22243257961224733}, {&quot;x&quot;: -1.4102564102564106, &quot;y&quot;: 4.487179487179486, &quot;z&quot;: 0.17058680183190766}, {&quot;x&quot;: -1.4102564102564106, &quot;y&quot;: 4.743589743589743, &quot;z&quot;: 0.032372655749034064}, {&quot;x&quot;: -1.4102564102564106, &quot;y&quot;: 5.0, &quot;z&quot;: -0.11072072650585248}, {&quot;x&quot;: -1.1538461538461542, &quot;y&quot;: -4.743589743589744, &quot;z&quot;: 0.07426425040162632}, {&quot;x&quot;: -1.1538461538461542, &quot;y&quot;: -5.0, &quot;z&quot;: -0.07818654606831722}, {&quot;x&quot;: -1.1538461538461542, &quot;y&quot;: -4.487179487179487, &quot;z&quot;: 0.19722429601204408}, {&quot;x&quot;: -1.1538461538461542, &quot;y&quot;: -4.230769230769231, &quot;z&quot;: 0.21338743078659142}, {&quot;x&quot;: -1.1538461538461542, &quot;y&quot;: -3.9743589743589745, &quot;z&quot;: 0.10182765566147567}, {&quot;x&quot;: -1.1538461538461542, &quot;y&quot;: -3.717948717948718, &quot;z&quot;: -0.084825533540923}, {&quot;x&quot;: -1.1538461538461542, &quot;y&quot;: -3.4615384615384617, &quot;z&quot;: -0.24466721047350626}, {&quot;x&quot;: -1.1538461538461542, &quot;y&quot;: -3.2051282051282053, &quot;z&quot;: -0.28098190137561274}, {&quot;x&quot;: -1.1538461538461542, &quot;y&quot;: -2.948717948717949, &quot;z&quot;: -0.15770564198367898}, {&quot;x&quot;: -1.1538461538461542, &quot;y&quot;: -2.6923076923076925, &quot;z&quot;: 0.07536961333393281}, {&quot;x&quot;: -1.1538461538461542, &quot;y&quot;: -2.435897435897436, &quot;z&quot;: 0.303299788385957}, {&quot;x&quot;: -1.1538461538461542, &quot;y&quot;: -2.1794871794871797, &quot;z&quot;: 0.40320180479496565}, {&quot;x&quot;: -1.1538461538461542, &quot;y&quot;: -1.9230769230769234, &quot;z&quot;: 0.30795661143730024}, {&quot;x&quot;: -1.1538461538461542, &quot;y&quot;: -1.666666666666667, &quot;z&quot;: 0.04195038936514416}, {&quot;x&quot;: -1.1538461538461542, &quot;y&quot;: -1.4102564102564106, &quot;z&quot;: -0.2909471751707847}, {&quot;x&quot;: -1.1538461538461542, &quot;y&quot;: -1.1538461538461542, &quot;z&quot;: -0.5610502140446171}, {&quot;x&quot;: -1.1538461538461542, &quot;y&quot;: -0.8974358974358978, &quot;z&quot;: -0.6791754504995728}, {&quot;x&quot;: -1.1538461538461542, &quot;y&quot;: -0.6410256410256414, &quot;z&quot;: -0.639604866693515}, {&quot;x&quot;: -1.1538461538461542, &quot;y&quot;: -0.384615384615385, &quot;z&quot;: -0.5166068451590108}, {&quot;x&quot;: -1.1538461538461542, &quot;y&quot;: -0.12820512820512864, &quot;z&quot;: -0.41720956339767595}, {&quot;x&quot;: -1.1538461538461542, &quot;y&quot;: 0.12820512820512775, &quot;z&quot;: -0.41720956339767595}, {&quot;x&quot;: -1.1538461538461542, &quot;y&quot;: 0.38461538461538414, &quot;z&quot;: -0.5166068451590102}, {&quot;x&quot;: -1.1538461538461542, &quot;y&quot;: 0.6410256410256405, &quot;z&quot;: -0.6396048666935145}, {&quot;x&quot;: -1.1538461538461542, &quot;y&quot;: 0.8974358974358969, &quot;z&quot;: -0.679175450499573}, {&quot;x&quot;: -1.1538461538461542, &quot;y&quot;: 1.1538461538461533, &quot;z&quot;: -0.5610502140446174}, {&quot;x&quot;: -1.1538461538461542, &quot;y&quot;: 1.4102564102564097, &quot;z&quot;: -0.29094717517078605}, {&quot;x&quot;: -1.1538461538461542, &quot;y&quot;: 1.666666666666666, &quot;z&quot;: 0.04195038936514287}, {&quot;x&quot;: -1.1538461538461542, &quot;y&quot;: 1.9230769230769225, &quot;z&quot;: 0.30795661143729963}, {&quot;x&quot;: -1.1538461538461542, &quot;y&quot;: 2.179487179487179, &quot;z&quot;: 0.40320180479496565}, {&quot;x&quot;: -1.1538461538461542, &quot;y&quot;: 2.4358974358974352, &quot;z&quot;: 0.3032997883859575}, {&quot;x&quot;: -1.1538461538461542, &quot;y&quot;: 2.6923076923076916, &quot;z&quot;: 0.07536961333393402}, {&quot;x&quot;: -1.1538461538461542, &quot;y&quot;: 2.948717948717948, &quot;z&quot;: -0.1577056419836785}, {&quot;x&quot;: -1.1538461538461542, &quot;y&quot;: 3.2051282051282044, &quot;z&quot;: -0.2809819013756126}, {&quot;x&quot;: -1.1538461538461542, &quot;y&quot;: 3.461538461538461, &quot;z&quot;: -0.24466721047350673}, {&quot;x&quot;: -1.1538461538461542, &quot;y&quot;: 3.717948717948717, &quot;z&quot;: -0.08482553354092344}, {&quot;x&quot;: -1.1538461538461542, &quot;y&quot;: 3.9743589743589736, &quot;z&quot;: 0.1018276556614749}, {&quot;x&quot;: -1.1538461538461542, &quot;y&quot;: 4.23076923076923, &quot;z&quot;: 0.21338743078659142}, {&quot;x&quot;: -1.1538461538461542, &quot;y&quot;: 4.487179487179486, &quot;z&quot;: 0.19722429601204441}, {&quot;x&quot;: -1.1538461538461542, &quot;y&quot;: 4.743589743589743, &quot;z&quot;: 0.07426425040162701}, {&quot;x&quot;: -1.1538461538461542, &quot;y&quot;: 5.0, &quot;z&quot;: -0.07818654606831722}, {&quot;x&quot;: -0.8974358974358978, &quot;y&quot;: -4.743589743589744, &quot;z&quot;: 0.10670645293645792}, {&quot;x&quot;: -0.8974358974358978, &quot;y&quot;: -5.0, &quot;z&quot;: -0.0488961793689263}, {&quot;x&quot;: -0.8974358974358978, &quot;y&quot;: -4.487179487179487, &quot;z&quot;: 0.21232309865066645}, {&quot;x&quot;: -0.8974358974358978, &quot;y&quot;: -4.230769230769231, &quot;z&quot;: 0.19711035355159282}, {&quot;x&quot;: -0.8974358974358978, &quot;y&quot;: -3.9743589743589745, &quot;z&quot;: 0.056862409133510455}, {&quot;x&quot;: -0.8974358974358978, &quot;y&quot;: -3.717948717948718, &quot;z&quot;: -0.13680209349327188}, {&quot;x&quot;: -0.8974358974358978, &quot;y&quot;: -3.4615384615384617, &quot;z&quot;: -0.2717145043120364}, {&quot;x&quot;: -0.8974358974358978, &quot;y&quot;: -3.2051282051282053, &quot;z&quot;: -0.2578328027491931}, {&quot;x&quot;: -0.8974358974358978, &quot;y&quot;: -2.948717948717949, &quot;z&quot;: -0.08291366426279477}, {&quot;x&quot;: -0.8974358974358978, &quot;y&quot;: -2.6923076923076925, &quot;z&quot;: 0.1717479510744085}, {&quot;x&quot;: -0.8974358974358978, &quot;y&quot;: -2.435897435897436, &quot;z&quot;: 0.36784352552862964}, {&quot;x&quot;: -0.8974358974358978, &quot;y&quot;: -2.1794871794871797, &quot;z&quot;: 0.38217914697454497}, {&quot;x&quot;: -0.8974358974358978, &quot;y&quot;: -1.9230769230769234, &quot;z&quot;: 0.1764520585313724}, {&quot;x&quot;: -0.8974358974358978, &quot;y&quot;: -1.666666666666667, &quot;z&quot;: -0.17437277928309503}, {&quot;x&quot;: -0.8974358974358978, &quot;y&quot;: -1.4102564102564106, &quot;z&quot;: -0.5133961102840857}, {&quot;x&quot;: -0.8974358974358978, &quot;y&quot;: -1.1538461538461542, &quot;z&quot;: -0.6791754504995728}, {&quot;x&quot;: -0.8974358974358978, &quot;y&quot;: -0.8974358974358978, &quot;z&quot;: -0.5896595304430514}, {&quot;x&quot;: -0.8974358974358978, &quot;y&quot;: -0.6410256410256414, &quot;z&quot;: -0.28793823633948723}, {&quot;x&quot;: -0.8974358974358978, &quot;y&quot;: -0.384615384615385, &quot;z&quot;: 0.07592596381204136}, {&quot;x&quot;: -0.8974358974358978, &quot;y&quot;: -0.12820512820512864, &quot;z&quot;: 0.3192235572385839}, {&quot;x&quot;: -0.8974358974358978, &quot;y&quot;: 0.12820512820512775, &quot;z&quot;: 0.3192235572385845}, {&quot;x&quot;: -0.8974358974358978, &quot;y&quot;: 0.38461538461538414, &quot;z&quot;: 0.07592596381204277}, {&quot;x&quot;: -0.8974358974358978, &quot;y&quot;: 0.6410256410256405, &quot;z&quot;: -0.2879382363394859}, {&quot;x&quot;: -0.8974358974358978, &quot;y&quot;: 0.8974358974358969, &quot;z&quot;: -0.5896595304430509}, {&quot;x&quot;: -0.8974358974358978, &quot;y&quot;: 1.1538461538461533, &quot;z&quot;: -0.679175450499573}, {&quot;x&quot;: -0.8974358974358978, &quot;y&quot;: 1.4102564102564097, &quot;z&quot;: -0.5133961102840866}, {&quot;x&quot;: -0.8974358974358978, &quot;y&quot;: 1.666666666666666, &quot;z&quot;: -0.17437277928309594}, {&quot;x&quot;: -0.8974358974358978, &quot;y&quot;: 1.9230769230769225, &quot;z&quot;: 0.1764520585313713}, {&quot;x&quot;: -0.8974358974358978, &quot;y&quot;: 2.179487179487179, &quot;z&quot;: 0.38217914697454464}, {&quot;x&quot;: -0.8974358974358978, &quot;y&quot;: 2.4358974358974352, &quot;z&quot;: 0.36784352552863003}, {&quot;x&quot;: -0.8974358974358978, &quot;y&quot;: 2.6923076923076916, &quot;z&quot;: 0.17174795107440963}, {&quot;x&quot;: -0.8974358974358978, &quot;y&quot;: 2.948717948717948, &quot;z&quot;: -0.08291366426279421}, {&quot;x&quot;: -0.8974358974358978, &quot;y&quot;: 3.2051282051282044, &quot;z&quot;: -0.2578328027491929}, {&quot;x&quot;: -0.8974358974358978, &quot;y&quot;: 3.461538461538461, &quot;z&quot;: -0.2717145043120366}, {&quot;x&quot;: -0.8974358974358978, &quot;y&quot;: 3.717948717948717, &quot;z&quot;: -0.13680209349327227}, {&quot;x&quot;: -0.8974358974358978, &quot;y&quot;: 3.9743589743589736, &quot;z&quot;: 0.056862409133509616}, {&quot;x&quot;: -0.8974358974358978, &quot;y&quot;: 4.23076923076923, &quot;z&quot;: 0.19711035355159243}, {&quot;x&quot;: -0.8974358974358978, &quot;y&quot;: 4.487179487179486, &quot;z&quot;: 0.21232309865066665}, {&quot;x&quot;: -0.8974358974358978, &quot;y&quot;: 4.743589743589743, &quot;z&quot;: 0.10670645293645857}, {&quot;x&quot;: -0.8974358974358978, &quot;y&quot;: 5.0, &quot;z&quot;: -0.0488961793689263}, {&quot;x&quot;: -0.6410256410256414, &quot;y&quot;: -4.743589743589744, &quot;z&quot;: 0.12974477006536764}, {&quot;x&quot;: -0.6410256410256414, &quot;y&quot;: -5.0, &quot;z&quot;: -0.025434298774036877}, {&quot;x&quot;: -0.6410256410256414, &quot;y&quot;: -4.487179487179487, &quot;z&quot;: 0.21945165588530713}, {&quot;x&quot;: -0.6410256410256414, &quot;y&quot;: -4.230769230769231, &quot;z&quot;: 0.1796237019465825}, {&quot;x&quot;: -0.6410256410256414, &quot;y&quot;: -3.9743589743589745, &quot;z&quot;: 0.02005162258719657}, {&quot;x&quot;: -0.6410256410256414, &quot;y&quot;: -3.717948717948718, &quot;z&quot;: -0.17352514017266685}, {&quot;x&quot;: -0.6410256410256414, &quot;y&quot;: -3.4615384615384617, &quot;z&quot;: -0.2834765187178331}, {&quot;x&quot;: -0.6410256410256414, &quot;y&quot;: -3.2051282051282053, &quot;z&quot;: -0.2285992198548628}, {&quot;x&quot;: -0.6410256410256414, &quot;y&quot;: -2.948717948717949, &quot;z&quot;: -0.01830385509779292}, {&quot;x&quot;: -0.6410256410256414, &quot;y&quot;: -2.6923076923076925, &quot;z&quot;: 0.2410140284630488}, {&quot;x&quot;: -0.6410256410256414, &quot;y&quot;: -2.435897435897436, &quot;z&quot;: 0.39631500866096975}, {&quot;x&quot;: -0.6410256410256414, &quot;y&quot;: -2.1794871794871797, &quot;z&quot;: 0.33182490974641554}, {&quot;x&quot;: -0.6410256410256414, &quot;y&quot;: -1.9230769230769234, &quot;z&quot;: 0.04195038936514416}, {&quot;x&quot;: -0.6410256410256414, &quot;y&quot;: -1.666666666666667, &quot;z&quot;: -0.3491911770542299}, {&quot;x&quot;: -0.6410256410256414, &quot;y&quot;: -1.4102564102564106, &quot;z&quot;: -0.6378653553566377}, {&quot;x&quot;: -0.6410256410256414, &quot;y&quot;: -1.1538461538461542, &quot;z&quot;: -0.639604866693515}, {&quot;x&quot;: -0.6410256410256414, &quot;y&quot;: -0.8974358974358978, &quot;z&quot;: -0.28793823633948723}, {&quot;x&quot;: -0.6410256410256414, &quot;y&quot;: -0.6410256410256414, &quot;z&quot;: 0.3192235572385834}, {&quot;x&quot;: -0.6410256410256414, &quot;y&quot;: -0.384615384615385, &quot;z&quot;: 0.9531178635992634}, {&quot;x&quot;: -0.6410256410256414, &quot;y&quot;: -0.12820512820512864, &quot;z&quot;: 1.3547678969886714}, {&quot;x&quot;: -0.6410256410256414, &quot;y&quot;: 0.12820512820512775, &quot;z&quot;: 1.3547678969886725}, {&quot;x&quot;: -0.6410256410256414, &quot;y&quot;: 0.38461538461538414, &quot;z&quot;: 0.9531178635992653}, {&quot;x&quot;: -0.6410256410256414, &quot;y&quot;: 0.6410256410256405, &quot;z&quot;: 0.31922355723858603}, {&quot;x&quot;: -0.6410256410256414, &quot;y&quot;: 0.8974358974358969, &quot;z&quot;: -0.2879382363394852}, {&quot;x&quot;: -0.6410256410256414, &quot;y&quot;: 1.1538461538461533, &quot;z&quot;: -0.6396048666935144}, {&quot;x&quot;: -0.6410256410256414, &quot;y&quot;: 1.4102564102564097, &quot;z&quot;: -0.6378653553566384}, {&quot;x&quot;: -0.6410256410256414, &quot;y&quot;: 1.666666666666666, &quot;z&quot;: -0.34919117705423086}, {&quot;x&quot;: -0.6410256410256414, &quot;y&quot;: 1.9230769230769225, &quot;z&quot;: 0.04195038936514287}, {&quot;x&quot;: -0.6410256410256414, &quot;y&quot;: 2.179487179487179, &quot;z&quot;: 0.33182490974641493}, {&quot;x&quot;: -0.6410256410256414, &quot;y&quot;: 2.4358974358974352, &quot;z&quot;: 0.39631500866096997}, {&quot;x&quot;: -0.6410256410256414, &quot;y&quot;: 2.6923076923076916, &quot;z&quot;: 0.24101402846304937}, {&quot;x&quot;: -0.6410256410256414, &quot;y&quot;: 2.948717948717948, &quot;z&quot;: -0.018303855097791748}, {&quot;x&quot;: -0.6410256410256414, &quot;y&quot;: 3.2051282051282044, &quot;z&quot;: -0.2285992198548618}, {&quot;x&quot;: -0.6410256410256414, &quot;y&quot;: 3.461538461538461, &quot;z&quot;: -0.28347651871783325}, {&quot;x&quot;: -0.6410256410256414, &quot;y&quot;: 3.717948717948717, &quot;z&quot;: -0.1735251401726672}, {&quot;x&quot;: -0.6410256410256414, &quot;y&quot;: 3.9743589743589736, &quot;z&quot;: 0.020051622587195696}, {&quot;x&quot;: -0.6410256410256414, &quot;y&quot;: 4.23076923076923, &quot;z&quot;: 0.179623701946582}, {&quot;x&quot;: -0.6410256410256414, &quot;y&quot;: 4.487179487179486, &quot;z&quot;: 0.21945165588530727}, {&quot;x&quot;: -0.6410256410256414, &quot;y&quot;: 4.743589743589743, &quot;z&quot;: 0.12974477006536825}, {&quot;x&quot;: -0.6410256410256414, &quot;y&quot;: 5.0, &quot;z&quot;: -0.025434298774036877}, {&quot;x&quot;: -0.384615384615385, &quot;y&quot;: -4.743589743589744, &quot;z&quot;: 0.1442431853958254}, {&quot;x&quot;: -0.384615384615385, &quot;y&quot;: -5.0, &quot;z&quot;: -0.009250285950514308}, {&quot;x&quot;: -0.384615384615385, &quot;y&quot;: -4.487179487179487, &quot;z&quot;: 0.22202850663653775}, {&quot;x&quot;: -0.384615384615385, &quot;y&quot;: -4.230769230769231, &quot;z&quot;: 0.16551234237681514}, {&quot;x&quot;: -0.384615384615385, &quot;y&quot;: -3.9743589743589745, &quot;z&quot;: -0.005565270813887195}, {&quot;x&quot;: -0.384615384615385, &quot;y&quot;: -3.717948717948718, &quot;z&quot;: -0.19629367355494326}, {&quot;x&quot;: -0.384615384615385, &quot;y&quot;: -3.4615384615384617, &quot;z&quot;: -0.28670486470897005}, {&quot;x&quot;: -0.384615384615385, &quot;y&quot;: -3.2051282051282053, &quot;z&quot;: -0.20348555208197094}, {&quot;x&quot;: -0.384615384615385, &quot;y&quot;: -2.948717948717949, &quot;z&quot;: 0.027757766519312485}, {&quot;x&quot;: -0.384615384615385, &quot;y&quot;: -2.6923076923076925, &quot;z&quot;: 0.2835780881782833}, {&quot;x&quot;: -0.384615384615385, &quot;y&quot;: -2.435897435897436, &quot;z&quot;: 0.40320180479496565}, {&quot;x&quot;: -0.384615384615385, &quot;y&quot;: -2.1794871794871797, &quot;z&quot;: 0.2804717729699191}, {&quot;x&quot;: -0.384615384615385, &quot;y&quot;: -1.9230769230769234, &quot;z&quot;: -0.062061535024022604}, {&quot;x&quot;: -0.384615384615385, &quot;y&quot;: -1.666666666666667, &quot;z&quot;: -0.461422742086449}, {&quot;x&quot;: -0.384615384615385, &quot;y&quot;: -1.4102564102564106, &quot;z&quot;: -0.6791754504995728}, {&quot;x&quot;: -0.384615384615385, &quot;y&quot;: -1.1538461538461542, &quot;z&quot;: -0.5166068451590108}, {&quot;x&quot;: -0.384615384615385, &quot;y&quot;: -0.8974358974358978, &quot;z&quot;: 0.07592596381204136}, {&quot;x&quot;: -0.384615384615385, &quot;y&quot;: -0.6410256410256414, &quot;z&quot;: 0.9531178635992634}, {&quot;x&quot;: -0.384615384615385, &quot;y&quot;: -0.384615384615385, &quot;z&quot;: 1.8209981966554878}, {&quot;x&quot;: -0.384615384615385, &quot;y&quot;: -0.12820512820512864, &quot;z&quot;: 2.358492066305395}, {&quot;x&quot;: -0.384615384615385, &quot;y&quot;: 0.12820512820512775, &quot;z&quot;: 2.3584920663053963}, {&quot;x&quot;: -0.384615384615385, &quot;y&quot;: 0.38461538461538414, &quot;z&quot;: 1.8209981966554907}, {&quot;x&quot;: -0.384615384615385, &quot;y&quot;: 0.6410256410256405, &quot;z&quot;: 0.9531178635992664}, {&quot;x&quot;: -0.384615384615385, &quot;y&quot;: 0.8974358974358969, &quot;z&quot;: 0.07592596381204417}, {&quot;x&quot;: -0.384615384615385, &quot;y&quot;: 1.1538461538461533, &quot;z&quot;: -0.5166068451590095}, {&quot;x&quot;: -0.384615384615385, &quot;y&quot;: 1.4102564102564097, &quot;z&quot;: -0.6791754504995731}, {&quot;x&quot;: -0.384615384615385, &quot;y&quot;: 1.666666666666666, &quot;z&quot;: -0.4614227420864501}, {&quot;x&quot;: -0.384615384615385, &quot;y&quot;: 1.9230769230769225, &quot;z&quot;: -0.062061535024023985}, {&quot;x&quot;: -0.384615384615385, &quot;y&quot;: 2.179487179487179, &quot;z&quot;: 0.28047177296991826}, {&quot;x&quot;: -0.384615384615385, &quot;y&quot;: 2.4358974358974352, &quot;z&quot;: 0.40320180479496565}, {&quot;x&quot;: -0.384615384615385, &quot;y&quot;: 2.6923076923076916, &quot;z&quot;: 0.28357808817828384}, {&quot;x&quot;: -0.384615384615385, &quot;y&quot;: 2.948717948717948, &quot;z&quot;: 0.027757766519313685}, {&quot;x&quot;: -0.384615384615385, &quot;y&quot;: 3.2051282051282044, &quot;z&quot;: -0.20348555208197017}, {&quot;x&quot;: -0.384615384615385, &quot;y&quot;: 3.461538461538461, &quot;z&quot;: -0.2867048647089701}, {&quot;x&quot;: -0.384615384615385, &quot;y&quot;: 3.717948717948717, &quot;z&quot;: -0.19629367355494365}, {&quot;x&quot;: -0.384615384615385, &quot;y&quot;: 3.9743589743589736, &quot;z&quot;: -0.005565270813888087}, {&quot;x&quot;: -0.384615384615385, &quot;y&quot;: 4.23076923076923, &quot;z&quot;: 0.16551234237681514}, {&quot;x&quot;: -0.384615384615385, &quot;y&quot;: 4.487179487179486, &quot;z&quot;: 0.2220285066365378}, {&quot;x&quot;: -0.384615384615385, &quot;y&quot;: 4.743589743589743, &quot;z&quot;: 0.1442431853958254}, {&quot;x&quot;: -0.384615384615385, &quot;y&quot;: 5.0, &quot;z&quot;: -0.009250285950514308}, {&quot;x&quot;: -0.12820512820512864, &quot;y&quot;: -4.743589743589744, &quot;z&quot;: 0.1511851284353025}, {&quot;x&quot;: -0.12820512820512864, &quot;y&quot;: -5.0, &quot;z&quot;: -0.0010322256552946847}, {&quot;x&quot;: -0.12820512820512864, &quot;y&quot;: -4.487179487179487, &quot;z&quot;: 0.22263349001904645}, {&quot;x&quot;: -0.12820512820512864, &quot;y&quot;: -4.230769230769231, &quot;z&quot;: 0.1577421701184894}, {&quot;x&quot;: -0.12820512820512864, &quot;y&quot;: -3.9743589743589745, &quot;z&quot;: -0.018607513033306655}, {&quot;x&quot;: -0.12820512820512864, &quot;y&quot;: -3.717948717948718, &quot;z&quot;: -0.20703304952539192}, {&quot;x&quot;: -0.12820512820512864, &quot;y&quot;: -3.4615384615384617, &quot;z&quot;: -0.2868375581433094}, {&quot;x&quot;: -0.12820512820512864, &quot;y&quot;: -3.2051282051282053, &quot;z&quot;: -0.18928253877123413}, {&quot;x&quot;: -0.12820512820512864, &quot;y&quot;: -2.948717948717949, &quot;z&quot;: 0.05142019026962565}, {&quot;x&quot;: -0.12820512820512864, &quot;y&quot;: -2.6923076923076925, &quot;z&quot;: 0.3032997883859571}, {&quot;x&quot;: -0.12820512820512864, &quot;y&quot;: -2.435897435897436, &quot;z&quot;: 0.40251990402331794}, {&quot;x&quot;: -0.12820512820512864, &quot;y&quot;: -2.1794871794871797, &quot;z&quot;: 0.24936703371622507}, {&quot;x&quot;: -0.12820512820512864, &quot;y&quot;: -1.9230769230769234, &quot;z&quot;: -0.11740161711927179}, {&quot;x&quot;: -0.12820512820512864, &quot;y&quot;: -1.666666666666667, &quot;z&quot;: -0.5133961102840859}, {&quot;x&quot;: -0.12820512820512864, &quot;y&quot;: -1.4102564102564106, &quot;z&quot;: -0.6817736703067452}, {&quot;x&quot;: -0.12820512820512864, &quot;y&quot;: -1.1538461538461542, &quot;z&quot;: -0.41720956339767595}, {&quot;x&quot;: -0.12820512820512864, &quot;y&quot;: -0.8974358974358978, &quot;z&quot;: 0.3192235572385839}, {&quot;x&quot;: -0.12820512820512864, &quot;y&quot;: -0.6410256410256414, &quot;z&quot;: 1.3547678969886714}, {&quot;x&quot;: -0.12820512820512864, &quot;y&quot;: -0.384615384615385, &quot;z&quot;: 2.358492066305395}, {&quot;x&quot;: -0.12820512820512864, &quot;y&quot;: -0.12820512820512864, &quot;z&quot;: 2.9744484840292174}, {&quot;x&quot;: -0.12820512820512864, &quot;y&quot;: 0.12820512820512775, &quot;z&quot;: 2.9744484840292187}, {&quot;x&quot;: -0.12820512820512864, &quot;y&quot;: 0.38461538461538414, &quot;z&quot;: 2.3584920663053976}, {&quot;x&quot;: -0.12820512820512864, &quot;y&quot;: 0.6410256410256405, &quot;z&quot;: 1.3547678969886754}, {&quot;x&quot;: -0.12820512820512864, &quot;y&quot;: 0.8974358974358969, &quot;z&quot;: 0.31922355723858703}, {&quot;x&quot;: -0.12820512820512864, &quot;y&quot;: 1.1538461538461533, &quot;z&quot;: -0.41720956339767423}, {&quot;x&quot;: -0.12820512820512864, &quot;y&quot;: 1.4102564102564097, &quot;z&quot;: -0.6817736703067451}, {&quot;x&quot;: -0.12820512820512864, &quot;y&quot;: 1.666666666666666, &quot;z&quot;: -0.513396110284087}, {&quot;x&quot;: -0.12820512820512864, &quot;y&quot;: 1.9230769230769225, &quot;z&quot;: -0.11740161711927322}, {&quot;x&quot;: -0.12820512820512864, &quot;y&quot;: 2.179487179487179, &quot;z&quot;: 0.24936703371622412}, {&quot;x&quot;: -0.12820512820512864, &quot;y&quot;: 2.4358974358974352, &quot;z&quot;: 0.4025199040233179}, {&quot;x&quot;: -0.12820512820512864, &quot;y&quot;: 2.6923076923076916, &quot;z&quot;: 0.3032997883859575}, {&quot;x&quot;: -0.12820512820512864, &quot;y&quot;: 2.948717948717948, &quot;z&quot;: 0.05142019026962687}, {&quot;x&quot;: -0.12820512820512864, &quot;y&quot;: 3.2051282051282044, &quot;z&quot;: -0.18928253877123374}, {&quot;x&quot;: -0.12820512820512864, &quot;y&quot;: 3.461538461538461, &quot;z&quot;: -0.28683755814330936}, {&quot;x&quot;: -0.12820512820512864, &quot;y&quot;: 3.717948717948717, &quot;z&quot;: -0.20703304952539225}, {&quot;x&quot;: -0.12820512820512864, &quot;y&quot;: 3.9743589743589736, &quot;z&quot;: -0.01860751303330755}, {&quot;x&quot;: -0.12820512820512864, &quot;y&quot;: 4.23076923076923, &quot;z&quot;: 0.15774217011848884}, {&quot;x&quot;: -0.12820512820512864, &quot;y&quot;: 4.487179487179486, &quot;z&quot;: 0.22263349001904645}, {&quot;x&quot;: -0.12820512820512864, &quot;y&quot;: 4.743589743589743, &quot;z&quot;: 0.15118512843530302}, {&quot;x&quot;: -0.12820512820512864, &quot;y&quot;: 5.0, &quot;z&quot;: -0.0010322256552946847}, {&quot;x&quot;: 0.12820512820512775, &quot;y&quot;: -4.743589743589744, &quot;z&quot;: 0.1511851284353025}, {&quot;x&quot;: 0.12820512820512775, &quot;y&quot;: -5.0, &quot;z&quot;: -0.0010322256552946847}, {&quot;x&quot;: 0.12820512820512775, &quot;y&quot;: -4.487179487179487, &quot;z&quot;: 0.22263349001904645}, {&quot;x&quot;: 0.12820512820512775, &quot;y&quot;: -4.230769230769231, &quot;z&quot;: 0.1577421701184894}, {&quot;x&quot;: 0.12820512820512775, &quot;y&quot;: -3.9743589743589745, &quot;z&quot;: -0.018607513033307106}, {&quot;x&quot;: 0.12820512820512775, &quot;y&quot;: -3.717948717948718, &quot;z&quot;: -0.20703304952539192}, {&quot;x&quot;: 0.12820512820512775, &quot;y&quot;: -3.4615384615384617, &quot;z&quot;: -0.2868375581433094}, {&quot;x&quot;: 0.12820512820512775, &quot;y&quot;: -3.2051282051282053, &quot;z&quot;: -0.18928253877123413}, {&quot;x&quot;: 0.12820512820512775, &quot;y&quot;: -2.948717948717949, &quot;z&quot;: 0.05142019026962626}, {&quot;x&quot;: 0.12820512820512775, &quot;y&quot;: -2.6923076923076925, &quot;z&quot;: 0.3032997883859571}, {&quot;x&quot;: 0.12820512820512775, &quot;y&quot;: -2.435897435897436, &quot;z&quot;: 0.40251990402331794}, {&quot;x&quot;: 0.12820512820512775, &quot;y&quot;: -2.1794871794871797, &quot;z&quot;: 0.24936703371622507}, {&quot;x&quot;: 0.12820512820512775, &quot;y&quot;: -1.9230769230769234, &quot;z&quot;: -0.11740161711927179}, {&quot;x&quot;: 0.12820512820512775, &quot;y&quot;: -1.666666666666667, &quot;z&quot;: -0.5133961102840859}, {&quot;x&quot;: 0.12820512820512775, &quot;y&quot;: -1.4102564102564106, &quot;z&quot;: -0.6817736703067451}, {&quot;x&quot;: 0.12820512820512775, &quot;y&quot;: -1.1538461538461542, &quot;z&quot;: -0.41720956339767595}, {&quot;x&quot;: 0.12820512820512775, &quot;y&quot;: -0.8974358974358978, &quot;z&quot;: 0.3192235572385845}, {&quot;x&quot;: 0.12820512820512775, &quot;y&quot;: -0.6410256410256414, &quot;z&quot;: 1.3547678969886725}, {&quot;x&quot;: 0.12820512820512775, &quot;y&quot;: -0.384615384615385, &quot;z&quot;: 2.3584920663053963}, {&quot;x&quot;: 0.12820512820512775, &quot;y&quot;: -0.12820512820512864, &quot;z&quot;: 2.9744484840292187}, {&quot;x&quot;: 0.12820512820512775, &quot;y&quot;: 0.12820512820512775, &quot;z&quot;: 2.9744484840292196}, {&quot;x&quot;: 0.12820512820512775, &quot;y&quot;: 0.38461538461538414, &quot;z&quot;: 2.3584920663053985}, {&quot;x&quot;: 0.12820512820512775, &quot;y&quot;: 0.6410256410256405, &quot;z&quot;: 1.3547678969886758}, {&quot;x&quot;: 0.12820512820512775, &quot;y&quot;: 0.8974358974358969, &quot;z&quot;: 0.3192235572385876}, {&quot;x&quot;: 0.12820512820512775, &quot;y&quot;: 1.1538461538461533, &quot;z&quot;: -0.41720956339767423}, {&quot;x&quot;: 0.12820512820512775, &quot;y&quot;: 1.4102564102564097, &quot;z&quot;: -0.6817736703067451}, {&quot;x&quot;: 0.12820512820512775, &quot;y&quot;: 1.666666666666666, &quot;z&quot;: -0.513396110284087}, {&quot;x&quot;: 0.12820512820512775, &quot;y&quot;: 1.9230769230769225, &quot;z&quot;: -0.11740161711927322}, {&quot;x&quot;: 0.12820512820512775, &quot;y&quot;: 2.179487179487179, &quot;z&quot;: 0.24936703371622412}, {&quot;x&quot;: 0.12820512820512775, &quot;y&quot;: 2.4358974358974352, &quot;z&quot;: 0.4025199040233179}, {&quot;x&quot;: 0.12820512820512775, &quot;y&quot;: 2.6923076923076916, &quot;z&quot;: 0.3032997883859575}, {&quot;x&quot;: 0.12820512820512775, &quot;y&quot;: 2.948717948717948, &quot;z&quot;: 0.05142019026962747}, {&quot;x&quot;: 0.12820512820512775, &quot;y&quot;: 3.2051282051282044, &quot;z&quot;: -0.18928253877123333}, {&quot;x&quot;: 0.12820512820512775, &quot;y&quot;: 3.461538461538461, &quot;z&quot;: -0.28683755814330936}, {&quot;x&quot;: 0.12820512820512775, &quot;y&quot;: 3.717948717948717, &quot;z&quot;: -0.20703304952539256}, {&quot;x&quot;: 0.12820512820512775, &quot;y&quot;: 3.9743589743589736, &quot;z&quot;: -0.018607513033308}, {&quot;x&quot;: 0.12820512820512775, &quot;y&quot;: 4.23076923076923, &quot;z&quot;: 0.15774217011848884}, {&quot;x&quot;: 0.12820512820512775, &quot;y&quot;: 4.487179487179486, &quot;z&quot;: 0.22263349001904645}, {&quot;x&quot;: 0.12820512820512775, &quot;y&quot;: 4.743589743589743, &quot;z&quot;: 0.15118512843530302}, {&quot;x&quot;: 0.12820512820512775, &quot;y&quot;: 5.0, &quot;z&quot;: -0.0010322256552946847}, {&quot;x&quot;: 0.38461538461538414, &quot;y&quot;: -4.743589743589744, &quot;z&quot;: 0.1442431853958254}, {&quot;x&quot;: 0.38461538461538414, &quot;y&quot;: -5.0, &quot;z&quot;: -0.009250285950514308}, {&quot;x&quot;: 0.38461538461538414, &quot;y&quot;: -4.487179487179487, &quot;z&quot;: 0.22202850663653775}, {&quot;x&quot;: 0.38461538461538414, &quot;y&quot;: -4.230769230769231, &quot;z&quot;: 0.16551234237681514}, {&quot;x&quot;: 0.38461538461538414, &quot;y&quot;: -3.9743589743589745, &quot;z&quot;: -0.005565270813887195}, {&quot;x&quot;: 0.38461538461538414, &quot;y&quot;: -3.717948717948718, &quot;z&quot;: -0.19629367355494326}, {&quot;x&quot;: 0.38461538461538414, &quot;y&quot;: -3.4615384615384617, &quot;z&quot;: -0.28670486470897005}, {&quot;x&quot;: 0.38461538461538414, &quot;y&quot;: -3.2051282051282053, &quot;z&quot;: -0.20348555208197094}, {&quot;x&quot;: 0.38461538461538414, &quot;y&quot;: -2.948717948717949, &quot;z&quot;: 0.02775776651931309}, {&quot;x&quot;: 0.38461538461538414, &quot;y&quot;: -2.6923076923076925, &quot;z&quot;: 0.2835780881782833}, {&quot;x&quot;: 0.38461538461538414, &quot;y&quot;: -2.435897435897436, &quot;z&quot;: 0.40320180479496565}, {&quot;x&quot;: 0.38461538461538414, &quot;y&quot;: -2.1794871794871797, &quot;z&quot;: 0.2804717729699191}, {&quot;x&quot;: 0.38461538461538414, &quot;y&quot;: -1.9230769230769234, &quot;z&quot;: -0.062061535024023055}, {&quot;x&quot;: 0.38461538461538414, &quot;y&quot;: -1.666666666666667, &quot;z&quot;: -0.461422742086449}, {&quot;x&quot;: 0.38461538461538414, &quot;y&quot;: -1.4102564102564106, &quot;z&quot;: -0.679175450499573}, {&quot;x&quot;: 0.38461538461538414, &quot;y&quot;: -1.1538461538461542, &quot;z&quot;: -0.5166068451590102}, {&quot;x&quot;: 0.38461538461538414, &quot;y&quot;: -0.8974358974358978, &quot;z&quot;: 0.07592596381204277}, {&quot;x&quot;: 0.38461538461538414, &quot;y&quot;: -0.6410256410256414, &quot;z&quot;: 0.9531178635992653}, {&quot;x&quot;: 0.38461538461538414, &quot;y&quot;: -0.384615384615385, &quot;z&quot;: 1.8209981966554907}, {&quot;x&quot;: 0.38461538461538414, &quot;y&quot;: -0.12820512820512864, &quot;z&quot;: 2.3584920663053976}, {&quot;x&quot;: 0.38461538461538414, &quot;y&quot;: 0.12820512820512775, &quot;z&quot;: 2.3584920663053985}, {&quot;x&quot;: 0.38461538461538414, &quot;y&quot;: 0.38461538461538414, &quot;z&quot;: 1.8209981966554933}, {&quot;x&quot;: 0.38461538461538414, &quot;y&quot;: 0.6410256410256405, &quot;z&quot;: 0.9531178635992683}, {&quot;x&quot;: 0.38461538461538414, &quot;y&quot;: 0.8974358974358969, &quot;z&quot;: 0.0759259638120451}, {&quot;x&quot;: 0.38461538461538414, &quot;y&quot;: 1.1538461538461533, &quot;z&quot;: -0.516606845159009}, {&quot;x&quot;: 0.38461538461538414, &quot;y&quot;: 1.4102564102564097, &quot;z&quot;: -0.6791754504995731}, {&quot;x&quot;: 0.38461538461538414, &quot;y&quot;: 1.666666666666666, &quot;z&quot;: -0.4614227420864501}, {&quot;x&quot;: 0.38461538461538414, &quot;y&quot;: 1.9230769230769225, &quot;z&quot;: -0.06206153502402443}, {&quot;x&quot;: 0.38461538461538414, &quot;y&quot;: 2.179487179487179, &quot;z&quot;: 0.28047177296991826}, {&quot;x&quot;: 0.38461538461538414, &quot;y&quot;: 2.4358974358974352, &quot;z&quot;: 0.40320180479496565}, {&quot;x&quot;: 0.38461538461538414, &quot;y&quot;: 2.6923076923076916, &quot;z&quot;: 0.28357808817828384}, {&quot;x&quot;: 0.38461538461538414, &quot;y&quot;: 2.948717948717948, &quot;z&quot;: 0.027757766519314282}, {&quot;x&quot;: 0.38461538461538414, &quot;y&quot;: 3.2051282051282044, &quot;z&quot;: -0.2034855520819698}, {&quot;x&quot;: 0.38461538461538414, &quot;y&quot;: 3.461538461538461, &quot;z&quot;: -0.2867048647089701}, {&quot;x&quot;: 0.38461538461538414, &quot;y&quot;: 3.717948717948717, &quot;z&quot;: -0.19629367355494395}, {&quot;x&quot;: 0.38461538461538414, &quot;y&quot;: 3.9743589743589736, &quot;z&quot;: -0.005565270813888087}, {&quot;x&quot;: 0.38461538461538414, &quot;y&quot;: 4.23076923076923, &quot;z&quot;: 0.16551234237681514}, {&quot;x&quot;: 0.38461538461538414, &quot;y&quot;: 4.487179487179486, &quot;z&quot;: 0.2220285066365378}, {&quot;x&quot;: 0.38461538461538414, &quot;y&quot;: 4.743589743589743, &quot;z&quot;: 0.1442431853958254}, {&quot;x&quot;: 0.38461538461538414, &quot;y&quot;: 5.0, &quot;z&quot;: -0.009250285950514308}, {&quot;x&quot;: 0.6410256410256405, &quot;y&quot;: -4.743589743589744, &quot;z&quot;: 0.12974477006536764}, {&quot;x&quot;: 0.6410256410256405, &quot;y&quot;: -5.0, &quot;z&quot;: -0.025434298774036877}, {&quot;x&quot;: 0.6410256410256405, &quot;y&quot;: -4.487179487179487, &quot;z&quot;: 0.21945165588530713}, {&quot;x&quot;: 0.6410256410256405, &quot;y&quot;: -4.230769230769231, &quot;z&quot;: 0.1796237019465825}, {&quot;x&quot;: 0.6410256410256405, &quot;y&quot;: -3.9743589743589745, &quot;z&quot;: 0.02005162258719657}, {&quot;x&quot;: 0.6410256410256405, &quot;y&quot;: -3.717948717948718, &quot;z&quot;: -0.17352514017266685}, {&quot;x&quot;: 0.6410256410256405, &quot;y&quot;: -3.4615384615384617, &quot;z&quot;: -0.2834765187178331}, {&quot;x&quot;: 0.6410256410256405, &quot;y&quot;: -3.2051282051282053, &quot;z&quot;: -0.22859921985486248}, {&quot;x&quot;: 0.6410256410256405, &quot;y&quot;: -2.948717948717949, &quot;z&quot;: -0.01830385509779233}, {&quot;x&quot;: 0.6410256410256405, &quot;y&quot;: -2.6923076923076925, &quot;z&quot;: 0.24101402846304884}, {&quot;x&quot;: 0.6410256410256405, &quot;y&quot;: -2.435897435897436, &quot;z&quot;: 0.39631500866096975}, {&quot;x&quot;: 0.6410256410256405, &quot;y&quot;: -2.1794871794871797, &quot;z&quot;: 0.3318249097464151}, {&quot;x&quot;: 0.6410256410256405, &quot;y&quot;: -1.9230769230769234, &quot;z&quot;: 0.04195038936514374}, {&quot;x&quot;: 0.6410256410256405, &quot;y&quot;: -1.666666666666667, &quot;z&quot;: -0.34919117705423036}, {&quot;x&quot;: 0.6410256410256405, &quot;y&quot;: -1.4102564102564106, &quot;z&quot;: -0.6378653553566379}, {&quot;x&quot;: 0.6410256410256405, &quot;y&quot;: -1.1538461538461542, &quot;z&quot;: -0.6396048666935145}, {&quot;x&quot;: 0.6410256410256405, &quot;y&quot;: -0.8974358974358978, &quot;z&quot;: -0.2879382363394859}, {&quot;x&quot;: 0.6410256410256405, &quot;y&quot;: -0.6410256410256414, &quot;z&quot;: 0.31922355723858603}, {&quot;x&quot;: 0.6410256410256405, &quot;y&quot;: -0.384615384615385, &quot;z&quot;: 0.9531178635992664}, {&quot;x&quot;: 0.6410256410256405, &quot;y&quot;: -0.12820512820512864, &quot;z&quot;: 1.3547678969886754}, {&quot;x&quot;: 0.6410256410256405, &quot;y&quot;: 0.12820512820512775, &quot;z&quot;: 1.3547678969886758}, {&quot;x&quot;: 0.6410256410256405, &quot;y&quot;: 0.38461538461538414, &quot;z&quot;: 0.9531178635992683}, {&quot;x&quot;: 0.6410256410256405, &quot;y&quot;: 0.6410256410256405, &quot;z&quot;: 0.31922355723858803}, {&quot;x&quot;: 0.6410256410256405, &quot;y&quot;: 0.8974358974358969, &quot;z&quot;: -0.2879382363394841}, {&quot;x&quot;: 0.6410256410256405, &quot;y&quot;: 1.1538461538461533, &quot;z&quot;: -0.6396048666935141}, {&quot;x&quot;: 0.6410256410256405, &quot;y&quot;: 1.4102564102564097, &quot;z&quot;: -0.6378653553566386}, {&quot;x&quot;: 0.6410256410256405, &quot;y&quot;: 1.666666666666666, &quot;z&quot;: -0.34919117705423175}, {&quot;x&quot;: 0.6410256410256405, &quot;y&quot;: 1.9230769230769225, &quot;z&quot;: 0.04195038936514201}, {&quot;x&quot;: 0.6410256410256405, &quot;y&quot;: 2.179487179487179, &quot;z&quot;: 0.33182490974641493}, {&quot;x&quot;: 0.6410256410256405, &quot;y&quot;: 2.4358974358974352, &quot;z&quot;: 0.39631500866096997}, {&quot;x&quot;: 0.6410256410256405, &quot;y&quot;: 2.6923076923076916, &quot;z&quot;: 0.2410140284630499}, {&quot;x&quot;: 0.6410256410256405, &quot;y&quot;: 2.948717948717948, &quot;z&quot;: -0.01830385509779175}, {&quot;x&quot;: 0.6410256410256405, &quot;y&quot;: 3.2051282051282044, &quot;z&quot;: -0.2285992198548618}, {&quot;x&quot;: 0.6410256410256405, &quot;y&quot;: 3.461538461538461, &quot;z&quot;: -0.28347651871783325}, {&quot;x&quot;: 0.6410256410256405, &quot;y&quot;: 3.717948717948717, &quot;z&quot;: -0.17352514017266726}, {&quot;x&quot;: 0.6410256410256405, &quot;y&quot;: 3.9743589743589736, &quot;z&quot;: 0.020051622587195696}, {&quot;x&quot;: 0.6410256410256405, &quot;y&quot;: 4.23076923076923, &quot;z&quot;: 0.179623701946582}, {&quot;x&quot;: 0.6410256410256405, &quot;y&quot;: 4.487179487179486, &quot;z&quot;: 0.21945165588530727}, {&quot;x&quot;: 0.6410256410256405, &quot;y&quot;: 4.743589743589743, &quot;z&quot;: 0.12974477006536825}, {&quot;x&quot;: 0.6410256410256405, &quot;y&quot;: 5.0, &quot;z&quot;: -0.025434298774036877}, {&quot;x&quot;: 0.8974358974358969, &quot;y&quot;: -4.743589743589744, &quot;z&quot;: 0.10670645293645792}, {&quot;x&quot;: 0.8974358974358969, &quot;y&quot;: -5.0, &quot;z&quot;: -0.0488961793689263}, {&quot;x&quot;: 0.8974358974358969, &quot;y&quot;: -4.487179487179487, &quot;z&quot;: 0.21232309865066645}, {&quot;x&quot;: 0.8974358974358969, &quot;y&quot;: -4.230769230769231, &quot;z&quot;: 0.19711035355159282}, {&quot;x&quot;: 0.8974358974358969, &quot;y&quot;: -3.9743589743589745, &quot;z&quot;: 0.056862409133510455}, {&quot;x&quot;: 0.8974358974358969, &quot;y&quot;: -3.717948717948718, &quot;z&quot;: -0.13680209349327188}, {&quot;x&quot;: 0.8974358974358969, &quot;y&quot;: -3.4615384615384617, &quot;z&quot;: -0.2717145043120364}, {&quot;x&quot;: 0.8974358974358969, &quot;y&quot;: -3.2051282051282053, &quot;z&quot;: -0.2578328027491931}, {&quot;x&quot;: 0.8974358974358969, &quot;y&quot;: -2.948717948717949, &quot;z&quot;: -0.08291366426279477}, {&quot;x&quot;: 0.8974358974358969, &quot;y&quot;: -2.6923076923076925, &quot;z&quot;: 0.17174795107440904}, {&quot;x&quot;: 0.8974358974358969, &quot;y&quot;: -2.435897435897436, &quot;z&quot;: 0.36784352552862976}, {&quot;x&quot;: 0.8974358974358969, &quot;y&quot;: -2.1794871794871797, &quot;z&quot;: 0.38217914697454475}, {&quot;x&quot;: 0.8974358974358969, &quot;y&quot;: -1.9230769230769234, &quot;z&quot;: 0.17645205853137205}, {&quot;x&quot;: 0.8974358974358969, &quot;y&quot;: -1.666666666666667, &quot;z&quot;: -0.17437277928309503}, {&quot;x&quot;: 0.8974358974358969, &quot;y&quot;: -1.4102564102564106, &quot;z&quot;: -0.5133961102840863}, {&quot;x&quot;: 0.8974358974358969, &quot;y&quot;: -1.1538461538461542, &quot;z&quot;: -0.679175450499573}, {&quot;x&quot;: 0.8974358974358969, &quot;y&quot;: -0.8974358974358978, &quot;z&quot;: -0.5896595304430509}, {&quot;x&quot;: 0.8974358974358969, &quot;y&quot;: -0.6410256410256414, &quot;z&quot;: -0.2879382363394852}, {&quot;x&quot;: 0.8974358974358969, &quot;y&quot;: -0.384615384615385, &quot;z&quot;: 0.07592596381204417}, {&quot;x&quot;: 0.8974358974358969, &quot;y&quot;: -0.12820512820512864, &quot;z&quot;: 0.31922355723858703}, {&quot;x&quot;: 0.8974358974358969, &quot;y&quot;: 0.12820512820512775, &quot;z&quot;: 0.3192235572385876}, {&quot;x&quot;: 0.8974358974358969, &quot;y&quot;: 0.38461538461538414, &quot;z&quot;: 0.0759259638120451}, {&quot;x&quot;: 0.8974358974358969, &quot;y&quot;: 0.6410256410256405, &quot;z&quot;: -0.2879382363394841}, {&quot;x&quot;: 0.8974358974358969, &quot;y&quot;: 0.8974358974358969, &quot;z&quot;: -0.58965953044305}, {&quot;x&quot;: 0.8974358974358969, &quot;y&quot;: 1.1538461538461533, &quot;z&quot;: -0.6791754504995731}, {&quot;x&quot;: 0.8974358974358969, &quot;y&quot;: 1.4102564102564097, &quot;z&quot;: -0.5133961102840874}, {&quot;x&quot;: 0.8974358974358969, &quot;y&quot;: 1.666666666666666, &quot;z&quot;: -0.17437277928309644}, {&quot;x&quot;: 0.8974358974358969, &quot;y&quot;: 1.9230769230769225, &quot;z&quot;: 0.17645205853137055}, {&quot;x&quot;: 0.8974358974358969, &quot;y&quot;: 2.179487179487179, &quot;z&quot;: 0.3821791469745444}, {&quot;x&quot;: 0.8974358974358969, &quot;y&quot;: 2.4358974358974352, &quot;z&quot;: 0.36784352552863026}, {&quot;x&quot;: 0.8974358974358969, &quot;y&quot;: 2.6923076923076916, &quot;z&quot;: 0.17174795107440963}, {&quot;x&quot;: 0.8974358974358969, &quot;y&quot;: 2.948717948717948, &quot;z&quot;: -0.08291366426279421}, {&quot;x&quot;: 0.8974358974358969, &quot;y&quot;: 3.2051282051282044, &quot;z&quot;: -0.2578328027491927}, {&quot;x&quot;: 0.8974358974358969, &quot;y&quot;: 3.461538461538461, &quot;z&quot;: -0.27171450431203675}, {&quot;x&quot;: 0.8974358974358969, &quot;y&quot;: 3.717948717948717, &quot;z&quot;: -0.1368020934932727}, {&quot;x&quot;: 0.8974358974358969, &quot;y&quot;: 3.9743589743589736, &quot;z&quot;: 0.056862409133509616}, {&quot;x&quot;: 0.8974358974358969, &quot;y&quot;: 4.23076923076923, &quot;z&quot;: 0.19711035355159243}, {&quot;x&quot;: 0.8974358974358969, &quot;y&quot;: 4.487179487179486, &quot;z&quot;: 0.21232309865066665}, {&quot;x&quot;: 0.8974358974358969, &quot;y&quot;: 4.743589743589743, &quot;z&quot;: 0.10670645293645857}, {&quot;x&quot;: 0.8974358974358969, &quot;y&quot;: 5.0, &quot;z&quot;: -0.0488961793689263}, {&quot;x&quot;: 1.1538461538461533, &quot;y&quot;: -4.743589743589744, &quot;z&quot;: 0.07426425040162632}, {&quot;x&quot;: 1.1538461538461533, &quot;y&quot;: -5.0, &quot;z&quot;: -0.07818654606831722}, {&quot;x&quot;: 1.1538461538461533, &quot;y&quot;: -4.487179487179487, &quot;z&quot;: 0.19722429601204408}, {&quot;x&quot;: 1.1538461538461533, &quot;y&quot;: -4.230769230769231, &quot;z&quot;: 0.21338743078659142}, {&quot;x&quot;: 1.1538461538461533, &quot;y&quot;: -3.9743589743589745, &quot;z&quot;: 0.10182765566147567}, {&quot;x&quot;: 1.1538461538461533, &quot;y&quot;: -3.717948717948718, &quot;z&quot;: -0.084825533540923}, {&quot;x&quot;: 1.1538461538461533, &quot;y&quot;: -3.4615384615384617, &quot;z&quot;: -0.24466721047350648}, {&quot;x&quot;: 1.1538461538461533, &quot;y&quot;: -3.2051282051282053, &quot;z&quot;: -0.2809819013756127}, {&quot;x&quot;: 1.1538461538461533, &quot;y&quot;: -2.948717948717949, &quot;z&quot;: -0.1577056419836785}, {&quot;x&quot;: 1.1538461538461533, &quot;y&quot;: -2.6923076923076925, &quot;z&quot;: 0.07536961333393341}, {&quot;x&quot;: 1.1538461538461533, &quot;y&quot;: -2.435897435897436, &quot;z&quot;: 0.3032997883859571}, {&quot;x&quot;: 1.1538461538461533, &quot;y&quot;: -2.1794871794871797, &quot;z&quot;: 0.40320180479496565}, {&quot;x&quot;: 1.1538461538461533, &quot;y&quot;: -1.9230769230769234, &quot;z&quot;: 0.30795661143729963}, {&quot;x&quot;: 1.1538461538461533, &quot;y&quot;: -1.666666666666667, &quot;z&quot;: 0.04195038936514374}, {&quot;x&quot;: 1.1538461538461533, &quot;y&quot;: -1.4102564102564106, &quot;z&quot;: -0.2909471751707856}, {&quot;x&quot;: 1.1538461538461533, &quot;y&quot;: -1.1538461538461542, &quot;z&quot;: -0.5610502140446174}, {&quot;x&quot;: 1.1538461538461533, &quot;y&quot;: -0.8974358974358978, &quot;z&quot;: -0.679175450499573}, {&quot;x&quot;: 1.1538461538461533, &quot;y&quot;: -0.6410256410256414, &quot;z&quot;: -0.6396048666935144}, {&quot;x&quot;: 1.1538461538461533, &quot;y&quot;: -0.384615384615385, &quot;z&quot;: -0.5166068451590095}, {&quot;x&quot;: 1.1538461538461533, &quot;y&quot;: -0.12820512820512864, &quot;z&quot;: -0.41720956339767423}, {&quot;x&quot;: 1.1538461538461533, &quot;y&quot;: 0.12820512820512775, &quot;z&quot;: -0.41720956339767423}, {&quot;x&quot;: 1.1538461538461533, &quot;y&quot;: 0.38461538461538414, &quot;z&quot;: -0.516606845159009}, {&quot;x&quot;: 1.1538461538461533, &quot;y&quot;: 0.6410256410256405, &quot;z&quot;: -0.6396048666935141}, {&quot;x&quot;: 1.1538461538461533, &quot;y&quot;: 0.8974358974358969, &quot;z&quot;: -0.6791754504995731}, {&quot;x&quot;: 1.1538461538461533, &quot;y&quot;: 1.1538461538461533, &quot;z&quot;: -0.5610502140446183}, {&quot;x&quot;: 1.1538461538461533, &quot;y&quot;: 1.4102564102564097, &quot;z&quot;: -0.290947175170787}, {&quot;x&quot;: 1.1538461538461533, &quot;y&quot;: 1.666666666666666, &quot;z&quot;: 0.04195038936514201}, {&quot;x&quot;: 1.1538461538461533, &quot;y&quot;: 1.9230769230769225, &quot;z&quot;: 0.30795661143729947}, {&quot;x&quot;: 1.1538461538461533, &quot;y&quot;: 2.179487179487179, &quot;z&quot;: 0.40320180479496565}, {&quot;x&quot;: 1.1538461538461533, &quot;y&quot;: 2.4358974358974352, &quot;z&quot;: 0.30329978838595795}, {&quot;x&quot;: 1.1538461538461533, &quot;y&quot;: 2.6923076923076916, &quot;z&quot;: 0.07536961333393404}, {&quot;x&quot;: 1.1538461538461533, &quot;y&quot;: 2.948717948717948, &quot;z&quot;: -0.1577056419836781}, {&quot;x&quot;: 1.1538461538461533, &quot;y&quot;: 3.2051282051282044, &quot;z&quot;: -0.2809819013756126}, {&quot;x&quot;: 1.1538461538461533, &quot;y&quot;: 3.461538461538461, &quot;z&quot;: -0.244667210473507}, {&quot;x&quot;: 1.1538461538461533, &quot;y&quot;: 3.717948717948717, &quot;z&quot;: -0.08482553354092388}, {&quot;x&quot;: 1.1538461538461533, &quot;y&quot;: 3.9743589743589736, &quot;z&quot;: 0.1018276556614749}, {&quot;x&quot;: 1.1538461538461533, &quot;y&quot;: 4.23076923076923, &quot;z&quot;: 0.21338743078659142}, {&quot;x&quot;: 1.1538461538461533, &quot;y&quot;: 4.487179487179486, &quot;z&quot;: 0.19722429601204441}, {&quot;x&quot;: 1.1538461538461533, &quot;y&quot;: 4.743589743589743, &quot;z&quot;: 0.07426425040162701}, {&quot;x&quot;: 1.1538461538461533, &quot;y&quot;: 5.0, &quot;z&quot;: -0.07818654606831722}, {&quot;x&quot;: 1.4102564102564097, &quot;y&quot;: -4.743589743589744, &quot;z&quot;: 0.032372655749034064}, {&quot;x&quot;: 1.4102564102564097, &quot;y&quot;: -5.0, &quot;z&quot;: -0.11072072650585248}, {&quot;x&quot;: 1.4102564102564097, &quot;y&quot;: -4.487179487179487, &quot;z&quot;: 0.17058680183190766}, {&quot;x&quot;: 1.4102564102564097, &quot;y&quot;: -4.230769230769231, &quot;z&quot;: 0.22243257961224733}, {&quot;x&quot;: 1.4102564102564097, &quot;y&quot;: -3.9743589743589745, &quot;z&quot;: 0.1495083751629422}, {&quot;x&quot;: 1.4102564102564097, &quot;y&quot;: -3.717948717948718, &quot;z&quot;: -0.018607513033307106}, {&quot;x&quot;: 1.4102564102564097, &quot;y&quot;: -3.4615384615384617, &quot;z&quot;: -0.19629367355494326}, {&quot;x&quot;: 1.4102564102564097, &quot;y&quot;: -3.2051282051282053, &quot;z&quot;: -0.2855743751375799}, {&quot;x&quot;: 1.4102564102564097, &quot;y&quot;: -2.948717948717949, &quot;z&quot;: -0.22859921985486215}, {&quot;x&quot;: 1.4102564102564097, &quot;y&quot;: -2.6923076923076925, &quot;z&quot;: -0.040519473390474396}, {&quot;x&quot;: 1.4102564102564097, &quot;y&quot;: -2.435897435897436, &quot;z&quot;: 0.19535606525973917}, {&quot;x&quot;: 1.4102564102564097, &quot;y&quot;: -2.1794871794871797, &quot;z&quot;: 0.36784352552862976}, {&quot;x&quot;: 1.4102564102564097, &quot;y&quot;: -1.9230769230769234, &quot;z&quot;: 0.39214527958875217}, {&quot;x&quot;: 1.4102564102564097, &quot;y&quot;: -1.666666666666667, &quot;z&quot;: 0.24936703371622443}, {&quot;x&quot;: 1.4102564102564097, &quot;y&quot;: -1.4102564102564106, &quot;z&quot;: -0.008814793892183148}, {&quot;x&quot;: 1.4102564102564097, &quot;y&quot;: -1.1538461538461542, &quot;z&quot;: -0.29094717517078605}, {&quot;x&quot;: 1.4102564102564097, &quot;y&quot;: -0.8974358974358978, &quot;z&quot;: -0.5133961102840866}, {&quot;x&quot;: 1.4102564102564097, &quot;y&quot;: -0.6410256410256414, &quot;z&quot;: -0.6378653553566384}, {&quot;x&quot;: 1.4102564102564097, &quot;y&quot;: -0.384615384615385, &quot;z&quot;: -0.6791754504995731}, {&quot;x&quot;: 1.4102564102564097, &quot;y&quot;: -0.12820512820512864, &quot;z&quot;: -0.6817736703067451}, {&quot;x&quot;: 1.4102564102564097, &quot;y&quot;: 0.12820512820512775, &quot;z&quot;: -0.6817736703067451}, {&quot;x&quot;: 1.4102564102564097, &quot;y&quot;: 0.38461538461538414, &quot;z&quot;: -0.6791754504995731}, {&quot;x&quot;: 1.4102564102564097, &quot;y&quot;: 0.6410256410256405, &quot;z&quot;: -0.6378653553566386}, {&quot;x&quot;: 1.4102564102564097, &quot;y&quot;: 0.8974358974358969, &quot;z&quot;: -0.5133961102840874}, {&quot;x&quot;: 1.4102564102564097, &quot;y&quot;: 1.1538461538461533, &quot;z&quot;: -0.290947175170787}, {&quot;x&quot;: 1.4102564102564097, &quot;y&quot;: 1.4102564102564097, &quot;z&quot;: -0.00881479389218404}, {&quot;x&quot;: 1.4102564102564097, &quot;y&quot;: 1.666666666666666, &quot;z&quot;: 0.24936703371622349}, {&quot;x&quot;: 1.4102564102564097, &quot;y&quot;: 1.9230769230769225, &quot;z&quot;: 0.3921452795887521}, {&quot;x&quot;: 1.4102564102564097, &quot;y&quot;: 2.179487179487179, &quot;z&quot;: 0.36784352552863003}, {&quot;x&quot;: 1.4102564102564097, &quot;y&quot;: 2.4358974358974352, &quot;z&quot;: 0.19535606525974025}, {&quot;x&quot;: 1.4102564102564097, &quot;y&quot;: 2.6923076923076916, &quot;z&quot;: -0.0405194733904744}, {&quot;x&quot;: 1.4102564102564097, &quot;y&quot;: 2.948717948717948, &quot;z&quot;: -0.2285992198548618}, {&quot;x&quot;: 1.4102564102564097, &quot;y&quot;: 3.2051282051282044, &quot;z&quot;: -0.28557437513758}, {&quot;x&quot;: 1.4102564102564097, &quot;y&quot;: 3.461538461538461, &quot;z&quot;: -0.19629367355494434}, {&quot;x&quot;: 1.4102564102564097, &quot;y&quot;: 3.717948717948717, &quot;z&quot;: -0.018607513033308}, {&quot;x&quot;: 1.4102564102564097, &quot;y&quot;: 3.9743589743589736, &quot;z&quot;: 0.1495083751629419}, {&quot;x&quot;: 1.4102564102564097, &quot;y&quot;: 4.23076923076923, &quot;z&quot;: 0.22243257961224733}, {&quot;x&quot;: 1.4102564102564097, &quot;y&quot;: 4.487179487179486, &quot;z&quot;: 0.17058680183190814}, {&quot;x&quot;: 1.4102564102564097, &quot;y&quot;: 4.743589743589743, &quot;z&quot;: 0.03237265574903443}, {&quot;x&quot;: 1.4102564102564097, &quot;y&quot;: 5.0, &quot;z&quot;: -0.11072072650585248}, {&quot;x&quot;: 1.666666666666666, &quot;y&quot;: -4.743589743589744, &quot;z&quot;: -0.01738852540015784}, {&quot;x&quot;: 1.666666666666666, &quot;y&quot;: -5.0, &quot;z&quot;: -0.14250583708975548}, {&quot;x&quot;: 1.666666666666666, &quot;y&quot;: -4.487179487179487, &quot;z&quot;: 0.12974477006536764}, {&quot;x&quot;: 1.666666666666666, &quot;y&quot;: -4.230769230769231, &quot;z&quot;: 0.21749963044648865}, {&quot;x&quot;: 1.666666666666666, &quot;y&quot;: -3.9743589743589745, &quot;z&quot;: 0.19177960940564043}, {&quot;x&quot;: 1.666666666666666, &quot;y&quot;: -3.717948717948718, &quot;z&quot;: 0.056862409133510455}, {&quot;x&quot;: 1.666666666666666, &quot;y&quot;: -3.4615384615384617, &quot;z&quot;: -0.12404748116237656}, {&quot;x&quot;: 1.666666666666666, &quot;y&quot;: -3.2051282051282053, &quot;z&quot;: -0.2596827679719552}, {&quot;x&quot;: 1.666666666666666, &quot;y&quot;: -2.948717948717949, &quot;z&quot;: -0.27687046867027154}, {&quot;x&quot;: 1.666666666666666, &quot;y&quot;: -2.6923076923076925, &quot;z&quot;: -0.1577056419836785}, {&quot;x&quot;: 1.666666666666666, &quot;y&quot;: -2.435897435897436, &quot;z&quot;: 0.05142019026962626}, {&quot;x&quot;: 1.666666666666666, &quot;y&quot;: -2.1794871794871797, &quot;z&quot;: 0.2627616487482761}, {&quot;x&quot;: 1.666666666666666, &quot;y&quot;: -1.9230769230769234, &quot;z&quot;: 0.3890728985144823}, {&quot;x&quot;: 1.666666666666666, &quot;y&quot;: -1.666666666666667, &quot;z&quot;: 0.38217914697454464}, {&quot;x&quot;: 1.666666666666666, &quot;y&quot;: -1.4102564102564106, &quot;z&quot;: 0.24936703371622443}, {&quot;x&quot;: 1.666666666666666, &quot;y&quot;: -1.1538461538461542, &quot;z&quot;: 0.04195038936514287}, {&quot;x&quot;: 1.666666666666666, &quot;y&quot;: -0.8974358974358978, &quot;z&quot;: -0.17437277928309594}, {&quot;x&quot;: 1.666666666666666, &quot;y&quot;: -0.6410256410256414, &quot;z&quot;: -0.34919117705423086}, {&quot;x&quot;: 1.666666666666666, &quot;y&quot;: -0.384615384615385, &quot;z&quot;: -0.4614227420864501}, {&quot;x&quot;: 1.666666666666666, &quot;y&quot;: -0.12820512820512864, &quot;z&quot;: -0.513396110284087}, {&quot;x&quot;: 1.666666666666666, &quot;y&quot;: 0.12820512820512775, &quot;z&quot;: -0.513396110284087}, {&quot;x&quot;: 1.666666666666666, &quot;y&quot;: 0.38461538461538414, &quot;z&quot;: -0.4614227420864501}, {&quot;x&quot;: 1.666666666666666, &quot;y&quot;: 0.6410256410256405, &quot;z&quot;: -0.34919117705423175}, {&quot;x&quot;: 1.666666666666666, &quot;y&quot;: 0.8974358974358969, &quot;z&quot;: -0.17437277928309644}, {&quot;x&quot;: 1.666666666666666, &quot;y&quot;: 1.1538461538461533, &quot;z&quot;: 0.04195038936514201}, {&quot;x&quot;: 1.666666666666666, &quot;y&quot;: 1.4102564102564097, &quot;z&quot;: 0.24936703371622349}, {&quot;x&quot;: 1.666666666666666, &quot;y&quot;: 1.666666666666666, &quot;z&quot;: 0.3821791469745444}, {&quot;x&quot;: 1.666666666666666, &quot;y&quot;: 1.9230769230769225, &quot;z&quot;: 0.3890728985144824}, {&quot;x&quot;: 1.666666666666666, &quot;y&quot;: 2.179487179487179, &quot;z&quot;: 0.2627616487482767}, {&quot;x&quot;: 1.666666666666666, &quot;y&quot;: 2.4358974358974352, &quot;z&quot;: 0.05142019026962747}, {&quot;x&quot;: 1.666666666666666, &quot;y&quot;: 2.6923076923076916, &quot;z&quot;: -0.1577056419836781}, {&quot;x&quot;: 1.666666666666666, &quot;y&quot;: 2.948717948717948, &quot;z&quot;: -0.2768704686702714}, {&quot;x&quot;: 1.666666666666666, &quot;y&quot;: 3.2051282051282044, &quot;z&quot;: -0.2596827679719556}, {&quot;x&quot;: 1.666666666666666, &quot;y&quot;: 3.461538461538461, &quot;z&quot;: -0.12404748116237699}, {&quot;x&quot;: 1.666666666666666, &quot;y&quot;: 3.717948717948717, &quot;z&quot;: 0.056862409133509616}, {&quot;x&quot;: 1.666666666666666, &quot;y&quot;: 3.9743589743589736, &quot;z&quot;: 0.19177960940564}, {&quot;x&quot;: 1.666666666666666, &quot;y&quot;: 4.23076923076923, &quot;z&quot;: 0.21749963044648882}, {&quot;x&quot;: 1.666666666666666, &quot;y&quot;: 4.487179487179486, &quot;z&quot;: 0.12974477006536825}, {&quot;x&quot;: 1.666666666666666, &quot;y&quot;: 4.743589743589743, &quot;z&quot;: -0.01738852540015714}, {&quot;x&quot;: 1.666666666666666, &quot;y&quot;: 5.0, &quot;z&quot;: -0.14250583708975548}, {&quot;x&quot;: 1.9230769230769225, &quot;y&quot;: -4.743589743589744, &quot;z&quot;: -0.07110861736368898}, {&quot;x&quot;: 1.9230769230769225, &quot;y&quot;: -5.0, &quot;z&quot;: -0.16816513881487025}, {&quot;x&quot;: 1.9230769230769225, &quot;y&quot;: -4.487179487179487, &quot;z&quot;: 0.07426425040162632}, {&quot;x&quot;: 1.9230769230769225, &quot;y&quot;: -4.230769230769231, &quot;z&quot;: 0.19253864247086708}, {&quot;x&quot;: 1.9230769230769225, &quot;y&quot;: -3.9743589743589745, &quot;z&quot;: 0.21849671405696244}, {&quot;x&quot;: 1.9230769230769225, &quot;y&quot;: -3.717948717948718, &quot;z&quot;: 0.13169628077917828}, {&quot;x&quot;: 1.9230769230769225, &quot;y&quot;: -3.4615384615384617, &quot;z&quot;: -0.031762908561531876}, {&quot;x&quot;: 1.9230769230769225, &quot;y&quot;: -3.2051282051282053, &quot;z&quot;: -0.19629367355494326}, {&quot;x&quot;: 1.9230769230769225, &quot;y&quot;: -2.948717948717949, &quot;z&quot;: -0.2834765187178332}, {&quot;x&quot;: 1.9230769230769225, &quot;y&quot;: -2.6923076923076925, &quot;z&quot;: -0.2492232356268056}, {&quot;x&quot;: 1.9230769230769225, &quot;y&quot;: -2.435897435897436, &quot;z&quot;: -0.10295020095341223}, {&quot;x&quot;: 1.9230769230769225, &quot;y&quot;: -2.1794871794871797, &quot;z&quot;: 0.09949673187583748}, {&quot;x&quot;: 1.9230769230769225, &quot;y&quot;: -1.9230769230769234, &quot;z&quot;: 0.2835780881782838}, {&quot;x&quot;: 1.9230769230769225, &quot;y&quot;: -1.666666666666667, &quot;z&quot;: 0.3890728985144823}, {&quot;x&quot;: 1.9230769230769225, &quot;y&quot;: -1.4102564102564106, &quot;z&quot;: 0.39214527958875217}, {&quot;x&quot;: 1.9230769230769225, &quot;y&quot;: -1.1538461538461542, &quot;z&quot;: 0.30795661143729963}, {&quot;x&quot;: 1.9230769230769225, &quot;y&quot;: -0.8974358974358978, &quot;z&quot;: 0.1764520585313713}, {&quot;x&quot;: 1.9230769230769225, &quot;y&quot;: -0.6410256410256414, &quot;z&quot;: 0.04195038936514287}, {&quot;x&quot;: 1.9230769230769225, &quot;y&quot;: -0.384615384615385, &quot;z&quot;: -0.062061535024023985}, {&quot;x&quot;: 1.9230769230769225, &quot;y&quot;: -0.12820512820512864, &quot;z&quot;: -0.11740161711927322}, {&quot;x&quot;: 1.9230769230769225, &quot;y&quot;: 0.12820512820512775, &quot;z&quot;: -0.11740161711927322}, {&quot;x&quot;: 1.9230769230769225, &quot;y&quot;: 0.38461538461538414, &quot;z&quot;: -0.06206153502402443}, {&quot;x&quot;: 1.9230769230769225, &quot;y&quot;: 0.6410256410256405, &quot;z&quot;: 0.04195038936514201}, {&quot;x&quot;: 1.9230769230769225, &quot;y&quot;: 0.8974358974358969, &quot;z&quot;: 0.17645205853137055}, {&quot;x&quot;: 1.9230769230769225, &quot;y&quot;: 1.1538461538461533, &quot;z&quot;: 0.30795661143729947}, {&quot;x&quot;: 1.9230769230769225, &quot;y&quot;: 1.4102564102564097, &quot;z&quot;: 0.3921452795887521}, {&quot;x&quot;: 1.9230769230769225, &quot;y&quot;: 1.666666666666666, &quot;z&quot;: 0.3890728985144824}, {&quot;x&quot;: 1.9230769230769225, &quot;y&quot;: 1.9230769230769225, &quot;z&quot;: 0.28357808817828384}, {&quot;x&quot;: 1.9230769230769225, &quot;y&quot;: 2.179487179487179, &quot;z&quot;: 0.0994967318758381}, {&quot;x&quot;: 1.9230769230769225, &quot;y&quot;: 2.4358974358974352, &quot;z&quot;: -0.1029502009534117}, {&quot;x&quot;: 1.9230769230769225, &quot;y&quot;: 2.6923076923076916, &quot;z&quot;: -0.24922323562680504}, {&quot;x&quot;: 1.9230769230769225, &quot;y&quot;: 2.948717948717948, &quot;z&quot;: -0.28347651871783325}, {&quot;x&quot;: 1.9230769230769225, &quot;y&quot;: 3.2051282051282044, &quot;z&quot;: -0.19629367355494434}, {&quot;x&quot;: 1.9230769230769225, &quot;y&quot;: 3.461538461538461, &quot;z&quot;: -0.03176290856153277}, {&quot;x&quot;: 1.9230769230769225, &quot;y&quot;: 3.717948717948717, &quot;z&quot;: 0.1316962807791776}, {&quot;x&quot;: 1.9230769230769225, &quot;y&quot;: 3.9743589743589736, &quot;z&quot;: 0.21849671405696225}, {&quot;x&quot;: 1.9230769230769225, &quot;y&quot;: 4.23076923076923, &quot;z&quot;: 0.19253864247086747}, {&quot;x&quot;: 1.9230769230769225, &quot;y&quot;: 4.487179487179486, &quot;z&quot;: 0.07426425040162701}, {&quot;x&quot;: 1.9230769230769225, &quot;y&quot;: 4.743589743589743, &quot;z&quot;: -0.07110861736368836}, {&quot;x&quot;: 1.9230769230769225, &quot;y&quot;: 5.0, &quot;z&quot;: -0.16816513881487025}, {&quot;x&quot;: 2.179487179487179, &quot;y&quot;: -4.743589743589744, &quot;z&quot;: -0.12225553877823545}, {&quot;x&quot;: 2.179487179487179, &quot;y&quot;: -5.0, &quot;z&quot;: -0.181458747260568}, {&quot;x&quot;: 2.179487179487179, &quot;y&quot;: -4.487179487179487, &quot;z&quot;: 0.007252640095980293}, {&quot;x&quot;: 2.179487179487179, &quot;y&quot;: -4.230769230769231, &quot;z&quot;: 0.1442431853958254}, {&quot;x&quot;: 2.179487179487179, &quot;y&quot;: -3.9743589743589745, &quot;z&quot;: 0.21945165588530713}, {&quot;x&quot;: 2.179487179487179, &quot;y&quot;: -3.717948717948718, &quot;z&quot;: 0.19177960940564043}, {&quot;x&quot;: 2.179487179487179, &quot;y&quot;: -3.4615384615384617, &quot;z&quot;: 0.06859293033635355}, {&quot;x&quot;: 2.179487179487179, &quot;y&quot;: -3.2051282051282053, &quot;z&quot;: -0.09801869890005771}, {&quot;x&quot;: 2.179487179487179, &quot;y&quot;: -2.948717948717949, &quot;z&quot;: -0.23614455601492598}, {&quot;x&quot;: 2.179487179487179, &quot;y&quot;: -2.6923076923076925, &quot;z&quot;: -0.2868375581433094}, {&quot;x&quot;: 2.179487179487179, &quot;y&quot;: -2.435897435897436, &quot;z&quot;: -0.22859921985486215}, {&quot;x&quot;: 2.179487179487179, &quot;y&quot;: -2.1794871794871797, &quot;z&quot;: -0.08291366426279477}, {&quot;x&quot;: 2.179487179487179, &quot;y&quot;: -1.9230769230769234, &quot;z&quot;: 0.09949673187583807}, {&quot;x&quot;: 2.179487179487179, &quot;y&quot;: -1.666666666666667, &quot;z&quot;: 0.2627616487482761}, {&quot;x&quot;: 2.179487179487179, &quot;y&quot;: -1.4102564102564106, &quot;z&quot;: 0.36784352552862976}, {&quot;x&quot;: 2.179487179487179, &quot;y&quot;: -1.1538461538461542, &quot;z&quot;: 0.40320180479496565}, {&quot;x&quot;: 2.179487179487179, &quot;y&quot;: -0.8974358974358978, &quot;z&quot;: 0.38217914697454464}, {&quot;x&quot;: 2.179487179487179, &quot;y&quot;: -0.6410256410256414, &quot;z&quot;: 0.33182490974641493}, {&quot;x&quot;: 2.179487179487179, &quot;y&quot;: -0.384615384615385, &quot;z&quot;: 0.28047177296991826}, {&quot;x&quot;: 2.179487179487179, &quot;y&quot;: -0.12820512820512864, &quot;z&quot;: 0.24936703371622412}, {&quot;x&quot;: 2.179487179487179, &quot;y&quot;: 0.12820512820512775, &quot;z&quot;: 0.24936703371622412}, {&quot;x&quot;: 2.179487179487179, &quot;y&quot;: 0.38461538461538414, &quot;z&quot;: 0.28047177296991826}, {&quot;x&quot;: 2.179487179487179, &quot;y&quot;: 0.6410256410256405, &quot;z&quot;: 0.33182490974641493}, {&quot;x&quot;: 2.179487179487179, &quot;y&quot;: 0.8974358974358969, &quot;z&quot;: 0.3821791469745444}, {&quot;x&quot;: 2.179487179487179, &quot;y&quot;: 1.1538461538461533, &quot;z&quot;: 0.40320180479496565}, {&quot;x&quot;: 2.179487179487179, &quot;y&quot;: 1.4102564102564097, &quot;z&quot;: 0.36784352552863003}, {&quot;x&quot;: 2.179487179487179, &quot;y&quot;: 1.666666666666666, &quot;z&quot;: 0.2627616487482767}, {&quot;x&quot;: 2.179487179487179, &quot;y&quot;: 1.9230769230769225, &quot;z&quot;: 0.0994967318758381}, {&quot;x&quot;: 2.179487179487179, &quot;y&quot;: 2.179487179487179, &quot;z&quot;: -0.08291366426279421}, {&quot;x&quot;: 2.179487179487179, &quot;y&quot;: 2.4358974358974352, &quot;z&quot;: -0.2285992198548618}, {&quot;x&quot;: 2.179487179487179, &quot;y&quot;: 2.6923076923076916, &quot;z&quot;: -0.28683755814330936}, {&quot;x&quot;: 2.179487179487179, &quot;y&quot;: 2.948717948717948, &quot;z&quot;: -0.2361445560149263}, {&quot;x&quot;: 2.179487179487179, &quot;y&quot;: 3.2051282051282044, &quot;z&quot;: -0.09801869890005815}, {&quot;x&quot;: 2.179487179487179, &quot;y&quot;: 3.461538461538461, &quot;z&quot;: 0.06859293033635315}, {&quot;x&quot;: 2.179487179487179, &quot;y&quot;: 3.717948717948717, &quot;z&quot;: 0.19177960940564}, {&quot;x&quot;: 2.179487179487179, &quot;y&quot;: 3.9743589743589736, &quot;z&quot;: 0.21945165588530727}, {&quot;x&quot;: 2.179487179487179, &quot;y&quot;: 4.23076923076923, &quot;z&quot;: 0.1442431853958254}, {&quot;x&quot;: 2.179487179487179, &quot;y&quot;: 4.487179487179486, &quot;z&quot;: 0.007252640095981005}, {&quot;x&quot;: 2.179487179487179, &quot;y&quot;: 4.743589743589743, &quot;z&quot;: -0.12225553877823493}, {&quot;x&quot;: 2.179487179487179, &quot;y&quot;: 5.0, &quot;z&quot;: -0.181458747260568}, {&quot;x&quot;: 2.4358974358974352, &quot;y&quot;: -4.743589743589744, &quot;z&quot;: -0.16215123327794975}, {&quot;x&quot;: 2.4358974358974352, &quot;y&quot;: -5.0, &quot;z&quot;: -0.17642014222082295}, {&quot;x&quot;: 2.4358974358974352, &quot;y&quot;: -4.487179487179487, &quot;z&quot;: -0.06386100244520297}, {&quot;x&quot;: 2.4358974358974352, &quot;y&quot;: -4.230769230769231, &quot;z&quot;: 0.07426425040162632}, {&quot;x&quot;: 2.4358974358974352, &quot;y&quot;: -3.9743589743589745, &quot;z&quot;: 0.18751704244724113}, {&quot;x&quot;: 2.4358974358974352, &quot;y&quot;: -3.717948717948718, &quot;z&quot;: 0.22161150667081944}, {&quot;x&quot;: 2.4358974358974352, &quot;y&quot;: -3.4615384615384617, &quot;z&quot;: 0.1577421701184894}, {&quot;x&quot;: 2.4358974358974352, &quot;y&quot;: -3.2051282051282053, &quot;z&quot;: 0.02005162258719657}, {&quot;x&quot;: 2.4358974358974352, &quot;y&quot;: -2.948717948717949, &quot;z&quot;: -0.13680209349327227}, {&quot;x&quot;: 2.4358974358974352, &quot;y&quot;: -2.6923076923076925, &quot;z&quot;: -0.2525273690725323}, {&quot;x&quot;: 2.4358974358974352, &quot;y&quot;: -2.435897435897436, &quot;z&quot;: -0.2859444258351932}, {&quot;x&quot;: 2.4358974358974352, &quot;y&quot;: -2.1794871794871797, &quot;z&quot;: -0.22859921985486215}, {&quot;x&quot;: 2.4358974358974352, &quot;y&quot;: -1.9230769230769234, &quot;z&quot;: -0.10295020095341224}, {&quot;x&quot;: 2.4358974358974352, &quot;y&quot;: -1.666666666666667, &quot;z&quot;: 0.05142019026962687}, {&quot;x&quot;: 2.4358974358974352, &quot;y&quot;: -1.4102564102564106, &quot;z&quot;: 0.1953560652597397}, {&quot;x&quot;: 2.4358974358974352, &quot;y&quot;: -1.1538461538461542, &quot;z&quot;: 0.3032997883859575}, {&quot;x&quot;: 2.4358974358974352, &quot;y&quot;: -0.8974358974358978, &quot;z&quot;: 0.36784352552863003}, {&quot;x&quot;: 2.4358974358974352, &quot;y&quot;: -0.6410256410256414, &quot;z&quot;: 0.39631500866096997}, {&quot;x&quot;: 2.4358974358974352, &quot;y&quot;: -0.384615384615385, &quot;z&quot;: 0.40320180479496565}, {&quot;x&quot;: 2.4358974358974352, &quot;y&quot;: -0.12820512820512864, &quot;z&quot;: 0.4025199040233179}, {&quot;x&quot;: 2.4358974358974352, &quot;y&quot;: 0.12820512820512775, &quot;z&quot;: 0.4025199040233179}, {&quot;x&quot;: 2.4358974358974352, &quot;y&quot;: 0.38461538461538414, &quot;z&quot;: 0.40320180479496565}, {&quot;x&quot;: 2.4358974358974352, &quot;y&quot;: 0.6410256410256405, &quot;z&quot;: 0.39631500866096997}, {&quot;x&quot;: 2.4358974358974352, &quot;y&quot;: 0.8974358974358969, &quot;z&quot;: 0.36784352552863026}, {&quot;x&quot;: 2.4358974358974352, &quot;y&quot;: 1.1538461538461533, &quot;z&quot;: 0.30329978838595795}, {&quot;x&quot;: 2.4358974358974352, &quot;y&quot;: 1.4102564102564097, &quot;z&quot;: 0.19535606525974025}, {&quot;x&quot;: 2.4358974358974352, &quot;y&quot;: 1.666666666666666, &quot;z&quot;: 0.05142019026962747}, {&quot;x&quot;: 2.4358974358974352, &quot;y&quot;: 1.9230769230769225, &quot;z&quot;: -0.1029502009534117}, {&quot;x&quot;: 2.4358974358974352, &quot;y&quot;: 2.179487179487179, &quot;z&quot;: -0.2285992198548618}, {&quot;x&quot;: 2.4358974358974352, &quot;y&quot;: 2.4358974358974352, &quot;z&quot;: -0.2859444258351931}, {&quot;x&quot;: 2.4358974358974352, &quot;y&quot;: 2.6923076923076916, &quot;z&quot;: -0.2525273690725326}, {&quot;x&quot;: 2.4358974358974352, &quot;y&quot;: 2.948717948717948, &quot;z&quot;: -0.1368020934932727}, {&quot;x&quot;: 2.4358974358974352, &quot;y&quot;: 3.2051282051282044, &quot;z&quot;: 0.020051622587195696}, {&quot;x&quot;: 2.4358974358974352, &quot;y&quot;: 3.461538461538461, &quot;z&quot;: 0.15774217011848884}, {&quot;x&quot;: 2.4358974358974352, &quot;y&quot;: 3.717948717948717, &quot;z&quot;: 0.22161150667081936}, {&quot;x&quot;: 2.4358974358974352, &quot;y&quot;: 3.9743589743589736, &quot;z&quot;: 0.18751704244724154}, {&quot;x&quot;: 2.4358974358974352, &quot;y&quot;: 4.23076923076923, &quot;z&quot;: 0.07426425040162701}, {&quot;x&quot;: 2.4358974358974352, &quot;y&quot;: 4.487179487179486, &quot;z&quot;: -0.06386100244520233}, {&quot;x&quot;: 2.4358974358974352, &quot;y&quot;: 4.743589743589743, &quot;z&quot;: -0.16215123327794945}, {&quot;x&quot;: 2.4358974358974352, &quot;y&quot;: 5.0, &quot;z&quot;: -0.17642014222082295}, {&quot;x&quot;: 2.6923076923076916, &quot;y&quot;: -4.743589743589744, &quot;z&quot;: -0.18145874726056793}, {&quot;x&quot;: 2.6923076923076916, &quot;y&quot;: -5.0, &quot;z&quot;: -0.14904237659689593}, {&quot;x&quot;: 2.6923076923076916, &quot;y&quot;: -4.487179487179487, &quot;z&quot;: -0.12767883171207858}, {&quot;x&quot;: 2.6923076923076916, &quot;y&quot;: -4.230769230769231, &quot;z&quot;: -0.009250285950514308}, {&quot;x&quot;: 2.6923076923076916, &quot;y&quot;: -3.9743589743589745, &quot;z&quot;: 0.12222104054936214}, {&quot;x&quot;: 2.6923076923076916, &quot;y&quot;: -3.717948717948718, &quot;z&quot;: 0.2091223519076397}, {&quot;x&quot;: 2.6923076923076916, &quot;y&quot;: -3.4615384615384617, &quot;z&quot;: 0.21338743078659142}, {&quot;x&quot;: 2.6923076923076916, &quot;y&quot;: -3.2051282051282053, &quot;z&quot;: 0.13169628077917828}, {&quot;x&quot;: 2.6923076923076916, &quot;y&quot;: -2.948717948717949, &quot;z&quot;: -0.005565270813887642}, {&quot;x&quot;: 2.6923076923076916, &quot;y&quot;: -2.6923076923076925, &quot;z&quot;: -0.14932821393162313}, {&quot;x&quot;: 2.6923076923076916, &quot;y&quot;: -2.435897435897436, &quot;z&quot;: -0.2525273690725323}, {&quot;x&quot;: 2.6923076923076916, &quot;y&quot;: -2.1794871794871797, &quot;z&quot;: -0.2868375581433094}, {&quot;x&quot;: 2.6923076923076916, &quot;y&quot;: -1.9230769230769234, &quot;z&quot;: -0.2492232356268056}, {&quot;x&quot;: 2.6923076923076916, &quot;y&quot;: -1.666666666666667, &quot;z&quot;: -0.1577056419836785}, {&quot;x&quot;: 2.6923076923076916, &quot;y&quot;: -1.4102564102564106, &quot;z&quot;: -0.040519473390474396}, {&quot;x&quot;: 2.6923076923076916, &quot;y&quot;: -1.1538461538461542, &quot;z&quot;: 0.07536961333393402}, {&quot;x&quot;: 2.6923076923076916, &quot;y&quot;: -0.8974358974358978, &quot;z&quot;: 0.17174795107440963}, {&quot;x&quot;: 2.6923076923076916, &quot;y&quot;: -0.6410256410256414, &quot;z&quot;: 0.24101402846304937}, {&quot;x&quot;: 2.6923076923076916, &quot;y&quot;: -0.384615384615385, &quot;z&quot;: 0.28357808817828384}, {&quot;x&quot;: 2.6923076923076916, &quot;y&quot;: -0.12820512820512864, &quot;z&quot;: 0.3032997883859575}, {&quot;x&quot;: 2.6923076923076916, &quot;y&quot;: 0.12820512820512775, &quot;z&quot;: 0.3032997883859575}, {&quot;x&quot;: 2.6923076923076916, &quot;y&quot;: 0.38461538461538414, &quot;z&quot;: 0.28357808817828384}, {&quot;x&quot;: 2.6923076923076916, &quot;y&quot;: 0.6410256410256405, &quot;z&quot;: 0.2410140284630499}, {&quot;x&quot;: 2.6923076923076916, &quot;y&quot;: 0.8974358974358969, &quot;z&quot;: 0.17174795107440963}, {&quot;x&quot;: 2.6923076923076916, &quot;y&quot;: 1.1538461538461533, &quot;z&quot;: 0.07536961333393404}, {&quot;x&quot;: 2.6923076923076916, &quot;y&quot;: 1.4102564102564097, &quot;z&quot;: -0.0405194733904744}, {&quot;x&quot;: 2.6923076923076916, &quot;y&quot;: 1.666666666666666, &quot;z&quot;: -0.1577056419836781}, {&quot;x&quot;: 2.6923076923076916, &quot;y&quot;: 1.9230769230769225, &quot;z&quot;: -0.24922323562680504}, {&quot;x&quot;: 2.6923076923076916, &quot;y&quot;: 2.179487179487179, &quot;z&quot;: -0.28683755814330936}, {&quot;x&quot;: 2.6923076923076916, &quot;y&quot;: 2.4358974358974352, &quot;z&quot;: -0.2525273690725326}, {&quot;x&quot;: 2.6923076923076916, &quot;y&quot;: 2.6923076923076916, &quot;z&quot;: -0.14932821393162352}, {&quot;x&quot;: 2.6923076923076916, &quot;y&quot;: 2.948717948717948, &quot;z&quot;: -0.005565270813888088}, {&quot;x&quot;: 2.6923076923076916, &quot;y&quot;: 3.2051282051282044, &quot;z&quot;: 0.1316962807791776}, {&quot;x&quot;: 2.6923076923076916, &quot;y&quot;: 3.461538461538461, &quot;z&quot;: 0.2133874307865913}, {&quot;x&quot;: 2.6923076923076916, &quot;y&quot;: 3.717948717948717, &quot;z&quot;: 0.20912235190763995}, {&quot;x&quot;: 2.6923076923076916, &quot;y&quot;: 3.9743589743589736, &quot;z&quot;: 0.12222104054936277}, {&quot;x&quot;: 2.6923076923076916, &quot;y&quot;: 4.23076923076923, &quot;z&quot;: -0.009250285950513604}, {&quot;x&quot;: 2.6923076923076916, &quot;y&quot;: 4.487179487179486, &quot;z&quot;: -0.12767883171207858}, {&quot;x&quot;: 2.6923076923076916, &quot;y&quot;: 4.743589743589743, &quot;z&quot;: -0.18145874726056788}, {&quot;x&quot;: 2.6923076923076916, &quot;y&quot;: 5.0, &quot;z&quot;: -0.14904237659689593}, {&quot;x&quot;: 2.948717948717948, &quot;y&quot;: -4.743589743589744, &quot;z&quot;: -0.17263493054486226}, {&quot;x&quot;: 2.948717948717948, &quot;y&quot;: -5.0, &quot;z&quot;: -0.09917570405967194}, {&quot;x&quot;: 2.948717948717948, &quot;y&quot;: -4.487179487179487, &quot;z&quot;: -0.17076952332841047}, {&quot;x&quot;: 2.948717948717948, &quot;y&quot;: -4.230769230769231, &quot;z&quot;: -0.09179654096842312}, {&quot;x&quot;: 2.948717948717948, &quot;y&quot;: -3.9743589743589745, &quot;z&quot;: 0.032372655749033356}, {&quot;x&quot;: 2.948717948717948, &quot;y&quot;: -3.717948717948718, &quot;z&quot;: 0.1511851284353025}, {&quot;x&quot;: 2.948717948717948, &quot;y&quot;: -3.4615384615384617, &quot;z&quot;: 0.21749963044648865}, {&quot;x&quot;: 2.948717948717948, &quot;y&quot;: -3.2051282051282053, &quot;z&quot;: 0.20626059743173403}, {&quot;x&quot;: 2.948717948717948, &quot;y&quot;: -2.948717948717949, &quot;z&quot;: 0.12214466427113907}, {&quot;x&quot;: 2.948717948717948, &quot;y&quot;: -2.6923076923076925, &quot;z&quot;: -0.005565270813887642}, {&quot;x&quot;: 2.948717948717948, &quot;y&quot;: -2.435897435897436, &quot;z&quot;: -0.13680209349327227}, {&quot;x&quot;: 2.948717948717948, &quot;y&quot;: -2.1794871794871797, &quot;z&quot;: -0.23614455601492604}, {&quot;x&quot;: 2.948717948717948, &quot;y&quot;: -1.9230769230769234, &quot;z&quot;: -0.2834765187178332}, {&quot;x&quot;: 2.948717948717948, &quot;y&quot;: -1.666666666666667, &quot;z&quot;: -0.2768704686702714}, {&quot;x&quot;: 2.948717948717948, &quot;y&quot;: -1.4102564102564106, &quot;z&quot;: -0.2285992198548618}, {&quot;x&quot;: 2.948717948717948, &quot;y&quot;: -1.1538461538461542, &quot;z&quot;: -0.1577056419836785}, {&quot;x&quot;: 2.948717948717948, &quot;y&quot;: -0.8974358974358978, &quot;z&quot;: -0.08291366426279421}, {&quot;x&quot;: 2.948717948717948, &quot;y&quot;: -0.6410256410256414, &quot;z&quot;: -0.018303855097791748}, {&quot;x&quot;: 2.948717948717948, &quot;y&quot;: -0.384615384615385, &quot;z&quot;: 0.027757766519313685}, {&quot;x&quot;: 2.948717948717948, &quot;y&quot;: -0.12820512820512864, &quot;z&quot;: 0.05142019026962687}, {&quot;x&quot;: 2.948717948717948, &quot;y&quot;: 0.12820512820512775, &quot;z&quot;: 0.05142019026962747}, {&quot;x&quot;: 2.948717948717948, &quot;y&quot;: 0.38461538461538414, &quot;z&quot;: 0.027757766519314282}, {&quot;x&quot;: 2.948717948717948, &quot;y&quot;: 0.6410256410256405, &quot;z&quot;: -0.01830385509779175}, {&quot;x&quot;: 2.948717948717948, &quot;y&quot;: 0.8974358974358969, &quot;z&quot;: -0.08291366426279421}, {&quot;x&quot;: 2.948717948717948, &quot;y&quot;: 1.1538461538461533, &quot;z&quot;: -0.1577056419836781}, {&quot;x&quot;: 2.948717948717948, &quot;y&quot;: 1.4102564102564097, &quot;z&quot;: -0.2285992198548618}, {&quot;x&quot;: 2.948717948717948, &quot;y&quot;: 1.666666666666666, &quot;z&quot;: -0.2768704686702714}, {&quot;x&quot;: 2.948717948717948, &quot;y&quot;: 1.9230769230769225, &quot;z&quot;: -0.28347651871783325}, {&quot;x&quot;: 2.948717948717948, &quot;y&quot;: 2.179487179487179, &quot;z&quot;: -0.2361445560149263}, {&quot;x&quot;: 2.948717948717948, &quot;y&quot;: 2.4358974358974352, &quot;z&quot;: -0.1368020934932727}, {&quot;x&quot;: 2.948717948717948, &quot;y&quot;: 2.6923076923076916, &quot;z&quot;: -0.005565270813888088}, {&quot;x&quot;: 2.948717948717948, &quot;y&quot;: 2.948717948717948, &quot;z&quot;: 0.12214466427113907}, {&quot;x&quot;: 2.948717948717948, &quot;y&quot;: 3.2051282051282044, &quot;z&quot;: 0.20626059743173392}, {&quot;x&quot;: 2.948717948717948, &quot;y&quot;: 3.461538461538461, &quot;z&quot;: 0.21749963044648882}, {&quot;x&quot;: 2.948717948717948, &quot;y&quot;: 3.717948717948717, &quot;z&quot;: 0.15118512843530302}, {&quot;x&quot;: 2.948717948717948, &quot;y&quot;: 3.9743589743589736, &quot;z&quot;: 0.032372655749034064}, {&quot;x&quot;: 2.948717948717948, &quot;y&quot;: 4.23076923076923, &quot;z&quot;: -0.09179654096842253}, {&quot;x&quot;: 2.948717948717948, &quot;y&quot;: 4.487179487179486, &quot;z&quot;: -0.17076952332841047}, {&quot;x&quot;: 2.948717948717948, &quot;y&quot;: 4.743589743589743, &quot;z&quot;: -0.17263493054486245}, {&quot;x&quot;: 2.948717948717948, &quot;y&quot;: 5.0, &quot;z&quot;: -0.09917570405967194}, {&quot;x&quot;: 3.2051282051282044, &quot;y&quot;: -4.743589743589744, &quot;z&quot;: -0.1328596087593443}, {&quot;x&quot;: 3.2051282051282044, &quot;y&quot;: -5.0, &quot;z&quot;: -0.032020706711041506}, {&quot;x&quot;: 3.2051282051282044, &quot;y&quot;: -4.487179487179487, &quot;z&quot;: -0.18116306412965302}, {&quot;x&quot;: 3.2051282051282044, &quot;y&quot;: -4.230769230769231, &quot;z&quot;: -0.15507394328644017}, {&quot;x&quot;: 3.2051282051282044, &quot;y&quot;: -3.9743589743589745, &quot;z&quot;: -0.06386100244520297}, {&quot;x&quot;: 3.2051282051282044, &quot;y&quot;: -3.717948717948718, &quot;z&quot;: 0.057592879546352754}, {&quot;x&quot;: 3.2051282051282044, &quot;y&quot;: -3.4615384615384617, &quot;z&quot;: 0.16437306451431274}, {&quot;x&quot;: 3.2051282051282044, &quot;y&quot;: -3.2051282051282053, &quot;z&quot;: 0.21945165588530727}, {&quot;x&quot;: 3.2051282051282044, &quot;y&quot;: -2.948717948717949, &quot;z&quot;: 0.20626059743173403}, {&quot;x&quot;: 3.2051282051282044, &quot;y&quot;: -2.6923076923076925, &quot;z&quot;: 0.1316962807791776}, {&quot;x&quot;: 3.2051282051282044, &quot;y&quot;: -2.435897435897436, &quot;z&quot;: 0.020051622587195696}, {&quot;x&quot;: 3.2051282051282044, &quot;y&quot;: -2.1794871794871797, &quot;z&quot;: -0.09801869890005771}, {&quot;x&quot;: 3.2051282051282044, &quot;y&quot;: -1.9230769230769234, &quot;z&quot;: -0.19629367355494365}, {&quot;x&quot;: 3.2051282051282044, &quot;y&quot;: -1.666666666666667, &quot;z&quot;: -0.2596827679719554}, {&quot;x&quot;: 3.2051282051282044, &quot;y&quot;: -1.4102564102564106, &quot;z&quot;: -0.28557437513757994}, {&quot;x&quot;: 3.2051282051282044, &quot;y&quot;: -1.1538461538461542, &quot;z&quot;: -0.2809819013756126}, {&quot;x&quot;: 3.2051282051282044, &quot;y&quot;: -0.8974358974358978, &quot;z&quot;: -0.2578328027491929}, {&quot;x&quot;: 3.2051282051282044, &quot;y&quot;: -0.6410256410256414, &quot;z&quot;: -0.2285992198548618}, {&quot;x&quot;: 3.2051282051282044, &quot;y&quot;: -0.384615384615385, &quot;z&quot;: -0.20348555208197017}, {&quot;x&quot;: 3.2051282051282044, &quot;y&quot;: -0.12820512820512864, &quot;z&quot;: -0.18928253877123374}, {&quot;x&quot;: 3.2051282051282044, &quot;y&quot;: 0.12820512820512775, &quot;z&quot;: -0.18928253877123333}, {&quot;x&quot;: 3.2051282051282044, &quot;y&quot;: 0.38461538461538414, &quot;z&quot;: -0.2034855520819698}, {&quot;x&quot;: 3.2051282051282044, &quot;y&quot;: 0.6410256410256405, &quot;z&quot;: -0.2285992198548618}, {&quot;x&quot;: 3.2051282051282044, &quot;y&quot;: 0.8974358974358969, &quot;z&quot;: -0.2578328027491927}, {&quot;x&quot;: 3.2051282051282044, &quot;y&quot;: 1.1538461538461533, &quot;z&quot;: -0.2809819013756126}, {&quot;x&quot;: 3.2051282051282044, &quot;y&quot;: 1.4102564102564097, &quot;z&quot;: -0.28557437513758}, {&quot;x&quot;: 3.2051282051282044, &quot;y&quot;: 1.666666666666666, &quot;z&quot;: -0.2596827679719556}, {&quot;x&quot;: 3.2051282051282044, &quot;y&quot;: 1.9230769230769225, &quot;z&quot;: -0.19629367355494434}, {&quot;x&quot;: 3.2051282051282044, &quot;y&quot;: 2.179487179487179, &quot;z&quot;: -0.09801869890005815}, {&quot;x&quot;: 3.2051282051282044, &quot;y&quot;: 2.4358974358974352, &quot;z&quot;: 0.020051622587195696}, {&quot;x&quot;: 3.2051282051282044, &quot;y&quot;: 2.6923076923076916, &quot;z&quot;: 0.1316962807791776}, {&quot;x&quot;: 3.2051282051282044, &quot;y&quot;: 2.948717948717948, &quot;z&quot;: 0.20626059743173392}, {&quot;x&quot;: 3.2051282051282044, &quot;y&quot;: 3.2051282051282044, &quot;z&quot;: 0.21945165588530735}, {&quot;x&quot;: 3.2051282051282044, &quot;y&quot;: 3.461538461538461, &quot;z&quot;: 0.16437306451431324}, {&quot;x&quot;: 3.2051282051282044, &quot;y&quot;: 3.717948717948717, &quot;z&quot;: 0.057592879546352754}, {&quot;x&quot;: 3.2051282051282044, &quot;y&quot;: 3.9743589743589736, &quot;z&quot;: -0.06386100244520233}, {&quot;x&quot;: 3.2051282051282044, &quot;y&quot;: 4.23076923076923, &quot;z&quot;: -0.15507394328644017}, {&quot;x&quot;: 3.2051282051282044, &quot;y&quot;: 4.487179487179486, &quot;z&quot;: -0.18116306412965302}, {&quot;x&quot;: 3.2051282051282044, &quot;y&quot;: 4.743589743589743, &quot;z&quot;: -0.13285960875934513}, {&quot;x&quot;: 3.2051282051282044, &quot;y&quot;: 5.0, &quot;z&quot;: -0.032020706711041506}, {&quot;x&quot;: 3.461538461538461, &quot;y&quot;: -4.743589743589744, &quot;z&quot;: -0.06650034951626861}, {&quot;x&quot;: 3.461538461538461, &quot;y&quot;: -5.0, &quot;z&quot;: 0.04154590892184195}, {&quot;x&quot;: 3.461538461538461, &quot;y&quot;: -4.487179487179487, &quot;z&quot;: -0.1526690215534612}, {&quot;x&quot;: 3.461538461538461, &quot;y&quot;: -4.230769230769231, &quot;z&quot;: -0.1819178471216219}, {&quot;x&quot;: 3.461538461538461, &quot;y&quot;: -3.9743589743589745, &quot;z&quot;: -0.14250583708975548}, {&quot;x&quot;: 3.461538461538461, &quot;y&quot;: -3.717948717948718, &quot;z&quot;: -0.048896179368925964}, {&quot;x&quot;: 3.461538461538461, &quot;y&quot;: -3.4615384615384617, &quot;z&quot;: 0.06595296519823136}, {&quot;x&quot;: 3.461538461538461, &quot;y&quot;: -3.2051282051282053, &quot;z&quot;: 0.16437306451431274}, {&quot;x&quot;: 3.461538461538461, &quot;y&quot;: -2.948717948717949, &quot;z&quot;: 0.21749963044648865}, {&quot;x&quot;: 3.461538461538461, &quot;y&quot;: -2.6923076923076925, &quot;z&quot;: 0.21338743078659142}, {&quot;x&quot;: 3.461538461538461, &quot;y&quot;: -2.435897435897436, &quot;z&quot;: 0.1577421701184894}, {&quot;x&quot;: 3.461538461538461, &quot;y&quot;: -2.1794871794871797, &quot;z&quot;: 0.06859293033635355}, {&quot;x&quot;: 3.461538461538461, &quot;y&quot;: -1.9230769230769234, &quot;z&quot;: -0.031762908561532334}, {&quot;x&quot;: 3.461538461538461, &quot;y&quot;: -1.666666666666667, &quot;z&quot;: -0.12404748116237656}, {&quot;x&quot;: 3.461538461538461, &quot;y&quot;: -1.4102564102564106, &quot;z&quot;: -0.19629367355494395}, {&quot;x&quot;: 3.461538461538461, &quot;y&quot;: -1.1538461538461542, &quot;z&quot;: -0.24466721047350673}, {&quot;x&quot;: 3.461538461538461, &quot;y&quot;: -0.8974358974358978, &quot;z&quot;: -0.2717145043120366}, {&quot;x&quot;: 3.461538461538461, &quot;y&quot;: -0.6410256410256414, &quot;z&quot;: -0.28347651871783325}, {&quot;x&quot;: 3.461538461538461, &quot;y&quot;: -0.384615384615385, &quot;z&quot;: -0.2867048647089701}, {&quot;x&quot;: 3.461538461538461, &quot;y&quot;: -0.12820512820512864, &quot;z&quot;: -0.28683755814330936}, {&quot;x&quot;: 3.461538461538461, &quot;y&quot;: 0.12820512820512775, &quot;z&quot;: -0.28683755814330936}, {&quot;x&quot;: 3.461538461538461, &quot;y&quot;: 0.38461538461538414, &quot;z&quot;: -0.2867048647089701}, {&quot;x&quot;: 3.461538461538461, &quot;y&quot;: 0.6410256410256405, &quot;z&quot;: -0.28347651871783325}, {&quot;x&quot;: 3.461538461538461, &quot;y&quot;: 0.8974358974358969, &quot;z&quot;: -0.27171450431203675}, {&quot;x&quot;: 3.461538461538461, &quot;y&quot;: 1.1538461538461533, &quot;z&quot;: -0.244667210473507}, {&quot;x&quot;: 3.461538461538461, &quot;y&quot;: 1.4102564102564097, &quot;z&quot;: -0.19629367355494434}, {&quot;x&quot;: 3.461538461538461, &quot;y&quot;: 1.666666666666666, &quot;z&quot;: -0.12404748116237699}, {&quot;x&quot;: 3.461538461538461, &quot;y&quot;: 1.9230769230769225, &quot;z&quot;: -0.03176290856153277}, {&quot;x&quot;: 3.461538461538461, &quot;y&quot;: 2.179487179487179, &quot;z&quot;: 0.06859293033635315}, {&quot;x&quot;: 3.461538461538461, &quot;y&quot;: 2.4358974358974352, &quot;z&quot;: 0.15774217011848884}, {&quot;x&quot;: 3.461538461538461, &quot;y&quot;: 2.6923076923076916, &quot;z&quot;: 0.2133874307865913}, {&quot;x&quot;: 3.461538461538461, &quot;y&quot;: 2.948717948717948, &quot;z&quot;: 0.21749963044648882}, {&quot;x&quot;: 3.461538461538461, &quot;y&quot;: 3.2051282051282044, &quot;z&quot;: 0.16437306451431324}, {&quot;x&quot;: 3.461538461538461, &quot;y&quot;: 3.461538461538461, &quot;z&quot;: 0.06595296519823136}, {&quot;x&quot;: 3.461538461538461, &quot;y&quot;: 3.717948717948717, &quot;z&quot;: -0.048896179368925964}, {&quot;x&quot;: 3.461538461538461, &quot;y&quot;: 3.9743589743589736, &quot;z&quot;: -0.14250583708975548}, {&quot;x&quot;: 3.461538461538461, &quot;y&quot;: 4.23076923076923, &quot;z&quot;: -0.18191784712162187}, {&quot;x&quot;: 3.461538461538461, &quot;y&quot;: 4.487179487179486, &quot;z&quot;: -0.15266902155346154}, {&quot;x&quot;: 3.461538461538461, &quot;y&quot;: 4.743589743589743, &quot;z&quot;: -0.06650034951626863}, {&quot;x&quot;: 3.461538461538461, &quot;y&quot;: 5.0, &quot;z&quot;: 0.04154590892184195}, {&quot;x&quot;: 3.717948717948717, &quot;y&quot;: -4.743589743589744, &quot;z&quot;: 0.014059422915529975}, {&quot;x&quot;: 3.717948717948717, &quot;y&quot;: -5.0, &quot;z&quot;: 0.10644610198224165}, {&quot;x&quot;: 3.717948717948717, &quot;y&quot;: -4.487179487179487, &quot;z&quot;: -0.08858400012268383}, {&quot;x&quot;: 3.717948717948717, &quot;y&quot;: -4.230769230769231, &quot;z&quot;: -0.16243685302955652}, {&quot;x&quot;: 3.717948717948717, &quot;y&quot;: -3.9743589743589745, &quot;z&quot;: -0.1807355458306799}, {&quot;x&quot;: 3.717948717948717, &quot;y&quot;: -3.717948717948718, &quot;z&quot;: -0.13780894097772214}, {&quot;x&quot;: 3.717948717948717, &quot;y&quot;: -3.4615384615384617, &quot;z&quot;: -0.0488961793689263}, {&quot;x&quot;: 3.717948717948717, &quot;y&quot;: -3.2051282051282053, &quot;z&quot;: 0.05759287954635205}, {&quot;x&quot;: 3.717948717948717, &quot;y&quot;: -2.948717948717949, &quot;z&quot;: 0.1511851284353025}, {&quot;x&quot;: 3.717948717948717, &quot;y&quot;: -2.6923076923076925, &quot;z&quot;: 0.2091223519076397}, {&quot;x&quot;: 3.717948717948717, &quot;y&quot;: -2.435897435897436, &quot;z&quot;: 0.22161150667081944}, {&quot;x&quot;: 3.717948717948717, &quot;y&quot;: -2.1794871794871797, &quot;z&quot;: 0.19177960940564043}, {&quot;x&quot;: 3.717948717948717, &quot;y&quot;: -1.9230769230769234, &quot;z&quot;: 0.1316962807791776}, {&quot;x&quot;: 3.717948717948717, &quot;y&quot;: -1.666666666666667, &quot;z&quot;: 0.056862409133509616}, {&quot;x&quot;: 3.717948717948717, &quot;y&quot;: -1.4102564102564106, &quot;z&quot;: -0.01860751303330755}, {&quot;x&quot;: 3.717948717948717, &quot;y&quot;: -1.1538461538461542, &quot;z&quot;: -0.08482553354092344}, {&quot;x&quot;: 3.717948717948717, &quot;y&quot;: -0.8974358974358978, &quot;z&quot;: -0.13680209349327227}, {&quot;x&quot;: 3.717948717948717, &quot;y&quot;: -0.6410256410256414, &quot;z&quot;: -0.1735251401726672}, {&quot;x&quot;: 3.717948717948717, &quot;y&quot;: -0.384615384615385, &quot;z&quot;: -0.19629367355494365}, {&quot;x&quot;: 3.717948717948717, &quot;y&quot;: -0.12820512820512864, &quot;z&quot;: -0.20703304952539225}, {&quot;x&quot;: 3.717948717948717, &quot;y&quot;: 0.12820512820512775, &quot;z&quot;: -0.20703304952539256}, {&quot;x&quot;: 3.717948717948717, &quot;y&quot;: 0.38461538461538414, &quot;z&quot;: -0.19629367355494395}, {&quot;x&quot;: 3.717948717948717, &quot;y&quot;: 0.6410256410256405, &quot;z&quot;: -0.17352514017266726}, {&quot;x&quot;: 3.717948717948717, &quot;y&quot;: 0.8974358974358969, &quot;z&quot;: -0.1368020934932727}, {&quot;x&quot;: 3.717948717948717, &quot;y&quot;: 1.1538461538461533, &quot;z&quot;: -0.08482553354092388}, {&quot;x&quot;: 3.717948717948717, &quot;y&quot;: 1.4102564102564097, &quot;z&quot;: -0.018607513033308}, {&quot;x&quot;: 3.717948717948717, &quot;y&quot;: 1.666666666666666, &quot;z&quot;: 0.056862409133509616}, {&quot;x&quot;: 3.717948717948717, &quot;y&quot;: 1.9230769230769225, &quot;z&quot;: 0.1316962807791776}, {&quot;x&quot;: 3.717948717948717, &quot;y&quot;: 2.179487179487179, &quot;z&quot;: 0.19177960940564}, {&quot;x&quot;: 3.717948717948717, &quot;y&quot;: 2.4358974358974352, &quot;z&quot;: 0.22161150667081936}, {&quot;x&quot;: 3.717948717948717, &quot;y&quot;: 2.6923076923076916, &quot;z&quot;: 0.20912235190763995}, {&quot;x&quot;: 3.717948717948717, &quot;y&quot;: 2.948717948717948, &quot;z&quot;: 0.15118512843530302}, {&quot;x&quot;: 3.717948717948717, &quot;y&quot;: 3.2051282051282044, &quot;z&quot;: 0.057592879546352754}, {&quot;x&quot;: 3.717948717948717, &quot;y&quot;: 3.461538461538461, &quot;z&quot;: -0.048896179368925964}, {&quot;x&quot;: 3.717948717948717, &quot;y&quot;: 3.717948717948717, &quot;z&quot;: -0.1378089409777217}, {&quot;x&quot;: 3.717948717948717, &quot;y&quot;: 3.9743589743589736, &quot;z&quot;: -0.18073554583067983}, {&quot;x&quot;: 3.717948717948717, &quot;y&quot;: 4.23076923076923, &quot;z&quot;: -0.1624368530295568}, {&quot;x&quot;: 3.717948717948717, &quot;y&quot;: 4.487179487179486, &quot;z&quot;: -0.08858400012268436}, {&quot;x&quot;: 3.717948717948717, &quot;y&quot;: 4.743589743589743, &quot;z&quot;: 0.014059422915529387}, {&quot;x&quot;: 3.717948717948717, &quot;y&quot;: 5.0, &quot;z&quot;: 0.10644610198224165}, {&quot;x&quot;: 3.9743589743589736, &quot;y&quot;: -4.743589743589744, &quot;z&quot;: 0.09018446536478196}, {&quot;x&quot;: 3.9743589743589736, &quot;y&quot;: -5.0, &quot;z&quot;: 0.14682584206330196}, {&quot;x&quot;: 3.9743589743589736, &quot;y&quot;: -4.487179487179487, &quot;z&quot;: -0.0030450962151578765}, {&quot;x&quot;: 3.9743589743589736, &quot;y&quot;: -4.230769230769231, &quot;z&quot;: -0.09917570405967194}, {&quot;x&quot;: 3.9743589743589736, &quot;y&quot;: -3.9743589743589745, &quot;z&quot;: -0.165301048297769}, {&quot;x&quot;: 3.9743589743589736, &quot;y&quot;: -3.717948717948718, &quot;z&quot;: -0.1807355458306799}, {&quot;x&quot;: 3.9743589743589736, &quot;y&quot;: -3.4615384615384617, &quot;z&quot;: -0.14250583708975548}, {&quot;x&quot;: 3.9743589743589736, &quot;y&quot;: -3.2051282051282053, &quot;z&quot;: -0.06386100244520297}, {&quot;x&quot;: 3.9743589743589736, &quot;y&quot;: -2.948717948717949, &quot;z&quot;: 0.032372655749034064}, {&quot;x&quot;: 3.9743589743589736, &quot;y&quot;: -2.6923076923076925, &quot;z&quot;: 0.12222104054936214}, {&quot;x&quot;: 3.9743589743589736, &quot;y&quot;: -2.435897435897436, &quot;z&quot;: 0.18751704244724113}, {&quot;x&quot;: 3.9743589743589736, &quot;y&quot;: -2.1794871794871797, &quot;z&quot;: 0.21945165588530727}, {&quot;x&quot;: 3.9743589743589736, &quot;y&quot;: -1.9230769230769234, &quot;z&quot;: 0.21849671405696225}, {&quot;x&quot;: 3.9743589743589736, &quot;y&quot;: -1.666666666666667, &quot;z&quot;: 0.19177960940564043}, {&quot;x&quot;: 3.9743589743589736, &quot;y&quot;: -1.4102564102564106, &quot;z&quot;: 0.1495083751629422}, {&quot;x&quot;: 3.9743589743589736, &quot;y&quot;: -1.1538461538461542, &quot;z&quot;: 0.1018276556614749}, {&quot;x&quot;: 3.9743589743589736, &quot;y&quot;: -0.8974358974358978, &quot;z&quot;: 0.056862409133509616}, {&quot;x&quot;: 3.9743589743589736, &quot;y&quot;: -0.6410256410256414, &quot;z&quot;: 0.020051622587195696}, {&quot;x&quot;: 3.9743589743589736, &quot;y&quot;: -0.384615384615385, &quot;z&quot;: -0.005565270813888087}, {&quot;x&quot;: 3.9743589743589736, &quot;y&quot;: -0.12820512820512864, &quot;z&quot;: -0.01860751303330755}, {&quot;x&quot;: 3.9743589743589736, &quot;y&quot;: 0.12820512820512775, &quot;z&quot;: -0.018607513033308}, {&quot;x&quot;: 3.9743589743589736, &quot;y&quot;: 0.38461538461538414, &quot;z&quot;: -0.005565270813888087}, {&quot;x&quot;: 3.9743589743589736, &quot;y&quot;: 0.6410256410256405, &quot;z&quot;: 0.020051622587195696}, {&quot;x&quot;: 3.9743589743589736, &quot;y&quot;: 0.8974358974358969, &quot;z&quot;: 0.056862409133509616}, {&quot;x&quot;: 3.9743589743589736, &quot;y&quot;: 1.1538461538461533, &quot;z&quot;: 0.1018276556614749}, {&quot;x&quot;: 3.9743589743589736, &quot;y&quot;: 1.4102564102564097, &quot;z&quot;: 0.1495083751629419}, {&quot;x&quot;: 3.9743589743589736, &quot;y&quot;: 1.666666666666666, &quot;z&quot;: 0.19177960940564}, {&quot;x&quot;: 3.9743589743589736, &quot;y&quot;: 1.9230769230769225, &quot;z&quot;: 0.21849671405696225}, {&quot;x&quot;: 3.9743589743589736, &quot;y&quot;: 2.179487179487179, &quot;z&quot;: 0.21945165588530727}, {&quot;x&quot;: 3.9743589743589736, &quot;y&quot;: 2.4358974358974352, &quot;z&quot;: 0.18751704244724154}, {&quot;x&quot;: 3.9743589743589736, &quot;y&quot;: 2.6923076923076916, &quot;z&quot;: 0.12222104054936277}, {&quot;x&quot;: 3.9743589743589736, &quot;y&quot;: 2.948717948717948, &quot;z&quot;: 0.032372655749034064}, {&quot;x&quot;: 3.9743589743589736, &quot;y&quot;: 3.2051282051282044, &quot;z&quot;: -0.06386100244520233}, {&quot;x&quot;: 3.9743589743589736, &quot;y&quot;: 3.461538461538461, &quot;z&quot;: -0.14250583708975548}, {&quot;x&quot;: 3.9743589743589736, &quot;y&quot;: 3.717948717948717, &quot;z&quot;: -0.18073554583067983}, {&quot;x&quot;: 3.9743589743589736, &quot;y&quot;: 3.9743589743589736, &quot;z&quot;: -0.1653010482977693}, {&quot;x&quot;: 3.9743589743589736, &quot;y&quot;: 4.23076923076923, &quot;z&quot;: -0.09917570405967194}, {&quot;x&quot;: 3.9743589743589736, &quot;y&quot;: 4.487179487179486, &quot;z&quot;: -0.0030450962151578774}, {&quot;x&quot;: 3.9743589743589736, &quot;y&quot;: 4.743589743589743, &quot;z&quot;: 0.09018446536478149}, {&quot;x&quot;: 3.9743589743589736, &quot;y&quot;: 5.0, &quot;z&quot;: 0.14682584206330196}, {&quot;x&quot;: 4.23076923076923, &quot;y&quot;: -4.743589743589744, &quot;z&quot;: 0.14154019801168824}, {&quot;x&quot;: 4.23076923076923, &quot;y&quot;: -5.0, &quot;z&quot;: 0.15081521418190952}, {&quot;x&quot;: 4.23076923076923, &quot;y&quot;: -4.487179487179487, &quot;z&quot;: 0.08130342199845635}, {&quot;x&quot;: 4.23076923076923, &quot;y&quot;: -4.230769230769231, &quot;z&quot;: -0.00881116142764315}, {&quot;x&quot;: 4.23076923076923, &quot;y&quot;: -3.9743589743589745, &quot;z&quot;: -0.09917570405967194}, {&quot;x&quot;: 4.23076923076923, &quot;y&quot;: -3.717948717948718, &quot;z&quot;: -0.16243685302955652}, {&quot;x&quot;: 4.23076923076923, &quot;y&quot;: -3.4615384615384617, &quot;z&quot;: -0.1819178471216219}, {&quot;x&quot;: 4.23076923076923, &quot;y&quot;: -3.2051282051282053, &quot;z&quot;: -0.15507394328644017}, {&quot;x&quot;: 4.23076923076923, &quot;y&quot;: -2.948717948717949, &quot;z&quot;: -0.09179654096842312}, {&quot;x&quot;: 4.23076923076923, &quot;y&quot;: -2.6923076923076925, &quot;z&quot;: -0.009250285950513604}, {&quot;x&quot;: 4.23076923076923, &quot;y&quot;: -2.435897435897436, &quot;z&quot;: 0.07426425040162701}, {&quot;x&quot;: 4.23076923076923, &quot;y&quot;: -2.1794871794871797, &quot;z&quot;: 0.1442431853958254}, {&quot;x&quot;: 4.23076923076923, &quot;y&quot;: -1.9230769230769234, &quot;z&quot;: 0.19253864247086708}, {&quot;x&quot;: 4.23076923076923, &quot;y&quot;: -1.666666666666667, &quot;z&quot;: 0.21749963044648865}, {&quot;x&quot;: 4.23076923076923, &quot;y&quot;: -1.4102564102564106, &quot;z&quot;: 0.22243257961224733}, {&quot;x&quot;: 4.23076923076923, &quot;y&quot;: -1.1538461538461542, &quot;z&quot;: 0.21338743078659142}, {&quot;x&quot;: 4.23076923076923, &quot;y&quot;: -0.8974358974358978, &quot;z&quot;: 0.19711035355159243}, {&quot;x&quot;: 4.23076923076923, &quot;y&quot;: -0.6410256410256414, &quot;z&quot;: 0.179623701946582}, {&quot;x&quot;: 4.23076923076923, &quot;y&quot;: -0.384615384615385, &quot;z&quot;: 0.16551234237681514}, {&quot;x&quot;: 4.23076923076923, &quot;y&quot;: -0.12820512820512864, &quot;z&quot;: 0.15774217011848884}, {&quot;x&quot;: 4.23076923076923, &quot;y&quot;: 0.12820512820512775, &quot;z&quot;: 0.15774217011848884}, {&quot;x&quot;: 4.23076923076923, &quot;y&quot;: 0.38461538461538414, &quot;z&quot;: 0.16551234237681514}, {&quot;x&quot;: 4.23076923076923, &quot;y&quot;: 0.6410256410256405, &quot;z&quot;: 0.179623701946582}, {&quot;x&quot;: 4.23076923076923, &quot;y&quot;: 0.8974358974358969, &quot;z&quot;: 0.19711035355159243}, {&quot;x&quot;: 4.23076923076923, &quot;y&quot;: 1.1538461538461533, &quot;z&quot;: 0.21338743078659142}, {&quot;x&quot;: 4.23076923076923, &quot;y&quot;: 1.4102564102564097, &quot;z&quot;: 0.22243257961224733}, {&quot;x&quot;: 4.23076923076923, &quot;y&quot;: 1.666666666666666, &quot;z&quot;: 0.21749963044648882}, {&quot;x&quot;: 4.23076923076923, &quot;y&quot;: 1.9230769230769225, &quot;z&quot;: 0.19253864247086747}, {&quot;x&quot;: 4.23076923076923, &quot;y&quot;: 2.179487179487179, &quot;z&quot;: 0.1442431853958254}, {&quot;x&quot;: 4.23076923076923, &quot;y&quot;: 2.4358974358974352, &quot;z&quot;: 0.07426425040162701}, {&quot;x&quot;: 4.23076923076923, &quot;y&quot;: 2.6923076923076916, &quot;z&quot;: -0.009250285950513604}, {&quot;x&quot;: 4.23076923076923, &quot;y&quot;: 2.948717948717948, &quot;z&quot;: -0.09179654096842253}, {&quot;x&quot;: 4.23076923076923, &quot;y&quot;: 3.2051282051282044, &quot;z&quot;: -0.15507394328644017}, {&quot;x&quot;: 4.23076923076923, &quot;y&quot;: 3.461538461538461, &quot;z&quot;: -0.18191784712162187}, {&quot;x&quot;: 4.23076923076923, &quot;y&quot;: 3.717948717948717, &quot;z&quot;: -0.1624368530295568}, {&quot;x&quot;: 4.23076923076923, &quot;y&quot;: 3.9743589743589736, &quot;z&quot;: -0.09917570405967194}, {&quot;x&quot;: 4.23076923076923, &quot;y&quot;: 4.23076923076923, &quot;z&quot;: -0.008811161427643745}, {&quot;x&quot;: 4.23076923076923, &quot;y&quot;: 4.487179487179486, &quot;z&quot;: 0.08130342199845635}, {&quot;x&quot;: 4.23076923076923, &quot;y&quot;: 4.743589743589743, &quot;z&quot;: 0.14154019801168824}, {&quot;x&quot;: 4.23076923076923, &quot;y&quot;: 5.0, &quot;z&quot;: 0.15081521418190952}, {&quot;x&quot;: 4.487179487179486, &quot;y&quot;: -4.743589743589744, &quot;z&quot;: 0.1524831544527441}, {&quot;x&quot;: 4.487179487179486, &quot;y&quot;: -5.0, &quot;z&quot;: 0.11521187545903333}, {&quot;x&quot;: 4.487179487179486, &quot;y&quot;: -4.487179487179487, &quot;z&quot;: 0.13945896398071123}, {&quot;x&quot;: 4.487179487179486, &quot;y&quot;: -4.230769230769231, &quot;z&quot;: 0.08130342199845635}, {&quot;x&quot;: 4.487179487179486, &quot;y&quot;: -3.9743589743589745, &quot;z&quot;: -0.0030450962151578765}, {&quot;x&quot;: 4.487179487179486, &quot;y&quot;: -3.717948717948718, &quot;z&quot;: -0.08858400012268436}, {&quot;x&quot;: 4.487179487179486, &quot;y&quot;: -3.4615384615384617, &quot;z&quot;: -0.1526690215534612}, {&quot;x&quot;: 4.487179487179486, &quot;y&quot;: -3.2051282051282053, &quot;z&quot;: -0.18116306412965302}, {&quot;x&quot;: 4.487179487179486, &quot;y&quot;: -2.948717948717949, &quot;z&quot;: -0.17076952332841047}, {&quot;x&quot;: 4.487179487179486, &quot;y&quot;: -2.6923076923076925, &quot;z&quot;: -0.12767883171207858}, {&quot;x&quot;: 4.487179487179486, &quot;y&quot;: -2.435897435897436, &quot;z&quot;: -0.06386100244520297}, {&quot;x&quot;: 4.487179487179486, &quot;y&quot;: -2.1794871794871797, &quot;z&quot;: 0.007252640095980293}, {&quot;x&quot;: 4.487179487179486, &quot;y&quot;: -1.9230769230769234, &quot;z&quot;: 0.07426425040162632}, {&quot;x&quot;: 4.487179487179486, &quot;y&quot;: -1.666666666666667, &quot;z&quot;: 0.12974477006536764}, {&quot;x&quot;: 4.487179487179486, &quot;y&quot;: -1.4102564102564106, &quot;z&quot;: 0.17058680183190766}, {&quot;x&quot;: 4.487179487179486, &quot;y&quot;: -1.1538461538461542, &quot;z&quot;: 0.19722429601204441}, {&quot;x&quot;: 4.487179487179486, &quot;y&quot;: -0.8974358974358978, &quot;z&quot;: 0.21232309865066665}, {&quot;x&quot;: 4.487179487179486, &quot;y&quot;: -0.6410256410256414, &quot;z&quot;: 0.21945165588530727}, {&quot;x&quot;: 4.487179487179486, &quot;y&quot;: -0.384615384615385, &quot;z&quot;: 0.2220285066365378}, {&quot;x&quot;: 4.487179487179486, &quot;y&quot;: -0.12820512820512864, &quot;z&quot;: 0.22263349001904645}, {&quot;x&quot;: 4.487179487179486, &quot;y&quot;: 0.12820512820512775, &quot;z&quot;: 0.22263349001904645}, {&quot;x&quot;: 4.487179487179486, &quot;y&quot;: 0.38461538461538414, &quot;z&quot;: 0.2220285066365378}, {&quot;x&quot;: 4.487179487179486, &quot;y&quot;: 0.6410256410256405, &quot;z&quot;: 0.21945165588530727}, {&quot;x&quot;: 4.487179487179486, &quot;y&quot;: 0.8974358974358969, &quot;z&quot;: 0.21232309865066665}, {&quot;x&quot;: 4.487179487179486, &quot;y&quot;: 1.1538461538461533, &quot;z&quot;: 0.19722429601204441}, {&quot;x&quot;: 4.487179487179486, &quot;y&quot;: 1.4102564102564097, &quot;z&quot;: 0.17058680183190814}, {&quot;x&quot;: 4.487179487179486, &quot;y&quot;: 1.666666666666666, &quot;z&quot;: 0.12974477006536825}, {&quot;x&quot;: 4.487179487179486, &quot;y&quot;: 1.9230769230769225, &quot;z&quot;: 0.07426425040162701}, {&quot;x&quot;: 4.487179487179486, &quot;y&quot;: 2.179487179487179, &quot;z&quot;: 0.007252640095981005}, {&quot;x&quot;: 4.487179487179486, &quot;y&quot;: 2.4358974358974352, &quot;z&quot;: -0.06386100244520233}, {&quot;x&quot;: 4.487179487179486, &quot;y&quot;: 2.6923076923076916, &quot;z&quot;: -0.12767883171207858}, {&quot;x&quot;: 4.487179487179486, &quot;y&quot;: 2.948717948717948, &quot;z&quot;: -0.17076952332841047}, {&quot;x&quot;: 4.487179487179486, &quot;y&quot;: 3.2051282051282044, &quot;z&quot;: -0.18116306412965302}, {&quot;x&quot;: 4.487179487179486, &quot;y&quot;: 3.461538461538461, &quot;z&quot;: -0.15266902155346154}, {&quot;x&quot;: 4.487179487179486, &quot;y&quot;: 3.717948717948717, &quot;z&quot;: -0.08858400012268436}, {&quot;x&quot;: 4.487179487179486, &quot;y&quot;: 3.9743589743589736, &quot;z&quot;: -0.0030450962151578774}, {&quot;x&quot;: 4.487179487179486, &quot;y&quot;: 4.23076923076923, &quot;z&quot;: 0.08130342199845635}, {&quot;x&quot;: 4.487179487179486, &quot;y&quot;: 4.487179487179486, &quot;z&quot;: 0.13945896398071123}, {&quot;x&quot;: 4.487179487179486, &quot;y&quot;: 4.743589743589743, &quot;z&quot;: 0.15248315445274416}, {&quot;x&quot;: 4.487179487179486, &quot;y&quot;: 5.0, &quot;z&quot;: 0.11521187545903333}, {&quot;x&quot;: 4.743589743589743, &quot;y&quot;: -4.743589743589744, &quot;z&quot;: 0.11822884542066862}, {&quot;x&quot;: 4.743589743589743, &quot;y&quot;: -5.0, &quot;z&quot;: 0.048227962291181654}, {&quot;x&quot;: 4.743589743589743, &quot;y&quot;: -4.487179487179487, &quot;z&quot;: 0.1524831544527441}, {&quot;x&quot;: 4.743589743589743, &quot;y&quot;: -4.230769230769231, &quot;z&quot;: 0.14154019801168824}, {&quot;x&quot;: 4.743589743589743, &quot;y&quot;: -3.9743589743589745, &quot;z&quot;: 0.09018446536478196}, {&quot;x&quot;: 4.743589743589743, &quot;y&quot;: -3.717948717948718, &quot;z&quot;: 0.014059422915529975}, {&quot;x&quot;: 4.743589743589743, &quot;y&quot;: -3.4615384615384617, &quot;z&quot;: -0.06650034951626861}, {&quot;x&quot;: 4.743589743589743, &quot;y&quot;: -3.2051282051282053, &quot;z&quot;: -0.1328596087593443}, {&quot;x&quot;: 4.743589743589743, &quot;y&quot;: -2.948717948717949, &quot;z&quot;: -0.17263493054486245}, {&quot;x&quot;: 4.743589743589743, &quot;y&quot;: -2.6923076923076925, &quot;z&quot;: -0.18145874726056793}, {&quot;x&quot;: 4.743589743589743, &quot;y&quot;: -2.435897435897436, &quot;z&quot;: -0.16215123327794975}, {&quot;x&quot;: 4.743589743589743, &quot;y&quot;: -2.1794871794871797, &quot;z&quot;: -0.12225553877823545}, {&quot;x&quot;: 4.743589743589743, &quot;y&quot;: -1.9230769230769234, &quot;z&quot;: -0.07110861736368898}, {&quot;x&quot;: 4.743589743589743, &quot;y&quot;: -1.666666666666667, &quot;z&quot;: -0.01738852540015714}, {&quot;x&quot;: 4.743589743589743, &quot;y&quot;: -1.4102564102564106, &quot;z&quot;: 0.032372655749034064}, {&quot;x&quot;: 4.743589743589743, &quot;y&quot;: -1.1538461538461542, &quot;z&quot;: 0.07426425040162701}, {&quot;x&quot;: 4.743589743589743, &quot;y&quot;: -0.8974358974358978, &quot;z&quot;: 0.10670645293645857}, {&quot;x&quot;: 4.743589743589743, &quot;y&quot;: -0.6410256410256414, &quot;z&quot;: 0.12974477006536825}, {&quot;x&quot;: 4.743589743589743, &quot;y&quot;: -0.384615384615385, &quot;z&quot;: 0.1442431853958254}, {&quot;x&quot;: 4.743589743589743, &quot;y&quot;: -0.12820512820512864, &quot;z&quot;: 0.15118512843530302}, {&quot;x&quot;: 4.743589743589743, &quot;y&quot;: 0.12820512820512775, &quot;z&quot;: 0.15118512843530302}, {&quot;x&quot;: 4.743589743589743, &quot;y&quot;: 0.38461538461538414, &quot;z&quot;: 0.1442431853958254}, {&quot;x&quot;: 4.743589743589743, &quot;y&quot;: 0.6410256410256405, &quot;z&quot;: 0.12974477006536825}, {&quot;x&quot;: 4.743589743589743, &quot;y&quot;: 0.8974358974358969, &quot;z&quot;: 0.10670645293645857}, {&quot;x&quot;: 4.743589743589743, &quot;y&quot;: 1.1538461538461533, &quot;z&quot;: 0.07426425040162701}, {&quot;x&quot;: 4.743589743589743, &quot;y&quot;: 1.4102564102564097, &quot;z&quot;: 0.03237265574903443}, {&quot;x&quot;: 4.743589743589743, &quot;y&quot;: 1.666666666666666, &quot;z&quot;: -0.01738852540015714}, {&quot;x&quot;: 4.743589743589743, &quot;y&quot;: 1.9230769230769225, &quot;z&quot;: -0.07110861736368836}, {&quot;x&quot;: 4.743589743589743, &quot;y&quot;: 2.179487179487179, &quot;z&quot;: -0.12225553877823493}, {&quot;x&quot;: 4.743589743589743, &quot;y&quot;: 2.4358974358974352, &quot;z&quot;: -0.16215123327794945}, {&quot;x&quot;: 4.743589743589743, &quot;y&quot;: 2.6923076923076916, &quot;z&quot;: -0.18145874726056788}, {&quot;x&quot;: 4.743589743589743, &quot;y&quot;: 2.948717948717948, &quot;z&quot;: -0.17263493054486245}, {&quot;x&quot;: 4.743589743589743, &quot;y&quot;: 3.2051282051282044, &quot;z&quot;: -0.13285960875934513}, {&quot;x&quot;: 4.743589743589743, &quot;y&quot;: 3.461538461538461, &quot;z&quot;: -0.06650034951626863}, {&quot;x&quot;: 4.743589743589743, &quot;y&quot;: 3.717948717948717, &quot;z&quot;: 0.014059422915529387}, {&quot;x&quot;: 4.743589743589743, &quot;y&quot;: 3.9743589743589736, &quot;z&quot;: 0.09018446536478149}, {&quot;x&quot;: 4.743589743589743, &quot;y&quot;: 4.23076923076923, &quot;z&quot;: 0.14154019801168824}, {&quot;x&quot;: 4.743589743589743, &quot;y&quot;: 4.487179487179486, &quot;z&quot;: 0.15248315445274416}, {&quot;x&quot;: 4.743589743589743, &quot;y&quot;: 4.743589743589743, &quot;z&quot;: 0.11822884542066862}, {&quot;x&quot;: 4.743589743589743, &quot;y&quot;: 5.0, &quot;z&quot;: 0.048227962291181654}, {&quot;x&quot;: 5.0, &quot;y&quot;: -4.743589743589744, &quot;z&quot;: 0.048227962291181654}, {&quot;x&quot;: 5.0, &quot;y&quot;: -5.0, &quot;z&quot;: -0.0313129294284152}, {&quot;x&quot;: 5.0, &quot;y&quot;: -4.487179487179487, &quot;z&quot;: 0.11521187545903297}, {&quot;x&quot;: 5.0, &quot;y&quot;: -4.230769230769231, &quot;z&quot;: 0.15081521418190952}, {&quot;x&quot;: 5.0, &quot;y&quot;: -3.9743589743589745, &quot;z&quot;: 0.14682584206330213}, {&quot;x&quot;: 5.0, &quot;y&quot;: -3.717948717948718, &quot;z&quot;: 0.10644610198224208}, {&quot;x&quot;: 5.0, &quot;y&quot;: -3.4615384615384617, &quot;z&quot;: 0.04154590892184195}, {&quot;x&quot;: 5.0, &quot;y&quot;: -3.2051282051282053, &quot;z&quot;: -0.03202070671104091}, {&quot;x&quot;: 5.0, &quot;y&quot;: -2.948717948717949, &quot;z&quot;: -0.09917570405967141}, {&quot;x&quot;: 5.0, &quot;y&quot;: -2.6923076923076925, &quot;z&quot;: -0.1490423765968959}, {&quot;x&quot;: 5.0, &quot;y&quot;: -2.435897435897436, &quot;z&quot;: -0.17642014222082292}, {&quot;x&quot;: 5.0, &quot;y&quot;: -2.1794871794871797, &quot;z&quot;: -0.181458747260568}, {&quot;x&quot;: 5.0, &quot;y&quot;: -1.9230769230769234, &quot;z&quot;: -0.1681651388148705}, {&quot;x&quot;: 5.0, &quot;y&quot;: -1.666666666666667, &quot;z&quot;: -0.14250583708975548}, {&quot;x&quot;: 5.0, &quot;y&quot;: -1.4102564102564106, &quot;z&quot;: -0.11072072650585248}, {&quot;x&quot;: 5.0, &quot;y&quot;: -1.1538461538461542, &quot;z&quot;: -0.07818654606831722}, {&quot;x&quot;: 5.0, &quot;y&quot;: -0.8974358974358978, &quot;z&quot;: -0.0488961793689263}, {&quot;x&quot;: 5.0, &quot;y&quot;: -0.6410256410256414, &quot;z&quot;: -0.025434298774036877}, {&quot;x&quot;: 5.0, &quot;y&quot;: -0.384615384615385, &quot;z&quot;: -0.009250285950514308}, {&quot;x&quot;: 5.0, &quot;y&quot;: -0.12820512820512864, &quot;z&quot;: -0.0010322256552946847}, {&quot;x&quot;: 5.0, &quot;y&quot;: 0.12820512820512775, &quot;z&quot;: -0.0010322256552946847}, {&quot;x&quot;: 5.0, &quot;y&quot;: 0.38461538461538414, &quot;z&quot;: -0.009250285950514308}, {&quot;x&quot;: 5.0, &quot;y&quot;: 0.6410256410256405, &quot;z&quot;: -0.025434298774036877}, {&quot;x&quot;: 5.0, &quot;y&quot;: 0.8974358974358969, &quot;z&quot;: -0.0488961793689263}, {&quot;x&quot;: 5.0, &quot;y&quot;: 1.1538461538461533, &quot;z&quot;: -0.07818654606831722}, {&quot;x&quot;: 5.0, &quot;y&quot;: 1.4102564102564097, &quot;z&quot;: -0.11072072650585248}, {&quot;x&quot;: 5.0, &quot;y&quot;: 1.666666666666666, &quot;z&quot;: -0.14250583708975548}, {&quot;x&quot;: 5.0, &quot;y&quot;: 1.9230769230769225, &quot;z&quot;: -0.16816513881487025}, {&quot;x&quot;: 5.0, &quot;y&quot;: 2.179487179487179, &quot;z&quot;: -0.181458747260568}, {&quot;x&quot;: 5.0, &quot;y&quot;: 2.4358974358974352, &quot;z&quot;: -0.17642014222082295}, {&quot;x&quot;: 5.0, &quot;y&quot;: 2.6923076923076916, &quot;z&quot;: -0.14904237659689593}, {&quot;x&quot;: 5.0, &quot;y&quot;: 2.948717948717948, &quot;z&quot;: -0.09917570405967194}, {&quot;x&quot;: 5.0, &quot;y&quot;: 3.2051282051282044, &quot;z&quot;: -0.032020706711041506}, {&quot;x&quot;: 5.0, &quot;y&quot;: 3.461538461538461, &quot;z&quot;: 0.04154590892184195}, {&quot;x&quot;: 5.0, &quot;y&quot;: 3.717948717948717, &quot;z&quot;: 0.10644610198224165}, {&quot;x&quot;: 5.0, &quot;y&quot;: 3.9743589743589736, &quot;z&quot;: 0.14682584206330196}, {&quot;x&quot;: 5.0, &quot;y&quot;: 4.23076923076923, &quot;z&quot;: 0.15081521418190952}, {&quot;x&quot;: 5.0, &quot;y&quot;: 4.487179487179486, &quot;z&quot;: 0.11521187545903333}, {&quot;x&quot;: 5.0, &quot;y&quot;: 4.743589743589743, &quot;z&quot;: 0.048227962291181654}, {&quot;x&quot;: 5.0, &quot;y&quot;: 5.0, &quot;z&quot;: -0.0313129294284152}], &quot;faces&quot;: [[0, 1, 2, 3], [1, 4, 5, 2], [4, 6, 7, 5], [6, 8, 9, 7], [8, 10, 11, 9], [10, 12, 13, 11], [12, 14, 15, 13], [14, 16, 17, 15], [16, 18, 19, 17], [18, 20, 21, 19], [20, 22, 23, 21], [22, 24, 25, 23], [24, 26, 27, 25], [26, 28, 29, 27], [28, 30, 31, 29], [30, 32, 33, 31], [32, 34, 35, 33], [34, 36, 37, 35], [36, 38, 39, 37], [38, 40, 41, 39], [40, 42, 43, 41], [42, 44, 45, 43], [44, 46, 47, 45], [46, 48, 49, 47], [48, 50, 51, 49], [50, 52, 53, 51], [52, 54, 55, 53], [54, 56, 57, 55], [56, 58, 59, 57], [58, 60, 61, 59], [60, 62, 63, 61], [62, 64, 65, 63], [64, 66, 67, 65], [66, 68, 69, 67], [68, 70, 71, 69], [70, 72, 73, 71], [72, 74, 75, 73], [74, 76, 77, 75], [76, 78, 79, 77], [3, 2, 80, 81], [2, 5, 82, 80], [5, 7, 83, 82], [7, 9, 84, 83], [9, 11, 85, 84], [11, 13, 86, 85], [13, 15, 87, 86], [15, 17, 88, 87], [17, 19, 89, 88], [19, 21, 90, 89], [21, 23, 91, 90], [23, 25, 92, 91], [25, 27, 93, 92], [27, 29, 94, 93], [29, 31, 95, 94], [31, 33, 96, 95], [33, 35, 97, 96], [35, 37, 98, 97], [37, 39, 99, 98], [39, 41, 100, 99], [41, 43, 101, 100], [43, 45, 102, 101], [45, 47, 103, 102], [47, 49, 104, 103], [49, 51, 105, 104], [51, 53, 106, 105], [53, 55, 107, 106], [55, 57, 108, 107], [57, 59, 109, 108], [59, 61, 110, 109], [61, 63, 111, 110], [63, 65, 112, 111], [65, 67, 113, 112], [67, 69, 114, 113], [69, 71, 115, 114], [71, 73, 116, 115], [73, 75, 117, 116], [75, 77, 118, 117], [77, 79, 119, 118], [81, 80, 120, 121], [80, 82, 122, 120], [82, 83, 123, 122], [83, 84, 124, 123], [84, 85, 125, 124], [85, 86, 126, 125], [86, 87, 127, 126], [87, 88, 128, 127], [88, 89, 129, 128], [89, 90, 130, 129], [90, 91, 131, 130], [91, 92, 132, 131], [92, 93, 133, 132], [93, 94, 134, 133], [94, 95, 135, 134], [95, 96, 136, 135], [96, 97, 137, 136], [97, 98, 138, 137], [98, 99, 139, 138], [99, 100, 140, 139], [100, 101, 141, 140], [101, 102, 142, 141], [102, 103, 143, 142], [103, 104, 144, 143], [104, 105, 145, 144], [105, 106, 146, 145], [106, 107, 147, 146], [107, 108, 148, 147], [108, 109, 149, 148], [109, 110, 150, 149], [110, 111, 151, 150], [111, 112, 152, 151], [112, 113, 153, 152], [113, 114, 154, 153], [114, 115, 155, 154], [115, 116, 156, 155], [116, 117, 157, 156], [117, 118, 158, 157], [118, 119, 159, 158], [121, 120, 160, 161], [120, 122, 162, 160], [122, 123, 163, 162], [123, 124, 164, 163], [124, 125, 165, 164], [125, 126, 166, 165], [126, 127, 167, 166], [127, 128, 168, 167], [128, 129, 169, 168], [129, 130, 170, 169], [130, 131, 171, 170], [131, 132, 172, 171], [132, 133, 173, 172], [133, 134, 174, 173], [134, 135, 175, 174], [135, 136, 176, 175], [136, 137, 177, 176], [137, 138, 178, 177], [138, 139, 179, 178], [139, 140, 180, 179], [140, 141, 181, 180], [141, 142, 182, 181], [142, 143, 183, 182], [143, 144, 184, 183], [144, 145, 185, 184], [145, 146, 186, 185], [146, 147, 187, 186], [147, 148, 188, 187], [148, 149, 189, 188], [149, 150, 190, 189], [150, 151, 191, 190], [151, 152, 192, 191], [152, 153, 193, 192], [153, 154, 194, 193], [154, 155, 195, 194], [155, 156, 196, 195], [156, 157, 197, 196], [157, 158, 198, 197], [158, 159, 199, 198], [161, 160, 200, 201], [160, 162, 202, 200], [162, 163, 203, 202], [163, 164, 204, 203], [164, 165, 205, 204], [165, 166, 206, 205], [166, 167, 207, 206], [167, 168, 208, 207], [168, 169, 209, 208], [169, 170, 210, 209], [170, 171, 211, 210], [171, 172, 212, 211], [172, 173, 213, 212], [173, 174, 214, 213], [174, 175, 215, 214], [175, 176, 216, 215], [176, 177, 217, 216], [177, 178, 218, 217], [178, 179, 219, 218], [179, 180, 220, 219], [180, 181, 221, 220], [181, 182, 222, 221], [182, 183, 223, 222], [183, 184, 224, 223], [184, 185, 225, 224], [185, 186, 226, 225], [186, 187, 227, 226], [187, 188, 228, 227], [188, 189, 229, 228], [189, 190, 230, 229], [190, 191, 231, 230], [191, 192, 232, 231], [192, 193, 233, 232], [193, 194, 234, 233], [194, 195, 235, 234], [195, 196, 236, 235], [196, 197, 237, 236], [197, 198, 238, 237], [198, 199, 239, 238], [201, 200, 240, 241], [200, 202, 242, 240], [202, 203, 243, 242], [203, 204, 244, 243], [204, 205, 245, 244], [205, 206, 246, 245], [206, 207, 247, 246], [207, 208, 248, 247], [208, 209, 249, 248], [209, 210, 250, 249], [210, 211, 251, 250], [211, 212, 252, 251], [212, 213, 253, 252], [213, 214, 254, 253], [214, 215, 255, 254], [215, 216, 256, 255], [216, 217, 257, 256], [217, 218, 258, 257], [218, 219, 259, 258], [219, 220, 260, 259], [220, 221, 261, 260], [221, 222, 262, 261], [222, 223, 263, 262], [223, 224, 264, 263], [224, 225, 265, 264], [225, 226, 266, 265], [226, 227, 267, 266], [227, 228, 268, 267], [228, 229, 269, 268], [229, 230, 270, 269], [230, 231, 271, 270], [231, 232, 272, 271], [232, 233, 273, 272], [233, 234, 274, 273], [234, 235, 275, 274], [235, 236, 276, 275], [236, 237, 277, 276], [237, 238, 278, 277], [238, 239, 279, 278], [241, 240, 280, 281], [240, 242, 282, 280], [242, 243, 283, 282], [243, 244, 284, 283], [244, 245, 285, 284], [245, 246, 286, 285], [246, 247, 287, 286], [247, 248, 288, 287], [248, 249, 289, 288], [249, 250, 290, 289], [250, 251, 291, 290], [251, 252, 292, 291], [252, 253, 293, 292], [253, 254, 294, 293], [254, 255, 295, 294], [255, 256, 296, 295], [256, 257, 297, 296], [257, 258, 298, 297], [258, 259, 299, 298], [259, 260, 300, 299], [260, 261, 301, 300], [261, 262, 302, 301], [262, 263, 303, 302], [263, 264, 304, 303], [264, 265, 305, 304], [265, 266, 306, 305], [266, 267, 307, 306], [267, 268, 308, 307], [268, 269, 309, 308], [269, 270, 310, 309], [270, 271, 311, 310], [271, 272, 312, 311], [272, 273, 313, 312], [273, 274, 314, 313], [274, 275, 315, 314], [275, 276, 316, 315], [276, 277, 317, 316], [277, 278, 318, 317], [278, 279, 319, 318], [281, 280, 320, 321], [280, 282, 322, 320], [282, 283, 323, 322], [283, 284, 324, 323], [284, 285, 325, 324], [285, 286, 326, 325], [286, 287, 327, 326], [287, 288, 328, 327], [288, 289, 329, 328], [289, 290, 330, 329], [290, 291, 331, 330], [291, 292, 332, 331], [292, 293, 333, 332], [293, 294, 334, 333], [294, 295, 335, 334], [295, 296, 336, 335], [296, 297, 337, 336], [297, 298, 338, 337], [298, 299, 339, 338], [299, 300, 340, 339], [300, 301, 341, 340], [301, 302, 342, 341], [302, 303, 343, 342], [303, 304, 344, 343], [304, 305, 345, 344], [305, 306, 346, 345], [306, 307, 347, 346], [307, 308, 348, 347], [308, 309, 349, 348], [309, 310, 350, 349], [310, 311, 351, 350], [311, 312, 352, 351], [312, 313, 353, 352], [313, 314, 354, 353], [314, 315, 355, 354], [315, 316, 356, 355], [316, 317, 357, 356], [317, 318, 358, 357], [318, 319, 359, 358], [321, 320, 360, 361], [320, 322, 362, 360], [322, 323, 363, 362], [323, 324, 364, 363], [324, 325, 365, 364], [325, 326, 366, 365], [326, 327, 367, 366], [327, 328, 368, 367], [328, 329, 369, 368], [329, 330, 370, 369], [330, 331, 371, 370], [331, 332, 372, 371], [332, 333, 373, 372], [333, 334, 374, 373], [334, 335, 375, 374], [335, 336, 376, 375], [336, 337, 377, 376], [337, 338, 378, 377], [338, 339, 379, 378], [339, 340, 380, 379], [340, 341, 381, 380], [341, 342, 382, 381], [342, 343, 383, 382], [343, 344, 384, 383], [344, 345, 385, 384], [345, 346, 386, 385], [346, 347, 387, 386], [347, 348, 388, 387], [348, 349, 389, 388], [349, 350, 390, 389], [350, 351, 391, 390], [351, 352, 392, 391], [352, 353, 393, 392], [353, 354, 394, 393], [354, 355, 395, 394], [355, 356, 396, 395], [356, 357, 397, 396], [357, 358, 398, 397], [358, 359, 399, 398], [361, 360, 400, 401], [360, 362, 402, 400], [362, 363, 403, 402], [363, 364, 404, 403], [364, 365, 405, 404], [365, 366, 406, 405], [366, 367, 407, 406], [367, 368, 408, 407], [368, 369, 409, 408], [369, 370, 410, 409], [370, 371, 411, 410], [371, 372, 412, 411], [372, 373, 413, 412], [373, 374, 414, 413], [374, 375, 415, 414], [375, 376, 416, 415], [376, 377, 417, 416], [377, 378, 418, 417], [378, 379, 419, 418], [379, 380, 420, 419], [380, 381, 421, 420], [381, 382, 422, 421], [382, 383, 423, 422], [383, 384, 424, 423], [384, 385, 425, 424], [385, 386, 426, 425], [386, 387, 427, 426], [387, 388, 428, 427], [388, 389, 429, 428], [389, 390, 430, 429], [390, 391, 431, 430], [391, 392, 432, 431], [392, 393, 433, 432], [393, 394, 434, 433], [394, 395, 435, 434], [395, 396, 436, 435], [396, 397, 437, 436], [397, 398, 438, 437], [398, 399, 439, 438], [401, 400, 440, 441], [400, 402, 442, 440], [402, 403, 443, 442], [403, 404, 444, 443], [404, 405, 445, 444], [405, 406, 446, 445], [406, 407, 447, 446], [407, 408, 448, 447], [408, 409, 449, 448], [409, 410, 450, 449], [410, 411, 451, 450], [411, 412, 452, 451], [412, 413, 453, 452], [413, 414, 454, 453], [414, 415, 455, 454], [415, 416, 456, 455], [416, 417, 457, 456], [417, 418, 458, 457], [418, 419, 459, 458], [419, 420, 460, 459], [420, 421, 461, 460], [421, 422, 462, 461], [422, 423, 463, 462], [423, 424, 464, 463], [424, 425, 465, 464], [425, 426, 466, 465], [426, 427, 467, 466], [427, 428, 468, 467], [428, 429, 469, 468], [429, 430, 470, 469], [430, 431, 471, 470], [431, 432, 472, 471], [432, 433, 473, 472], [433, 434, 474, 473], [434, 435, 475, 474], [435, 436, 476, 475], [436, 437, 477, 476], [437, 438, 478, 477], [438, 439, 479, 478], [441, 440, 480, 481], [440, 442, 482, 480], [442, 443, 483, 482], [443, 444, 484, 483], [444, 445, 485, 484], [445, 446, 486, 485], [446, 447, 487, 486], [447, 448, 488, 487], [448, 449, 489, 488], [449, 450, 490, 489], [450, 451, 491, 490], [451, 452, 492, 491], [452, 453, 493, 492], [453, 454, 494, 493], [454, 455, 495, 494], [455, 456, 496, 495], [456, 457, 497, 496], [457, 458, 498, 497], [458, 459, 499, 498], [459, 460, 500, 499], [460, 461, 501, 500], [461, 462, 502, 501], [462, 463, 503, 502], [463, 464, 504, 503], [464, 465, 505, 504], [465, 466, 506, 505], [466, 467, 507, 506], [467, 468, 508, 507], [468, 469, 509, 508], [469, 470, 510, 509], [470, 471, 511, 510], [471, 472, 512, 511], [472, 473, 513, 512], [473, 474, 514, 513], [474, 475, 515, 514], [475, 476, 516, 515], [476, 477, 517, 516], [477, 478, 518, 517], [478, 479, 519, 518], [481, 480, 520, 521], [480, 482, 522, 520], [482, 483, 523, 522], [483, 484, 524, 523], [484, 485, 525, 524], [485, 486, 526, 525], [486, 487, 527, 526], [487, 488, 528, 527], [488, 489, 529, 528], [489, 490, 530, 529], [490, 491, 531, 530], [491, 492, 532, 531], [492, 493, 533, 532], [493, 494, 534, 533], [494, 495, 535, 534], [495, 496, 536, 535], [496, 497, 537, 536], [497, 498, 538, 537], [498, 499, 539, 538], [499, 500, 540, 539], [500, 501, 541, 540], [501, 502, 542, 541], [502, 503, 543, 542], [503, 504, 544, 543], [504, 505, 545, 544], [505, 506, 546, 545], [506, 507, 547, 546], [507, 508, 548, 547], [508, 509, 549, 548], [509, 510, 550, 549], [510, 511, 551, 550], [511, 512, 552, 551], [512, 513, 553, 552], [513, 514, 554, 553], [514, 515, 555, 554], [515, 516, 556, 555], [516, 517, 557, 556], [517, 518, 558, 557], [518, 519, 559, 558], [521, 520, 560, 561], [520, 522, 562, 560], [522, 523, 563, 562], [523, 524, 564, 563], [524, 525, 565, 564], [525, 526, 566, 565], [526, 527, 567, 566], [527, 528, 568, 567], [528, 529, 569, 568], [529, 530, 570, 569], [530, 531, 571, 570], [531, 532, 572, 571], [532, 533, 573, 572], [533, 534, 574, 573], [534, 535, 575, 574], [535, 536, 576, 575], [536, 537, 577, 576], [537, 538, 578, 577], [538, 539, 579, 578], [539, 540, 580, 579], [540, 541, 581, 580], [541, 542, 582, 581], [542, 543, 583, 582], [543, 544, 584, 583], [544, 545, 585, 584], [545, 546, 586, 585], [546, 547, 587, 586], [547, 548, 588, 587], [548, 549, 589, 588], [549, 550, 590, 589], [550, 551, 591, 590], [551, 552, 592, 591], [552, 553, 593, 592], [553, 554, 594, 593], [554, 555, 595, 594], [555, 556, 596, 595], [556, 557, 597, 596], [557, 558, 598, 597], [558, 559, 599, 598], [561, 560, 600, 601], [560, 562, 602, 600], [562, 563, 603, 602], [563, 564, 604, 603], [564, 565, 605, 604], [565, 566, 606, 605], [566, 567, 607, 606], [567, 568, 608, 607], [568, 569, 609, 608], [569, 570, 610, 609], [570, 571, 611, 610], [571, 572, 612, 611], [572, 573, 613, 612], [573, 574, 614, 613], [574, 575, 615, 614], [575, 576, 616, 615], [576, 577, 617, 616], [577, 578, 618, 617], [578, 579, 619, 618], [579, 580, 620, 619], [580, 581, 621, 620], [581, 582, 622, 621], [582, 583, 623, 622], [583, 584, 624, 623], [584, 585, 625, 624], [585, 586, 626, 625], [586, 587, 627, 626], [587, 588, 628, 627], [588, 589, 629, 628], [589, 590, 630, 629], [590, 591, 631, 630], [591, 592, 632, 631], [592, 593, 633, 632], [593, 594, 634, 633], [594, 595, 635, 634], [595, 596, 636, 635], [596, 597, 637, 636], [597, 598, 638, 637], [598, 599, 639, 638], [601, 600, 640, 641], [600, 602, 642, 640], [602, 603, 643, 642], [603, 604, 644, 643], [604, 605, 645, 644], [605, 606, 646, 645], [606, 607, 647, 646], [607, 608, 648, 647], [608, 609, 649, 648], [609, 610, 650, 649], [610, 611, 651, 650], [611, 612, 652, 651], [612, 613, 653, 652], [613, 614, 654, 653], [614, 615, 655, 654], [615, 616, 656, 655], [616, 617, 657, 656], [617, 618, 658, 657], [618, 619, 659, 658], [619, 620, 660, 659], [620, 621, 661, 660], [621, 622, 662, 661], [622, 623, 663, 662], [623, 624, 664, 663], [624, 625, 665, 664], [625, 626, 666, 665], [626, 627, 667, 666], [627, 628, 668, 667], [628, 629, 669, 668], [629, 630, 670, 669], [630, 631, 671, 670], [631, 632, 672, 671], [632, 633, 673, 672], [633, 634, 674, 673], [634, 635, 675, 674], [635, 636, 676, 675], [636, 637, 677, 676], [637, 638, 678, 677], [638, 639, 679, 678], [641, 640, 680, 681], [640, 642, 682, 680], [642, 643, 683, 682], [643, 644, 684, 683], [644, 645, 685, 684], [645, 646, 686, 685], [646, 647, 687, 686], [647, 648, 688, 687], [648, 649, 689, 688], [649, 650, 690, 689], [650, 651, 691, 690], [651, 652, 692, 691], [652, 653, 693, 692], [653, 654, 694, 693], [654, 655, 695, 694], [655, 656, 696, 695], [656, 657, 697, 696], [657, 658, 698, 697], [658, 659, 699, 698], [659, 660, 700, 699], [660, 661, 701, 700], [661, 662, 702, 701], [662, 663, 703, 702], [663, 664, 704, 703], [664, 665, 705, 704], [665, 666, 706, 705], [666, 667, 707, 706], [667, 668, 708, 707], [668, 669, 709, 708], [669, 670, 710, 709], [670, 671, 711, 710], [671, 672, 712, 711], [672, 673, 713, 712], [673, 674, 714, 713], [674, 675, 715, 714], [675, 676, 716, 715], [676, 677, 717, 716], [677, 678, 718, 717], [678, 679, 719, 718], [681, 680, 720, 721], [680, 682, 722, 720], [682, 683, 723, 722], [683, 684, 724, 723], [684, 685, 725, 724], [685, 686, 726, 725], [686, 687, 727, 726], [687, 688, 728, 727], [688, 689, 729, 728], [689, 690, 730, 729], [690, 691, 731, 730], [691, 692, 732, 731], [692, 693, 733, 732], [693, 694, 734, 733], [694, 695, 735, 734], [695, 696, 736, 735], [696, 697, 737, 736], [697, 698, 738, 737], [698, 699, 739, 738], [699, 700, 740, 739], [700, 701, 741, 740], [701, 702, 742, 741], [702, 703, 743, 742], [703, 704, 744, 743], [704, 705, 745, 744], [705, 706, 746, 745], [706, 707, 747, 746], [707, 708, 748, 747], [708, 709, 749, 748], [709, 710, 750, 749], [710, 711, 751, 750], [711, 712, 752, 751], [712, 713, 753, 752], [713, 714, 754, 753], [714, 715, 755, 754], [715, 716, 756, 755], [716, 717, 757, 756], [717, 718, 758, 757], [718, 719, 759, 758], [721, 720, 760, 761], [720, 722, 762, 760], [722, 723, 763, 762], [723, 724, 764, 763], [724, 725, 765, 764], [725, 726, 766, 765], [726, 727, 767, 766], [727, 728, 768, 767], [728, 729, 769, 768], [729, 730, 770, 769], [730, 731, 771, 770], [731, 732, 772, 771], [732, 733, 773, 772], [733, 734, 774, 773], [734, 735, 775, 774], [735, 736, 776, 775], [736, 737, 777, 776], [737, 738, 778, 777], [738, 739, 779, 778], [739, 740, 780, 779], [740, 741, 781, 780], [741, 742, 782, 781], [742, 743, 783, 782], [743, 744, 784, 783], [744, 745, 785, 784], [745, 746, 786, 785], [746, 747, 787, 786], [747, 748, 788, 787], [748, 749, 789, 788], [749, 750, 790, 789], [750, 751, 791, 790], [751, 752, 792, 791], [752, 753, 793, 792], [753, 754, 794, 793], [754, 755, 795, 794], [755, 756, 796, 795], [756, 757, 797, 796], [757, 758, 798, 797], [758, 759, 799, 798], [761, 760, 800, 801], [760, 762, 802, 800], [762, 763, 803, 802], [763, 764, 804, 803], [764, 765, 805, 804], [765, 766, 806, 805], [766, 767, 807, 806], [767, 768, 808, 807], [768, 769, 809, 808], [769, 770, 810, 809], [770, 771, 811, 810], [771, 772, 812, 811], [772, 773, 813, 812], [773, 774, 814, 813], [774, 775, 815, 814], [775, 776, 816, 815], [776, 777, 817, 816], [777, 778, 818, 817], [778, 779, 819, 818], [779, 780, 820, 819], [780, 781, 821, 820], [781, 782, 822, 821], [782, 783, 823, 822], [783, 784, 824, 823], [784, 785, 825, 824], [785, 786, 826, 825], [786, 787, 827, 826], [787, 788, 828, 827], [788, 789, 829, 828], [789, 790, 830, 829], [790, 791, 831, 830], [791, 792, 832, 831], [792, 793, 833, 832], [793, 794, 834, 833], [794, 795, 835, 834], [795, 796, 836, 835], [796, 797, 837, 836], [797, 798, 838, 837], [798, 799, 839, 838], [801, 800, 840, 841], [800, 802, 842, 840], [802, 803, 843, 842], [803, 804, 844, 843], [804, 805, 845, 844], [805, 806, 846, 845], [806, 807, 847, 846], [807, 808, 848, 847], [808, 809, 849, 848], [809, 810, 850, 849], [810, 811, 851, 850], [811, 812, 852, 851], [812, 813, 853, 852], [813, 814, 854, 853], [814, 815, 855, 854], [815, 816, 856, 855], [816, 817, 857, 856], [817, 818, 858, 857], [818, 819, 859, 858], [819, 820, 860, 859], [820, 821, 861, 860], [821, 822, 862, 861], [822, 823, 863, 862], [823, 824, 864, 863], [824, 825, 865, 864], [825, 826, 866, 865], [826, 827, 867, 866], [827, 828, 868, 867], [828, 829, 869, 868], [829, 830, 870, 869], [830, 831, 871, 870], [831, 832, 872, 871], [832, 833, 873, 872], [833, 834, 874, 873], [834, 835, 875, 874], [835, 836, 876, 875], [836, 837, 877, 876], [837, 838, 878, 877], [838, 839, 879, 878], [841, 840, 880, 881], [840, 842, 882, 880], [842, 843, 883, 882], [843, 844, 884, 883], [844, 845, 885, 884], [845, 846, 886, 885], [846, 847, 887, 886], [847, 848, 888, 887], [848, 849, 889, 888], [849, 850, 890, 889], [850, 851, 891, 890], [851, 852, 892, 891], [852, 853, 893, 892], [853, 854, 894, 893], [854, 855, 895, 894], [855, 856, 896, 895], [856, 857, 897, 896], [857, 858, 898, 897], [858, 859, 899, 898], [859, 860, 900, 899], [860, 861, 901, 900], [861, 862, 902, 901], [862, 863, 903, 902], [863, 864, 904, 903], [864, 865, 905, 904], [865, 866, 906, 905], [866, 867, 907, 906], [867, 868, 908, 907], [868, 869, 909, 908], [869, 870, 910, 909], [870, 871, 911, 910], [871, 872, 912, 911], [872, 873, 913, 912], [873, 874, 914, 913], [874, 875, 915, 914], [875, 876, 916, 915], [876, 877, 917, 916], [877, 878, 918, 917], [878, 879, 919, 918], [881, 880, 920, 921], [880, 882, 922, 920], [882, 883, 923, 922], [883, 884, 924, 923], [884, 885, 925, 924], [885, 886, 926, 925], [886, 887, 927, 926], [887, 888, 928, 927], [888, 889, 929, 928], [889, 890, 930, 929], [890, 891, 931, 930], [891, 892, 932, 931], [892, 893, 933, 932], [893, 894, 934, 933], [894, 895, 935, 934], [895, 896, 936, 935], [896, 897, 937, 936], [897, 898, 938, 937], [898, 899, 939, 938], [899, 900, 940, 939], [900, 901, 941, 940], [901, 902, 942, 941], [902, 903, 943, 942], [903, 904, 944, 943], [904, 905, 945, 944], [905, 906, 946, 945], [906, 907, 947, 946], [907, 908, 948, 947], [908, 909, 949, 948], [909, 910, 950, 949], [910, 911, 951, 950], [911, 912, 952, 951], [912, 913, 953, 952], [913, 914, 954, 953], [914, 915, 955, 954], [915, 916, 956, 955], [916, 917, 957, 956], [917, 918, 958, 957], [918, 919, 959, 958], [921, 920, 960, 961], [920, 922, 962, 960], [922, 923, 963, 962], [923, 924, 964, 963], [924, 925, 965, 964], [925, 926, 966, 965], [926, 927, 967, 966], [927, 928, 968, 967], [928, 929, 969, 968], [929, 930, 970, 969], [930, 931, 971, 970], [931, 932, 972, 971], [932, 933, 973, 972], [933, 934, 974, 973], [934, 935, 975, 974], [935, 936, 976, 975], [936, 937, 977, 976], [937, 938, 978, 977], [938, 939, 979, 978], [939, 940, 980, 979], [940, 941, 981, 980], [941, 942, 982, 981], [942, 943, 983, 982], [943, 944, 984, 983], [944, 945, 985, 984], [945, 946, 986, 985], [946, 947, 987, 986], [947, 948, 988, 987], [948, 949, 989, 988], [949, 950, 990, 989], [950, 951, 991, 990], [951, 952, 992, 991], [952, 953, 993, 992], [953, 954, 994, 993], [954, 955, 995, 994], [955, 956, 996, 995], [956, 957, 997, 996], [957, 958, 998, 997], [958, 959, 999, 998], [961, 960, 1000, 1001], [960, 962, 1002, 1000], [962, 963, 1003, 1002], [963, 964, 1004, 1003], [964, 965, 1005, 1004], [965, 966, 1006, 1005], [966, 967, 1007, 1006], [967, 968, 1008, 1007], [968, 969, 1009, 1008], [969, 970, 1010, 1009], [970, 971, 1011, 1010], [971, 972, 1012, 1011], [972, 973, 1013, 1012], [973, 974, 1014, 1013], [974, 975, 1015, 1014], [975, 976, 1016, 1015], [976, 977, 1017, 1016], [977, 978, 1018, 1017], [978, 979, 1019, 1018], [979, 980, 1020, 1019], [980, 981, 1021, 1020], [981, 982, 1022, 1021], [982, 983, 1023, 1022], [983, 984, 1024, 1023], [984, 985, 1025, 1024], [985, 986, 1026, 1025], [986, 987, 1027, 1026], [987, 988, 1028, 1027], [988, 989, 1029, 1028], [989, 990, 1030, 1029], [990, 991, 1031, 1030], [991, 992, 1032, 1031], [992, 993, 1033, 1032], [993, 994, 1034, 1033], [994, 995, 1035, 1034], [995, 996, 1036, 1035], [996, 997, 1037, 1036], [997, 998, 1038, 1037], [998, 999, 1039, 1038], [1001, 1000, 1040, 1041], [1000, 1002, 1042, 1040], [1002, 1003, 1043, 1042], [1003, 1004, 1044, 1043], [1004, 1005, 1045, 1044], [1005, 1006, 1046, 1045], [1006, 1007, 1047, 1046], [1007, 1008, 1048, 1047], [1008, 1009, 1049, 1048], [1009, 1010, 1050, 1049], [1010, 1011, 1051, 1050], [1011, 1012, 1052, 1051], [1012, 1013, 1053, 1052], [1013, 1014, 1054, 1053], [1014, 1015, 1055, 1054], [1015, 1016, 1056, 1055], [1016, 1017, 1057, 1056], [1017, 1018, 1058, 1057], [1018, 1019, 1059, 1058], [1019, 1020, 1060, 1059], [1020, 1021, 1061, 1060], [1021, 1022, 1062, 1061], [1022, 1023, 1063, 1062], [1023, 1024, 1064, 1063], [1024, 1025, 1065, 1064], [1025, 1026, 1066, 1065], [1026, 1027, 1067, 1066], [1027, 1028, 1068, 1067], [1028, 1029, 1069, 1068], [1029, 1030, 1070, 1069], [1030, 1031, 1071, 1070], [1031, 1032, 1072, 1071], [1032, 1033, 1073, 1072], [1033, 1034, 1074, 1073], [1034, 1035, 1075, 1074], [1035, 1036, 1076, 1075], [1036, 1037, 1077, 1076], [1037, 1038, 1078, 1077], [1038, 1039, 1079, 1078], [1041, 1040, 1080, 1081], [1040, 1042, 1082, 1080], [1042, 1043, 1083, 1082], [1043, 1044, 1084, 1083], [1044, 1045, 1085, 1084], [1045, 1046, 1086, 1085], [1046, 1047, 1087, 1086], [1047, 1048, 1088, 1087], [1048, 1049, 1089, 1088], [1049, 1050, 1090, 1089], [1050, 1051, 1091, 1090], [1051, 1052, 1092, 1091], [1052, 1053, 1093, 1092], [1053, 1054, 1094, 1093], [1054, 1055, 1095, 1094], [1055, 1056, 1096, 1095], [1056, 1057, 1097, 1096], [1057, 1058, 1098, 1097], [1058, 1059, 1099, 1098], [1059, 1060, 1100, 1099], [1060, 1061, 1101, 1100], [1061, 1062, 1102, 1101], [1062, 1063, 1103, 1102], [1063, 1064, 1104, 1103], [1064, 1065, 1105, 1104], [1065, 1066, 1106, 1105], [1066, 1067, 1107, 1106], [1067, 1068, 1108, 1107], [1068, 1069, 1109, 1108], [1069, 1070, 1110, 1109], [1070, 1071, 1111, 1110], [1071, 1072, 1112, 1111], [1072, 1073, 1113, 1112], [1073, 1074, 1114, 1113], [1074, 1075, 1115, 1114], [1075, 1076, 1116, 1115], [1076, 1077, 1117, 1116], [1077, 1078, 1118, 1117], [1078, 1079, 1119, 1118], [1081, 1080, 1120, 1121], [1080, 1082, 1122, 1120], [1082, 1083, 1123, 1122], [1083, 1084, 1124, 1123], [1084, 1085, 1125, 1124], [1085, 1086, 1126, 1125], [1086, 1087, 1127, 1126], [1087, 1088, 1128, 1127], [1088, 1089, 1129, 1128], [1089, 1090, 1130, 1129], [1090, 1091, 1131, 1130], [1091, 1092, 1132, 1131], [1092, 1093, 1133, 1132], [1093, 1094, 1134, 1133], [1094, 1095, 1135, 1134], [1095, 1096, 1136, 1135], [1096, 1097, 1137, 1136], [1097, 1098, 1138, 1137], [1098, 1099, 1139, 1138], [1099, 1100, 1140, 1139], [1100, 1101, 1141, 1140], [1101, 1102, 1142, 1141], [1102, 1103, 1143, 1142], [1103, 1104, 1144, 1143], [1104, 1105, 1145, 1144], [1105, 1106, 1146, 1145], [1106, 1107, 1147, 1146], [1107, 1108, 1148, 1147], [1108, 1109, 1149, 1148], [1109, 1110, 1150, 1149], [1110, 1111, 1151, 1150], [1111, 1112, 1152, 1151], [1112, 1113, 1153, 1152], [1113, 1114, 1154, 1153], [1114, 1115, 1155, 1154], [1115, 1116, 1156, 1155], [1116, 1117, 1157, 1156], [1117, 1118, 1158, 1157], [1118, 1119, 1159, 1158], [1121, 1120, 1160, 1161], [1120, 1122, 1162, 1160], [1122, 1123, 1163, 1162], [1123, 1124, 1164, 1163], [1124, 1125, 1165, 1164], [1125, 1126, 1166, 1165], [1126, 1127, 1167, 1166], [1127, 1128, 1168, 1167], [1128, 1129, 1169, 1168], [1129, 1130, 1170, 1169], [1130, 1131, 1171, 1170], [1131, 1132, 1172, 1171], [1132, 1133, 1173, 1172], [1133, 1134, 1174, 1173], [1134, 1135, 1175, 1174], [1135, 1136, 1176, 1175], [1136, 1137, 1177, 1176], [1137, 1138, 1178, 1177], [1138, 1139, 1179, 1178], [1139, 1140, 1180, 1179], [1140, 1141, 1181, 1180], [1141, 1142, 1182, 1181], [1142, 1143, 1183, 1182], [1143, 1144, 1184, 1183], [1144, 1145, 1185, 1184], [1145, 1146, 1186, 1185], [1146, 1147, 1187, 1186], [1147, 1148, 1188, 1187], [1148, 1149, 1189, 1188], [1149, 1150, 1190, 1189], [1150, 1151, 1191, 1190], [1151, 1152, 1192, 1191], [1152, 1153, 1193, 1192], [1153, 1154, 1194, 1193], [1154, 1155, 1195, 1194], [1155, 1156, 1196, 1195], [1156, 1157, 1197, 1196], [1157, 1158, 1198, 1197], [1158, 1159, 1199, 1198], [1161, 1160, 1200, 1201], [1160, 1162, 1202, 1200], [1162, 1163, 1203, 1202], [1163, 1164, 1204, 1203], [1164, 1165, 1205, 1204], [1165, 1166, 1206, 1205], [1166, 1167, 1207, 1206], [1167, 1168, 1208, 1207], [1168, 1169, 1209, 1208], [1169, 1170, 1210, 1209], [1170, 1171, 1211, 1210], [1171, 1172, 1212, 1211], [1172, 1173, 1213, 1212], [1173, 1174, 1214, 1213], [1174, 1175, 1215, 1214], [1175, 1176, 1216, 1215], [1176, 1177, 1217, 1216], [1177, 1178, 1218, 1217], [1178, 1179, 1219, 1218], [1179, 1180, 1220, 1219], [1180, 1181, 1221, 1220], [1181, 1182, 1222, 1221], [1182, 1183, 1223, 1222], [1183, 1184, 1224, 1223], [1184, 1185, 1225, 1224], [1185, 1186, 1226, 1225], [1186, 1187, 1227, 1226], [1187, 1188, 1228, 1227], [1188, 1189, 1229, 1228], [1189, 1190, 1230, 1229], [1190, 1191, 1231, 1230], [1191, 1192, 1232, 1231], [1192, 1193, 1233, 1232], [1193, 1194, 1234, 1233], [1194, 1195, 1235, 1234], [1195, 1196, 1236, 1235], [1196, 1197, 1237, 1236], [1197, 1198, 1238, 1237], [1198, 1199, 1239, 1238], [1201, 1200, 1240, 1241], [1200, 1202, 1242, 1240], [1202, 1203, 1243, 1242], [1203, 1204, 1244, 1243], [1204, 1205, 1245, 1244], [1205, 1206, 1246, 1245], [1206, 1207, 1247, 1246], [1207, 1208, 1248, 1247], [1208, 1209, 1249, 1248], [1209, 1210, 1250, 1249], [1210, 1211, 1251, 1250], [1211, 1212, 1252, 1251], [1212, 1213, 1253, 1252], [1213, 1214, 1254, 1253], [1214, 1215, 1255, 1254], [1215, 1216, 1256, 1255], [1216, 1217, 1257, 1256], [1217, 1218, 1258, 1257], [1218, 1219, 1259, 1258], [1219, 1220, 1260, 1259], [1220, 1221, 1261, 1260], [1221, 1222, 1262, 1261], [1222, 1223, 1263, 1262], [1223, 1224, 1264, 1263], [1224, 1225, 1265, 1264], [1225, 1226, 1266, 1265], [1226, 1227, 1267, 1266], [1227, 1228, 1268, 1267], [1228, 1229, 1269, 1268], [1229, 1230, 1270, 1269], [1230, 1231, 1271, 1270], [1231, 1232, 1272, 1271], [1232, 1233, 1273, 1272], [1233, 1234, 1274, 1273], [1234, 1235, 1275, 1274], [1235, 1236, 1276, 1275], [1236, 1237, 1277, 1276], [1237, 1238, 1278, 1277], [1238, 1239, 1279, 1278], [1241, 1240, 1280, 1281], [1240, 1242, 1282, 1280], [1242, 1243, 1283, 1282], [1243, 1244, 1284, 1283], [1244, 1245, 1285, 1284], [1245, 1246, 1286, 1285], [1246, 1247, 1287, 1286], [1247, 1248, 1288, 1287], [1248, 1249, 1289, 1288], [1249, 1250, 1290, 1289], [1250, 1251, 1291, 1290], [1251, 1252, 1292, 1291], [1252, 1253, 1293, 1292], [1253, 1254, 1294, 1293], [1254, 1255, 1295, 1294], [1255, 1256, 1296, 1295], [1256, 1257, 1297, 1296], [1257, 1258, 1298, 1297], [1258, 1259, 1299, 1298], [1259, 1260, 1300, 1299], [1260, 1261, 1301, 1300], [1261, 1262, 1302, 1301], [1262, 1263, 1303, 1302], [1263, 1264, 1304, 1303], [1264, 1265, 1305, 1304], [1265, 1266, 1306, 1305], [1266, 1267, 1307, 1306], [1267, 1268, 1308, 1307], [1268, 1269, 1309, 1308], [1269, 1270, 1310, 1309], [1270, 1271, 1311, 1310], [1271, 1272, 1312, 1311], [1272, 1273, 1313, 1312], [1273, 1274, 1314, 1313], [1274, 1275, 1315, 1314], [1275, 1276, 1316, 1315], [1276, 1277, 1317, 1316], [1277, 1278, 1318, 1317], [1278, 1279, 1319, 1318], [1281, 1280, 1320, 1321], [1280, 1282, 1322, 1320], [1282, 1283, 1323, 1322], [1283, 1284, 1324, 1323], [1284, 1285, 1325, 1324], [1285, 1286, 1326, 1325], [1286, 1287, 1327, 1326], [1287, 1288, 1328, 1327], [1288, 1289, 1329, 1328], [1289, 1290, 1330, 1329], [1290, 1291, 1331, 1330], [1291, 1292, 1332, 1331], [1292, 1293, 1333, 1332], [1293, 1294, 1334, 1333], [1294, 1295, 1335, 1334], [1295, 1296, 1336, 1335], [1296, 1297, 1337, 1336], [1297, 1298, 1338, 1337], [1298, 1299, 1339, 1338], [1299, 1300, 1340, 1339], [1300, 1301, 1341, 1340], [1301, 1302, 1342, 1341], [1302, 1303, 1343, 1342], [1303, 1304, 1344, 1343], [1304, 1305, 1345, 1344], [1305, 1306, 1346, 1345], [1306, 1307, 1347, 1346], [1307, 1308, 1348, 1347], [1308, 1309, 1349, 1348], [1309, 1310, 1350, 1349], [1310, 1311, 1351, 1350], [1311, 1312, 1352, 1351], [1312, 1313, 1353, 1352], [1313, 1314, 1354, 1353], [1314, 1315, 1355, 1354], [1315, 1316, 1356, 1355], [1316, 1317, 1357, 1356], [1317, 1318, 1358, 1357], [1318, 1319, 1359, 1358], [1321, 1320, 1360, 1361], [1320, 1322, 1362, 1360], [1322, 1323, 1363, 1362], [1323, 1324, 1364, 1363], [1324, 1325, 1365, 1364], [1325, 1326, 1366, 1365], [1326, 1327, 1367, 1366], [1327, 1328, 1368, 1367], [1328, 1329, 1369, 1368], [1329, 1330, 1370, 1369], [1330, 1331, 1371, 1370], [1331, 1332, 1372, 1371], [1332, 1333, 1373, 1372], [1333, 1334, 1374, 1373], [1334, 1335, 1375, 1374], [1335, 1336, 1376, 1375], [1336, 1337, 1377, 1376], [1337, 1338, 1378, 1377], [1338, 1339, 1379, 1378], [1339, 1340, 1380, 1379], [1340, 1341, 1381, 1380], [1341, 1342, 1382, 1381], [1342, 1343, 1383, 1382], [1343, 1344, 1384, 1383], [1344, 1345, 1385, 1384], [1345, 1346, 1386, 1385], [1346, 1347, 1387, 1386], [1347, 1348, 1388, 1387], [1348, 1349, 1389, 1388], [1349, 1350, 1390, 1389], [1350, 1351, 1391, 1390], [1351, 1352, 1392, 1391], [1352, 1353, 1393, 1392], [1353, 1354, 1394, 1393], [1354, 1355, 1395, 1394], [1355, 1356, 1396, 1395], [1356, 1357, 1397, 1396], [1357, 1358, 1398, 1397], [1358, 1359, 1399, 1398], [1361, 1360, 1400, 1401], [1360, 1362, 1402, 1400], [1362, 1363, 1403, 1402], [1363, 1364, 1404, 1403], [1364, 1365, 1405, 1404], [1365, 1366, 1406, 1405], [1366, 1367, 1407, 1406], [1367, 1368, 1408, 1407], [1368, 1369, 1409, 1408], [1369, 1370, 1410, 1409], [1370, 1371, 1411, 1410], [1371, 1372, 1412, 1411], [1372, 1373, 1413, 1412], [1373, 1374, 1414, 1413], [1374, 1375, 1415, 1414], [1375, 1376, 1416, 1415], [1376, 1377, 1417, 1416], [1377, 1378, 1418, 1417], [1378, 1379, 1419, 1418], [1379, 1380, 1420, 1419], [1380, 1381, 1421, 1420], [1381, 1382, 1422, 1421], [1382, 1383, 1423, 1422], [1383, 1384, 1424, 1423], [1384, 1385, 1425, 1424], [1385, 1386, 1426, 1425], [1386, 1387, 1427, 1426], [1387, 1388, 1428, 1427], [1388, 1389, 1429, 1428], [1389, 1390, 1430, 1429], [1390, 1391, 1431, 1430], [1391, 1392, 1432, 1431], [1392, 1393, 1433, 1432], [1393, 1394, 1434, 1433], [1394, 1395, 1435, 1434], [1395, 1396, 1436, 1435], [1396, 1397, 1437, 1436], [1397, 1398, 1438, 1437], [1398, 1399, 1439, 1438], [1401, 1400, 1440, 1441], [1400, 1402, 1442, 1440], [1402, 1403, 1443, 1442], [1403, 1404, 1444, 1443], [1404, 1405, 1445, 1444], [1405, 1406, 1446, 1445], [1406, 1407, 1447, 1446], [1407, 1408, 1448, 1447], [1408, 1409, 1449, 1448], [1409, 1410, 1450, 1449], [1410, 1411, 1451, 1450], [1411, 1412, 1452, 1451], [1412, 1413, 1453, 1452], [1413, 1414, 1454, 1453], [1414, 1415, 1455, 1454], [1415, 1416, 1456, 1455], [1416, 1417, 1457, 1456], [1417, 1418, 1458, 1457], [1418, 1419, 1459, 1458], [1419, 1420, 1460, 1459], [1420, 1421, 1461, 1460], [1421, 1422, 1462, 1461], [1422, 1423, 1463, 1462], [1423, 1424, 1464, 1463], [1424, 1425, 1465, 1464], [1425, 1426, 1466, 1465], [1426, 1427, 1467, 1466], [1427, 1428, 1468, 1467], [1428, 1429, 1469, 1468], [1429, 1430, 1470, 1469], [1430, 1431, 1471, 1470], [1431, 1432, 1472, 1471], [1432, 1433, 1473, 1472], [1433, 1434, 1474, 1473], [1434, 1435, 1475, 1474], [1435, 1436, 1476, 1475], [1436, 1437, 1477, 1476], [1437, 1438, 1478, 1477], [1438, 1439, 1479, 1478], [1441, 1440, 1480, 1481], [1440, 1442, 1482, 1480], [1442, 1443, 1483, 1482], [1443, 1444, 1484, 1483], [1444, 1445, 1485, 1484], [1445, 1446, 1486, 1485], [1446, 1447, 1487, 1486], [1447, 1448, 1488, 1487], [1448, 1449, 1489, 1488], [1449, 1450, 1490, 1489], [1450, 1451, 1491, 1490], [1451, 1452, 1492, 1491], [1452, 1453, 1493, 1492], [1453, 1454, 1494, 1493], [1454, 1455, 1495, 1494], [1455, 1456, 1496, 1495], [1456, 1457, 1497, 1496], [1457, 1458, 1498, 1497], [1458, 1459, 1499, 1498], [1459, 1460, 1500, 1499], [1460, 1461, 1501, 1500], [1461, 1462, 1502, 1501], [1462, 1463, 1503, 1502], [1463, 1464, 1504, 1503], [1464, 1465, 1505, 1504], [1465, 1466, 1506, 1505], [1466, 1467, 1507, 1506], [1467, 1468, 1508, 1507], [1468, 1469, 1509, 1508], [1469, 1470, 1510, 1509], [1470, 1471, 1511, 1510], [1471, 1472, 1512, 1511], [1472, 1473, 1513, 1512], [1473, 1474, 1514, 1513], [1474, 1475, 1515, 1514], [1475, 1476, 1516, 1515], [1476, 1477, 1517, 1516], [1477, 1478, 1518, 1517], [1478, 1479, 1519, 1518], [1481, 1480, 1520, 1521], [1480, 1482, 1522, 1520], [1482, 1483, 1523, 1522], [1483, 1484, 1524, 1523], [1484, 1485, 1525, 1524], [1485, 1486, 1526, 1525], [1486, 1487, 1527, 1526], [1487, 1488, 1528, 1527], [1488, 1489, 1529, 1528], [1489, 1490, 1530, 1529], [1490, 1491, 1531, 1530], [1491, 1492, 1532, 1531], [1492, 1493, 1533, 1532], [1493, 1494, 1534, 1533], [1494, 1495, 1535, 1534], [1495, 1496, 1536, 1535], [1496, 1497, 1537, 1536], [1497, 1498, 1538, 1537], [1498, 1499, 1539, 1538], [1499, 1500, 1540, 1539], [1500, 1501, 1541, 1540], [1501, 1502, 1542, 1541], [1502, 1503, 1543, 1542], [1503, 1504, 1544, 1543], [1504, 1505, 1545, 1544], [1505, 1506, 1546, 1545], [1506, 1507, 1547, 1546], [1507, 1508, 1548, 1547], [1508, 1509, 1549, 1548], [1509, 1510, 1550, 1549], [1510, 1511, 1551, 1550], [1511, 1512, 1552, 1551], [1512, 1513, 1553, 1552], [1513, 1514, 1554, 1553], [1514, 1515, 1555, 1554], [1515, 1516, 1556, 1555], [1516, 1517, 1557, 1556], [1517, 1518, 1558, 1557], [1518, 1519, 1559, 1558], [1521, 1520, 1560, 1561], [1520, 1522, 1562, 1560], [1522, 1523, 1563, 1562], [1523, 1524, 1564, 1563], [1524, 1525, 1565, 1564], [1525, 1526, 1566, 1565], [1526, 1527, 1567, 1566], [1527, 1528, 1568, 1567], [1528, 1529, 1569, 1568], [1529, 1530, 1570, 1569], [1530, 1531, 1571, 1570], [1531, 1532, 1572, 1571], [1532, 1533, 1573, 1572], [1533, 1534, 1574, 1573], [1534, 1535, 1575, 1574], [1535, 1536, 1576, 1575], [1536, 1537, 1577, 1576], [1537, 1538, 1578, 1577], [1538, 1539, 1579, 1578], [1539, 1540, 1580, 1579], [1540, 1541, 1581, 1580], [1541, 1542, 1582, 1581], [1542, 1543, 1583, 1582], [1543, 1544, 1584, 1583], [1544, 1545, 1585, 1584], [1545, 1546, 1586, 1585], [1546, 1547, 1587, 1586], [1547, 1548, 1588, 1587], [1548, 1549, 1589, 1588], [1549, 1550, 1590, 1589], [1550, 1551, 1591, 1590], [1551, 1552, 1592, 1591], [1552, 1553, 1593, 1592], [1553, 1554, 1594, 1593], [1554, 1555, 1595, 1594], [1555, 1556, 1596, 1595], [1556, 1557, 1597, 1596], [1557, 1558, 1598, 1597], [1558, 1559, 1599, 1598]], &quot;color&quot;: &quot;#6666ff&quot;, &quot;opacity&quot;: 1.0}];\n",
       "    for ( var i=0 ; i &lt; surfaces.length ; i++ ) addSurface( surfaces[i] );\n",
       "\n",
       "    function addSurface( json ) {\n",
       "\n",
       "        var useFaceColors = &#x27;faceColors&#x27; in json ? true : false;\n",
       "\n",
       "        var geometry = new THREE.Geometry();\n",
       "        for ( var i=0 ; i &lt; json.vertices.length ; i++ ) {\n",
       "            var v = json.vertices[i];\n",
       "            geometry.vertices.push( new THREE.Vector3( a[0]*v.x, a[1]*v.y, a[2]*v.z ) );\n",
       "        }\n",
       "        for ( var i=0 ; i &lt; json.faces.length ; i++ ) {\n",
       "            var f = json.faces[i];\n",
       "            for ( var j=0 ; j &lt; f.length - 2 ; j++ ) {\n",
       "                var face = new THREE.Face3( f[0], f[j+1], f[j+2] );\n",
       "                if ( useFaceColors ) face.color.set( json.faceColors[i] );\n",
       "                geometry.faces.push( face );\n",
       "            }\n",
       "        }\n",
       "        geometry.computeVertexNormals();\n",
       "\n",
       "        var side = json.singleSide ? THREE.FrontSide : THREE.DoubleSide;\n",
       "        var transparent = json.opacity &lt; 1 ? true : false;\n",
       "        var depthWrite = &#x27;depthWrite&#x27; in json ? json.depthWrite : !transparent;\n",
       "        var flatShading = json.useFlatShading ? json.useFlatShading : false;\n",
       "\n",
       "        var material = new THREE.MeshPhongMaterial( { side: side,\n",
       "                                     color: useFaceColors ? &#x27;white&#x27; : json.color,\n",
       "                                     vertexColors: useFaceColors ? THREE.FaceColors : THREE.NoColors,\n",
       "                                     transparent: transparent, opacity: json.opacity,\n",
       "                                     shininess: 20, flatShading: flatShading,\n",
       "                                     depthWrite: depthWrite } );\n",
       "\n",
       "        var c = new THREE.Vector3();\n",
       "        geometry.computeBoundingBox();\n",
       "        geometry.boundingBox.getCenter( c );\n",
       "        geometry.translate( -c.x, -c.y, -c.z );\n",
       "\n",
       "        var mesh = new THREE.Mesh( geometry, material );\n",
       "        mesh.position.set( c.x, c.y, c.z );\n",
       "        if ( transparent &amp;&amp; json.renderOrder ) mesh.renderOrder = json.renderOrder;\n",
       "        mesh.userData = json;\n",
       "        scene.add( mesh );\n",
       "\n",
       "        if ( json.showMeshGrid ) addSurfaceMeshGrid( json );\n",
       "\n",
       "    }\n",
       "\n",
       "    function addSurfaceMeshGrid( json ) {\n",
       "\n",
       "        var geometry = new THREE.Geometry();\n",
       "\n",
       "        for ( var i=0 ; i &lt; json.faces.length ; i++ ) {\n",
       "            var f = json.faces[i];\n",
       "            for ( var j=0 ; j &lt; f.length ; j++ ) {\n",
       "                var k = j === f.length-1 ? 0 : j+1;\n",
       "                var v1 = json.vertices[f[j]];\n",
       "                var v2 = json.vertices[f[k]];\n",
       "                // vertices in opposite directions on neighboring faces\n",
       "                var nudge = f[j] &lt; f[k] ? .0005*zRange : -.0005*zRange;\n",
       "                geometry.vertices.push( new THREE.Vector3( a[0]*v1.x, a[1]*v1.y, a[2]*(v1.z+nudge) ) );\n",
       "                geometry.vertices.push( new THREE.Vector3( a[0]*v2.x, a[1]*v2.y, a[2]*(v2.z+nudge) ) );\n",
       "            }\n",
       "        }\n",
       "\n",
       "        var c = new THREE.Vector3();\n",
       "        geometry.computeBoundingBox();\n",
       "        geometry.boundingBox.getCenter( c );\n",
       "        geometry.translate( -c.x, -c.y, -c.z );\n",
       "\n",
       "        var gridColor = options.theme === &#x27;dark&#x27; ? &#x27;white&#x27; : &#x27;black&#x27;;\n",
       "        var linewidth = json.linewidth || 1;\n",
       "        var materialOptions = { color: gridColor, linewidth: linewidth };\n",
       "\n",
       "        var mesh;\n",
       "        if ( linewidth &gt; 1 &amp;&amp; window.createFatLineSegments ) {\n",
       "            mesh = createFatLineSegments( geometry, materialOptions );\n",
       "        } else {\n",
       "            var material = new THREE.LineBasicMaterial( materialOptions );\n",
       "            mesh = new THREE.LineSegments( geometry, material );\n",
       "        }\n",
       "\n",
       "        mesh.position.set( c.x, c.y, c.z );\n",
       "        mesh.userData = json;\n",
       "        scene.add( mesh );\n",
       "\n",
       "    }\n",
       "\n",
       "    function render() {\n",
       "\n",
       "        if ( window.updateAnimation ) animate = updateAnimation();\n",
       "        if ( animate ) requestAnimationFrame( render );\n",
       "\n",
       "        renderer.render( scene, camera );\n",
       "\n",
       "    }\n",
       "\n",
       "    render();\n",
       "    controls.update();\n",
       "    if ( !animate ) render();\n",
       "\n",
       "\n",
       "    // menu functions\n",
       "\n",
       "    function toggleMenu() {\n",
       "\n",
       "        var m = document.getElementById( &#x27;menu-content&#x27; );\n",
       "        if ( m.style.display === &#x27;block&#x27; ) m.style.display = &#x27;none&#x27;\n",
       "        else m.style.display = &#x27;block&#x27;;\n",
       "\n",
       "    }\n",
       "\n",
       "\n",
       "    function saveAsPNG() {\n",
       "\n",
       "        var a = document.body.appendChild( document.createElement( &#x27;a&#x27; ) );\n",
       "        a.href = renderer.domElement.toDataURL( &#x27;image/png&#x27; );\n",
       "        a.download = &#x27;screenshot&#x27;;\n",
       "        a.click();\n",
       "\n",
       "    }\n",
       "\n",
       "    function saveAsHTML() {\n",
       "\n",
       "        toggleMenu(); // otherwise visible in output\n",
       "        event.stopPropagation();\n",
       "\n",
       "        var blob = new Blob( [ &#x27;&lt;!DOCTYPE html&gt;\\n&#x27; + document.documentElement.outerHTML ] );\n",
       "        var a = document.body.appendChild( document.createElement( &#x27;a&#x27; ) );\n",
       "        a.href = window.URL.createObjectURL( blob );\n",
       "        a.download = suggestFilename();\n",
       "        a.click();\n",
       "\n",
       "        function suggestFilename() {\n",
       "            if ( !document.title ) {\n",
       "                return &#x27;graphic.html&#x27;;\n",
       "            } else if ( /\\.html?$/i.test( document.title ) ) {\n",
       "                return document.title; // already ends in .htm or .html\n",
       "            } else {\n",
       "                return document.title + &#x27;.html&#x27;;\n",
       "            }\n",
       "        }\n",
       "\n",
       "    }\n",
       "\n",
       "    function getViewpoint() {\n",
       "\n",
       "        function roundTo( x, n ) { return +x.toFixed(n); }\n",
       "\n",
       "        var v = camera.quaternion.inverse();\n",
       "        var r = Math.sqrt( v.x*v.x + v.y*v.y + v.z*v.z );\n",
       "        var axis = [ roundTo( v.x / r, 4 ), roundTo( v.y / r, 4 ), roundTo( v.z / r, 4 ) ];\n",
       "        var angle = roundTo( 2 * Math.atan2( r, v.w ) * 180 / Math.PI, 2 );\n",
       "\n",
       "        var textArea = document.createElement( &#x27;textarea&#x27; );\n",
       "        textArea.textContent = JSON.stringify( axis ) + &#x27;,&#x27; + angle;\n",
       "        textArea.style.csstext = &#x27;position: absolute; top: -100%&#x27;;\n",
       "        document.body.append( textArea );\n",
       "        textArea.select();\n",
       "        document.execCommand( &#x27;copy&#x27; );\n",
       "\n",
       "        var m = document.getElementById( &#x27;menu-message&#x27; );\n",
       "        m.innerHTML = &#x27;Viewpoint copied to clipboard&#x27;;\n",
       "        m.style.display = &#x27;block&#x27;;\n",
       "        setTimeout( function() { m.style.display = &#x27;none&#x27;; }, 2000 );\n",
       "\n",
       "    }\n",
       "\n",
       "    function getCamera() {\n",
       "\n",
       "        function roundTo( x, n ) { return +x.toFixed(n); }\n",
       "\n",
       "        var pos = camera.position;\n",
       "        var pos_r = [ roundTo( pos.x, 4 ), roundTo( pos.y, 4 ), roundTo( pos.z, 4 ) ];\n",
       "   //     var up = camera.up; // up is always (0,0,1)\n",
       "        var textArea = document.createElement(&#x27;textarea&#x27;);\n",
       "        var cam_position = JSON.stringify(pos_r);\n",
       "        textArea.textContent = &#x27;,camera_position=&#x27; + cam_position;\n",
       "        textArea.style.csstext = &#x27;position: absolute; top: -100%&#x27;;\n",
       "        document.body.append( textArea );\n",
       "        textArea.select();\n",
       "        document.execCommand( &#x27;copy&#x27; );\n",
       "\n",
       "        var m = document.getElementById( &#x27;menu-message&#x27; );\n",
       "        m.innerHTML = &#x27;Camera position &#x27;+ cam_position+&#x27; copied to clipboard&#x27;;\n",
       "        m.style.display = &#x27;block&#x27;;\n",
       "        setTimeout( function() { m.style.display = &#x27;none&#x27;; }, 2000 );\n",
       "\n",
       "    }\n",
       "\n",
       "&lt;/script&gt;\n",
       "\n",
       "&lt;div id=&quot;menu-container&quot; onclick=&quot;toggleMenu()&quot;&gt;&amp;#x24d8;\n",
       "&lt;div id=&quot;menu-message&quot;&gt;&lt;/div&gt;\n",
       "&lt;div id=&quot;menu-content&quot;&gt;\n",
       "&lt;div onclick=&quot;saveAsPNG()&quot;&gt;Save as PNG&lt;/div&gt;\n",
       "&lt;div onclick=&quot;saveAsHTML()&quot;&gt;Save as HTML&lt;/div&gt;\n",
       "&lt;div onclick=&quot;getCamera()&quot;&gt;Get camera&lt;/div&gt;\n",
       "&lt;div onclick=&quot;getViewpoint()&quot;&gt;Get viewpoint&lt;/div&gt;\n",
       "&lt;div&gt;Close Menu&lt;/div&gt;\n",
       "&lt;/div&gt;&lt;/div&gt;\n",
       "\n",
       "\n",
       "&lt;/body&gt;\n",
       "&lt;/html&gt;\n",
       "\"\n",
       "        width=\"100%\"\n",
       "        height=\"400\"\n",
       "        style=\"border: 0;\">\n",
       "</iframe>\n"
      ],
      "text/plain": [
       "Graphics3d Object"
      ]
     },
     "execution_count": 31,
     "metadata": {},
     "output_type": "execute_result"
    }
   ],
   "source": [
    ",var y\n",
    "plot3d(sin(pi*sqrt(x^2 + y^2))/sqrt(x^2+y^2), (x,-5,5), (y,-5,5))"
   ]
  },
  {
   "cell_type": "code",
   "execution_count": 32,
   "id": "37fadbc0",
   "metadata": {},
   "outputs": [
    {
     "data": {
      "text/html": [
       "<html>\\(\\displaystyle \\left[\\arctan\\left(\\frac{1}{{\\left| x \\right|} + 1}\\right) = \\frac{1}{2} \\, \\pi - \\arctan\\left({\\left| x \\right|} + 1\\right)\\right]\\)</html>"
      ],
      "text/latex": [
       "$\\displaystyle \\left[\\arctan\\left(\\frac{1}{{\\left| x \\right|} + 1}\\right) = \\frac{1}{2} \\, \\pi - \\arctan\\left({\\left| x \\right|} + 1\\right)\\right]$"
      ],
      "text/plain": [
       "[arctan(1/(abs(x) + 1)) == 1/2*pi - arctan(abs(x) + 1)]"
      ]
     },
     "execution_count": 32,
     "metadata": {},
     "output_type": "execute_result"
    }
   ],
   "source": [
    "solve(arctan(1+abs(x)) == pi/2 - arctan(1/(1+abs(x))),x)"
   ]
  },
  {
   "cell_type": "code",
   "execution_count": 33,
   "id": "3de14683",
   "metadata": {},
   "outputs": [
    {
     "data": {
      "text/html": [
       "<html>\\(\\displaystyle \\left[\\left[x > 1.7386150966936993\\right]\\right]\\)</html>"
      ],
      "text/latex": [
       "$\\displaystyle \\left[\\left[x > 1.7386150966936993\\right]\\right]$"
      ],
      "text/plain": [
       "[[x > 1.7386150966936993]]"
      ]
     },
     "execution_count": 33,
     "metadata": {},
     "output_type": "execute_result"
    }
   ],
   "source": [
    "solve(5*x^2+x^5>31,x)"
   ]
  },
  {
   "cell_type": "code",
   "execution_count": 34,
   "id": "4a278ece",
   "metadata": {},
   "outputs": [
    {
     "data": {
      "text/plain": [
       "\u001b[0;31mSignature:\u001b[0m \u001b[0msolve\u001b[0m\u001b[0;34m(\u001b[0m\u001b[0mf\u001b[0m\u001b[0;34m,\u001b[0m \u001b[0;34m*\u001b[0m\u001b[0margs\u001b[0m\u001b[0;34m,\u001b[0m \u001b[0;34m**\u001b[0m\u001b[0mkwds\u001b[0m\u001b[0;34m)\u001b[0m\u001b[0;34m\u001b[0m\u001b[0;34m\u001b[0m\u001b[0m\n",
       "\u001b[0;31mDocstring:\u001b[0m\n",
       "   Algebraically solve an equation or system of equations (over the\n",
       "   complex numbers) for given variables. Inequalities and systems of\n",
       "   inequalities are also supported.\n",
       "\n",
       "   INPUT:\n",
       "\n",
       "   * \"f\" - equation or system of equations (given by a list or tuple)\n",
       "\n",
       "   * \"*args\" - variables to solve for.\n",
       "\n",
       "   * \"solution_dict\" - bool (default: False); if True or non-zero,\n",
       "     return a list of dictionaries containing the solutions. If there\n",
       "     are no solutions, return an empty list (rather than a list\n",
       "     containing an empty dictionary). Likewise, if there's only a\n",
       "     single solution, return a list containing one dictionary with\n",
       "     that solution.\n",
       "\n",
       "   There are a few optional keywords if you are trying to solve a\n",
       "   single equation.  They may only be used in that context.\n",
       "\n",
       "   * \"multiplicities\" - bool (default: False); if True, return\n",
       "     corresponding multiplicities.  This keyword is incompatible with\n",
       "     \"to_poly_solve=True\" and does not make any sense when solving\n",
       "     inequalities.\n",
       "\n",
       "   * \"explicit_solutions\" - bool (default: False); require that all\n",
       "     roots be explicit rather than implicit. Not used when solving\n",
       "     inequalities.\n",
       "\n",
       "   * \"to_poly_solve\" - bool (default: False) or string; use Maxima's\n",
       "     \"to_poly_solver\" package to search for more possible solutions,\n",
       "     but possibly encounter approximate solutions. This keyword is\n",
       "     incompatible with \"multiplicities=True\" and is not used when\n",
       "     solving inequalities. Setting \"to_poly_solve\" to 'force' (string)\n",
       "     omits Maxima's solve command (useful when some solutions of\n",
       "     trigonometric equations are lost).\n",
       "\n",
       "   * \"algorithm\" - string (default: 'maxima'); to use SymPy's solvers\n",
       "     set this to 'sympy'. Note that SymPy is always used for\n",
       "     diophantine equations. Another choice is 'giac'.\n",
       "\n",
       "   * \"domain\" - string (default: 'complex'); setting this to 'real'\n",
       "     changes the way SymPy solves single equations; inequalities are\n",
       "     always solved in the real domain.\n",
       "\n",
       "   EXAMPLES:\n",
       "\n",
       "      sage: x, y = var('x, y')\n",
       "      sage: solve([x+y==6, x-y==4], x, y)\n",
       "      [[x == 5, y == 1]]\n",
       "      sage: solve([x^2+y^2 == 1, y^2 == x^3 + x + 1], x, y)\n",
       "      [[x == -1/2*I*sqrt(3) - 1/2, y == -sqrt(-1/2*I*sqrt(3) + 3/2)],\n",
       "       [x == -1/2*I*sqrt(3) - 1/2, y == sqrt(-1/2*I*sqrt(3) + 3/2)],\n",
       "       [x == 1/2*I*sqrt(3) - 1/2, y == -sqrt(1/2*I*sqrt(3) + 3/2)],\n",
       "       [x == 1/2*I*sqrt(3) - 1/2, y == sqrt(1/2*I*sqrt(3) + 3/2)],\n",
       "       [x == 0, y == -1],\n",
       "       [x == 0, y == 1]]\n",
       "      sage: solve([sqrt(x) + sqrt(y) == 5, x + y == 10], x, y)\n",
       "      [[x == -5/2*I*sqrt(5) + 5, y == 5/2*I*sqrt(5) + 5], [x == 5/2*I*sqrt(5) + 5, y == -5/2*I*sqrt(5) + 5]]\n",
       "      sage: solutions = solve([x^2+y^2 == 1, y^2 == x^3 + x + 1], x, y, solution_dict=True)\n",
       "      sage: for solution in solutions: print(\"{} , {}\".format(solution[x].n(digits=3), solution[y].n(digits=3)))\n",
       "      -0.500 - 0.866*I , -1.27 + 0.341*I\n",
       "      -0.500 - 0.866*I , 1.27 - 0.341*I\n",
       "      -0.500 + 0.866*I , -1.27 - 0.341*I\n",
       "      -0.500 + 0.866*I , 1.27 + 0.341*I\n",
       "      0.000 , -1.00\n",
       "      0.000 , 1.00\n",
       "\n",
       "   Whenever possible, answers will be symbolic, but with systems of\n",
       "   equations, at times approximations will be given by Maxima, due to\n",
       "   the underlying algorithm:\n",
       "\n",
       "      sage: sols = solve([x^3==y,y^2==x], [x,y]); sols[-1], sols[0] # abs tol 1e-15\n",
       "      ([x == 0, y == 0],\n",
       "       [x == (0.3090169943749475 + 0.9510565162951535*I),\n",
       "        y == (-0.8090169943749475 - 0.5877852522924731*I)])\n",
       "      sage: sols[0][0].rhs().pyobject().parent()\n",
       "      Complex Double Field\n",
       "\n",
       "      sage: solve([y^6==y],y)\n",
       "      [y == 1/4*sqrt(5) + 1/4*I*sqrt(2*sqrt(5) + 10) - 1/4,\n",
       "       y == -1/4*sqrt(5) + 1/4*I*sqrt(-2*sqrt(5) + 10) - 1/4,\n",
       "       y == -1/4*sqrt(5) - 1/4*I*sqrt(-2*sqrt(5) + 10) - 1/4,\n",
       "       y == 1/4*sqrt(5) - 1/4*I*sqrt(2*sqrt(5) + 10) - 1/4,\n",
       "       y == 1,\n",
       "       y == 0]\n",
       "      sage: solve( [y^6 == y], y)==solve( y^6 == y, y)\n",
       "      True\n",
       "\n",
       "   Here we demonstrate very basic use of the optional keywords:\n",
       "\n",
       "      sage: ((x^2-1)^2).solve(x)\n",
       "      [x == -1, x == 1]\n",
       "      sage: ((x^2-1)^2).solve(x,multiplicities=True)\n",
       "      ([x == -1, x == 1], [2, 2])\n",
       "      sage: solve(sin(x)==x,x)\n",
       "      [x == sin(x)]\n",
       "      sage: solve(sin(x)==x,x,explicit_solutions=True)\n",
       "      []\n",
       "      sage: solve(abs(1-abs(1-x)) == 10, x)\n",
       "      [abs(abs(x - 1) - 1) == 10]\n",
       "      sage: solve(abs(1-abs(1-x)) == 10, x, to_poly_solve=True)\n",
       "      [x == -10, x == 12]\n",
       "\n",
       "      sage: from sage.symbolic.expression import Expression\n",
       "      sage: Expression.solve(x^2==1,x)\n",
       "      [x == -1, x == 1]\n",
       "\n",
       "   We must solve with respect to actual variables:\n",
       "\n",
       "      sage: z = 5\n",
       "      sage: solve([8*z + y == 3, -z +7*y == 0],y,z)\n",
       "      Traceback (most recent call last):\n",
       "      ...\n",
       "      TypeError: 5 is not a valid variable.\n",
       "\n",
       "   If we ask for dictionaries containing the solutions, we get them:\n",
       "\n",
       "      sage: solve([x^2-1],x,solution_dict=True)\n",
       "      [{x: -1}, {x: 1}]\n",
       "      sage: solve([x^2-4*x+4],x,solution_dict=True)\n",
       "      [{x: 2}]\n",
       "      sage: res = solve([x^2 == y, y == 4],x,y,solution_dict=True)\n",
       "      sage: for soln in res: print(\"x: %s, y: %s\" % (soln[x], soln[y]))\n",
       "      x: 2, y: 4\n",
       "      x: -2, y: 4\n",
       "\n",
       "   If there is a parameter in the answer, that will show up as a new\n",
       "   variable.  In the following example, \"r1\" is an arbitrary constant\n",
       "   (because of the \"r\"):\n",
       "\n",
       "      sage: forget()\n",
       "      sage: x, y = var('x,y')\n",
       "      sage: solve([x+y == 3, 2*x+2*y == 6],x,y)\n",
       "      [[x == -r1 + 3, y == r1]]\n",
       "\n",
       "      sage: var('b, c')\n",
       "      (b, c)\n",
       "      sage: solve((b-1)*(c-1), [b,c])\n",
       "      [[b == 1, c == r...], [b == r..., c == 1]]\n",
       "\n",
       "   Especially with trigonometric functions, the dummy variable may be\n",
       "   implicitly an integer (hence the \"z\"):\n",
       "\n",
       "      sage: solve( sin(x)==cos(x), x, to_poly_solve=True)\n",
       "      [x == 1/4*pi + pi*z...]\n",
       "      sage: solve([cos(x)*sin(x) == 1/2, x+y == 0],x,y)\n",
       "      [[x == 1/4*pi + pi*z..., y == -1/4*pi - pi*z...]]\n",
       "\n",
       "   Expressions which are not equations are assumed to be set equal to\n",
       "   zero, as with x in the following example:\n",
       "\n",
       "      sage: solve([x, y == 2],x,y)\n",
       "      [[x == 0, y == 2]]\n",
       "\n",
       "   If \"True\" appears in the list of equations it is ignored, and if\n",
       "   \"False\" appears in the list then no solutions are returned. E.g.,\n",
       "   note that the first \"3==3\" evaluates to \"True\", not to a symbolic\n",
       "   equation.\n",
       "\n",
       "      sage: solve([3==3, 1.00000000000000*x^3 == 0], x)\n",
       "      [x == 0]\n",
       "      sage: solve([1.00000000000000*x^3 == 0], x)\n",
       "      [x == 0]\n",
       "\n",
       "   Here, the first equation evaluates to \"False\", so there are no\n",
       "   solutions:\n",
       "\n",
       "      sage: solve([1==3, 1.00000000000000*x^3 == 0], x)\n",
       "      []\n",
       "\n",
       "   Completely symbolic solutions are supported:\n",
       "\n",
       "      sage: var('s,j,b,m,g')\n",
       "      (s, j, b, m, g)\n",
       "      sage: sys = [ m*(1-s) - b*s*j, b*s*j-g*j ]\n",
       "      sage: solve(sys,s,j)\n",
       "      [[s == 1, j == 0], [s == g/b, j == (b - g)*m/(b*g)]]\n",
       "      sage: solve(sys,(s,j))\n",
       "      [[s == 1, j == 0], [s == g/b, j == (b - g)*m/(b*g)]]\n",
       "      sage: solve(sys,[s,j])\n",
       "      [[s == 1, j == 0], [s == g/b, j == (b - g)*m/(b*g)]]\n",
       "\n",
       "      sage: z = var('z')\n",
       "      sage: solve((x-z)^2==2, x)\n",
       "      [x == z - sqrt(2), x == z + sqrt(2)]\n",
       "\n",
       "   Inequalities can be also solved:\n",
       "\n",
       "      sage: solve(x^2>8,x)\n",
       "      [[x < -2*sqrt(2)], [x > 2*sqrt(2)]]\n",
       "      sage: x,y = var('x,y'); (ln(x)-ln(y)>0).solve(x)\n",
       "      [[log(x) - log(y) > 0]]\n",
       "      sage: x,y = var('x,y'); (ln(x)>ln(y)).solve(x)  # random\n",
       "      [[0 < y, y < x, 0 < x]]\n",
       "      [[y < x, 0 < y]]\n",
       "\n",
       "   A simple example to show the use of the keyword \"multiplicities\":\n",
       "\n",
       "      sage: ((x^2-1)^2).solve(x)\n",
       "      [x == -1, x == 1]\n",
       "      sage: ((x^2-1)^2).solve(x,multiplicities=True)\n",
       "      ([x == -1, x == 1], [2, 2])\n",
       "      sage: ((x^2-1)^2).solve(x,multiplicities=True,to_poly_solve=True)\n",
       "      Traceback (most recent call last):\n",
       "      ...\n",
       "      NotImplementedError: to_poly_solve does not return multiplicities\n",
       "\n",
       "   Here is how the \"explicit_solutions\" keyword functions:\n",
       "\n",
       "      sage: solve(sin(x)==x,x)\n",
       "      [x == sin(x)]\n",
       "      sage: solve(sin(x)==x,x,explicit_solutions=True)\n",
       "      []\n",
       "      sage: solve(x*sin(x)==x^2,x)\n",
       "      [x == 0, x == sin(x)]\n",
       "      sage: solve(x*sin(x)==x^2,x,explicit_solutions=True)\n",
       "      [x == 0]\n",
       "\n",
       "   The following examples show the use of the keyword \"to_poly_solve\":\n",
       "\n",
       "      sage: solve(abs(1-abs(1-x)) == 10, x)\n",
       "      [abs(abs(x - 1) - 1) == 10]\n",
       "      sage: solve(abs(1-abs(1-x)) == 10, x, to_poly_solve=True)\n",
       "      [x == -10, x == 12]\n",
       "\n",
       "      sage: var('Q')\n",
       "      Q\n",
       "      sage: solve(Q*sqrt(Q^2 + 2) - 1, Q)\n",
       "      [Q == 1/sqrt(Q^2 + 2)]\n",
       "\n",
       "   The following example is a regression in Maxima 5.39.0. It used to\n",
       "   be possible to get one more solution here, namely \"1/sqrt(sqrt(2) +\n",
       "   1)\", see https://sourceforge.net/p/maxima/bugs/3276/:\n",
       "\n",
       "      sage: solve(Q*sqrt(Q^2 + 2) - 1, Q, to_poly_solve=True)\n",
       "      [Q == -sqrt(-sqrt(2) - 1), Q == sqrt(sqrt(2) + 1)*(sqrt(2) - 1)]\n",
       "\n",
       "   An effort is made to only return solutions that satisfy the current\n",
       "   assumptions:\n",
       "\n",
       "      sage: solve(x^2==4, x)\n",
       "      [x == -2, x == 2]\n",
       "      sage: assume(x<0)\n",
       "      sage: solve(x^2==4, x)\n",
       "      [x == -2]\n",
       "      sage: solve((x^2-4)^2 == 0, x, multiplicities=True)\n",
       "      ([x == -2], [2])\n",
       "      sage: solve(x^2==2, x)\n",
       "      [x == -sqrt(2)]\n",
       "      sage: z = var('z')\n",
       "      sage: solve(x^2==2-z, x)\n",
       "      [x == -sqrt(-z + 2)]\n",
       "      sage: assume(x, 'rational')\n",
       "      sage: solve(x^2 == 2, x)\n",
       "      []\n",
       "\n",
       "   In some cases it may be worthwhile to directly use \"to_poly_solve\"\n",
       "   if one suspects some answers are being missed:\n",
       "\n",
       "      sage: forget()\n",
       "      sage: solve(cos(x)==0, x)\n",
       "      [x == 1/2*pi]\n",
       "      sage: solve(cos(x)==0, x, to_poly_solve=True)\n",
       "      [x == 1/2*pi]\n",
       "      sage: solve(cos(x)==0, x, to_poly_solve='force')\n",
       "      [x == 1/2*pi + pi*z...]\n",
       "\n",
       "   The same may also apply if a returned unsolved expression has a\n",
       "   denominator, but the original one did not:\n",
       "\n",
       "      sage: solve(cos(x) * sin(x) == 1/2, x, to_poly_solve=True)\n",
       "      [sin(x) == 1/2/cos(x)]\n",
       "      sage: solve(cos(x) * sin(x) == 1/2, x, to_poly_solve=True, explicit_solutions=True)\n",
       "      [x == 1/4*pi + pi*z...]\n",
       "      sage: solve(cos(x) * sin(x) == 1/2, x, to_poly_solve='force')\n",
       "      [x == 1/4*pi + pi*z...]\n",
       "\n",
       "   We use \"use_grobner\" in Maxima if no solution is obtained from\n",
       "   Maxima's \"to_poly_solve\":\n",
       "\n",
       "      sage: x,y = var('x y')\n",
       "      sage: c1(x,y) = (x-5)^2+y^2-16\n",
       "      sage: c2(x,y) = (y-3)^2+x^2-9\n",
       "      sage: solve([c1(x,y),c2(x,y)],[x,y])\n",
       "      [[x == -9/68*sqrt(55) + 135/68, y == -15/68*sqrt(55) + 123/68],\n",
       "       [x == 9/68*sqrt(55) + 135/68, y == 15/68*sqrt(55) + 123/68]]\n",
       "\n",
       "   We use SymPy for Diophantine equations, see\n",
       "   \"Expression.solve_diophantine\":\n",
       "\n",
       "      sage: assume(x, 'integer')\n",
       "      sage: assume(z, 'integer')\n",
       "      sage: solve((x-z)^2==2, x)\n",
       "      []\n",
       "\n",
       "      sage: forget()\n",
       "\n",
       "   The following shows some more of SymPy's capabilities that cannot\n",
       "   be handled by Maxima:\n",
       "\n",
       "      sage: _ = var('t')\n",
       "      sage: r = solve([x^2 - y^2/exp(x), y-1], x, y, algorithm='sympy')\n",
       "      sage: (r[0][x], r[0][y])\n",
       "      (2*lambert_w(-1/2), 1)\n",
       "      sage: solve(-2*x**3 + 4*x**2 - 2*x + 6 > 0, x, algorithm='sympy')\n",
       "      [x < 1/3*(1/2)^(1/3)*(9*sqrt(77) + 79)^(1/3) + 2/3*(1/2)^(2/3)/(9*sqrt(77) + 79)^(1/3) + 2/3]\n",
       "      sage: solve(sqrt(2*x^2 - 7) - (3 - x),x,algorithm='sympy')\n",
       "      [x == -8, x == 2]\n",
       "      sage: solve(sqrt(2*x + 9) - sqrt(x + 1) - sqrt(x + 4),x,algorithm='sympy')\n",
       "      [x == 0]\n",
       "      sage: r = solve([x + y + z + t, -z - t], x, y, z, t, algorithm='sympy')\n",
       "      sage: (r[0][x], r[0][z])\n",
       "      (-y, -t)\n",
       "      sage: r = solve([x^2+y+z, y+x^2+z, x+y+z^2], x, y,z, algorithm='sympy')\n",
       "      sage: (r[0][x], r[0][y])\n",
       "      (z, -(z + 1)*z)\n",
       "      sage: (r[1][x], r[1][y])\n",
       "      (-z + 1, -z^2 + z - 1)\n",
       "      sage: solve(abs(x + 3) - 2*abs(x - 3),x,algorithm='sympy',domain='real')\n",
       "      [x == 1, x == 9]\n",
       "\n",
       "   We cannot translate all results from SymPy but we can at least\n",
       "   print them:\n",
       "\n",
       "      sage: solve(sinh(x) - 2*cosh(x),x,algorithm='sympy')\n",
       "      [ImageSet(Lambda(_n, I*(2*_n*pi + pi/2) + log(sqrt(3))), Integers),\n",
       "       ImageSet(Lambda(_n, I*(2*_n*pi - pi/2) + log(sqrt(3))), Integers)]\n",
       "      sage: solve(2*sin(x) - 2*sin(2*x), x,algorithm='sympy')\n",
       "      [ImageSet(Lambda(_n, 2*_n*pi), Integers),\n",
       "       ImageSet(Lambda(_n, 2*_n*pi + pi), Integers),\n",
       "       ImageSet(Lambda(_n, 2*_n*pi + 5*pi/3), Integers),\n",
       "       ImageSet(Lambda(_n, 2*_n*pi + pi/3), Integers)]\n",
       "\n",
       "      sage: solve(x^5 + 3*x^3 + 7, x, algorithm='sympy')[0] # known bug\n",
       "      complex_root_of(x^5 + 3*x^3 + 7, 0)\n",
       "\n",
       "   A basic interface to Giac is provided:\n",
       "\n",
       "      sage: solve([(2/3)^x-2], [x], algorithm='giac')\n",
       "      ...[[-log(2)/(log(3) - log(2))]]\n",
       "\n",
       "      sage: f = (sin(x) - 8*cos(x)*sin(x))*(sin(x)^2 + cos(x)) - (2*cos(x)*sin(x) - sin(x))*(-2*sin(x)^2 + 2*cos(x)^2 - cos(x))\n",
       "      sage: solve(f, x, algorithm='giac')\n",
       "      ...[-2*arctan(sqrt(2)), 0, 2*arctan(sqrt(2)), pi]\n",
       "\n",
       "      sage: x, y = SR.var('x,y')\n",
       "      sage: solve([x+y-4,x*y-3],[x,y],algorithm='giac')\n",
       "      [[1, 3], [3, 1]]\n",
       "\u001b[0;31mSource:\u001b[0m   \n",
       "\u001b[0;32mdef\u001b[0m \u001b[0msolve\u001b[0m\u001b[0;34m(\u001b[0m\u001b[0mf\u001b[0m\u001b[0;34m,\u001b[0m \u001b[0;34m*\u001b[0m\u001b[0margs\u001b[0m\u001b[0;34m,\u001b[0m \u001b[0;34m**\u001b[0m\u001b[0mkwds\u001b[0m\u001b[0;34m)\u001b[0m\u001b[0;34m:\u001b[0m\u001b[0;34m\u001b[0m\n",
       "\u001b[0;34m\u001b[0m    \u001b[0;34mr\"\"\"\u001b[0m\n",
       "\u001b[0;34m    Algebraically solve an equation or system of equations (over the\u001b[0m\n",
       "\u001b[0;34m    complex numbers) for given variables. Inequalities and systems\u001b[0m\n",
       "\u001b[0;34m    of inequalities are also supported.\u001b[0m\n",
       "\u001b[0;34m\u001b[0m\n",
       "\u001b[0;34m    INPUT:\u001b[0m\n",
       "\u001b[0;34m\u001b[0m\n",
       "\u001b[0;34m    -  ``f`` - equation or system of equations (given by a\u001b[0m\n",
       "\u001b[0;34m       list or tuple)\u001b[0m\n",
       "\u001b[0;34m\u001b[0m\n",
       "\u001b[0;34m    -  ``*args`` - variables to solve for.\u001b[0m\n",
       "\u001b[0;34m\u001b[0m\n",
       "\u001b[0;34m    -  ``solution_dict`` - bool (default: False); if True or non-zero,\u001b[0m\n",
       "\u001b[0;34m       return a list of dictionaries containing the solutions. If there\u001b[0m\n",
       "\u001b[0;34m       are no solutions, return an empty list (rather than a list containing\u001b[0m\n",
       "\u001b[0;34m       an empty dictionary). Likewise, if there's only a single solution,\u001b[0m\n",
       "\u001b[0;34m       return a list containing one dictionary with that solution.\u001b[0m\n",
       "\u001b[0;34m\u001b[0m\n",
       "\u001b[0;34m    There are a few optional keywords if you are trying to solve a single\u001b[0m\n",
       "\u001b[0;34m    equation.  They may only be used in that context.\u001b[0m\n",
       "\u001b[0;34m\u001b[0m\n",
       "\u001b[0;34m    -  ``multiplicities`` - bool (default: False); if True,\u001b[0m\n",
       "\u001b[0;34m       return corresponding multiplicities.  This keyword is\u001b[0m\n",
       "\u001b[0;34m       incompatible with ``to_poly_solve=True`` and does not make\u001b[0m\n",
       "\u001b[0;34m       any sense when solving inequalities.\u001b[0m\n",
       "\u001b[0;34m\u001b[0m\n",
       "\u001b[0;34m    -  ``explicit_solutions`` - bool (default: False); require that\u001b[0m\n",
       "\u001b[0;34m       all roots be explicit rather than implicit. Not used\u001b[0m\n",
       "\u001b[0;34m       when solving inequalities.\u001b[0m\n",
       "\u001b[0;34m\u001b[0m\n",
       "\u001b[0;34m    -  ``to_poly_solve`` - bool (default: False) or string; use\u001b[0m\n",
       "\u001b[0;34m       Maxima's ``to_poly_solver`` package to search for more possible\u001b[0m\n",
       "\u001b[0;34m       solutions, but possibly encounter approximate solutions.\u001b[0m\n",
       "\u001b[0;34m       This keyword is incompatible with ``multiplicities=True``\u001b[0m\n",
       "\u001b[0;34m       and is not used when solving inequalities. Setting ``to_poly_solve``\u001b[0m\n",
       "\u001b[0;34m       to 'force' (string) omits Maxima's solve command (useful when\u001b[0m\n",
       "\u001b[0;34m       some solutions of trigonometric equations are lost).\u001b[0m\n",
       "\u001b[0;34m\u001b[0m\n",
       "\u001b[0;34m    - ``algorithm`` - string (default: 'maxima'); to use SymPy's\u001b[0m\n",
       "\u001b[0;34m      solvers set this to 'sympy'. Note that SymPy is always used\u001b[0m\n",
       "\u001b[0;34m      for diophantine equations. Another choice is 'giac'.\u001b[0m\n",
       "\u001b[0;34m\u001b[0m\n",
       "\u001b[0;34m    - ``domain`` - string (default: 'complex'); setting this to 'real'\u001b[0m\n",
       "\u001b[0;34m      changes the way SymPy solves single equations; inequalities\u001b[0m\n",
       "\u001b[0;34m      are always solved in the real domain.\u001b[0m\n",
       "\u001b[0;34m\u001b[0m\n",
       "\u001b[0;34m    EXAMPLES::\u001b[0m\n",
       "\u001b[0;34m\u001b[0m\n",
       "\u001b[0;34m        sage: x, y = var('x, y')\u001b[0m\n",
       "\u001b[0;34m        sage: solve([x+y==6, x-y==4], x, y)\u001b[0m\n",
       "\u001b[0;34m        [[x == 5, y == 1]]\u001b[0m\n",
       "\u001b[0;34m        sage: solve([x^2+y^2 == 1, y^2 == x^3 + x + 1], x, y)\u001b[0m\n",
       "\u001b[0;34m        [[x == -1/2*I*sqrt(3) - 1/2, y == -sqrt(-1/2*I*sqrt(3) + 3/2)],\u001b[0m\n",
       "\u001b[0;34m         [x == -1/2*I*sqrt(3) - 1/2, y == sqrt(-1/2*I*sqrt(3) + 3/2)],\u001b[0m\n",
       "\u001b[0;34m         [x == 1/2*I*sqrt(3) - 1/2, y == -sqrt(1/2*I*sqrt(3) + 3/2)],\u001b[0m\n",
       "\u001b[0;34m         [x == 1/2*I*sqrt(3) - 1/2, y == sqrt(1/2*I*sqrt(3) + 3/2)],\u001b[0m\n",
       "\u001b[0;34m         [x == 0, y == -1],\u001b[0m\n",
       "\u001b[0;34m         [x == 0, y == 1]]\u001b[0m\n",
       "\u001b[0;34m        sage: solve([sqrt(x) + sqrt(y) == 5, x + y == 10], x, y)\u001b[0m\n",
       "\u001b[0;34m        [[x == -5/2*I*sqrt(5) + 5, y == 5/2*I*sqrt(5) + 5], [x == 5/2*I*sqrt(5) + 5, y == -5/2*I*sqrt(5) + 5]]\u001b[0m\n",
       "\u001b[0;34m        sage: solutions = solve([x^2+y^2 == 1, y^2 == x^3 + x + 1], x, y, solution_dict=True)\u001b[0m\n",
       "\u001b[0;34m        sage: for solution in solutions: print(\"{} , {}\".format(solution[x].n(digits=3), solution[y].n(digits=3)))\u001b[0m\n",
       "\u001b[0;34m        -0.500 - 0.866*I , -1.27 + 0.341*I\u001b[0m\n",
       "\u001b[0;34m        -0.500 - 0.866*I , 1.27 - 0.341*I\u001b[0m\n",
       "\u001b[0;34m        -0.500 + 0.866*I , -1.27 - 0.341*I\u001b[0m\n",
       "\u001b[0;34m        -0.500 + 0.866*I , 1.27 + 0.341*I\u001b[0m\n",
       "\u001b[0;34m        0.000 , -1.00\u001b[0m\n",
       "\u001b[0;34m        0.000 , 1.00\u001b[0m\n",
       "\u001b[0;34m\u001b[0m\n",
       "\u001b[0;34m    Whenever possible, answers will be symbolic, but with systems of\u001b[0m\n",
       "\u001b[0;34m    equations, at times approximations will be given by Maxima, due to the\u001b[0m\n",
       "\u001b[0;34m    underlying algorithm::\u001b[0m\n",
       "\u001b[0;34m\u001b[0m\n",
       "\u001b[0;34m        sage: sols = solve([x^3==y,y^2==x], [x,y]); sols[-1], sols[0] # abs tol 1e-15\u001b[0m\n",
       "\u001b[0;34m        ([x == 0, y == 0],\u001b[0m\n",
       "\u001b[0;34m         [x == (0.3090169943749475 + 0.9510565162951535*I),\u001b[0m\n",
       "\u001b[0;34m          y == (-0.8090169943749475 - 0.5877852522924731*I)])\u001b[0m\n",
       "\u001b[0;34m        sage: sols[0][0].rhs().pyobject().parent()\u001b[0m\n",
       "\u001b[0;34m        Complex Double Field\u001b[0m\n",
       "\u001b[0;34m\u001b[0m\n",
       "\u001b[0;34m        sage: solve([y^6==y],y)\u001b[0m\n",
       "\u001b[0;34m        [y == 1/4*sqrt(5) + 1/4*I*sqrt(2*sqrt(5) + 10) - 1/4,\u001b[0m\n",
       "\u001b[0;34m         y == -1/4*sqrt(5) + 1/4*I*sqrt(-2*sqrt(5) + 10) - 1/4,\u001b[0m\n",
       "\u001b[0;34m         y == -1/4*sqrt(5) - 1/4*I*sqrt(-2*sqrt(5) + 10) - 1/4,\u001b[0m\n",
       "\u001b[0;34m         y == 1/4*sqrt(5) - 1/4*I*sqrt(2*sqrt(5) + 10) - 1/4,\u001b[0m\n",
       "\u001b[0;34m         y == 1,\u001b[0m\n",
       "\u001b[0;34m         y == 0]\u001b[0m\n",
       "\u001b[0;34m        sage: solve( [y^6 == y], y)==solve( y^6 == y, y)\u001b[0m\n",
       "\u001b[0;34m        True\u001b[0m\n",
       "\u001b[0;34m\u001b[0m\n",
       "\u001b[0;34m    Here we demonstrate very basic use of the optional keywords::\u001b[0m\n",
       "\u001b[0;34m\u001b[0m\n",
       "\u001b[0;34m        sage: ((x^2-1)^2).solve(x)\u001b[0m\n",
       "\u001b[0;34m        [x == -1, x == 1]\u001b[0m\n",
       "\u001b[0;34m        sage: ((x^2-1)^2).solve(x,multiplicities=True)\u001b[0m\n",
       "\u001b[0;34m        ([x == -1, x == 1], [2, 2])\u001b[0m\n",
       "\u001b[0;34m        sage: solve(sin(x)==x,x)\u001b[0m\n",
       "\u001b[0;34m        [x == sin(x)]\u001b[0m\n",
       "\u001b[0;34m        sage: solve(sin(x)==x,x,explicit_solutions=True)\u001b[0m\n",
       "\u001b[0;34m        []\u001b[0m\n",
       "\u001b[0;34m        sage: solve(abs(1-abs(1-x)) == 10, x)\u001b[0m\n",
       "\u001b[0;34m        [abs(abs(x - 1) - 1) == 10]\u001b[0m\n",
       "\u001b[0;34m        sage: solve(abs(1-abs(1-x)) == 10, x, to_poly_solve=True)\u001b[0m\n",
       "\u001b[0;34m        [x == -10, x == 12]\u001b[0m\n",
       "\u001b[0;34m\u001b[0m\n",
       "\u001b[0;34m        sage: from sage.symbolic.expression import Expression\u001b[0m\n",
       "\u001b[0;34m        sage: Expression.solve(x^2==1,x)\u001b[0m\n",
       "\u001b[0;34m        [x == -1, x == 1]\u001b[0m\n",
       "\u001b[0;34m\u001b[0m\n",
       "\u001b[0;34m    We must solve with respect to actual variables::\u001b[0m\n",
       "\u001b[0;34m\u001b[0m\n",
       "\u001b[0;34m        sage: z = 5\u001b[0m\n",
       "\u001b[0;34m        sage: solve([8*z + y == 3, -z +7*y == 0],y,z)\u001b[0m\n",
       "\u001b[0;34m        Traceback (most recent call last):\u001b[0m\n",
       "\u001b[0;34m        ...\u001b[0m\n",
       "\u001b[0;34m        TypeError: 5 is not a valid variable.\u001b[0m\n",
       "\u001b[0;34m\u001b[0m\n",
       "\u001b[0;34m    If we ask for dictionaries containing the solutions, we get them::\u001b[0m\n",
       "\u001b[0;34m\u001b[0m\n",
       "\u001b[0;34m        sage: solve([x^2-1],x,solution_dict=True)\u001b[0m\n",
       "\u001b[0;34m        [{x: -1}, {x: 1}]\u001b[0m\n",
       "\u001b[0;34m        sage: solve([x^2-4*x+4],x,solution_dict=True)\u001b[0m\n",
       "\u001b[0;34m        [{x: 2}]\u001b[0m\n",
       "\u001b[0;34m        sage: res = solve([x^2 == y, y == 4],x,y,solution_dict=True)\u001b[0m\n",
       "\u001b[0;34m        sage: for soln in res: print(\"x: %s, y: %s\" % (soln[x], soln[y]))\u001b[0m\n",
       "\u001b[0;34m        x: 2, y: 4\u001b[0m\n",
       "\u001b[0;34m        x: -2, y: 4\u001b[0m\n",
       "\u001b[0;34m\u001b[0m\n",
       "\u001b[0;34m    If there is a parameter in the answer, that will show up as\u001b[0m\n",
       "\u001b[0;34m    a new variable.  In the following example, ``r1`` is an arbitrary\u001b[0m\n",
       "\u001b[0;34m    constant (because of the ``r``)::\u001b[0m\n",
       "\u001b[0;34m\u001b[0m\n",
       "\u001b[0;34m        sage: forget()\u001b[0m\n",
       "\u001b[0;34m        sage: x, y = var('x,y')\u001b[0m\n",
       "\u001b[0;34m        sage: solve([x+y == 3, 2*x+2*y == 6],x,y)\u001b[0m\n",
       "\u001b[0;34m        [[x == -r1 + 3, y == r1]]\u001b[0m\n",
       "\u001b[0;34m\u001b[0m\n",
       "\u001b[0;34m        sage: var('b, c')\u001b[0m\n",
       "\u001b[0;34m        (b, c)\u001b[0m\n",
       "\u001b[0;34m        sage: solve((b-1)*(c-1), [b,c])\u001b[0m\n",
       "\u001b[0;34m        [[b == 1, c == r...], [b == r..., c == 1]]\u001b[0m\n",
       "\u001b[0;34m\u001b[0m\n",
       "\u001b[0;34m    Especially with trigonometric functions, the dummy variable may\u001b[0m\n",
       "\u001b[0;34m    be implicitly an integer (hence the ``z``)::\u001b[0m\n",
       "\u001b[0;34m\u001b[0m\n",
       "\u001b[0;34m        sage: solve( sin(x)==cos(x), x, to_poly_solve=True)\u001b[0m\n",
       "\u001b[0;34m        [x == 1/4*pi + pi*z...]\u001b[0m\n",
       "\u001b[0;34m        sage: solve([cos(x)*sin(x) == 1/2, x+y == 0],x,y)\u001b[0m\n",
       "\u001b[0;34m        [[x == 1/4*pi + pi*z..., y == -1/4*pi - pi*z...]]\u001b[0m\n",
       "\u001b[0;34m\u001b[0m\n",
       "\u001b[0;34m    Expressions which are not equations are assumed to be set equal\u001b[0m\n",
       "\u001b[0;34m    to zero, as with `x` in the following example::\u001b[0m\n",
       "\u001b[0;34m\u001b[0m\n",
       "\u001b[0;34m        sage: solve([x, y == 2],x,y)\u001b[0m\n",
       "\u001b[0;34m        [[x == 0, y == 2]]\u001b[0m\n",
       "\u001b[0;34m\u001b[0m\n",
       "\u001b[0;34m    If ``True`` appears in the list of equations it is\u001b[0m\n",
       "\u001b[0;34m    ignored, and if ``False`` appears in the list then no\u001b[0m\n",
       "\u001b[0;34m    solutions are returned. E.g., note that the first\u001b[0m\n",
       "\u001b[0;34m    ``3==3`` evaluates to ``True``, not to a\u001b[0m\n",
       "\u001b[0;34m    symbolic equation.\u001b[0m\n",
       "\u001b[0;34m\u001b[0m\n",
       "\u001b[0;34m    ::\u001b[0m\n",
       "\u001b[0;34m\u001b[0m\n",
       "\u001b[0;34m        sage: solve([3==3, 1.00000000000000*x^3 == 0], x)\u001b[0m\n",
       "\u001b[0;34m        [x == 0]\u001b[0m\n",
       "\u001b[0;34m        sage: solve([1.00000000000000*x^3 == 0], x)\u001b[0m\n",
       "\u001b[0;34m        [x == 0]\u001b[0m\n",
       "\u001b[0;34m\u001b[0m\n",
       "\u001b[0;34m    Here, the first equation evaluates to ``False``, so\u001b[0m\n",
       "\u001b[0;34m    there are no solutions::\u001b[0m\n",
       "\u001b[0;34m\u001b[0m\n",
       "\u001b[0;34m        sage: solve([1==3, 1.00000000000000*x^3 == 0], x)\u001b[0m\n",
       "\u001b[0;34m        []\u001b[0m\n",
       "\u001b[0;34m\u001b[0m\n",
       "\u001b[0;34m    Completely symbolic solutions are supported::\u001b[0m\n",
       "\u001b[0;34m\u001b[0m\n",
       "\u001b[0;34m        sage: var('s,j,b,m,g')\u001b[0m\n",
       "\u001b[0;34m        (s, j, b, m, g)\u001b[0m\n",
       "\u001b[0;34m        sage: sys = [ m*(1-s) - b*s*j, b*s*j-g*j ]\u001b[0m\n",
       "\u001b[0;34m        sage: solve(sys,s,j)\u001b[0m\n",
       "\u001b[0;34m        [[s == 1, j == 0], [s == g/b, j == (b - g)*m/(b*g)]]\u001b[0m\n",
       "\u001b[0;34m        sage: solve(sys,(s,j))\u001b[0m\n",
       "\u001b[0;34m        [[s == 1, j == 0], [s == g/b, j == (b - g)*m/(b*g)]]\u001b[0m\n",
       "\u001b[0;34m        sage: solve(sys,[s,j])\u001b[0m\n",
       "\u001b[0;34m        [[s == 1, j == 0], [s == g/b, j == (b - g)*m/(b*g)]]\u001b[0m\n",
       "\u001b[0;34m\u001b[0m\n",
       "\u001b[0;34m        sage: z = var('z')\u001b[0m\n",
       "\u001b[0;34m        sage: solve((x-z)^2==2, x)\u001b[0m\n",
       "\u001b[0;34m        [x == z - sqrt(2), x == z + sqrt(2)]\u001b[0m\n",
       "\u001b[0;34m\u001b[0m\n",
       "\u001b[0;34m    Inequalities can be also solved::\u001b[0m\n",
       "\u001b[0;34m\u001b[0m\n",
       "\u001b[0;34m        sage: solve(x^2>8,x)\u001b[0m\n",
       "\u001b[0;34m        [[x < -2*sqrt(2)], [x > 2*sqrt(2)]]\u001b[0m\n",
       "\u001b[0;34m        sage: x,y = var('x,y'); (ln(x)-ln(y)>0).solve(x)\u001b[0m\n",
       "\u001b[0;34m        [[log(x) - log(y) > 0]]\u001b[0m\n",
       "\u001b[0;34m        sage: x,y = var('x,y'); (ln(x)>ln(y)).solve(x)  # random\u001b[0m\n",
       "\u001b[0;34m        [[0 < y, y < x, 0 < x]]\u001b[0m\n",
       "\u001b[0;34m        [[y < x, 0 < y]]\u001b[0m\n",
       "\u001b[0;34m\u001b[0m\n",
       "\u001b[0;34m    A simple example to show the use of the keyword\u001b[0m\n",
       "\u001b[0;34m    ``multiplicities``::\u001b[0m\n",
       "\u001b[0;34m\u001b[0m\n",
       "\u001b[0;34m        sage: ((x^2-1)^2).solve(x)\u001b[0m\n",
       "\u001b[0;34m        [x == -1, x == 1]\u001b[0m\n",
       "\u001b[0;34m        sage: ((x^2-1)^2).solve(x,multiplicities=True)\u001b[0m\n",
       "\u001b[0;34m        ([x == -1, x == 1], [2, 2])\u001b[0m\n",
       "\u001b[0;34m        sage: ((x^2-1)^2).solve(x,multiplicities=True,to_poly_solve=True)\u001b[0m\n",
       "\u001b[0;34m        Traceback (most recent call last):\u001b[0m\n",
       "\u001b[0;34m        ...\u001b[0m\n",
       "\u001b[0;34m        NotImplementedError: to_poly_solve does not return multiplicities\u001b[0m\n",
       "\u001b[0;34m\u001b[0m\n",
       "\u001b[0;34m    Here is how the ``explicit_solutions`` keyword functions::\u001b[0m\n",
       "\u001b[0;34m\u001b[0m\n",
       "\u001b[0;34m        sage: solve(sin(x)==x,x)\u001b[0m\n",
       "\u001b[0;34m        [x == sin(x)]\u001b[0m\n",
       "\u001b[0;34m        sage: solve(sin(x)==x,x,explicit_solutions=True)\u001b[0m\n",
       "\u001b[0;34m        []\u001b[0m\n",
       "\u001b[0;34m        sage: solve(x*sin(x)==x^2,x)\u001b[0m\n",
       "\u001b[0;34m        [x == 0, x == sin(x)]\u001b[0m\n",
       "\u001b[0;34m        sage: solve(x*sin(x)==x^2,x,explicit_solutions=True)\u001b[0m\n",
       "\u001b[0;34m        [x == 0]\u001b[0m\n",
       "\u001b[0;34m\u001b[0m\n",
       "\u001b[0;34m    The following examples show the use of the keyword ``to_poly_solve``::\u001b[0m\n",
       "\u001b[0;34m\u001b[0m\n",
       "\u001b[0;34m        sage: solve(abs(1-abs(1-x)) == 10, x)\u001b[0m\n",
       "\u001b[0;34m        [abs(abs(x - 1) - 1) == 10]\u001b[0m\n",
       "\u001b[0;34m        sage: solve(abs(1-abs(1-x)) == 10, x, to_poly_solve=True)\u001b[0m\n",
       "\u001b[0;34m        [x == -10, x == 12]\u001b[0m\n",
       "\u001b[0;34m\u001b[0m\n",
       "\u001b[0;34m        sage: var('Q')\u001b[0m\n",
       "\u001b[0;34m        Q\u001b[0m\n",
       "\u001b[0;34m        sage: solve(Q*sqrt(Q^2 + 2) - 1, Q)\u001b[0m\n",
       "\u001b[0;34m        [Q == 1/sqrt(Q^2 + 2)]\u001b[0m\n",
       "\u001b[0;34m\u001b[0m\n",
       "\u001b[0;34m    The following example is a regression in Maxima 5.39.0.\u001b[0m\n",
       "\u001b[0;34m    It used to be possible to get one more solution here,\u001b[0m\n",
       "\u001b[0;34m    namely ``1/sqrt(sqrt(2) + 1)``, see\u001b[0m\n",
       "\u001b[0;34m    https://sourceforge.net/p/maxima/bugs/3276/::\u001b[0m\n",
       "\u001b[0;34m\u001b[0m\n",
       "\u001b[0;34m        sage: solve(Q*sqrt(Q^2 + 2) - 1, Q, to_poly_solve=True)\u001b[0m\n",
       "\u001b[0;34m        [Q == -sqrt(-sqrt(2) - 1), Q == sqrt(sqrt(2) + 1)*(sqrt(2) - 1)]\u001b[0m\n",
       "\u001b[0;34m\u001b[0m\n",
       "\u001b[0;34m    An effort is made to only return solutions that satisfy\u001b[0m\n",
       "\u001b[0;34m    the current assumptions::\u001b[0m\n",
       "\u001b[0;34m\u001b[0m\n",
       "\u001b[0;34m        sage: solve(x^2==4, x)\u001b[0m\n",
       "\u001b[0;34m        [x == -2, x == 2]\u001b[0m\n",
       "\u001b[0;34m        sage: assume(x<0)\u001b[0m\n",
       "\u001b[0;34m        sage: solve(x^2==4, x)\u001b[0m\n",
       "\u001b[0;34m        [x == -2]\u001b[0m\n",
       "\u001b[0;34m        sage: solve((x^2-4)^2 == 0, x, multiplicities=True)\u001b[0m\n",
       "\u001b[0;34m        ([x == -2], [2])\u001b[0m\n",
       "\u001b[0;34m        sage: solve(x^2==2, x)\u001b[0m\n",
       "\u001b[0;34m        [x == -sqrt(2)]\u001b[0m\n",
       "\u001b[0;34m        sage: z = var('z')\u001b[0m\n",
       "\u001b[0;34m        sage: solve(x^2==2-z, x)\u001b[0m\n",
       "\u001b[0;34m        [x == -sqrt(-z + 2)]\u001b[0m\n",
       "\u001b[0;34m        sage: assume(x, 'rational')\u001b[0m\n",
       "\u001b[0;34m        sage: solve(x^2 == 2, x)\u001b[0m\n",
       "\u001b[0;34m        []\u001b[0m\n",
       "\u001b[0;34m\u001b[0m\n",
       "\u001b[0;34m    In some cases it may be worthwhile to directly use ``to_poly_solve``\u001b[0m\n",
       "\u001b[0;34m    if one suspects some answers are being missed::\u001b[0m\n",
       "\u001b[0;34m\u001b[0m\n",
       "\u001b[0;34m        sage: forget()\u001b[0m\n",
       "\u001b[0;34m        sage: solve(cos(x)==0, x)\u001b[0m\n",
       "\u001b[0;34m        [x == 1/2*pi]\u001b[0m\n",
       "\u001b[0;34m        sage: solve(cos(x)==0, x, to_poly_solve=True)\u001b[0m\n",
       "\u001b[0;34m        [x == 1/2*pi]\u001b[0m\n",
       "\u001b[0;34m        sage: solve(cos(x)==0, x, to_poly_solve='force')\u001b[0m\n",
       "\u001b[0;34m        [x == 1/2*pi + pi*z...]\u001b[0m\n",
       "\u001b[0;34m\u001b[0m\n",
       "\u001b[0;34m    The same may also apply if a returned unsolved expression has a\u001b[0m\n",
       "\u001b[0;34m    denominator, but the original one did not::\u001b[0m\n",
       "\u001b[0;34m\u001b[0m\n",
       "\u001b[0;34m        sage: solve(cos(x) * sin(x) == 1/2, x, to_poly_solve=True)\u001b[0m\n",
       "\u001b[0;34m        [sin(x) == 1/2/cos(x)]\u001b[0m\n",
       "\u001b[0;34m        sage: solve(cos(x) * sin(x) == 1/2, x, to_poly_solve=True, explicit_solutions=True)\u001b[0m\n",
       "\u001b[0;34m        [x == 1/4*pi + pi*z...]\u001b[0m\n",
       "\u001b[0;34m        sage: solve(cos(x) * sin(x) == 1/2, x, to_poly_solve='force')\u001b[0m\n",
       "\u001b[0;34m        [x == 1/4*pi + pi*z...]\u001b[0m\n",
       "\u001b[0;34m\u001b[0m\n",
       "\u001b[0;34m    We use ``use_grobner`` in Maxima if no solution is obtained from\u001b[0m\n",
       "\u001b[0;34m    Maxima's ``to_poly_solve``::\u001b[0m\n",
       "\u001b[0;34m\u001b[0m\n",
       "\u001b[0;34m        sage: x,y = var('x y')\u001b[0m\n",
       "\u001b[0;34m        sage: c1(x,y) = (x-5)^2+y^2-16\u001b[0m\n",
       "\u001b[0;34m        sage: c2(x,y) = (y-3)^2+x^2-9\u001b[0m\n",
       "\u001b[0;34m        sage: solve([c1(x,y),c2(x,y)],[x,y])\u001b[0m\n",
       "\u001b[0;34m        [[x == -9/68*sqrt(55) + 135/68, y == -15/68*sqrt(55) + 123/68],\u001b[0m\n",
       "\u001b[0;34m         [x == 9/68*sqrt(55) + 135/68, y == 15/68*sqrt(55) + 123/68]]\u001b[0m\n",
       "\u001b[0;34m\u001b[0m\n",
       "\u001b[0;34m    We use SymPy for Diophantine equations, see\u001b[0m\n",
       "\u001b[0;34m    ``Expression.solve_diophantine``::\u001b[0m\n",
       "\u001b[0;34m\u001b[0m\n",
       "\u001b[0;34m        sage: assume(x, 'integer')\u001b[0m\n",
       "\u001b[0;34m        sage: assume(z, 'integer')\u001b[0m\n",
       "\u001b[0;34m        sage: solve((x-z)^2==2, x)\u001b[0m\n",
       "\u001b[0;34m        []\u001b[0m\n",
       "\u001b[0;34m\u001b[0m\n",
       "\u001b[0;34m        sage: forget()\u001b[0m\n",
       "\u001b[0;34m\u001b[0m\n",
       "\u001b[0;34m    The following shows some more of SymPy's capabilities that cannot be\u001b[0m\n",
       "\u001b[0;34m    handled by Maxima::\u001b[0m\n",
       "\u001b[0;34m\u001b[0m\n",
       "\u001b[0;34m        sage: _ = var('t')\u001b[0m\n",
       "\u001b[0;34m        sage: r = solve([x^2 - y^2/exp(x), y-1], x, y, algorithm='sympy')\u001b[0m\n",
       "\u001b[0;34m        sage: (r[0][x], r[0][y])\u001b[0m\n",
       "\u001b[0;34m        (2*lambert_w(-1/2), 1)\u001b[0m\n",
       "\u001b[0;34m        sage: solve(-2*x**3 + 4*x**2 - 2*x + 6 > 0, x, algorithm='sympy')\u001b[0m\n",
       "\u001b[0;34m        [x < 1/3*(1/2)^(1/3)*(9*sqrt(77) + 79)^(1/3) + 2/3*(1/2)^(2/3)/(9*sqrt(77) + 79)^(1/3) + 2/3]\u001b[0m\n",
       "\u001b[0;34m        sage: solve(sqrt(2*x^2 - 7) - (3 - x),x,algorithm='sympy')\u001b[0m\n",
       "\u001b[0;34m        [x == -8, x == 2]\u001b[0m\n",
       "\u001b[0;34m        sage: solve(sqrt(2*x + 9) - sqrt(x + 1) - sqrt(x + 4),x,algorithm='sympy')\u001b[0m\n",
       "\u001b[0;34m        [x == 0]\u001b[0m\n",
       "\u001b[0;34m        sage: r = solve([x + y + z + t, -z - t], x, y, z, t, algorithm='sympy')\u001b[0m\n",
       "\u001b[0;34m        sage: (r[0][x], r[0][z])\u001b[0m\n",
       "\u001b[0;34m        (-y, -t)\u001b[0m\n",
       "\u001b[0;34m        sage: r = solve([x^2+y+z, y+x^2+z, x+y+z^2], x, y,z, algorithm='sympy')\u001b[0m\n",
       "\u001b[0;34m        sage: (r[0][x], r[0][y])\u001b[0m\n",
       "\u001b[0;34m        (z, -(z + 1)*z)\u001b[0m\n",
       "\u001b[0;34m        sage: (r[1][x], r[1][y])\u001b[0m\n",
       "\u001b[0;34m        (-z + 1, -z^2 + z - 1)\u001b[0m\n",
       "\u001b[0;34m        sage: solve(abs(x + 3) - 2*abs(x - 3),x,algorithm='sympy',domain='real')\u001b[0m\n",
       "\u001b[0;34m        [x == 1, x == 9]\u001b[0m\n",
       "\u001b[0;34m\u001b[0m\n",
       "\u001b[0;34m    We cannot translate all results from SymPy but we can at least\u001b[0m\n",
       "\u001b[0;34m    print them::\u001b[0m\n",
       "\u001b[0;34m\u001b[0m\n",
       "\u001b[0;34m        sage: solve(sinh(x) - 2*cosh(x),x,algorithm='sympy')\u001b[0m\n",
       "\u001b[0;34m        [ImageSet(Lambda(_n, I*(2*_n*pi + pi/2) + log(sqrt(3))), Integers),\u001b[0m\n",
       "\u001b[0;34m         ImageSet(Lambda(_n, I*(2*_n*pi - pi/2) + log(sqrt(3))), Integers)]\u001b[0m\n",
       "\u001b[0;34m        sage: solve(2*sin(x) - 2*sin(2*x), x,algorithm='sympy')\u001b[0m\n",
       "\u001b[0;34m        [ImageSet(Lambda(_n, 2*_n*pi), Integers),\u001b[0m\n",
       "\u001b[0;34m         ImageSet(Lambda(_n, 2*_n*pi + pi), Integers),\u001b[0m\n",
       "\u001b[0;34m         ImageSet(Lambda(_n, 2*_n*pi + 5*pi/3), Integers),\u001b[0m\n",
       "\u001b[0;34m         ImageSet(Lambda(_n, 2*_n*pi + pi/3), Integers)]\u001b[0m\n",
       "\u001b[0;34m\u001b[0m\n",
       "\u001b[0;34m        sage: solve(x^5 + 3*x^3 + 7, x, algorithm='sympy')[0] # known bug\u001b[0m\n",
       "\u001b[0;34m        complex_root_of(x^5 + 3*x^3 + 7, 0)\u001b[0m\n",
       "\u001b[0;34m\u001b[0m\n",
       "\u001b[0;34m    A basic interface to Giac is provided::\u001b[0m\n",
       "\u001b[0;34m\u001b[0m\n",
       "\u001b[0;34m        sage: solve([(2/3)^x-2], [x], algorithm='giac')\u001b[0m\n",
       "\u001b[0;34m        ...[[-log(2)/(log(3) - log(2))]]\u001b[0m\n",
       "\u001b[0;34m\u001b[0m\n",
       "\u001b[0;34m        sage: f = (sin(x) - 8*cos(x)*sin(x))*(sin(x)^2 + cos(x)) - (2*cos(x)*sin(x) - sin(x))*(-2*sin(x)^2 + 2*cos(x)^2 - cos(x))\u001b[0m\n",
       "\u001b[0;34m        sage: solve(f, x, algorithm='giac')\u001b[0m\n",
       "\u001b[0;34m        ...[-2*arctan(sqrt(2)), 0, 2*arctan(sqrt(2)), pi]\u001b[0m\n",
       "\u001b[0;34m\u001b[0m\n",
       "\u001b[0;34m        sage: x, y = SR.var('x,y')\u001b[0m\n",
       "\u001b[0;34m        sage: solve([x+y-4,x*y-3],[x,y],algorithm='giac')\u001b[0m\n",
       "\u001b[0;34m        [[1, 3], [3, 1]]\u001b[0m\n",
       "\u001b[0;34m\u001b[0m\n",
       "\u001b[0;34m    TESTS::\u001b[0m\n",
       "\u001b[0;34m\u001b[0m\n",
       "\u001b[0;34m        sage: solve([sin(x)==x,y^2==x],x,y)\u001b[0m\n",
       "\u001b[0;34m        [sin(x) == x, y^2 == x]\u001b[0m\n",
       "\u001b[0;34m        sage: solve(0==1,x)\u001b[0m\n",
       "\u001b[0;34m        Traceback (most recent call last):\u001b[0m\n",
       "\u001b[0;34m        ...\u001b[0m\n",
       "\u001b[0;34m        TypeError:  The first argument must be a symbolic expression or a list of symbolic expressions.\u001b[0m\n",
       "\u001b[0;34m\u001b[0m\n",
       "\u001b[0;34m    Test if the empty list is returned, too, when (a list of)\u001b[0m\n",
       "\u001b[0;34m    dictionaries (is) are requested (:trac:`8553`)::\u001b[0m\n",
       "\u001b[0;34m\u001b[0m\n",
       "\u001b[0;34m        sage: solve([SR(0)==1],x)\u001b[0m\n",
       "\u001b[0;34m        []\u001b[0m\n",
       "\u001b[0;34m        sage: solve([SR(0)==1],x,solution_dict=True)\u001b[0m\n",
       "\u001b[0;34m        []\u001b[0m\n",
       "\u001b[0;34m        sage: solve([x==1,x==-1],x)\u001b[0m\n",
       "\u001b[0;34m        []\u001b[0m\n",
       "\u001b[0;34m        sage: solve([x==1,x==-1],x,solution_dict=True)\u001b[0m\n",
       "\u001b[0;34m        []\u001b[0m\n",
       "\u001b[0;34m        sage: solve((x==1,x==-1),x,solution_dict=0)\u001b[0m\n",
       "\u001b[0;34m        []\u001b[0m\n",
       "\u001b[0;34m\u001b[0m\n",
       "\u001b[0;34m    Relaxed form, suggested by Mike Hansen (:trac:`8553`)::\u001b[0m\n",
       "\u001b[0;34m\u001b[0m\n",
       "\u001b[0;34m        sage: solve([x^2-1],x,solution_dict=-1)\u001b[0m\n",
       "\u001b[0;34m        [{x: -1}, {x: 1}]\u001b[0m\n",
       "\u001b[0;34m        sage: solve([x^2-1],x,solution_dict=1)\u001b[0m\n",
       "\u001b[0;34m        [{x: -1}, {x: 1}]\u001b[0m\n",
       "\u001b[0;34m        sage: solve((x==1,x==-1),x,solution_dict=-1)\u001b[0m\n",
       "\u001b[0;34m        []\u001b[0m\n",
       "\u001b[0;34m        sage: solve((x==1,x==-1),x,solution_dict=1)\u001b[0m\n",
       "\u001b[0;34m        []\u001b[0m\n",
       "\u001b[0;34m\u001b[0m\n",
       "\u001b[0;34m    This inequality holds for any real ``x`` (:trac:`8078`)::\u001b[0m\n",
       "\u001b[0;34m\u001b[0m\n",
       "\u001b[0;34m        sage: solve(x^4+2>0,x)\u001b[0m\n",
       "\u001b[0;34m        [x < +Infinity]\u001b[0m\n",
       "\u001b[0;34m\u001b[0m\n",
       "\u001b[0;34m    Test for user friendly input handling :trac:`13645`::\u001b[0m\n",
       "\u001b[0;34m\u001b[0m\n",
       "\u001b[0;34m        sage: poly.<a,b> = PolynomialRing(RR)\u001b[0m\n",
       "\u001b[0;34m        sage: solve([a+b+a*b == 1], a)\u001b[0m\n",
       "\u001b[0;34m        Traceback (most recent call last):\u001b[0m\n",
       "\u001b[0;34m        ...\u001b[0m\n",
       "\u001b[0;34m        TypeError: a is not a valid variable.\u001b[0m\n",
       "\u001b[0;34m        sage: a,b = var('a,b')\u001b[0m\n",
       "\u001b[0;34m        sage: solve([a+b+a*b == 1], a)\u001b[0m\n",
       "\u001b[0;34m        [a == -(b - 1)/(b + 1)]\u001b[0m\n",
       "\u001b[0;34m        sage: solve([a, b], (1, a))\u001b[0m\n",
       "\u001b[0;34m        Traceback (most recent call last):\u001b[0m\n",
       "\u001b[0;34m        ...\u001b[0m\n",
       "\u001b[0;34m        TypeError: 1 is not a valid variable.\u001b[0m\n",
       "\u001b[0;34m        sage: solve([x == 1], (1, a))\u001b[0m\n",
       "\u001b[0;34m        Traceback (most recent call last):\u001b[0m\n",
       "\u001b[0;34m        ...\u001b[0m\n",
       "\u001b[0;34m        TypeError: 1 is not a valid variable.\u001b[0m\n",
       "\u001b[0;34m        sage: x.solve((1,2))\u001b[0m\n",
       "\u001b[0;34m        Traceback (most recent call last):\u001b[0m\n",
       "\u001b[0;34m        ...\u001b[0m\n",
       "\u001b[0;34m        TypeError: 1 is not a valid variable.\u001b[0m\n",
       "\u001b[0;34m\u001b[0m\n",
       "\u001b[0;34m    Test that the original version of a system in the French Sage book\u001b[0m\n",
       "\u001b[0;34m    now works (:trac:`14306`)::\u001b[0m\n",
       "\u001b[0;34m\u001b[0m\n",
       "\u001b[0;34m        sage: var('y,z')\u001b[0m\n",
       "\u001b[0;34m        (y, z)\u001b[0m\n",
       "\u001b[0;34m        sage: solve([x^2 * y * z == 18, x * y^3 * z == 24, x * y * z^4 == 6], x, y, z)\u001b[0m\n",
       "\u001b[0;34m        [[x == 3, y == 2, z == 1],\u001b[0m\n",
       "\u001b[0;34m         [x == (1.337215067... - 2.685489874...*I),\u001b[0m\n",
       "\u001b[0;34m          y == (-1.700434271... + 1.052864325...*I),\u001b[0m\n",
       "\u001b[0;34m          z == (0.9324722294... - 0.3612416661...*I)],\u001b[0m\n",
       "\u001b[0;34m         ...]\u001b[0m\n",
       "\u001b[0;34m\u001b[0m\n",
       "\u001b[0;34m    :trac:`13286` fixed::\u001b[0m\n",
       "\u001b[0;34m\u001b[0m\n",
       "\u001b[0;34m        sage: solve([x-4], [x])\u001b[0m\n",
       "\u001b[0;34m        [x == 4]\u001b[0m\n",
       "\u001b[0;34m\u001b[0m\n",
       "\u001b[0;34m    Test for a list of non-symbolic expressions as first argument\u001b[0m\n",
       "\u001b[0;34m    (:trac:`31714`)::\u001b[0m\n",
       "\u001b[0;34m\u001b[0m\n",
       "\u001b[0;34m        sage: solve([1], x)\u001b[0m\n",
       "\u001b[0;34m        Traceback (most recent call last):\u001b[0m\n",
       "\u001b[0;34m        ...\u001b[0m\n",
       "\u001b[0;34m        TypeError: The first argument to solve() should be a symbolic expression\u001b[0m\n",
       "\u001b[0;34m        or a list of symbolic expressions.\u001b[0m\n",
       "\u001b[0;34m    \"\"\"\u001b[0m\u001b[0;34m\u001b[0m\n",
       "\u001b[0;34m\u001b[0m    \u001b[0;32mfrom\u001b[0m \u001b[0msage\u001b[0m\u001b[0;34m.\u001b[0m\u001b[0mstructure\u001b[0m\u001b[0;34m.\u001b[0m\u001b[0melement\u001b[0m \u001b[0;32mimport\u001b[0m \u001b[0mExpression\u001b[0m\u001b[0;34m\u001b[0m\n",
       "\u001b[0;34m\u001b[0m    \u001b[0mexplicit_solutions\u001b[0m \u001b[0;34m=\u001b[0m \u001b[0mkwds\u001b[0m\u001b[0;34m.\u001b[0m\u001b[0mget\u001b[0m\u001b[0;34m(\u001b[0m\u001b[0;34m'explicit_solutions'\u001b[0m\u001b[0;34m,\u001b[0m \u001b[0;32mNone\u001b[0m\u001b[0;34m)\u001b[0m\u001b[0;34m\u001b[0m\n",
       "\u001b[0;34m\u001b[0m    \u001b[0mmultiplicities\u001b[0m \u001b[0;34m=\u001b[0m \u001b[0mkwds\u001b[0m\u001b[0;34m.\u001b[0m\u001b[0mget\u001b[0m\u001b[0;34m(\u001b[0m\u001b[0;34m'multiplicities'\u001b[0m\u001b[0;34m,\u001b[0m \u001b[0;32mNone\u001b[0m\u001b[0;34m)\u001b[0m\u001b[0;34m\u001b[0m\n",
       "\u001b[0;34m\u001b[0m    \u001b[0mto_poly_solve\u001b[0m \u001b[0;34m=\u001b[0m \u001b[0mkwds\u001b[0m\u001b[0;34m.\u001b[0m\u001b[0mget\u001b[0m\u001b[0;34m(\u001b[0m\u001b[0;34m'to_poly_solve'\u001b[0m\u001b[0;34m,\u001b[0m \u001b[0;32mNone\u001b[0m\u001b[0;34m)\u001b[0m\u001b[0;34m\u001b[0m\n",
       "\u001b[0;34m\u001b[0m    \u001b[0msolution_dict\u001b[0m \u001b[0;34m=\u001b[0m \u001b[0mkwds\u001b[0m\u001b[0;34m.\u001b[0m\u001b[0mget\u001b[0m\u001b[0;34m(\u001b[0m\u001b[0;34m'solution_dict'\u001b[0m\u001b[0;34m,\u001b[0m \u001b[0;32mFalse\u001b[0m\u001b[0;34m)\u001b[0m\u001b[0;34m\u001b[0m\n",
       "\u001b[0;34m\u001b[0m    \u001b[0malgorithm\u001b[0m \u001b[0;34m=\u001b[0m \u001b[0mkwds\u001b[0m\u001b[0;34m.\u001b[0m\u001b[0mget\u001b[0m\u001b[0;34m(\u001b[0m\u001b[0;34m'algorithm'\u001b[0m\u001b[0;34m,\u001b[0m \u001b[0;32mNone\u001b[0m\u001b[0;34m)\u001b[0m\u001b[0;34m\u001b[0m\n",
       "\u001b[0;34m\u001b[0m    \u001b[0mdomain\u001b[0m \u001b[0;34m=\u001b[0m \u001b[0mkwds\u001b[0m\u001b[0;34m.\u001b[0m\u001b[0mget\u001b[0m\u001b[0;34m(\u001b[0m\u001b[0;34m'domain'\u001b[0m\u001b[0;34m,\u001b[0m \u001b[0;32mNone\u001b[0m\u001b[0;34m)\u001b[0m\u001b[0;34m\u001b[0m\n",
       "\u001b[0;34m\u001b[0m\u001b[0;34m\u001b[0m\n",
       "\u001b[0;34m\u001b[0m    \u001b[0;32mif\u001b[0m \u001b[0mlen\u001b[0m\u001b[0;34m(\u001b[0m\u001b[0margs\u001b[0m\u001b[0;34m)\u001b[0m \u001b[0;34m>\u001b[0m \u001b[0;36m1\u001b[0m\u001b[0;34m:\u001b[0m\u001b[0;34m\u001b[0m\n",
       "\u001b[0;34m\u001b[0m        \u001b[0mx\u001b[0m \u001b[0;34m=\u001b[0m \u001b[0margs\u001b[0m\u001b[0;34m\u001b[0m\n",
       "\u001b[0;34m\u001b[0m    \u001b[0;32melse\u001b[0m\u001b[0;34m:\u001b[0m\u001b[0;34m\u001b[0m\n",
       "\u001b[0;34m\u001b[0m        \u001b[0mx\u001b[0m \u001b[0;34m=\u001b[0m \u001b[0margs\u001b[0m\u001b[0;34m[\u001b[0m\u001b[0;36m0\u001b[0m\u001b[0;34m]\u001b[0m\u001b[0;34m\u001b[0m\n",
       "\u001b[0;34m\u001b[0m    \u001b[0;32mif\u001b[0m \u001b[0misinstance\u001b[0m\u001b[0;34m(\u001b[0m\u001b[0mx\u001b[0m\u001b[0;34m,\u001b[0m \u001b[0;34m(\u001b[0m\u001b[0mlist\u001b[0m\u001b[0;34m,\u001b[0m \u001b[0mtuple\u001b[0m\u001b[0;34m)\u001b[0m\u001b[0;34m)\u001b[0m\u001b[0;34m:\u001b[0m\u001b[0;34m\u001b[0m\n",
       "\u001b[0;34m\u001b[0m        \u001b[0;32mfor\u001b[0m \u001b[0mi\u001b[0m \u001b[0;32min\u001b[0m \u001b[0mx\u001b[0m\u001b[0;34m:\u001b[0m\u001b[0;34m\u001b[0m\n",
       "\u001b[0;34m\u001b[0m            \u001b[0;32mif\u001b[0m \u001b[0;32mnot\u001b[0m \u001b[0misinstance\u001b[0m\u001b[0;34m(\u001b[0m\u001b[0mi\u001b[0m\u001b[0;34m,\u001b[0m \u001b[0mExpression\u001b[0m\u001b[0;34m)\u001b[0m\u001b[0;34m:\u001b[0m\u001b[0;34m\u001b[0m\n",
       "\u001b[0;34m\u001b[0m                \u001b[0;32mraise\u001b[0m \u001b[0mTypeError\u001b[0m\u001b[0;34m(\u001b[0m\u001b[0;34m\"%s is not a valid variable.\"\u001b[0m \u001b[0;34m%\u001b[0m \u001b[0mrepr\u001b[0m\u001b[0;34m(\u001b[0m\u001b[0mi\u001b[0m\u001b[0;34m)\u001b[0m\u001b[0;34m)\u001b[0m\u001b[0;34m\u001b[0m\n",
       "\u001b[0;34m\u001b[0m    \u001b[0;32melif\u001b[0m \u001b[0mx\u001b[0m \u001b[0;32mis\u001b[0m \u001b[0;32mNone\u001b[0m\u001b[0;34m:\u001b[0m\u001b[0;34m\u001b[0m\n",
       "\u001b[0;34m\u001b[0m        \u001b[0mvars\u001b[0m \u001b[0;34m=\u001b[0m \u001b[0mf\u001b[0m\u001b[0;34m.\u001b[0m\u001b[0mvariables\u001b[0m\u001b[0;34m(\u001b[0m\u001b[0;34m)\u001b[0m\u001b[0;34m\u001b[0m\n",
       "\u001b[0;34m\u001b[0m        \u001b[0;32mif\u001b[0m \u001b[0mlen\u001b[0m\u001b[0;34m(\u001b[0m\u001b[0mvars\u001b[0m\u001b[0;34m)\u001b[0m \u001b[0;34m==\u001b[0m \u001b[0;36m0\u001b[0m\u001b[0;34m:\u001b[0m\u001b[0;34m\u001b[0m\n",
       "\u001b[0;34m\u001b[0m            \u001b[0;32mif\u001b[0m \u001b[0mmultiplicities\u001b[0m\u001b[0;34m:\u001b[0m\u001b[0;34m\u001b[0m\n",
       "\u001b[0;34m\u001b[0m                \u001b[0;32mreturn\u001b[0m \u001b[0;34m[\u001b[0m\u001b[0;34m]\u001b[0m\u001b[0;34m,\u001b[0m \u001b[0;34m[\u001b[0m\u001b[0;34m]\u001b[0m\u001b[0;34m\u001b[0m\n",
       "\u001b[0;34m\u001b[0m            \u001b[0;32melse\u001b[0m\u001b[0;34m:\u001b[0m\u001b[0;34m\u001b[0m\n",
       "\u001b[0;34m\u001b[0m                \u001b[0;32mreturn\u001b[0m \u001b[0;34m[\u001b[0m\u001b[0;34m]\u001b[0m\u001b[0;34m\u001b[0m\n",
       "\u001b[0;34m\u001b[0m        \u001b[0mx\u001b[0m \u001b[0;34m=\u001b[0m \u001b[0mvars\u001b[0m\u001b[0;34m[\u001b[0m\u001b[0;36m0\u001b[0m\u001b[0;34m]\u001b[0m\u001b[0;34m\u001b[0m\n",
       "\u001b[0;34m\u001b[0m    \u001b[0;32melif\u001b[0m \u001b[0;32mnot\u001b[0m \u001b[0misinstance\u001b[0m\u001b[0;34m(\u001b[0m\u001b[0mx\u001b[0m\u001b[0;34m,\u001b[0m \u001b[0mExpression\u001b[0m\u001b[0;34m)\u001b[0m\u001b[0;34m:\u001b[0m\u001b[0;34m\u001b[0m\n",
       "\u001b[0;34m\u001b[0m        \u001b[0;32mraise\u001b[0m \u001b[0mTypeError\u001b[0m\u001b[0;34m(\u001b[0m\u001b[0;34m\"%s is not a valid variable.\"\u001b[0m \u001b[0;34m%\u001b[0m \u001b[0mrepr\u001b[0m\u001b[0;34m(\u001b[0m\u001b[0mx\u001b[0m\u001b[0;34m)\u001b[0m\u001b[0;34m)\u001b[0m\u001b[0;34m\u001b[0m\n",
       "\u001b[0;34m\u001b[0m\u001b[0;34m\u001b[0m\n",
       "\u001b[0;34m\u001b[0m    \u001b[0;32mif\u001b[0m \u001b[0misinstance\u001b[0m\u001b[0;34m(\u001b[0m\u001b[0mf\u001b[0m\u001b[0;34m,\u001b[0m \u001b[0;34m(\u001b[0m\u001b[0mlist\u001b[0m\u001b[0;34m,\u001b[0m \u001b[0mtuple\u001b[0m\u001b[0;34m)\u001b[0m\u001b[0;34m)\u001b[0m \u001b[0;32mand\u001b[0m \u001b[0mlen\u001b[0m\u001b[0;34m(\u001b[0m\u001b[0mf\u001b[0m\u001b[0;34m)\u001b[0m \u001b[0;34m==\u001b[0m \u001b[0;36m1\u001b[0m\u001b[0;34m:\u001b[0m\u001b[0;34m\u001b[0m\n",
       "\u001b[0;34m\u001b[0m        \u001b[0;31m# f is a list with a single element\u001b[0m\u001b[0;34m\u001b[0m\n",
       "\u001b[0;34m\u001b[0m        \u001b[0;32mif\u001b[0m \u001b[0misinstance\u001b[0m\u001b[0;34m(\u001b[0m\u001b[0mf\u001b[0m\u001b[0;34m[\u001b[0m\u001b[0;36m0\u001b[0m\u001b[0;34m]\u001b[0m\u001b[0;34m,\u001b[0m \u001b[0mExpression\u001b[0m\u001b[0;34m)\u001b[0m\u001b[0;34m:\u001b[0m\u001b[0;34m\u001b[0m\n",
       "\u001b[0;34m\u001b[0m            \u001b[0mf\u001b[0m \u001b[0;34m=\u001b[0m \u001b[0mf\u001b[0m\u001b[0;34m[\u001b[0m\u001b[0;36m0\u001b[0m\u001b[0;34m]\u001b[0m\u001b[0;34m\u001b[0m\n",
       "\u001b[0;34m\u001b[0m        \u001b[0;32melse\u001b[0m\u001b[0;34m:\u001b[0m\u001b[0;34m\u001b[0m\n",
       "\u001b[0;34m\u001b[0m            \u001b[0;32mraise\u001b[0m \u001b[0mTypeError\u001b[0m\u001b[0;34m(\u001b[0m\u001b[0;34m\"The first argument to solve() should be a \"\u001b[0m\u001b[0;34m\u001b[0m\n",
       "\u001b[0;34m\u001b[0m                            \u001b[0;34m\"symbolic expression or a list of symbolic \"\u001b[0m\u001b[0;34m\u001b[0m\n",
       "\u001b[0;34m\u001b[0m                            \u001b[0;34m\"expressions.\"\u001b[0m\u001b[0;34m)\u001b[0m\u001b[0;34m\u001b[0m\n",
       "\u001b[0;34m\u001b[0m\u001b[0;34m\u001b[0m\n",
       "\u001b[0;34m\u001b[0m    \u001b[0;32mif\u001b[0m \u001b[0misinstance\u001b[0m\u001b[0;34m(\u001b[0m\u001b[0mf\u001b[0m\u001b[0;34m,\u001b[0m \u001b[0mExpression\u001b[0m\u001b[0;34m)\u001b[0m\u001b[0;34m:\u001b[0m  \u001b[0;31m# f is a single expression\u001b[0m\u001b[0;34m\u001b[0m\n",
       "\u001b[0;34m\u001b[0m        \u001b[0;32mreturn\u001b[0m \u001b[0m_solve_expression\u001b[0m\u001b[0;34m(\u001b[0m\u001b[0mf\u001b[0m\u001b[0;34m,\u001b[0m \u001b[0mx\u001b[0m\u001b[0;34m,\u001b[0m \u001b[0mexplicit_solutions\u001b[0m\u001b[0;34m,\u001b[0m \u001b[0mmultiplicities\u001b[0m\u001b[0;34m,\u001b[0m \u001b[0mto_poly_solve\u001b[0m\u001b[0;34m,\u001b[0m \u001b[0msolution_dict\u001b[0m\u001b[0;34m,\u001b[0m \u001b[0malgorithm\u001b[0m\u001b[0;34m,\u001b[0m \u001b[0mdomain\u001b[0m\u001b[0;34m)\u001b[0m\u001b[0;34m\u001b[0m\n",
       "\u001b[0;34m\u001b[0m\u001b[0;34m\u001b[0m\n",
       "\u001b[0;34m\u001b[0m    \u001b[0;32mif\u001b[0m \u001b[0;32mnot\u001b[0m \u001b[0misinstance\u001b[0m\u001b[0;34m(\u001b[0m\u001b[0mf\u001b[0m\u001b[0;34m,\u001b[0m \u001b[0;34m(\u001b[0m\u001b[0mlist\u001b[0m\u001b[0;34m,\u001b[0m \u001b[0mtuple\u001b[0m\u001b[0;34m)\u001b[0m\u001b[0;34m)\u001b[0m\u001b[0;34m:\u001b[0m\u001b[0;34m\u001b[0m\n",
       "\u001b[0;34m\u001b[0m        \u001b[0;32mraise\u001b[0m \u001b[0mTypeError\u001b[0m\u001b[0;34m(\u001b[0m\u001b[0;34m\"The first argument must be a symbolic expression or a list of symbolic expressions.\"\u001b[0m\u001b[0;34m)\u001b[0m\u001b[0;34m\u001b[0m\n",
       "\u001b[0;34m\u001b[0m\u001b[0;34m\u001b[0m\n",
       "\u001b[0;34m\u001b[0m    \u001b[0;31m# f is a list of such expressions or equations\u001b[0m\u001b[0;34m\u001b[0m\n",
       "\u001b[0;34m\u001b[0m\u001b[0;34m\u001b[0m\n",
       "\u001b[0;34m\u001b[0m    \u001b[0;32mif\u001b[0m \u001b[0;32mnot\u001b[0m \u001b[0margs\u001b[0m\u001b[0;34m:\u001b[0m\u001b[0;34m\u001b[0m\n",
       "\u001b[0;34m\u001b[0m        \u001b[0;32mraise\u001b[0m \u001b[0mTypeError\u001b[0m\u001b[0;34m(\u001b[0m\u001b[0;34m\"Please input variables to solve for.\"\u001b[0m\u001b[0;34m)\u001b[0m\u001b[0;34m\u001b[0m\n",
       "\u001b[0;34m\u001b[0m    \u001b[0;32mif\u001b[0m \u001b[0misinstance\u001b[0m\u001b[0;34m(\u001b[0m\u001b[0mx\u001b[0m\u001b[0;34m,\u001b[0m \u001b[0mExpression\u001b[0m\u001b[0;34m)\u001b[0m \u001b[0;32mand\u001b[0m \u001b[0mx\u001b[0m\u001b[0;34m.\u001b[0m\u001b[0mis_symbol\u001b[0m\u001b[0;34m(\u001b[0m\u001b[0;34m)\u001b[0m\u001b[0;34m:\u001b[0m\u001b[0;34m\u001b[0m\n",
       "\u001b[0;34m\u001b[0m        \u001b[0mvariables\u001b[0m \u001b[0;34m=\u001b[0m \u001b[0margs\u001b[0m\u001b[0;34m\u001b[0m\n",
       "\u001b[0;34m\u001b[0m    \u001b[0;32melse\u001b[0m\u001b[0;34m:\u001b[0m\u001b[0;34m\u001b[0m\n",
       "\u001b[0;34m\u001b[0m        \u001b[0mvariables\u001b[0m \u001b[0;34m=\u001b[0m \u001b[0mtuple\u001b[0m\u001b[0;34m(\u001b[0m\u001b[0mx\u001b[0m\u001b[0;34m)\u001b[0m\u001b[0;34m\u001b[0m\n",
       "\u001b[0;34m\u001b[0m\u001b[0;34m\u001b[0m\n",
       "\u001b[0;34m\u001b[0m    \u001b[0;32mfor\u001b[0m \u001b[0mv\u001b[0m \u001b[0;32min\u001b[0m \u001b[0mvariables\u001b[0m\u001b[0;34m:\u001b[0m\u001b[0;34m\u001b[0m\n",
       "\u001b[0;34m\u001b[0m        \u001b[0;32mif\u001b[0m \u001b[0;32mnot\u001b[0m \u001b[0;34m(\u001b[0m\u001b[0misinstance\u001b[0m\u001b[0;34m(\u001b[0m\u001b[0mv\u001b[0m\u001b[0;34m,\u001b[0m \u001b[0mExpression\u001b[0m\u001b[0;34m)\u001b[0m \u001b[0;32mand\u001b[0m \u001b[0mv\u001b[0m\u001b[0;34m.\u001b[0m\u001b[0mis_symbol\u001b[0m\u001b[0;34m(\u001b[0m\u001b[0;34m)\u001b[0m\u001b[0;34m)\u001b[0m\u001b[0;34m:\u001b[0m\u001b[0;34m\u001b[0m\n",
       "\u001b[0;34m\u001b[0m            \u001b[0;32mraise\u001b[0m \u001b[0mTypeError\u001b[0m\u001b[0;34m(\u001b[0m\u001b[0;34m\"%s is not a valid variable.\"\u001b[0m \u001b[0;34m%\u001b[0m \u001b[0mrepr\u001b[0m\u001b[0;34m(\u001b[0m\u001b[0mv\u001b[0m\u001b[0;34m)\u001b[0m\u001b[0;34m)\u001b[0m\u001b[0;34m\u001b[0m\n",
       "\u001b[0;34m\u001b[0m\u001b[0;34m\u001b[0m\n",
       "\u001b[0;34m\u001b[0m    \u001b[0;32mtry\u001b[0m\u001b[0;34m:\u001b[0m\u001b[0;34m\u001b[0m\n",
       "\u001b[0;34m\u001b[0m        \u001b[0mf\u001b[0m \u001b[0;34m=\u001b[0m \u001b[0;34m[\u001b[0m\u001b[0ms\u001b[0m \u001b[0;32mfor\u001b[0m \u001b[0ms\u001b[0m \u001b[0;32min\u001b[0m \u001b[0mf\u001b[0m \u001b[0;32mif\u001b[0m \u001b[0ms\u001b[0m \u001b[0;32mis\u001b[0m \u001b[0;32mnot\u001b[0m \u001b[0;32mTrue\u001b[0m\u001b[0;34m]\u001b[0m\u001b[0;34m\u001b[0m\n",
       "\u001b[0;34m\u001b[0m    \u001b[0;32mexcept\u001b[0m \u001b[0mTypeError\u001b[0m\u001b[0;34m:\u001b[0m\u001b[0;34m\u001b[0m\n",
       "\u001b[0;34m\u001b[0m        \u001b[0;32mraise\u001b[0m \u001b[0mValueError\u001b[0m\u001b[0;34m(\u001b[0m\u001b[0;34m\"Unable to solve %s for %s\"\u001b[0m \u001b[0;34m%\u001b[0m \u001b[0;34m(\u001b[0m\u001b[0mf\u001b[0m\u001b[0;34m,\u001b[0m \u001b[0margs\u001b[0m\u001b[0;34m)\u001b[0m\u001b[0;34m)\u001b[0m\u001b[0;34m\u001b[0m\n",
       "\u001b[0;34m\u001b[0m\u001b[0;34m\u001b[0m\n",
       "\u001b[0;34m\u001b[0m    \u001b[0;32mif\u001b[0m \u001b[0many\u001b[0m\u001b[0;34m(\u001b[0m\u001b[0ms\u001b[0m \u001b[0;32mis\u001b[0m \u001b[0;32mFalse\u001b[0m \u001b[0;32mfor\u001b[0m \u001b[0ms\u001b[0m \u001b[0;32min\u001b[0m \u001b[0mf\u001b[0m\u001b[0;34m)\u001b[0m\u001b[0;34m:\u001b[0m\u001b[0;34m\u001b[0m\n",
       "\u001b[0;34m\u001b[0m        \u001b[0;32mreturn\u001b[0m \u001b[0;34m[\u001b[0m\u001b[0;34m]\u001b[0m\u001b[0;34m\u001b[0m\n",
       "\u001b[0;34m\u001b[0m\u001b[0;34m\u001b[0m\n",
       "\u001b[0;34m\u001b[0m    \u001b[0;32mif\u001b[0m \u001b[0malgorithm\u001b[0m \u001b[0;34m==\u001b[0m \u001b[0;34m'sympy'\u001b[0m\u001b[0;34m:\u001b[0m\u001b[0;34m\u001b[0m\n",
       "\u001b[0;34m\u001b[0m        \u001b[0;32mfrom\u001b[0m \u001b[0msympy\u001b[0m \u001b[0;32mimport\u001b[0m \u001b[0msolve\u001b[0m \u001b[0;32mas\u001b[0m \u001b[0mssolve\u001b[0m\u001b[0;34m\u001b[0m\n",
       "\u001b[0;34m\u001b[0m        \u001b[0;32mfrom\u001b[0m \u001b[0msage\u001b[0m\u001b[0;34m.\u001b[0m\u001b[0minterfaces\u001b[0m\u001b[0;34m.\u001b[0m\u001b[0msympy\u001b[0m \u001b[0;32mimport\u001b[0m \u001b[0msympy_set_to_list\u001b[0m\u001b[0;34m\u001b[0m\n",
       "\u001b[0;34m\u001b[0m        \u001b[0;32mif\u001b[0m \u001b[0misinstance\u001b[0m\u001b[0;34m(\u001b[0m\u001b[0mf\u001b[0m\u001b[0;34m,\u001b[0m \u001b[0mExpression\u001b[0m\u001b[0;34m)\u001b[0m\u001b[0;34m:\u001b[0m  \u001b[0;31m# f is a single expression\u001b[0m\u001b[0;34m\u001b[0m\n",
       "\u001b[0;34m\u001b[0m            \u001b[0msympy_f\u001b[0m \u001b[0;34m=\u001b[0m \u001b[0mf\u001b[0m\u001b[0;34m.\u001b[0m\u001b[0m_sympy_\u001b[0m\u001b[0;34m(\u001b[0m\u001b[0;34m)\u001b[0m\u001b[0;34m\u001b[0m\n",
       "\u001b[0;34m\u001b[0m        \u001b[0;32melse\u001b[0m\u001b[0;34m:\u001b[0m\u001b[0;34m\u001b[0m\n",
       "\u001b[0;34m\u001b[0m            \u001b[0msympy_f\u001b[0m \u001b[0;34m=\u001b[0m \u001b[0;34m[\u001b[0m\u001b[0ms\u001b[0m\u001b[0;34m.\u001b[0m\u001b[0m_sympy_\u001b[0m\u001b[0;34m(\u001b[0m\u001b[0;34m)\u001b[0m \u001b[0;32mfor\u001b[0m \u001b[0ms\u001b[0m \u001b[0;32min\u001b[0m \u001b[0mf\u001b[0m\u001b[0;34m]\u001b[0m\u001b[0;34m\u001b[0m\n",
       "\u001b[0;34m\u001b[0m        \u001b[0;32mif\u001b[0m \u001b[0misinstance\u001b[0m\u001b[0;34m(\u001b[0m\u001b[0mf\u001b[0m\u001b[0;34m,\u001b[0m \u001b[0mExpression\u001b[0m\u001b[0;34m)\u001b[0m \u001b[0;32mand\u001b[0m \u001b[0mf\u001b[0m\u001b[0;34m.\u001b[0m\u001b[0mis_symbol\u001b[0m\u001b[0;34m(\u001b[0m\u001b[0;34m)\u001b[0m\u001b[0;34m:\u001b[0m\u001b[0;34m\u001b[0m\n",
       "\u001b[0;34m\u001b[0m            \u001b[0msympy_vars\u001b[0m \u001b[0;34m=\u001b[0m \u001b[0;34m(\u001b[0m\u001b[0mx\u001b[0m\u001b[0;34m.\u001b[0m\u001b[0m_sympy_\u001b[0m\u001b[0;34m(\u001b[0m\u001b[0;34m)\u001b[0m\u001b[0;34m,\u001b[0m\u001b[0;34m)\u001b[0m\u001b[0;34m\u001b[0m\n",
       "\u001b[0;34m\u001b[0m        \u001b[0;32melse\u001b[0m\u001b[0;34m:\u001b[0m\u001b[0;34m\u001b[0m\n",
       "\u001b[0;34m\u001b[0m            \u001b[0msympy_vars\u001b[0m \u001b[0;34m=\u001b[0m \u001b[0mtuple\u001b[0m\u001b[0;34m(\u001b[0m\u001b[0;34m[\u001b[0m\u001b[0mv\u001b[0m\u001b[0;34m.\u001b[0m\u001b[0m_sympy_\u001b[0m\u001b[0;34m(\u001b[0m\u001b[0;34m)\u001b[0m \u001b[0;32mfor\u001b[0m \u001b[0mv\u001b[0m \u001b[0;32min\u001b[0m \u001b[0mx\u001b[0m\u001b[0;34m]\u001b[0m\u001b[0;34m)\u001b[0m\u001b[0;34m\u001b[0m\n",
       "\u001b[0;34m\u001b[0m        \u001b[0;32mif\u001b[0m \u001b[0mlen\u001b[0m\u001b[0;34m(\u001b[0m\u001b[0msympy_vars\u001b[0m\u001b[0;34m)\u001b[0m \u001b[0;34m>\u001b[0m \u001b[0;36m1\u001b[0m \u001b[0;32mor\u001b[0m \u001b[0;32mnot\u001b[0m \u001b[0misinstance\u001b[0m\u001b[0;34m(\u001b[0m\u001b[0mf\u001b[0m\u001b[0;34m,\u001b[0m \u001b[0mExpression\u001b[0m\u001b[0;34m)\u001b[0m\u001b[0;34m:\u001b[0m\u001b[0;34m\u001b[0m\n",
       "\u001b[0;34m\u001b[0m            \u001b[0mret\u001b[0m \u001b[0;34m=\u001b[0m \u001b[0mssolve\u001b[0m\u001b[0;34m(\u001b[0m\u001b[0msympy_f\u001b[0m\u001b[0;34m,\u001b[0m \u001b[0msympy_vars\u001b[0m\u001b[0;34m,\u001b[0m \u001b[0mdict\u001b[0m\u001b[0;34m=\u001b[0m\u001b[0;32mTrue\u001b[0m\u001b[0;34m)\u001b[0m\u001b[0;34m\u001b[0m\n",
       "\u001b[0;34m\u001b[0m            \u001b[0;32mif\u001b[0m \u001b[0misinstance\u001b[0m\u001b[0;34m(\u001b[0m\u001b[0mret\u001b[0m\u001b[0;34m,\u001b[0m \u001b[0mdict\u001b[0m\u001b[0;34m)\u001b[0m\u001b[0;34m:\u001b[0m\u001b[0;34m\u001b[0m\n",
       "\u001b[0;34m\u001b[0m                \u001b[0;32mif\u001b[0m \u001b[0msolution_dict\u001b[0m\u001b[0;34m:\u001b[0m\u001b[0;34m\u001b[0m\n",
       "\u001b[0;34m\u001b[0m                    \u001b[0ml\u001b[0m \u001b[0;34m=\u001b[0m \u001b[0;34m[\u001b[0m\u001b[0;34m]\u001b[0m\u001b[0;34m\u001b[0m\n",
       "\u001b[0;34m\u001b[0m                    \u001b[0;32mfor\u001b[0m \u001b[0md\u001b[0m \u001b[0;32min\u001b[0m \u001b[0mret\u001b[0m\u001b[0;34m:\u001b[0m\u001b[0;34m\u001b[0m\n",
       "\u001b[0;34m\u001b[0m                        \u001b[0mr\u001b[0m \u001b[0;34m=\u001b[0m \u001b[0;34m{\u001b[0m\u001b[0;34m}\u001b[0m\u001b[0;34m\u001b[0m\n",
       "\u001b[0;34m\u001b[0m                        \u001b[0;32mfor\u001b[0m \u001b[0;34m(\u001b[0m\u001b[0mv\u001b[0m\u001b[0;34m,\u001b[0m \u001b[0mex\u001b[0m\u001b[0;34m)\u001b[0m \u001b[0;32min\u001b[0m \u001b[0md\u001b[0m\u001b[0;34m.\u001b[0m\u001b[0mitems\u001b[0m\u001b[0;34m(\u001b[0m\u001b[0;34m)\u001b[0m\u001b[0;34m:\u001b[0m\u001b[0;34m\u001b[0m\n",
       "\u001b[0;34m\u001b[0m                            \u001b[0mr\u001b[0m\u001b[0;34m[\u001b[0m\u001b[0mv\u001b[0m\u001b[0;34m.\u001b[0m\u001b[0m_sage_\u001b[0m\u001b[0;34m(\u001b[0m\u001b[0;34m)\u001b[0m\u001b[0;34m]\u001b[0m \u001b[0;34m=\u001b[0m \u001b[0mex\u001b[0m\u001b[0;34m.\u001b[0m\u001b[0m_sage_\u001b[0m\u001b[0;34m(\u001b[0m\u001b[0;34m)\u001b[0m\u001b[0;34m\u001b[0m\n",
       "\u001b[0;34m\u001b[0m                        \u001b[0ml\u001b[0m\u001b[0;34m.\u001b[0m\u001b[0mappend\u001b[0m\u001b[0;34m(\u001b[0m\u001b[0mr\u001b[0m\u001b[0;34m)\u001b[0m\u001b[0;34m\u001b[0m\n",
       "\u001b[0;34m\u001b[0m                    \u001b[0;32mreturn\u001b[0m \u001b[0ml\u001b[0m\u001b[0;34m\u001b[0m\n",
       "\u001b[0;34m\u001b[0m                \u001b[0;32melse\u001b[0m\u001b[0;34m:\u001b[0m\u001b[0;34m\u001b[0m\n",
       "\u001b[0;34m\u001b[0m                    \u001b[0;32mreturn\u001b[0m \u001b[0;34m[\u001b[0m\u001b[0;34m[\u001b[0m\u001b[0mv\u001b[0m\u001b[0;34m.\u001b[0m\u001b[0m_sage_\u001b[0m\u001b[0;34m(\u001b[0m\u001b[0;34m)\u001b[0m \u001b[0;34m==\u001b[0m \u001b[0mex\u001b[0m\u001b[0;34m.\u001b[0m\u001b[0m_sage_\u001b[0m\u001b[0;34m(\u001b[0m\u001b[0;34m)\u001b[0m\u001b[0;34m\u001b[0m\n",
       "\u001b[0;34m\u001b[0m                             \u001b[0;32mfor\u001b[0m \u001b[0mv\u001b[0m\u001b[0;34m,\u001b[0m \u001b[0mex\u001b[0m \u001b[0;32min\u001b[0m \u001b[0md\u001b[0m\u001b[0;34m.\u001b[0m\u001b[0mitems\u001b[0m\u001b[0;34m(\u001b[0m\u001b[0;34m)\u001b[0m\u001b[0;34m]\u001b[0m\u001b[0;34m\u001b[0m\n",
       "\u001b[0;34m\u001b[0m                            \u001b[0;32mfor\u001b[0m \u001b[0md\u001b[0m \u001b[0;32min\u001b[0m \u001b[0mret\u001b[0m\u001b[0;34m]\u001b[0m\u001b[0;34m\u001b[0m\n",
       "\u001b[0;34m\u001b[0m            \u001b[0;32melif\u001b[0m \u001b[0misinstance\u001b[0m\u001b[0;34m(\u001b[0m\u001b[0mret\u001b[0m\u001b[0;34m,\u001b[0m \u001b[0mlist\u001b[0m\u001b[0;34m)\u001b[0m\u001b[0;34m:\u001b[0m\u001b[0;34m\u001b[0m\n",
       "\u001b[0;34m\u001b[0m                \u001b[0ml\u001b[0m \u001b[0;34m=\u001b[0m \u001b[0;34m[\u001b[0m\u001b[0;34m]\u001b[0m\u001b[0;34m\u001b[0m\n",
       "\u001b[0;34m\u001b[0m                \u001b[0;32mfor\u001b[0m \u001b[0msol\u001b[0m \u001b[0;32min\u001b[0m \u001b[0mret\u001b[0m\u001b[0;34m:\u001b[0m\u001b[0;34m\u001b[0m\n",
       "\u001b[0;34m\u001b[0m                    \u001b[0mr\u001b[0m \u001b[0;34m=\u001b[0m \u001b[0;34m{\u001b[0m\u001b[0;34m}\u001b[0m\u001b[0;34m\u001b[0m\n",
       "\u001b[0;34m\u001b[0m                    \u001b[0;32mfor\u001b[0m \u001b[0;34m(\u001b[0m\u001b[0mv\u001b[0m\u001b[0;34m,\u001b[0m \u001b[0mex\u001b[0m\u001b[0;34m)\u001b[0m \u001b[0;32min\u001b[0m \u001b[0msol\u001b[0m\u001b[0;34m.\u001b[0m\u001b[0mitems\u001b[0m\u001b[0;34m(\u001b[0m\u001b[0;34m)\u001b[0m\u001b[0;34m:\u001b[0m\u001b[0;34m\u001b[0m\n",
       "\u001b[0;34m\u001b[0m                        \u001b[0mr\u001b[0m\u001b[0;34m[\u001b[0m\u001b[0mv\u001b[0m\u001b[0;34m.\u001b[0m\u001b[0m_sage_\u001b[0m\u001b[0;34m(\u001b[0m\u001b[0;34m)\u001b[0m\u001b[0;34m]\u001b[0m \u001b[0;34m=\u001b[0m \u001b[0mex\u001b[0m\u001b[0;34m.\u001b[0m\u001b[0m_sage_\u001b[0m\u001b[0;34m(\u001b[0m\u001b[0;34m)\u001b[0m\u001b[0;34m\u001b[0m\n",
       "\u001b[0;34m\u001b[0m                    \u001b[0ml\u001b[0m\u001b[0;34m.\u001b[0m\u001b[0mappend\u001b[0m\u001b[0;34m(\u001b[0m\u001b[0mr\u001b[0m\u001b[0;34m)\u001b[0m\u001b[0;34m\u001b[0m\n",
       "\u001b[0;34m\u001b[0m                \u001b[0;32mreturn\u001b[0m \u001b[0ml\u001b[0m\u001b[0;34m\u001b[0m\n",
       "\u001b[0;34m\u001b[0m            \u001b[0;32melse\u001b[0m\u001b[0;34m:\u001b[0m\u001b[0;34m\u001b[0m\n",
       "\u001b[0;34m\u001b[0m                \u001b[0;32mreturn\u001b[0m \u001b[0msympy_set_to_list\u001b[0m\u001b[0;34m(\u001b[0m\u001b[0mret\u001b[0m\u001b[0;34m,\u001b[0m \u001b[0msympy_vars\u001b[0m\u001b[0;34m)\u001b[0m\u001b[0;34m\u001b[0m\n",
       "\u001b[0;34m\u001b[0m\u001b[0;34m\u001b[0m\n",
       "\u001b[0;34m\u001b[0m    \u001b[0;32mif\u001b[0m \u001b[0malgorithm\u001b[0m \u001b[0;34m==\u001b[0m \u001b[0;34m'giac'\u001b[0m\u001b[0;34m:\u001b[0m\u001b[0;34m\u001b[0m\n",
       "\u001b[0;34m\u001b[0m        \u001b[0;32mreturn\u001b[0m \u001b[0m_giac_solver\u001b[0m\u001b[0;34m(\u001b[0m\u001b[0mf\u001b[0m\u001b[0;34m,\u001b[0m \u001b[0mx\u001b[0m\u001b[0;34m,\u001b[0m \u001b[0msolution_dict\u001b[0m\u001b[0;34m)\u001b[0m\u001b[0;34m\u001b[0m\n",
       "\u001b[0;34m\u001b[0m\u001b[0;34m\u001b[0m\n",
       "\u001b[0;34m\u001b[0m    \u001b[0;32mfrom\u001b[0m \u001b[0msage\u001b[0m\u001b[0;34m.\u001b[0m\u001b[0mcalculus\u001b[0m\u001b[0;34m.\u001b[0m\u001b[0mcalculus\u001b[0m \u001b[0;32mimport\u001b[0m \u001b[0mmaxima\u001b[0m\u001b[0;34m\u001b[0m\n",
       "\u001b[0;34m\u001b[0m    \u001b[0mm\u001b[0m \u001b[0;34m=\u001b[0m \u001b[0mmaxima\u001b[0m\u001b[0;34m(\u001b[0m\u001b[0mf\u001b[0m\u001b[0;34m)\u001b[0m\u001b[0;34m\u001b[0m\n",
       "\u001b[0;34m\u001b[0m\u001b[0;34m\u001b[0m\n",
       "\u001b[0;34m\u001b[0m    \u001b[0;32mtry\u001b[0m\u001b[0;34m:\u001b[0m\u001b[0;34m\u001b[0m\n",
       "\u001b[0;34m\u001b[0m        \u001b[0ms\u001b[0m \u001b[0;34m=\u001b[0m \u001b[0mm\u001b[0m\u001b[0;34m.\u001b[0m\u001b[0msolve\u001b[0m\u001b[0;34m(\u001b[0m\u001b[0mvariables\u001b[0m\u001b[0;34m)\u001b[0m\u001b[0;34m\u001b[0m\n",
       "\u001b[0;34m\u001b[0m    \u001b[0;32mexcept\u001b[0m \u001b[0mException\u001b[0m\u001b[0;34m:\u001b[0m  \u001b[0;31m# if Maxima gave an error, try its to_poly_solve\u001b[0m\u001b[0;34m\u001b[0m\n",
       "\u001b[0;34m\u001b[0m        \u001b[0;32mtry\u001b[0m\u001b[0;34m:\u001b[0m\u001b[0;34m\u001b[0m\n",
       "\u001b[0;34m\u001b[0m            \u001b[0ms\u001b[0m \u001b[0;34m=\u001b[0m \u001b[0mm\u001b[0m\u001b[0;34m.\u001b[0m\u001b[0mto_poly_solve\u001b[0m\u001b[0;34m(\u001b[0m\u001b[0mvariables\u001b[0m\u001b[0;34m)\u001b[0m\u001b[0;34m\u001b[0m\n",
       "\u001b[0;34m\u001b[0m        \u001b[0;32mexcept\u001b[0m \u001b[0mTypeError\u001b[0m \u001b[0;32mas\u001b[0m \u001b[0mmess\u001b[0m\u001b[0;34m:\u001b[0m  \u001b[0;31m# if that gives an error, raise an error.\u001b[0m\u001b[0;34m\u001b[0m\n",
       "\u001b[0;34m\u001b[0m            \u001b[0;32mif\u001b[0m \u001b[0;34m\"Error executing code in Maxima\"\u001b[0m \u001b[0;32min\u001b[0m \u001b[0mstr\u001b[0m\u001b[0;34m(\u001b[0m\u001b[0mmess\u001b[0m\u001b[0;34m)\u001b[0m\u001b[0;34m:\u001b[0m\u001b[0;34m\u001b[0m\n",
       "\u001b[0;34m\u001b[0m                \u001b[0;32mraise\u001b[0m \u001b[0mValueError\u001b[0m\u001b[0;34m(\u001b[0m\u001b[0;34m\"Sage is unable to determine whether the system %s can be solved for %s\"\u001b[0m \u001b[0;34m%\u001b[0m \u001b[0;34m(\u001b[0m\u001b[0mf\u001b[0m\u001b[0;34m,\u001b[0m \u001b[0margs\u001b[0m\u001b[0;34m)\u001b[0m\u001b[0;34m)\u001b[0m\u001b[0;34m\u001b[0m\n",
       "\u001b[0;34m\u001b[0m            \u001b[0;32melse\u001b[0m\u001b[0;34m:\u001b[0m\u001b[0;34m\u001b[0m\n",
       "\u001b[0;34m\u001b[0m                \u001b[0;32mraise\u001b[0m\u001b[0;34m\u001b[0m\n",
       "\u001b[0;34m\u001b[0m\u001b[0;34m\u001b[0m\n",
       "\u001b[0;34m\u001b[0m    \u001b[0;32mif\u001b[0m \u001b[0mlen\u001b[0m\u001b[0;34m(\u001b[0m\u001b[0ms\u001b[0m\u001b[0;34m)\u001b[0m \u001b[0;34m==\u001b[0m \u001b[0;36m0\u001b[0m\u001b[0;34m:\u001b[0m  \u001b[0;31m# if Maxima's solve gave no solutions, try its to_poly_solve\u001b[0m\u001b[0;34m\u001b[0m\n",
       "\u001b[0;34m\u001b[0m        \u001b[0;32mtry\u001b[0m\u001b[0;34m:\u001b[0m\u001b[0;34m\u001b[0m\n",
       "\u001b[0;34m\u001b[0m            \u001b[0ms\u001b[0m \u001b[0;34m=\u001b[0m \u001b[0mm\u001b[0m\u001b[0;34m.\u001b[0m\u001b[0mto_poly_solve\u001b[0m\u001b[0;34m(\u001b[0m\u001b[0mvariables\u001b[0m\u001b[0;34m)\u001b[0m\u001b[0;34m\u001b[0m\n",
       "\u001b[0;34m\u001b[0m        \u001b[0;32mexcept\u001b[0m \u001b[0mException\u001b[0m\u001b[0;34m:\u001b[0m  \u001b[0;31m# if that gives an error, stick with no solutions\u001b[0m\u001b[0;34m\u001b[0m\n",
       "\u001b[0;34m\u001b[0m            \u001b[0ms\u001b[0m \u001b[0;34m=\u001b[0m \u001b[0;34m[\u001b[0m\u001b[0;34m]\u001b[0m\u001b[0;34m\u001b[0m\n",
       "\u001b[0;34m\u001b[0m\u001b[0;34m\u001b[0m\n",
       "\u001b[0;34m\u001b[0m    \u001b[0;32mif\u001b[0m \u001b[0mlen\u001b[0m\u001b[0;34m(\u001b[0m\u001b[0ms\u001b[0m\u001b[0;34m)\u001b[0m \u001b[0;34m==\u001b[0m \u001b[0;36m0\u001b[0m\u001b[0;34m:\u001b[0m  \u001b[0;31m# if to_poly_solve gave no solutions, try use_grobner\u001b[0m\u001b[0;34m\u001b[0m\n",
       "\u001b[0;34m\u001b[0m        \u001b[0;32mtry\u001b[0m\u001b[0;34m:\u001b[0m\u001b[0;34m\u001b[0m\n",
       "\u001b[0;34m\u001b[0m            \u001b[0ms\u001b[0m \u001b[0;34m=\u001b[0m \u001b[0mm\u001b[0m\u001b[0;34m.\u001b[0m\u001b[0mto_poly_solve\u001b[0m\u001b[0;34m(\u001b[0m\u001b[0mvariables\u001b[0m\u001b[0;34m,\u001b[0m \u001b[0;34m'use_grobner=true'\u001b[0m\u001b[0;34m)\u001b[0m\u001b[0;34m\u001b[0m\n",
       "\u001b[0;34m\u001b[0m        \u001b[0;32mexcept\u001b[0m \u001b[0mException\u001b[0m\u001b[0;34m:\u001b[0m  \u001b[0;31m# if that gives an error, stick with no solutions\u001b[0m\u001b[0;34m\u001b[0m\n",
       "\u001b[0;34m\u001b[0m            \u001b[0ms\u001b[0m \u001b[0;34m=\u001b[0m \u001b[0;34m[\u001b[0m\u001b[0;34m]\u001b[0m\u001b[0;34m\u001b[0m\n",
       "\u001b[0;34m\u001b[0m\u001b[0;34m\u001b[0m\n",
       "\u001b[0;34m\u001b[0m    \u001b[0msol_list\u001b[0m \u001b[0;34m=\u001b[0m \u001b[0mstring_to_list_of_solutions\u001b[0m\u001b[0;34m(\u001b[0m\u001b[0mrepr\u001b[0m\u001b[0;34m(\u001b[0m\u001b[0ms\u001b[0m\u001b[0;34m)\u001b[0m\u001b[0;34m)\u001b[0m\u001b[0;34m\u001b[0m\n",
       "\u001b[0;34m\u001b[0m\u001b[0;34m\u001b[0m\n",
       "\u001b[0;34m\u001b[0m    \u001b[0;31m# Relaxed form suggested by Mike Hansen (#8553):\u001b[0m\u001b[0;34m\u001b[0m\n",
       "\u001b[0;34m\u001b[0m    \u001b[0;32mif\u001b[0m \u001b[0mkwds\u001b[0m\u001b[0;34m.\u001b[0m\u001b[0mget\u001b[0m\u001b[0;34m(\u001b[0m\u001b[0;34m'solution_dict'\u001b[0m\u001b[0;34m,\u001b[0m \u001b[0;32mNone\u001b[0m\u001b[0;34m)\u001b[0m\u001b[0;34m:\u001b[0m\u001b[0;34m\u001b[0m\n",
       "\u001b[0;34m\u001b[0m        \u001b[0;32mif\u001b[0m \u001b[0;32mnot\u001b[0m \u001b[0msol_list\u001b[0m\u001b[0;34m:\u001b[0m  \u001b[0;31m# fixes IndexError on empty solution list (#8553)\u001b[0m\u001b[0;34m\u001b[0m\n",
       "\u001b[0;34m\u001b[0m            \u001b[0;32mreturn\u001b[0m \u001b[0;34m[\u001b[0m\u001b[0;34m]\u001b[0m\u001b[0;34m\u001b[0m\n",
       "\u001b[0;34m\u001b[0m        \u001b[0;32mif\u001b[0m \u001b[0misinstance\u001b[0m\u001b[0;34m(\u001b[0m\u001b[0msol_list\u001b[0m\u001b[0;34m[\u001b[0m\u001b[0;36m0\u001b[0m\u001b[0;34m]\u001b[0m\u001b[0;34m,\u001b[0m \u001b[0mlist\u001b[0m\u001b[0;34m)\u001b[0m\u001b[0;34m:\u001b[0m\u001b[0;34m\u001b[0m\n",
       "\u001b[0;34m\u001b[0m            \u001b[0msol_dict\u001b[0m \u001b[0;34m=\u001b[0m \u001b[0;34m[\u001b[0m\u001b[0;34m{\u001b[0m\u001b[0meq\u001b[0m\u001b[0;34m.\u001b[0m\u001b[0mleft\u001b[0m\u001b[0;34m(\u001b[0m\u001b[0;34m)\u001b[0m\u001b[0;34m:\u001b[0m \u001b[0meq\u001b[0m\u001b[0;34m.\u001b[0m\u001b[0mright\u001b[0m\u001b[0;34m(\u001b[0m\u001b[0;34m)\u001b[0m \u001b[0;32mfor\u001b[0m \u001b[0meq\u001b[0m \u001b[0;32min\u001b[0m \u001b[0msolution\u001b[0m\u001b[0;34m}\u001b[0m\u001b[0;34m\u001b[0m\n",
       "\u001b[0;34m\u001b[0m                        \u001b[0;32mfor\u001b[0m \u001b[0msolution\u001b[0m \u001b[0;32min\u001b[0m \u001b[0msol_list\u001b[0m\u001b[0;34m]\u001b[0m\u001b[0;34m\u001b[0m\n",
       "\u001b[0;34m\u001b[0m        \u001b[0;32melse\u001b[0m\u001b[0;34m:\u001b[0m\u001b[0;34m\u001b[0m\n",
       "\u001b[0;34m\u001b[0m            \u001b[0msol_dict\u001b[0m \u001b[0;34m=\u001b[0m \u001b[0;34m[\u001b[0m\u001b[0;34m{\u001b[0m\u001b[0meq\u001b[0m\u001b[0;34m.\u001b[0m\u001b[0mleft\u001b[0m\u001b[0;34m(\u001b[0m\u001b[0;34m)\u001b[0m\u001b[0;34m:\u001b[0m \u001b[0meq\u001b[0m\u001b[0;34m.\u001b[0m\u001b[0mright\u001b[0m\u001b[0;34m(\u001b[0m\u001b[0;34m)\u001b[0m\u001b[0;34m}\u001b[0m \u001b[0;32mfor\u001b[0m \u001b[0meq\u001b[0m \u001b[0;32min\u001b[0m \u001b[0msol_list\u001b[0m\u001b[0;34m]\u001b[0m\u001b[0;34m\u001b[0m\n",
       "\u001b[0;34m\u001b[0m\u001b[0;34m\u001b[0m\n",
       "\u001b[0;34m\u001b[0m        \u001b[0;32mreturn\u001b[0m \u001b[0msol_dict\u001b[0m\u001b[0;34m\u001b[0m\n",
       "\u001b[0;34m\u001b[0m    \u001b[0;32melse\u001b[0m\u001b[0;34m:\u001b[0m\u001b[0;34m\u001b[0m\n",
       "\u001b[0;34m\u001b[0m        \u001b[0;32mreturn\u001b[0m \u001b[0msol_list\u001b[0m\u001b[0;34m\u001b[0m\u001b[0;34m\u001b[0m\u001b[0m\n",
       "\u001b[0;31mFile:\u001b[0m      ~/micromamba/lib/python3.11/site-packages/sage/symbolic/relation.py\n",
       "\u001b[0;31mType:\u001b[0m      function"
      ]
     },
     "metadata": {},
     "output_type": "display_data"
    }
   ],
   "source": [
    "solve??"
   ]
  },
  {
   "cell_type": "code",
   "execution_count": 35,
   "id": "7bcbe342",
   "metadata": {},
   "outputs": [],
   "source": [
    "import pandas"
   ]
  },
  {
   "cell_type": "code",
   "execution_count": 36,
   "id": "dfc30af3",
   "metadata": {},
   "outputs": [
    {
     "name": "stdout",
     "output_type": "stream",
     "text": [
      "Requirement already satisfied: pandas in /home/user/micromamba/lib/python3.11/site-packages (2.2.3)\n",
      "Requirement already satisfied: numpy>=1.23.2 in /home/user/micromamba/lib/python3.11/site-packages (from pandas) (1.26.4)\n",
      "Requirement already satisfied: python-dateutil>=2.8.2 in /home/user/micromamba/lib/python3.11/site-packages (from pandas) (2.9.0)\n",
      "Requirement already satisfied: pytz>=2020.1 in /home/user/micromamba/lib/python3.11/site-packages (from pandas) (2024.1)\n",
      "Requirement already satisfied: tzdata>=2022.7 in /home/user/micromamba/lib/python3.11/site-packages (from pandas) (2024.2)\n",
      "Requirement already satisfied: six>=1.5 in /home/user/micromamba/lib/python3.11/site-packages (from python-dateutil>=2.8.2->pandas) (1.16.0)\n",
      "Note: you may need to restart the kernel to use updated packages.\n"
     ]
    }
   ],
   "source": [
    "%pip install pandas"
   ]
  },
  {
   "cell_type": "markdown",
   "id": "18bb6c5a",
   "metadata": {},
   "source": [
    "Punasiirtymän voi laskea seuraavalla kaavalla. Koska kappaleet menevät toisiaan kohti, käytetään negatiivista etumerkkiä nopeudelle.\n",
    "$$\n",
    "z\\approx\\frac{-v}{c}\n",
    "$$\n",
    "Punasiirtymän jälkeinen aallonpituus saadaan kaavasta:\n",
    "$$\n",
    "\\lambda_{vihreä}=\\lambda_{punainen}+z\\lambda_{punainen}\n",
    "$$"
   ]
  },
  {
   "cell_type": "code",
   "execution_count": null,
   "id": "6ae58b5a",
   "metadata": {},
   "outputs": [],
   "source": []
  },
  {
   "cell_type": "code",
   "execution_count": 37,
   "id": "1f2f6704",
   "metadata": {},
   "outputs": [
    {
     "data": {
      "text/html": [
       "<html>\\(\\displaystyle \\left(x, y, z, v, c\\right)\\)</html>"
      ],
      "text/latex": [
       "$\\displaystyle \\left(x, y, z, v, c\\right)$"
      ],
      "text/plain": [
       "(x, y, z, v, c)"
      ]
     },
     "execution_count": 37,
     "metadata": {},
     "output_type": "execute_result"
    },
    {
     "data": {
      "text/html": [
       "<html>\\(\\displaystyle z + 1 = \\sqrt{-\\frac{\\frac{v}{c} - 1}{\\frac{v}{c} + 1}}\\)</html>"
      ],
      "text/latex": [
       "$\\displaystyle z + 1 = \\sqrt{-\\frac{\\frac{v}{c} - 1}{\\frac{v}{c} + 1}}$"
      ],
      "text/plain": [
       "z + 1 == sqrt(-(v/c - 1)/(v/c + 1))"
      ]
     },
     "execution_count": 37,
     "metadata": {},
     "output_type": "execute_result"
    },
    {
     "data": {
      "text/html": [
       "<html>\\(\\displaystyle \\left[\\left\\{v : \\frac{71827118646583577785992740864}{971399156035366359535}, z : -\\frac{61}{274}\\right\\}\\right]\\)</html>"
      ],
      "text/latex": [
       "$\\displaystyle \\left[\\left\\{v : \\frac{71827118646583577785992740864}{971399156035366359535}, z : -\\frac{61}{274}\\right\\}\\right]$"
      ],
      "text/plain": [
       "[{v: 71827118646583577785992740864/971399156035366359535, z: -61/274}]"
      ]
     },
     "execution_count": 37,
     "metadata": {},
     "output_type": "execute_result"
    },
    {
     "name": "stdout",
     "output_type": "stream",
     "text": [
      "Nopeus: 7.39e7 m / s\n",
      "24.7 %\n"
     ]
    }
   ],
   "source": [
    "from scipy import constants\n",
    "from numpy import mean\n",
    ",var x y z v c\n",
    "\n",
    "redshift = (z + 1) == sqrt((1 + -v/c) / (1 - -v/ c))\n",
    "redshift \n",
    "\n",
    "wl_green = mean([495,570]).item() # Green: 495–570 nm\n",
    "wl_red = mean([620,750]).item() # Red: 620–750 nm\n",
    "c = constants.c\n",
    "\n",
    "solve([\n",
    "        wl_green == (z + 1) * wl_red,\n",
    "        redshift.subs(c=c)\n",
    "    ], z, v, solution_dict=True)\n",
    "\n",
    "v = _[0][v].n(digits=3)\n",
    "print(f\"Nopeus: {v} m / s\")\n",
    "print(f\"{v / c * 100} %\")"
   ]
  },
  {
   "cell_type": "code",
   "execution_count": 38,
   "id": "0f278314",
   "metadata": {},
   "outputs": [
    {
     "data": {
      "text/html": [
       "<html>\\(\\displaystyle \\left(x, y\\right)\\)</html>"
      ],
      "text/latex": [
       "$\\displaystyle \\left(x, y\\right)$"
      ],
      "text/plain": [
       "(x, y)"
      ]
     },
     "execution_count": 38,
     "metadata": {},
     "output_type": "execute_result"
    },
    {
     "data": {
      "text/html": [
       "\n",
       "<iframe srcdoc=\"&lt;!DOCTYPE html&gt;\n",
       "&lt;html&gt;\n",
       "&lt;head&gt;\n",
       "&lt;title&gt;&lt;/title&gt;\n",
       "&lt;meta charset=&quot;utf-8&quot;&gt;\n",
       "&lt;meta name=viewport content=&quot;width=device-width, user-scalable=no, minimum-scale=1.0, maximum-scale=1.0&quot;&gt;\n",
       "&lt;style&gt;\n",
       "\n",
       "    body { margin: 0px; overflow: hidden; }\n",
       "\n",
       "    #menu-container { position: absolute; bottom: 30px; right: 40px; cursor: default; }\n",
       "\n",
       "    #menu-message { position: absolute; bottom: 0px; right: 0px; white-space: nowrap;\n",
       "                    display: none; background-color: #F5F5F5; padding: 10px; }\n",
       "\n",
       "    #menu-content { position: absolute; bottom: 0px; right: 0px;\n",
       "                    display: none; background-color: #F5F5F5; border-bottom: 1px solid black;\n",
       "                    border-right: 1px solid black; border-left: 1px solid black; }\n",
       "\n",
       "    #menu-content div { border-top: 1px solid black; padding: 10px; white-space: nowrap; }\n",
       "\n",
       "    #menu-content div:hover { background-color: #FEFEFE; }\n",
       "\n",
       "    .dark-theme #menu-container { color: white; }\n",
       "\n",
       "    .dark-theme #menu-message { background-color: #181818; }\n",
       "\n",
       "    .dark-theme #menu-content { background-color: #181818; border-color: white; }\n",
       "\n",
       "    .dark-theme #menu-content div { border-color: white; }\n",
       "\n",
       "    .dark-theme #menu-content div:hover { background-color: #303030; }\n",
       "\n",
       "&lt;/style&gt;\n",
       "\n",
       "&lt;/head&gt;\n",
       "\n",
       "&lt;body&gt;\n",
       "\n",
       "&lt;script src=&quot;/nbextensions/threejs-sage/r122/three.min.js&quot;&gt;&lt;/script&gt;\n",
       "&lt;script&gt;\n",
       "  if ( !window.THREE ) document.write(&#x27; \\\n",
       "&lt;script src=&quot;https://cdn.jsdelivr.net/gh/sagemath/threejs-sage@r122/build/three.min.js&quot;&gt;&lt;\\/script&gt; \\\n",
       "            &#x27;);\n",
       "&lt;/script&gt;\n",
       "        \n",
       "&lt;script&gt;\n",
       "\n",
       "    var options = {&quot;animate&quot;: false, &quot;animationControls&quot;: true, &quot;aspectRatio&quot;: [1.0, 1.0, 1.0], &quot;autoScaling&quot;: [false, false, false], &quot;autoPlay&quot;: true, &quot;axes&quot;: false, &quot;axesLabels&quot;: [&quot;x&quot;, &quot;y&quot;, &quot;z&quot;], &quot;axesLabelsStyle&quot;: null, &quot;decimals&quot;: 2, &quot;delay&quot;: 20, &quot;frame&quot;: true, &quot;loop&quot;: true, &quot;projection&quot;: &quot;perspective&quot;, &quot;theme&quot;: &quot;light&quot;, &quot;viewpoint&quot;: false};\n",
       "    var animate = options.animate;\n",
       "\n",
       "    if ( options.theme === &#x27;dark&#x27; )\n",
       "        document.body.className = &#x27;dark-theme&#x27;;\n",
       "\n",
       "    var scene = new THREE.Scene();\n",
       "\n",
       "    var renderer = new THREE.WebGLRenderer( { antialias: true, preserveDrawingBuffer: true } );\n",
       "    renderer.setPixelRatio( window.devicePixelRatio );\n",
       "    renderer.setSize( window.innerWidth, window.innerHeight );\n",
       "    renderer.setClearColor( options.theme === &#x27;dark&#x27; ? 0 : 0xffffff, 1 );\n",
       "    document.body.appendChild( renderer.domElement );\n",
       "\n",
       "    var b = [{&quot;x&quot;:-1.0, &quot;y&quot;:-1.0, &quot;z&quot;:-1.249835634451019}, {&quot;x&quot;:1.0, &quot;y&quot;:1.0, &quot;z&quot;:3.0}]; // bounds\n",
       "\n",
       "    if ( b[0].x === b[1].x ) {\n",
       "        b[0].x -= 1;\n",
       "        b[1].x += 1;\n",
       "    }\n",
       "    if ( b[0].y === b[1].y ) {\n",
       "        b[0].y -= 1;\n",
       "        b[1].y += 1;\n",
       "    }\n",
       "    if ( b[0].z === b[1].z ) {\n",
       "        b[0].z -= 1;\n",
       "        b[1].z += 1;\n",
       "    }\n",
       "\n",
       "    var rxRange = Math.sqrt( Math.pow( b[1].z - b[0].z, 2 )\n",
       "                            + Math.pow( b[1].y - b[0].y, 2 ) );\n",
       "    var ryRange = Math.sqrt( Math.pow( b[1].x - b[0].x, 2 )\n",
       "                            + Math.pow( b[1].z - b[0].z, 2 ) );\n",
       "    var rzRange = Math.sqrt( Math.pow( b[1].x - b[0].x, 2 )\n",
       "                            + Math.pow( b[1].y - b[0].y, 2 ) );\n",
       "    var xRange = b[1].x - b[0].x;\n",
       "    var yRange = b[1].y - b[0].y;\n",
       "    var zRange = b[1].z - b[0].z;\n",
       "\n",
       "    var ar = options.aspectRatio;\n",
       "    var a = [ ar[0], ar[1], ar[2] ]; // aspect multipliers\n",
       "\n",
       "    var autoScaling = options.autoScaling;\n",
       "    var autoAspect = 2.5;\n",
       "    if ( xRange &gt; autoAspect * rxRange &amp;&amp; autoScaling[0] ) a[0] = autoAspect * rxRange / xRange;\n",
       "    if ( yRange &gt; autoAspect * ryRange &amp;&amp; autoScaling[1] ) a[1] = autoAspect * ryRange / yRange;\n",
       "    if ( zRange &gt; autoAspect * rzRange &amp;&amp; autoScaling[2] ) a[2] = autoAspect * rzRange / zRange;\n",
       "\n",
       "    // Distance from (xMid,yMid,zMid) to any corner of the bounding box, after applying aspectRatio\n",
       "    var midToCorner = Math.sqrt( a[0]*a[0]*xRange*xRange + a[1]*a[1]*yRange*yRange + a[2]*a[2]*zRange*zRange ) / 2;\n",
       "\n",
       "    var xMid = ( b[0].x + b[1].x ) / 2;\n",
       "    var yMid = ( b[0].y + b[1].y ) / 2;\n",
       "    var zMid = ( b[0].z + b[1].z ) / 2;\n",
       "\n",
       "    var box = new THREE.Geometry();\n",
       "    box.vertices.push( new THREE.Vector3( a[0]*b[0].x, a[1]*b[0].y, a[2]*b[0].z ) );\n",
       "    box.vertices.push( new THREE.Vector3( a[0]*b[1].x, a[1]*b[1].y, a[2]*b[1].z ) );\n",
       "    var boxMesh = new THREE.Line( box );\n",
       "    var boxColor = options.theme === &#x27;dark&#x27; ? &#x27;white&#x27; : &#x27;black&#x27;;\n",
       "    if ( options.frame ) scene.add( new THREE.BoxHelper( boxMesh, boxColor ) );\n",
       "\n",
       "    if ( options.axesLabels ) {\n",
       "\n",
       "        var d = options.decimals; // decimals\n",
       "        var offsetRatio = 0.1;\n",
       "        var al = options.axesLabels;\n",
       "        var als = options.axesLabelsStyle || [{}, {}, {}];\n",
       "\n",
       "        var offset = offsetRatio * a[1]*( b[1].y - b[0].y );\n",
       "        var xm = xMid.toFixed(d);\n",
       "        if ( /^-0.?0*$/.test(xm) ) xm = xm.substr(1);\n",
       "        addLabel( al[0] + &#x27;=&#x27; + xm, a[0]*xMid, a[1]*b[1].y+offset, a[2]*b[0].z, als[0] );\n",
       "        addLabel( ( b[0].x ).toFixed(d), a[0]*b[0].x, a[1]*b[1].y+offset, a[2]*b[0].z, als[0] );\n",
       "        addLabel( ( b[1].x ).toFixed(d), a[0]*b[1].x, a[1]*b[1].y+offset, a[2]*b[0].z, als[0] );\n",
       "\n",
       "        var offset = offsetRatio * a[0]*( b[1].x - b[0].x );\n",
       "        var ym = yMid.toFixed(d);\n",
       "        if ( /^-0.?0*$/.test(ym) ) ym = ym.substr(1);\n",
       "        addLabel( al[1] + &#x27;=&#x27; + ym, a[0]*b[1].x+offset, a[1]*yMid, a[2]*b[0].z, als[1] );\n",
       "        addLabel( ( b[0].y ).toFixed(d), a[0]*b[1].x+offset, a[1]*b[0].y, a[2]*b[0].z, als[1] );\n",
       "        addLabel( ( b[1].y ).toFixed(d), a[0]*b[1].x+offset, a[1]*b[1].y, a[2]*b[0].z, als[1] );\n",
       "\n",
       "        var offset = offsetRatio * a[1]*( b[1].y - b[0].y );\n",
       "        var zm = zMid.toFixed(d);\n",
       "        if ( /^-0.?0*$/.test(zm) ) zm = zm.substr(1);\n",
       "        addLabel( al[2] + &#x27;=&#x27; + zm, a[0]*b[1].x, a[1]*b[0].y-offset, a[2]*zMid, als[2] );\n",
       "        addLabel( ( b[0].z ).toFixed(d), a[0]*b[1].x, a[1]*b[0].y-offset, a[2]*b[0].z, als[2] );\n",
       "        addLabel( ( b[1].z ).toFixed(d), a[0]*b[1].x, a[1]*b[0].y-offset, a[2]*b[1].z, als[2] );\n",
       "\n",
       "    }\n",
       "\n",
       "    function addLabel( text, x, y, z, style ) {\n",
       "\n",
       "        var color = style.color || &#x27;black&#x27;;\n",
       "        var fontSize = style.fontSize || 14;\n",
       "        var fontFamily = style.fontFamily || &#x27;monospace&#x27;;\n",
       "        var fontStyle = style.fontStyle || &#x27;normal&#x27;;\n",
       "        var fontWeight = style.fontWeight || &#x27;normal&#x27;;\n",
       "        var opacity = style.opacity || 1;\n",
       "\n",
       "        if ( options.theme === &#x27;dark&#x27; )\n",
       "            if ( color === &#x27;black&#x27; || color === &#x27;#000000&#x27; )\n",
       "                color = &#x27;white&#x27;;\n",
       "\n",
       "        if ( Array.isArray( fontStyle ) ) {\n",
       "            fontFamily = fontFamily.map( function( f ) {\n",
       "                // Need to put quotes around fonts that have whitespace in their names.\n",
       "                return /\\s/.test( f ) ? &#x27;&quot;&#x27; + f + &#x27;&quot;&#x27; : f;\n",
       "            }).join(&#x27;, &#x27;);\n",
       "        }\n",
       "\n",
       "        var canvas = document.createElement( &#x27;canvas&#x27; );\n",
       "        var context = canvas.getContext( &#x27;2d&#x27; );\n",
       "        var pixelRatio = Math.round( window.devicePixelRatio );\n",
       "\n",
       "        // For example: italic bold 20px &quot;Times New Roman&quot;, Georgia, serif\n",
       "        var font = [fontStyle, fontWeight, fontSize + &#x27;px&#x27;, fontFamily].join(&#x27; &#x27;);\n",
       "\n",
       "        context.font = font;\n",
       "        var width = context.measureText( text ).width;\n",
       "        var height = fontSize;\n",
       "\n",
       "        // The dimensions of the canvas&#x27;s underlying image data need to be powers\n",
       "        // of two in order for the resulting texture to support mipmapping.\n",
       "        canvas.width = THREE.MathUtils.ceilPowerOfTwo( width * pixelRatio );\n",
       "        canvas.height = THREE.MathUtils.ceilPowerOfTwo( height * pixelRatio );\n",
       "\n",
       "        // Re-compute the unscaled dimensions after the power of two conversion.\n",
       "        width = canvas.width / pixelRatio;\n",
       "        height = canvas.height / pixelRatio;\n",
       "\n",
       "        canvas.style.width = width + &#x27;px&#x27;;\n",
       "        canvas.style.height = height + &#x27;px&#x27;;\n",
       "\n",
       "        context.scale( pixelRatio, pixelRatio );\n",
       "        context.fillStyle = color;\n",
       "        context.font = font; // Must be set again after measureText.\n",
       "        context.textAlign = &#x27;center&#x27;;\n",
       "        context.textBaseline = &#x27;middle&#x27;;\n",
       "        context.fillText( text, width/2, height/2 );\n",
       "\n",
       "        var texture = new THREE.Texture( canvas );\n",
       "        texture.needsUpdate = true;\n",
       "\n",
       "        var materialOptions = { map: texture, sizeAttenuation: false, depthWrite: false };\n",
       "        if ( opacity &lt; 1 ) {\n",
       "            // Setting opacity=1 would cause the texture&#x27;s alpha component to be\n",
       "            // discarded, giving the text a black background instead of the\n",
       "            // background being transparent.\n",
       "            materialOptions.opacity = opacity;\n",
       "        }\n",
       "        var sprite = new THREE.Sprite( new THREE.SpriteMaterial( materialOptions ) );\n",
       "        sprite.position.set( x, y, z );\n",
       "\n",
       "        // Scaling factor, chosen somewhat arbitrarily so that the size of the text\n",
       "        // is consistent with previously generated plots.\n",
       "        var scale = 1/625;\n",
       "        if ( options.projection === &#x27;orthographic&#x27; ) {\n",
       "            scale = midToCorner/256; // Needs to scale along with the plot itself.\n",
       "        }\n",
       "        sprite.scale.set( scale * width, scale * height, 1 );\n",
       "\n",
       "        scene.add( sprite );\n",
       "\n",
       "        return sprite;\n",
       "\n",
       "    }\n",
       "\n",
       "    if ( options.axes ) scene.add( new THREE.AxesHelper( Math.min( a[0]*b[1].x, a[1]*b[1].y, a[2]*b[1].z ) ) );\n",
       "\n",
       "    var camera = createCamera();\n",
       "    camera.up.set( 0, 0, 1 );\n",
       "    camera.position.set( a[0]*xMid, a[1]*yMid, a[2]*zMid );\n",
       "\n",
       "    // camera is positioned so that the line from the camera to the center\n",
       "    // of the bounding sphere of the objects makes an angle of 60 degrees with x-axis\n",
       "    // and an angle of 30 degrees with z-axis and the field of view of the camera looking\n",
       "    // at the center has an angle of 45 degrees.\n",
       "    const sin8 = Math.sin(Math.PI / 8);\n",
       "    const sin5 = Math.sin(Math.PI / 5);\n",
       "    const cos5 = Math.cos(Math.PI / 5);\n",
       "    const sin3 = Math.sin(Math.PI / 3);\n",
       "    const cos3 = Math.cos(Math.PI / 3);\n",
       "    var r = midToCorner / sin8;\n",
       "    var offset = new THREE.Vector3( r * sin3 * cos5, r * sin3 * sin5, r * cos3 );\n",
       "\n",
       "    if ( options.viewpoint ) {\n",
       "\n",
       "        var aa = options.viewpoint;\n",
       "        var axis = new THREE.Vector3( aa[0][0], aa[0][1], aa[0][2] ).normalize();\n",
       "        var angle = aa[1] * Math.PI / 180;\n",
       "        var q = new THREE.Quaternion().setFromAxisAngle( axis, angle ).inverse();\n",
       "\n",
       "        offset.set( 0, 0, offset.length() );\n",
       "        offset.applyQuaternion( q );\n",
       "\n",
       "    }\n",
       "\n",
       "    camera.position.add( offset );\n",
       "\n",
       "    function createCamera() {\n",
       "\n",
       "        var aspect = window.innerWidth / window.innerHeight;\n",
       "\n",
       "        // Scale the near and far clipping planes along with the overall plot size.\n",
       "        var nearClip = 0.01 * midToCorner;\n",
       "        var farClip = 100 * midToCorner;\n",
       "\n",
       "        if ( options.projection === &#x27;orthographic&#x27; ) {\n",
       "            var camera = new THREE.OrthographicCamera( -1, 1, 1, -1, -farClip, farClip );\n",
       "            updateCameraAspect( camera, aspect );\n",
       "            return camera;\n",
       "        }\n",
       "\n",
       "        return new THREE.PerspectiveCamera( 45, aspect, nearClip, farClip );\n",
       "\n",
       "    }\n",
       "\n",
       "    function updateCameraAspect( camera, aspect ) {\n",
       "\n",
       "        if ( camera.isPerspectiveCamera ) {\n",
       "            camera.aspect = aspect;\n",
       "        } else if ( camera.isOrthographicCamera ) {\n",
       "            // Fit the camera frustum to the bounding box&#x27;s diagonal so that the entire plot fits\n",
       "            // within at the default zoom level and camera position.\n",
       "            if ( aspect &gt; 1 ) { // Wide window\n",
       "                camera.top = midToCorner;\n",
       "                camera.right = midToCorner * aspect;\n",
       "            } else { // Tall or square window\n",
       "                camera.top = midToCorner / aspect;\n",
       "                camera.right = midToCorner;\n",
       "            }\n",
       "            camera.bottom = -camera.top;\n",
       "            camera.left = -camera.right;\n",
       "        }\n",
       "\n",
       "        camera.updateProjectionMatrix();\n",
       "\n",
       "    }\n",
       "\n",
       "    var lights = [{&quot;x&quot;:-5, &quot;y&quot;:3, &quot;z&quot;:0, &quot;color&quot;:&quot;#7f7f7f&quot;, &quot;parent&quot;:&quot;camera&quot;}];\n",
       "    for ( var i=0 ; i &lt; lights.length ; i++ ) {\n",
       "        var light = new THREE.DirectionalLight( lights[i].color, 1 );\n",
       "        light.position.set( a[0]*lights[i].x, a[1]*lights[i].y, a[2]*lights[i].z );\n",
       "        if ( lights[i].parent === &#x27;camera&#x27; ) {\n",
       "            light.target.position.set( a[0]*xMid, a[1]*yMid, a[2]*zMid );\n",
       "            scene.add( light.target );\n",
       "            camera.add( light );\n",
       "        } else scene.add( light );\n",
       "    }\n",
       "    scene.add( camera );\n",
       "\n",
       "    var ambient = {&quot;color&quot;:&quot;#7f7f7f&quot;};\n",
       "    scene.add( new THREE.AmbientLight( ambient.color, 1 ) );\n",
       "\n",
       "    var controls = new THREE.OrbitControls( camera, renderer.domElement );\n",
       "    controls.target.set( a[0]*xMid, a[1]*yMid, a[2]*zMid );\n",
       "    controls.addEventListener( &#x27;change&#x27;, function() { if ( !animate ) render(); } );\n",
       "\n",
       "    window.addEventListener( &#x27;resize&#x27;, function() {\n",
       "\n",
       "        renderer.setSize( window.innerWidth, window.innerHeight );\n",
       "        updateCameraAspect( camera, window.innerWidth / window.innerHeight );\n",
       "        if ( window.rescaleFatLines ) rescaleFatLines();\n",
       "        if ( !animate ) render();\n",
       "\n",
       "    } );\n",
       "\n",
       "    var texts = [];\n",
       "    for ( var i=0 ; i &lt; texts.length ; i++ ) addText( texts[i] );\n",
       "\n",
       "    function addText( json ) {\n",
       "        var sprite = addLabel( json.text, a[0]*json.x, a[1]*json.y, a[2]*json.z, json );\n",
       "        sprite.userData = json;\n",
       "    }\n",
       "\n",
       "    var points = [];\n",
       "    for ( var i=0 ; i &lt; points.length ; i++ ) addPoint( points[i] );\n",
       "\n",
       "    function addPoint( json ) {\n",
       "\n",
       "        var geometry = new THREE.Geometry();\n",
       "        var v = json.point;\n",
       "        geometry.vertices.push( new THREE.Vector3( a[0]*v[0], a[1]*v[1], a[2]*v[2] ) );\n",
       "\n",
       "        var canvas = document.createElement( &#x27;canvas&#x27; );\n",
       "        canvas.width = 128;\n",
       "        canvas.height = 128;\n",
       "\n",
       "        var context = canvas.getContext( &#x27;2d&#x27; );\n",
       "        context.arc( 64, 64, 64, 0, 2 * Math.PI );\n",
       "        context.fillStyle = json.color;\n",
       "        context.fill();\n",
       "\n",
       "        var texture = new THREE.Texture( canvas );\n",
       "        texture.needsUpdate = true;\n",
       "\n",
       "        var transparent = json.opacity &lt; 1 ? true : false;\n",
       "        var size = camera.isOrthographicCamera ? json.size : json.size/100;\n",
       "        var material = new THREE.PointsMaterial( { size: size, map: texture,\n",
       "                                                   transparent: transparent, opacity: json.opacity,\n",
       "                                                   alphaTest: .1 } );\n",
       "\n",
       "        var c = new THREE.Vector3();\n",
       "        geometry.computeBoundingBox();\n",
       "        geometry.boundingBox.getCenter( c );\n",
       "        geometry.translate( -c.x, -c.y, -c.z );\n",
       "\n",
       "        var mesh = new THREE.Points( geometry, material );\n",
       "        mesh.position.set( c.x, c.y, c.z );\n",
       "        mesh.userData = json;\n",
       "        scene.add( mesh );\n",
       "\n",
       "    }\n",
       "\n",
       "    var lines = [];\n",
       "    for ( var i=0 ; i &lt; lines.length ; i++ ) addLine( lines[i] );\n",
       "\n",
       "    function addLine( json ) {\n",
       "\n",
       "        var geometry = new THREE.Geometry();\n",
       "        for ( var i=0 ; i &lt; json.points.length ; i++ ) {\n",
       "            var v = json.points[i];\n",
       "            geometry.vertices.push( new THREE.Vector3( a[0]*v[0], a[1]*v[1], a[2]*v[2] ) );\n",
       "        }\n",
       "\n",
       "        var c = new THREE.Vector3();\n",
       "        geometry.computeBoundingBox();\n",
       "        geometry.boundingBox.getCenter( c );\n",
       "        geometry.translate( -c.x, -c.y, -c.z );\n",
       "\n",
       "        var transparent = json.opacity &lt; 1 ? true : false;\n",
       "        var materialOptions = { color: json.color, linewidth: json.linewidth,\n",
       "                                transparent: transparent, opacity: json.opacity };\n",
       "\n",
       "        var mesh;\n",
       "        if ( json.linewidth &gt; 1 &amp;&amp; window.createFatLineStrip ) {\n",
       "            mesh = createFatLineStrip( geometry, materialOptions );\n",
       "        } else {\n",
       "            var material = new THREE.LineBasicMaterial( materialOptions );\n",
       "            mesh = new THREE.Line( geometry, material );\n",
       "        }\n",
       "\n",
       "        mesh.position.set( c.x, c.y, c.z );\n",
       "        mesh.userData = json;\n",
       "        scene.add( mesh );\n",
       "\n",
       "    }\n",
       "\n",
       "    var surfaces = [{&quot;vertices&quot;: [{&quot;x&quot;: -1.0, &quot;y&quot;: -1.0, &quot;z&quot;: 1.0}, {&quot;x&quot;: -1.0, &quot;y&quot;: -0.9487179487179487, &quot;z&quot;: 0.8539085284647414}, {&quot;x&quot;: -0.9487179487179487, &quot;y&quot;: -0.9487179487179487, &quot;z&quot;: 0.8052563259663852}, {&quot;x&quot;: -0.9487179487179487, &quot;y&quot;: -1.0, &quot;z&quot;: 0.9513477975016438}, {&quot;x&quot;: -1.0, &quot;y&quot;: -0.8974358974358974, &quot;z&quot;: 0.7227869653905155}, {&quot;x&quot;: -0.9487179487179487, &quot;y&quot;: -0.8974358974358974, &quot;z&quot;: 0.674134762892159}, {&quot;x&quot;: -1.0, &quot;y&quot;: -0.846153846153846, &quot;z&quot;: 0.6058261265361855}, {&quot;x&quot;: -0.9487179487179487, &quot;y&quot;: -0.846153846153846, &quot;z&quot;: 0.5571739240378291}, {&quot;x&quot;: -1.0, &quot;y&quot;: -0.7948717948717947, &quot;z&quot;: 0.5022168276606143}, {&quot;x&quot;: -0.9487179487179487, &quot;y&quot;: -0.7948717948717947, &quot;z&quot;: 0.4535646251622578}, {&quot;x&quot;: -1.0, &quot;y&quot;: -0.7435897435897434, &quot;z&quot;: 0.4111498845226653}, {&quot;x&quot;: -0.9487179487179487, &quot;y&quot;: -0.7435897435897434, &quot;z&quot;: 0.3624976820243091}, {&quot;x&quot;: -1.0, &quot;y&quot;: -0.6923076923076921, &quot;z&quot;: 0.33181611288120116}, {&quot;x&quot;: -0.9487179487179487, &quot;y&quot;: -0.6923076923076921, &quot;z&quot;: 0.28316391038284494}, {&quot;x&quot;: -1.0, &quot;y&quot;: -0.6410256410256407, &quot;z&quot;: 0.2634063284950856}, {&quot;x&quot;: -0.9487179487179487, &quot;y&quot;: -0.6410256410256407, &quot;z&quot;: 0.21475412599672916}, {&quot;x&quot;: -1.0, &quot;y&quot;: -0.5897435897435894, &quot;z&quot;: 0.20511134712318113}, {&quot;x&quot;: -0.9487179487179487, &quot;y&quot;: -0.5897435897435894, &quot;z&quot;: 0.1564591446248247}, {&quot;x&quot;: -1.0, &quot;y&quot;: -0.5384615384615381, &quot;z&quot;: 0.1561219845243511}, {&quot;x&quot;: -0.9487179487179487, &quot;y&quot;: -0.5384615384615381, &quot;z&quot;: 0.10746978202599466}, {&quot;x&quot;: -1.0, &quot;y&quot;: -0.48717948717948684, &quot;z&quot;: 0.11562905645745847}, {&quot;x&quot;: -0.9487179487179487, &quot;y&quot;: -0.48717948717948684, &quot;z&quot;: 0.06697685395910224}, {&quot;x&quot;: -1.0, &quot;y&quot;: -0.43589743589743557, &quot;z&quot;: 0.08282337868136658}, {&quot;x&quot;: -0.9487179487179487, &quot;y&quot;: -0.43589743589743557, &quot;z&quot;: 0.034171176183010354}, {&quot;x&quot;: -1.0, &quot;y&quot;: -0.3846153846153843, &quot;z&quot;: 0.056895766954938365}, {&quot;x&quot;: -0.9487179487179487, &quot;y&quot;: -0.3846153846153843, &quot;z&quot;: 0.008243564456582031}, {&quot;x&quot;: -1.0, &quot;y&quot;: -0.33333333333333304, &quot;z&quot;: 0.03703703703703698}, {&quot;x&quot;: -0.9487179487179487, &quot;y&quot;: -0.33333333333333304, &quot;z&quot;: -0.011615165461319354}, {&quot;x&quot;: -1.0, &quot;y&quot;: -0.28205128205128177, &quot;z&quot;: 0.022438004686525348}, {&quot;x&quot;: -0.9487179487179487, &quot;y&quot;: -0.28205128205128177, &quot;z&quot;: -0.026214197811830986}, {&quot;x&quot;: -1.0, &quot;y&quot;: -0.2307692307692305, &quot;z&quot;: 0.01228948566226662}, {&quot;x&quot;: -0.9487179487179487, &quot;y&quot;: -0.2307692307692305, &quot;z&quot;: -0.036362716836089604}, {&quot;x&quot;: -1.0, &quot;y&quot;: -0.17948717948717924, &quot;z&quot;: 0.0057822957231241645}, {&quot;x&quot;: -0.9487179487179487, &quot;y&quot;: -0.17948717948717924, &quot;z&quot;: -0.04286990677523228}, {&quot;x&quot;: -1.0, &quot;y&quot;: -0.12820512820512797, &quot;z&quot;: 0.0021072506279606884}, {&quot;x&quot;: -0.9487179487179487, &quot;y&quot;: -0.12820512820512797, &quot;z&quot;: -0.046544951870395646}, {&quot;x&quot;: -1.0, &quot;y&quot;: -0.07692307692307669, &quot;z&quot;: 0.000455166135639562}, {&quot;x&quot;: -0.9487179487179487, &quot;y&quot;: -0.07692307692307669, &quot;z&quot;: -0.04819703636271688}, {&quot;x&quot;: -1.0, &quot;y&quot;: -0.02564102564102541, &quot;z&quot;: 1.6858005023712153e-05}, {&quot;x&quot;: -0.9487179487179487, &quot;y&quot;: -0.02564102564102541, &quot;z&quot;: -0.04863534449333262}, {&quot;x&quot;: -1.0, &quot;y&quot;: 0.02564102564102587, &quot;z&quot;: -1.6858005023712153e-05}, {&quot;x&quot;: -0.9487179487179487, &quot;y&quot;: 0.02564102564102587, &quot;z&quot;: -0.048669060503380046}, {&quot;x&quot;: -1.0, &quot;y&quot;: 0.07692307692307715, &quot;z&quot;: -0.000455166135639562}, {&quot;x&quot;: -0.9487179487179487, &quot;y&quot;: 0.07692307692307715, &quot;z&quot;: -0.049107368633995896}, {&quot;x&quot;: -1.0, &quot;y&quot;: 0.12820512820512842, &quot;z&quot;: -0.0021072506279606884}, {&quot;x&quot;: -0.9487179487179487, &quot;y&quot;: 0.12820512820512842, &quot;z&quot;: -0.05075945312631702}, {&quot;x&quot;: -1.0, &quot;y&quot;: 0.17948717948717968, &quot;z&quot;: -0.0057822957231241645}, {&quot;x&quot;: -0.9487179487179487, &quot;y&quot;: 0.17948717948717968, &quot;z&quot;: -0.0544344982214805}, {&quot;x&quot;: -1.0, &quot;y&quot;: 0.23076923076923095, &quot;z&quot;: -0.01228948566226673}, {&quot;x&quot;: -0.9487179487179487, &quot;y&quot;: 0.23076923076923095, &quot;z&quot;: -0.060941688160623064}, {&quot;x&quot;: -1.0, &quot;y&quot;: 0.2820512820512822, &quot;z&quot;: -0.02243800468652546}, {&quot;x&quot;: -0.9487179487179487, &quot;y&quot;: 0.2820512820512822, &quot;z&quot;: -0.07109020718488179}, {&quot;x&quot;: -1.0, &quot;y&quot;: 0.3333333333333335, &quot;z&quot;: -0.03703703703703709}, {&quot;x&quot;: -0.9487179487179487, &quot;y&quot;: 0.3333333333333335, &quot;z&quot;: -0.08568923953539342}, {&quot;x&quot;: -1.0, &quot;y&quot;: 0.38461538461538475, &quot;z&quot;: -0.05689576695493859}, {&quot;x&quot;: -0.9487179487179487, &quot;y&quot;: 0.38461538461538475, &quot;z&quot;: -0.10554796945329492}, {&quot;x&quot;: -1.0, &quot;y&quot;: 0.435897435897436, &quot;z&quot;: -0.08282337868136691}, {&quot;x&quot;: -0.9487179487179487, &quot;y&quot;: 0.435897435897436, &quot;z&quot;: -0.13147558117972324}, {&quot;x&quot;: -1.0, &quot;y&quot;: 0.4871794871794873, &quot;z&quot;: -0.11562905645745891}, {&quot;x&quot;: -0.9487179487179487, &quot;y&quot;: 0.4871794871794873, &quot;z&quot;: -0.16428125895581525}, {&quot;x&quot;: -1.0, &quot;y&quot;: 0.5384615384615385, &quot;z&quot;: -0.15612198452435144}, {&quot;x&quot;: -0.9487179487179487, &quot;y&quot;: 0.5384615384615385, &quot;z&quot;: -0.20477418702270778}, {&quot;x&quot;: -1.0, &quot;y&quot;: 0.5897435897435899, &quot;z&quot;: -0.20511134712318158}, {&quot;x&quot;: -0.9487179487179487, &quot;y&quot;: 0.5897435897435899, &quot;z&quot;: -0.2537635496215379}, {&quot;x&quot;: -1.0, &quot;y&quot;: 0.6410256410256412, &quot;z&quot;: -0.26340632849508605}, {&quot;x&quot;: -0.9487179487179487, &quot;y&quot;: 0.6410256410256412, &quot;z&quot;: -0.3120585309934425}, {&quot;x&quot;: -1.0, &quot;y&quot;: 0.6923076923076925, &quot;z&quot;: -0.33181611288120194}, {&quot;x&quot;: -0.9487179487179487, &quot;y&quot;: 0.6923076923076925, &quot;z&quot;: -0.3804683153795583}, {&quot;x&quot;: -1.0, &quot;y&quot;: 0.7435897435897438, &quot;z&quot;: -0.411149884522666}, {&quot;x&quot;: -0.9487179487179487, &quot;y&quot;: 0.7435897435897438, &quot;z&quot;: -0.4598020870210224}, {&quot;x&quot;: -1.0, &quot;y&quot;: 0.7948717948717952, &quot;z&quot;: -0.5022168276606153}, {&quot;x&quot;: -0.9487179487179487, &quot;y&quot;: 0.7948717948717952, &quot;z&quot;: -0.5508690301589716}, {&quot;x&quot;: -1.0, &quot;y&quot;: 0.8461538461538465, &quot;z&quot;: -0.6058261265361864}, {&quot;x&quot;: -0.9487179487179487, &quot;y&quot;: 0.8461538461538465, &quot;z&quot;: -0.6544783290345427}, {&quot;x&quot;: -1.0, &quot;y&quot;: 0.8974358974358978, &quot;z&quot;: -0.7227869653905166}, {&quot;x&quot;: -0.9487179487179487, &quot;y&quot;: 0.8974358974358978, &quot;z&quot;: -0.7714391678888729}, {&quot;x&quot;: -1.0, &quot;y&quot;: 0.9487179487179491, &quot;z&quot;: -0.8539085284647425}, {&quot;x&quot;: -0.9487179487179487, &quot;y&quot;: 0.9487179487179491, &quot;z&quot;: -0.9025607309630989}, {&quot;x&quot;: -1.0, &quot;y&quot;: 1.0, &quot;z&quot;: -1.0}, {&quot;x&quot;: -0.9487179487179487, &quot;y&quot;: 1.0, &quot;z&quot;: -1.0486522024983564}, {&quot;x&quot;: -0.8974358974358974, &quot;y&quot;: -0.9487179487179487, &quot;z&quot;: 0.7618638210354185}, {&quot;x&quot;: -0.8974358974358974, &quot;y&quot;: -1.0, &quot;z&quot;: 0.9079552925706771}, {&quot;x&quot;: -0.8974358974358974, &quot;y&quot;: -0.8974358974358974, &quot;z&quot;: 0.6307422579611925}, {&quot;x&quot;: -0.8974358974358974, &quot;y&quot;: -0.846153846153846, &quot;z&quot;: 0.5137814191068624}, {&quot;x&quot;: -0.8974358974358974, &quot;y&quot;: -0.7948717948717947, &quot;z&quot;: 0.41017212023129135}, {&quot;x&quot;: -0.8974358974358974, &quot;y&quot;: -0.7435897435897434, &quot;z&quot;: 0.3191051770933424}, {&quot;x&quot;: -0.8974358974358974, &quot;y&quot;: -0.6923076923076921, &quot;z&quot;: 0.23977140545187847}, {&quot;x&quot;: -0.8974358974358974, &quot;y&quot;: -0.6410256410256407, &quot;z&quot;: 0.1713616210657627}, {&quot;x&quot;: -0.8974358974358974, &quot;y&quot;: -0.5897435897435894, &quot;z&quot;: 0.11306663969385822}, {&quot;x&quot;: -0.8974358974358974, &quot;y&quot;: -0.5384615384615381, &quot;z&quot;: 0.0640772770950282}, {&quot;x&quot;: -0.8974358974358974, &quot;y&quot;: -0.48717948717948684, &quot;z&quot;: 0.023584349028135665}, {&quot;x&quot;: -0.8974358974358974, &quot;y&quot;: -0.43589743589743557, &quot;z&quot;: -0.009221328747956226}, {&quot;x&quot;: -0.8974358974358974, &quot;y&quot;: -0.3846153846153843, &quot;z&quot;: -0.03514894047438455}, {&quot;x&quot;: -0.8974358974358974, &quot;y&quot;: -0.33333333333333304, &quot;z&quot;: -0.055007670392285934}, {&quot;x&quot;: -0.8974358974358974, &quot;y&quot;: -0.28205128205128177, &quot;z&quot;: -0.06960670274279757}, {&quot;x&quot;: -0.8974358974358974, &quot;y&quot;: -0.2307692307692305, &quot;z&quot;: -0.07975522176705618}, {&quot;x&quot;: -0.8974358974358974, &quot;y&quot;: -0.17948717948717924, &quot;z&quot;: -0.08626241170619886}, {&quot;x&quot;: -0.8974358974358974, &quot;y&quot;: -0.12820512820512797, &quot;z&quot;: -0.08993745680136223}, {&quot;x&quot;: -0.8974358974358974, &quot;y&quot;: -0.07692307692307669, &quot;z&quot;: -0.09158954129368346}, {&quot;x&quot;: -0.8974358974358974, &quot;y&quot;: -0.02564102564102541, &quot;z&quot;: -0.0920278494242992}, {&quot;x&quot;: -0.8974358974358974, &quot;y&quot;: 0.02564102564102587, &quot;z&quot;: -0.09206156543434663}, {&quot;x&quot;: -0.8974358974358974, &quot;y&quot;: 0.07692307692307715, &quot;z&quot;: -0.09249987356496248}, {&quot;x&quot;: -0.8974358974358974, &quot;y&quot;: 0.12820512820512842, &quot;z&quot;: -0.0941519580572836}, {&quot;x&quot;: -0.8974358974358974, &quot;y&quot;: 0.17948717948717968, &quot;z&quot;: -0.09782700315244708}, {&quot;x&quot;: -0.8974358974358974, &quot;y&quot;: 0.23076923076923095, &quot;z&quot;: -0.10433419309158964}, {&quot;x&quot;: -0.8974358974358974, &quot;y&quot;: 0.2820512820512822, &quot;z&quot;: -0.11448271211584837}, {&quot;x&quot;: -0.8974358974358974, &quot;y&quot;: 0.3333333333333335, &quot;z&quot;: -0.12908174446636}, {&quot;x&quot;: -0.8974358974358974, &quot;y&quot;: 0.38461538461538475, &quot;z&quot;: -0.1489404743842615}, {&quot;x&quot;: -0.8974358974358974, &quot;y&quot;: 0.435897435897436, &quot;z&quot;: -0.17486808611068982}, {&quot;x&quot;: -0.8974358974358974, &quot;y&quot;: 0.4871794871794873, &quot;z&quot;: -0.20767376388678183}, {&quot;x&quot;: -0.8974358974358974, &quot;y&quot;: 0.5384615384615385, &quot;z&quot;: -0.24816669195367436}, {&quot;x&quot;: -0.8974358974358974, &quot;y&quot;: 0.5897435897435899, &quot;z&quot;: -0.2971560545525045}, {&quot;x&quot;: -0.8974358974358974, &quot;y&quot;: 0.6410256410256412, &quot;z&quot;: -0.35545103592440896}, {&quot;x&quot;: -0.8974358974358974, &quot;y&quot;: 0.6923076923076925, &quot;z&quot;: -0.42386082031052486}, {&quot;x&quot;: -0.8974358974358974, &quot;y&quot;: 0.7435897435897438, &quot;z&quot;: -0.5031945919519889}, {&quot;x&quot;: -0.8974358974358974, &quot;y&quot;: 0.7948717948717952, &quot;z&quot;: -0.5942615350899382}, {&quot;x&quot;: -0.8974358974358974, &quot;y&quot;: 0.8461538461538465, &quot;z&quot;: -0.6978708339655093}, {&quot;x&quot;: -0.8974358974358974, &quot;y&quot;: 0.8974358974358978, &quot;z&quot;: -0.8148316728198395}, {&quot;x&quot;: -0.8974358974358974, &quot;y&quot;: 0.9487179487179491, &quot;z&quot;: -0.9459532358940654}, {&quot;x&quot;: -0.8974358974358974, &quot;y&quot;: 1.0, &quot;z&quot;: -1.092044707429323}, {&quot;x&quot;: -0.846153846153846, &quot;y&quot;: -0.9487179487179487, &quot;z&quot;: 0.723731013671842}, {&quot;x&quot;: -0.846153846153846, &quot;y&quot;: -1.0, &quot;z&quot;: 0.8698224852071006}, {&quot;x&quot;: -0.846153846153846, &quot;y&quot;: -0.8974358974358974, &quot;z&quot;: 0.5926094505976158}, {&quot;x&quot;: -0.846153846153846, &quot;y&quot;: -0.846153846153846, &quot;z&quot;: 0.4756486117432859}, {&quot;x&quot;: -0.846153846153846, &quot;y&quot;: -0.7948717948717947, &quot;z&quot;: 0.37203931286771463}, {&quot;x&quot;: -0.846153846153846, &quot;y&quot;: -0.7435897435897434, &quot;z&quot;: 0.2809723697297659}, {&quot;x&quot;: -0.846153846153846, &quot;y&quot;: -0.6923076923076921, &quot;z&quot;: 0.20163859808830176}, {&quot;x&quot;: -0.846153846153846, &quot;y&quot;: -0.6410256410256407, &quot;z&quot;: 0.13322881370218598}, {&quot;x&quot;: -0.846153846153846, &quot;y&quot;: -0.5897435897435894, &quot;z&quot;: 0.07493383233028161}, {&quot;x&quot;: -0.846153846153846, &quot;y&quot;: -0.5384615384615381, &quot;z&quot;: 0.02594446973145148}, {&quot;x&quot;: -0.846153846153846, &quot;y&quot;: -0.48717948717948684, &quot;z&quot;: -0.01454845833544094}, {&quot;x&quot;: -0.846153846153846, &quot;y&quot;: -0.43589743589743557, &quot;z&quot;: -0.04735413611153283}, {&quot;x&quot;: -0.846153846153846, &quot;y&quot;: -0.3846153846153843, &quot;z&quot;: -0.07328174783796115}, {&quot;x&quot;: -0.846153846153846, &quot;y&quot;: -0.33333333333333304, &quot;z&quot;: -0.09314047775586254}, {&quot;x&quot;: -0.846153846153846, &quot;y&quot;: -0.28205128205128177, &quot;z&quot;: -0.10773951010637417}, {&quot;x&quot;: -0.846153846153846, &quot;y&quot;: -0.2307692307692305, &quot;z&quot;: -0.11788802913063279}, {&quot;x&quot;: -0.846153846153846, &quot;y&quot;: -0.17948717948717924, &quot;z&quot;: -0.12439521906977546}, {&quot;x&quot;: -0.846153846153846, &quot;y&quot;: -0.12820512820512797, &quot;z&quot;: -0.12807026416493883}, {&quot;x&quot;: -0.846153846153846, &quot;y&quot;: -0.07692307692307669, &quot;z&quot;: -0.12972234865726007}, {&quot;x&quot;: -0.846153846153846, &quot;y&quot;: -0.02564102564102541, &quot;z&quot;: -0.1301606567878758}, {&quot;x&quot;: -0.846153846153846, &quot;y&quot;: 0.02564102564102587, &quot;z&quot;: -0.13019437279792323}, {&quot;x&quot;: -0.846153846153846, &quot;y&quot;: 0.07692307692307715, &quot;z&quot;: -0.13063268092853908}, {&quot;x&quot;: -0.846153846153846, &quot;y&quot;: 0.12820512820512842, &quot;z&quot;: -0.1322847654208602}, {&quot;x&quot;: -0.846153846153846, &quot;y&quot;: 0.17948717948717968, &quot;z&quot;: -0.13595981051602368}, {&quot;x&quot;: -0.846153846153846, &quot;y&quot;: 0.23076923076923095, &quot;z&quot;: -0.14246700045516625}, {&quot;x&quot;: -0.846153846153846, &quot;y&quot;: 0.2820512820512822, &quot;z&quot;: -0.15261551947942498}, {&quot;x&quot;: -0.846153846153846, &quot;y&quot;: 0.3333333333333335, &quot;z&quot;: -0.1672145518299366}, {&quot;x&quot;: -0.846153846153846, &quot;y&quot;: 0.38461538461538475, &quot;z&quot;: -0.1870732817478381}, {&quot;x&quot;: -0.846153846153846, &quot;y&quot;: 0.435897435897436, &quot;z&quot;: -0.21300089347426643}, {&quot;x&quot;: -0.846153846153846, &quot;y&quot;: 0.4871794871794873, &quot;z&quot;: -0.24580657125035843}, {&quot;x&quot;: -0.846153846153846, &quot;y&quot;: 0.5384615384615385, &quot;z&quot;: -0.28629949931725096}, {&quot;x&quot;: -0.846153846153846, &quot;y&quot;: 0.5897435897435899, &quot;z&quot;: -0.3352888619160811}, {&quot;x&quot;: -0.846153846153846, &quot;y&quot;: 0.6410256410256412, &quot;z&quot;: -0.3935838432879856}, {&quot;x&quot;: -0.846153846153846, &quot;y&quot;: 0.6923076923076925, &quot;z&quot;: -0.46199362767410146}, {&quot;x&quot;: -0.846153846153846, &quot;y&quot;: 0.7435897435897438, &quot;z&quot;: -0.5413273993155656}, {&quot;x&quot;: -0.846153846153846, &quot;y&quot;: 0.7948717948717952, &quot;z&quot;: -0.6323943424535148}, {&quot;x&quot;: -0.846153846153846, &quot;y&quot;: 0.8461538461538465, &quot;z&quot;: -0.7360036413290859}, {&quot;x&quot;: -0.846153846153846, &quot;y&quot;: 0.8974358974358978, &quot;z&quot;: -0.8529644801834161}, {&quot;x&quot;: -0.846153846153846, &quot;y&quot;: 0.9487179487179491, &quot;z&quot;: -0.984086043257642}, {&quot;x&quot;: -0.846153846153846, &quot;y&quot;: 1.0, &quot;z&quot;: -1.1301775147928996}, {&quot;x&quot;: -0.7948717948717947, &quot;y&quot;: -0.9487179487179487, &quot;z&quot;: 0.690857903875655}, {&quot;x&quot;: -0.7948717948717947, &quot;y&quot;: -1.0, &quot;z&quot;: 0.8369493754109136}, {&quot;x&quot;: -0.7948717948717947, &quot;y&quot;: -0.8974358974358974, &quot;z&quot;: 0.5597363408014293}, {&quot;x&quot;: -0.7948717948717947, &quot;y&quot;: -0.846153846153846, &quot;z&quot;: 0.44277550194709914}, {&quot;x&quot;: -0.7948717948717947, &quot;y&quot;: -0.7948717948717947, &quot;z&quot;: 0.3391662030715281}, {&quot;x&quot;: -0.7948717948717947, &quot;y&quot;: -0.7435897435897434, &quot;z&quot;: 0.24809925993357895}, {&quot;x&quot;: -0.7948717948717947, &quot;y&quot;: -0.6923076923076921, &quot;z&quot;: 0.16876548829211502}, {&quot;x&quot;: -0.7948717948717947, &quot;y&quot;: -0.6410256410256407, &quot;z&quot;: 0.10035570390599924}, {&quot;x&quot;: -0.7948717948717947, &quot;y&quot;: -0.5897435897435894, &quot;z&quot;: 0.042060722534094874}, {&quot;x&quot;: -0.7948717948717947, &quot;y&quot;: -0.5384615384615381, &quot;z&quot;: -0.006928640064735259}, {&quot;x&quot;: -0.7948717948717947, &quot;y&quot;: -0.48717948717948684, &quot;z&quot;: -0.04742156813162768}, {&quot;x&quot;: -0.7948717948717947, &quot;y&quot;: -0.43589743589743557, &quot;z&quot;: -0.08022724590771957}, {&quot;x&quot;: -0.7948717948717947, &quot;y&quot;: -0.3846153846153843, &quot;z&quot;: -0.10615485763414789}, {&quot;x&quot;: -0.7948717948717947, &quot;y&quot;: -0.33333333333333304, &quot;z&quot;: -0.12601358755204928}, {&quot;x&quot;: -0.7948717948717947, &quot;y&quot;: -0.28205128205128177, &quot;z&quot;: -0.1406126199025609}, {&quot;x&quot;: -0.7948717948717947, &quot;y&quot;: -0.2307692307692305, &quot;z&quot;: -0.15076113892681953}, {&quot;x&quot;: -0.7948717948717947, &quot;y&quot;: -0.17948717948717924, &quot;z&quot;: -0.1572683288659622}, {&quot;x&quot;: -0.7948717948717947, &quot;y&quot;: -0.12820512820512797, &quot;z&quot;: -0.16094337396112557}, {&quot;x&quot;: -0.7948717948717947, &quot;y&quot;: -0.07692307692307669, &quot;z&quot;: -0.1625954584534468}, {&quot;x&quot;: -0.7948717948717947, &quot;y&quot;: -0.02564102564102541, &quot;z&quot;: -0.16303376658406254}, {&quot;x&quot;: -0.7948717948717947, &quot;y&quot;: 0.02564102564102587, &quot;z&quot;: -0.16306748259410997}, {&quot;x&quot;: -0.7948717948717947, &quot;y&quot;: 0.07692307692307715, &quot;z&quot;: -0.16350579072472582}, {&quot;x&quot;: -0.7948717948717947, &quot;y&quot;: 0.12820512820512842, &quot;z&quot;: -0.16515787521704695}, {&quot;x&quot;: -0.7948717948717947, &quot;y&quot;: 0.17948717948717968, &quot;z&quot;: -0.16883292031221042}, {&quot;x&quot;: -0.7948717948717947, &quot;y&quot;: 0.23076923076923095, &quot;z&quot;: -0.175340110251353}, {&quot;x&quot;: -0.7948717948717947, &quot;y&quot;: 0.2820512820512822, &quot;z&quot;: -0.18548862927561172}, {&quot;x&quot;: -0.7948717948717947, &quot;y&quot;: 0.3333333333333335, &quot;z&quot;: -0.20008766162612335}, {&quot;x&quot;: -0.7948717948717947, &quot;y&quot;: 0.38461538461538475, &quot;z&quot;: -0.21994639154402484}, {&quot;x&quot;: -0.7948717948717947, &quot;y&quot;: 0.435897435897436, &quot;z&quot;: -0.24587400327045317}, {&quot;x&quot;: -0.7948717948717947, &quot;y&quot;: 0.4871794871794873, &quot;z&quot;: -0.27867968104654517}, {&quot;x&quot;: -0.7948717948717947, &quot;y&quot;: 0.5384615384615385, &quot;z&quot;: -0.3191726091134377}, {&quot;x&quot;: -0.7948717948717947, &quot;y&quot;: 0.5897435897435899, &quot;z&quot;: -0.36816197171226783}, {&quot;x&quot;: -0.7948717948717947, &quot;y&quot;: 0.6410256410256412, &quot;z&quot;: -0.42645695308417236}, {&quot;x&quot;: -0.7948717948717947, &quot;y&quot;: 0.6923076923076925, &quot;z&quot;: -0.4948667374702882}, {&quot;x&quot;: -0.7948717948717947, &quot;y&quot;: 0.7435897435897438, &quot;z&quot;: -0.5742005091117524}, {&quot;x&quot;: -0.7948717948717947, &quot;y&quot;: 0.7948717948717952, &quot;z&quot;: -0.6652674522497015}, {&quot;x&quot;: -0.7948717948717947, &quot;y&quot;: 0.8461538461538465, &quot;z&quot;: -0.7688767511252727}, {&quot;x&quot;: -0.7948717948717947, &quot;y&quot;: 0.8974358974358978, &quot;z&quot;: -0.8858375899796028}, {&quot;x&quot;: -0.7948717948717947, &quot;y&quot;: 0.9487179487179491, &quot;z&quot;: -1.0169591530538287}, {&quot;x&quot;: -0.7948717948717947, &quot;y&quot;: 1.0, &quot;z&quot;: -1.1630506245890864}, {&quot;x&quot;: -0.7435897435897434, &quot;y&quot;: -0.9487179487179487, &quot;z&quot;: 0.6632444916468583}, {&quot;x&quot;: -0.7435897435897434, &quot;y&quot;: -1.0, &quot;z&quot;: 0.8093359631821169}, {&quot;x&quot;: -0.7435897435897434, &quot;y&quot;: -0.8974358974358974, &quot;z&quot;: 0.5321229285726325}, {&quot;x&quot;: -0.7435897435897434, &quot;y&quot;: -0.846153846153846, &quot;z&quot;: 0.4151620897183024}, {&quot;x&quot;: -0.7435897435897434, &quot;y&quot;: -0.7948717948717947, &quot;z&quot;: 0.31155279084273135}, {&quot;x&quot;: -0.7435897435897434, &quot;y&quot;: -0.7435897435897434, &quot;z&quot;: 0.2204858477047823}, {&quot;x&quot;: -0.7435897435897434, &quot;y&quot;: -0.6923076923076921, &quot;z&quot;: 0.14115207606331825}, {&quot;x&quot;: -0.7435897435897434, &quot;y&quot;: -0.6410256410256407, &quot;z&quot;: 0.07274229167720248}, {&quot;x&quot;: -0.7435897435897434, &quot;y&quot;: -0.5897435897435894, &quot;z&quot;: 0.014447310305298111}, {&quot;x&quot;: -0.7435897435897434, &quot;y&quot;: -0.5384615384615381, &quot;z&quot;: -0.03454205229353202}, {&quot;x&quot;: -0.7435897435897434, &quot;y&quot;: -0.48717948717948684, &quot;z&quot;: -0.07503498036042444}, {&quot;x&quot;: -0.7435897435897434, &quot;y&quot;: -0.43589743589743557, &quot;z&quot;: -0.10784065813651633}, {&quot;x&quot;: -0.7435897435897434, &quot;y&quot;: -0.3846153846153843, &quot;z&quot;: -0.13376826986294466}, {&quot;x&quot;: -0.7435897435897434, &quot;y&quot;: -0.33333333333333304, &quot;z&quot;: -0.15362699978084604}, {&quot;x&quot;: -0.7435897435897434, &quot;y&quot;: -0.28205128205128177, &quot;z&quot;: -0.16822603213135767}, {&quot;x&quot;: -0.7435897435897434, &quot;y&quot;: -0.2307692307692305, &quot;z&quot;: -0.1783745511556163}, {&quot;x&quot;: -0.7435897435897434, &quot;y&quot;: -0.17948717948717924, &quot;z&quot;: -0.18488174109475897}, {&quot;x&quot;: -0.7435897435897434, &quot;y&quot;: -0.12820512820512797, &quot;z&quot;: -0.18855678618992233}, {&quot;x&quot;: -0.7435897435897434, &quot;y&quot;: -0.07692307692307669, &quot;z&quot;: -0.19020887068224357}, {&quot;x&quot;: -0.7435897435897434, &quot;y&quot;: -0.02564102564102541, &quot;z&quot;: -0.1906471788128593}, {&quot;x&quot;: -0.7435897435897434, &quot;y&quot;: 0.02564102564102587, &quot;z&quot;: -0.19068089482290673}, {&quot;x&quot;: -0.7435897435897434, &quot;y&quot;: 0.07692307692307715, &quot;z&quot;: -0.19111920295352258}, {&quot;x&quot;: -0.7435897435897434, &quot;y&quot;: 0.12820512820512842, &quot;z&quot;: -0.1927712874458437}, {&quot;x&quot;: -0.7435897435897434, &quot;y&quot;: 0.17948717948717968, &quot;z&quot;: -0.19644633254100718}, {&quot;x&quot;: -0.7435897435897434, &quot;y&quot;: 0.23076923076923095, &quot;z&quot;: -0.20295352248014975}, {&quot;x&quot;: -0.7435897435897434, &quot;y&quot;: 0.2820512820512822, &quot;z&quot;: -0.21310204150440848}, {&quot;x&quot;: -0.7435897435897434, &quot;y&quot;: 0.3333333333333335, &quot;z&quot;: -0.2277010738549201}, {&quot;x&quot;: -0.7435897435897434, &quot;y&quot;: 0.38461538461538475, &quot;z&quot;: -0.2475598037728216}, {&quot;x&quot;: -0.7435897435897434, &quot;y&quot;: 0.435897435897436, &quot;z&quot;: -0.27348741549924993}, {&quot;x&quot;: -0.7435897435897434, &quot;y&quot;: 0.4871794871794873, &quot;z&quot;: -0.30629309327534193}, {&quot;x&quot;: -0.7435897435897434, &quot;y&quot;: 0.5384615384615385, &quot;z&quot;: -0.34678602134223446}, {&quot;x&quot;: -0.7435897435897434, &quot;y&quot;: 0.5897435897435899, &quot;z&quot;: -0.3957753839410646}, {&quot;x&quot;: -0.7435897435897434, &quot;y&quot;: 0.6410256410256412, &quot;z&quot;: -0.4540703653129691}, {&quot;x&quot;: -0.7435897435897434, &quot;y&quot;: 0.6923076923076925, &quot;z&quot;: -0.522480149699085}, {&quot;x&quot;: -0.7435897435897434, &quot;y&quot;: 0.7435897435897438, &quot;z&quot;: -0.6018139213405491}, {&quot;x&quot;: -0.7435897435897434, &quot;y&quot;: 0.7948717948717952, &quot;z&quot;: -0.6928808644784983}, {&quot;x&quot;: -0.7435897435897434, &quot;y&quot;: 0.8461538461538465, &quot;z&quot;: -0.7964901633540694}, {&quot;x&quot;: -0.7435897435897434, &quot;y&quot;: 0.8974358974358978, &quot;z&quot;: -0.9134510022083996}, {&quot;x&quot;: -0.7435897435897434, &quot;y&quot;: 0.9487179487179491, &quot;z&quot;: -1.0445725652826257}, {&quot;x&quot;: -0.7435897435897434, &quot;y&quot;: 1.0, &quot;z&quot;: -1.190664036817883}, {&quot;x&quot;: -0.6923076923076921, &quot;y&quot;: -0.9487179487179487, &quot;z&quot;: 0.6408907769854513}, {&quot;x&quot;: -0.6923076923076921, &quot;y&quot;: -1.0, &quot;z&quot;: 0.7869822485207099}, {&quot;x&quot;: -0.6923076923076921, &quot;y&quot;: -0.8974358974358974, &quot;z&quot;: 0.5097692139112255}, {&quot;x&quot;: -0.6923076923076921, &quot;y&quot;: -0.846153846153846, &quot;z&quot;: 0.39280837505689536}, {&quot;x&quot;: -0.6923076923076921, &quot;y&quot;: -0.7948717948717947, &quot;z&quot;: 0.28919907618132423}, {&quot;x&quot;: -0.6923076923076921, &quot;y&quot;: -0.7435897435897434, &quot;z&quot;: 0.1981321330433753}, {&quot;x&quot;: -0.6923076923076921, &quot;y&quot;: -0.6923076923076921, &quot;z&quot;: 0.11879836140191125}, {&quot;x&quot;: -0.6923076923076921, &quot;y&quot;: -0.6410256410256407, &quot;z&quot;: 0.050388577015795466}, {&quot;x&quot;: -0.6923076923076921, &quot;y&quot;: -0.5897435897435894, &quot;z&quot;: -0.007906404356108898}, {&quot;x&quot;: -0.6923076923076921, &quot;y&quot;: -0.5384615384615381, &quot;z&quot;: -0.05689576695493903}, {&quot;x&quot;: -0.6923076923076921, &quot;y&quot;: -0.48717948717948684, &quot;z&quot;: -0.09738869502183145}, {&quot;x&quot;: -0.6923076923076921, &quot;y&quot;: -0.43589743589743557, &quot;z&quot;: -0.13019437279792334}, {&quot;x&quot;: -0.6923076923076921, &quot;y&quot;: -0.3846153846153843, &quot;z&quot;: -0.15612198452435166}, {&quot;x&quot;: -0.6923076923076921, &quot;y&quot;: -0.33333333333333304, &quot;z&quot;: -0.17598071444225305}, {&quot;x&quot;: -0.6923076923076921, &quot;y&quot;: -0.28205128205128177, &quot;z&quot;: -0.19057974679276468}, {&quot;x&quot;: -0.6923076923076921, &quot;y&quot;: -0.2307692307692305, &quot;z&quot;: -0.20072826581702335}, {&quot;x&quot;: -0.6923076923076921, &quot;y&quot;: -0.17948717948717924, &quot;z&quot;: -0.20723545575616592}, {&quot;x&quot;: -0.6923076923076921, &quot;y&quot;: -0.12820512820512797, &quot;z&quot;: -0.21091050085132934}, {&quot;x&quot;: -0.6923076923076921, &quot;y&quot;: -0.07692307692307669, &quot;z&quot;: -0.21256258534365052}, {&quot;x&quot;: -0.6923076923076921, &quot;y&quot;: -0.02564102564102541, &quot;z&quot;: -0.21300089347426632}, {&quot;x&quot;: -0.6923076923076921, &quot;y&quot;: 0.02564102564102587, &quot;z&quot;: -0.21303460948431374}, {&quot;x&quot;: -0.6923076923076921, &quot;y&quot;: 0.07692307692307715, &quot;z&quot;: -0.21347291761492954}, {&quot;x&quot;: -0.6923076923076921, &quot;y&quot;: 0.12820512820512842, &quot;z&quot;: -0.21512500210725072}, {&quot;x&quot;: -0.6923076923076921, &quot;y&quot;: 0.17948717948717968, &quot;z&quot;: -0.2188000472024142}, {&quot;x&quot;: -0.6923076923076921, &quot;y&quot;: 0.23076923076923095, &quot;z&quot;: -0.22530723714155676}, {&quot;x&quot;: -0.6923076923076921, &quot;y&quot;: 0.2820512820512822, &quot;z&quot;: -0.2354557561658155}, {&quot;x&quot;: -0.6923076923076921, &quot;y&quot;: 0.3333333333333335, &quot;z&quot;: -0.2500547885163271}, {&quot;x&quot;: -0.6923076923076921, &quot;y&quot;: 0.38461538461538475, &quot;z&quot;: -0.2699135184342286}, {&quot;x&quot;: -0.6923076923076921, &quot;y&quot;: 0.435897435897436, &quot;z&quot;: -0.29584113016065694}, {&quot;x&quot;: -0.6923076923076921, &quot;y&quot;: 0.4871794871794873, &quot;z&quot;: -0.32864680793674894}, {&quot;x&quot;: -0.6923076923076921, &quot;y&quot;: 0.5384615384615385, &quot;z&quot;: -0.36913973600364147}, {&quot;x&quot;: -0.6923076923076921, &quot;y&quot;: 0.5897435897435899, &quot;z&quot;: -0.4181290986024716}, {&quot;x&quot;: -0.6923076923076921, &quot;y&quot;: 0.6410256410256412, &quot;z&quot;: -0.47642407997437614}, {&quot;x&quot;: -0.6923076923076921, &quot;y&quot;: 0.6923076923076925, &quot;z&quot;: -0.544833864360492}, {&quot;x&quot;: -0.6923076923076921, &quot;y&quot;: 0.7435897435897438, &quot;z&quot;: -0.6241676360019561}, {&quot;x&quot;: -0.6923076923076921, &quot;y&quot;: 0.7948717948717952, &quot;z&quot;: -0.7152345791399053}, {&quot;x&quot;: -0.6923076923076921, &quot;y&quot;: 0.8461538461538465, &quot;z&quot;: -0.8188438780154764}, {&quot;x&quot;: -0.6923076923076921, &quot;y&quot;: 0.8974358974358978, &quot;z&quot;: -0.9358047168698066}, {&quot;x&quot;: -0.6923076923076921, &quot;y&quot;: 0.9487179487179491, &quot;z&quot;: -1.0669262799440324}, {&quot;x&quot;: -0.6923076923076921, &quot;y&quot;: 1.0, &quot;z&quot;: -1.2130177514792901}, {&quot;x&quot;: -0.6410256410256407, &quot;y&quot;: -0.9487179487179487, &quot;z&quot;: 0.6237967598914342}, {&quot;x&quot;: -0.6410256410256407, &quot;y&quot;: -1.0, &quot;z&quot;: 0.7698882314266928}, {&quot;x&quot;: -0.6410256410256407, &quot;y&quot;: -0.8974358974358974, &quot;z&quot;: 0.4926751968172083}, {&quot;x&quot;: -0.6410256410256407, &quot;y&quot;: -0.846153846153846, &quot;z&quot;: 0.37571435796287833}, {&quot;x&quot;: -0.6410256410256407, &quot;y&quot;: -0.7948717948717947, &quot;z&quot;: 0.2721050590873071}, {&quot;x&quot;: -0.6410256410256407, &quot;y&quot;: -0.7435897435897434, &quot;z&quot;: 0.18103811594935815}, {&quot;x&quot;: -0.6410256410256407, &quot;y&quot;: -0.6923076923076921, &quot;z&quot;: 0.10170434430789421}, {&quot;x&quot;: -0.6410256410256407, &quot;y&quot;: -0.6410256410256407, &quot;z&quot;: 0.03329455992177843}, {&quot;x&quot;: -0.6410256410256407, &quot;y&quot;: -0.5897435897435894, &quot;z&quot;: -0.025000421450126042}, {&quot;x&quot;: -0.6410256410256407, &quot;y&quot;: -0.5384615384615381, &quot;z&quot;: -0.07398978404895606}, {&quot;x&quot;: -0.6410256410256407, &quot;y&quot;: -0.48717948717948684, &quot;z&quot;: -0.11448271211584848}, {&quot;x&quot;: -0.6410256410256407, &quot;y&quot;: -0.43589743589743557, &quot;z&quot;: -0.14728838989194049}, {&quot;x&quot;: -0.6410256410256407, &quot;y&quot;: -0.3846153846153843, &quot;z&quot;: -0.1732160016183687}, {&quot;x&quot;: -0.6410256410256407, &quot;y&quot;: -0.33333333333333304, &quot;z&quot;: -0.1930747315362702}, {&quot;x&quot;: -0.6410256410256407, &quot;y&quot;: -0.28205128205128177, &quot;z&quot;: -0.20767376388678177}, {&quot;x&quot;: -0.6410256410256407, &quot;y&quot;: -0.2307692307692305, &quot;z&quot;: -0.21782228291104044}, {&quot;x&quot;: -0.6410256410256407, &quot;y&quot;: -0.17948717948717924, &quot;z&quot;: -0.224329472850183}, {&quot;x&quot;: -0.6410256410256407, &quot;y&quot;: -0.12820512820512797, &quot;z&quot;: -0.22800451794534643}, {&quot;x&quot;: -0.6410256410256407, &quot;y&quot;: -0.07692307692307669, &quot;z&quot;: -0.2296566024376676}, {&quot;x&quot;: -0.6410256410256407, &quot;y&quot;: -0.02564102564102541, &quot;z&quot;: -0.2300949105682834}, {&quot;x&quot;: -0.6410256410256407, &quot;y&quot;: 0.02564102564102587, &quot;z&quot;: -0.23012862657833083}, {&quot;x&quot;: -0.6410256410256407, &quot;y&quot;: 0.07692307692307715, &quot;z&quot;: -0.23056693470894662}, {&quot;x&quot;: -0.6410256410256407, &quot;y&quot;: 0.12820512820512842, &quot;z&quot;: -0.2322190192012678}, {&quot;x&quot;: -0.6410256410256407, &quot;y&quot;: 0.17948717948717968, &quot;z&quot;: -0.23589406429643128}, {&quot;x&quot;: -0.6410256410256407, &quot;y&quot;: 0.23076923076923095, &quot;z&quot;: -0.24240125423557385}, {&quot;x&quot;: -0.6410256410256407, &quot;y&quot;: 0.2820512820512822, &quot;z&quot;: -0.2525497732598326}, {&quot;x&quot;: -0.6410256410256407, &quot;y&quot;: 0.3333333333333335, &quot;z&quot;: -0.2671488056103442}, {&quot;x&quot;: -0.6410256410256407, &quot;y&quot;: 0.38461538461538475, &quot;z&quot;: -0.2870075355282457}, {&quot;x&quot;: -0.6410256410256407, &quot;y&quot;: 0.435897435897436, &quot;z&quot;: -0.31293514725467403}, {&quot;x&quot;: -0.6410256410256407, &quot;y&quot;: 0.4871794871794873, &quot;z&quot;: -0.34574082503076603}, {&quot;x&quot;: -0.6410256410256407, &quot;y&quot;: 0.5384615384615385, &quot;z&quot;: -0.3862337530976586}, {&quot;x&quot;: -0.6410256410256407, &quot;y&quot;: 0.5897435897435899, &quot;z&quot;: -0.4352231156964887}, {&quot;x&quot;: -0.6410256410256407, &quot;y&quot;: 0.6410256410256412, &quot;z&quot;: -0.4935180970683932}, {&quot;x&quot;: -0.6410256410256407, &quot;y&quot;: 0.6923076923076925, &quot;z&quot;: -0.561927881454509}, {&quot;x&quot;: -0.6410256410256407, &quot;y&quot;: 0.7435897435897438, &quot;z&quot;: -0.6412616530959732}, {&quot;x&quot;: -0.6410256410256407, &quot;y&quot;: 0.7948717948717952, &quot;z&quot;: -0.7323285962339223}, {&quot;x&quot;: -0.6410256410256407, &quot;y&quot;: 0.8461538461538465, &quot;z&quot;: -0.8359378951094936}, {&quot;x&quot;: -0.6410256410256407, &quot;y&quot;: 0.8974358974358978, &quot;z&quot;: -0.9528987339638237}, {&quot;x&quot;: -0.6410256410256407, &quot;y&quot;: 0.9487179487179491, &quot;z&quot;: -1.0840202970380497}, {&quot;x&quot;: -0.6410256410256407, &quot;y&quot;: 1.0, &quot;z&quot;: -1.2301117685733072}, {&quot;x&quot;: -0.5897435897435894, &quot;y&quot;: -0.9487179487179487, &quot;z&quot;: 0.6119624403648072}, {&quot;x&quot;: -0.5897435897435894, &quot;y&quot;: -1.0, &quot;z&quot;: 0.7580539119000658}, {&quot;x&quot;: -0.5897435897435894, &quot;y&quot;: -0.8974358974358974, &quot;z&quot;: 0.4808408772905812}, {&quot;x&quot;: -0.5897435897435894, &quot;y&quot;: -0.846153846153846, &quot;z&quot;: 0.36388003843625105}, {&quot;x&quot;: -0.5897435897435894, &quot;y&quot;: -0.7948717948717947, &quot;z&quot;: 0.26027073956068003}, {&quot;x&quot;: -0.5897435897435894, &quot;y&quot;: -0.7435897435897434, &quot;z&quot;: 0.1692037964227311}, {&quot;x&quot;: -0.5897435897435894, &quot;y&quot;: -0.6923076923076921, &quot;z&quot;: 0.08987002478126693}, {&quot;x&quot;: -0.5897435897435894, &quot;y&quot;: -0.6410256410256407, &quot;z&quot;: 0.021460240395151264}, {&quot;x&quot;: -0.5897435897435894, &quot;y&quot;: -0.5897435897435894, &quot;z&quot;: -0.0368347409767531}, {&quot;x&quot;: -0.5897435897435894, &quot;y&quot;: -0.5384615384615381, &quot;z&quot;: -0.08582410357558323}, {&quot;x&quot;: -0.5897435897435894, &quot;y&quot;: -0.48717948717948684, &quot;z&quot;: -0.1263170316424757}, {&quot;x&quot;: -0.5897435897435894, &quot;y&quot;: -0.43589743589743557, &quot;z&quot;: -0.15912270941856765}, {&quot;x&quot;: -0.5897435897435894, &quot;y&quot;: -0.3846153846153843, &quot;z&quot;: -0.18505032114499587}, {&quot;x&quot;: -0.5897435897435894, &quot;y&quot;: -0.33333333333333304, &quot;z&quot;: -0.20490905106289736}, {&quot;x&quot;: -0.5897435897435894, &quot;y&quot;: -0.28205128205128177, &quot;z&quot;: -0.21950808341340894}, {&quot;x&quot;: -0.5897435897435894, &quot;y&quot;: -0.2307692307692305, &quot;z&quot;: -0.2296566024376676}, {&quot;x&quot;: -0.5897435897435894, &quot;y&quot;: -0.17948717948717924, &quot;z&quot;: -0.23616379237681018}, {&quot;x&quot;: -0.5897435897435894, &quot;y&quot;: -0.12820512820512797, &quot;z&quot;: -0.2398388374719736}, {&quot;x&quot;: -0.5897435897435894, &quot;y&quot;: -0.07692307692307669, &quot;z&quot;: -0.24149092196429478}, {&quot;x&quot;: -0.5897435897435894, &quot;y&quot;: -0.02564102564102541, &quot;z&quot;: -0.24192923009491057}, {&quot;x&quot;: -0.5897435897435894, &quot;y&quot;: 0.02564102564102587, &quot;z&quot;: -0.241962946104958}, {&quot;x&quot;: -0.5897435897435894, &quot;y&quot;: 0.07692307692307715, &quot;z&quot;: -0.2424012542355738}, {&quot;x&quot;: -0.5897435897435894, &quot;y&quot;: 0.12820512820512842, &quot;z&quot;: -0.24405333872789498}, {&quot;x&quot;: -0.5897435897435894, &quot;y&quot;: 0.17948717948717968, &quot;z&quot;: -0.24772838382305845}, {&quot;x&quot;: -0.5897435897435894, &quot;y&quot;: 0.23076923076923095, &quot;z&quot;: -0.254235573762201}, {&quot;x&quot;: -0.5897435897435894, &quot;y&quot;: 0.2820512820512822, &quot;z&quot;: -0.26438409278645975}, {&quot;x&quot;: -0.5897435897435894, &quot;y&quot;: 0.3333333333333335, &quot;z&quot;: -0.2789831251369714}, {&quot;x&quot;: -0.5897435897435894, &quot;y&quot;: 0.38461538461538475, &quot;z&quot;: -0.2988418550548729}, {&quot;x&quot;: -0.5897435897435894, &quot;y&quot;: 0.435897435897436, &quot;z&quot;: -0.3247694667813012}, {&quot;x&quot;: -0.5897435897435894, &quot;y&quot;: 0.4871794871794873, &quot;z&quot;: -0.3575751445573932}, {&quot;x&quot;: -0.5897435897435894, &quot;y&quot;: 0.5384615384615385, &quot;z&quot;: -0.3980680726242858}, {&quot;x&quot;: -0.5897435897435894, &quot;y&quot;: 0.5897435897435899, &quot;z&quot;: -0.44705743522311586}, {&quot;x&quot;: -0.5897435897435894, &quot;y&quot;: 0.6410256410256412, &quot;z&quot;: -0.5053524165950204}, {&quot;x&quot;: -0.5897435897435894, &quot;y&quot;: 0.6923076923076925, &quot;z&quot;: -0.5737622009811363}, {&quot;x&quot;: -0.5897435897435894, &quot;y&quot;: 0.7435897435897438, &quot;z&quot;: -0.6530959726226003}, {&quot;x&quot;: -0.5897435897435894, &quot;y&quot;: 0.7948717948717952, &quot;z&quot;: -0.7441629157605496}, {&quot;x&quot;: -0.5897435897435894, &quot;y&quot;: 0.8461538461538465, &quot;z&quot;: -0.8477722146361206}, {&quot;x&quot;: -0.5897435897435894, &quot;y&quot;: 0.8974358974358978, &quot;z&quot;: -0.9647330534904508}, {&quot;x&quot;: -0.5897435897435894, &quot;y&quot;: 0.9487179487179491, &quot;z&quot;: -1.0958546165646768}, {&quot;x&quot;: -0.5897435897435894, &quot;y&quot;: 1.0, &quot;z&quot;: -1.2419460880999342}, {&quot;x&quot;: -0.5384615384615381, &quot;y&quot;: -0.9487179487179487, &quot;z&quot;: 0.6053878184055697}, {&quot;x&quot;: -0.5384615384615381, &quot;y&quot;: -1.0, &quot;z&quot;: 0.7514792899408282}, {&quot;x&quot;: -0.5384615384615381, &quot;y&quot;: -0.8974358974358974, &quot;z&quot;: 0.4742662553313439}, {&quot;x&quot;: -0.5384615384615381, &quot;y&quot;: -0.846153846153846, &quot;z&quot;: 0.35730541647701375}, {&quot;x&quot;: -0.5384615384615381, &quot;y&quot;: -0.7948717948717947, &quot;z&quot;: 0.2536961176014426}, {&quot;x&quot;: -0.5384615384615381, &quot;y&quot;: -0.7435897435897434, &quot;z&quot;: 0.16262917446349368}, {&quot;x&quot;: -0.5384615384615381, &quot;y&quot;: -0.6923076923076921, &quot;z&quot;: 0.08329540282202963}, {&quot;x&quot;: -0.5384615384615381, &quot;y&quot;: -0.6410256410256407, &quot;z&quot;: 0.01488561843591385}, {&quot;x&quot;: -0.5384615384615381, &quot;y&quot;: -0.5897435897435894, &quot;z&quot;: -0.043409362935990514}, {&quot;x&quot;: -0.5384615384615381, &quot;y&quot;: -0.5384615384615381, &quot;z&quot;: -0.09239872553482059}, {&quot;x&quot;: -0.5384615384615381, &quot;y&quot;: -0.48717948717948684, &quot;z&quot;: -0.13289165360171307}, {&quot;x&quot;: -0.5384615384615381, &quot;y&quot;: -0.43589743589743557, &quot;z&quot;: -0.16569733137780496}, {&quot;x&quot;: -0.5384615384615381, &quot;y&quot;: -0.3846153846153843, &quot;z&quot;: -0.19162494310423323}, {&quot;x&quot;: -0.5384615384615381, &quot;y&quot;: -0.33333333333333304, &quot;z&quot;: -0.21148367302213472}, {&quot;x&quot;: -0.5384615384615381, &quot;y&quot;: -0.28205128205128177, &quot;z&quot;: -0.2260827053726463}, {&quot;x&quot;: -0.5384615384615381, &quot;y&quot;: -0.2307692307692305, &quot;z&quot;: -0.23623122439690497}, {&quot;x&quot;: -0.5384615384615381, &quot;y&quot;: -0.17948717948717924, &quot;z&quot;: -0.24273841433604754}, {&quot;x&quot;: -0.5384615384615381, &quot;y&quot;: -0.12820512820512797, &quot;z&quot;: -0.24641345943121096}, {&quot;x&quot;: -0.5384615384615381, &quot;y&quot;: -0.07692307692307669, &quot;z&quot;: -0.24806554392353214}, {&quot;x&quot;: -0.5384615384615381, &quot;y&quot;: -0.02564102564102541, &quot;z&quot;: -0.24850385205414793}, {&quot;x&quot;: -0.5384615384615381, &quot;y&quot;: 0.02564102564102587, &quot;z&quot;: -0.24853756806419536}, {&quot;x&quot;: -0.5384615384615381, &quot;y&quot;: 0.07692307692307715, &quot;z&quot;: -0.24897587619481115}, {&quot;x&quot;: -0.5384615384615381, &quot;y&quot;: 0.12820512820512842, &quot;z&quot;: -0.25062796068713233}, {&quot;x&quot;: -0.5384615384615381, &quot;y&quot;: 0.17948717948717968, &quot;z&quot;: -0.2543030057822958}, {&quot;x&quot;: -0.5384615384615381, &quot;y&quot;: 0.23076923076923095, &quot;z&quot;: -0.2608101957214384}, {&quot;x&quot;: -0.5384615384615381, &quot;y&quot;: 0.2820512820512822, &quot;z&quot;: -0.2709587147456971}, {&quot;x&quot;: -0.5384615384615381, &quot;y&quot;: 0.3333333333333335, &quot;z&quot;: -0.28555774709620874}, {&quot;x&quot;: -0.5384615384615381, &quot;y&quot;: 0.38461538461538475, &quot;z&quot;: -0.30541647701411023}, {&quot;x&quot;: -0.5384615384615381, &quot;y&quot;: 0.435897435897436, &quot;z&quot;: -0.33134408874053856}, {&quot;x&quot;: -0.5384615384615381, &quot;y&quot;: 0.4871794871794873, &quot;z&quot;: -0.36414976651663056}, {&quot;x&quot;: -0.5384615384615381, &quot;y&quot;: 0.5384615384615385, &quot;z&quot;: -0.4046426945835231}, {&quot;x&quot;: -0.5384615384615381, &quot;y&quot;: 0.5897435897435899, &quot;z&quot;: -0.4536320571823532}, {&quot;x&quot;: -0.5384615384615381, &quot;y&quot;: 0.6410256410256412, &quot;z&quot;: -0.5119270385542578}, {&quot;x&quot;: -0.5384615384615381, &quot;y&quot;: 0.6923076923076925, &quot;z&quot;: -0.5803368229403736}, {&quot;x&quot;: -0.5384615384615381, &quot;y&quot;: 0.7435897435897438, &quot;z&quot;: -0.6596705945818377}, {&quot;x&quot;: -0.5384615384615381, &quot;y&quot;: 0.7948717948717952, &quot;z&quot;: -0.7507375377197869}, {&quot;x&quot;: -0.5384615384615381, &quot;y&quot;: 0.8461538461538465, &quot;z&quot;: -0.854346836595358}, {&quot;x&quot;: -0.5384615384615381, &quot;y&quot;: 0.8974358974358978, &quot;z&quot;: -0.9713076754496882}, {&quot;x&quot;: -0.5384615384615381, &quot;y&quot;: 0.9487179487179491, &quot;z&quot;: -1.1024292385239143}, {&quot;x&quot;: -0.5384615384615381, &quot;y&quot;: 1.0, &quot;z&quot;: -1.2485207100591715}, {&quot;x&quot;: -0.48717948717948684, &quot;y&quot;: -0.9487179487179487, &quot;z&quot;: 0.6040728940137223}, {&quot;x&quot;: -0.48717948717948684, &quot;y&quot;: -1.0, &quot;z&quot;: 0.7501643655489809}, {&quot;x&quot;: -0.48717948717948684, &quot;y&quot;: -0.8974358974358974, &quot;z&quot;: 0.47295133093949643}, {&quot;x&quot;: -0.48717948717948684, &quot;y&quot;: -0.846153846153846, &quot;z&quot;: 0.35599049208516637}, {&quot;x&quot;: -0.48717948717948684, &quot;y&quot;: -0.7948717948717947, &quot;z&quot;: 0.25238119320959523}, {&quot;x&quot;: -0.48717948717948684, &quot;y&quot;: -0.7435897435897434, &quot;z&quot;: 0.1613142500716463}, {&quot;x&quot;: -0.48717948717948684, &quot;y&quot;: -0.6923076923076921, &quot;z&quot;: 0.08198047843018225}, {&quot;x&quot;: -0.48717948717948684, &quot;y&quot;: -0.6410256410256407, &quot;z&quot;: 0.013570694044066467}, {&quot;x&quot;: -0.48717948717948684, &quot;y&quot;: -0.5897435897435894, &quot;z&quot;: -0.0447242873278379}, {&quot;x&quot;: -0.48717948717948684, &quot;y&quot;: -0.5384615384615381, &quot;z&quot;: -0.09371364992666803}, {&quot;x&quot;: -0.48717948717948684, &quot;y&quot;: -0.48717948717948684, &quot;z&quot;: -0.13420657799356045}, {&quot;x&quot;: -0.48717948717948684, &quot;y&quot;: -0.43589743589743557, &quot;z&quot;: -0.1670122557696524}, {&quot;x&quot;: -0.48717948717948684, &quot;y&quot;: -0.3846153846153843, &quot;z&quot;: -0.19293986749608066}, {&quot;x&quot;: -0.48717948717948684, &quot;y&quot;: -0.33333333333333304, &quot;z&quot;: -0.2127985974139821}, {&quot;x&quot;: -0.48717948717948684, &quot;y&quot;: -0.28205128205128177, &quot;z&quot;: -0.22739762976449374}, {&quot;x&quot;: -0.48717948717948684, &quot;y&quot;: -0.2307692307692305, &quot;z&quot;: -0.23754614878875238}, {&quot;x&quot;: -0.48717948717948684, &quot;y&quot;: -0.17948717948717924, &quot;z&quot;: -0.24405333872789495}, {&quot;x&quot;: -0.48717948717948684, &quot;y&quot;: -0.12820512820512797, &quot;z&quot;: -0.24772838382305837}, {&quot;x&quot;: -0.48717948717948684, &quot;y&quot;: -0.07692307692307669, &quot;z&quot;: -0.24938046831537955}, {&quot;x&quot;: -0.48717948717948684, &quot;y&quot;: -0.02564102564102541, &quot;z&quot;: -0.24981877644599537}, {&quot;x&quot;: -0.48717948717948684, &quot;y&quot;: 0.02564102564102587, &quot;z&quot;: -0.24985249245604274}, {&quot;x&quot;: -0.48717948717948684, &quot;y&quot;: 0.07692307692307715, &quot;z&quot;: -0.25029080058665854}, {&quot;x&quot;: -0.48717948717948684, &quot;y&quot;: 0.12820512820512842, &quot;z&quot;: -0.2519428850789798}, {&quot;x&quot;: -0.48717948717948684, &quot;y&quot;: 0.17948717948717968, &quot;z&quot;: -0.2556179301741432}, {&quot;x&quot;: -0.48717948717948684, &quot;y&quot;: 0.23076923076923095, &quot;z&quot;: -0.2621251201132858}, {&quot;x&quot;: -0.48717948717948684, &quot;y&quot;: 0.2820512820512822, &quot;z&quot;: -0.2722736391375445}, {&quot;x&quot;: -0.48717948717948684, &quot;y&quot;: 0.3333333333333335, &quot;z&quot;: -0.2868726714880562}, {&quot;x&quot;: -0.48717948717948684, &quot;y&quot;: 0.38461538461538475, &quot;z&quot;: -0.30673140140595767}, {&quot;x&quot;: -0.48717948717948684, &quot;y&quot;: 0.435897435897436, &quot;z&quot;: -0.332659013132386}, {&quot;x&quot;: -0.48717948717948684, &quot;y&quot;: 0.4871794871794873, &quot;z&quot;: -0.36546469090847794}, {&quot;x&quot;: -0.48717948717948684, &quot;y&quot;: 0.5384615384615385, &quot;z&quot;: -0.4059576189753705}, {&quot;x&quot;: -0.48717948717948684, &quot;y&quot;: 0.5897435897435899, &quot;z&quot;: -0.45494698157420066}, {&quot;x&quot;: -0.48717948717948684, &quot;y&quot;: 0.6410256410256412, &quot;z&quot;: -0.5132419629461051}, {&quot;x&quot;: -0.48717948717948684, &quot;y&quot;: 0.6923076923076925, &quot;z&quot;: -0.581651747332221}, {&quot;x&quot;: -0.48717948717948684, &quot;y&quot;: 0.7435897435897438, &quot;z&quot;: -0.6609855189736851}, {&quot;x&quot;: -0.48717948717948684, &quot;y&quot;: 0.7948717948717952, &quot;z&quot;: -0.7520524621116342}, {&quot;x&quot;: -0.48717948717948684, &quot;y&quot;: 0.8461538461538465, &quot;z&quot;: -0.8556617609872055}, {&quot;x&quot;: -0.48717948717948684, &quot;y&quot;: 0.8974358974358978, &quot;z&quot;: -0.9726225998415357}, {&quot;x&quot;: -0.48717948717948684, &quot;y&quot;: 0.9487179487179491, &quot;z&quot;: -1.1037441629157616}, {&quot;x&quot;: -0.48717948717948684, &quot;y&quot;: 1.0, &quot;z&quot;: -1.249835634451019}, {&quot;x&quot;: -0.43589743589743557, &quot;y&quot;: -0.9487179487179487, &quot;z&quot;: 0.6080176671892649}, {&quot;x&quot;: -0.43589743589743557, &quot;y&quot;: -1.0, &quot;z&quot;: 0.7541091387245235}, {&quot;x&quot;: -0.43589743589743557, &quot;y&quot;: -0.8974358974358974, &quot;z&quot;: 0.4768961041150388}, {&quot;x&quot;: -0.43589743589743557, &quot;y&quot;: -0.846153846153846, &quot;z&quot;: 0.35993526526070874}, {&quot;x&quot;: -0.43589743589743557, &quot;y&quot;: -0.7948717948717947, &quot;z&quot;: 0.2563259663851376}, {&quot;x&quot;: -0.43589743589743557, &quot;y&quot;: -0.7435897435897434, &quot;z&quot;: 0.16525902324718866}, {&quot;x&quot;: -0.43589743589743557, &quot;y&quot;: -0.6923076923076921, &quot;z&quot;: 0.08592525160572462}, {&quot;x&quot;: -0.43589743589743557, &quot;y&quot;: -0.6410256410256407, &quot;z&quot;: 0.01751546721960895}, {&quot;x&quot;: -0.43589743589743557, &quot;y&quot;: -0.5897435897435894, &quot;z&quot;: -0.040779514152295526}, {&quot;x&quot;: -0.43589743589743557, &quot;y&quot;: -0.5384615384615381, &quot;z&quot;: -0.08976887675112555}, {&quot;x&quot;: -0.43589743589743557, &quot;y&quot;: -0.48717948717948684, &quot;z&quot;: -0.13026180481801808}, {&quot;x&quot;: -0.43589743589743557, &quot;y&quot;: -0.43589743589743557, &quot;z&quot;: -0.16306748259410997}, {&quot;x&quot;: -0.43589743589743557, &quot;y&quot;: -0.3846153846153843, &quot;z&quot;: -0.1889950943205382}, {&quot;x&quot;: -0.43589743589743557, &quot;y&quot;: -0.33333333333333304, &quot;z&quot;: -0.20885382423843968}, {&quot;x&quot;: -0.43589743589743557, &quot;y&quot;: -0.28205128205128177, &quot;z&quot;: -0.2234528565889513}, {&quot;x&quot;: -0.43589743589743557, &quot;y&quot;: -0.2307692307692305, &quot;z&quot;: -0.23360137561320996}, {&quot;x&quot;: -0.43589743589743557, &quot;y&quot;: -0.17948717948717924, &quot;z&quot;: -0.24010856555235252}, {&quot;x&quot;: -0.43589743589743557, &quot;y&quot;: -0.12820512820512797, &quot;z&quot;: -0.24378361064751594}, {&quot;x&quot;: -0.43589743589743557, &quot;y&quot;: -0.07692307692307669, &quot;z&quot;: -0.24543569513983712}, {&quot;x&quot;: -0.43589743589743557, &quot;y&quot;: -0.02564102564102541, &quot;z&quot;: -0.24587400327045295}, {&quot;x&quot;: -0.43589743589743557, &quot;y&quot;: 0.02564102564102587, &quot;z&quot;: -0.24590771928050031}, {&quot;x&quot;: -0.43589743589743557, &quot;y&quot;: 0.07692307692307715, &quot;z&quot;: -0.24634602741111614}, {&quot;x&quot;: -0.43589743589743557, &quot;y&quot;: 0.12820512820512842, &quot;z&quot;: -0.24799811190343732}, {&quot;x&quot;: -0.43589743589743557, &quot;y&quot;: 0.17948717948717968, &quot;z&quot;: -0.25167315699860077}, {&quot;x&quot;: -0.43589743589743557, &quot;y&quot;: 0.23076923076923095, &quot;z&quot;: -0.2581803469377434}, {&quot;x&quot;: -0.43589743589743557, &quot;y&quot;: 0.2820512820512822, &quot;z&quot;: -0.26832886596200206}, {&quot;x&quot;: -0.43589743589743557, &quot;y&quot;: 0.3333333333333335, &quot;z&quot;: -0.28292789831251375}, {&quot;x&quot;: -0.43589743589743557, &quot;y&quot;: 0.38461538461538475, &quot;z&quot;: -0.30278662823041524}, {&quot;x&quot;: -0.43589743589743557, &quot;y&quot;: 0.435897435897436, &quot;z&quot;: -0.32871423995684357}, {&quot;x&quot;: -0.43589743589743557, &quot;y&quot;: 0.4871794871794873, &quot;z&quot;: -0.3615199177329355}, {&quot;x&quot;: -0.43589743589743557, &quot;y&quot;: 0.5384615384615385, &quot;z&quot;: -0.4020128457998281}, {&quot;x&quot;: -0.43589743589743557, &quot;y&quot;: 0.5897435897435899, &quot;z&quot;: -0.45100220839865823}, {&quot;x&quot;: -0.43589743589743557, &quot;y&quot;: 0.6410256410256412, &quot;z&quot;: -0.5092971897705627}, {&quot;x&quot;: -0.43589743589743557, &quot;y&quot;: 0.6923076923076925, &quot;z&quot;: -0.5777069741566786}, {&quot;x&quot;: -0.43589743589743557, &quot;y&quot;: 0.7435897435897438, &quot;z&quot;: -0.6570407457981426}, {&quot;x&quot;: -0.43589743589743557, &quot;y&quot;: 0.7948717948717952, &quot;z&quot;: -0.7481076889360919}, {&quot;x&quot;: -0.43589743589743557, &quot;y&quot;: 0.8461538461538465, &quot;z&quot;: -0.851716987811663}, {&quot;x&quot;: -0.43589743589743557, &quot;y&quot;: 0.8974358974358978, &quot;z&quot;: -0.9686778266659932}, {&quot;x&quot;: -0.43589743589743557, &quot;y&quot;: 0.9487179487179491, &quot;z&quot;: -1.0997993897402192}, {&quot;x&quot;: -0.43589743589743557, &quot;y&quot;: 1.0, &quot;z&quot;: -1.2458908612754767}, {&quot;x&quot;: -0.3846153846153843, &quot;y&quot;: -0.9487179487179487, &quot;z&quot;: 0.6172221379321969}, {&quot;x&quot;: -0.3846153846153843, &quot;y&quot;: -1.0, &quot;z&quot;: 0.7633136094674555}, {&quot;x&quot;: -0.3846153846153843, &quot;y&quot;: -0.8974358974358974, &quot;z&quot;: 0.48610057485797115}, {&quot;x&quot;: -0.3846153846153843, &quot;y&quot;: -0.846153846153846, &quot;z&quot;: 0.3691397360036411}, {&quot;x&quot;: -0.3846153846153843, &quot;y&quot;: -0.7948717948717947, &quot;z&quot;: 0.26553043712806995}, {&quot;x&quot;: -0.3846153846153843, &quot;y&quot;: -0.7435897435897434, &quot;z&quot;: 0.174463493990121}, {&quot;x&quot;: -0.3846153846153843, &quot;y&quot;: -0.6923076923076921, &quot;z&quot;: 0.09512972234865696}, {&quot;x&quot;: -0.3846153846153843, &quot;y&quot;: -0.6410256410256407, &quot;z&quot;: 0.02671993796254124}, {&quot;x&quot;: -0.3846153846153843, &quot;y&quot;: -0.5897435897435894, &quot;z&quot;: -0.03157504340936318}, {&quot;x&quot;: -0.3846153846153843, &quot;y&quot;: -0.5384615384615381, &quot;z&quot;: -0.08056440600819326}, {&quot;x&quot;: -0.3846153846153843, &quot;y&quot;: -0.48717948717948684, &quot;z&quot;: -0.12105733407508573}, {&quot;x&quot;: -0.3846153846153843, &quot;y&quot;: -0.43589743589743557, &quot;z&quot;: -0.15386301185117765}, {&quot;x&quot;: -0.3846153846153843, &quot;y&quot;: -0.3846153846153843, &quot;z&quot;: -0.1797906235776059}, {&quot;x&quot;: -0.3846153846153843, &quot;y&quot;: -0.33333333333333304, &quot;z&quot;: -0.1996493534955074}, {&quot;x&quot;: -0.3846153846153843, &quot;y&quot;: -0.28205128205128177, &quot;z&quot;: -0.214248385846019}, {&quot;x&quot;: -0.3846153846153843, &quot;y&quot;: -0.2307692307692305, &quot;z&quot;: -0.22439690487027764}, {&quot;x&quot;: -0.3846153846153843, &quot;y&quot;: -0.17948717948717924, &quot;z&quot;: -0.2309040948094202}, {&quot;x&quot;: -0.3846153846153843, &quot;y&quot;: -0.12820512820512797, &quot;z&quot;: -0.23457913990458362}, {&quot;x&quot;: -0.3846153846153843, &quot;y&quot;: -0.07692307692307669, &quot;z&quot;: -0.2362312243969048}, {&quot;x&quot;: -0.3846153846153843, &quot;y&quot;: -0.02564102564102541, &quot;z&quot;: -0.23666953252752063}, {&quot;x&quot;: -0.3846153846153843, &quot;y&quot;: 0.02564102564102587, &quot;z&quot;: -0.236703248537568}, {&quot;x&quot;: -0.3846153846153843, &quot;y&quot;: 0.07692307692307715, &quot;z&quot;: -0.23714155666818382}, {&quot;x&quot;: -0.3846153846153843, &quot;y&quot;: 0.12820512820512842, &quot;z&quot;: -0.238793641160505}, {&quot;x&quot;: -0.3846153846153843, &quot;y&quot;: 0.17948717948717968, &quot;z&quot;: -0.24246868625566845}, {&quot;x&quot;: -0.3846153846153843, &quot;y&quot;: 0.23076923076923095, &quot;z&quot;: -0.24897587619481107}, {&quot;x&quot;: -0.3846153846153843, &quot;y&quot;: 0.2820512820512822, &quot;z&quot;: -0.2591243952190697}, {&quot;x&quot;: -0.3846153846153843, &quot;y&quot;: 0.3333333333333335, &quot;z&quot;: -0.2737234275695814}, {&quot;x&quot;: -0.3846153846153843, &quot;y&quot;: 0.38461538461538475, &quot;z&quot;: -0.29358215748748295}, {&quot;x&quot;: -0.3846153846153843, &quot;y&quot;: 0.435897435897436, &quot;z&quot;: -0.3195097692139112}, {&quot;x&quot;: -0.3846153846153843, &quot;y&quot;: 0.4871794871794873, &quot;z&quot;: -0.3523154469900032}, {&quot;x&quot;: -0.3846153846153843, &quot;y&quot;: 0.5384615384615385, &quot;z&quot;: -0.3928083750568958}, {&quot;x&quot;: -0.3846153846153843, &quot;y&quot;: 0.5897435897435899, &quot;z&quot;: -0.4417977376557259}, {&quot;x&quot;: -0.3846153846153843, &quot;y&quot;: 0.6410256410256412, &quot;z&quot;: -0.5000927190276304}, {&quot;x&quot;: -0.3846153846153843, &quot;y&quot;: 0.6923076923076925, &quot;z&quot;: -0.5685025034137463}, {&quot;x&quot;: -0.3846153846153843, &quot;y&quot;: 0.7435897435897438, &quot;z&quot;: -0.6478362750552104}, {&quot;x&quot;: -0.3846153846153843, &quot;y&quot;: 0.7948717948717952, &quot;z&quot;: -0.7389032181931596}, {&quot;x&quot;: -0.3846153846153843, &quot;y&quot;: 0.8461538461538465, &quot;z&quot;: -0.8425125170687306}, {&quot;x&quot;: -0.3846153846153843, &quot;y&quot;: 0.8974358974358978, &quot;z&quot;: -0.9594733559230608}, {&quot;x&quot;: -0.3846153846153843, &quot;y&quot;: 0.9487179487179491, &quot;z&quot;: -1.0905949189972868}, {&quot;x&quot;: -0.3846153846153843, &quot;y&quot;: 1.0, &quot;z&quot;: -1.2366863905325443}, {&quot;x&quot;: -0.33333333333333304, &quot;y&quot;: -0.9487179487179487, &quot;z&quot;: 0.6316863062425193}, {&quot;x&quot;: -0.33333333333333304, &quot;y&quot;: -1.0, &quot;z&quot;: 0.7777777777777779}, {&quot;x&quot;: -0.33333333333333304, &quot;y&quot;: -0.8974358974358974, &quot;z&quot;: 0.5005647431682934}, {&quot;x&quot;: -0.33333333333333304, &quot;y&quot;: -0.846153846153846, &quot;z&quot;: 0.3836039043139633}, {&quot;x&quot;: -0.33333333333333304, &quot;y&quot;: -0.7948717948717947, &quot;z&quot;: 0.27999460543839216}, {&quot;x&quot;: -0.33333333333333304, &quot;y&quot;: -0.7435897435897434, &quot;z&quot;: 0.18892766230044322}, {&quot;x&quot;: -0.33333333333333304, &quot;y&quot;: -0.6923076923076921, &quot;z&quot;: 0.10959389065897918}, {&quot;x&quot;: -0.33333333333333304, &quot;y&quot;: -0.6410256410256407, &quot;z&quot;: 0.0411841062728634}, {&quot;x&quot;: -0.33333333333333304, &quot;y&quot;: -0.5897435897435894, &quot;z&quot;: -0.017110875099040967}, {&quot;x&quot;: -0.33333333333333304, &quot;y&quot;: -0.5384615384615381, &quot;z&quot;: -0.0661002376978711}, {&quot;x&quot;: -0.33333333333333304, &quot;y&quot;: -0.48717948717948684, &quot;z&quot;: -0.10659316576476355}, {&quot;x&quot;: -0.33333333333333304, &quot;y&quot;: -0.43589743589743557, &quot;z&quot;: -0.13939884354085547}, {&quot;x&quot;: -0.33333333333333304, &quot;y&quot;: -0.3846153846153843, &quot;z&quot;: -0.1653264552672837}, {&quot;x&quot;: -0.33333333333333304, &quot;y&quot;: -0.33333333333333304, &quot;z&quot;: -0.18518518518518517}, {&quot;x&quot;: -0.33333333333333304, &quot;y&quot;: -0.28205128205128177, &quot;z&quot;: -0.1997842175356968}, {&quot;x&quot;: -0.33333333333333304, &quot;y&quot;: -0.2307692307692305, &quot;z&quot;: -0.20993273655995542}, {&quot;x&quot;: -0.33333333333333304, &quot;y&quot;: -0.17948717948717924, &quot;z&quot;: -0.21643992649909805}, {&quot;x&quot;: -0.33333333333333304, &quot;y&quot;: -0.12820512820512797, &quot;z&quot;: -0.22011497159426147}, {&quot;x&quot;: -0.33333333333333304, &quot;y&quot;: -0.07692307692307669, &quot;z&quot;: -0.22176705608658262}, {&quot;x&quot;: -0.33333333333333304, &quot;y&quot;: -0.02564102564102541, &quot;z&quot;: -0.22220536421719844}, {&quot;x&quot;: -0.33333333333333304, &quot;y&quot;: 0.02564102564102587, &quot;z&quot;: -0.2222390802272458}, {&quot;x&quot;: -0.33333333333333304, &quot;y&quot;: 0.07692307692307715, &quot;z&quot;: -0.22267738835786163}, {&quot;x&quot;: -0.33333333333333304, &quot;y&quot;: 0.12820512820512842, &quot;z&quot;: -0.22432947285018284}, {&quot;x&quot;: -0.33333333333333304, &quot;y&quot;: 0.17948717948717968, &quot;z&quot;: -0.22800451794534626}, {&quot;x&quot;: -0.33333333333333304, &quot;y&quot;: 0.23076923076923095, &quot;z&quot;: -0.23451170788448888}, {&quot;x&quot;: -0.33333333333333304, &quot;y&quot;: 0.2820512820512822, &quot;z&quot;: -0.24466022690874756}, {&quot;x&quot;: -0.33333333333333304, &quot;y&quot;: 0.3333333333333335, &quot;z&quot;: -0.2592592592592592}, {&quot;x&quot;: -0.33333333333333304, &quot;y&quot;: 0.38461538461538475, &quot;z&quot;: -0.27911798917716074}, {&quot;x&quot;: -0.33333333333333304, &quot;y&quot;: 0.435897435897436, &quot;z&quot;: -0.305045600903589}, {&quot;x&quot;: -0.33333333333333304, &quot;y&quot;: 0.4871794871794873, &quot;z&quot;: -0.337851278679681}, {&quot;x&quot;: -0.33333333333333304, &quot;y&quot;: 0.5384615384615385, &quot;z&quot;: -0.3783442067465736}, {&quot;x&quot;: -0.33333333333333304, &quot;y&quot;: 0.5897435897435899, &quot;z&quot;: -0.4273335693454037}, {&quot;x&quot;: -0.33333333333333304, &quot;y&quot;: 0.6410256410256412, &quot;z&quot;: -0.48562855071730826}, {&quot;x&quot;: -0.33333333333333304, &quot;y&quot;: 0.6923076923076925, &quot;z&quot;: -0.554038335103424}, {&quot;x&quot;: -0.33333333333333304, &quot;y&quot;: 0.7435897435897438, &quot;z&quot;: -0.6333721067448882}, {&quot;x&quot;: -0.33333333333333304, &quot;y&quot;: 0.7948717948717952, &quot;z&quot;: -0.7244390498828374}, {&quot;x&quot;: -0.33333333333333304, &quot;y&quot;: 0.8461538461538465, &quot;z&quot;: -0.8280483487584085}, {&quot;x&quot;: -0.33333333333333304, &quot;y&quot;: 0.8974358974358978, &quot;z&quot;: -0.9450091876127387}, {&quot;x&quot;: -0.33333333333333304, &quot;y&quot;: 0.9487179487179491, &quot;z&quot;: -1.0761307506869646}, {&quot;x&quot;: -0.33333333333333304, &quot;y&quot;: 1.0, &quot;z&quot;: -1.222222222222222}, {&quot;x&quot;: -0.28205128205128177, &quot;y&quot;: -0.9487179487179487, &quot;z&quot;: 0.6514101721202314}, {&quot;x&quot;: -0.28205128205128177, &quot;y&quot;: -1.0, &quot;z&quot;: 0.79750164365549}, {&quot;x&quot;: -0.28205128205128177, &quot;y&quot;: -0.8974358974358974, &quot;z&quot;: 0.5202886090460055}, {&quot;x&quot;: -0.28205128205128177, &quot;y&quot;: -0.846153846153846, &quot;z&quot;: 0.40332777019167537}, {&quot;x&quot;: -0.28205128205128177, &quot;y&quot;: -0.7948717948717947, &quot;z&quot;: 0.29971847131610424}, {&quot;x&quot;: -0.28205128205128177, &quot;y&quot;: -0.7435897435897434, &quot;z&quot;: 0.20865152817815524}, {&quot;x&quot;: -0.28205128205128177, &quot;y&quot;: -0.6923076923076921, &quot;z&quot;: 0.1293177565366912}, {&quot;x&quot;: -0.28205128205128177, &quot;y&quot;: -0.6410256410256407, &quot;z&quot;: 0.06090797215057547}, {&quot;x&quot;: -0.28205128205128177, &quot;y&quot;: -0.5897435897435894, &quot;z&quot;: 0.0026129907786710538}, {&quot;x&quot;: -0.28205128205128177, &quot;y&quot;: -0.5384615384615381, &quot;z&quot;: -0.046376371820159024}, {&quot;x&quot;: -0.28205128205128177, &quot;y&quot;: -0.48717948717948684, &quot;z&quot;: -0.0868692998870515}, {&quot;x&quot;: -0.28205128205128177, &quot;y&quot;: -0.43589743589743557, &quot;z&quot;: -0.11967497766314339}, {&quot;x&quot;: -0.28205128205128177, &quot;y&quot;: -0.3846153846153843, &quot;z&quot;: -0.14560258938957166}, {&quot;x&quot;: -0.28205128205128177, &quot;y&quot;: -0.33333333333333304, &quot;z&quot;: -0.16546131930747313}, {&quot;x&quot;: -0.28205128205128177, &quot;y&quot;: -0.28205128205128177, &quot;z&quot;: -0.18006035165798473}, {&quot;x&quot;: -0.28205128205128177, &quot;y&quot;: -0.2307692307692305, &quot;z&quot;: -0.19020887068224338}, {&quot;x&quot;: -0.28205128205128177, &quot;y&quot;: -0.17948717948717924, &quot;z&quot;: -0.19671606062138597}, {&quot;x&quot;: -0.28205128205128177, &quot;y&quot;: -0.12820512820512797, &quot;z&quot;: -0.2003911057165494}, {&quot;x&quot;: -0.28205128205128177, &quot;y&quot;: -0.07692307692307669, &quot;z&quot;: -0.20204319020887057}, {&quot;x&quot;: -0.28205128205128177, &quot;y&quot;: -0.02564102564102541, &quot;z&quot;: -0.20248149833948637}, {&quot;x&quot;: -0.28205128205128177, &quot;y&quot;: 0.02564102564102587, &quot;z&quot;: -0.20251521434953373}, {&quot;x&quot;: -0.28205128205128177, &quot;y&quot;: 0.07692307692307715, &quot;z&quot;: -0.20295352248014958}, {&quot;x&quot;: -0.28205128205128177, &quot;y&quot;: 0.12820512820512842, &quot;z&quot;: -0.20460560697247077}, {&quot;x&quot;: -0.28205128205128177, &quot;y&quot;: 0.17948717948717968, &quot;z&quot;: -0.20828065206763421}, {&quot;x&quot;: -0.28205128205128177, &quot;y&quot;: 0.23076923076923095, &quot;z&quot;: -0.2147878420067768}, {&quot;x&quot;: -0.28205128205128177, &quot;y&quot;: 0.2820512820512822, &quot;z&quot;: -0.2249363610310355}, {&quot;x&quot;: -0.28205128205128177, &quot;y&quot;: 0.3333333333333335, &quot;z&quot;: -0.23953539338154717}, {&quot;x&quot;: -0.28205128205128177, &quot;y&quot;: 0.38461538461538475, &quot;z&quot;: -0.25939412329944866}, {&quot;x&quot;: -0.28205128205128177, &quot;y&quot;: 0.435897435897436, &quot;z&quot;: -0.285321735025877}, {&quot;x&quot;: -0.28205128205128177, &quot;y&quot;: 0.4871794871794873, &quot;z&quot;: -0.318127412801969}, {&quot;x&quot;: -0.28205128205128177, &quot;y&quot;: 0.5384615384615385, &quot;z&quot;: -0.3586203408688615}, {&quot;x&quot;: -0.28205128205128177, &quot;y&quot;: 0.5897435897435899, &quot;z&quot;: -0.40760970346769165}, {&quot;x&quot;: -0.28205128205128177, &quot;y&quot;: 0.6410256410256412, &quot;z&quot;: -0.4659046848395962}, {&quot;x&quot;: -0.28205128205128177, &quot;y&quot;: 0.6923076923076925, &quot;z&quot;: -0.534314469225712}, {&quot;x&quot;: -0.28205128205128177, &quot;y&quot;: 0.7435897435897438, &quot;z&quot;: -0.6136482408671762}, {&quot;x&quot;: -0.28205128205128177, &quot;y&quot;: 0.7948717948717952, &quot;z&quot;: -0.7047151840051253}, {&quot;x&quot;: -0.28205128205128177, &quot;y&quot;: 0.8461538461538465, &quot;z&quot;: -0.8083244828806964}, {&quot;x&quot;: -0.28205128205128177, &quot;y&quot;: 0.8974358974358978, &quot;z&quot;: -0.9252853217350265}, {&quot;x&quot;: -0.28205128205128177, &quot;y&quot;: 0.9487179487179491, &quot;z&quot;: -1.0564068848092525}, {&quot;x&quot;: -0.28205128205128177, &quot;y&quot;: 1.0, &quot;z&quot;: -1.20249835634451}, {&quot;x&quot;: -0.2307692307692305, &quot;y&quot;: -0.9487179487179487, &quot;z&quot;: 0.6763937355653332}, {&quot;x&quot;: -0.2307692307692305, &quot;y&quot;: -1.0, &quot;z&quot;: 0.8224852071005918}, {&quot;x&quot;: -0.2307692307692305, &quot;y&quot;: -0.8974358974358974, &quot;z&quot;: 0.5452721724911073}, {&quot;x&quot;: -0.2307692307692305, &quot;y&quot;: -0.846153846153846, &quot;z&quot;: 0.4283113336367772}, {&quot;x&quot;: -0.2307692307692305, &quot;y&quot;: -0.7948717948717947, &quot;z&quot;: 0.32470203476120607}, {&quot;x&quot;: -0.2307692307692305, &quot;y&quot;: -0.7435897435897434, &quot;z&quot;: 0.23363509162325719}, {&quot;x&quot;: -0.2307692307692305, &quot;y&quot;: -0.6923076923076921, &quot;z&quot;: 0.15430131998179314}, {&quot;x&quot;: -0.2307692307692305, &quot;y&quot;: -0.6410256410256407, &quot;z&quot;: 0.08589153559567742}, {&quot;x&quot;: -0.2307692307692305, &quot;y&quot;: -0.5897435897435894, &quot;z&quot;: 0.027596554223772995}, {&quot;x&quot;: -0.2307692307692305, &quot;y&quot;: -0.5384615384615381, &quot;z&quot;: -0.021392808375057082}, {&quot;x&quot;: -0.2307692307692305, &quot;y&quot;: -0.48717948717948684, &quot;z&quot;: -0.06188573644194956}, {&quot;x&quot;: -0.2307692307692305, &quot;y&quot;: -0.43589743589743557, &quot;z&quot;: -0.09469141421804148}, {&quot;x&quot;: -0.2307692307692305, &quot;y&quot;: -0.3846153846153843, &quot;z&quot;: -0.12061902594446973}, {&quot;x&quot;: -0.2307692307692305, &quot;y&quot;: -0.33333333333333304, &quot;z&quot;: -0.1404777558623712}, {&quot;x&quot;: -0.2307692307692305, &quot;y&quot;: -0.28205128205128177, &quot;z&quot;: -0.15507678821288282}, {&quot;x&quot;: -0.2307692307692305, &quot;y&quot;: -0.2307692307692305, &quot;z&quot;: -0.16522530723714146}, {&quot;x&quot;: -0.2307692307692305, &quot;y&quot;: -0.17948717948717924, &quot;z&quot;: -0.17173249717628403}, {&quot;x&quot;: -0.2307692307692305, &quot;y&quot;: -0.12820512820512797, &quot;z&quot;: -0.17540754227144748}, {&quot;x&quot;: -0.2307692307692305, &quot;y&quot;: -0.07692307692307669, &quot;z&quot;: -0.17705962676376863}, {&quot;x&quot;: -0.2307692307692305, &quot;y&quot;: -0.02564102564102541, &quot;z&quot;: -0.17749793489438445}, {&quot;x&quot;: -0.2307692307692305, &quot;y&quot;: 0.02564102564102587, &quot;z&quot;: -0.17753165090443182}, {&quot;x&quot;: -0.2307692307692305, &quot;y&quot;: 0.07692307692307715, &quot;z&quot;: -0.17796995903504764}, {&quot;x&quot;: -0.2307692307692305, &quot;y&quot;: 0.12820512820512842, &quot;z&quot;: -0.17962204352736882}, {&quot;x&quot;: -0.2307692307692305, &quot;y&quot;: 0.17948717948717968, &quot;z&quot;: -0.1832970886225323}, {&quot;x&quot;: -0.2307692307692305, &quot;y&quot;: 0.23076923076923095, &quot;z&quot;: -0.1898042785616749}, {&quot;x&quot;: -0.2307692307692305, &quot;y&quot;: 0.2820512820512822, &quot;z&quot;: -0.1999527975859336}, {&quot;x&quot;: -0.2307692307692305, &quot;y&quot;: 0.3333333333333335, &quot;z&quot;: -0.21455182993644523}, {&quot;x&quot;: -0.2307692307692305, &quot;y&quot;: 0.38461538461538475, &quot;z&quot;: -0.23441055985434675}, {&quot;x&quot;: -0.2307692307692305, &quot;y&quot;: 0.435897435897436, &quot;z&quot;: -0.26033817158077505}, {&quot;x&quot;: -0.2307692307692305, &quot;y&quot;: 0.4871794871794873, &quot;z&quot;: -0.29314384935686705}, {&quot;x&quot;: -0.2307692307692305, &quot;y&quot;: 0.5384615384615385, &quot;z&quot;: -0.33363677742375963}, {&quot;x&quot;: -0.2307692307692305, &quot;y&quot;: 0.5897435897435899, &quot;z&quot;: -0.3826261400225897}, {&quot;x&quot;: -0.2307692307692305, &quot;y&quot;: 0.6410256410256412, &quot;z&quot;: -0.44092112139449424}, {&quot;x&quot;: -0.2307692307692305, &quot;y&quot;: 0.6923076923076925, &quot;z&quot;: -0.5093309057806101}, {&quot;x&quot;: -0.2307692307692305, &quot;y&quot;: 0.7435897435897438, &quot;z&quot;: -0.5886646774220742}, {&quot;x&quot;: -0.2307692307692305, &quot;y&quot;: 0.7948717948717952, &quot;z&quot;: -0.6797316205600235}, {&quot;x&quot;: -0.2307692307692305, &quot;y&quot;: 0.8461538461538465, &quot;z&quot;: -0.7833409194355946}, {&quot;x&quot;: -0.2307692307692305, &quot;y&quot;: 0.8974358974358978, &quot;z&quot;: -0.9003017582899248}, {&quot;x&quot;: -0.2307692307692305, &quot;y&quot;: 0.9487179487179491, &quot;z&quot;: -1.0314233213641506}, {&quot;x&quot;: -0.2307692307692305, &quot;y&quot;: 1.0, &quot;z&quot;: -1.1775147928994083}, {&quot;x&quot;: -0.17948717948717924, &quot;y&quot;: -0.9487179487179487, &quot;z&quot;: 0.706636996577825}, {&quot;x&quot;: -0.17948717948717924, &quot;y&quot;: -1.0, &quot;z&quot;: 0.8527284681130836}, {&quot;x&quot;: -0.17948717948717924, &quot;y&quot;: -0.8974358974358974, &quot;z&quot;: 0.575515433503599}, {&quot;x&quot;: -0.17948717948717924, &quot;y&quot;: -0.846153846153846, &quot;z&quot;: 0.458554594649269}, {&quot;x&quot;: -0.17948717948717924, &quot;y&quot;: -0.7948717948717947, &quot;z&quot;: 0.3549452957736979}, {&quot;x&quot;: -0.17948717948717924, &quot;y&quot;: -0.7435897435897434, &quot;z&quot;: 0.263878352635749}, {&quot;x&quot;: -0.17948717948717924, &quot;y&quot;: -0.6923076923076921, &quot;z&quot;: 0.18454458099428495}, {&quot;x&quot;: -0.17948717948717924, &quot;y&quot;: -0.6410256410256407, &quot;z&quot;: 0.11613479660816922}, {&quot;x&quot;: -0.17948717948717924, &quot;y&quot;: -0.5897435897435894, &quot;z&quot;: 0.0578398152362648}, {&quot;x&quot;: -0.17948717948717924, &quot;y&quot;: -0.5384615384615381, &quot;z&quot;: 0.008850452637434725}, {&quot;x&quot;: -0.17948717948717924, &quot;y&quot;: -0.48717948717948684, &quot;z&quot;: -0.03164247542945775}, {&quot;x&quot;: -0.17948717948717924, &quot;y&quot;: -0.43589743589743557, &quot;z&quot;: -0.06444815320554968}, {&quot;x&quot;: -0.17948717948717924, &quot;y&quot;: -0.3846153846153843, &quot;z&quot;: -0.09037576493197794}, {&quot;x&quot;: -0.17948717948717924, &quot;y&quot;: -0.33333333333333304, &quot;z&quot;: -0.1102344948498794}, {&quot;x&quot;: -0.17948717948717924, &quot;y&quot;: -0.28205128205128177, &quot;z&quot;: -0.12483352720039101}, {&quot;x&quot;: -0.17948717948717924, &quot;y&quot;: -0.2307692307692305, &quot;z&quot;: -0.13498204622464965}, {&quot;x&quot;: -0.17948717948717924, &quot;y&quot;: -0.17948717948717924, &quot;z&quot;: -0.14148923616379225}, {&quot;x&quot;: -0.17948717948717924, &quot;y&quot;: -0.12820512820512797, &quot;z&quot;: -0.14516428125895567}, {&quot;x&quot;: -0.17948717948717924, &quot;y&quot;: -0.07692307692307669, &quot;z&quot;: -0.14681636575127682}, {&quot;x&quot;: -0.17948717948717924, &quot;y&quot;: -0.02564102564102541, &quot;z&quot;: -0.14725467388189267}, {&quot;x&quot;: -0.17948717948717924, &quot;y&quot;: 0.02564102564102587, &quot;z&quot;: -0.14728838989194004}, {&quot;x&quot;: -0.17948717948717924, &quot;y&quot;: 0.07692307692307715, &quot;z&quot;: -0.14772669802255586}, {&quot;x&quot;: -0.17948717948717924, &quot;y&quot;: 0.12820512820512842, &quot;z&quot;: -0.14937878251487705}, {&quot;x&quot;: -0.17948717948717924, &quot;y&quot;: 0.17948717948717968, &quot;z&quot;: -0.1530538276100405}, {&quot;x&quot;: -0.17948717948717924, &quot;y&quot;: 0.23076923076923095, &quot;z&quot;: -0.15956101754918312}, {&quot;x&quot;: -0.17948717948717924, &quot;y&quot;: 0.2820512820512822, &quot;z&quot;: -0.1697095365734418}, {&quot;x&quot;: -0.17948717948717924, &quot;y&quot;: 0.3333333333333335, &quot;z&quot;: -0.18430856892395342}, {&quot;x&quot;: -0.17948717948717924, &quot;y&quot;: 0.38461538461538475, &quot;z&quot;: -0.20416729884185494}, {&quot;x&quot;: -0.17948717948717924, &quot;y&quot;: 0.435897435897436, &quot;z&quot;: -0.23009491056828324}, {&quot;x&quot;: -0.17948717948717924, &quot;y&quot;: 0.4871794871794873, &quot;z&quot;: -0.26290058834437524}, {&quot;x&quot;: -0.17948717948717924, &quot;y&quot;: 0.5384615384615385, &quot;z&quot;: -0.3033935164112678}, {&quot;x&quot;: -0.17948717948717924, &quot;y&quot;: 0.5897435897435899, &quot;z&quot;: -0.3523828790100979}, {&quot;x&quot;: -0.17948717948717924, &quot;y&quot;: 0.6410256410256412, &quot;z&quot;: -0.41067786038200244}, {&quot;x&quot;: -0.17948717948717924, &quot;y&quot;: 0.6923076923076925, &quot;z&quot;: -0.47908764476811827}, {&quot;x&quot;: -0.17948717948717924, &quot;y&quot;: 0.7435897435897438, &quot;z&quot;: -0.5584214164095824}, {&quot;x&quot;: -0.17948717948717924, &quot;y&quot;: 0.7948717948717952, &quot;z&quot;: -0.6494883595475316}, {&quot;x&quot;: -0.17948717948717924, &quot;y&quot;: 0.8461538461538465, &quot;z&quot;: -0.7530976584231028}, {&quot;x&quot;: -0.17948717948717924, &quot;y&quot;: 0.8974358974358978, &quot;z&quot;: -0.870058497277433}, {&quot;x&quot;: -0.17948717948717924, &quot;y&quot;: 0.9487179487179491, &quot;z&quot;: -1.001180060351659}, {&quot;x&quot;: -0.17948717948717924, &quot;y&quot;: 1.0, &quot;z&quot;: -1.1472715318869164}, {&quot;x&quot;: -0.12820512820512797, &quot;y&quot;: -0.9487179487179487, &quot;z&quot;: 0.7421399551577067}, {&quot;x&quot;: -0.12820512820512797, &quot;y&quot;: -1.0, &quot;z&quot;: 0.8882314266929654}, {&quot;x&quot;: -0.12820512820512797, &quot;y&quot;: -0.8974358974358974, &quot;z&quot;: 0.6110183920834807}, {&quot;x&quot;: -0.12820512820512797, &quot;y&quot;: -0.846153846153846, &quot;z&quot;: 0.4940575532291507}, {&quot;x&quot;: -0.12820512820512797, &quot;y&quot;: -0.7948717948717947, &quot;z&quot;: 0.39044825435357955}, {&quot;x&quot;: -0.12820512820512797, &quot;y&quot;: -0.7435897435897434, &quot;z&quot;: 0.29938131121563066}, {&quot;x&quot;: -0.12820512820512797, &quot;y&quot;: -0.6923076923076921, &quot;z&quot;: 0.22004753957416662}, {&quot;x&quot;: -0.12820512820512797, &quot;y&quot;: -0.6410256410256407, &quot;z&quot;: 0.1516377551880509}, {&quot;x&quot;: -0.12820512820512797, &quot;y&quot;: -0.5897435897435894, &quot;z&quot;: 0.09334277381614647}, {&quot;x&quot;: -0.12820512820512797, &quot;y&quot;: -0.5384615384615381, &quot;z&quot;: 0.044353411217316396}, {&quot;x&quot;: -0.12820512820512797, &quot;y&quot;: -0.48717948717948684, &quot;z&quot;: 0.003860483150423921}, {&quot;x&quot;: -0.12820512820512797, &quot;y&quot;: -0.43589743589743557, &quot;z&quot;: -0.02894519462566801}, {&quot;x&quot;: -0.12820512820512797, &quot;y&quot;: -0.3846153846153843, &quot;z&quot;: -0.054872806352096265}, {&quot;x&quot;: -0.12820512820512797, &quot;y&quot;: -0.33333333333333304, &quot;z&quot;: -0.07473153626999773}, {&quot;x&quot;: -0.12820512820512797, &quot;y&quot;: -0.28205128205128177, &quot;z&quot;: -0.08933056862050934}, {&quot;x&quot;: -0.12820512820512797, &quot;y&quot;: -0.2307692307692305, &quot;z&quot;: -0.09947908764476798}, {&quot;x&quot;: -0.12820512820512797, &quot;y&quot;: -0.17948717948717924, &quot;z&quot;: -0.10598627758391058}, {&quot;x&quot;: -0.12820512820512797, &quot;y&quot;: -0.12820512820512797, &quot;z&quot;: -0.109661322679074}, {&quot;x&quot;: -0.12820512820512797, &quot;y&quot;: -0.07692307692307669, &quot;z&quot;: -0.11131340717139517}, {&quot;x&quot;: -0.12820512820512797, &quot;y&quot;: -0.02564102564102541, &quot;z&quot;: -0.11175171530201099}, {&quot;x&quot;: -0.12820512820512797, &quot;y&quot;: 0.02564102564102587, &quot;z&quot;: -0.11178543131205836}, {&quot;x&quot;: -0.12820512820512797, &quot;y&quot;: 0.07692307692307715, &quot;z&quot;: -0.11222373944267419}, {&quot;x&quot;: -0.12820512820512797, &quot;y&quot;: 0.12820512820512842, &quot;z&quot;: -0.11387582393499537}, {&quot;x&quot;: -0.12820512820512797, &quot;y&quot;: 0.17948717948717968, &quot;z&quot;: -0.11755086903015882}, {&quot;x&quot;: -0.12820512820512797, &quot;y&quot;: 0.23076923076923095, &quot;z&quot;: -0.12405805896930143}, {&quot;x&quot;: -0.12820512820512797, &quot;y&quot;: 0.2820512820512822, &quot;z&quot;: -0.13420657799356012}, {&quot;x&quot;: -0.12820512820512797, &quot;y&quot;: 0.3333333333333335, &quot;z&quot;: -0.14880561034407175}, {&quot;x&quot;: -0.12820512820512797, &quot;y&quot;: 0.38461538461538475, &quot;z&quot;: -0.16866434026197327}, {&quot;x&quot;: -0.12820512820512797, &quot;y&quot;: 0.435897435897436, &quot;z&quot;: -0.19459195198840157}, {&quot;x&quot;: -0.12820512820512797, &quot;y&quot;: 0.4871794871794873, &quot;z&quot;: -0.22739762976449357}, {&quot;x&quot;: -0.12820512820512797, &quot;y&quot;: 0.5384615384615385, &quot;z&quot;: -0.26789055783138616}, {&quot;x&quot;: -0.12820512820512797, &quot;y&quot;: 0.5897435897435899, &quot;z&quot;: -0.31687992043021623}, {&quot;x&quot;: -0.12820512820512797, &quot;y&quot;: 0.6410256410256412, &quot;z&quot;: -0.37517490180212076}, {&quot;x&quot;: -0.12820512820512797, &quot;y&quot;: 0.6923076923076925, &quot;z&quot;: -0.4435846861882366}, {&quot;x&quot;: -0.12820512820512797, &quot;y&quot;: 0.7435897435897438, &quot;z&quot;: -0.5229184578297007}, {&quot;x&quot;: -0.12820512820512797, &quot;y&quot;: 0.7948717948717952, &quot;z&quot;: -0.61398540096765}, {&quot;x&quot;: -0.12820512820512797, &quot;y&quot;: 0.8461538461538465, &quot;z&quot;: -0.7175946998432211}, {&quot;x&quot;: -0.12820512820512797, &quot;y&quot;: 0.8974358974358978, &quot;z&quot;: -0.8345555386975513}, {&quot;x&quot;: -0.12820512820512797, &quot;y&quot;: 0.9487179487179491, &quot;z&quot;: -0.9656771017717772}, {&quot;x&quot;: -0.12820512820512797, &quot;y&quot;: 1.0, &quot;z&quot;: -1.1117685733070348}, {&quot;x&quot;: -0.07692307692307669, &quot;y&quot;: -0.9487179487179487, &quot;z&quot;: 0.7829026113049783}, {&quot;x&quot;: -0.07692307692307669, &quot;y&quot;: -1.0, &quot;z&quot;: 0.928994082840237}, {&quot;x&quot;: -0.07692307692307669, &quot;y&quot;: -0.8974358974358974, &quot;z&quot;: 0.6517810482307523}, {&quot;x&quot;: -0.07692307692307669, &quot;y&quot;: -0.846153846153846, &quot;z&quot;: 0.5348202093764223}, {&quot;x&quot;: -0.07692307692307669, &quot;y&quot;: -0.7948717948717947, &quot;z&quot;: 0.4312109105008511}, {&quot;x&quot;: -0.07692307692307669, &quot;y&quot;: -0.7435897435897434, &quot;z&quot;: 0.3401439673629022}, {&quot;x&quot;: -0.07692307692307669, &quot;y&quot;: -0.6923076923076921, &quot;z&quot;: 0.26081019572143815}, {&quot;x&quot;: -0.07692307692307669, &quot;y&quot;: -0.6410256410256407, &quot;z&quot;: 0.19240041133532243}, {&quot;x&quot;: -0.07692307692307669, &quot;y&quot;: -0.5897435897435894, &quot;z&quot;: 0.134105429963418}, {&quot;x&quot;: -0.07692307692307669, &quot;y&quot;: -0.5384615384615381, &quot;z&quot;: 0.08511606736458795}, {&quot;x&quot;: -0.07692307692307669, &quot;y&quot;: -0.48717948717948684, &quot;z&quot;: 0.04462313929769546}, {&quot;x&quot;: -0.07692307692307669, &quot;y&quot;: -0.43589743589743557, &quot;z&quot;: 0.01181746152160354}, {&quot;x&quot;: -0.07692307692307669, &quot;y&quot;: -0.3846153846153843, &quot;z&quot;: -0.0141101502048247}, {&quot;x&quot;: -0.07692307692307669, &quot;y&quot;: -0.33333333333333304, &quot;z&quot;: -0.03396888012272618}, {&quot;x&quot;: -0.07692307692307669, &quot;y&quot;: -0.28205128205128177, &quot;z&quot;: -0.04856791247323779}, {&quot;x&quot;: -0.07692307692307669, &quot;y&quot;: -0.2307692307692305, &quot;z&quot;: -0.05871643149749643}, {&quot;x&quot;: -0.07692307692307669, &quot;y&quot;: -0.17948717948717924, &quot;z&quot;: -0.06522362143663901}, {&quot;x&quot;: -0.07692307692307669, &quot;y&quot;: -0.12820512820512797, &quot;z&quot;: -0.06889866653180245}, {&quot;x&quot;: -0.07692307692307669, &quot;y&quot;: -0.07692307692307669, &quot;z&quot;: -0.07055075102412361}, {&quot;x&quot;: -0.07692307692307669, &quot;y&quot;: -0.02564102564102541, &quot;z&quot;: -0.07098905915473944}, {&quot;x&quot;: -0.07692307692307669, &quot;y&quot;: 0.02564102564102587, &quot;z&quot;: -0.0710227751647868}, {&quot;x&quot;: -0.07692307692307669, &quot;y&quot;: 0.07692307692307715, &quot;z&quot;: -0.07146108329540263}, {&quot;x&quot;: -0.07692307692307669, &quot;y&quot;: 0.12820512820512842, &quot;z&quot;: -0.07311316778772381}, {&quot;x&quot;: -0.07692307692307669, &quot;y&quot;: 0.17948717948717968, &quot;z&quot;: -0.07678821288288726}, {&quot;x&quot;: -0.07692307692307669, &quot;y&quot;: 0.23076923076923095, &quot;z&quot;: -0.08329540282202988}, {&quot;x&quot;: -0.07692307692307669, &quot;y&quot;: 0.2820512820512822, &quot;z&quot;: -0.09344392184628855}, {&quot;x&quot;: -0.07692307692307669, &quot;y&quot;: 0.3333333333333335, &quot;z&quot;: -0.10804295419680021}, {&quot;x&quot;: -0.07692307692307669, &quot;y&quot;: 0.38461538461538475, &quot;z&quot;: -0.1279016841147017}, {&quot;x&quot;: -0.07692307692307669, &quot;y&quot;: 0.435897435897436, &quot;z&quot;: -0.15382929584113003}, {&quot;x&quot;: -0.07692307692307669, &quot;y&quot;: 0.4871794871794873, &quot;z&quot;: -0.18663497361722203}, {&quot;x&quot;: -0.07692307692307669, &quot;y&quot;: 0.5384615384615385, &quot;z&quot;: -0.22712790168411456}, {&quot;x&quot;: -0.07692307692307669, &quot;y&quot;: 0.5897435897435899, &quot;z&quot;: -0.2761172642829447}, {&quot;x&quot;: -0.07692307692307669, &quot;y&quot;: 0.6410256410256412, &quot;z&quot;: -0.3344122456548492}, {&quot;x&quot;: -0.07692307692307669, &quot;y&quot;: 0.6923076923076925, &quot;z&quot;: -0.40282203004096506}, {&quot;x&quot;: -0.07692307692307669, &quot;y&quot;: 0.7435897435897438, &quot;z&quot;: -0.48215580168242916}, {&quot;x&quot;: -0.07692307692307669, &quot;y&quot;: 0.7948717948717952, &quot;z&quot;: -0.5732227448203784}, {&quot;x&quot;: -0.07692307692307669, &quot;y&quot;: 0.8461538461538465, &quot;z&quot;: -0.6768320436959495}, {&quot;x&quot;: -0.07692307692307669, &quot;y&quot;: 0.8974358974358978, &quot;z&quot;: -0.7937928825502797}, {&quot;x&quot;: -0.07692307692307669, &quot;y&quot;: 0.9487179487179491, &quot;z&quot;: -0.9249144456245056}, {&quot;x&quot;: -0.07692307692307669, &quot;y&quot;: 1.0, &quot;z&quot;: -1.0710059171597632}, {&quot;x&quot;: -0.02564102564102541, &quot;y&quot;: -0.9487179487179487, &quot;z&quot;: 0.8289249650196397}, {&quot;x&quot;: -0.02564102564102541, &quot;y&quot;: -1.0, &quot;z&quot;: 0.9750164365548982}, {&quot;x&quot;: -0.02564102564102541, &quot;y&quot;: -0.8974358974358974, &quot;z&quot;: 0.6978034019454138}, {&quot;x&quot;: -0.02564102564102541, &quot;y&quot;: -0.846153846153846, &quot;z&quot;: 0.5808425630910837}, {&quot;x&quot;: -0.02564102564102541, &quot;y&quot;: -0.7948717948717947, &quot;z&quot;: 0.4772332642155126}, {&quot;x&quot;: -0.02564102564102541, &quot;y&quot;: -0.7435897435897434, &quot;z&quot;: 0.38616632107756366}, {&quot;x&quot;: -0.02564102564102541, &quot;y&quot;: -0.6923076923076921, &quot;z&quot;: 0.3068325494360996}, {&quot;x&quot;: -0.02564102564102541, &quot;y&quot;: -0.6410256410256407, &quot;z&quot;: 0.23842276504998386}, {&quot;x&quot;: -0.02564102564102541, &quot;y&quot;: -0.5897435897435894, &quot;z&quot;: 0.18012778367807944}, {&quot;x&quot;: -0.02564102564102541, &quot;y&quot;: -0.5384615384615381, &quot;z&quot;: 0.13113842107924936}, {&quot;x&quot;: -0.02564102564102541, &quot;y&quot;: -0.48717948717948684, &quot;z&quot;: 0.09064549301235689}, {&quot;x&quot;: -0.02564102564102541, &quot;y&quot;: -0.43589743589743557, &quot;z&quot;: 0.05783981523626497}, {&quot;x&quot;: -0.02564102564102541, &quot;y&quot;: -0.3846153846153843, &quot;z&quot;: 0.03191220350983672}, {&quot;x&quot;: -0.02564102564102541, &quot;y&quot;: -0.33333333333333304, &quot;z&quot;: 0.012053473591935246}, {&quot;x&quot;: -0.02564102564102541, &quot;y&quot;: -0.28205128205128177, &quot;z&quot;: -0.002545558758576358}, {&quot;x&quot;: -0.02564102564102541, &quot;y&quot;: -0.2307692307692305, &quot;z&quot;: -0.012694077782835003}, {&quot;x&quot;: -0.02564102564102541, &quot;y&quot;: -0.17948717948717924, &quot;z&quot;: -0.019201267721977586}, {&quot;x&quot;: -0.02564102564102541, &quot;y&quot;: -0.12820512820512797, &quot;z&quot;: -0.022876312817141014}, {&quot;x&quot;: -0.02564102564102541, &quot;y&quot;: -0.07692307692307669, &quot;z&quot;: -0.024528397309462185}, {&quot;x&quot;: -0.02564102564102541, &quot;y&quot;: -0.02564102564102541, &quot;z&quot;: -0.024966705440078004}, {&quot;x&quot;: -0.02564102564102541, &quot;y&quot;: 0.02564102564102587, &quot;z&quot;: -0.025000421450125373}, {&quot;x&quot;: -0.02564102564102541, &quot;y&quot;: 0.07692307692307715, &quot;z&quot;: -0.025438729580741202}, {&quot;x&quot;: -0.02564102564102541, &quot;y&quot;: 0.12820512820512842, &quot;z&quot;: -0.027090814073062387}, {&quot;x&quot;: -0.02564102564102541, &quot;y&quot;: 0.17948717948717968, &quot;z&quot;: -0.030765859168225832}, {&quot;x&quot;: -0.02564102564102541, &quot;y&quot;: 0.23076923076923095, &quot;z&quot;: -0.03727304910736844}, {&quot;x&quot;: -0.02564102564102541, &quot;y&quot;: 0.2820512820512822, &quot;z&quot;: -0.04742156813162712}, {&quot;x&quot;: -0.02564102564102541, &quot;y&quot;: 0.3333333333333335, &quot;z&quot;: -0.06202060048213878}, {&quot;x&quot;: -0.02564102564102541, &quot;y&quot;: 0.38461538461538475, &quot;z&quot;: -0.0818793304000403}, {&quot;x&quot;: -0.02564102564102541, &quot;y&quot;: 0.435897435897436, &quot;z&quot;: -0.1078069421264686}, {&quot;x&quot;: -0.02564102564102541, &quot;y&quot;: 0.4871794871794873, &quot;z&quot;: -0.14061261990256058}, {&quot;x&quot;: -0.02564102564102541, &quot;y&quot;: 0.5384615384615385, &quot;z&quot;: -0.18110554796945316}, {&quot;x&quot;: -0.02564102564102541, &quot;y&quot;: 0.5897435897435899, &quot;z&quot;: -0.23009491056828327}, {&quot;x&quot;: -0.02564102564102541, &quot;y&quot;: 0.6410256410256412, &quot;z&quot;: -0.2883898919401878}, {&quot;x&quot;: -0.02564102564102541, &quot;y&quot;: 0.6923076923076925, &quot;z&quot;: -0.3567996763263036}, {&quot;x&quot;: -0.02564102564102541, &quot;y&quot;: 0.7435897435897438, &quot;z&quot;: -0.43613344796776776}, {&quot;x&quot;: -0.02564102564102541, &quot;y&quot;: 0.7948717948717952, &quot;z&quot;: -0.5272003911057169}, {&quot;x&quot;: -0.02564102564102541, &quot;y&quot;: 0.8461538461538465, &quot;z&quot;: -0.6308096899812881}, {&quot;x&quot;: -0.02564102564102541, &quot;y&quot;: 0.8974358974358978, &quot;z&quot;: -0.7477705288356182}, {&quot;x&quot;: -0.02564102564102541, &quot;y&quot;: 0.9487179487179491, &quot;z&quot;: -0.8788920919098442}, {&quot;x&quot;: -0.02564102564102541, &quot;y&quot;: 1.0, &quot;z&quot;: -1.0249835634451017}, {&quot;x&quot;: 0.02564102564102587, &quot;y&quot;: -0.9487179487179487, &quot;z&quot;: 0.8802070163016911}, {&quot;x&quot;: 0.02564102564102587, &quot;y&quot;: -1.0, &quot;z&quot;: 1.0262984878369494}, {&quot;x&quot;: 0.02564102564102587, &quot;y&quot;: -0.8974358974358974, &quot;z&quot;: 0.7490854532274651}, {&quot;x&quot;: 0.02564102564102587, &quot;y&quot;: -0.846153846153846, &quot;z&quot;: 0.632124614373135}, {&quot;x&quot;: 0.02564102564102587, &quot;y&quot;: -0.7948717948717947, &quot;z&quot;: 0.5285153154975639}, {&quot;x&quot;: 0.02564102564102587, &quot;y&quot;: -0.7435897435897434, &quot;z&quot;: 0.4374483723596149}, {&quot;x&quot;: 0.02564102564102587, &quot;y&quot;: -0.6923076923076921, &quot;z&quot;: 0.3581146007181509}, {&quot;x&quot;: 0.02564102564102587, &quot;y&quot;: -0.6410256410256407, &quot;z&quot;: 0.28970481633203515}, {&quot;x&quot;: 0.02564102564102587, &quot;y&quot;: -0.5897435897435894, &quot;z&quot;: 0.23140983496013073}, {&quot;x&quot;: 0.02564102564102587, &quot;y&quot;: -0.5384615384615381, &quot;z&quot;: 0.18242047236130066}, {&quot;x&quot;: 0.02564102564102587, &quot;y&quot;: -0.48717948717948684, &quot;z&quot;: 0.14192754429440818}, {&quot;x&quot;: 0.02564102564102587, &quot;y&quot;: -0.43589743589743557, &quot;z&quot;: 0.10912186651831628}, {&quot;x&quot;: 0.02564102564102587, &quot;y&quot;: -0.3846153846153843, &quot;z&quot;: 0.08319425479188802}, {&quot;x&quot;: 0.02564102564102587, &quot;y&quot;: -0.33333333333333304, &quot;z&quot;: 0.06333552487398655}, {&quot;x&quot;: 0.02564102564102587, &quot;y&quot;: -0.28205128205128177, &quot;z&quot;: 0.04873649252347495}, {&quot;x&quot;: 0.02564102564102587, &quot;y&quot;: -0.2307692307692305, &quot;z&quot;: 0.038587973499216305}, {&quot;x&quot;: 0.02564102564102587, &quot;y&quot;: -0.17948717948717924, &quot;z&quot;: 0.03208078356007372}, {&quot;x&quot;: 0.02564102564102587, &quot;y&quot;: -0.12820512820512797, &quot;z&quot;: 0.02840573846491029}, {&quot;x&quot;: 0.02564102564102587, &quot;y&quot;: -0.07692307692307669, &quot;z&quot;: 0.02675365397258912}, {&quot;x&quot;: 0.02564102564102587, &quot;y&quot;: -0.02564102564102541, &quot;z&quot;: 0.0263153458419733}, {&quot;x&quot;: 0.02564102564102587, &quot;y&quot;: 0.02564102564102587, &quot;z&quot;: 0.026281629831925928}, {&quot;x&quot;: 0.02564102564102587, &quot;y&quot;: 0.07692307692307715, &quot;z&quot;: 0.025843321701310103}, {&quot;x&quot;: 0.02564102564102587, &quot;y&quot;: 0.12820512820512842, &quot;z&quot;: 0.024191237208988917}, {&quot;x&quot;: 0.02564102564102587, &quot;y&quot;: 0.17948717948717968, &quot;z&quot;: 0.020516192113825472}, {&quot;x&quot;: 0.02564102564102587, &quot;y&quot;: 0.23076923076923095, &quot;z&quot;: 0.014009002174682858}, {&quot;x&quot;: 0.02564102564102587, &quot;y&quot;: 0.2820512820512822, &quot;z&quot;: 0.003860483150424178}, {&quot;x&quot;: 0.02564102564102587, &quot;y&quot;: 0.3333333333333335, &quot;z&quot;: -0.010738549200087474}, {&quot;x&quot;: 0.02564102564102587, &quot;y&quot;: 0.38461538461538475, &quot;z&quot;: -0.03059727911798899}, {&quot;x&quot;: 0.02564102564102587, &quot;y&quot;: 0.435897435897436, &quot;z&quot;: -0.056524890844417294}, {&quot;x&quot;: 0.02564102564102587, &quot;y&quot;: 0.4871794871794873, &quot;z&quot;: -0.08933056862050928}, {&quot;x&quot;: 0.02564102564102587, &quot;y&quot;: 0.5384615384615385, &quot;z&quot;: -0.12982349668740184}, {&quot;x&quot;: 0.02564102564102587, &quot;y&quot;: 0.5897435897435899, &quot;z&quot;: -0.17881285928623197}, {&quot;x&quot;: 0.02564102564102587, &quot;y&quot;: 0.6410256410256412, &quot;z&quot;: -0.2371078406581365}, {&quot;x&quot;: 0.02564102564102587, &quot;y&quot;: 0.6923076923076925, &quot;z&quot;: -0.30551762504425234}, {&quot;x&quot;: 0.02564102564102587, &quot;y&quot;: 0.7435897435897438, &quot;z&quot;: -0.38485139668571644}, {&quot;x&quot;: 0.02564102564102587, &quot;y&quot;: 0.7948717948717952, &quot;z&quot;: -0.4759183398236656}, {&quot;x&quot;: 0.02564102564102587, &quot;y&quot;: 0.8461538461538465, &quot;z&quot;: -0.5795276386992367}, {&quot;x&quot;: 0.02564102564102587, &quot;y&quot;: 0.8974358974358978, &quot;z&quot;: -0.6964884775535669}, {&quot;x&quot;: 0.02564102564102587, &quot;y&quot;: 0.9487179487179491, &quot;z&quot;: -0.8276100406277929}, {&quot;x&quot;: 0.02564102564102587, &quot;y&quot;: 1.0, &quot;z&quot;: -0.9737015121630503}, {&quot;x&quot;: 0.07692307692307715, &quot;y&quot;: -0.9487179487179487, &quot;z&quot;: 0.9367487651511321}, {&quot;x&quot;: 0.07692307692307715, &quot;y&quot;: -1.0, &quot;z&quot;: 1.0828402366863907}, {&quot;x&quot;: 0.07692307692307715, &quot;y&quot;: -0.8974358974358974, &quot;z&quot;: 0.8056272020769062}, {&quot;x&quot;: 0.07692307692307715, &quot;y&quot;: -0.846153846153846, &quot;z&quot;: 0.6886663632225762}, {&quot;x&quot;: 0.07692307692307715, &quot;y&quot;: -0.7948717948717947, &quot;z&quot;: 0.585057064347005}, {&quot;x&quot;: 0.07692307692307715, &quot;y&quot;: -0.7435897435897434, &quot;z&quot;: 0.4939901212090561}, {&quot;x&quot;: 0.07692307692307715, &quot;y&quot;: -0.6923076923076921, &quot;z&quot;: 0.41465634956759206}, {&quot;x&quot;: 0.07692307692307715, &quot;y&quot;: -0.6410256410256407, &quot;z&quot;: 0.34624656518147634}, {&quot;x&quot;: 0.07692307692307715, &quot;y&quot;: -0.5897435897435894, &quot;z&quot;: 0.2879515838095719}, {&quot;x&quot;: 0.07692307692307715, &quot;y&quot;: -0.5384615384615381, &quot;z&quot;: 0.23896222121074184}, {&quot;x&quot;: 0.07692307692307715, &quot;y&quot;: -0.48717948717948684, &quot;z&quot;: 0.19846929314384937}, {&quot;x&quot;: 0.07692307692307715, &quot;y&quot;: -0.43589743589743557, &quot;z&quot;: 0.16566361536775745}, {&quot;x&quot;: 0.07692307692307715, &quot;y&quot;: -0.3846153846153843, &quot;z&quot;: 0.1397360036413292}, {&quot;x&quot;: 0.07692307692307715, &quot;y&quot;: -0.33333333333333304, &quot;z&quot;: 0.11987727372342774}, {&quot;x&quot;: 0.07692307692307715, &quot;y&quot;: -0.28205128205128177, &quot;z&quot;: 0.10527824137291612}, {&quot;x&quot;: 0.07692307692307715, &quot;y&quot;: -0.2307692307692305, &quot;z&quot;: 0.09512972234865748}, {&quot;x&quot;: 0.07692307692307715, &quot;y&quot;: -0.17948717948717924, &quot;z&quot;: 0.0886225324095149}, {&quot;x&quot;: 0.07692307692307715, &quot;y&quot;: -0.12820512820512797, &quot;z&quot;: 0.08494748731435146}, {&quot;x&quot;: 0.07692307692307715, &quot;y&quot;: -0.07692307692307669, &quot;z&quot;: 0.0832954028220303}, {&quot;x&quot;: 0.07692307692307715, &quot;y&quot;: -0.02564102564102541, &quot;z&quot;: 0.08285709469141447}, {&quot;x&quot;: 0.07692307692307715, &quot;y&quot;: 0.02564102564102587, &quot;z&quot;: 0.0828233786813671}, {&quot;x&quot;: 0.07692307692307715, &quot;y&quot;: 0.07692307692307715, &quot;z&quot;: 0.08238507055075128}, {&quot;x&quot;: 0.07692307692307715, &quot;y&quot;: 0.12820512820512842, &quot;z&quot;: 0.0807329860584301}, {&quot;x&quot;: 0.07692307692307715, &quot;y&quot;: 0.17948717948717968, &quot;z&quot;: 0.07705794096326665}, {&quot;x&quot;: 0.07692307692307715, &quot;y&quot;: 0.23076923076923095, &quot;z&quot;: 0.07055075102412403}, {&quot;x&quot;: 0.07692307692307715, &quot;y&quot;: 0.2820512820512822, &quot;z&quot;: 0.06040223199986536}, {&quot;x&quot;: 0.07692307692307715, &quot;y&quot;: 0.3333333333333335, &quot;z&quot;: 0.0458031996493537}, {&quot;x&quot;: 0.07692307692307715, &quot;y&quot;: 0.38461538461538475, &quot;z&quot;: 0.02594446973145219}, {&quot;x&quot;: 0.07692307692307715, &quot;y&quot;: 0.435897435897436, &quot;z&quot;: 1.6858005023878686e-05}, {&quot;x&quot;: 0.07692307692307715, &quot;y&quot;: 0.4871794871794873, &quot;z&quot;: -0.03278881977106811}, {&quot;x&quot;: 0.07692307692307715, &quot;y&quot;: 0.5384615384615385, &quot;z&quot;: -0.07328174783796068}, {&quot;x&quot;: 0.07692307692307715, &quot;y&quot;: 0.5897435897435899, &quot;z&quot;: -0.12227111043679079}, {&quot;x&quot;: 0.07692307692307715, &quot;y&quot;: 0.6410256410256412, &quot;z&quot;: -0.18056609180869532}, {&quot;x&quot;: 0.07692307692307715, &quot;y&quot;: 0.6923076923076925, &quot;z&quot;: -0.24897587619481115}, {&quot;x&quot;: 0.07692307692307715, &quot;y&quot;: 0.7435897435897438, &quot;z&quot;: -0.32830964783627525}, {&quot;x&quot;: 0.07692307692307715, &quot;y&quot;: 0.7948717948717952, &quot;z&quot;: -0.4193765909742245}, {&quot;x&quot;: 0.07692307692307715, &quot;y&quot;: 0.8461538461538465, &quot;z&quot;: -0.5229858898497957}, {&quot;x&quot;: 0.07692307692307715, &quot;y&quot;: 0.8974358974358978, &quot;z&quot;: -0.6399467287041258}, {&quot;x&quot;: 0.07692307692307715, &quot;y&quot;: 0.9487179487179491, &quot;z&quot;: -0.7710682917783518}, {&quot;x&quot;: 0.07692307692307715, &quot;y&quot;: 1.0, &quot;z&quot;: -0.9171597633136093}, {&quot;x&quot;: 0.12820512820512842, &quot;y&quot;: -0.9487179487179487, &quot;z&quot;: 0.9985502115679632}, {&quot;x&quot;: 0.12820512820512842, &quot;y&quot;: -1.0, &quot;z&quot;: 1.1446416831032218}, {&quot;x&quot;: 0.12820512820512842, &quot;y&quot;: -0.8974358974358974, &quot;z&quot;: 0.8674286484937372}, {&quot;x&quot;: 0.12820512820512842, &quot;y&quot;: -0.846153846153846, &quot;z&quot;: 0.7504678096394072}, {&quot;x&quot;: 0.12820512820512842, &quot;y&quot;: -0.7948717948717947, &quot;z&quot;: 0.646858510763836}, {&quot;x&quot;: 0.12820512820512842, &quot;y&quot;: -0.7435897435897434, &quot;z&quot;: 0.5557915676258871}, {&quot;x&quot;: 0.12820512820512842, &quot;y&quot;: -0.6923076923076921, &quot;z&quot;: 0.4764577959844231}, {&quot;x&quot;: 0.12820512820512842, &quot;y&quot;: -0.6410256410256407, &quot;z&quot;: 0.4080480115983074}, {&quot;x&quot;: 0.12820512820512842, &quot;y&quot;: -0.5897435897435894, &quot;z&quot;: 0.34975303022640297}, {&quot;x&quot;: 0.12820512820512842, &quot;y&quot;: -0.5384615384615381, &quot;z&quot;: 0.3007636676275729}, {&quot;x&quot;: 0.12820512820512842, &quot;y&quot;: -0.48717948717948684, &quot;z&quot;: 0.2602707395606804}, {&quot;x&quot;: 0.12820512820512842, &quot;y&quot;: -0.43589743589743557, &quot;z&quot;: 0.22746506178458847}, {&quot;x&quot;: 0.12820512820512842, &quot;y&quot;: -0.3846153846153843, &quot;z&quot;: 0.20153745005816026}, {&quot;x&quot;: 0.12820512820512842, &quot;y&quot;: -0.33333333333333304, &quot;z&quot;: 0.18167872014025876}, {&quot;x&quot;: 0.12820512820512842, &quot;y&quot;: -0.28205128205128177, &quot;z&quot;: 0.16707968778974716}, {&quot;x&quot;: 0.12820512820512842, &quot;y&quot;: -0.2307692307692305, &quot;z&quot;: 0.15693116876548852}, {&quot;x&quot;: 0.12820512820512842, &quot;y&quot;: -0.17948717948717924, &quot;z&quot;: 0.15042397882634592}, {&quot;x&quot;: 0.12820512820512842, &quot;y&quot;: -0.12820512820512797, &quot;z&quot;: 0.1467489337311825}, {&quot;x&quot;: 0.12820512820512842, &quot;y&quot;: -0.07692307692307669, &quot;z&quot;: 0.14509684923886135}, {&quot;x&quot;: 0.12820512820512842, &quot;y&quot;: -0.02564102564102541, &quot;z&quot;: 0.14465854110824553}, {&quot;x&quot;: 0.12820512820512842, &quot;y&quot;: 0.02564102564102587, &quot;z&quot;: 0.14462482509819816}, {&quot;x&quot;: 0.12820512820512842, &quot;y&quot;: 0.07692307692307715, &quot;z&quot;: 0.1441865169675823}, {&quot;x&quot;: 0.12820512820512842, &quot;y&quot;: 0.12820512820512842, &quot;z&quot;: 0.14253443247526112}, {&quot;x&quot;: 0.12820512820512842, &quot;y&quot;: 0.17948717948717968, &quot;z&quot;: 0.13885938738009768}, {&quot;x&quot;: 0.12820512820512842, &quot;y&quot;: 0.23076923076923095, &quot;z&quot;: 0.13235219744095508}, {&quot;x&quot;: 0.12820512820512842, &quot;y&quot;: 0.2820512820512822, &quot;z&quot;: 0.1222036784166964}, {&quot;x&quot;: 0.12820512820512842, &quot;y&quot;: 0.3333333333333335, &quot;z&quot;: 0.10760464606618474}, {&quot;x&quot;: 0.12820512820512842, &quot;y&quot;: 0.38461538461538475, &quot;z&quot;: 0.08774591614828323}, {&quot;x&quot;: 0.12820512820512842, &quot;y&quot;: 0.435897435897436, &quot;z&quot;: 0.06181830442185492}, {&quot;x&quot;: 0.12820512820512842, &quot;y&quot;: 0.4871794871794873, &quot;z&quot;: 0.02901262664576293}, {&quot;x&quot;: 0.12820512820512842, &quot;y&quot;: 0.5384615384615385, &quot;z&quot;: -0.01148030142112963}, {&quot;x&quot;: 0.12820512820512842, &quot;y&quot;: 0.5897435897435899, &quot;z&quot;: -0.060469664019959735}, {&quot;x&quot;: 0.12820512820512842, &quot;y&quot;: 0.6410256410256412, &quot;z&quot;: -0.11876464539186427}, {&quot;x&quot;: 0.12820512820512842, &quot;y&quot;: 0.6923076923076925, &quot;z&quot;: -0.1871744297779801}, {&quot;x&quot;: 0.12820512820512842, &quot;y&quot;: 0.7435897435897438, &quot;z&quot;: -0.2665082014194442}, {&quot;x&quot;: 0.12820512820512842, &quot;y&quot;: 0.7948717948717952, &quot;z&quot;: -0.3575751445573934}, {&quot;x&quot;: 0.12820512820512842, &quot;y&quot;: 0.8461538461538465, &quot;z&quot;: -0.4611844434329646}, {&quot;x&quot;: 0.12820512820512842, &quot;y&quot;: 0.8974358974358978, &quot;z&quot;: -0.5781452822872948}, {&quot;x&quot;: 0.12820512820512842, &quot;y&quot;: 0.9487179487179491, &quot;z&quot;: -0.7092668453615207}, {&quot;x&quot;: 0.12820512820512842, &quot;y&quot;: 1.0, &quot;z&quot;: -0.8553583168967782}, {&quot;x&quot;: 0.17948717948717968, &quot;y&quot;: -0.9487179487179487, &quot;z&quot;: 1.0656113555521842}, {&quot;x&quot;: 0.17948717948717968, &quot;y&quot;: -1.0, &quot;z&quot;: 1.2117028270874428}, {&quot;x&quot;: 0.17948717948717968, &quot;y&quot;: -0.8974358974358974, &quot;z&quot;: 0.9344897924779583}, {&quot;x&quot;: 0.17948717948717968, &quot;y&quot;: -0.846153846153846, &quot;z&quot;: 0.8175289536236281}, {&quot;x&quot;: 0.17948717948717968, &quot;y&quot;: -0.7948717948717947, &quot;z&quot;: 0.7139196547480571}, {&quot;x&quot;: 0.17948717948717968, &quot;y&quot;: -0.7435897435897434, &quot;z&quot;: 0.6228527116101081}, {&quot;x&quot;: 0.17948717948717968, &quot;y&quot;: -0.6923076923076921, &quot;z&quot;: 0.543518939968644}, {&quot;x&quot;: 0.17948717948717968, &quot;y&quot;: -0.6410256410256407, &quot;z&quot;: 0.4751091555825283}, {&quot;x&quot;: 0.17948717948717968, &quot;y&quot;: -0.5897435897435894, &quot;z&quot;: 0.41681417421062383}, {&quot;x&quot;: 0.17948717948717968, &quot;y&quot;: -0.5384615384615381, &quot;z&quot;: 0.3678248116117938}, {&quot;x&quot;: 0.17948717948717968, &quot;y&quot;: -0.48717948717948684, &quot;z&quot;: 0.3273318835449013}, {&quot;x&quot;: 0.17948717948717968, &quot;y&quot;: -0.43589743589743557, &quot;z&quot;: 0.2945262057688094}, {&quot;x&quot;: 0.17948717948717968, &quot;y&quot;: -0.3846153846153843, &quot;z&quot;: 0.2685985940423812}, {&quot;x&quot;: 0.17948717948717968, &quot;y&quot;: -0.33333333333333304, &quot;z&quot;: 0.24873986412447968}, {&quot;x&quot;: 0.17948717948717968, &quot;y&quot;: -0.28205128205128177, &quot;z&quot;: 0.23414083177396805}, {&quot;x&quot;: 0.17948717948717968, &quot;y&quot;: -0.2307692307692305, &quot;z&quot;: 0.22399231274970943}, {&quot;x&quot;: 0.17948717948717968, &quot;y&quot;: -0.17948717948717924, &quot;z&quot;: 0.21748512281056684}, {&quot;x&quot;: 0.17948717948717968, &quot;y&quot;: -0.12820512820512797, &quot;z&quot;: 0.21381007771540342}, {&quot;x&quot;: 0.17948717948717968, &quot;y&quot;: -0.07692307692307669, &quot;z&quot;: 0.21215799322308224}, {&quot;x&quot;: 0.17948717948717968, &quot;y&quot;: -0.02564102564102541, &quot;z&quot;: 0.21171968509246641}, {&quot;x&quot;: 0.17948717948717968, &quot;y&quot;: 0.02564102564102587, &quot;z&quot;: 0.21168596908241905}, {&quot;x&quot;: 0.17948717948717968, &quot;y&quot;: 0.07692307692307715, &quot;z&quot;: 0.21124766095180322}, {&quot;x&quot;: 0.17948717948717968, &quot;y&quot;: 0.12820512820512842, &quot;z&quot;: 0.20959557645948204}, {&quot;x&quot;: 0.17948717948717968, &quot;y&quot;: 0.17948717948717968, &quot;z&quot;: 0.2059205313643186}, {&quot;x&quot;: 0.17948717948717968, &quot;y&quot;: 0.23076923076923095, &quot;z&quot;: 0.19941334142517597}, {&quot;x&quot;: 0.17948717948717968, &quot;y&quot;: 0.2820512820512822, &quot;z&quot;: 0.1892648224009173}, {&quot;x&quot;: 0.17948717948717968, &quot;y&quot;: 0.3333333333333335, &quot;z&quot;: 0.17466579005040564}, {&quot;x&quot;: 0.17948717948717968, &quot;y&quot;: 0.38461538461538475, &quot;z&quot;: 0.15480706013250412}, {&quot;x&quot;: 0.17948717948717968, &quot;y&quot;: 0.435897435897436, &quot;z&quot;: 0.12887944840607582}, {&quot;x&quot;: 0.17948717948717968, &quot;y&quot;: 0.4871794871794873, &quot;z&quot;: 0.09607377062998385}, {&quot;x&quot;: 0.17948717948717968, &quot;y&quot;: 0.5384615384615385, &quot;z&quot;: 0.05558084256309126}, {&quot;x&quot;: 0.17948717948717968, &quot;y&quot;: 0.5897435897435899, &quot;z&quot;: 0.006591479964261154}, {&quot;x&quot;: 0.17948717948717968, &quot;y&quot;: 0.6410256410256412, &quot;z&quot;: -0.051703501407643376}, {&quot;x&quot;: 0.17948717948717968, &quot;y&quot;: 0.6923076923076925, &quot;z&quot;: -0.12011328579375918}, {&quot;x&quot;: 0.17948717948717968, &quot;y&quot;: 0.7435897435897438, &quot;z&quot;: -0.19944705743522329}, {&quot;x&quot;: 0.17948717948717968, &quot;y&quot;: 0.7948717948717952, &quot;z&quot;: -0.2905140005731725}, {&quot;x&quot;: 0.17948717948717968, &quot;y&quot;: 0.8461538461538465, &quot;z&quot;: -0.39412329944874364}, {&quot;x&quot;: 0.17948717948717968, &quot;y&quot;: 0.8974358974358978, &quot;z&quot;: -0.5110841383030738}, {&quot;x&quot;: 0.17948717948717968, &quot;y&quot;: 0.9487179487179491, &quot;z&quot;: -0.6422057013772997}, {&quot;x&quot;: 0.17948717948717968, &quot;y&quot;: 1.0, &quot;z&quot;: -0.7882971729125572}, {&quot;x&quot;: 0.23076923076923095, &quot;y&quot;: -0.9487179487179487, &quot;z&quot;: 1.1379321971037948}, {&quot;x&quot;: 0.23076923076923095, &quot;y&quot;: -1.0, &quot;z&quot;: 1.2840236686390534}, {&quot;x&quot;: 0.23076923076923095, &quot;y&quot;: -0.8974358974358974, &quot;z&quot;: 1.006810634029569}, {&quot;x&quot;: 0.23076923076923095, &quot;y&quot;: -0.846153846153846, &quot;z&quot;: 0.8898497951752389}, {&quot;x&quot;: 0.23076923076923095, &quot;y&quot;: -0.7948717948717947, &quot;z&quot;: 0.7862404962996677}, {&quot;x&quot;: 0.23076923076923095, &quot;y&quot;: -0.7435897435897434, &quot;z&quot;: 0.6951735531617189}, {&quot;x&quot;: 0.23076923076923095, &quot;y&quot;: -0.6923076923076921, &quot;z&quot;: 0.6158397815202548}, {&quot;x&quot;: 0.23076923076923095, &quot;y&quot;: -0.6410256410256407, &quot;z&quot;: 0.5474299971341391}, {&quot;x&quot;: 0.23076923076923095, &quot;y&quot;: -0.5897435897435894, &quot;z&quot;: 0.48913501576223467}, {&quot;x&quot;: 0.23076923076923095, &quot;y&quot;: -0.5384615384615381, &quot;z&quot;: 0.4401456531634046}, {&quot;x&quot;: 0.23076923076923095, &quot;y&quot;: -0.48717948717948684, &quot;z&quot;: 0.39965272509651206}, {&quot;x&quot;: 0.23076923076923095, &quot;y&quot;: -0.43589743589743557, &quot;z&quot;: 0.36684704732042017}, {&quot;x&quot;: 0.23076923076923095, &quot;y&quot;: -0.3846153846153843, &quot;z&quot;: 0.34091943559399196}, {&quot;x&quot;: 0.23076923076923095, &quot;y&quot;: -0.33333333333333304, &quot;z&quot;: 0.32106070567609046}, {&quot;x&quot;: 0.23076923076923095, &quot;y&quot;: -0.28205128205128177, &quot;z&quot;: 0.30646167332557883}, {&quot;x&quot;: 0.23076923076923095, &quot;y&quot;: -0.2307692307692305, &quot;z&quot;: 0.2963131543013202}, {&quot;x&quot;: 0.23076923076923095, &quot;y&quot;: -0.17948717948717924, &quot;z&quot;: 0.28980596436217765}, {&quot;x&quot;: 0.23076923076923095, &quot;y&quot;: -0.12820512820512797, &quot;z&quot;: 0.28613091926701417}, {&quot;x&quot;: 0.23076923076923095, &quot;y&quot;: -0.07692307692307669, &quot;z&quot;: 0.28447883477469305}, {&quot;x&quot;: 0.23076923076923095, &quot;y&quot;: -0.02564102564102541, &quot;z&quot;: 0.2840405266440772}, {&quot;x&quot;: 0.23076923076923095, &quot;y&quot;: 0.02564102564102587, &quot;z&quot;: 0.2840068106340298}, {&quot;x&quot;: 0.23076923076923095, &quot;y&quot;: 0.07692307692307715, &quot;z&quot;: 0.28356850250341403}, {&quot;x&quot;: 0.23076923076923095, &quot;y&quot;: 0.12820512820512842, &quot;z&quot;: 0.2819164180110928}, {&quot;x&quot;: 0.23076923076923095, &quot;y&quot;: 0.17948717948717968, &quot;z&quot;: 0.2782413729159294}, {&quot;x&quot;: 0.23076923076923095, &quot;y&quot;: 0.23076923076923095, &quot;z&quot;: 0.27173418297678675}, {&quot;x&quot;: 0.23076923076923095, &quot;y&quot;: 0.2820512820512822, &quot;z&quot;: 0.2615856639525281}, {&quot;x&quot;: 0.23076923076923095, &quot;y&quot;: 0.3333333333333335, &quot;z&quot;: 0.24698663160201642}, {&quot;x&quot;: 0.23076923076923095, &quot;y&quot;: 0.38461538461538475, &quot;z&quot;: 0.2271279016841149}, {&quot;x&quot;: 0.23076923076923095, &quot;y&quot;: 0.435897435897436, &quot;z&quot;: 0.2012002899576866}, {&quot;x&quot;: 0.23076923076923095, &quot;y&quot;: 0.4871794871794873, &quot;z&quot;: 0.16839461218159463}, {&quot;x&quot;: 0.23076923076923095, &quot;y&quot;: 0.5384615384615385, &quot;z&quot;: 0.12790168411470204}, {&quot;x&quot;: 0.23076923076923095, &quot;y&quot;: 0.5897435897435899, &quot;z&quot;: 0.07891232151587194}, {&quot;x&quot;: 0.23076923076923095, &quot;y&quot;: 0.6410256410256412, &quot;z&quot;: 0.020617340143967405}, {&quot;x&quot;: 0.23076923076923095, &quot;y&quot;: 0.6923076923076925, &quot;z&quot;: -0.0477924442421484}, {&quot;x&quot;: 0.23076923076923095, &quot;y&quot;: 0.7435897435897438, &quot;z&quot;: -0.1271262158836125}, {&quot;x&quot;: 0.23076923076923095, &quot;y&quot;: 0.7948717948717952, &quot;z&quot;: -0.21819315902156172}, {&quot;x&quot;: 0.23076923076923095, &quot;y&quot;: 0.8461538461538465, &quot;z&quot;: -0.3218024578971329}, {&quot;x&quot;: 0.23076923076923095, &quot;y&quot;: 0.8974358974358978, &quot;z&quot;: -0.4387632967514631}, {&quot;x&quot;: 0.23076923076923095, &quot;y&quot;: 0.9487179487179491, &quot;z&quot;: -0.569884859825689}, {&quot;x&quot;: 0.23076923076923095, &quot;y&quot;: 1.0, &quot;z&quot;: -0.7159763313609465}, {&quot;x&quot;: 0.2820512820512822, &quot;y&quot;: -0.9487179487179487, &quot;z&quot;: 1.2155127362227955}, {&quot;x&quot;: 0.2820512820512822, &quot;y&quot;: -1.0, &quot;z&quot;: 1.3616042077580541}, {&quot;x&quot;: 0.2820512820512822, &quot;y&quot;: -0.8974358974358974, &quot;z&quot;: 1.0843911731485696}, {&quot;x&quot;: 0.2820512820512822, &quot;y&quot;: -0.846153846153846, &quot;z&quot;: 0.9674303342942396}, {&quot;x&quot;: 0.2820512820512822, &quot;y&quot;: -0.7948717948717947, &quot;z&quot;: 0.8638210354186684}, {&quot;x&quot;: 0.2820512820512822, &quot;y&quot;: -0.7435897435897434, &quot;z&quot;: 0.7727540922807195}, {&quot;x&quot;: 0.2820512820512822, &quot;y&quot;: -0.6923076923076921, &quot;z&quot;: 0.6934203206392555}, {&quot;x&quot;: 0.2820512820512822, &quot;y&quot;: -0.6410256410256407, &quot;z&quot;: 0.6250105362531397}, {&quot;x&quot;: 0.2820512820512822, &quot;y&quot;: -0.5897435897435894, &quot;z&quot;: 0.5667155548812353}, {&quot;x&quot;: 0.2820512820512822, &quot;y&quot;: -0.5384615384615381, &quot;z&quot;: 0.5177261922824052}, {&quot;x&quot;: 0.2820512820512822, &quot;y&quot;: -0.48717948717948684, &quot;z&quot;: 0.47723326421551276}, {&quot;x&quot;: 0.2820512820512822, &quot;y&quot;: -0.43589743589743557, &quot;z&quot;: 0.4444275864394208}, {&quot;x&quot;: 0.2820512820512822, &quot;y&quot;: -0.3846153846153843, &quot;z&quot;: 0.4184999747129926}, {&quot;x&quot;: 0.2820512820512822, &quot;y&quot;: -0.33333333333333304, &quot;z&quot;: 0.3986412447950911}, {&quot;x&quot;: 0.2820512820512822, &quot;y&quot;: -0.28205128205128177, &quot;z&quot;: 0.3840422124445795}, {&quot;x&quot;: 0.2820512820512822, &quot;y&quot;: -0.2307692307692305, &quot;z&quot;: 0.37389369342032086}, {&quot;x&quot;: 0.2820512820512822, &quot;y&quot;: -0.17948717948717924, &quot;z&quot;: 0.3673865034811783}, {&quot;x&quot;: 0.2820512820512822, &quot;y&quot;: -0.12820512820512797, &quot;z&quot;: 0.3637114583860148}, {&quot;x&quot;: 0.2820512820512822, &quot;y&quot;: -0.07692307692307669, &quot;z&quot;: 0.3620593738936937}, {&quot;x&quot;: 0.2820512820512822, &quot;y&quot;: -0.02564102564102541, &quot;z&quot;: 0.36162106576307784}, {&quot;x&quot;: 0.2820512820512822, &quot;y&quot;: 0.02564102564102587, &quot;z&quot;: 0.3615873497530305}, {&quot;x&quot;: 0.2820512820512822, &quot;y&quot;: 0.07692307692307715, &quot;z&quot;: 0.3611490416224147}, {&quot;x&quot;: 0.2820512820512822, &quot;y&quot;: 0.12820512820512842, &quot;z&quot;: 0.35949695713009344}, {&quot;x&quot;: 0.2820512820512822, &quot;y&quot;: 0.17948717948717968, &quot;z&quot;: 0.35582191203493}, {&quot;x&quot;: 0.2820512820512822, &quot;y&quot;: 0.23076923076923095, &quot;z&quot;: 0.3493147220957874}, {&quot;x&quot;: 0.2820512820512822, &quot;y&quot;: 0.2820512820512822, &quot;z&quot;: 0.3391662030715287}, {&quot;x&quot;: 0.2820512820512822, &quot;y&quot;: 0.3333333333333335, &quot;z&quot;: 0.3245671707210171}, {&quot;x&quot;: 0.2820512820512822, &quot;y&quot;: 0.38461538461538475, &quot;z&quot;: 0.30470844080311554}, {&quot;x&quot;: 0.2820512820512822, &quot;y&quot;: 0.435897435897436, &quot;z&quot;: 0.2787808290766873}, {&quot;x&quot;: 0.2820512820512822, &quot;y&quot;: 0.4871794871794873, &quot;z&quot;: 0.24597515130059527}, {&quot;x&quot;: 0.2820512820512822, &quot;y&quot;: 0.5384615384615385, &quot;z&quot;: 0.2054822232337027}, {&quot;x&quot;: 0.2820512820512822, &quot;y&quot;: 0.5897435897435899, &quot;z&quot;: 0.1564928606348726}, {&quot;x&quot;: 0.2820512820512822, &quot;y&quot;: 0.6410256410256412, &quot;z&quot;: 0.09819787926296808}, {&quot;x&quot;: 0.2820512820512822, &quot;y&quot;: 0.6923076923076925, &quot;z&quot;: 0.029788094876852245}, {&quot;x&quot;: 0.2820512820512822, &quot;y&quot;: 0.7435897435897438, &quot;z&quot;: -0.04954567676461186}, {&quot;x&quot;: 0.2820512820512822, &quot;y&quot;: 0.7948717948717952, &quot;z&quot;: -0.14061261990256108}, {&quot;x&quot;: 0.2820512820512822, &quot;y&quot;: 0.8461538461538465, &quot;z&quot;: -0.2442219187781322}, {&quot;x&quot;: 0.2820512820512822, &quot;y&quot;: 0.8974358974358978, &quot;z&quot;: -0.3611827576324624}, {&quot;x&quot;: 0.2820512820512822, &quot;y&quot;: 0.9487179487179491, &quot;z&quot;: -0.49230432070668834}, {&quot;x&quot;: 0.2820512820512822, &quot;y&quot;: 1.0, &quot;z&quot;: -0.6383957922419459}, {&quot;x&quot;: 0.3333333333333335, &quot;y&quot;: -0.9487179487179487, &quot;z&quot;: 1.298352972909186}, {&quot;x&quot;: 0.3333333333333335, &quot;y&quot;: -1.0, &quot;z&quot;: 1.4444444444444446}, {&quot;x&quot;: 0.3333333333333335, &quot;y&quot;: -0.8974358974358974, &quot;z&quot;: 1.16723140983496}, {&quot;x&quot;: 0.3333333333333335, &quot;y&quot;: -0.846153846153846, &quot;z&quot;: 1.0502705709806301}, {&quot;x&quot;: 0.3333333333333335, &quot;y&quot;: -0.7948717948717947, &quot;z&quot;: 0.9466612721050589}, {&quot;x&quot;: 0.3333333333333335, &quot;y&quot;: -0.7435897435897434, &quot;z&quot;: 0.85559432896711}, {&quot;x&quot;: 0.3333333333333335, &quot;y&quot;: -0.6923076923076921, &quot;z&quot;: 0.776260557325646}, {&quot;x&quot;: 0.3333333333333335, &quot;y&quot;: -0.6410256410256407, &quot;z&quot;: 0.7078507729395302}, {&quot;x&quot;: 0.3333333333333335, &quot;y&quot;: -0.5897435897435894, &quot;z&quot;: 0.6495557915676258}, {&quot;x&quot;: 0.3333333333333335, &quot;y&quot;: -0.5384615384615381, &quot;z&quot;: 0.6005664289687958}, {&quot;x&quot;: 0.3333333333333335, &quot;y&quot;: -0.48717948717948684, &quot;z&quot;: 0.5600735009019033}, {&quot;x&quot;: 0.3333333333333335, &quot;y&quot;: -0.43589743589743557, &quot;z&quot;: 0.5272678231258113}, {&quot;x&quot;: 0.3333333333333335, &quot;y&quot;: -0.3846153846153843, &quot;z&quot;: 0.5013402113993831}, {&quot;x&quot;: 0.3333333333333335, &quot;y&quot;: -0.33333333333333304, &quot;z&quot;: 0.4814814814814816}, {&quot;x&quot;: 0.3333333333333335, &quot;y&quot;: -0.28205128205128177, &quot;z&quot;: 0.46688244913097}, {&quot;x&quot;: 0.3333333333333335, &quot;y&quot;: -0.2307692307692305, &quot;z&quot;: 0.45673393010671137}, {&quot;x&quot;: 0.3333333333333335, &quot;y&quot;: -0.17948717948717924, &quot;z&quot;: 0.4502267401675688}, {&quot;x&quot;: 0.3333333333333335, &quot;y&quot;: -0.12820512820512797, &quot;z&quot;: 0.4465516950724054}, {&quot;x&quot;: 0.3333333333333335, &quot;y&quot;: -0.07692307692307669, &quot;z&quot;: 0.4448996105800842}, {&quot;x&quot;: 0.3333333333333335, &quot;y&quot;: -0.02564102564102541, &quot;z&quot;: 0.44446130244946835}, {&quot;x&quot;: 0.3333333333333335, &quot;y&quot;: 0.02564102564102587, &quot;z&quot;: 0.44442758643942104}, {&quot;x&quot;: 0.3333333333333335, &quot;y&quot;: 0.07692307692307715, &quot;z&quot;: 0.4439892783088052}, {&quot;x&quot;: 0.3333333333333335, &quot;y&quot;: 0.12820512820512842, &quot;z&quot;: 0.442337193816484}, {&quot;x&quot;: 0.3333333333333335, &quot;y&quot;: 0.17948717948717968, &quot;z&quot;: 0.43866214872132053}, {&quot;x&quot;: 0.3333333333333335, &quot;y&quot;: 0.23076923076923095, &quot;z&quot;: 0.4321549587821779}, {&quot;x&quot;: 0.3333333333333335, &quot;y&quot;: 0.2820512820512822, &quot;z&quot;: 0.4220064397579193}, {&quot;x&quot;: 0.3333333333333335, &quot;y&quot;: 0.3333333333333335, &quot;z&quot;: 0.4074074074074076}, {&quot;x&quot;: 0.3333333333333335, &quot;y&quot;: 0.38461538461538475, &quot;z&quot;: 0.3875486774895061}, {&quot;x&quot;: 0.3333333333333335, &quot;y&quot;: 0.435897435897436, &quot;z&quot;: 0.3616210657630778}, {&quot;x&quot;: 0.3333333333333335, &quot;y&quot;: 0.4871794871794873, &quot;z&quot;: 0.3288153879869858}, {&quot;x&quot;: 0.3333333333333335, &quot;y&quot;: 0.5384615384615385, &quot;z&quot;: 0.2883224599200932}, {&quot;x&quot;: 0.3333333333333335, &quot;y&quot;: 0.5897435897435899, &quot;z&quot;: 0.23933309732126312}, {&quot;x&quot;: 0.3333333333333335, &quot;y&quot;: 0.6410256410256412, &quot;z&quot;: 0.1810381159493586}, {&quot;x&quot;: 0.3333333333333335, &quot;y&quot;: 0.6923076923076925, &quot;z&quot;: 0.11262833156324276}, {&quot;x&quot;: 0.3333333333333335, &quot;y&quot;: 0.7435897435897438, &quot;z&quot;: 0.033294559921778655}, {&quot;x&quot;: 0.3333333333333335, &quot;y&quot;: 0.7948717948717952, &quot;z&quot;: -0.057772383216170564}, {&quot;x&quot;: 0.3333333333333335, &quot;y&quot;: 0.8461538461538465, &quot;z&quot;: -0.1613816820917417}, {&quot;x&quot;: 0.3333333333333335, &quot;y&quot;: 0.8974358974358978, &quot;z&quot;: -0.2783425209460719}, {&quot;x&quot;: 0.3333333333333335, &quot;y&quot;: 0.9487179487179491, &quot;z&quot;: -0.4094640840202979}, {&quot;x&quot;: 0.3333333333333335, &quot;y&quot;: 1.0, &quot;z&quot;: -0.5555555555555554}, {&quot;x&quot;: 0.38461538461538475, &quot;y&quot;: -0.9487179487179487, &quot;z&quot;: 1.3864529071629665}, {&quot;x&quot;: 0.38461538461538475, &quot;y&quot;: -1.0, &quot;z&quot;: 1.5325443786982251}, {&quot;x&quot;: 0.38461538461538475, &quot;y&quot;: -0.8974358974358974, &quot;z&quot;: 1.2553313440887406}, {&quot;x&quot;: 0.38461538461538475, &quot;y&quot;: -0.846153846153846, &quot;z&quot;: 1.1383705052344104}, {&quot;x&quot;: 0.38461538461538475, &quot;y&quot;: -0.7948717948717947, &quot;z&quot;: 1.0347612063588394}, {&quot;x&quot;: 0.38461538461538475, &quot;y&quot;: -0.7435897435897434, &quot;z&quot;: 0.9436942632208905}, {&quot;x&quot;: 0.38461538461538475, &quot;y&quot;: -0.6923076923076921, &quot;z&quot;: 0.8643604915794263}, {&quot;x&quot;: 0.38461538461538475, &quot;y&quot;: -0.6410256410256407, &quot;z&quot;: 0.7959507071933106}, {&quot;x&quot;: 0.38461538461538475, &quot;y&quot;: -0.5897435897435894, &quot;z&quot;: 0.7376557258214063}, {&quot;x&quot;: 0.38461538461538475, &quot;y&quot;: -0.5384615384615381, &quot;z&quot;: 0.6886663632225761}, {&quot;x&quot;: 0.38461538461538475, &quot;y&quot;: -0.48717948717948684, &quot;z&quot;: 0.6481734351556836}, {&quot;x&quot;: 0.38461538461538475, &quot;y&quot;: -0.43589743589743557, &quot;z&quot;: 0.6153677573795917}, {&quot;x&quot;: 0.38461538461538475, &quot;y&quot;: -0.3846153846153843, &quot;z&quot;: 0.5894401456531635}, {&quot;x&quot;: 0.38461538461538475, &quot;y&quot;: -0.33333333333333304, &quot;z&quot;: 0.569581415735262}, {&quot;x&quot;: 0.38461538461538475, &quot;y&quot;: -0.28205128205128177, &quot;z&quot;: 0.5549823833847504}, {&quot;x&quot;: 0.38461538461538475, &quot;y&quot;: -0.2307692307692305, &quot;z&quot;: 0.5448338643604917}, {&quot;x&quot;: 0.38461538461538475, &quot;y&quot;: -0.17948717948717924, &quot;z&quot;: 0.5383266744213492}, {&quot;x&quot;: 0.38461538461538475, &quot;y&quot;: -0.12820512820512797, &quot;z&quot;: 0.5346516293261858}, {&quot;x&quot;: 0.38461538461538475, &quot;y&quot;: -0.07692307692307669, &quot;z&quot;: 0.5329995448338646}, {&quot;x&quot;: 0.38461538461538475, &quot;y&quot;: -0.02564102564102541, &quot;z&quot;: 0.5325612367032487}, {&quot;x&quot;: 0.38461538461538475, &quot;y&quot;: 0.02564102564102587, &quot;z&quot;: 0.5325275206932014}, {&quot;x&quot;: 0.38461538461538475, &quot;y&quot;: 0.07692307692307715, &quot;z&quot;: 0.5320892125625856}, {&quot;x&quot;: 0.38461538461538475, &quot;y&quot;: 0.12820512820512842, &quot;z&quot;: 0.5304371280702644}, {&quot;x&quot;: 0.38461538461538475, &quot;y&quot;: 0.17948717948717968, &quot;z&quot;: 0.526762082975101}, {&quot;x&quot;: 0.38461538461538475, &quot;y&quot;: 0.23076923076923095, &quot;z&quot;: 0.5202548930359583}, {&quot;x&quot;: 0.38461538461538475, &quot;y&quot;: 0.2820512820512822, &quot;z&quot;: 0.5101063740116997}, {&quot;x&quot;: 0.38461538461538475, &quot;y&quot;: 0.3333333333333335, &quot;z&quot;: 0.495507341661188}, {&quot;x&quot;: 0.38461538461538475, &quot;y&quot;: 0.38461538461538475, &quot;z&quot;: 0.47564861174328643}, {&quot;x&quot;: 0.38461538461538475, &quot;y&quot;: 0.435897435897436, &quot;z&quot;: 0.44972100001685816}, {&quot;x&quot;: 0.38461538461538475, &quot;y&quot;: 0.4871794871794873, &quot;z&quot;: 0.41691532224076616}, {&quot;x&quot;: 0.38461538461538475, &quot;y&quot;: 0.5384615384615385, &quot;z&quot;: 0.3764223941738736}, {&quot;x&quot;: 0.38461538461538475, &quot;y&quot;: 0.5897435897435899, &quot;z&quot;: 0.3274330315750435}, {&quot;x&quot;: 0.38461538461538475, &quot;y&quot;: 0.6410256410256412, &quot;z&quot;: 0.26913805020313897}, {&quot;x&quot;: 0.38461538461538475, &quot;y&quot;: 0.6923076923076925, &quot;z&quot;: 0.20072826581702313}, {&quot;x&quot;: 0.38461538461538475, &quot;y&quot;: 0.7435897435897438, &quot;z&quot;: 0.12139449417555903}, {&quot;x&quot;: 0.38461538461538475, &quot;y&quot;: 0.7948717948717952, &quot;z&quot;: 0.030327551037609812}, {&quot;x&quot;: 0.38461538461538475, &quot;y&quot;: 0.8461538461538465, &quot;z&quot;: -0.07328174783796132}, {&quot;x&quot;: 0.38461538461538475, &quot;y&quot;: 0.8974358974358978, &quot;z&quot;: -0.1902425866922915}, {&quot;x&quot;: 0.38461538461538475, &quot;y&quot;: 0.9487179487179491, &quot;z&quot;: -0.32136414976651745}, {&quot;x&quot;: 0.38461538461538475, &quot;y&quot;: 1.0, &quot;z&quot;: -0.4674556213017749}, {&quot;x&quot;: 0.435897435897436, &quot;y&quot;: -0.9487179487179487, &quot;z&quot;: 1.4798125389841368}, {&quot;x&quot;: 0.435897435897436, &quot;y&quot;: -1.0, &quot;z&quot;: 1.6259040105193954}, {&quot;x&quot;: 0.435897435897436, &quot;y&quot;: -0.8974358974358974, &quot;z&quot;: 1.3486909759099108}, {&quot;x&quot;: 0.435897435897436, &quot;y&quot;: -0.846153846153846, &quot;z&quot;: 1.2317301370555809}, {&quot;x&quot;: 0.435897435897436, &quot;y&quot;: -0.7948717948717947, &quot;z&quot;: 1.1281208381800096}, {&quot;x&quot;: 0.435897435897436, &quot;y&quot;: -0.7435897435897434, &quot;z&quot;: 1.0370538950420607}, {&quot;x&quot;: 0.435897435897436, &quot;y&quot;: -0.6923076923076921, &quot;z&quot;: 0.9577201234005966}, {&quot;x&quot;: 0.435897435897436, &quot;y&quot;: -0.6410256410256407, &quot;z&quot;: 0.8893103390144809}, {&quot;x&quot;: 0.435897435897436, &quot;y&quot;: -0.5897435897435894, &quot;z&quot;: 0.8310153576425765}, {&quot;x&quot;: 0.435897435897436, &quot;y&quot;: -0.5384615384615381, &quot;z&quot;: 0.7820259950437464}, {&quot;x&quot;: 0.435897435897436, &quot;y&quot;: -0.48717948717948684, &quot;z&quot;: 0.741533066976854}, {&quot;x&quot;: 0.435897435897436, &quot;y&quot;: -0.43589743589743557, &quot;z&quot;: 0.708727389200762}, {&quot;x&quot;: 0.435897435897436, &quot;y&quot;: -0.3846153846153843, &quot;z&quot;: 0.6827997774743337}, {&quot;x&quot;: 0.435897435897436, &quot;y&quot;: -0.33333333333333304, &quot;z&quot;: 0.6629410475564324}, {&quot;x&quot;: 0.435897435897436, &quot;y&quot;: -0.28205128205128177, &quot;z&quot;: 0.6483420152059207}, {&quot;x&quot;: 0.435897435897436, &quot;y&quot;: -0.2307692307692305, &quot;z&quot;: 0.638193496181662}, {&quot;x&quot;: 0.435897435897436, &quot;y&quot;: -0.17948717948717924, &quot;z&quot;: 0.6316863062425194}, {&quot;x&quot;: 0.435897435897436, &quot;y&quot;: -0.12820512820512797, &quot;z&quot;: 0.6280112611473561}, {&quot;x&quot;: 0.435897435897436, &quot;y&quot;: -0.07692307692307669, &quot;z&quot;: 0.6263591766550348}, {&quot;x&quot;: 0.435897435897436, &quot;y&quot;: -0.02564102564102541, &quot;z&quot;: 0.6259208685244191}, {&quot;x&quot;: 0.435897435897436, &quot;y&quot;: 0.02564102564102587, &quot;z&quot;: 0.6258871525143717}, {&quot;x&quot;: 0.435897435897436, &quot;y&quot;: 0.07692307692307715, &quot;z&quot;: 0.6254488443837558}, {&quot;x&quot;: 0.435897435897436, &quot;y&quot;: 0.12820512820512842, &quot;z&quot;: 0.6237967598914347}, {&quot;x&quot;: 0.435897435897436, &quot;y&quot;: 0.17948717948717968, &quot;z&quot;: 0.6201217147962712}, {&quot;x&quot;: 0.435897435897436, &quot;y&quot;: 0.23076923076923095, &quot;z&quot;: 0.6136145248571285}, {&quot;x&quot;: 0.435897435897436, &quot;y&quot;: 0.2820512820512822, &quot;z&quot;: 0.6034660058328699}, {&quot;x&quot;: 0.435897435897436, &quot;y&quot;: 0.3333333333333335, &quot;z&quot;: 0.5888669734823583}, {&quot;x&quot;: 0.435897435897436, &quot;y&quot;: 0.38461538461538475, &quot;z&quot;: 0.5690082435644568}, {&quot;x&quot;: 0.435897435897436, &quot;y&quot;: 0.435897435897436, &quot;z&quot;: 0.5430806318380285}, {&quot;x&quot;: 0.435897435897436, &quot;y&quot;: 0.4871794871794873, &quot;z&quot;: 0.5102749540619365}, {&quot;x&quot;: 0.435897435897436, &quot;y&quot;: 0.5384615384615385, &quot;z&quot;: 0.4697820259950439}, {&quot;x&quot;: 0.435897435897436, &quot;y&quot;: 0.5897435897435899, &quot;z&quot;: 0.4207926633962138}, {&quot;x&quot;: 0.435897435897436, &quot;y&quot;: 0.6410256410256412, &quot;z&quot;: 0.3624976820243092}, {&quot;x&quot;: 0.435897435897436, &quot;y&quot;: 0.6923076923076925, &quot;z&quot;: 0.29408789763819343}, {&quot;x&quot;: 0.435897435897436, &quot;y&quot;: 0.7435897435897438, &quot;z&quot;: 0.2147541259967293}, {&quot;x&quot;: 0.435897435897436, &quot;y&quot;: 0.7948717948717952, &quot;z&quot;: 0.12368718285878011}, {&quot;x&quot;: 0.435897435897436, &quot;y&quot;: 0.8461538461538465, &quot;z&quot;: 0.020077883983208977}, {&quot;x&quot;: 0.435897435897436, &quot;y&quot;: 0.8974358974358978, &quot;z&quot;: -0.0968829548711212}, {&quot;x&quot;: 0.435897435897436, &quot;y&quot;: 0.9487179487179491, &quot;z&quot;: -0.22800451794534715}, {&quot;x&quot;: 0.435897435897436, &quot;y&quot;: 1.0, &quot;z&quot;: -0.37409598948060463}, {&quot;x&quot;: 0.4871794871794873, &quot;y&quot;: -0.9487179487179487, &quot;z&quot;: 1.5784318683726968}, {&quot;x&quot;: 0.4871794871794873, &quot;y&quot;: -1.0, &quot;z&quot;: 1.7245233399079554}, {&quot;x&quot;: 0.4871794871794873, &quot;y&quot;: -0.8974358974358974, &quot;z&quot;: 1.447310305298471}, {&quot;x&quot;: 0.4871794871794873, &quot;y&quot;: -0.846153846153846, &quot;z&quot;: 1.3303494664441409}, {&quot;x&quot;: 0.4871794871794873, &quot;y&quot;: -0.7948717948717947, &quot;z&quot;: 1.2267401675685699}, {&quot;x&quot;: 0.4871794871794873, &quot;y&quot;: -0.7435897435897434, &quot;z&quot;: 1.135673224430621}, {&quot;x&quot;: 0.4871794871794873, &quot;y&quot;: -0.6923076923076921, &quot;z&quot;: 1.0563394527891568}, {&quot;x&quot;: 0.4871794871794873, &quot;y&quot;: -0.6410256410256407, &quot;z&quot;: 0.987929668403041}, {&quot;x&quot;: 0.4871794871794873, &quot;y&quot;: -0.5897435897435894, &quot;z&quot;: 0.9296346870311367}, {&quot;x&quot;: 0.4871794871794873, &quot;y&quot;: -0.5384615384615381, &quot;z&quot;: 0.8806453244323065}, {&quot;x&quot;: 0.4871794871794873, &quot;y&quot;: -0.48717948717948684, &quot;z&quot;: 0.8401523963654141}, {&quot;x&quot;: 0.4871794871794873, &quot;y&quot;: -0.43589743589743557, &quot;z&quot;: 0.8073467185893222}, {&quot;x&quot;: 0.4871794871794873, &quot;y&quot;: -0.3846153846153843, &quot;z&quot;: 0.781419106862894}, {&quot;x&quot;: 0.4871794871794873, &quot;y&quot;: -0.33333333333333304, &quot;z&quot;: 0.7615603769449925}, {&quot;x&quot;: 0.4871794871794873, &quot;y&quot;: -0.28205128205128177, &quot;z&quot;: 0.7469613445944808}, {&quot;x&quot;: 0.4871794871794873, &quot;y&quot;: -0.2307692307692305, &quot;z&quot;: 0.7368128255702222}, {&quot;x&quot;: 0.4871794871794873, &quot;y&quot;: -0.17948717948717924, &quot;z&quot;: 0.7303056356310796}, {&quot;x&quot;: 0.4871794871794873, &quot;y&quot;: -0.12820512820512797, &quot;z&quot;: 0.7266305905359162}, {&quot;x&quot;: 0.4871794871794873, &quot;y&quot;: -0.07692307692307669, &quot;z&quot;: 0.724978506043595}, {&quot;x&quot;: 0.4871794871794873, &quot;y&quot;: -0.02564102564102541, &quot;z&quot;: 0.7245401979129792}, {&quot;x&quot;: 0.4871794871794873, &quot;y&quot;: 0.02564102564102587, &quot;z&quot;: 0.7245064819029319}, {&quot;x&quot;: 0.4871794871794873, &quot;y&quot;: 0.07692307692307715, &quot;z&quot;: 0.724068173772316}, {&quot;x&quot;: 0.4871794871794873, &quot;y&quot;: 0.12820512820512842, &quot;z&quot;: 0.7224160892799948}, {&quot;x&quot;: 0.4871794871794873, &quot;y&quot;: 0.17948717948717968, &quot;z&quot;: 0.7187410441848314}, {&quot;x&quot;: 0.4871794871794873, &quot;y&quot;: 0.23076923076923095, &quot;z&quot;: 0.7122338542456887}, {&quot;x&quot;: 0.4871794871794873, &quot;y&quot;: 0.2820512820512822, &quot;z&quot;: 0.70208533522143}, {&quot;x&quot;: 0.4871794871794873, &quot;y&quot;: 0.3333333333333335, &quot;z&quot;: 0.6874863028709184}, {&quot;x&quot;: 0.4871794871794873, &quot;y&quot;: 0.38461538461538475, &quot;z&quot;: 0.6676275729530169}, {&quot;x&quot;: 0.4871794871794873, &quot;y&quot;: 0.435897435897436, &quot;z&quot;: 0.6416999612265886}, {&quot;x&quot;: 0.4871794871794873, &quot;y&quot;: 0.4871794871794873, &quot;z&quot;: 0.6088942834504966}, {&quot;x&quot;: 0.4871794871794873, &quot;y&quot;: 0.5384615384615385, &quot;z&quot;: 0.568401355383604}, {&quot;x&quot;: 0.4871794871794873, &quot;y&quot;: 0.5897435897435899, &quot;z&quot;: 0.5194119927847739}, {&quot;x&quot;: 0.4871794871794873, &quot;y&quot;: 0.6410256410256412, &quot;z&quot;: 0.4611170114128694}, {&quot;x&quot;: 0.4871794871794873, &quot;y&quot;: 0.6923076923076925, &quot;z&quot;: 0.39270722702675354}, {&quot;x&quot;: 0.4871794871794873, &quot;y&quot;: 0.7435897435897438, &quot;z&quot;: 0.3133734553852895}, {&quot;x&quot;: 0.4871794871794873, &quot;y&quot;: 0.7948717948717952, &quot;z&quot;: 0.22230651224734027}, {&quot;x&quot;: 0.4871794871794873, &quot;y&quot;: 0.8461538461538465, &quot;z&quot;: 0.11869721337176914}, {&quot;x&quot;: 0.4871794871794873, &quot;y&quot;: 0.8974358974358978, &quot;z&quot;: 0.0017363745174389655}, {&quot;x&quot;: 0.4871794871794873, &quot;y&quot;: 0.9487179487179491, &quot;z&quot;: -0.129385188556787}, {&quot;x&quot;: 0.4871794871794873, &quot;y&quot;: 1.0, &quot;z&quot;: -0.27547666009204447}, {&quot;x&quot;: 0.5384615384615385, &quot;y&quot;: -0.9487179487179487, &quot;z&quot;: 1.682310895328647}, {&quot;x&quot;: 0.5384615384615385, &quot;y&quot;: -1.0, &quot;z&quot;: 1.8284023668639056}, {&quot;x&quot;: 0.5384615384615385, &quot;y&quot;: -0.8974358974358974, &quot;z&quot;: 1.551189332254421}, {&quot;x&quot;: 0.5384615384615385, &quot;y&quot;: -0.846153846153846, &quot;z&quot;: 1.4342284934000908}, {&quot;x&quot;: 0.5384615384615385, &quot;y&quot;: -0.7948717948717947, &quot;z&quot;: 1.3306191945245198}, {&quot;x&quot;: 0.5384615384615385, &quot;y&quot;: -0.7435897435897434, &quot;z&quot;: 1.2395522513865709}, {&quot;x&quot;: 0.5384615384615385, &quot;y&quot;: -0.6923076923076921, &quot;z&quot;: 1.1602184797451067}, {&quot;x&quot;: 0.5384615384615385, &quot;y&quot;: -0.6410256410256407, &quot;z&quot;: 1.0918086953589912}, {&quot;x&quot;: 0.5384615384615385, &quot;y&quot;: -0.5897435897435894, &quot;z&quot;: 1.0335137139870867}, {&quot;x&quot;: 0.5384615384615385, &quot;y&quot;: -0.5384615384615381, &quot;z&quot;: 0.9845243513882566}, {&quot;x&quot;: 0.5384615384615385, &quot;y&quot;: -0.48717948717948684, &quot;z&quot;: 0.944031423321364}, {&quot;x&quot;: 0.5384615384615385, &quot;y&quot;: -0.43589743589743557, &quot;z&quot;: 0.9112257455452721}, {&quot;x&quot;: 0.5384615384615385, &quot;y&quot;: -0.3846153846153843, &quot;z&quot;: 0.8852981338188439}, {&quot;x&quot;: 0.5384615384615385, &quot;y&quot;: -0.33333333333333304, &quot;z&quot;: 0.8654394039009424}, {&quot;x&quot;: 0.5384615384615385, &quot;y&quot;: -0.28205128205128177, &quot;z&quot;: 0.8508403715504309}, {&quot;x&quot;: 0.5384615384615385, &quot;y&quot;: -0.2307692307692305, &quot;z&quot;: 0.8406918525261722}, {&quot;x&quot;: 0.5384615384615385, &quot;y&quot;: -0.17948717948717924, &quot;z&quot;: 0.8341846625870296}, {&quot;x&quot;: 0.5384615384615385, &quot;y&quot;: -0.12820512820512797, &quot;z&quot;: 0.8305096174918662}, {&quot;x&quot;: 0.5384615384615385, &quot;y&quot;: -0.07692307692307669, &quot;z&quot;: 0.828857532999545}, {&quot;x&quot;: 0.5384615384615385, &quot;y&quot;: -0.02564102564102541, &quot;z&quot;: 0.8284192248689293}, {&quot;x&quot;: 0.5384615384615385, &quot;y&quot;: 0.02564102564102587, &quot;z&quot;: 0.8283855088588818}, {&quot;x&quot;: 0.5384615384615385, &quot;y&quot;: 0.07692307692307715, &quot;z&quot;: 0.827947200728266}, {&quot;x&quot;: 0.5384615384615385, &quot;y&quot;: 0.12820512820512842, &quot;z&quot;: 0.8262951162359449}, {&quot;x&quot;: 0.5384615384615385, &quot;y&quot;: 0.17948717948717968, &quot;z&quot;: 0.8226200711407814}, {&quot;x&quot;: 0.5384615384615385, &quot;y&quot;: 0.23076923076923095, &quot;z&quot;: 0.8161128812016387}, {&quot;x&quot;: 0.5384615384615385, &quot;y&quot;: 0.2820512820512822, &quot;z&quot;: 0.80596436217738}, {&quot;x&quot;: 0.5384615384615385, &quot;y&quot;: 0.3333333333333335, &quot;z&quot;: 0.7913653298268684}, {&quot;x&quot;: 0.5384615384615385, &quot;y&quot;: 0.38461538461538475, &quot;z&quot;: 0.7715065999089669}, {&quot;x&quot;: 0.5384615384615385, &quot;y&quot;: 0.435897435897436, &quot;z&quot;: 0.7455789881825385}, {&quot;x&quot;: 0.5384615384615385, &quot;y&quot;: 0.4871794871794873, &quot;z&quot;: 0.7127733104064466}, {&quot;x&quot;: 0.5384615384615385, &quot;y&quot;: 0.5384615384615385, &quot;z&quot;: 0.672280382339554}, {&quot;x&quot;: 0.5384615384615385, &quot;y&quot;: 0.5897435897435899, &quot;z&quot;: 0.623291019740724}, {&quot;x&quot;: 0.5384615384615385, &quot;y&quot;: 0.6410256410256412, &quot;z&quot;: 0.5649960383688194}, {&quot;x&quot;: 0.5384615384615385, &quot;y&quot;: 0.6923076923076925, &quot;z&quot;: 0.49658625398270356}, {&quot;x&quot;: 0.5384615384615385, &quot;y&quot;: 0.7435897435897438, &quot;z&quot;: 0.41725248234123946}, {&quot;x&quot;: 0.5384615384615385, &quot;y&quot;: 0.7948717948717952, &quot;z&quot;: 0.32618553920329024}, {&quot;x&quot;: 0.5384615384615385, &quot;y&quot;: 0.8461538461538465, &quot;z&quot;: 0.2225762403277191}, {&quot;x&quot;: 0.5384615384615385, &quot;y&quot;: 0.8974358974358978, &quot;z&quot;: 0.10561540147338894}, {&quot;x&quot;: 0.5384615384615385, &quot;y&quot;: 0.9487179487179491, &quot;z&quot;: -0.025506161600836963}, {&quot;x&quot;: 0.5384615384615385, &quot;y&quot;: 1.0, &quot;z&quot;: -0.17159763313609444}, {&quot;x&quot;: 0.5897435897435899, &quot;y&quot;: -0.9487179487179487, &quot;z&quot;: 1.791449619851987}, {&quot;x&quot;: 0.5897435897435899, &quot;y&quot;: -1.0, &quot;z&quot;: 1.9375410913872455}, {&quot;x&quot;: 0.5897435897435899, &quot;y&quot;: -0.8974358974358974, &quot;z&quot;: 1.660328056777761}, {&quot;x&quot;: 0.5897435897435899, &quot;y&quot;: -0.846153846153846, &quot;z&quot;: 1.5433672179234308}, {&quot;x&quot;: 0.5897435897435899, &quot;y&quot;: -0.7948717948717947, &quot;z&quot;: 1.4397579190478598}, {&quot;x&quot;: 0.5897435897435899, &quot;y&quot;: -0.7435897435897434, &quot;z&quot;: 1.3486909759099108}, {&quot;x&quot;: 0.5897435897435899, &quot;y&quot;: -0.6923076923076921, &quot;z&quot;: 1.269357204268447}, {&quot;x&quot;: 0.5897435897435899, &quot;y&quot;: -0.6410256410256407, &quot;z&quot;: 1.2009474198823311}, {&quot;x&quot;: 0.5897435897435899, &quot;y&quot;: -0.5897435897435894, &quot;z&quot;: 1.1426524385104266}, {&quot;x&quot;: 0.5897435897435899, &quot;y&quot;: -0.5384615384615381, &quot;z&quot;: 1.0936630759115966}, {&quot;x&quot;: 0.5897435897435899, &quot;y&quot;: -0.48717948717948684, &quot;z&quot;: 1.0531701478447042}, {&quot;x&quot;: 0.5897435897435899, &quot;y&quot;: -0.43589743589743557, &quot;z&quot;: 1.0203644700686123}, {&quot;x&quot;: 0.5897435897435899, &quot;y&quot;: -0.3846153846153843, &quot;z&quot;: 0.9944368583421839}, {&quot;x&quot;: 0.5897435897435899, &quot;y&quot;: -0.33333333333333304, &quot;z&quot;: 0.9745781284242825}, {&quot;x&quot;: 0.5897435897435899, &quot;y&quot;: -0.28205128205128177, &quot;z&quot;: 0.9599790960737709}, {&quot;x&quot;: 0.5897435897435899, &quot;y&quot;: -0.2307692307692305, &quot;z&quot;: 0.9498305770495121}, {&quot;x&quot;: 0.5897435897435899, &quot;y&quot;: -0.17948717948717924, &quot;z&quot;: 0.9433233871103697}, {&quot;x&quot;: 0.5897435897435899, &quot;y&quot;: -0.12820512820512797, &quot;z&quot;: 0.9396483420152062}, {&quot;x&quot;: 0.5897435897435899, &quot;y&quot;: -0.07692307692307669, &quot;z&quot;: 0.9379962575228851}, {&quot;x&quot;: 0.5897435897435899, &quot;y&quot;: -0.02564102564102541, &quot;z&quot;: 0.9375579493922692}, {&quot;x&quot;: 0.5897435897435899, &quot;y&quot;: 0.02564102564102587, &quot;z&quot;: 0.9375242333822218}, {&quot;x&quot;: 0.5897435897435899, &quot;y&quot;: 0.07692307692307715, &quot;z&quot;: 0.937085925251606}, {&quot;x&quot;: 0.5897435897435899, &quot;y&quot;: 0.12820512820512842, &quot;z&quot;: 0.9354338407592848}, {&quot;x&quot;: 0.5897435897435899, &quot;y&quot;: 0.17948717948717968, &quot;z&quot;: 0.9317587956641213}, {&quot;x&quot;: 0.5897435897435899, &quot;y&quot;: 0.23076923076923095, &quot;z&quot;: 0.9252516057249788}, {&quot;x&quot;: 0.5897435897435899, &quot;y&quot;: 0.2820512820512822, &quot;z&quot;: 0.91510308670072}, {&quot;x&quot;: 0.5897435897435899, &quot;y&quot;: 0.3333333333333335, &quot;z&quot;: 0.9005040543502084}, {&quot;x&quot;: 0.5897435897435899, &quot;y&quot;: 0.38461538461538475, &quot;z&quot;: 0.8806453244323069}, {&quot;x&quot;: 0.5897435897435899, &quot;y&quot;: 0.435897435897436, &quot;z&quot;: 0.8547177127058786}, {&quot;x&quot;: 0.5897435897435899, &quot;y&quot;: 0.4871794871794873, &quot;z&quot;: 0.8219120349297866}, {&quot;x&quot;: 0.5897435897435899, &quot;y&quot;: 0.5384615384615385, &quot;z&quot;: 0.7814191068628941}, {&quot;x&quot;: 0.5897435897435899, &quot;y&quot;: 0.5897435897435899, &quot;z&quot;: 0.7324297442640639}, {&quot;x&quot;: 0.5897435897435899, &quot;y&quot;: 0.6410256410256412, &quot;z&quot;: 0.6741347628921595}, {&quot;x&quot;: 0.5897435897435899, &quot;y&quot;: 0.6923076923076925, &quot;z&quot;: 0.6057249785060436}, {&quot;x&quot;: 0.5897435897435899, &quot;y&quot;: 0.7435897435897438, &quot;z&quot;: 0.5263912068645795}, {&quot;x&quot;: 0.5897435897435899, &quot;y&quot;: 0.7948717948717952, &quot;z&quot;: 0.43532426372663025}, {&quot;x&quot;: 0.5897435897435899, &quot;y&quot;: 0.8461538461538465, &quot;z&quot;: 0.3317149648510591}, {&quot;x&quot;: 0.5897435897435899, &quot;y&quot;: 0.8974358974358978, &quot;z&quot;: 0.21475412599672894}, {&quot;x&quot;: 0.5897435897435899, &quot;y&quot;: 0.9487179487179491, &quot;z&quot;: 0.08363256292250298}, {&quot;x&quot;: 0.5897435897435899, &quot;y&quot;: 1.0, &quot;z&quot;: -0.06245890861275449}, {&quot;x&quot;: 0.6410256410256412, &quot;y&quot;: -0.9487179487179487, &quot;z&quot;: 1.9058480419427168}, {&quot;x&quot;: 0.6410256410256412, &quot;y&quot;: -1.0, &quot;z&quot;: 2.0519395134779757}, {&quot;x&quot;: 0.6410256410256412, &quot;y&quot;: -0.8974358974358974, &quot;z&quot;: 1.7747264788684909}, {&quot;x&quot;: 0.6410256410256412, &quot;y&quot;: -0.846153846153846, &quot;z&quot;: 1.6577656400141607}, {&quot;x&quot;: 0.6410256410256412, &quot;y&quot;: -0.7948717948717947, &quot;z&quot;: 1.5541563411385897}, {&quot;x&quot;: 0.6410256410256412, &quot;y&quot;: -0.7435897435897434, &quot;z&quot;: 1.4630893980006408}, {&quot;x&quot;: 0.6410256410256412, &quot;y&quot;: -0.6923076923076921, &quot;z&quot;: 1.3837556263591766}, {&quot;x&quot;: 0.6410256410256412, &quot;y&quot;: -0.6410256410256407, &quot;z&quot;: 1.3153458419730608}, {&quot;x&quot;: 0.6410256410256412, &quot;y&quot;: -0.5897435897435894, &quot;z&quot;: 1.2570508606011566}, {&quot;x&quot;: 0.6410256410256412, &quot;y&quot;: -0.5384615384615381, &quot;z&quot;: 1.2080614980023263}, {&quot;x&quot;: 0.6410256410256412, &quot;y&quot;: -0.48717948717948684, &quot;z&quot;: 1.167568569935434}, {&quot;x&quot;: 0.6410256410256412, &quot;y&quot;: -0.43589743589743557, &quot;z&quot;: 1.134762892159342}, {&quot;x&quot;: 0.6410256410256412, &quot;y&quot;: -0.3846153846153843, &quot;z&quot;: 1.1088352804329138}, {&quot;x&quot;: 0.6410256410256412, &quot;y&quot;: -0.33333333333333304, &quot;z&quot;: 1.0889765505150124}, {&quot;x&quot;: 0.6410256410256412, &quot;y&quot;: -0.28205128205128177, &quot;z&quot;: 1.0743775181645008}, {&quot;x&quot;: 0.6410256410256412, &quot;y&quot;: -0.2307692307692305, &quot;z&quot;: 1.064228999140242}, {&quot;x&quot;: 0.6410256410256412, &quot;y&quot;: -0.17948717948717924, &quot;z&quot;: 1.0577218092010994}, {&quot;x&quot;: 0.6410256410256412, &quot;y&quot;: -0.12820512820512797, &quot;z&quot;: 1.0540467641059361}, {&quot;x&quot;: 0.6410256410256412, &quot;y&quot;: -0.07692307692307669, &quot;z&quot;: 1.0523946796136148}, {&quot;x&quot;: 0.6410256410256412, &quot;y&quot;: -0.02564102564102541, &quot;z&quot;: 1.0519563714829991}, {&quot;x&quot;: 0.6410256410256412, &quot;y&quot;: 0.02564102564102587, &quot;z&quot;: 1.0519226554729517}, {&quot;x&quot;: 0.6410256410256412, &quot;y&quot;: 0.07692307692307715, &quot;z&quot;: 1.0514843473423359}, {&quot;x&quot;: 0.6410256410256412, &quot;y&quot;: 0.12820512820512842, &quot;z&quot;: 1.0498322628500147}, {&quot;x&quot;: 0.6410256410256412, &quot;y&quot;: 0.17948717948717968, &quot;z&quot;: 1.0461572177548513}, {&quot;x&quot;: 0.6410256410256412, &quot;y&quot;: 0.23076923076923095, &quot;z&quot;: 1.0396500278157086}, {&quot;x&quot;: 0.6410256410256412, &quot;y&quot;: 0.2820512820512822, &quot;z&quot;: 1.0295015087914499}, {&quot;x&quot;: 0.6410256410256412, &quot;y&quot;: 0.3333333333333335, &quot;z&quot;: 1.0149024764409382}, {&quot;x&quot;: 0.6410256410256412, &quot;y&quot;: 0.38461538461538475, &quot;z&quot;: 0.9950437465230368}, {&quot;x&quot;: 0.6410256410256412, &quot;y&quot;: 0.435897435897436, &quot;z&quot;: 0.9691161347966084}, {&quot;x&quot;: 0.6410256410256412, &quot;y&quot;: 0.4871794871794873, &quot;z&quot;: 0.9363104570205165}, {&quot;x&quot;: 0.6410256410256412, &quot;y&quot;: 0.5384615384615385, &quot;z&quot;: 0.8958175289536239}, {&quot;x&quot;: 0.6410256410256412, &quot;y&quot;: 0.5897435897435899, &quot;z&quot;: 0.8468281663547939}, {&quot;x&quot;: 0.6410256410256412, &quot;y&quot;: 0.6410256410256412, &quot;z&quot;: 0.7885331849828893}, {&quot;x&quot;: 0.6410256410256412, &quot;y&quot;: 0.6923076923076925, &quot;z&quot;: 0.7201234005967734}, {&quot;x&quot;: 0.6410256410256412, &quot;y&quot;: 0.7435897435897438, &quot;z&quot;: 0.6407896289553093}, {&quot;x&quot;: 0.6410256410256412, &quot;y&quot;: 0.7948717948717952, &quot;z&quot;: 0.5497226858173601}, {&quot;x&quot;: 0.6410256410256412, &quot;y&quot;: 0.8461538461538465, &quot;z&quot;: 0.446113386941789}, {&quot;x&quot;: 0.6410256410256412, &quot;y&quot;: 0.8974358974358978, &quot;z&quot;: 0.3291525480874588}, {&quot;x&quot;: 0.6410256410256412, &quot;y&quot;: 0.9487179487179491, &quot;z&quot;: 0.19803098501323285}, {&quot;x&quot;: 0.6410256410256412, &quot;y&quot;: 1.0, &quot;z&quot;: 0.05193951347797543}, {&quot;x&quot;: 0.6923076923076925, &quot;y&quot;: -0.9487179487179487, &quot;z&quot;: 2.0255061616008367}, {&quot;x&quot;: 0.6923076923076925, &quot;y&quot;: -1.0, &quot;z&quot;: 2.171597633136095}, {&quot;x&quot;: 0.6923076923076925, &quot;y&quot;: -0.8974358974358974, &quot;z&quot;: 1.8943845985266106}, {&quot;x&quot;: 0.6923076923076925, &quot;y&quot;: -0.846153846153846, &quot;z&quot;: 1.7774237596722806}, {&quot;x&quot;: 0.6923076923076925, &quot;y&quot;: -0.7948717948717947, &quot;z&quot;: 1.6738144607967094}, {&quot;x&quot;: 0.6923076923076925, &quot;y&quot;: -0.7435897435897434, &quot;z&quot;: 1.5827475176587604}, {&quot;x&quot;: 0.6923076923076925, &quot;y&quot;: -0.6923076923076921, &quot;z&quot;: 1.5034137460172965}, {&quot;x&quot;: 0.6923076923076925, &quot;y&quot;: -0.6410256410256407, &quot;z&quot;: 1.4350039616311807}, {&quot;x&quot;: 0.6923076923076925, &quot;y&quot;: -0.5897435897435894, &quot;z&quot;: 1.3767089802592762}, {&quot;x&quot;: 0.6923076923076925, &quot;y&quot;: -0.5384615384615381, &quot;z&quot;: 1.3277196176604462}, {&quot;x&quot;: 0.6923076923076925, &quot;y&quot;: -0.48717948717948684, &quot;z&quot;: 1.2872266895935538}, {&quot;x&quot;: 0.6923076923076925, &quot;y&quot;: -0.43589743589743557, &quot;z&quot;: 1.254421011817462}, {&quot;x&quot;: 0.6923076923076925, &quot;y&quot;: -0.3846153846153843, &quot;z&quot;: 1.2284934000910335}, {&quot;x&quot;: 0.6923076923076925, &quot;y&quot;: -0.33333333333333304, &quot;z&quot;: 1.208634670173132}, {&quot;x&quot;: 0.6923076923076925, &quot;y&quot;: -0.28205128205128177, &quot;z&quot;: 1.1940356378226205}, {&quot;x&quot;: 0.6923076923076925, &quot;y&quot;: -0.2307692307692305, &quot;z&quot;: 1.1838871187983617}, {&quot;x&quot;: 0.6923076923076925, &quot;y&quot;: -0.17948717948717924, &quot;z&quot;: 1.1773799288592193}, {&quot;x&quot;: 0.6923076923076925, &quot;y&quot;: -0.12820512820512797, &quot;z&quot;: 1.1737048837640558}, {&quot;x&quot;: 0.6923076923076925, &quot;y&quot;: -0.07692307692307669, &quot;z&quot;: 1.1720527992717347}, {&quot;x&quot;: 0.6923076923076925, &quot;y&quot;: -0.02564102564102541, &quot;z&quot;: 1.1716144911411188}, {&quot;x&quot;: 0.6923076923076925, &quot;y&quot;: 0.02564102564102587, &quot;z&quot;: 1.1715807751310714}, {&quot;x&quot;: 0.6923076923076925, &quot;y&quot;: 0.07692307692307715, &quot;z&quot;: 1.1711424670004558}, {&quot;x&quot;: 0.6923076923076925, &quot;y&quot;: 0.12820512820512842, &quot;z&quot;: 1.1694903825081344}, {&quot;x&quot;: 0.6923076923076925, &quot;y&quot;: 0.17948717948717968, &quot;z&quot;: 1.165815337412971}, {&quot;x&quot;: 0.6923076923076925, &quot;y&quot;: 0.23076923076923095, &quot;z&quot;: 1.1593081474738285}, {&quot;x&quot;: 0.6923076923076925, &quot;y&quot;: 0.2820512820512822, &quot;z&quot;: 1.1491596284495698}, {&quot;x&quot;: 0.6923076923076925, &quot;y&quot;: 0.3333333333333335, &quot;z&quot;: 1.1345605960990581}, {&quot;x&quot;: 0.6923076923076925, &quot;y&quot;: 0.38461538461538475, &quot;z&quot;: 1.1147018661811565}, {&quot;x&quot;: 0.6923076923076925, &quot;y&quot;: 0.435897435897436, &quot;z&quot;: 1.0887742544547283}, {&quot;x&quot;: 0.6923076923076925, &quot;y&quot;: 0.4871794871794873, &quot;z&quot;: 1.0559685766786362}, {&quot;x&quot;: 0.6923076923076925, &quot;y&quot;: 0.5384615384615385, &quot;z&quot;: 1.0154756486117438}, {&quot;x&quot;: 0.6923076923076925, &quot;y&quot;: 0.5897435897435899, &quot;z&quot;: 0.9664862860129135}, {&quot;x&quot;: 0.6923076923076925, &quot;y&quot;: 0.6410256410256412, &quot;z&quot;: 0.9081913046410091}, {&quot;x&quot;: 0.6923076923076925, &quot;y&quot;: 0.6923076923076925, &quot;z&quot;: 0.8397815202548933}, {&quot;x&quot;: 0.6923076923076925, &quot;y&quot;: 0.7435897435897438, &quot;z&quot;: 0.7604477486134291}, {&quot;x&quot;: 0.6923076923076925, &quot;y&quot;: 0.7948717948717952, &quot;z&quot;: 0.66938080547548}, {&quot;x&quot;: 0.6923076923076925, &quot;y&quot;: 0.8461538461538465, &quot;z&quot;: 0.5657715065999087}, {&quot;x&quot;: 0.6923076923076925, &quot;y&quot;: 0.8974358974358978, &quot;z&quot;: 0.4488106677455786}, {&quot;x&quot;: 0.6923076923076925, &quot;y&quot;: 0.9487179487179491, &quot;z&quot;: 0.31768910467135264}, {&quot;x&quot;: 0.6923076923076925, &quot;y&quot;: 1.0, &quot;z&quot;: 0.1715976331360951}, {&quot;x&quot;: 0.7435897435897438, &quot;y&quot;: -0.9487179487179487, &quot;z&quot;: 2.150423978826346}, {&quot;x&quot;: 0.7435897435897438, &quot;y&quot;: -1.0, &quot;z&quot;: 2.296515450361605}, {&quot;x&quot;: 0.7435897435897438, &quot;y&quot;: -0.8974358974358974, &quot;z&quot;: 2.0193024157521204}, {&quot;x&quot;: 0.7435897435897438, &quot;y&quot;: -0.846153846153846, &quot;z&quot;: 1.9023415768977903}, {&quot;x&quot;: 0.7435897435897438, &quot;y&quot;: -0.7948717948717947, &quot;z&quot;: 1.798732278022219}, {&quot;x&quot;: 0.7435897435897438, &quot;y&quot;: -0.7435897435897434, &quot;z&quot;: 1.70766533488427}, {&quot;x&quot;: 0.7435897435897438, &quot;y&quot;: -0.6923076923076921, &quot;z&quot;: 1.6283315632428061}, {&quot;x&quot;: 0.7435897435897438, &quot;y&quot;: -0.6410256410256407, &quot;z&quot;: 1.5599217788566904}, {&quot;x&quot;: 0.7435897435897438, &quot;y&quot;: -0.5897435897435894, &quot;z&quot;: 1.5016267974847861}, {&quot;x&quot;: 0.7435897435897438, &quot;y&quot;: -0.5384615384615381, &quot;z&quot;: 1.4526374348859559}, {&quot;x&quot;: 0.7435897435897438, &quot;y&quot;: -0.48717948717948684, &quot;z&quot;: 1.4121445068190634}, {&quot;x&quot;: 0.7435897435897438, &quot;y&quot;: -0.43589743589743557, &quot;z&quot;: 1.3793388290429716}, {&quot;x&quot;: 0.7435897435897438, &quot;y&quot;: -0.3846153846153843, &quot;z&quot;: 1.3534112173165433}, {&quot;x&quot;: 0.7435897435897438, &quot;y&quot;: -0.33333333333333304, &quot;z&quot;: 1.333552487398642}, {&quot;x&quot;: 0.7435897435897438, &quot;y&quot;: -0.28205128205128177, &quot;z&quot;: 1.3189534550481303}, {&quot;x&quot;: 0.7435897435897438, &quot;y&quot;: -0.2307692307692305, &quot;z&quot;: 1.3088049360238716}, {&quot;x&quot;: 0.7435897435897438, &quot;y&quot;: -0.17948717948717924, &quot;z&quot;: 1.302297746084729}, {&quot;x&quot;: 0.7435897435897438, &quot;y&quot;: -0.12820512820512797, &quot;z&quot;: 1.2986227009895654}, {&quot;x&quot;: 0.7435897435897438, &quot;y&quot;: -0.07692307692307669, &quot;z&quot;: 1.2969706164972443}, {&quot;x&quot;: 0.7435897435897438, &quot;y&quot;: -0.02564102564102541, &quot;z&quot;: 1.2965323083666287}, {&quot;x&quot;: 0.7435897435897438, &quot;y&quot;: 0.02564102564102587, &quot;z&quot;: 1.2964985923565813}, {&quot;x&quot;: 0.7435897435897438, &quot;y&quot;: 0.07692307692307715, &quot;z&quot;: 1.2960602842259652}, {&quot;x&quot;: 0.7435897435897438, &quot;y&quot;: 0.12820512820512842, &quot;z&quot;: 1.294408199733644}, {&quot;x&quot;: 0.7435897435897438, &quot;y&quot;: 0.17948717948717968, &quot;z&quot;: 1.2907331546384806}, {&quot;x&quot;: 0.7435897435897438, &quot;y&quot;: 0.23076923076923095, &quot;z&quot;: 1.2842259646993381}, {&quot;x&quot;: 0.7435897435897438, &quot;y&quot;: 0.2820512820512822, &quot;z&quot;: 1.2740774456750794}, {&quot;x&quot;: 0.7435897435897438, &quot;y&quot;: 0.3333333333333335, &quot;z&quot;: 1.2594784133245678}, {&quot;x&quot;: 0.7435897435897438, &quot;y&quot;: 0.38461538461538475, &quot;z&quot;: 1.2396196834066662}, {&quot;x&quot;: 0.7435897435897438, &quot;y&quot;: 0.435897435897436, &quot;z&quot;: 1.213692071680238}, {&quot;x&quot;: 0.7435897435897438, &quot;y&quot;: 0.4871794871794873, &quot;z&quot;: 1.1808863939041458}, {&quot;x&quot;: 0.7435897435897438, &quot;y&quot;: 0.5384615384615385, &quot;z&quot;: 1.1403934658372534}, {&quot;x&quot;: 0.7435897435897438, &quot;y&quot;: 0.5897435897435899, &quot;z&quot;: 1.0914041032384234}, {&quot;x&quot;: 0.7435897435897438, &quot;y&quot;: 0.6410256410256412, &quot;z&quot;: 1.0331091218665187}, {&quot;x&quot;: 0.7435897435897438, &quot;y&quot;: 0.6923076923076925, &quot;z&quot;: 0.9646993374804029}, {&quot;x&quot;: 0.7435897435897438, &quot;y&quot;: 0.7435897435897438, &quot;z&quot;: 0.8853655658389388}, {&quot;x&quot;: 0.7435897435897438, &quot;y&quot;: 0.7948717948717952, &quot;z&quot;: 0.7942986227009896}, {&quot;x&quot;: 0.7435897435897438, &quot;y&quot;: 0.8461538461538465, &quot;z&quot;: 0.6906893238254185}, {&quot;x&quot;: 0.7435897435897438, &quot;y&quot;: 0.8974358974358978, &quot;z&quot;: 0.5737284849710883}, {&quot;x&quot;: 0.7435897435897438, &quot;y&quot;: 0.9487179487179491, &quot;z&quot;: 0.44260692189686235}, {&quot;x&quot;: 0.7435897435897438, &quot;y&quot;: 1.0, &quot;z&quot;: 0.29651545036160487}, {&quot;x&quot;: 0.7948717948717952, &quot;y&quot;: -0.9487179487179487, &quot;z&quot;: 2.280601493619246}, {&quot;x&quot;: 0.7948717948717952, &quot;y&quot;: -1.0, &quot;z&quot;: 2.4266929651545044}, {&quot;x&quot;: 0.7948717948717952, &quot;y&quot;: -0.8974358974358974, &quot;z&quot;: 2.14947993054502}, {&quot;x&quot;: 0.7948717948717952, &quot;y&quot;: -0.846153846153846, &quot;z&quot;: 2.03251909169069}, {&quot;x&quot;: 0.7948717948717952, &quot;y&quot;: -0.7948717948717947, &quot;z&quot;: 1.9289097928151187}, {&quot;x&quot;: 0.7948717948717952, &quot;y&quot;: -0.7435897435897434, &quot;z&quot;: 1.8378428496771697}, {&quot;x&quot;: 0.7948717948717952, &quot;y&quot;: -0.6923076923076921, &quot;z&quot;: 1.7585090780357056}, {&quot;x&quot;: 0.7948717948717952, &quot;y&quot;: -0.6410256410256407, &quot;z&quot;: 1.69009929364959}, {&quot;x&quot;: 0.7948717948717952, &quot;y&quot;: -0.5897435897435894, &quot;z&quot;: 1.6318043122776855}, {&quot;x&quot;: 0.7948717948717952, &quot;y&quot;: -0.5384615384615381, &quot;z&quot;: 1.5828149496788555}, {&quot;x&quot;: 0.7948717948717952, &quot;y&quot;: -0.48717948717948684, &quot;z&quot;: 1.5423220216119629}, {&quot;x&quot;: 0.7948717948717952, &quot;y&quot;: -0.43589743589743557, &quot;z&quot;: 1.509516343835871}, {&quot;x&quot;: 0.7948717948717952, &quot;y&quot;: -0.3846153846153843, &quot;z&quot;: 1.4835887321094428}, {&quot;x&quot;: 0.7948717948717952, &quot;y&quot;: -0.33333333333333304, &quot;z&quot;: 1.4637300021915414}, {&quot;x&quot;: 0.7948717948717952, &quot;y&quot;: -0.28205128205128177, &quot;z&quot;: 1.4491309698410297}, {&quot;x&quot;: 0.7948717948717952, &quot;y&quot;: -0.2307692307692305, &quot;z&quot;: 1.4389824508167712}, {&quot;x&quot;: 0.7948717948717952, &quot;y&quot;: -0.17948717948717924, &quot;z&quot;: 1.4324752608776286}, {&quot;x&quot;: 0.7948717948717952, &quot;y&quot;: -0.12820512820512797, &quot;z&quot;: 1.428800215782465}, {&quot;x&quot;: 0.7948717948717952, &quot;y&quot;: -0.07692307692307669, &quot;z&quot;: 1.427148131290144}, {&quot;x&quot;: 0.7948717948717952, &quot;y&quot;: -0.02564102564102541, &quot;z&quot;: 1.426709823159528}, {&quot;x&quot;: 0.7948717948717952, &quot;y&quot;: 0.02564102564102587, &quot;z&quot;: 1.4266761071494807}, {&quot;x&quot;: 0.7948717948717952, &quot;y&quot;: 0.07692307692307715, &quot;z&quot;: 1.4262377990188648}, {&quot;x&quot;: 0.7948717948717952, &quot;y&quot;: 0.12820512820512842, &quot;z&quot;: 1.4245857145265437}, {&quot;x&quot;: 0.7948717948717952, &quot;y&quot;: 0.17948717948717968, &quot;z&quot;: 1.4209106694313802}, {&quot;x&quot;: 0.7948717948717952, &quot;y&quot;: 0.23076923076923095, &quot;z&quot;: 1.4144034794922375}, {&quot;x&quot;: 0.7948717948717952, &quot;y&quot;: 0.2820512820512822, &quot;z&quot;: 1.4042549604679788}, {&quot;x&quot;: 0.7948717948717952, &quot;y&quot;: 0.3333333333333335, &quot;z&quot;: 1.3896559281174672}, {&quot;x&quot;: 0.7948717948717952, &quot;y&quot;: 0.38461538461538475, &quot;z&quot;: 1.3697971981995658}, {&quot;x&quot;: 0.7948717948717952, &quot;y&quot;: 0.435897435897436, &quot;z&quot;: 1.3438695864731374}, {&quot;x&quot;: 0.7948717948717952, &quot;y&quot;: 0.4871794871794873, &quot;z&quot;: 1.3110639086970455}, {&quot;x&quot;: 0.7948717948717952, &quot;y&quot;: 0.5384615384615385, &quot;z&quot;: 1.2705709806301528}, {&quot;x&quot;: 0.7948717948717952, &quot;y&quot;: 0.5897435897435899, &quot;z&quot;: 1.2215816180313228}, {&quot;x&quot;: 0.7948717948717952, &quot;y&quot;: 0.6410256410256412, &quot;z&quot;: 1.1632866366594183}, {&quot;x&quot;: 0.7948717948717952, &quot;y&quot;: 0.6923076923076925, &quot;z&quot;: 1.0948768522733023}, {&quot;x&quot;: 0.7948717948717952, &quot;y&quot;: 0.7435897435897438, &quot;z&quot;: 1.0155430806318384}, {&quot;x&quot;: 0.7948717948717952, &quot;y&quot;: 0.7948717948717952, &quot;z&quot;: 0.9244761374938891}, {&quot;x&quot;: 0.7948717948717952, &quot;y&quot;: 0.8461538461538465, &quot;z&quot;: 0.820866838618318}, {&quot;x&quot;: 0.7948717948717952, &quot;y&quot;: 0.8974358974358978, &quot;z&quot;: 0.7039059997639878}, {&quot;x&quot;: 0.7948717948717952, &quot;y&quot;: 0.9487179487179491, &quot;z&quot;: 0.5727844366897619}, {&quot;x&quot;: 0.7948717948717952, &quot;y&quot;: 1.0, &quot;z&quot;: 0.4266929651545044}, {&quot;x&quot;: 0.8461538461538465, &quot;y&quot;: -0.9487179487179487, &quot;z&quot;: 2.416038705979535}, {&quot;x&quot;: 0.8461538461538465, &quot;y&quot;: -1.0, &quot;z&quot;: 2.5621301775147938}, {&quot;x&quot;: 0.8461538461538465, &quot;y&quot;: -0.8974358974358974, &quot;z&quot;: 2.284917142905309}, {&quot;x&quot;: 0.8461538461538465, &quot;y&quot;: -0.846153846153846, &quot;z&quot;: 2.1679563040509793}, {&quot;x&quot;: 0.8461538461538465, &quot;y&quot;: -0.7948717948717947, &quot;z&quot;: 2.0643470051754083}, {&quot;x&quot;: 0.8461538461538465, &quot;y&quot;: -0.7435897435897434, &quot;z&quot;: 1.973280062037459}, {&quot;x&quot;: 0.8461538461538465, &quot;y&quot;: -0.6923076923076921, &quot;z&quot;: 1.8939462903959952}, {&quot;x&quot;: 0.8461538461538465, &quot;y&quot;: -0.6410256410256407, &quot;z&quot;: 1.8255365060098794}, {&quot;x&quot;: 0.8461538461538465, &quot;y&quot;: -0.5897435897435894, &quot;z&quot;: 1.767241524637975}, {&quot;x&quot;: 0.8461538461538465, &quot;y&quot;: -0.5384615384615381, &quot;z&quot;: 1.7182521620391449}, {&quot;x&quot;: 0.8461538461538465, &quot;y&quot;: -0.48717948717948684, &quot;z&quot;: 1.6777592339722522}, {&quot;x&quot;: 0.8461538461538465, &quot;y&quot;: -0.43589743589743557, &quot;z&quot;: 1.6449535561961603}, {&quot;x&quot;: 0.8461538461538465, &quot;y&quot;: -0.3846153846153843, &quot;z&quot;: 1.6190259444697321}, {&quot;x&quot;: 0.8461538461538465, &quot;y&quot;: -0.33333333333333304, &quot;z&quot;: 1.5991672145518308}, {&quot;x&quot;: 0.8461538461538465, &quot;y&quot;: -0.28205128205128177, &quot;z&quot;: 1.5845681822013191}, {&quot;x&quot;: 0.8461538461538465, &quot;y&quot;: -0.2307692307692305, &quot;z&quot;: 1.5744196631770606}, {&quot;x&quot;: 0.8461538461538465, &quot;y&quot;: -0.17948717948717924, &quot;z&quot;: 1.567912473237918}, {&quot;x&quot;: 0.8461538461538465, &quot;y&quot;: -0.12820512820512797, &quot;z&quot;: 1.5642374281427545}, {&quot;x&quot;: 0.8461538461538465, &quot;y&quot;: -0.07692307692307669, &quot;z&quot;: 1.5625853436504333}, {&quot;x&quot;: 0.8461538461538465, &quot;y&quot;: -0.02564102564102541, &quot;z&quot;: 1.5621470355198175}, {&quot;x&quot;: 0.8461538461538465, &quot;y&quot;: 0.02564102564102587, &quot;z&quot;: 1.56211331950977}, {&quot;x&quot;: 0.8461538461538465, &quot;y&quot;: 0.07692307692307715, &quot;z&quot;: 1.5616750113791542}, {&quot;x&quot;: 0.8461538461538465, &quot;y&quot;: 0.12820512820512842, &quot;z&quot;: 1.560022926886833}, {&quot;x&quot;: 0.8461538461538465, &quot;y&quot;: 0.17948717948717968, &quot;z&quot;: 1.5563478817916696}, {&quot;x&quot;: 0.8461538461538465, &quot;y&quot;: 0.23076923076923095, &quot;z&quot;: 1.549840691852527}, {&quot;x&quot;: 0.8461538461538465, &quot;y&quot;: 0.2820512820512822, &quot;z&quot;: 1.5396921728282682}, {&quot;x&quot;: 0.8461538461538465, &quot;y&quot;: 0.3333333333333335, &quot;z&quot;: 1.5250931404777566}, {&quot;x&quot;: 0.8461538461538465, &quot;y&quot;: 0.38461538461538475, &quot;z&quot;: 1.5052344105598552}, {&quot;x&quot;: 0.8461538461538465, &quot;y&quot;: 0.435897435897436, &quot;z&quot;: 1.4793067988334268}, {&quot;x&quot;: 0.8461538461538465, &quot;y&quot;: 0.4871794871794873, &quot;z&quot;: 1.4465011210573349}, {&quot;x&quot;: 0.8461538461538465, &quot;y&quot;: 0.5384615384615385, &quot;z&quot;: 1.4060081929904422}, {&quot;x&quot;: 0.8461538461538465, &quot;y&quot;: 0.5897435897435899, &quot;z&quot;: 1.3570188303916122}, {&quot;x&quot;: 0.8461538461538465, &quot;y&quot;: 0.6410256410256412, &quot;z&quot;: 1.2987238490197077}, {&quot;x&quot;: 0.8461538461538465, &quot;y&quot;: 0.6923076923076925, &quot;z&quot;: 1.2303140646335917}, {&quot;x&quot;: 0.8461538461538465, &quot;y&quot;: 0.7435897435897438, &quot;z&quot;: 1.1509802929921278}, {&quot;x&quot;: 0.8461538461538465, &quot;y&quot;: 0.7948717948717952, &quot;z&quot;: 1.0599133498541784}, {&quot;x&quot;: 0.8461538461538465, &quot;y&quot;: 0.8461538461538465, &quot;z&quot;: 0.9563040509786074}, {&quot;x&quot;: 0.8461538461538465, &quot;y&quot;: 0.8974358974358978, &quot;z&quot;: 0.8393432121242772}, {&quot;x&quot;: 0.8461538461538465, &quot;y&quot;: 0.9487179487179491, &quot;z&quot;: 0.7082216490500512}, {&quot;x&quot;: 0.8461538461538465, &quot;y&quot;: 1.0, &quot;z&quot;: 0.5621301775147938}, {&quot;x&quot;: 0.8974358974358978, &quot;y&quot;: -0.9487179487179487, &quot;z&quot;: 2.5567356159072148}, {&quot;x&quot;: 0.8974358974358978, &quot;y&quot;: -1.0, &quot;z&quot;: 2.702827087442473}, {&quot;x&quot;: 0.8974358974358978, &quot;y&quot;: -0.8974358974358974, &quot;z&quot;: 2.4256140528329886}, {&quot;x&quot;: 0.8974358974358978, &quot;y&quot;: -0.846153846153846, &quot;z&quot;: 2.3086532139786584}, {&quot;x&quot;: 0.8974358974358978, &quot;y&quot;: -0.7948717948717947, &quot;z&quot;: 2.2050439151030874}, {&quot;x&quot;: 0.8974358974358978, &quot;y&quot;: -0.7435897435897434, &quot;z&quot;: 2.1139769719651387}, {&quot;x&quot;: 0.8974358974358978, &quot;y&quot;: -0.6923076923076921, &quot;z&quot;: 2.0346432003236745}, {&quot;x&quot;: 0.8974358974358978, &quot;y&quot;: -0.6410256410256407, &quot;z&quot;: 1.9662334159375587}, {&quot;x&quot;: 0.8974358974358978, &quot;y&quot;: -0.5897435897435894, &quot;z&quot;: 1.9079384345656543}, {&quot;x&quot;: 0.8974358974358978, &quot;y&quot;: -0.5384615384615381, &quot;z&quot;: 1.8589490719668242}, {&quot;x&quot;: 0.8974358974358978, &quot;y&quot;: -0.48717948717948684, &quot;z&quot;: 1.8184561438999318}, {&quot;x&quot;: 0.8974358974358978, &quot;y&quot;: -0.43589743589743557, &quot;z&quot;: 1.78565046612384}, {&quot;x&quot;: 0.8974358974358978, &quot;y&quot;: -0.3846153846153843, &quot;z&quot;: 1.7597228543974115}, {&quot;x&quot;: 0.8974358974358978, &quot;y&quot;: -0.33333333333333304, &quot;z&quot;: 1.73986412447951}, {&quot;x&quot;: 0.8974358974358978, &quot;y&quot;: -0.28205128205128177, &quot;z&quot;: 1.7252650921289985}, {&quot;x&quot;: 0.8974358974358978, &quot;y&quot;: -0.2307692307692305, &quot;z&quot;: 1.7151165731047398}, {&quot;x&quot;: 0.8974358974358978, &quot;y&quot;: -0.17948717948717924, &quot;z&quot;: 1.708609383165597}, {&quot;x&quot;: 0.8974358974358978, &quot;y&quot;: -0.12820512820512797, &quot;z&quot;: 1.7049343380704338}, {&quot;x&quot;: 0.8974358974358978, &quot;y&quot;: -0.07692307692307669, &quot;z&quot;: 1.7032822535781125}, {&quot;x&quot;: 0.8974358974358978, &quot;y&quot;: -0.02564102564102541, &quot;z&quot;: 1.7028439454474968}, {&quot;x&quot;: 0.8974358974358978, &quot;y&quot;: 0.02564102564102587, &quot;z&quot;: 1.7028102294374494}, {&quot;x&quot;: 0.8974358974358978, &quot;y&quot;: 0.07692307692307715, &quot;z&quot;: 1.7023719213068336}, {&quot;x&quot;: 0.8974358974358978, &quot;y&quot;: 0.12820512820512842, &quot;z&quot;: 1.7007198368145124}, {&quot;x&quot;: 0.8974358974358978, &quot;y&quot;: 0.17948717948717968, &quot;z&quot;: 1.697044791719349}, {&quot;x&quot;: 0.8974358974358978, &quot;y&quot;: 0.23076923076923095, &quot;z&quot;: 1.6905376017802065}, {&quot;x&quot;: 0.8974358974358978, &quot;y&quot;: 0.2820512820512822, &quot;z&quot;: 1.6803890827559478}, {&quot;x&quot;: 0.8974358974358978, &quot;y&quot;: 0.3333333333333335, &quot;z&quot;: 1.6657900504054362}, {&quot;x&quot;: 0.8974358974358978, &quot;y&quot;: 0.38461538461538475, &quot;z&quot;: 1.6459313204875345}, {&quot;x&quot;: 0.8974358974358978, &quot;y&quot;: 0.435897435897436, &quot;z&quot;: 1.6200037087611063}, {&quot;x&quot;: 0.8974358974358978, &quot;y&quot;: 0.4871794871794873, &quot;z&quot;: 1.5871980309850142}, {&quot;x&quot;: 0.8974358974358978, &quot;y&quot;: 0.5384615384615385, &quot;z&quot;: 1.5467051029181218}, {&quot;x&quot;: 0.8974358974358978, &quot;y&quot;: 0.5897435897435899, &quot;z&quot;: 1.4977157403192916}, {&quot;x&quot;: 0.8974358974358978, &quot;y&quot;: 0.6410256410256412, &quot;z&quot;: 1.439420758947387}, {&quot;x&quot;: 0.8974358974358978, &quot;y&quot;: 0.6923076923076925, &quot;z&quot;: 1.3710109745612713}, {&quot;x&quot;: 0.8974358974358978, &quot;y&quot;: 0.7435897435897438, &quot;z&quot;: 1.2916772029198071}, {&quot;x&quot;: 0.8974358974358978, &quot;y&quot;: 0.7948717948717952, &quot;z&quot;: 1.200610259781858}, {&quot;x&quot;: 0.8974358974358978, &quot;y&quot;: 0.8461538461538465, &quot;z&quot;: 1.0970009609062867}, {&quot;x&quot;: 0.8974358974358978, &quot;y&quot;: 0.8974358974358978, &quot;z&quot;: 0.9800401220519566}, {&quot;x&quot;: 0.8974358974358978, &quot;y&quot;: 0.9487179487179491, &quot;z&quot;: 0.8489185589777306}, {&quot;x&quot;: 0.8974358974358978, &quot;y&quot;: 1.0, &quot;z&quot;: 0.7028270874424731}, {&quot;x&quot;: 0.9487179487179491, &quot;y&quot;: -0.9487179487179487, &quot;z&quot;: 2.7026922234022837}, {&quot;x&quot;: 0.9487179487179491, &quot;y&quot;: -1.0, &quot;z&quot;: 2.8487836949375422}, {&quot;x&quot;: 0.9487179487179491, &quot;y&quot;: -0.8974358974358974, &quot;z&quot;: 2.5715706603280575}, {&quot;x&quot;: 0.9487179487179491, &quot;y&quot;: -0.846153846153846, &quot;z&quot;: 2.4546098214737277}, {&quot;x&quot;: 0.9487179487179491, &quot;y&quot;: -0.7948717948717947, &quot;z&quot;: 2.3510005225981567}, {&quot;x&quot;: 0.9487179487179491, &quot;y&quot;: -0.7435897435897434, &quot;z&quot;: 2.2599335794602076}, {&quot;x&quot;: 0.9487179487179491, &quot;y&quot;: -0.6923076923076921, &quot;z&quot;: 2.1805998078187434}, {&quot;x&quot;: 0.9487179487179491, &quot;y&quot;: -0.6410256410256407, &quot;z&quot;: 2.112190023432628}, {&quot;x&quot;: 0.9487179487179491, &quot;y&quot;: -0.5897435897435894, &quot;z&quot;: 2.0538950420607236}, {&quot;x&quot;: 0.9487179487179491, &quot;y&quot;: -0.5384615384615381, &quot;z&quot;: 2.0049056794618934}, {&quot;x&quot;: 0.9487179487179491, &quot;y&quot;: -0.48717948717948684, &quot;z&quot;: 1.964412751395001}, {&quot;x&quot;: 0.9487179487179491, &quot;y&quot;: -0.43589743589743557, &quot;z&quot;: 1.9316070736189088}, {&quot;x&quot;: 0.9487179487179491, &quot;y&quot;: -0.3846153846153843, &quot;z&quot;: 1.9056794618924806}, {&quot;x&quot;: 0.9487179487179491, &quot;y&quot;: -0.33333333333333304, &quot;z&quot;: 1.8858207319745792}, {&quot;x&quot;: 0.9487179487179491, &quot;y&quot;: -0.28205128205128177, &quot;z&quot;: 1.8712216996240676}, {&quot;x&quot;: 0.9487179487179491, &quot;y&quot;: -0.2307692307692305, &quot;z&quot;: 1.861073180599809}, {&quot;x&quot;: 0.9487179487179491, &quot;y&quot;: -0.17948717948717924, &quot;z&quot;: 1.8545659906606664}, {&quot;x&quot;: 0.9487179487179491, &quot;y&quot;: -0.12820512820512797, &quot;z&quot;: 1.850890945565503}, {&quot;x&quot;: 0.9487179487179491, &quot;y&quot;: -0.07692307692307669, &quot;z&quot;: 1.8492388610731818}, {&quot;x&quot;: 0.9487179487179491, &quot;y&quot;: -0.02564102564102541, &quot;z&quot;: 1.848800552942566}, {&quot;x&quot;: 0.9487179487179491, &quot;y&quot;: 0.02564102564102587, &quot;z&quot;: 1.8487668369325185}, {&quot;x&quot;: 0.9487179487179491, &quot;y&quot;: 0.07692307692307715, &quot;z&quot;: 1.8483285288019027}, {&quot;x&quot;: 0.9487179487179491, &quot;y&quot;: 0.12820512820512842, &quot;z&quot;: 1.8466764443095816}, {&quot;x&quot;: 0.9487179487179491, &quot;y&quot;: 0.17948717948717968, &quot;z&quot;: 1.843001399214418}, {&quot;x&quot;: 0.9487179487179491, &quot;y&quot;: 0.23076923076923095, &quot;z&quot;: 1.8364942092752754}, {&quot;x&quot;: 0.9487179487179491, &quot;y&quot;: 0.2820512820512822, &quot;z&quot;: 1.8263456902510167}, {&quot;x&quot;: 0.9487179487179491, &quot;y&quot;: 0.3333333333333335, &quot;z&quot;: 1.811746657900505}, {&quot;x&quot;: 0.9487179487179491, &quot;y&quot;: 0.38461538461538475, &quot;z&quot;: 1.7918879279826037}, {&quot;x&quot;: 0.9487179487179491, &quot;y&quot;: 0.435897435897436, &quot;z&quot;: 1.7659603162561752}, {&quot;x&quot;: 0.9487179487179491, &quot;y&quot;: 0.4871794871794873, &quot;z&quot;: 1.7331546384800833}, {&quot;x&quot;: 0.9487179487179491, &quot;y&quot;: 0.5384615384615385, &quot;z&quot;: 1.6926617104131907}, {&quot;x&quot;: 0.9487179487179491, &quot;y&quot;: 0.5897435897435899, &quot;z&quot;: 1.6436723478143607}, {&quot;x&quot;: 0.9487179487179491, &quot;y&quot;: 0.6410256410256412, &quot;z&quot;: 1.5853773664424562}, {&quot;x&quot;: 0.9487179487179491, &quot;y&quot;: 0.6923076923076925, &quot;z&quot;: 1.5169675820563402}, {&quot;x&quot;: 0.9487179487179491, &quot;y&quot;: 0.7435897435897438, &quot;z&quot;: 1.4376338104148763}, {&quot;x&quot;: 0.9487179487179491, &quot;y&quot;: 0.7948717948717952, &quot;z&quot;: 1.3465668672769269}, {&quot;x&quot;: 0.9487179487179491, &quot;y&quot;: 0.8461538461538465, &quot;z&quot;: 1.2429575684013559}, {&quot;x&quot;: 0.9487179487179491, &quot;y&quot;: 0.8974358974358978, &quot;z&quot;: 1.1259967295470257}, {&quot;x&quot;: 0.9487179487179491, &quot;y&quot;: 0.9487179487179491, &quot;z&quot;: 0.9948751664727997}, {&quot;x&quot;: 0.9487179487179491, &quot;y&quot;: 1.0, &quot;z&quot;: 0.8487836949375422}, {&quot;x&quot;: 1.0, &quot;y&quot;: -0.9487179487179487, &quot;z&quot;: 2.8539085284647414}, {&quot;x&quot;: 1.0, &quot;y&quot;: -1.0, &quot;z&quot;: 3.0}, {&quot;x&quot;: 1.0, &quot;y&quot;: -0.8974358974358974, &quot;z&quot;: 2.7227869653905152}, {&quot;x&quot;: 1.0, &quot;y&quot;: -0.846153846153846, &quot;z&quot;: 2.6058261265361855}, {&quot;x&quot;: 1.0, &quot;y&quot;: -0.7948717948717947, &quot;z&quot;: 2.5022168276606145}, {&quot;x&quot;: 1.0, &quot;y&quot;: -0.7435897435897434, &quot;z&quot;: 2.4111498845226653}, {&quot;x&quot;: 1.0, &quot;y&quot;: -0.6923076923076921, &quot;z&quot;: 2.331816112881201}, {&quot;x&quot;: 1.0, &quot;y&quot;: -0.6410256410256407, &quot;z&quot;: 2.2634063284950856}, {&quot;x&quot;: 1.0, &quot;y&quot;: -0.5897435897435894, &quot;z&quot;: 2.2051113471231814}, {&quot;x&quot;: 1.0, &quot;y&quot;: -0.5384615384615381, &quot;z&quot;: 2.156121984524351}, {&quot;x&quot;: 1.0, &quot;y&quot;: -0.48717948717948684, &quot;z&quot;: 2.1156290564574585}, {&quot;x&quot;: 1.0, &quot;y&quot;: -0.43589743589743557, &quot;z&quot;: 2.0828233786813666}, {&quot;x&quot;: 1.0, &quot;y&quot;: -0.3846153846153843, &quot;z&quot;: 2.0568957669549386}, {&quot;x&quot;: 1.0, &quot;y&quot;: -0.33333333333333304, &quot;z&quot;: 2.037037037037037}, {&quot;x&quot;: 1.0, &quot;y&quot;: -0.28205128205128177, &quot;z&quot;: 2.022438004686525}, {&quot;x&quot;: 1.0, &quot;y&quot;: -0.2307692307692305, &quot;z&quot;: 2.012289485662267}, {&quot;x&quot;: 1.0, &quot;y&quot;: -0.17948717948717924, &quot;z&quot;: 2.005782295723124}, {&quot;x&quot;: 1.0, &quot;y&quot;: -0.12820512820512797, &quot;z&quot;: 2.0021072506279607}, {&quot;x&quot;: 1.0, &quot;y&quot;: -0.07692307692307669, &quot;z&quot;: 2.0004551661356396}, {&quot;x&quot;: 1.0, &quot;y&quot;: -0.02564102564102541, &quot;z&quot;: 2.000016858005024}, {&quot;x&quot;: 1.0, &quot;y&quot;: 0.02564102564102587, &quot;z&quot;: 1.9999831419949763}, {&quot;x&quot;: 1.0, &quot;y&quot;: 0.07692307692307715, &quot;z&quot;: 1.9995448338643604}, {&quot;x&quot;: 1.0, &quot;y&quot;: 0.12820512820512842, &quot;z&quot;: 1.9978927493720393}, {&quot;x&quot;: 1.0, &quot;y&quot;: 0.17948717948717968, &quot;z&quot;: 1.9942177042768758}, {&quot;x&quot;: 1.0, &quot;y&quot;: 0.23076923076923095, &quot;z&quot;: 1.9877105143377332}, {&quot;x&quot;: 1.0, &quot;y&quot;: 0.2820512820512822, &quot;z&quot;: 1.9775619953134744}, {&quot;x&quot;: 1.0, &quot;y&quot;: 0.3333333333333335, &quot;z&quot;: 1.9629629629629628}, {&quot;x&quot;: 1.0, &quot;y&quot;: 0.38461538461538475, &quot;z&quot;: 1.9431042330450614}, {&quot;x&quot;: 1.0, &quot;y&quot;: 0.435897435897436, &quot;z&quot;: 1.917176621318633}, {&quot;x&quot;: 1.0, &quot;y&quot;: 0.4871794871794873, &quot;z&quot;: 1.884370943542541}, {&quot;x&quot;: 1.0, &quot;y&quot;: 0.5384615384615385, &quot;z&quot;: 1.8438780154756484}, {&quot;x&quot;: 1.0, &quot;y&quot;: 0.5897435897435899, &quot;z&quot;: 1.7948886528768184}, {&quot;x&quot;: 1.0, &quot;y&quot;: 0.6410256410256412, &quot;z&quot;: 1.736593671504914}, {&quot;x&quot;: 1.0, &quot;y&quot;: 0.6923076923076925, &quot;z&quot;: 1.668183887118798}, {&quot;x&quot;: 1.0, &quot;y&quot;: 0.7435897435897438, &quot;z&quot;: 1.588850115477334}, {&quot;x&quot;: 1.0, &quot;y&quot;: 0.7948717948717952, &quot;z&quot;: 1.4977831723393846}, {&quot;x&quot;: 1.0, &quot;y&quot;: 0.8461538461538465, &quot;z&quot;: 1.3941738734638136}, {&quot;x&quot;: 1.0, &quot;y&quot;: 0.8974358974358978, &quot;z&quot;: 1.2772130346094834}, {&quot;x&quot;: 1.0, &quot;y&quot;: 0.9487179487179491, &quot;z&quot;: 1.1460914715352575}, {&quot;x&quot;: 1.0, &quot;y&quot;: 1.0, &quot;z&quot;: 1.0}], &quot;faces&quot;: [[0, 1, 2, 3], [1, 4, 5, 2], [4, 6, 7, 5], [6, 8, 9, 7], [8, 10, 11, 9], [10, 12, 13, 11], [12, 14, 15, 13], [14, 16, 17, 15], [16, 18, 19, 17], [18, 20, 21, 19], [20, 22, 23, 21], [22, 24, 25, 23], [24, 26, 27, 25], [26, 28, 29, 27], [28, 30, 31, 29], [30, 32, 33, 31], [32, 34, 35, 33], [34, 36, 37, 35], [36, 38, 39, 37], [38, 40, 41, 39], [40, 42, 43, 41], [42, 44, 45, 43], [44, 46, 47, 45], [46, 48, 49, 47], [48, 50, 51, 49], [50, 52, 53, 51], [52, 54, 55, 53], [54, 56, 57, 55], [56, 58, 59, 57], [58, 60, 61, 59], [60, 62, 63, 61], [62, 64, 65, 63], [64, 66, 67, 65], [66, 68, 69, 67], [68, 70, 71, 69], [70, 72, 73, 71], [72, 74, 75, 73], [74, 76, 77, 75], [76, 78, 79, 77], [3, 2, 80, 81], [2, 5, 82, 80], [5, 7, 83, 82], [7, 9, 84, 83], [9, 11, 85, 84], [11, 13, 86, 85], [13, 15, 87, 86], [15, 17, 88, 87], [17, 19, 89, 88], [19, 21, 90, 89], [21, 23, 91, 90], [23, 25, 92, 91], [25, 27, 93, 92], [27, 29, 94, 93], [29, 31, 95, 94], [31, 33, 96, 95], [33, 35, 97, 96], [35, 37, 98, 97], [37, 39, 99, 98], [39, 41, 100, 99], [41, 43, 101, 100], [43, 45, 102, 101], [45, 47, 103, 102], [47, 49, 104, 103], [49, 51, 105, 104], [51, 53, 106, 105], [53, 55, 107, 106], [55, 57, 108, 107], [57, 59, 109, 108], [59, 61, 110, 109], [61, 63, 111, 110], [63, 65, 112, 111], [65, 67, 113, 112], [67, 69, 114, 113], [69, 71, 115, 114], [71, 73, 116, 115], [73, 75, 117, 116], [75, 77, 118, 117], [77, 79, 119, 118], [81, 80, 120, 121], [80, 82, 122, 120], [82, 83, 123, 122], [83, 84, 124, 123], [84, 85, 125, 124], [85, 86, 126, 125], [86, 87, 127, 126], [87, 88, 128, 127], [88, 89, 129, 128], [89, 90, 130, 129], [90, 91, 131, 130], [91, 92, 132, 131], [92, 93, 133, 132], [93, 94, 134, 133], [94, 95, 135, 134], [95, 96, 136, 135], [96, 97, 137, 136], [97, 98, 138, 137], [98, 99, 139, 138], [99, 100, 140, 139], [100, 101, 141, 140], [101, 102, 142, 141], [102, 103, 143, 142], [103, 104, 144, 143], [104, 105, 145, 144], [105, 106, 146, 145], [106, 107, 147, 146], [107, 108, 148, 147], [108, 109, 149, 148], [109, 110, 150, 149], [110, 111, 151, 150], [111, 112, 152, 151], [112, 113, 153, 152], [113, 114, 154, 153], [114, 115, 155, 154], [115, 116, 156, 155], [116, 117, 157, 156], [117, 118, 158, 157], [118, 119, 159, 158], [121, 120, 160, 161], [120, 122, 162, 160], [122, 123, 163, 162], [123, 124, 164, 163], [124, 125, 165, 164], [125, 126, 166, 165], [126, 127, 167, 166], [127, 128, 168, 167], [128, 129, 169, 168], [129, 130, 170, 169], [130, 131, 171, 170], [131, 132, 172, 171], [132, 133, 173, 172], [133, 134, 174, 173], [134, 135, 175, 174], [135, 136, 176, 175], [136, 137, 177, 176], [137, 138, 178, 177], [138, 139, 179, 178], [139, 140, 180, 179], [140, 141, 181, 180], [141, 142, 182, 181], [142, 143, 183, 182], [143, 144, 184, 183], [144, 145, 185, 184], [145, 146, 186, 185], [146, 147, 187, 186], [147, 148, 188, 187], [148, 149, 189, 188], [149, 150, 190, 189], [150, 151, 191, 190], [151, 152, 192, 191], [152, 153, 193, 192], [153, 154, 194, 193], [154, 155, 195, 194], [155, 156, 196, 195], [156, 157, 197, 196], [157, 158, 198, 197], [158, 159, 199, 198], [161, 160, 200, 201], [160, 162, 202, 200], [162, 163, 203, 202], [163, 164, 204, 203], [164, 165, 205, 204], [165, 166, 206, 205], [166, 167, 207, 206], [167, 168, 208, 207], [168, 169, 209, 208], [169, 170, 210, 209], [170, 171, 211, 210], [171, 172, 212, 211], [172, 173, 213, 212], [173, 174, 214, 213], [174, 175, 215, 214], [175, 176, 216, 215], [176, 177, 217, 216], [177, 178, 218, 217], [178, 179, 219, 218], [179, 180, 220, 219], [180, 181, 221, 220], [181, 182, 222, 221], [182, 183, 223, 222], [183, 184, 224, 223], [184, 185, 225, 224], [185, 186, 226, 225], [186, 187, 227, 226], [187, 188, 228, 227], [188, 189, 229, 228], [189, 190, 230, 229], [190, 191, 231, 230], [191, 192, 232, 231], [192, 193, 233, 232], [193, 194, 234, 233], [194, 195, 235, 234], [195, 196, 236, 235], [196, 197, 237, 236], [197, 198, 238, 237], [198, 199, 239, 238], [201, 200, 240, 241], [200, 202, 242, 240], [202, 203, 243, 242], [203, 204, 244, 243], [204, 205, 245, 244], [205, 206, 246, 245], [206, 207, 247, 246], [207, 208, 248, 247], [208, 209, 249, 248], [209, 210, 250, 249], [210, 211, 251, 250], [211, 212, 252, 251], [212, 213, 253, 252], [213, 214, 254, 253], [214, 215, 255, 254], [215, 216, 256, 255], [216, 217, 257, 256], [217, 218, 258, 257], [218, 219, 259, 258], [219, 220, 260, 259], [220, 221, 261, 260], [221, 222, 262, 261], [222, 223, 263, 262], [223, 224, 264, 263], [224, 225, 265, 264], [225, 226, 266, 265], [226, 227, 267, 266], [227, 228, 268, 267], [228, 229, 269, 268], [229, 230, 270, 269], [230, 231, 271, 270], [231, 232, 272, 271], [232, 233, 273, 272], [233, 234, 274, 273], [234, 235, 275, 274], [235, 236, 276, 275], [236, 237, 277, 276], [237, 238, 278, 277], [238, 239, 279, 278], [241, 240, 280, 281], [240, 242, 282, 280], [242, 243, 283, 282], [243, 244, 284, 283], [244, 245, 285, 284], [245, 246, 286, 285], [246, 247, 287, 286], [247, 248, 288, 287], [248, 249, 289, 288], [249, 250, 290, 289], [250, 251, 291, 290], [251, 252, 292, 291], [252, 253, 293, 292], [253, 254, 294, 293], [254, 255, 295, 294], [255, 256, 296, 295], [256, 257, 297, 296], [257, 258, 298, 297], [258, 259, 299, 298], [259, 260, 300, 299], [260, 261, 301, 300], [261, 262, 302, 301], [262, 263, 303, 302], [263, 264, 304, 303], [264, 265, 305, 304], [265, 266, 306, 305], [266, 267, 307, 306], [267, 268, 308, 307], [268, 269, 309, 308], [269, 270, 310, 309], [270, 271, 311, 310], [271, 272, 312, 311], [272, 273, 313, 312], [273, 274, 314, 313], [274, 275, 315, 314], [275, 276, 316, 315], [276, 277, 317, 316], [277, 278, 318, 317], [278, 279, 319, 318], [281, 280, 320, 321], [280, 282, 322, 320], [282, 283, 323, 322], [283, 284, 324, 323], [284, 285, 325, 324], [285, 286, 326, 325], [286, 287, 327, 326], [287, 288, 328, 327], [288, 289, 329, 328], [289, 290, 330, 329], [290, 291, 331, 330], [291, 292, 332, 331], [292, 293, 333, 332], [293, 294, 334, 333], [294, 295, 335, 334], [295, 296, 336, 335], [296, 297, 337, 336], [297, 298, 338, 337], [298, 299, 339, 338], [299, 300, 340, 339], [300, 301, 341, 340], [301, 302, 342, 341], [302, 303, 343, 342], [303, 304, 344, 343], [304, 305, 345, 344], [305, 306, 346, 345], [306, 307, 347, 346], [307, 308, 348, 347], [308, 309, 349, 348], [309, 310, 350, 349], [310, 311, 351, 350], [311, 312, 352, 351], [312, 313, 353, 352], [313, 314, 354, 353], [314, 315, 355, 354], [315, 316, 356, 355], [316, 317, 357, 356], [317, 318, 358, 357], [318, 319, 359, 358], [321, 320, 360, 361], [320, 322, 362, 360], [322, 323, 363, 362], [323, 324, 364, 363], [324, 325, 365, 364], [325, 326, 366, 365], [326, 327, 367, 366], [327, 328, 368, 367], [328, 329, 369, 368], [329, 330, 370, 369], [330, 331, 371, 370], [331, 332, 372, 371], [332, 333, 373, 372], [333, 334, 374, 373], [334, 335, 375, 374], [335, 336, 376, 375], [336, 337, 377, 376], [337, 338, 378, 377], [338, 339, 379, 378], [339, 340, 380, 379], [340, 341, 381, 380], [341, 342, 382, 381], [342, 343, 383, 382], [343, 344, 384, 383], [344, 345, 385, 384], [345, 346, 386, 385], [346, 347, 387, 386], [347, 348, 388, 387], [348, 349, 389, 388], [349, 350, 390, 389], [350, 351, 391, 390], [351, 352, 392, 391], [352, 353, 393, 392], [353, 354, 394, 393], [354, 355, 395, 394], [355, 356, 396, 395], [356, 357, 397, 396], [357, 358, 398, 397], [358, 359, 399, 398], [361, 360, 400, 401], [360, 362, 402, 400], [362, 363, 403, 402], [363, 364, 404, 403], [364, 365, 405, 404], [365, 366, 406, 405], [366, 367, 407, 406], [367, 368, 408, 407], [368, 369, 409, 408], [369, 370, 410, 409], [370, 371, 411, 410], [371, 372, 412, 411], [372, 373, 413, 412], [373, 374, 414, 413], [374, 375, 415, 414], [375, 376, 416, 415], [376, 377, 417, 416], [377, 378, 418, 417], [378, 379, 419, 418], [379, 380, 420, 419], [380, 381, 421, 420], [381, 382, 422, 421], [382, 383, 423, 422], [383, 384, 424, 423], [384, 385, 425, 424], [385, 386, 426, 425], [386, 387, 427, 426], [387, 388, 428, 427], [388, 389, 429, 428], [389, 390, 430, 429], [390, 391, 431, 430], [391, 392, 432, 431], [392, 393, 433, 432], [393, 394, 434, 433], [394, 395, 435, 434], [395, 396, 436, 435], [396, 397, 437, 436], [397, 398, 438, 437], [398, 399, 439, 438], [401, 400, 440, 441], [400, 402, 442, 440], [402, 403, 443, 442], [403, 404, 444, 443], [404, 405, 445, 444], [405, 406, 446, 445], [406, 407, 447, 446], [407, 408, 448, 447], [408, 409, 449, 448], [409, 410, 450, 449], [410, 411, 451, 450], [411, 412, 452, 451], [412, 413, 453, 452], [413, 414, 454, 453], [414, 415, 455, 454], [415, 416, 456, 455], [416, 417, 457, 456], [417, 418, 458, 457], [418, 419, 459, 458], [419, 420, 460, 459], [420, 421, 461, 460], [421, 422, 462, 461], [422, 423, 463, 462], [423, 424, 464, 463], [424, 425, 465, 464], [425, 426, 466, 465], [426, 427, 467, 466], [427, 428, 468, 467], [428, 429, 469, 468], [429, 430, 470, 469], [430, 431, 471, 470], [431, 432, 472, 471], [432, 433, 473, 472], [433, 434, 474, 473], [434, 435, 475, 474], [435, 436, 476, 475], [436, 437, 477, 476], [437, 438, 478, 477], [438, 439, 479, 478], [441, 440, 480, 481], [440, 442, 482, 480], [442, 443, 483, 482], [443, 444, 484, 483], [444, 445, 485, 484], [445, 446, 486, 485], [446, 447, 487, 486], [447, 448, 488, 487], [448, 449, 489, 488], [449, 450, 490, 489], [450, 451, 491, 490], [451, 452, 492, 491], [452, 453, 493, 492], [453, 454, 494, 493], [454, 455, 495, 494], [455, 456, 496, 495], [456, 457, 497, 496], [457, 458, 498, 497], [458, 459, 499, 498], [459, 460, 500, 499], [460, 461, 501, 500], [461, 462, 502, 501], [462, 463, 503, 502], [463, 464, 504, 503], [464, 465, 505, 504], [465, 466, 506, 505], [466, 467, 507, 506], [467, 468, 508, 507], [468, 469, 509, 508], [469, 470, 510, 509], [470, 471, 511, 510], [471, 472, 512, 511], [472, 473, 513, 512], [473, 474, 514, 513], [474, 475, 515, 514], [475, 476, 516, 515], [476, 477, 517, 516], [477, 478, 518, 517], [478, 479, 519, 518], [481, 480, 520, 521], [480, 482, 522, 520], [482, 483, 523, 522], [483, 484, 524, 523], [484, 485, 525, 524], [485, 486, 526, 525], [486, 487, 527, 526], [487, 488, 528, 527], [488, 489, 529, 528], [489, 490, 530, 529], [490, 491, 531, 530], [491, 492, 532, 531], [492, 493, 533, 532], [493, 494, 534, 533], [494, 495, 535, 534], [495, 496, 536, 535], [496, 497, 537, 536], [497, 498, 538, 537], [498, 499, 539, 538], [499, 500, 540, 539], [500, 501, 541, 540], [501, 502, 542, 541], [502, 503, 543, 542], [503, 504, 544, 543], [504, 505, 545, 544], [505, 506, 546, 545], [506, 507, 547, 546], [507, 508, 548, 547], [508, 509, 549, 548], [509, 510, 550, 549], [510, 511, 551, 550], [511, 512, 552, 551], [512, 513, 553, 552], [513, 514, 554, 553], [514, 515, 555, 554], [515, 516, 556, 555], [516, 517, 557, 556], [517, 518, 558, 557], [518, 519, 559, 558], [521, 520, 560, 561], [520, 522, 562, 560], [522, 523, 563, 562], [523, 524, 564, 563], [524, 525, 565, 564], [525, 526, 566, 565], [526, 527, 567, 566], [527, 528, 568, 567], [528, 529, 569, 568], [529, 530, 570, 569], [530, 531, 571, 570], [531, 532, 572, 571], [532, 533, 573, 572], [533, 534, 574, 573], [534, 535, 575, 574], [535, 536, 576, 575], [536, 537, 577, 576], [537, 538, 578, 577], [538, 539, 579, 578], [539, 540, 580, 579], [540, 541, 581, 580], [541, 542, 582, 581], [542, 543, 583, 582], [543, 544, 584, 583], [544, 545, 585, 584], [545, 546, 586, 585], [546, 547, 587, 586], [547, 548, 588, 587], [548, 549, 589, 588], [549, 550, 590, 589], [550, 551, 591, 590], [551, 552, 592, 591], [552, 553, 593, 592], [553, 554, 594, 593], [554, 555, 595, 594], [555, 556, 596, 595], [556, 557, 597, 596], [557, 558, 598, 597], [558, 559, 599, 598], [561, 560, 600, 601], [560, 562, 602, 600], [562, 563, 603, 602], [563, 564, 604, 603], [564, 565, 605, 604], [565, 566, 606, 605], [566, 567, 607, 606], [567, 568, 608, 607], [568, 569, 609, 608], [569, 570, 610, 609], [570, 571, 611, 610], [571, 572, 612, 611], [572, 573, 613, 612], [573, 574, 614, 613], [574, 575, 615, 614], [575, 576, 616, 615], [576, 577, 617, 616], [577, 578, 618, 617], [578, 579, 619, 618], [579, 580, 620, 619], [580, 581, 621, 620], [581, 582, 622, 621], [582, 583, 623, 622], [583, 584, 624, 623], [584, 585, 625, 624], [585, 586, 626, 625], [586, 587, 627, 626], [587, 588, 628, 627], [588, 589, 629, 628], [589, 590, 630, 629], [590, 591, 631, 630], [591, 592, 632, 631], [592, 593, 633, 632], [593, 594, 634, 633], [594, 595, 635, 634], [595, 596, 636, 635], [596, 597, 637, 636], [597, 598, 638, 637], [598, 599, 639, 638], [601, 600, 640, 641], [600, 602, 642, 640], [602, 603, 643, 642], [603, 604, 644, 643], [604, 605, 645, 644], [605, 606, 646, 645], [606, 607, 647, 646], [607, 608, 648, 647], [608, 609, 649, 648], [609, 610, 650, 649], [610, 611, 651, 650], [611, 612, 652, 651], [612, 613, 653, 652], [613, 614, 654, 653], [614, 615, 655, 654], [615, 616, 656, 655], [616, 617, 657, 656], [617, 618, 658, 657], [618, 619, 659, 658], [619, 620, 660, 659], [620, 621, 661, 660], [621, 622, 662, 661], [622, 623, 663, 662], [623, 624, 664, 663], [624, 625, 665, 664], [625, 626, 666, 665], [626, 627, 667, 666], [627, 628, 668, 667], [628, 629, 669, 668], [629, 630, 670, 669], [630, 631, 671, 670], [631, 632, 672, 671], [632, 633, 673, 672], [633, 634, 674, 673], [634, 635, 675, 674], [635, 636, 676, 675], [636, 637, 677, 676], [637, 638, 678, 677], [638, 639, 679, 678], [641, 640, 680, 681], [640, 642, 682, 680], [642, 643, 683, 682], [643, 644, 684, 683], [644, 645, 685, 684], [645, 646, 686, 685], [646, 647, 687, 686], [647, 648, 688, 687], [648, 649, 689, 688], [649, 650, 690, 689], [650, 651, 691, 690], [651, 652, 692, 691], [652, 653, 693, 692], [653, 654, 694, 693], [654, 655, 695, 694], [655, 656, 696, 695], [656, 657, 697, 696], [657, 658, 698, 697], [658, 659, 699, 698], [659, 660, 700, 699], [660, 661, 701, 700], [661, 662, 702, 701], [662, 663, 703, 702], [663, 664, 704, 703], [664, 665, 705, 704], [665, 666, 706, 705], [666, 667, 707, 706], [667, 668, 708, 707], [668, 669, 709, 708], [669, 670, 710, 709], [670, 671, 711, 710], [671, 672, 712, 711], [672, 673, 713, 712], [673, 674, 714, 713], [674, 675, 715, 714], [675, 676, 716, 715], [676, 677, 717, 716], [677, 678, 718, 717], [678, 679, 719, 718], [681, 680, 720, 721], [680, 682, 722, 720], [682, 683, 723, 722], [683, 684, 724, 723], [684, 685, 725, 724], [685, 686, 726, 725], [686, 687, 727, 726], [687, 688, 728, 727], [688, 689, 729, 728], [689, 690, 730, 729], [690, 691, 731, 730], [691, 692, 732, 731], [692, 693, 733, 732], [693, 694, 734, 733], [694, 695, 735, 734], [695, 696, 736, 735], [696, 697, 737, 736], [697, 698, 738, 737], [698, 699, 739, 738], [699, 700, 740, 739], [700, 701, 741, 740], [701, 702, 742, 741], [702, 703, 743, 742], [703, 704, 744, 743], [704, 705, 745, 744], [705, 706, 746, 745], [706, 707, 747, 746], [707, 708, 748, 747], [708, 709, 749, 748], [709, 710, 750, 749], [710, 711, 751, 750], [711, 712, 752, 751], [712, 713, 753, 752], [713, 714, 754, 753], [714, 715, 755, 754], [715, 716, 756, 755], [716, 717, 757, 756], [717, 718, 758, 757], [718, 719, 759, 758], [721, 720, 760, 761], [720, 722, 762, 760], [722, 723, 763, 762], [723, 724, 764, 763], [724, 725, 765, 764], [725, 726, 766, 765], [726, 727, 767, 766], [727, 728, 768, 767], [728, 729, 769, 768], [729, 730, 770, 769], [730, 731, 771, 770], [731, 732, 772, 771], [732, 733, 773, 772], [733, 734, 774, 773], [734, 735, 775, 774], [735, 736, 776, 775], [736, 737, 777, 776], [737, 738, 778, 777], [738, 739, 779, 778], [739, 740, 780, 779], [740, 741, 781, 780], [741, 742, 782, 781], [742, 743, 783, 782], [743, 744, 784, 783], [744, 745, 785, 784], [745, 746, 786, 785], [746, 747, 787, 786], [747, 748, 788, 787], [748, 749, 789, 788], [749, 750, 790, 789], [750, 751, 791, 790], [751, 752, 792, 791], [752, 753, 793, 792], [753, 754, 794, 793], [754, 755, 795, 794], [755, 756, 796, 795], [756, 757, 797, 796], [757, 758, 798, 797], [758, 759, 799, 798], [761, 760, 800, 801], [760, 762, 802, 800], [762, 763, 803, 802], [763, 764, 804, 803], [764, 765, 805, 804], [765, 766, 806, 805], [766, 767, 807, 806], [767, 768, 808, 807], [768, 769, 809, 808], [769, 770, 810, 809], [770, 771, 811, 810], [771, 772, 812, 811], [772, 773, 813, 812], [773, 774, 814, 813], [774, 775, 815, 814], [775, 776, 816, 815], [776, 777, 817, 816], [777, 778, 818, 817], [778, 779, 819, 818], [779, 780, 820, 819], [780, 781, 821, 820], [781, 782, 822, 821], [782, 783, 823, 822], [783, 784, 824, 823], [784, 785, 825, 824], [785, 786, 826, 825], [786, 787, 827, 826], [787, 788, 828, 827], [788, 789, 829, 828], [789, 790, 830, 829], [790, 791, 831, 830], [791, 792, 832, 831], [792, 793, 833, 832], [793, 794, 834, 833], [794, 795, 835, 834], [795, 796, 836, 835], [796, 797, 837, 836], [797, 798, 838, 837], [798, 799, 839, 838], [801, 800, 840, 841], [800, 802, 842, 840], [802, 803, 843, 842], [803, 804, 844, 843], [804, 805, 845, 844], [805, 806, 846, 845], [806, 807, 847, 846], [807, 808, 848, 847], [808, 809, 849, 848], [809, 810, 850, 849], [810, 811, 851, 850], [811, 812, 852, 851], [812, 813, 853, 852], [813, 814, 854, 853], [814, 815, 855, 854], [815, 816, 856, 855], [816, 817, 857, 856], [817, 818, 858, 857], [818, 819, 859, 858], [819, 820, 860, 859], [820, 821, 861, 860], [821, 822, 862, 861], [822, 823, 863, 862], [823, 824, 864, 863], [824, 825, 865, 864], [825, 826, 866, 865], [826, 827, 867, 866], [827, 828, 868, 867], [828, 829, 869, 868], [829, 830, 870, 869], [830, 831, 871, 870], [831, 832, 872, 871], [832, 833, 873, 872], [833, 834, 874, 873], [834, 835, 875, 874], [835, 836, 876, 875], [836, 837, 877, 876], [837, 838, 878, 877], [838, 839, 879, 878], [841, 840, 880, 881], [840, 842, 882, 880], [842, 843, 883, 882], [843, 844, 884, 883], [844, 845, 885, 884], [845, 846, 886, 885], [846, 847, 887, 886], [847, 848, 888, 887], [848, 849, 889, 888], [849, 850, 890, 889], [850, 851, 891, 890], [851, 852, 892, 891], [852, 853, 893, 892], [853, 854, 894, 893], [854, 855, 895, 894], [855, 856, 896, 895], [856, 857, 897, 896], [857, 858, 898, 897], [858, 859, 899, 898], [859, 860, 900, 899], [860, 861, 901, 900], [861, 862, 902, 901], [862, 863, 903, 902], [863, 864, 904, 903], [864, 865, 905, 904], [865, 866, 906, 905], [866, 867, 907, 906], [867, 868, 908, 907], [868, 869, 909, 908], [869, 870, 910, 909], [870, 871, 911, 910], [871, 872, 912, 911], [872, 873, 913, 912], [873, 874, 914, 913], [874, 875, 915, 914], [875, 876, 916, 915], [876, 877, 917, 916], [877, 878, 918, 917], [878, 879, 919, 918], [881, 880, 920, 921], [880, 882, 922, 920], [882, 883, 923, 922], [883, 884, 924, 923], [884, 885, 925, 924], [885, 886, 926, 925], [886, 887, 927, 926], [887, 888, 928, 927], [888, 889, 929, 928], [889, 890, 930, 929], [890, 891, 931, 930], [891, 892, 932, 931], [892, 893, 933, 932], [893, 894, 934, 933], [894, 895, 935, 934], [895, 896, 936, 935], [896, 897, 937, 936], [897, 898, 938, 937], [898, 899, 939, 938], [899, 900, 940, 939], [900, 901, 941, 940], [901, 902, 942, 941], [902, 903, 943, 942], [903, 904, 944, 943], [904, 905, 945, 944], [905, 906, 946, 945], [906, 907, 947, 946], [907, 908, 948, 947], [908, 909, 949, 948], [909, 910, 950, 949], [910, 911, 951, 950], [911, 912, 952, 951], [912, 913, 953, 952], [913, 914, 954, 953], [914, 915, 955, 954], [915, 916, 956, 955], [916, 917, 957, 956], [917, 918, 958, 957], [918, 919, 959, 958], [921, 920, 960, 961], [920, 922, 962, 960], [922, 923, 963, 962], [923, 924, 964, 963], [924, 925, 965, 964], [925, 926, 966, 965], [926, 927, 967, 966], [927, 928, 968, 967], [928, 929, 969, 968], [929, 930, 970, 969], [930, 931, 971, 970], [931, 932, 972, 971], [932, 933, 973, 972], [933, 934, 974, 973], [934, 935, 975, 974], [935, 936, 976, 975], [936, 937, 977, 976], [937, 938, 978, 977], [938, 939, 979, 978], [939, 940, 980, 979], [940, 941, 981, 980], [941, 942, 982, 981], [942, 943, 983, 982], [943, 944, 984, 983], [944, 945, 985, 984], [945, 946, 986, 985], [946, 947, 987, 986], [947, 948, 988, 987], [948, 949, 989, 988], [949, 950, 990, 989], [950, 951, 991, 990], [951, 952, 992, 991], [952, 953, 993, 992], [953, 954, 994, 993], [954, 955, 995, 994], [955, 956, 996, 995], [956, 957, 997, 996], [957, 958, 998, 997], [958, 959, 999, 998], [961, 960, 1000, 1001], [960, 962, 1002, 1000], [962, 963, 1003, 1002], [963, 964, 1004, 1003], [964, 965, 1005, 1004], [965, 966, 1006, 1005], [966, 967, 1007, 1006], [967, 968, 1008, 1007], [968, 969, 1009, 1008], [969, 970, 1010, 1009], [970, 971, 1011, 1010], [971, 972, 1012, 1011], [972, 973, 1013, 1012], [973, 974, 1014, 1013], [974, 975, 1015, 1014], [975, 976, 1016, 1015], [976, 977, 1017, 1016], [977, 978, 1018, 1017], [978, 979, 1019, 1018], [979, 980, 1020, 1019], [980, 981, 1021, 1020], [981, 982, 1022, 1021], [982, 983, 1023, 1022], [983, 984, 1024, 1023], [984, 985, 1025, 1024], [985, 986, 1026, 1025], [986, 987, 1027, 1026], [987, 988, 1028, 1027], [988, 989, 1029, 1028], [989, 990, 1030, 1029], [990, 991, 1031, 1030], [991, 992, 1032, 1031], [992, 993, 1033, 1032], [993, 994, 1034, 1033], [994, 995, 1035, 1034], [995, 996, 1036, 1035], [996, 997, 1037, 1036], [997, 998, 1038, 1037], [998, 999, 1039, 1038], [1001, 1000, 1040, 1041], [1000, 1002, 1042, 1040], [1002, 1003, 1043, 1042], [1003, 1004, 1044, 1043], [1004, 1005, 1045, 1044], [1005, 1006, 1046, 1045], [1006, 1007, 1047, 1046], [1007, 1008, 1048, 1047], [1008, 1009, 1049, 1048], [1009, 1010, 1050, 1049], [1010, 1011, 1051, 1050], [1011, 1012, 1052, 1051], [1012, 1013, 1053, 1052], [1013, 1014, 1054, 1053], [1014, 1015, 1055, 1054], [1015, 1016, 1056, 1055], [1016, 1017, 1057, 1056], [1017, 1018, 1058, 1057], [1018, 1019, 1059, 1058], [1019, 1020, 1060, 1059], [1020, 1021, 1061, 1060], [1021, 1022, 1062, 1061], [1022, 1023, 1063, 1062], [1023, 1024, 1064, 1063], [1024, 1025, 1065, 1064], [1025, 1026, 1066, 1065], [1026, 1027, 1067, 1066], [1027, 1028, 1068, 1067], [1028, 1029, 1069, 1068], [1029, 1030, 1070, 1069], [1030, 1031, 1071, 1070], [1031, 1032, 1072, 1071], [1032, 1033, 1073, 1072], [1033, 1034, 1074, 1073], [1034, 1035, 1075, 1074], [1035, 1036, 1076, 1075], [1036, 1037, 1077, 1076], [1037, 1038, 1078, 1077], [1038, 1039, 1079, 1078], [1041, 1040, 1080, 1081], [1040, 1042, 1082, 1080], [1042, 1043, 1083, 1082], [1043, 1044, 1084, 1083], [1044, 1045, 1085, 1084], [1045, 1046, 1086, 1085], [1046, 1047, 1087, 1086], [1047, 1048, 1088, 1087], [1048, 1049, 1089, 1088], [1049, 1050, 1090, 1089], [1050, 1051, 1091, 1090], [1051, 1052, 1092, 1091], [1052, 1053, 1093, 1092], [1053, 1054, 1094, 1093], [1054, 1055, 1095, 1094], [1055, 1056, 1096, 1095], [1056, 1057, 1097, 1096], [1057, 1058, 1098, 1097], [1058, 1059, 1099, 1098], [1059, 1060, 1100, 1099], [1060, 1061, 1101, 1100], [1061, 1062, 1102, 1101], [1062, 1063, 1103, 1102], [1063, 1064, 1104, 1103], [1064, 1065, 1105, 1104], [1065, 1066, 1106, 1105], [1066, 1067, 1107, 1106], [1067, 1068, 1108, 1107], [1068, 1069, 1109, 1108], [1069, 1070, 1110, 1109], [1070, 1071, 1111, 1110], [1071, 1072, 1112, 1111], [1072, 1073, 1113, 1112], [1073, 1074, 1114, 1113], [1074, 1075, 1115, 1114], [1075, 1076, 1116, 1115], [1076, 1077, 1117, 1116], [1077, 1078, 1118, 1117], [1078, 1079, 1119, 1118], [1081, 1080, 1120, 1121], [1080, 1082, 1122, 1120], [1082, 1083, 1123, 1122], [1083, 1084, 1124, 1123], [1084, 1085, 1125, 1124], [1085, 1086, 1126, 1125], [1086, 1087, 1127, 1126], [1087, 1088, 1128, 1127], [1088, 1089, 1129, 1128], [1089, 1090, 1130, 1129], [1090, 1091, 1131, 1130], [1091, 1092, 1132, 1131], [1092, 1093, 1133, 1132], [1093, 1094, 1134, 1133], [1094, 1095, 1135, 1134], [1095, 1096, 1136, 1135], [1096, 1097, 1137, 1136], [1097, 1098, 1138, 1137], [1098, 1099, 1139, 1138], [1099, 1100, 1140, 1139], [1100, 1101, 1141, 1140], [1101, 1102, 1142, 1141], [1102, 1103, 1143, 1142], [1103, 1104, 1144, 1143], [1104, 1105, 1145, 1144], [1105, 1106, 1146, 1145], [1106, 1107, 1147, 1146], [1107, 1108, 1148, 1147], [1108, 1109, 1149, 1148], [1109, 1110, 1150, 1149], [1110, 1111, 1151, 1150], [1111, 1112, 1152, 1151], [1112, 1113, 1153, 1152], [1113, 1114, 1154, 1153], [1114, 1115, 1155, 1154], [1115, 1116, 1156, 1155], [1116, 1117, 1157, 1156], [1117, 1118, 1158, 1157], [1118, 1119, 1159, 1158], [1121, 1120, 1160, 1161], [1120, 1122, 1162, 1160], [1122, 1123, 1163, 1162], [1123, 1124, 1164, 1163], [1124, 1125, 1165, 1164], [1125, 1126, 1166, 1165], [1126, 1127, 1167, 1166], [1127, 1128, 1168, 1167], [1128, 1129, 1169, 1168], [1129, 1130, 1170, 1169], [1130, 1131, 1171, 1170], [1131, 1132, 1172, 1171], [1132, 1133, 1173, 1172], [1133, 1134, 1174, 1173], [1134, 1135, 1175, 1174], [1135, 1136, 1176, 1175], [1136, 1137, 1177, 1176], [1137, 1138, 1178, 1177], [1138, 1139, 1179, 1178], [1139, 1140, 1180, 1179], [1140, 1141, 1181, 1180], [1141, 1142, 1182, 1181], [1142, 1143, 1183, 1182], [1143, 1144, 1184, 1183], [1144, 1145, 1185, 1184], [1145, 1146, 1186, 1185], [1146, 1147, 1187, 1186], [1147, 1148, 1188, 1187], [1148, 1149, 1189, 1188], [1149, 1150, 1190, 1189], [1150, 1151, 1191, 1190], [1151, 1152, 1192, 1191], [1152, 1153, 1193, 1192], [1153, 1154, 1194, 1193], [1154, 1155, 1195, 1194], [1155, 1156, 1196, 1195], [1156, 1157, 1197, 1196], [1157, 1158, 1198, 1197], [1158, 1159, 1199, 1198], [1161, 1160, 1200, 1201], [1160, 1162, 1202, 1200], [1162, 1163, 1203, 1202], [1163, 1164, 1204, 1203], [1164, 1165, 1205, 1204], [1165, 1166, 1206, 1205], [1166, 1167, 1207, 1206], [1167, 1168, 1208, 1207], [1168, 1169, 1209, 1208], [1169, 1170, 1210, 1209], [1170, 1171, 1211, 1210], [1171, 1172, 1212, 1211], [1172, 1173, 1213, 1212], [1173, 1174, 1214, 1213], [1174, 1175, 1215, 1214], [1175, 1176, 1216, 1215], [1176, 1177, 1217, 1216], [1177, 1178, 1218, 1217], [1178, 1179, 1219, 1218], [1179, 1180, 1220, 1219], [1180, 1181, 1221, 1220], [1181, 1182, 1222, 1221], [1182, 1183, 1223, 1222], [1183, 1184, 1224, 1223], [1184, 1185, 1225, 1224], [1185, 1186, 1226, 1225], [1186, 1187, 1227, 1226], [1187, 1188, 1228, 1227], [1188, 1189, 1229, 1228], [1189, 1190, 1230, 1229], [1190, 1191, 1231, 1230], [1191, 1192, 1232, 1231], [1192, 1193, 1233, 1232], [1193, 1194, 1234, 1233], [1194, 1195, 1235, 1234], [1195, 1196, 1236, 1235], [1196, 1197, 1237, 1236], [1197, 1198, 1238, 1237], [1198, 1199, 1239, 1238], [1201, 1200, 1240, 1241], [1200, 1202, 1242, 1240], [1202, 1203, 1243, 1242], [1203, 1204, 1244, 1243], [1204, 1205, 1245, 1244], [1205, 1206, 1246, 1245], [1206, 1207, 1247, 1246], [1207, 1208, 1248, 1247], [1208, 1209, 1249, 1248], [1209, 1210, 1250, 1249], [1210, 1211, 1251, 1250], [1211, 1212, 1252, 1251], [1212, 1213, 1253, 1252], [1213, 1214, 1254, 1253], [1214, 1215, 1255, 1254], [1215, 1216, 1256, 1255], [1216, 1217, 1257, 1256], [1217, 1218, 1258, 1257], [1218, 1219, 1259, 1258], [1219, 1220, 1260, 1259], [1220, 1221, 1261, 1260], [1221, 1222, 1262, 1261], [1222, 1223, 1263, 1262], [1223, 1224, 1264, 1263], [1224, 1225, 1265, 1264], [1225, 1226, 1266, 1265], [1226, 1227, 1267, 1266], [1227, 1228, 1268, 1267], [1228, 1229, 1269, 1268], [1229, 1230, 1270, 1269], [1230, 1231, 1271, 1270], [1231, 1232, 1272, 1271], [1232, 1233, 1273, 1272], [1233, 1234, 1274, 1273], [1234, 1235, 1275, 1274], [1235, 1236, 1276, 1275], [1236, 1237, 1277, 1276], [1237, 1238, 1278, 1277], [1238, 1239, 1279, 1278], [1241, 1240, 1280, 1281], [1240, 1242, 1282, 1280], [1242, 1243, 1283, 1282], [1243, 1244, 1284, 1283], [1244, 1245, 1285, 1284], [1245, 1246, 1286, 1285], [1246, 1247, 1287, 1286], [1247, 1248, 1288, 1287], [1248, 1249, 1289, 1288], [1249, 1250, 1290, 1289], [1250, 1251, 1291, 1290], [1251, 1252, 1292, 1291], [1252, 1253, 1293, 1292], [1253, 1254, 1294, 1293], [1254, 1255, 1295, 1294], [1255, 1256, 1296, 1295], [1256, 1257, 1297, 1296], [1257, 1258, 1298, 1297], [1258, 1259, 1299, 1298], [1259, 1260, 1300, 1299], [1260, 1261, 1301, 1300], [1261, 1262, 1302, 1301], [1262, 1263, 1303, 1302], [1263, 1264, 1304, 1303], [1264, 1265, 1305, 1304], [1265, 1266, 1306, 1305], [1266, 1267, 1307, 1306], [1267, 1268, 1308, 1307], [1268, 1269, 1309, 1308], [1269, 1270, 1310, 1309], [1270, 1271, 1311, 1310], [1271, 1272, 1312, 1311], [1272, 1273, 1313, 1312], [1273, 1274, 1314, 1313], [1274, 1275, 1315, 1314], [1275, 1276, 1316, 1315], [1276, 1277, 1317, 1316], [1277, 1278, 1318, 1317], [1278, 1279, 1319, 1318], [1281, 1280, 1320, 1321], [1280, 1282, 1322, 1320], [1282, 1283, 1323, 1322], [1283, 1284, 1324, 1323], [1284, 1285, 1325, 1324], [1285, 1286, 1326, 1325], [1286, 1287, 1327, 1326], [1287, 1288, 1328, 1327], [1288, 1289, 1329, 1328], [1289, 1290, 1330, 1329], [1290, 1291, 1331, 1330], [1291, 1292, 1332, 1331], [1292, 1293, 1333, 1332], [1293, 1294, 1334, 1333], [1294, 1295, 1335, 1334], [1295, 1296, 1336, 1335], [1296, 1297, 1337, 1336], [1297, 1298, 1338, 1337], [1298, 1299, 1339, 1338], [1299, 1300, 1340, 1339], [1300, 1301, 1341, 1340], [1301, 1302, 1342, 1341], [1302, 1303, 1343, 1342], [1303, 1304, 1344, 1343], [1304, 1305, 1345, 1344], [1305, 1306, 1346, 1345], [1306, 1307, 1347, 1346], [1307, 1308, 1348, 1347], [1308, 1309, 1349, 1348], [1309, 1310, 1350, 1349], [1310, 1311, 1351, 1350], [1311, 1312, 1352, 1351], [1312, 1313, 1353, 1352], [1313, 1314, 1354, 1353], [1314, 1315, 1355, 1354], [1315, 1316, 1356, 1355], [1316, 1317, 1357, 1356], [1317, 1318, 1358, 1357], [1318, 1319, 1359, 1358], [1321, 1320, 1360, 1361], [1320, 1322, 1362, 1360], [1322, 1323, 1363, 1362], [1323, 1324, 1364, 1363], [1324, 1325, 1365, 1364], [1325, 1326, 1366, 1365], [1326, 1327, 1367, 1366], [1327, 1328, 1368, 1367], [1328, 1329, 1369, 1368], [1329, 1330, 1370, 1369], [1330, 1331, 1371, 1370], [1331, 1332, 1372, 1371], [1332, 1333, 1373, 1372], [1333, 1334, 1374, 1373], [1334, 1335, 1375, 1374], [1335, 1336, 1376, 1375], [1336, 1337, 1377, 1376], [1337, 1338, 1378, 1377], [1338, 1339, 1379, 1378], [1339, 1340, 1380, 1379], [1340, 1341, 1381, 1380], [1341, 1342, 1382, 1381], [1342, 1343, 1383, 1382], [1343, 1344, 1384, 1383], [1344, 1345, 1385, 1384], [1345, 1346, 1386, 1385], [1346, 1347, 1387, 1386], [1347, 1348, 1388, 1387], [1348, 1349, 1389, 1388], [1349, 1350, 1390, 1389], [1350, 1351, 1391, 1390], [1351, 1352, 1392, 1391], [1352, 1353, 1393, 1392], [1353, 1354, 1394, 1393], [1354, 1355, 1395, 1394], [1355, 1356, 1396, 1395], [1356, 1357, 1397, 1396], [1357, 1358, 1398, 1397], [1358, 1359, 1399, 1398], [1361, 1360, 1400, 1401], [1360, 1362, 1402, 1400], [1362, 1363, 1403, 1402], [1363, 1364, 1404, 1403], [1364, 1365, 1405, 1404], [1365, 1366, 1406, 1405], [1366, 1367, 1407, 1406], [1367, 1368, 1408, 1407], [1368, 1369, 1409, 1408], [1369, 1370, 1410, 1409], [1370, 1371, 1411, 1410], [1371, 1372, 1412, 1411], [1372, 1373, 1413, 1412], [1373, 1374, 1414, 1413], [1374, 1375, 1415, 1414], [1375, 1376, 1416, 1415], [1376, 1377, 1417, 1416], [1377, 1378, 1418, 1417], [1378, 1379, 1419, 1418], [1379, 1380, 1420, 1419], [1380, 1381, 1421, 1420], [1381, 1382, 1422, 1421], [1382, 1383, 1423, 1422], [1383, 1384, 1424, 1423], [1384, 1385, 1425, 1424], [1385, 1386, 1426, 1425], [1386, 1387, 1427, 1426], [1387, 1388, 1428, 1427], [1388, 1389, 1429, 1428], [1389, 1390, 1430, 1429], [1390, 1391, 1431, 1430], [1391, 1392, 1432, 1431], [1392, 1393, 1433, 1432], [1393, 1394, 1434, 1433], [1394, 1395, 1435, 1434], [1395, 1396, 1436, 1435], [1396, 1397, 1437, 1436], [1397, 1398, 1438, 1437], [1398, 1399, 1439, 1438], [1401, 1400, 1440, 1441], [1400, 1402, 1442, 1440], [1402, 1403, 1443, 1442], [1403, 1404, 1444, 1443], [1404, 1405, 1445, 1444], [1405, 1406, 1446, 1445], [1406, 1407, 1447, 1446], [1407, 1408, 1448, 1447], [1408, 1409, 1449, 1448], [1409, 1410, 1450, 1449], [1410, 1411, 1451, 1450], [1411, 1412, 1452, 1451], [1412, 1413, 1453, 1452], [1413, 1414, 1454, 1453], [1414, 1415, 1455, 1454], [1415, 1416, 1456, 1455], [1416, 1417, 1457, 1456], [1417, 1418, 1458, 1457], [1418, 1419, 1459, 1458], [1419, 1420, 1460, 1459], [1420, 1421, 1461, 1460], [1421, 1422, 1462, 1461], [1422, 1423, 1463, 1462], [1423, 1424, 1464, 1463], [1424, 1425, 1465, 1464], [1425, 1426, 1466, 1465], [1426, 1427, 1467, 1466], [1427, 1428, 1468, 1467], [1428, 1429, 1469, 1468], [1429, 1430, 1470, 1469], [1430, 1431, 1471, 1470], [1431, 1432, 1472, 1471], [1432, 1433, 1473, 1472], [1433, 1434, 1474, 1473], [1434, 1435, 1475, 1474], [1435, 1436, 1476, 1475], [1436, 1437, 1477, 1476], [1437, 1438, 1478, 1477], [1438, 1439, 1479, 1478], [1441, 1440, 1480, 1481], [1440, 1442, 1482, 1480], [1442, 1443, 1483, 1482], [1443, 1444, 1484, 1483], [1444, 1445, 1485, 1484], [1445, 1446, 1486, 1485], [1446, 1447, 1487, 1486], [1447, 1448, 1488, 1487], [1448, 1449, 1489, 1488], [1449, 1450, 1490, 1489], [1450, 1451, 1491, 1490], [1451, 1452, 1492, 1491], [1452, 1453, 1493, 1492], [1453, 1454, 1494, 1493], [1454, 1455, 1495, 1494], [1455, 1456, 1496, 1495], [1456, 1457, 1497, 1496], [1457, 1458, 1498, 1497], [1458, 1459, 1499, 1498], [1459, 1460, 1500, 1499], [1460, 1461, 1501, 1500], [1461, 1462, 1502, 1501], [1462, 1463, 1503, 1502], [1463, 1464, 1504, 1503], [1464, 1465, 1505, 1504], [1465, 1466, 1506, 1505], [1466, 1467, 1507, 1506], [1467, 1468, 1508, 1507], [1468, 1469, 1509, 1508], [1469, 1470, 1510, 1509], [1470, 1471, 1511, 1510], [1471, 1472, 1512, 1511], [1472, 1473, 1513, 1512], [1473, 1474, 1514, 1513], [1474, 1475, 1515, 1514], [1475, 1476, 1516, 1515], [1476, 1477, 1517, 1516], [1477, 1478, 1518, 1517], [1478, 1479, 1519, 1518], [1481, 1480, 1520, 1521], [1480, 1482, 1522, 1520], [1482, 1483, 1523, 1522], [1483, 1484, 1524, 1523], [1484, 1485, 1525, 1524], [1485, 1486, 1526, 1525], [1486, 1487, 1527, 1526], [1487, 1488, 1528, 1527], [1488, 1489, 1529, 1528], [1489, 1490, 1530, 1529], [1490, 1491, 1531, 1530], [1491, 1492, 1532, 1531], [1492, 1493, 1533, 1532], [1493, 1494, 1534, 1533], [1494, 1495, 1535, 1534], [1495, 1496, 1536, 1535], [1496, 1497, 1537, 1536], [1497, 1498, 1538, 1537], [1498, 1499, 1539, 1538], [1499, 1500, 1540, 1539], [1500, 1501, 1541, 1540], [1501, 1502, 1542, 1541], [1502, 1503, 1543, 1542], [1503, 1504, 1544, 1543], [1504, 1505, 1545, 1544], [1505, 1506, 1546, 1545], [1506, 1507, 1547, 1546], [1507, 1508, 1548, 1547], [1508, 1509, 1549, 1548], [1509, 1510, 1550, 1549], [1510, 1511, 1551, 1550], [1511, 1512, 1552, 1551], [1512, 1513, 1553, 1552], [1513, 1514, 1554, 1553], [1514, 1515, 1555, 1554], [1515, 1516, 1556, 1555], [1516, 1517, 1557, 1556], [1517, 1518, 1558, 1557], [1518, 1519, 1559, 1558], [1521, 1520, 1560, 1561], [1520, 1522, 1562, 1560], [1522, 1523, 1563, 1562], [1523, 1524, 1564, 1563], [1524, 1525, 1565, 1564], [1525, 1526, 1566, 1565], [1526, 1527, 1567, 1566], [1527, 1528, 1568, 1567], [1528, 1529, 1569, 1568], [1529, 1530, 1570, 1569], [1530, 1531, 1571, 1570], [1531, 1532, 1572, 1571], [1532, 1533, 1573, 1572], [1533, 1534, 1574, 1573], [1534, 1535, 1575, 1574], [1535, 1536, 1576, 1575], [1536, 1537, 1577, 1576], [1537, 1538, 1578, 1577], [1538, 1539, 1579, 1578], [1539, 1540, 1580, 1579], [1540, 1541, 1581, 1580], [1541, 1542, 1582, 1581], [1542, 1543, 1583, 1582], [1543, 1544, 1584, 1583], [1544, 1545, 1585, 1584], [1545, 1546, 1586, 1585], [1546, 1547, 1587, 1586], [1547, 1548, 1588, 1587], [1548, 1549, 1589, 1588], [1549, 1550, 1590, 1589], [1550, 1551, 1591, 1590], [1551, 1552, 1592, 1591], [1552, 1553, 1593, 1592], [1553, 1554, 1594, 1593], [1554, 1555, 1595, 1594], [1555, 1556, 1596, 1595], [1556, 1557, 1597, 1596], [1557, 1558, 1598, 1597], [1558, 1559, 1599, 1598]], &quot;color&quot;: &quot;#6666ff&quot;, &quot;opacity&quot;: 1.0}];\n",
       "    for ( var i=0 ; i &lt; surfaces.length ; i++ ) addSurface( surfaces[i] );\n",
       "\n",
       "    function addSurface( json ) {\n",
       "\n",
       "        var useFaceColors = &#x27;faceColors&#x27; in json ? true : false;\n",
       "\n",
       "        var geometry = new THREE.Geometry();\n",
       "        for ( var i=0 ; i &lt; json.vertices.length ; i++ ) {\n",
       "            var v = json.vertices[i];\n",
       "            geometry.vertices.push( new THREE.Vector3( a[0]*v.x, a[1]*v.y, a[2]*v.z ) );\n",
       "        }\n",
       "        for ( var i=0 ; i &lt; json.faces.length ; i++ ) {\n",
       "            var f = json.faces[i];\n",
       "            for ( var j=0 ; j &lt; f.length - 2 ; j++ ) {\n",
       "                var face = new THREE.Face3( f[0], f[j+1], f[j+2] );\n",
       "                if ( useFaceColors ) face.color.set( json.faceColors[i] );\n",
       "                geometry.faces.push( face );\n",
       "            }\n",
       "        }\n",
       "        geometry.computeVertexNormals();\n",
       "\n",
       "        var side = json.singleSide ? THREE.FrontSide : THREE.DoubleSide;\n",
       "        var transparent = json.opacity &lt; 1 ? true : false;\n",
       "        var depthWrite = &#x27;depthWrite&#x27; in json ? json.depthWrite : !transparent;\n",
       "        var flatShading = json.useFlatShading ? json.useFlatShading : false;\n",
       "\n",
       "        var material = new THREE.MeshPhongMaterial( { side: side,\n",
       "                                     color: useFaceColors ? &#x27;white&#x27; : json.color,\n",
       "                                     vertexColors: useFaceColors ? THREE.FaceColors : THREE.NoColors,\n",
       "                                     transparent: transparent, opacity: json.opacity,\n",
       "                                     shininess: 20, flatShading: flatShading,\n",
       "                                     depthWrite: depthWrite } );\n",
       "\n",
       "        var c = new THREE.Vector3();\n",
       "        geometry.computeBoundingBox();\n",
       "        geometry.boundingBox.getCenter( c );\n",
       "        geometry.translate( -c.x, -c.y, -c.z );\n",
       "\n",
       "        var mesh = new THREE.Mesh( geometry, material );\n",
       "        mesh.position.set( c.x, c.y, c.z );\n",
       "        if ( transparent &amp;&amp; json.renderOrder ) mesh.renderOrder = json.renderOrder;\n",
       "        mesh.userData = json;\n",
       "        scene.add( mesh );\n",
       "\n",
       "        if ( json.showMeshGrid ) addSurfaceMeshGrid( json );\n",
       "\n",
       "    }\n",
       "\n",
       "    function addSurfaceMeshGrid( json ) {\n",
       "\n",
       "        var geometry = new THREE.Geometry();\n",
       "\n",
       "        for ( var i=0 ; i &lt; json.faces.length ; i++ ) {\n",
       "            var f = json.faces[i];\n",
       "            for ( var j=0 ; j &lt; f.length ; j++ ) {\n",
       "                var k = j === f.length-1 ? 0 : j+1;\n",
       "                var v1 = json.vertices[f[j]];\n",
       "                var v2 = json.vertices[f[k]];\n",
       "                // vertices in opposite directions on neighboring faces\n",
       "                var nudge = f[j] &lt; f[k] ? .0005*zRange : -.0005*zRange;\n",
       "                geometry.vertices.push( new THREE.Vector3( a[0]*v1.x, a[1]*v1.y, a[2]*(v1.z+nudge) ) );\n",
       "                geometry.vertices.push( new THREE.Vector3( a[0]*v2.x, a[1]*v2.y, a[2]*(v2.z+nudge) ) );\n",
       "            }\n",
       "        }\n",
       "\n",
       "        var c = new THREE.Vector3();\n",
       "        geometry.computeBoundingBox();\n",
       "        geometry.boundingBox.getCenter( c );\n",
       "        geometry.translate( -c.x, -c.y, -c.z );\n",
       "\n",
       "        var gridColor = options.theme === &#x27;dark&#x27; ? &#x27;white&#x27; : &#x27;black&#x27;;\n",
       "        var linewidth = json.linewidth || 1;\n",
       "        var materialOptions = { color: gridColor, linewidth: linewidth };\n",
       "\n",
       "        var mesh;\n",
       "        if ( linewidth &gt; 1 &amp;&amp; window.createFatLineSegments ) {\n",
       "            mesh = createFatLineSegments( geometry, materialOptions );\n",
       "        } else {\n",
       "            var material = new THREE.LineBasicMaterial( materialOptions );\n",
       "            mesh = new THREE.LineSegments( geometry, material );\n",
       "        }\n",
       "\n",
       "        mesh.position.set( c.x, c.y, c.z );\n",
       "        mesh.userData = json;\n",
       "        scene.add( mesh );\n",
       "\n",
       "    }\n",
       "\n",
       "    function render() {\n",
       "\n",
       "        if ( window.updateAnimation ) animate = updateAnimation();\n",
       "        if ( animate ) requestAnimationFrame( render );\n",
       "\n",
       "        renderer.render( scene, camera );\n",
       "\n",
       "    }\n",
       "\n",
       "    render();\n",
       "    controls.update();\n",
       "    if ( !animate ) render();\n",
       "\n",
       "\n",
       "    // menu functions\n",
       "\n",
       "    function toggleMenu() {\n",
       "\n",
       "        var m = document.getElementById( &#x27;menu-content&#x27; );\n",
       "        if ( m.style.display === &#x27;block&#x27; ) m.style.display = &#x27;none&#x27;\n",
       "        else m.style.display = &#x27;block&#x27;;\n",
       "\n",
       "    }\n",
       "\n",
       "\n",
       "    function saveAsPNG() {\n",
       "\n",
       "        var a = document.body.appendChild( document.createElement( &#x27;a&#x27; ) );\n",
       "        a.href = renderer.domElement.toDataURL( &#x27;image/png&#x27; );\n",
       "        a.download = &#x27;screenshot&#x27;;\n",
       "        a.click();\n",
       "\n",
       "    }\n",
       "\n",
       "    function saveAsHTML() {\n",
       "\n",
       "        toggleMenu(); // otherwise visible in output\n",
       "        event.stopPropagation();\n",
       "\n",
       "        var blob = new Blob( [ &#x27;&lt;!DOCTYPE html&gt;\\n&#x27; + document.documentElement.outerHTML ] );\n",
       "        var a = document.body.appendChild( document.createElement( &#x27;a&#x27; ) );\n",
       "        a.href = window.URL.createObjectURL( blob );\n",
       "        a.download = suggestFilename();\n",
       "        a.click();\n",
       "\n",
       "        function suggestFilename() {\n",
       "            if ( !document.title ) {\n",
       "                return &#x27;graphic.html&#x27;;\n",
       "            } else if ( /\\.html?$/i.test( document.title ) ) {\n",
       "                return document.title; // already ends in .htm or .html\n",
       "            } else {\n",
       "                return document.title + &#x27;.html&#x27;;\n",
       "            }\n",
       "        }\n",
       "\n",
       "    }\n",
       "\n",
       "    function getViewpoint() {\n",
       "\n",
       "        function roundTo( x, n ) { return +x.toFixed(n); }\n",
       "\n",
       "        var v = camera.quaternion.inverse();\n",
       "        var r = Math.sqrt( v.x*v.x + v.y*v.y + v.z*v.z );\n",
       "        var axis = [ roundTo( v.x / r, 4 ), roundTo( v.y / r, 4 ), roundTo( v.z / r, 4 ) ];\n",
       "        var angle = roundTo( 2 * Math.atan2( r, v.w ) * 180 / Math.PI, 2 );\n",
       "\n",
       "        var textArea = document.createElement( &#x27;textarea&#x27; );\n",
       "        textArea.textContent = JSON.stringify( axis ) + &#x27;,&#x27; + angle;\n",
       "        textArea.style.csstext = &#x27;position: absolute; top: -100%&#x27;;\n",
       "        document.body.append( textArea );\n",
       "        textArea.select();\n",
       "        document.execCommand( &#x27;copy&#x27; );\n",
       "\n",
       "        var m = document.getElementById( &#x27;menu-message&#x27; );\n",
       "        m.innerHTML = &#x27;Viewpoint copied to clipboard&#x27;;\n",
       "        m.style.display = &#x27;block&#x27;;\n",
       "        setTimeout( function() { m.style.display = &#x27;none&#x27;; }, 2000 );\n",
       "\n",
       "    }\n",
       "\n",
       "    function getCamera() {\n",
       "\n",
       "        function roundTo( x, n ) { return +x.toFixed(n); }\n",
       "\n",
       "        var pos = camera.position;\n",
       "        var pos_r = [ roundTo( pos.x, 4 ), roundTo( pos.y, 4 ), roundTo( pos.z, 4 ) ];\n",
       "   //     var up = camera.up; // up is always (0,0,1)\n",
       "        var textArea = document.createElement(&#x27;textarea&#x27;);\n",
       "        var cam_position = JSON.stringify(pos_r);\n",
       "        textArea.textContent = &#x27;,camera_position=&#x27; + cam_position;\n",
       "        textArea.style.csstext = &#x27;position: absolute; top: -100%&#x27;;\n",
       "        document.body.append( textArea );\n",
       "        textArea.select();\n",
       "        document.execCommand( &#x27;copy&#x27; );\n",
       "\n",
       "        var m = document.getElementById( &#x27;menu-message&#x27; );\n",
       "        m.innerHTML = &#x27;Camera position &#x27;+ cam_position+&#x27; copied to clipboard&#x27;;\n",
       "        m.style.display = &#x27;block&#x27;;\n",
       "        setTimeout( function() { m.style.display = &#x27;none&#x27;; }, 2000 );\n",
       "\n",
       "    }\n",
       "\n",
       "&lt;/script&gt;\n",
       "\n",
       "&lt;div id=&quot;menu-container&quot; onclick=&quot;toggleMenu()&quot;&gt;&amp;#x24d8;\n",
       "&lt;div id=&quot;menu-message&quot;&gt;&lt;/div&gt;\n",
       "&lt;div id=&quot;menu-content&quot;&gt;\n",
       "&lt;div onclick=&quot;saveAsPNG()&quot;&gt;Save as PNG&lt;/div&gt;\n",
       "&lt;div onclick=&quot;saveAsHTML()&quot;&gt;Save as HTML&lt;/div&gt;\n",
       "&lt;div onclick=&quot;getCamera()&quot;&gt;Get camera&lt;/div&gt;\n",
       "&lt;div onclick=&quot;getViewpoint()&quot;&gt;Get viewpoint&lt;/div&gt;\n",
       "&lt;div&gt;Close Menu&lt;/div&gt;\n",
       "&lt;/div&gt;&lt;/div&gt;\n",
       "\n",
       "\n",
       "&lt;/body&gt;\n",
       "&lt;/html&gt;\n",
       "\"\n",
       "        width=\"100%\"\n",
       "        height=\"400\"\n",
       "        style=\"border: 0;\">\n",
       "</iframe>\n"
      ],
      "text/plain": [
       "Graphics3d Object"
      ]
     },
     "execution_count": 38,
     "metadata": {},
     "output_type": "execute_result"
    }
   ],
   "source": [
    ",var x y\n",
    "plot3d(x^2-y^3+x,(x,-1,1),(y,-1,1))"
   ]
  },
  {
   "cell_type": "code",
   "execution_count": null,
   "id": "dc5c53e0",
   "metadata": {},
   "outputs": [],
   "source": []
  }
 ],
 "metadata": {
  "kernelspec": {
   "display_name": "SageMath 10.2",
   "language": "sage",
   "name": "sagemath"
  },
  "language_info": {
   "codemirror_mode": {
    "name": "ipython",
    "version": 3
   },
   "file_extension": ".py",
   "mimetype": "text/x-python",
   "name": "python",
   "nbconvert_exporter": "python",
   "pygments_lexer": "ipython3",
   "version": "3.11.10"
  }
 },
 "nbformat": 4,
 "nbformat_minor": 5
}
