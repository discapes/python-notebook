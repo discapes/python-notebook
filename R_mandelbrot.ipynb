{
 "cells": [
  {
   "cell_type": "code",
   "execution_count": 11,
   "id": "9dac3a3c-afd0-4979-977f-4bd5b704df35",
   "metadata": {
    "tags": []
   },
   "outputs": [
    {
     "name": "stderr",
     "output_type": "stream",
     "text": [
      "Installing package into ‘/home/miika/R’\n",
      "(as ‘lib’ is unspecified)\n",
      "\n"
     ]
    }
   ],
   "source": [
    "install.packages(\"caTools\")  # install external package"
   ]
  },
  {
   "cell_type": "code",
   "execution_count": 26,
   "id": "b9e01d77-6b39-4429-9ef8-ce281932318f",
   "metadata": {
    "tags": []
   },
   "outputs": [
    {
     "data": {
      "text/html": [],
      "text/latex": [],
      "text/markdown": [],
      "text/plain": [
       "numeric(0)"
      ]
     },
     "metadata": {},
     "output_type": "display_data"
    }
   ],
   "source": [
    "\n",
    "library(caTools)             # external package providing write.gif function\n",
    "jet.colors <- colorRampPalette(c(\"green\", \"pink\", \"#007FFF\", \"cyan\", \"#7FFF7F\",\n",
    "                                 \"white\", \"#FF7F00\", \"red\", \"#7F0000\"))\n",
    "dx <- 1500                    # define width\n",
    "dy <- 1400                    # define height\n",
    "C  <- complex(real = rep(seq(-2.2, 1.0, length.out = dx), each = dy),\n",
    "              imag = rep(seq(-1.2, 1.2, length.out = dy), dx))\n",
    "C <- matrix(C, dy, dx)       # reshape as square matrix of complex numbers\n",
    "Z <- 0                       # initialize Z to zero\n",
    "X <- array(0, c(dy, dx, 20)) # initialize output 3D array\n",
    "for (k in 1:20) {            # loop with 20 iterations\n",
    "  Z <- Z^2 + C               # the central difference equation\n",
    "  X[, , k] <- exp(-abs(Z))   # capture results\n",
    "}\n",
    "# write.gif(X, \"Mandelbrot.gif\", col = jet.colors, delay = 100)\n",
    "X[0]"
   ]
  },
  {
   "cell_type": "code",
   "execution_count": null,
   "id": "26f05605-c26c-4bb4-b160-5fc57e6e9909",
   "metadata": {},
   "outputs": [],
   "source": [
    "x"
   ]
  }
 ],
 "metadata": {
  "kernelspec": {
   "display_name": "R",
   "language": "R",
   "name": "ir"
  },
  "language_info": {
   "codemirror_mode": "r",
   "file_extension": ".r",
   "mimetype": "text/x-r-source",
   "name": "R",
   "pygments_lexer": "r",
   "version": "4.0.4"
  }
 },
 "nbformat": 4,
 "nbformat_minor": 5
}
