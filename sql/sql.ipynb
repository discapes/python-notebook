{
 "cells": [
  {
   "cell_type": "code",
   "execution_count": 6,
   "id": "ec355122-7e9e-4ca2-9d05-1df82e0f7dc4",
   "metadata": {
    "tags": []
   },
   "outputs": [],
   "source": [
    "%CREATE sql/database.db mydb"
   ]
  },
  {
   "cell_type": "code",
   "execution_count": 3,
   "id": "7430fee6-767b-4d91-a77e-f72656e18f9b",
   "metadata": {
    "tags": []
   },
   "outputs": [],
   "source": [
    "CREATE TABLE users (\n",
    "    id int,\n",
    "    firstname text,\n",
    "    lastname text\n",
    ");"
   ]
  },
  {
   "cell_type": "code",
   "execution_count": 4,
   "id": "b8df4463-cba1-43cb-963c-45eb9aed12f3",
   "metadata": {
    "tags": []
   },
   "outputs": [],
   "source": [
    "INSERT INTO users values (0, \"John\", \"Doe\");"
   ]
  },
  {
   "cell_type": "code",
   "execution_count": 5,
   "id": "53db7939-03e0-412e-aaa6-1bde864e5ce8",
   "metadata": {
    "tags": []
   },
   "outputs": [
    {
     "data": {
      "text/html": [
       "<table>\n",
       "<tr>\n",
       "<th>id</th>\n",
       "<th>firstname</th>\n",
       "<th>lastname</th>\n",
       "</tr>\n",
       "<tr>\n",
       "<td>0</td>\n",
       "<td>John</td>\n",
       "<td>Doe</td>\n",
       "</tr>\n",
       "</table>"
      ],
      "text/plain": [
       "+----+-----------+----------+\n",
       "| id | firstname | lastname |\n",
       "+----+-----------+----------+\n",
       "| 0  | John      | Doe      |\n",
       "+----+-----------+----------+"
      ]
     },
     "execution_count": 5,
     "metadata": {},
     "output_type": "execute_result"
    }
   ],
   "source": [
    "SELECT * FROM users"
   ]
  }
 ],
 "metadata": {
  "kernelspec": {
   "display_name": "xsqlite",
   "language": "sqlite",
   "name": "xsqlite"
  },
  "language_info": {
   "codemirror_mode": "sql",
   "file_extension": "",
   "mimetype": "",
   "name": "sql",
   "version": "3.33.0"
  }
 },
 "nbformat": 4,
 "nbformat_minor": 5
}
