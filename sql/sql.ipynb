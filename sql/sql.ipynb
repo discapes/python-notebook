{
 "cells": [
  {
   "cell_type": "code",
   "execution_count": 51,
   "id": "b99ad124-619f-4c47-8469-0750c7907a20",
   "metadata": {},
   "outputs": [],
   "source": [
    "%LOAD sqlite3 db=db.sqlite3"
   ]
  },
  {
   "cell_type": "code",
   "execution_count": 52,
   "id": "7430fee6-767b-4d91-a77e-f72656e18f9b",
   "metadata": {
    "tags": []
   },
   "outputs": [],
   "source": [
    "DROP TABLE IF EXISTS users;"
   ]
  },
  {
   "cell_type": "code",
   "execution_count": 53,
   "id": "545623b4-2aad-4f7b-8546-321023b2704b",
   "metadata": {},
   "outputs": [],
   "source": [
    "CREATE TABLE users (\n",
    "    id int,\n",
    "    firstname text,\n",
    "    lastname text\n",
    ");"
   ]
  },
  {
   "cell_type": "code",
   "execution_count": 54,
   "id": "b8df4463-cba1-43cb-963c-45eb9aed12f3",
   "metadata": {
    "tags": []
   },
   "outputs": [],
   "source": [
    "INSERT INTO users values (0, \"John\", \"Doe\");"
   ]
  },
  {
   "cell_type": "code",
   "execution_count": 55,
   "id": "53db7939-03e0-412e-aaa6-1bde864e5ce8",
   "metadata": {
    "tags": []
   },
   "outputs": [
    {
     "data": {
      "text/html": [
       "<table>\n",
       "<tr>\n",
       "<th>id</th>\n",
       "<th>firstname</th>\n",
       "<th>lastname</th>\n",
       "</tr>\n",
       "<tr>\n",
       "<td>0</td>\n",
       "<td>John</td>\n",
       "<td>Doe</td>\n",
       "</tr>\n",
       "</table>\n",
       "1 row in set (0.00 sec)"
      ],
      "text/plain": [
       "+----+-----------+----------+\n",
       "| id | firstname | lastname |\n",
       "+----+-----------+----------+\n",
       "| 0  | John      | Doe      |\n",
       "+----+-----------+----------+\n",
       "1 row in set (0.00 sec)"
      ]
     },
     "execution_count": 55,
     "metadata": {},
     "output_type": "execute_result"
    }
   ],
   "source": [
    "SELECT * FROM users"
   ]
  },
  {
   "cell_type": "code",
   "execution_count": null,
   "id": "b7354bfb-2a49-4139-a777-5fadabc13bb2",
   "metadata": {},
   "outputs": [],
   "source": []
  }
 ],
 "metadata": {
  "kernelspec": {
   "display_name": "xsql",
   "language": "sqlite",
   "name": "xsql"
  },
  "language_info": {
   "codemirror_mode": "sql",
   "file_extension": "",
   "mimetype": "",
   "name": "mysql",
   "version": "0.2.1"
  }
 },
 "nbformat": 4,
 "nbformat_minor": 5
}
