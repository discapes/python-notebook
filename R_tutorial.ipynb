{
 "cells": [
  {
   "cell_type": "markdown",
   "id": "e3bb3065-eb1e-4796-90e9-96346d2a1670",
   "metadata": {
    "tags": []
   },
   "source": [
    "# Basic syntax"
   ]
  },
  {
   "cell_type": "code",
   "execution_count": 165,
   "id": "3d3ab7ab-2f43-44ea-b7d3-72dc2957078c",
   "metadata": {
    "tags": []
   },
   "outputs": [
    {
     "data": {
      "text/html": [
       "'Hello World!'"
      ],
      "text/latex": [
       "'Hello World!'"
      ],
      "text/markdown": [
       "'Hello World!'"
      ],
      "text/plain": [
       "[1] \"Hello World!\""
      ]
     },
     "metadata": {},
     "output_type": "display_data"
    }
   ],
   "source": [
    "\"Hello World!\""
   ]
  },
  {
   "cell_type": "code",
   "execution_count": 166,
   "id": "6565bea5-1614-4151-beff-2d3fec64f0e3",
   "metadata": {
    "tags": []
   },
   "outputs": [
    {
     "data": {
      "text/html": [
       "10"
      ],
      "text/latex": [
       "10"
      ],
      "text/markdown": [
       "10"
      ],
      "text/plain": [
       "[1] 10"
      ]
     },
     "metadata": {},
     "output_type": "display_data"
    }
   ],
   "source": [
    "5+5"
   ]
  },
  {
   "cell_type": "code",
   "execution_count": 167,
   "id": "9eda0063-fe33-41e6-ac17-b0e7bfef9c3b",
   "metadata": {
    "tags": []
   },
   "outputs": [
    {
     "data": {
      "image/png": "[encoded data removed]",
      "text/plain": [
       "plot without title"
      ]
     },
     "metadata": {
      "image/png": {
       "height": 420,
       "width": 420
      }
     },
     "output_type": "display_data"
    }
   ],
   "source": [
    "plot(1:10)"
   ]
  },
  {
   "cell_type": "code",
   "execution_count": 168,
   "id": "0525ca58-eac9-491c-9a77-b903850292b6",
   "metadata": {
    "tags": []
   },
   "outputs": [
    {
     "name": "stdout",
     "output_type": "stream",
     "text": [
      "[1] 1\n",
      "[1] 2\n",
      "[1] 3\n",
      "[1] 4\n",
      "[1] 5\n",
      "[1] 6\n",
      "[1] 7\n",
      "[1] 8\n",
      "[1] 9\n",
      "[1] 10\n"
     ]
    }
   ],
   "source": [
    "for (x in 1:10) {\n",
    "  print(x)\n",
    "}"
   ]
  },
  {
   "cell_type": "code",
   "execution_count": 169,
   "id": "5e58001a-123d-4b18-bf3c-87fe9251d49f",
   "metadata": {
    "tags": []
   },
   "outputs": [
    {
     "data": {
      "text/html": [
       "'foo'"
      ],
      "text/latex": [
       "'foo'"
      ],
      "text/markdown": [
       "'foo'"
      ],
      "text/plain": [
       "[1] \"foo\""
      ]
     },
     "metadata": {},
     "output_type": "display_data"
    }
   ],
   "source": [
    "name <- \"foo\"\n",
    "name"
   ]
  },
  {
   "cell_type": "code",
   "execution_count": 170,
   "id": "81c7e447-614d-41f6-9681-2285b0afa78a",
   "metadata": {
    "tags": []
   },
   "outputs": [
    {
     "data": {
      "text/html": [
       "'foo bar'"
      ],
      "text/latex": [
       "'foo bar'"
      ],
      "text/markdown": [
       "'foo bar'"
      ],
      "text/plain": [
       "[1] \"foo bar\""
      ]
     },
     "metadata": {},
     "output_type": "display_data"
    }
   ],
   "source": [
    "paste(name, \"bar\")"
   ]
  },
  {
   "cell_type": "code",
   "execution_count": 171,
   "id": "1147d445-6d45-4740-9559-fb4620295112",
   "metadata": {
    "tags": []
   },
   "outputs": [],
   "source": [
    "# Assign the same value to multiple variables in one line\n",
    "var1 <- var2 <- var3 <- \"Orange\"\n"
   ]
  },
  {
   "cell_type": "markdown",
   "id": "27f2dd67-def6-4e22-a656-52d6c586870f",
   "metadata": {
    "tags": []
   },
   "source": [
    "## Basic data types"
   ]
  },
  {
   "cell_type": "code",
   "execution_count": 172,
   "id": "573edcf9-338a-458b-a4f5-0222d28b633c",
   "metadata": {
    "tags": []
   },
   "outputs": [
    {
     "data": {
      "text/html": [
       "'numeric'"
      ],
      "text/latex": [
       "'numeric'"
      ],
      "text/markdown": [
       "'numeric'"
      ],
      "text/plain": [
       "[1] \"numeric\""
      ]
     },
     "metadata": {},
     "output_type": "display_data"
    },
    {
     "data": {
      "text/html": [
       "'integer'"
      ],
      "text/latex": [
       "'integer'"
      ],
      "text/markdown": [
       "'integer'"
      ],
      "text/plain": [
       "[1] \"integer\""
      ]
     },
     "metadata": {},
     "output_type": "display_data"
    },
    {
     "data": {
      "text/html": [
       "'complex'"
      ],
      "text/latex": [
       "'complex'"
      ],
      "text/markdown": [
       "'complex'"
      ],
      "text/plain": [
       "[1] \"complex\""
      ]
     },
     "metadata": {},
     "output_type": "display_data"
    },
    {
     "data": {
      "text/html": [
       "'character'"
      ],
      "text/latex": [
       "'character'"
      ],
      "text/markdown": [
       "'character'"
      ],
      "text/plain": [
       "[1] \"character\""
      ]
     },
     "metadata": {},
     "output_type": "display_data"
    },
    {
     "data": {
      "text/html": [
       "'logical'"
      ],
      "text/latex": [
       "'logical'"
      ],
      "text/markdown": [
       "'logical'"
      ],
      "text/plain": [
       "[1] \"logical\""
      ]
     },
     "metadata": {},
     "output_type": "display_data"
    }
   ],
   "source": [
    "\n",
    "# numeric\n",
    "x <- 10.5\n",
    "class(x)\n",
    "\n",
    "# integer\n",
    "x <- 1000L\n",
    "class(x)\n",
    "\n",
    "# complex\n",
    "x <- 9i + 3\n",
    "class(x)\n",
    "\n",
    "# character/string\n",
    "x <- \"R is exciting\"\n",
    "class(x)\n",
    "\n",
    "# logical/boolean\n",
    "x <- TRUE\n",
    "class(x)"
   ]
  },
  {
   "cell_type": "markdown",
   "id": "45a6383f-f391-4fac-8d7b-d04c4b15a135",
   "metadata": {
    "tags": []
   },
   "source": [
    "## Number conversion\n"
   ]
  },
  {
   "cell_type": "code",
   "execution_count": 173,
   "id": "1579e6c7-28c0-4e39-8806-c563d483f91e",
   "metadata": {
    "tags": []
   },
   "outputs": [
    {
     "data": {
      "text/html": [
       "1"
      ],
      "text/latex": [
       "1"
      ],
      "text/markdown": [
       "1"
      ],
      "text/plain": [
       "[1] 1"
      ]
     },
     "metadata": {},
     "output_type": "display_data"
    },
    {
     "data": {
      "text/html": [
       "2"
      ],
      "text/latex": [
       "2"
      ],
      "text/markdown": [
       "2"
      ],
      "text/plain": [
       "[1] 2"
      ]
     },
     "metadata": {},
     "output_type": "display_data"
    },
    {
     "data": {
      "text/html": [
       "'numeric'"
      ],
      "text/latex": [
       "'numeric'"
      ],
      "text/markdown": [
       "'numeric'"
      ],
      "text/plain": [
       "[1] \"numeric\""
      ]
     },
     "metadata": {},
     "output_type": "display_data"
    },
    {
     "data": {
      "text/html": [
       "'integer'"
      ],
      "text/latex": [
       "'integer'"
      ],
      "text/markdown": [
       "'integer'"
      ],
      "text/plain": [
       "[1] \"integer\""
      ]
     },
     "metadata": {},
     "output_type": "display_data"
    },
    {
     "data": {
      "text/html": [
       "'function'"
      ],
      "text/latex": [
       "'function'"
      ],
      "text/markdown": [
       "'function'"
      ],
      "text/plain": [
       "[1] \"function\""
      ]
     },
     "metadata": {},
     "output_type": "display_data"
    },
    {
     "data": {
      "text/html": [
       "'function'"
      ],
      "text/latex": [
       "'function'"
      ],
      "text/markdown": [
       "'function'"
      ],
      "text/plain": [
       "[1] \"function\""
      ]
     },
     "metadata": {},
     "output_type": "display_data"
    }
   ],
   "source": [
    "x <- 1L # integer\n",
    "y <- 2 # numeric\n",
    "\n",
    "# convert from integer to numeric:\n",
    "a <- as.numeric(x)\n",
    "\n",
    "# convert from numeric to integer:\n",
    "b <- as.integer(y)\n",
    "\n",
    "# print values of x and y\n",
    "x\n",
    "y\n",
    "\n",
    "# print the class name of a and b\n",
    "class(a)\n",
    "class(b)\n",
    "\n",
    "class(as.integer)\n",
    "class(as)"
   ]
  },
  {
   "cell_type": "markdown",
   "id": "45f789ff-1414-4187-a435-d6a5ad0802af",
   "metadata": {},
   "source": [
    "## Strings"
   ]
  },
  {
   "cell_type": "code",
   "execution_count": 174,
   "id": "fe8ac4bb-88cf-4b7f-9dd3-84b4d2ab6f76",
   "metadata": {
    "tags": []
   },
   "outputs": [
    {
     "name": "stdout",
     "output_type": "stream",
     "text": [
      "[1] \"Lorem ipsum dolor sit amet,\\nconsectetur adipiscing elit,\\nsed do eiusmod tempor incididunt\\nut labore et dolore magna aliqua.\"\n",
      "Lorem ipsum dolor sit amet,\n",
      "consectetur adipiscing elit,\n",
      "sed do eiusmod tempor incididunt\n",
      "ut labore et dolore magna aliqua."
     ]
    },
    {
     "data": {
      "text/html": [
       "123"
      ],
      "text/latex": [
       "123"
      ],
      "text/markdown": [
       "123"
      ],
      "text/plain": [
       "[1] 123"
      ]
     },
     "metadata": {},
     "output_type": "display_data"
    },
    {
     "data": {
      "text/html": [
       "FALSE"
      ],
      "text/latex": [
       "FALSE"
      ],
      "text/markdown": [
       "FALSE"
      ],
      "text/plain": [
       "[1] FALSE"
      ]
     },
     "metadata": {},
     "output_type": "display_data"
    }
   ],
   "source": [
    "str <- \"Lorem ipsum dolor sit amet,\n",
    "consectetur adipiscing elit,\n",
    "sed do eiusmod tempor incididunt\n",
    "ut labore et dolore magna aliqua.\"\n",
    "\n",
    "print(str) # print the value of str\n",
    "cat(str)\n",
    "nchar(str) # len\n",
    "grepl(\"H\", str) "
   ]
  },
  {
   "cell_type": "markdown",
   "id": "eff7fef7-d8d1-4ec8-b7fa-4c8cf533551b",
   "metadata": {},
   "source": [
    "### R operators\n",
    "\n",
    "- Arithmetic operators\n",
    "\n",
    "        +\tAddition\tx + y\t\n",
    "        -\tSubtraction\tx - y\t\n",
    "        *\tMultiplication\tx * y\t\n",
    "        /\tDivision\tx / y\t\n",
    "        ^\tExponent\tx ^ y\t\n",
    "        %%\tModulus (Remainder from division)\tx %% y\t\n",
    "        %/%\tInteger Division\tx%/%y\t\n",
    "        \n",
    "\n",
    "- Assignment operators\n",
    "\n",
    "        my_var <- 3\n",
    "        my_var <<- 3\n",
    "        3 -> my_var\n",
    "        3 ->> my_var\n",
    "        \n",
    "- Comparison operators\n",
    "    - same as python\n",
    "- Logical operators\n",
    "\n",
    "        &\tElement-wise Logical AND operator. It returns TRUE if both elements are TRUE\n",
    "        &&\tLogical AND operator - Returns TRUE if both statements are TRUE\n",
    "        |\tElementwise- Logical OR operator. It returns TRUE if one of the statement is TRUE\n",
    "        ||\tLogical OR operator. It returns TRUE if one of the statement is TRUE.\n",
    "        !\tLogical NOT - returns FALSE if statement is TRUE\n",
    "\n",
    "\n",
    "- Miscellaneous operators\n",
    "\n",
    "        :\tCreates a series of numbers in a sequence\tx <- 1:10\n",
    "        %in%\tFind out if an element belongs to a vector\tx %in% y\n",
    "        %*%\tMatrix Multiplication\tx <- Matrix1 %*% Matrix2\n",
    "\n"
   ]
  },
  {
   "cell_type": "markdown",
   "id": "34821d3c-193b-44c2-87da-5365ffdc0063",
   "metadata": {},
   "source": [
    "### if, else, for, while == JavaScript\n",
    "\n",
    "- except `continue` is `next`"
   ]
  },
  {
   "cell_type": "code",
   "execution_count": 175,
   "id": "a49345af-c6a7-42d7-850f-eded5e900e19",
   "metadata": {
    "tags": []
   },
   "outputs": [
    {
     "name": "stdout",
     "output_type": "stream",
     "text": [
      "[1] \"b is not greater than a\"\n"
     ]
    }
   ],
   "source": [
    "a <- 200\n",
    "b <- 33\n",
    "\n",
    "if (b > a) {\n",
    "  print (\"b is greater than a\")\n",
    "} else {\n",
    "  print(\"b is not greater than a\")\n",
    "}"
   ]
  },
  {
   "cell_type": "markdown",
   "id": "296ccb57-ed67-4bd1-a5ae-9212de1e62f3",
   "metadata": {},
   "source": [
    "## Functions"
   ]
  },
  {
   "cell_type": "code",
   "execution_count": 176,
   "id": "3d5b46cb-3355-409b-948e-d5560e79d676",
   "metadata": {
    "tags": []
   },
   "outputs": [],
   "source": [
    "my_function <- function(what=\"world\") { # create a function with the name my_function\n",
    "  paste(\"Hello \", what, \"!\", sep=\"\")\n",
    "  # return (paste(\"you said\", what))\n",
    "}"
   ]
  },
  {
   "cell_type": "code",
   "execution_count": 177,
   "id": "5b60b96e-5f2e-41ae-b30b-bc84b26767c3",
   "metadata": {
    "tags": []
   },
   "outputs": [
    {
     "data": {
      "text/html": [
       "'Hello world!'"
      ],
      "text/latex": [
       "'Hello world!'"
      ],
      "text/markdown": [
       "'Hello world!'"
      ],
      "text/plain": [
       "[1] \"Hello world!\""
      ]
     },
     "metadata": {},
     "output_type": "display_data"
    },
    {
     "data": {
      "text/html": [
       "'Hello you!'"
      ],
      "text/latex": [
       "'Hello you!'"
      ],
      "text/markdown": [
       "'Hello you!'"
      ],
      "text/plain": [
       "[1] \"Hello you!\""
      ]
     },
     "metadata": {},
     "output_type": "display_data"
    }
   ],
   "source": [
    "x <- my_function(\"you\")\n",
    "my_function()\n",
    "x"
   ]
  },
  {
   "cell_type": "markdown",
   "id": "fe5ed80b-f052-4d71-8c18-ef937a12b054",
   "metadata": {},
   "source": [
    "### As you can see, functions without a return return the last line. \n",
    "### Also, expressions in a function are not printed, only in the top level"
   ]
  },
  {
   "cell_type": "code",
   "execution_count": 178,
   "id": "ec78c454-e4d9-4128-8763-e29318c6a1fa",
   "metadata": {
    "tags": []
   },
   "outputs": [
    {
     "data": {
      "text/html": [
       "'Hello you!'"
      ],
      "text/latex": [
       "'Hello you!'"
      ],
      "text/markdown": [
       "'Hello you!'"
      ],
      "text/plain": [
       "[1] \"Hello you!\""
      ]
     },
     "metadata": {},
     "output_type": "display_data"
    }
   ],
   "source": [
    "main <- function() { \n",
    "    x <- my_function(\"you\")\n",
    "    my_function()\n",
    "    x\n",
    "}\n",
    "main()"
   ]
  },
  {
   "cell_type": "markdown",
   "id": "3d83e9fa-2d59-489f-b2e4-99be60b6a741",
   "metadata": {},
   "source": [
    "### Parameters or Arguments?\n",
    "The terms \"parameter\" and \"argument\" can be used for the same thing: information that are passed into a function.\n",
    "\n",
    "From a function's perspective:\n",
    "\n",
    "A parameter is the variable listed inside the parentheses in the function definition.\n",
    "\n",
    "An argument is the value that is sent to the function when it is called."
   ]
  },
  {
   "cell_type": "markdown",
   "id": "a9be7552-1321-41d5-937e-186021e13a5d",
   "metadata": {
    "tags": []
   },
   "source": [
    "### First-class functions and recursion"
   ]
  },
  {
   "cell_type": "code",
   "execution_count": 179,
   "id": "960f5d22-91f7-4249-a9f0-e894dc8903a7",
   "metadata": {
    "tags": []
   },
   "outputs": [
    {
     "data": {
      "text/html": [
       "10"
      ],
      "text/latex": [
       "10"
      ],
      "text/markdown": [
       "10"
      ],
      "text/plain": [
       "[1] 10"
      ]
     },
     "metadata": {},
     "output_type": "display_data"
    }
   ],
   "source": [
    "Nested_function <- function(x, y) {\n",
    "  a <- x + y\n",
    "  return(a)\n",
    "}\n",
    "\n",
    "Nested_function(Nested_function(2,2), Nested_function(3,3))"
   ]
  },
  {
   "cell_type": "code",
   "execution_count": 180,
   "id": "f3fe3e09-5831-42a3-afcf-217ca91e1726",
   "metadata": {
    "tags": []
   },
   "outputs": [
    {
     "data": {
      "text/html": [
       "3"
      ],
      "text/latex": [
       "3"
      ],
      "text/markdown": [
       "3"
      ],
      "text/plain": [
       "[1] 3"
      ]
     },
     "metadata": {},
     "output_type": "display_data"
    }
   ],
   "source": [
    "curry <- function (f) {\n",
    "    function (a) {\n",
    "        function (b) {\n",
    "            f(a, b)\n",
    "        }\n",
    "    }\n",
    "}\n",
    "\n",
    "add <- function(a,b) { a + b }\n",
    "curry(add)(1)(2)"
   ]
  },
  {
   "cell_type": "code",
   "execution_count": 181,
   "id": "5f7eda59-85cb-401f-ab7a-72a8ca8e9a6d",
   "metadata": {
    "tags": []
   },
   "outputs": [
    {
     "name": "stdout",
     "output_type": "stream",
     "text": [
      "[1] 1\n",
      "[1] 3\n",
      "[1] 6\n",
      "[1] 10\n",
      "[1] 15\n",
      "[1] 21\n"
     ]
    }
   ],
   "source": [
    "tri_recursion <- function(k) {\n",
    "  if (k > 0) {\n",
    "    result <- k + tri_recursion(k - 1)\n",
    "    print(result)\n",
    "  } else {\n",
    "    result = 0\n",
    "    return(result)\n",
    "  }\n",
    "}\n",
    "tri_recursion(6)"
   ]
  },
  {
   "cell_type": "markdown",
   "id": "d7544cbc-0f5a-4b19-917b-521b5344547c",
   "metadata": {},
   "source": [
    "# Global variables"
   ]
  },
  {
   "cell_type": "code",
   "execution_count": 182,
   "id": "9ef2a5f8-a39b-4d27-8d27-f8b39afab0a6",
   "metadata": {
    "tags": []
   },
   "outputs": [
    {
     "data": {
      "text/html": [
       "'R is awesome'"
      ],
      "text/latex": [
       "'R is awesome'"
      ],
      "text/markdown": [
       "'R is awesome'"
      ],
      "text/plain": [
       "[1] \"R is awesome\""
      ]
     },
     "metadata": {},
     "output_type": "display_data"
    }
   ],
   "source": [
    "\n",
    "my_function <- function() {\n",
    "  paste(\"R is\", txt)\n",
    "}\n",
    "txt <- \"awesome\"\n",
    "\n",
    "my_function()"
   ]
  },
  {
   "cell_type": "code",
   "execution_count": 183,
   "id": "e146c0a1-1bf6-4cf7-be1a-4cb568f3fdb4",
   "metadata": {
    "tags": []
   },
   "outputs": [
    {
     "data": {
      "text/html": [
       "'R is epic'"
      ],
      "text/latex": [
       "'R is epic'"
      ],
      "text/markdown": [
       "'R is epic'"
      ],
      "text/plain": [
       "[1] \"R is epic\""
      ]
     },
     "metadata": {},
     "output_type": "display_data"
    },
    {
     "data": {
      "text/html": [
       "'epic'"
      ],
      "text/latex": [
       "'epic'"
      ],
      "text/markdown": [
       "'epic'"
      ],
      "text/plain": [
       "[1] \"epic\""
      ]
     },
     "metadata": {},
     "output_type": "display_data"
    }
   ],
   "source": [
    "\n",
    "my_function <- function() {\n",
    "  txt <<- \"epic\" # <<- assigns to global variable\n",
    "  paste(\"R is\", txt)\n",
    "}\n",
    "my_function()\n",
    "txt\n"
   ]
  },
  {
   "cell_type": "code",
   "execution_count": 184,
   "id": "47807a6b-0ff8-4350-8293-6678d01a2371",
   "metadata": {
    "tags": []
   },
   "outputs": [
    {
     "data": {
      "text/html": [
       "'R is great'"
      ],
      "text/latex": [
       "'R is great'"
      ],
      "text/markdown": [
       "'R is great'"
      ],
      "text/plain": [
       "[1] \"R is great\""
      ]
     },
     "metadata": {},
     "output_type": "display_data"
    },
    {
     "data": {
      "text/html": [
       "'epic'"
      ],
      "text/latex": [
       "'epic'"
      ],
      "text/markdown": [
       "'epic'"
      ],
      "text/plain": [
       "[1] \"epic\""
      ]
     },
     "metadata": {},
     "output_type": "display_data"
    }
   ],
   "source": [
    "my_function <- function() {\n",
    "  txt <- \"great\" # <<- shadowing\n",
    "  paste(\"R is\", txt)\n",
    "}\n",
    "my_function()\n",
    "txt"
   ]
  },
  {
   "cell_type": "markdown",
   "id": "1ca3713c-ba75-4615-a418-2a7a7aad0bb0",
   "metadata": {},
   "source": [
    "# Data types\n",
    "\n",
    "## A vector is simply a list of items that are of the same type."
   ]
  },
  {
   "cell_type": "code",
   "execution_count": 185,
   "id": "002afd5d-e2e5-4993-94a0-cfdcd604e8aa",
   "metadata": {
    "tags": []
   },
   "outputs": [
    {
     "data": {
      "text/html": [
       "<style>\n",
       ".list-inline {list-style: none; margin:0; padding: 0}\n",
       ".list-inline>li {display: inline-block}\n",
       ".list-inline>li:not(:last-child)::after {content: \"\\00b7\"; padding: 0 .5ex}\n",
       "</style>\n",
       "<ol class=list-inline><li>1</li><li>2</li><li>3</li><li>4</li><li>5</li><li>6</li></ol>\n"
      ],
      "text/latex": [
       "\\begin{enumerate*}\n",
       "\\item 1\n",
       "\\item 2\n",
       "\\item 3\n",
       "\\item 4\n",
       "\\item 5\n",
       "\\item 6\n",
       "\\end{enumerate*}\n"
      ],
      "text/markdown": [
       "1. 1\n",
       "2. 2\n",
       "3. 3\n",
       "4. 4\n",
       "5. 5\n",
       "6. 6\n",
       "\n",
       "\n"
      ],
      "text/plain": [
       "[1] 1 2 3 4 5 6"
      ]
     },
     "metadata": {},
     "output_type": "display_data"
    },
    {
     "data": {
      "text/html": [
       "'character'"
      ],
      "text/latex": [
       "'character'"
      ],
      "text/markdown": [
       "'character'"
      ],
      "text/plain": [
       "[1] \"character\""
      ]
     },
     "metadata": {},
     "output_type": "display_data"
    },
    {
     "data": {
      "text/html": [
       "'numeric'"
      ],
      "text/latex": [
       "'numeric'"
      ],
      "text/markdown": [
       "'numeric'"
      ],
      "text/plain": [
       "[1] \"numeric\""
      ]
     },
     "metadata": {},
     "output_type": "display_data"
    },
    {
     "data": {
      "text/html": [
       "'integer'"
      ],
      "text/latex": [
       "'integer'"
      ],
      "text/markdown": [
       "'integer'"
      ],
      "text/plain": [
       "[1] \"integer\""
      ]
     },
     "metadata": {},
     "output_type": "display_data"
    },
    {
     "data": {
      "text/html": [
       "<style>\n",
       ".list-inline {list-style: none; margin:0; padding: 0}\n",
       ".list-inline>li {display: inline-block}\n",
       ".list-inline>li:not(:last-child)::after {content: \"\\00b7\"; padding: 0 .5ex}\n",
       "</style>\n",
       "<ol class=list-inline><li>TRUE</li><li>TRUE</li><li>TRUE</li><li>TRUE</li><li>TRUE</li><li>TRUE</li></ol>\n"
      ],
      "text/latex": [
       "\\begin{enumerate*}\n",
       "\\item TRUE\n",
       "\\item TRUE\n",
       "\\item TRUE\n",
       "\\item TRUE\n",
       "\\item TRUE\n",
       "\\item TRUE\n",
       "\\end{enumerate*}\n"
      ],
      "text/markdown": [
       "1. TRUE\n",
       "2. TRUE\n",
       "3. TRUE\n",
       "4. TRUE\n",
       "5. TRUE\n",
       "6. TRUE\n",
       "\n",
       "\n"
      ],
      "text/plain": [
       "[1] TRUE TRUE TRUE TRUE TRUE TRUE"
      ]
     },
     "metadata": {},
     "output_type": "display_data"
    }
   ],
   "source": [
    "adj <- c(\"red\", \"big\", \"tasty\")\n",
    "dice <- c(1, 2, 3, 4, 5, 6)\n",
    "dice2 <- 1:6\n",
    "\n",
    "dice\n",
    "\n",
    "class(adj)\n",
    "class(dice)\n",
    "class(dice2)\n",
    "\n",
    "dice2 == dice\n",
    "\n",
    "for (x in adj) # brackets arent always needed\n",
    "  for (y in dice)\n",
    "    paste(x, y) # expressions aren't printed in blocks either"
   ]
  },
  {
   "cell_type": "code",
   "execution_count": 186,
   "id": "f789914b-09e4-4a5f-bed2-5e126b51b117",
   "metadata": {
    "tags": []
   },
   "outputs": [
    {
     "data": {
      "text/html": [
       "<style>\n",
       ".list-inline {list-style: none; margin:0; padding: 0}\n",
       ".list-inline>li {display: inline-block}\n",
       ".list-inline>li:not(:last-child)::after {content: \"\\00b7\"; padding: 0 .5ex}\n",
       "</style>\n",
       "<ol class=list-inline><li>1.5</li><li>2.5</li><li>3.5</li><li>4.5</li><li>5.5</li><li>6.5</li></ol>\n"
      ],
      "text/latex": [
       "\\begin{enumerate*}\n",
       "\\item 1.5\n",
       "\\item 2.5\n",
       "\\item 3.5\n",
       "\\item 4.5\n",
       "\\item 5.5\n",
       "\\item 6.5\n",
       "\\end{enumerate*}\n"
      ],
      "text/markdown": [
       "1. 1.5\n",
       "2. 2.5\n",
       "3. 3.5\n",
       "4. 4.5\n",
       "5. 5.5\n",
       "6. 6.5\n",
       "\n",
       "\n"
      ],
      "text/plain": [
       "[1] 1.5 2.5 3.5 4.5 5.5 6.5"
      ]
     },
     "metadata": {},
     "output_type": "display_data"
    },
    {
     "data": {
      "text/html": [
       "6"
      ],
      "text/latex": [
       "6"
      ],
      "text/markdown": [
       "6"
      ],
      "text/plain": [
       "[1] 6"
      ]
     },
     "metadata": {},
     "output_type": "display_data"
    },
    {
     "data": {
      "text/html": [
       "<style>\n",
       ".list-inline {list-style: none; margin:0; padding: 0}\n",
       ".list-inline>li {display: inline-block}\n",
       ".list-inline>li:not(:last-child)::after {content: \"\\00b7\"; padding: 0 .5ex}\n",
       "</style>\n",
       "<ol class=list-inline><li>1.5</li><li>2.5</li><li>3.5</li><li>4.5</li><li>5.5</li></ol>\n"
      ],
      "text/latex": [
       "\\begin{enumerate*}\n",
       "\\item 1.5\n",
       "\\item 2.5\n",
       "\\item 3.5\n",
       "\\item 4.5\n",
       "\\item 5.5\n",
       "\\end{enumerate*}\n"
      ],
      "text/markdown": [
       "1. 1.5\n",
       "2. 2.5\n",
       "3. 3.5\n",
       "4. 4.5\n",
       "5. 5.5\n",
       "\n",
       "\n"
      ],
      "text/plain": [
       "[1] 1.5 2.5 3.5 4.5 5.5"
      ]
     },
     "metadata": {},
     "output_type": "display_data"
    },
    {
     "data": {
      "text/html": [
       "<style>\n",
       ".list-inline {list-style: none; margin:0; padding: 0}\n",
       ".list-inline>li {display: inline-block}\n",
       ".list-inline>li:not(:last-child)::after {content: \"\\00b7\"; padding: 0 .5ex}\n",
       "</style>\n",
       "<ol class=list-inline><li>1.5</li><li>2.5</li><li>3.5</li><li>4.5</li><li>5.5</li></ol>\n"
      ],
      "text/latex": [
       "\\begin{enumerate*}\n",
       "\\item 1.5\n",
       "\\item 2.5\n",
       "\\item 3.5\n",
       "\\item 4.5\n",
       "\\item 5.5\n",
       "\\end{enumerate*}\n"
      ],
      "text/markdown": [
       "1. 1.5\n",
       "2. 2.5\n",
       "3. 3.5\n",
       "4. 4.5\n",
       "5. 5.5\n",
       "\n",
       "\n"
      ],
      "text/plain": [
       "[1] 1.5 2.5 3.5 4.5 5.5"
      ]
     },
     "metadata": {},
     "output_type": "display_data"
    }
   ],
   "source": [
    "# You can also create numerical values with decimals in a sequence, but note that if the last element does not belong to the sequence, it is not used:\n",
    "\n",
    "# Vector with numerical decimals in a sequence\n",
    "numbers1 <- 1.5:6.5\n",
    "numbers1\n",
    "length(numbers1)\n",
    "\n",
    "# Vector with numerical decimals in a sequence where the last element is not used\n",
    "numbers2 <- 1.5:6.3\n",
    "numbers2\n",
    "sort(numbers2)"
   ]
  },
  {
   "cell_type": "markdown",
   "id": "b7c2ede3-8ce8-4736-982b-94a778c69397",
   "metadata": {
    "tags": []
   },
   "source": [
    "### Vectors begin with 1????"
   ]
  },
  {
   "cell_type": "code",
   "execution_count": 187,
   "id": "974971b2-3cbb-40f5-ab2f-4d318beedd80",
   "metadata": {},
   "outputs": [
    {
     "data": {
      "text/html": [
       "'banana'"
      ],
      "text/latex": [
       "'banana'"
      ],
      "text/markdown": [
       "'banana'"
      ],
      "text/plain": [
       "[1] \"banana\""
      ]
     },
     "metadata": {},
     "output_type": "display_data"
    }
   ],
   "source": [
    "fruits <- c(\"banana\", \"apple\", \"orange\")\n",
    "fruits[1]"
   ]
  },
  {
   "cell_type": "markdown",
   "id": "a6cf9b2a-3f93-4332-b6a5-0f650a67cfe7",
   "metadata": {
    "tags": []
   },
   "source": [
    "### Invalid access:"
   ]
  },
  {
   "cell_type": "code",
   "execution_count": 188,
   "id": "335f441f-1595-4b36-96b3-e71464ef0887",
   "metadata": {
    "tags": []
   },
   "outputs": [
    {
     "data": {
      "text/html": [
       "NA"
      ],
      "text/latex": [
       "NA"
      ],
      "text/markdown": [
       "NA"
      ],
      "text/plain": [
       "[1] NA"
      ]
     },
     "metadata": {},
     "output_type": "display_data"
    },
    {
     "name": "stdout",
     "output_type": "stream",
     "text": [
      "[1] NA\n"
     ]
    },
    {
     "data": {
      "text/html": [
       "'character'"
      ],
      "text/latex": [
       "'character'"
      ],
      "text/markdown": [
       "'character'"
      ],
      "text/plain": [
       "[1] \"character\""
      ]
     },
     "metadata": {},
     "output_type": "display_data"
    }
   ],
   "source": [
    "fruits[10]\n",
    "print(fruits[10])\n",
    "class(fruits[10])"
   ]
  },
  {
   "cell_type": "code",
   "execution_count": 189,
   "id": "a988583a-5239-4997-89b2-2d8ac10bbbf5",
   "metadata": {
    "tags": []
   },
   "outputs": [
    {
     "data": {
      "text/html": [],
      "text/latex": [],
      "text/markdown": [],
      "text/plain": [
       "character(0)"
      ]
     },
     "metadata": {},
     "output_type": "display_data"
    },
    {
     "name": "stdout",
     "output_type": "stream",
     "text": [
      "character(0)\n"
     ]
    },
    {
     "data": {
      "text/html": [
       "'character'"
      ],
      "text/latex": [
       "'character'"
      ],
      "text/markdown": [
       "'character'"
      ],
      "text/plain": [
       "[1] \"character\""
      ]
     },
     "metadata": {},
     "output_type": "display_data"
    }
   ],
   "source": [
    "fruits[0]\n",
    "print(fruits[0])\n",
    "class(fruits[0])"
   ]
  },
  {
   "cell_type": "markdown",
   "id": "082fef23-7ea4-454e-9ee3-ff62fd4f8e28",
   "metadata": {},
   "source": [
    "### Multiple elements"
   ]
  },
  {
   "cell_type": "code",
   "execution_count": 190,
   "id": "8ab5b822-a72d-4f2e-9f26-099f878a6312",
   "metadata": {
    "tags": []
   },
   "outputs": [
    {
     "data": {
      "text/html": [
       "<style>\n",
       ".list-inline {list-style: none; margin:0; padding: 0}\n",
       ".list-inline>li {display: inline-block}\n",
       ".list-inline>li:not(:last-child)::after {content: \"\\00b7\"; padding: 0 .5ex}\n",
       "</style>\n",
       "<ol class=list-inline><li>'banana'</li><li>'orange'</li></ol>\n"
      ],
      "text/latex": [
       "\\begin{enumerate*}\n",
       "\\item 'banana'\n",
       "\\item 'orange'\n",
       "\\end{enumerate*}\n"
      ],
      "text/markdown": [
       "1. 'banana'\n",
       "2. 'orange'\n",
       "\n",
       "\n"
      ],
      "text/plain": [
       "[1] \"banana\" \"orange\""
      ]
     },
     "metadata": {},
     "output_type": "display_data"
    },
    {
     "data": {
      "text/html": [
       "<style>\n",
       ".list-inline {list-style: none; margin:0; padding: 0}\n",
       ".list-inline>li {display: inline-block}\n",
       ".list-inline>li:not(:last-child)::after {content: \"\\00b7\"; padding: 0 .5ex}\n",
       "</style>\n",
       "<ol class=list-inline><li>'banana'</li><li>'orange'</li></ol>\n"
      ],
      "text/latex": [
       "\\begin{enumerate*}\n",
       "\\item 'banana'\n",
       "\\item 'orange'\n",
       "\\end{enumerate*}\n"
      ],
      "text/markdown": [
       "1. 'banana'\n",
       "2. 'orange'\n",
       "\n",
       "\n"
      ],
      "text/plain": [
       "[1] \"banana\" \"orange\""
      ]
     },
     "metadata": {},
     "output_type": "display_data"
    },
    {
     "data": {
      "text/html": [
       "'apple'"
      ],
      "text/latex": [
       "'apple'"
      ],
      "text/markdown": [
       "'apple'"
      ],
      "text/plain": [
       "[1] \"apple\""
      ]
     },
     "metadata": {},
     "output_type": "display_data"
    }
   ],
   "source": [
    "fruits[c(1,3)]\n",
    "# Negative indexes omit items\n",
    "fruits[-2]\n",
    "fruits[c(-1,-3)]"
   ]
  },
  {
   "cell_type": "markdown",
   "id": "2cba430b-7b55-4ec0-9f61-cd786df5861b",
   "metadata": {
    "tags": []
   },
   "source": [
    "### Changing an item, rep(), sec()"
   ]
  },
  {
   "cell_type": "code",
   "execution_count": 191,
   "id": "fc3bbe03-d2cb-4e59-ab31-ee57c0d74f61",
   "metadata": {
    "tags": []
   },
   "outputs": [
    {
     "data": {
      "text/html": [
       "<style>\n",
       ".list-inline {list-style: none; margin:0; padding: 0}\n",
       ".list-inline>li {display: inline-block}\n",
       ".list-inline>li:not(:last-child)::after {content: \"\\00b7\"; padding: 0 .5ex}\n",
       "</style>\n",
       "<ol class=list-inline><li>'apple'</li><li>'apple'</li><li>'pear'</li><li>'orange'</li><li>'orange'</li><li>'orange'</li></ol>\n"
      ],
      "text/latex": [
       "\\begin{enumerate*}\n",
       "\\item 'apple'\n",
       "\\item 'apple'\n",
       "\\item 'pear'\n",
       "\\item 'orange'\n",
       "\\item 'orange'\n",
       "\\item 'orange'\n",
       "\\end{enumerate*}\n"
      ],
      "text/markdown": [
       "1. 'apple'\n",
       "2. 'apple'\n",
       "3. 'pear'\n",
       "4. 'orange'\n",
       "5. 'orange'\n",
       "6. 'orange'\n",
       "\n",
       "\n"
      ],
      "text/plain": [
       "[1] \"apple\"  \"apple\"  \"pear\"   \"orange\" \"orange\" \"orange\""
      ]
     },
     "metadata": {},
     "output_type": "display_data"
    },
    {
     "data": {
      "text/html": [
       "<style>\n",
       ".list-inline {list-style: none; margin:0; padding: 0}\n",
       ".list-inline>li {display: inline-block}\n",
       ".list-inline>li:not(:last-child)::after {content: \"\\00b7\"; padding: 0 .5ex}\n",
       "</style>\n",
       "<ol class=list-inline><li>'apple'</li><li>'apple'</li><li>'orange'</li><li>'orange'</li><li>'orange'</li><li>'orange'</li><li>'orange'</li></ol>\n"
      ],
      "text/latex": [
       "\\begin{enumerate*}\n",
       "\\item 'apple'\n",
       "\\item 'apple'\n",
       "\\item 'orange'\n",
       "\\item 'orange'\n",
       "\\item 'orange'\n",
       "\\item 'orange'\n",
       "\\item 'orange'\n",
       "\\end{enumerate*}\n"
      ],
      "text/markdown": [
       "1. 'apple'\n",
       "2. 'apple'\n",
       "3. 'orange'\n",
       "4. 'orange'\n",
       "5. 'orange'\n",
       "6. 'orange'\n",
       "7. 'orange'\n",
       "\n",
       "\n"
      ],
      "text/plain": [
       "[1] \"apple\"  \"apple\"  \"orange\" \"orange\" \"orange\" \"orange\" \"orange\""
      ]
     },
     "metadata": {},
     "output_type": "display_data"
    },
    {
     "data": {
      "text/html": [
       "<style>\n",
       ".list-inline {list-style: none; margin:0; padding: 0}\n",
       ".list-inline>li {display: inline-block}\n",
       ".list-inline>li:not(:last-child)::after {content: \"\\00b7\"; padding: 0 .5ex}\n",
       "</style>\n",
       "<ol class=list-inline><li>0</li><li>20</li><li>40</li><li>60</li><li>80</li><li>100</li></ol>\n"
      ],
      "text/latex": [
       "\\begin{enumerate*}\n",
       "\\item 0\n",
       "\\item 20\n",
       "\\item 40\n",
       "\\item 60\n",
       "\\item 80\n",
       "\\item 100\n",
       "\\end{enumerate*}\n"
      ],
      "text/markdown": [
       "1. 0\n",
       "2. 20\n",
       "3. 40\n",
       "4. 60\n",
       "5. 80\n",
       "6. 100\n",
       "\n",
       "\n"
      ],
      "text/plain": [
       "[1]   0  20  40  60  80 100"
      ]
     },
     "metadata": {},
     "output_type": "display_data"
    }
   ],
   "source": [
    "# repeat\n",
    "fruits <- rep(c(\"apple\", \"orange\"), each = 3)\n",
    "\n",
    "fruits[3] <- \"pear\"\n",
    "fruits\n",
    "\n",
    "# repeat specific items a specific nuumber of times\n",
    "rep(c(\"apple\", \"orange\"), times = c(2, 5))\n",
    "\n",
    "# like x:y, but more fine-grained\n",
    " seq(from = 0, to = 100, by = 20)"
   ]
  },
  {
   "cell_type": "markdown",
   "id": "4af7dfc7-3d23-413d-ba8a-0e5b7d5fa83e",
   "metadata": {},
   "source": [
    "#### When you attempt to combine different types they will be coerced in a fixed order: character → double → integer → logical. For example, combining a character and an integer yields a character."
   ]
  },
  {
   "cell_type": "code",
   "execution_count": null,
   "id": "a6b3f714-51a4-4fc1-b4e1-769c0db69c33",
   "metadata": {
    "tags": []
   },
   "outputs": [
    {
     "data": {
      "text/html": [
       "<style>\n",
       ".list-inline {list-style: none; margin:0; padding: 0}\n",
       ".list-inline>li {display: inline-block}\n",
       ".list-inline>li:not(:last-child)::after {content: \"\\00b7\"; padding: 0 .5ex}\n",
       "</style>\n",
       "<ol class=list-inline><li>'foo'</li><li>'bar'</li><li>'5'</li></ol>\n"
      ],
      "text/latex": [
       "\\begin{enumerate*}\n",
       "\\item 'foo'\n",
       "\\item 'bar'\n",
       "\\item '5'\n",
       "\\end{enumerate*}\n"
      ],
      "text/markdown": [
       "1. 'foo'\n",
       "2. 'bar'\n",
       "3. '5'\n",
       "\n",
       "\n"
      ],
      "text/plain": [
       "[1] \"foo\" \"bar\" \"5\"  "
      ]
     },
     "metadata": {},
     "output_type": "display_data"
    },
    {
     "data": {
      "text/html": [
       "<style>\n",
       ".list-inline {list-style: none; margin:0; padding: 0}\n",
       ".list-inline>li {display: inline-block}\n",
       ".list-inline>li:not(:last-child)::after {content: \"\\00b7\"; padding: 0 .5ex}\n",
       "</style>\n",
       "<ol class=list-inline><li>'5'</li><li>'fased'</li></ol>\n"
      ],
      "text/latex": [
       "\\begin{enumerate*}\n",
       "\\item '5'\n",
       "\\item 'fased'\n",
       "\\end{enumerate*}\n"
      ],
      "text/markdown": [
       "1. '5'\n",
       "2. 'fased'\n",
       "\n",
       "\n"
      ],
      "text/plain": [
       "[1] \"5\"     \"fased\""
      ]
     },
     "metadata": {},
     "output_type": "display_data"
    }
   ],
   "source": [
    "# wait, what?\n",
    "a <- append(c(\"foo\", \"bar\"), 5)\n",
    "b <- c(5, \"fased\")\n",
    "a\n",
    "b"
   ]
  },
  {
   "cell_type": "markdown",
   "id": "d3ca842a-f274-4130-b39b-e2ab7da2d87b",
   "metadata": {},
   "source": [
    "## Lists\n",
    "\n",
    "Lists can contain different elements"
   ]
  },
  {
   "cell_type": "code",
   "execution_count": 192,
   "id": "6c7eb5a8-8722-4bff-a50b-d9d3246be02b",
   "metadata": {
    "tags": []
   },
   "outputs": [
    {
     "data": {
      "text/html": [
       "'list'"
      ],
      "text/latex": [
       "'list'"
      ],
      "text/markdown": [
       "'list'"
      ],
      "text/plain": [
       "[1] \"list\""
      ]
     },
     "metadata": {},
     "output_type": "display_data"
    },
    {
     "data": {
      "text/html": [
       "<ol>\n",
       "\t<li>'foo'</li>\n",
       "\t<li>2</li>\n",
       "</ol>\n"
      ],
      "text/latex": [
       "\\begin{enumerate}\n",
       "\\item 'foo'\n",
       "\\item 2\n",
       "\\end{enumerate}\n"
      ],
      "text/markdown": [
       "1. 'foo'\n",
       "2. 2\n",
       "\n",
       "\n"
      ],
      "text/plain": [
       "[[1]]\n",
       "[1] \"foo\"\n",
       "\n",
       "[[2]]\n",
       "[1] 2\n"
      ]
     },
     "metadata": {},
     "output_type": "display_data"
    }
   ],
   "source": [
    "a <- list(\"foo\", 2)\n",
    "class(a)\n",
    "a"
   ]
  },
  {
   "cell_type": "code",
   "execution_count": null,
   "id": "2434f0fb-3e2b-4c30-929d-79067db13dc7",
   "metadata": {
    "tags": []
   },
   "outputs": [
    {
     "data": {
      "text/html": [
       "TRUE"
      ],
      "text/latex": [
       "TRUE"
      ],
      "text/markdown": [
       "TRUE"
      ],
      "text/plain": [
       "[1] TRUE"
      ]
     },
     "metadata": {},
     "output_type": "display_data"
    },
    {
     "data": {
      "text/html": [
       "TRUE"
      ],
      "text/latex": [
       "TRUE"
      ],
      "text/markdown": [
       "TRUE"
      ],
      "text/plain": [
       "[1] TRUE"
      ]
     },
     "metadata": {},
     "output_type": "display_data"
    },
    {
     "data": {
      "text/html": [
       "<ol>\n",
       "\t<li>'foo'</li>\n",
       "\t<li>2</li>\n",
       "\t<li>'bar'</li>\n",
       "</ol>\n"
      ],
      "text/latex": [
       "\\begin{enumerate}\n",
       "\\item 'foo'\n",
       "\\item 2\n",
       "\\item 'bar'\n",
       "\\end{enumerate}\n"
      ],
      "text/markdown": [
       "1. 'foo'\n",
       "2. 2\n",
       "3. 'bar'\n",
       "\n",
       "\n"
      ],
      "text/plain": [
       "[[1]]\n",
       "[1] \"foo\"\n",
       "\n",
       "[[2]]\n",
       "[1] 2\n",
       "\n",
       "[[3]]\n",
       "[1] \"bar\"\n"
      ]
     },
     "metadata": {},
     "output_type": "display_data"
    },
    {
     "data": {
      "text/html": [
       "<style>\n",
       ".list-inline {list-style: none; margin:0; padding: 0}\n",
       ".list-inline>li {display: inline-block}\n",
       ".list-inline>li:not(:last-child)::after {content: \"\\00b7\"; padding: 0 .5ex}\n",
       "</style>\n",
       "<ol class=list-inline><li>'bar'</li><li>'foo'</li><li>'bar'</li></ol>\n"
      ],
      "text/latex": [
       "\\begin{enumerate*}\n",
       "\\item 'bar'\n",
       "\\item 'foo'\n",
       "\\item 'bar'\n",
       "\\end{enumerate*}\n"
      ],
      "text/markdown": [
       "1. 'bar'\n",
       "2. 'foo'\n",
       "3. 'bar'\n",
       "\n",
       "\n"
      ],
      "text/plain": [
       "[1] \"bar\" \"foo\" \"bar\""
      ]
     },
     "metadata": {},
     "output_type": "display_data"
    }
   ],
   "source": [
    "\"foo\" %in% a\n",
    "\"foo\" %in% c(\"foo\", \"bar\")\n",
    "\n",
    "append(a, \"bar\")\n",
    "append(c(\"foo\", \"bar\"), \"bar\", after=0)"
   ]
  },
  {
   "cell_type": "code",
   "execution_count": 195,
   "id": "edd1e32e-2de2-4201-8414-577912a49f77",
   "metadata": {
    "tags": []
   },
   "outputs": [
    {
     "data": {
      "text/html": [
       "<ol>\n",
       "\t<li>'banana'</li>\n",
       "\t<li>'cherry'</li>\n",
       "</ol>\n"
      ],
      "text/latex": [
       "\\begin{enumerate}\n",
       "\\item 'banana'\n",
       "\\item 'cherry'\n",
       "\\end{enumerate}\n"
      ],
      "text/markdown": [
       "1. 'banana'\n",
       "2. 'cherry'\n",
       "\n",
       "\n"
      ],
      "text/plain": [
       "[[1]]\n",
       "[1] \"banana\"\n",
       "\n",
       "[[2]]\n",
       "[1] \"cherry\"\n"
      ]
     },
     "metadata": {},
     "output_type": "display_data"
    }
   ],
   "source": [
    "# removing items\n",
    "thislist <- list(\"apple\", \"banana\", \"cherry\")\n",
    "newlist <- thislist[-1]\n",
    "newlist"
   ]
  },
  {
   "cell_type": "markdown",
   "id": "3788e83b-b865-4e55-a116-5147cf026d4e",
   "metadata": {
    "tags": []
   },
   "source": [
    "# recap\n",
    "thislist <- list(\"apple\", \"banana\", \"cherry\", \"orange\", \"kiwi\", \"melon\", \"mango\")\n",
    "(thislist)[2:5]"
   ]
  },
  {
   "cell_type": "code",
   "execution_count": 196,
   "id": "d237bf7d-4f05-4ae1-9dfd-5dde08b09a3a",
   "metadata": {
    "tags": []
   },
   "outputs": [
    {
     "data": {
      "text/html": [
       "<ol>\n",
       "\t<li>'a'</li>\n",
       "\t<li>'b'</li>\n",
       "\t<li>'c'</li>\n",
       "\t<li>1</li>\n",
       "\t<li>2</li>\n",
       "\t<li>3</li>\n",
       "</ol>\n"
      ],
      "text/latex": [
       "\\begin{enumerate}\n",
       "\\item 'a'\n",
       "\\item 'b'\n",
       "\\item 'c'\n",
       "\\item 1\n",
       "\\item 2\n",
       "\\item 3\n",
       "\\end{enumerate}\n"
      ],
      "text/markdown": [
       "1. 'a'\n",
       "2. 'b'\n",
       "3. 'c'\n",
       "4. 1\n",
       "5. 2\n",
       "6. 3\n",
       "\n",
       "\n"
      ],
      "text/plain": [
       "[[1]]\n",
       "[1] \"a\"\n",
       "\n",
       "[[2]]\n",
       "[1] \"b\"\n",
       "\n",
       "[[3]]\n",
       "[1] \"c\"\n",
       "\n",
       "[[4]]\n",
       "[1] 1\n",
       "\n",
       "[[5]]\n",
       "[1] 2\n",
       "\n",
       "[[6]]\n",
       "[1] 3\n"
      ]
     },
     "metadata": {},
     "output_type": "display_data"
    }
   ],
   "source": [
    "# c() just combines elements together\n",
    "list1 <- list(\"a\", \"b\", \"c\")\n",
    "list2 <- list(1,2,3)\n",
    "list3 <- c(list1,list2)\n",
    "\n",
    "list3"
   ]
  },
  {
   "cell_type": "markdown",
   "id": "04b72714-1e0c-43bd-bf9f-819fd219e28f",
   "metadata": {
    "tags": []
   },
   "source": [
    "## Matrices"
   ]
  },
  {
   "cell_type": "code",
   "execution_count": 197,
   "id": "6917a4e0-b98d-4a36-9885-bbab3092cd97",
   "metadata": {
    "tags": []
   },
   "outputs": [
    {
     "data": {
      "text/html": [
       "<table class=\"dataframe\">\n",
       "<caption>A matrix: 3 × 2 of type dbl</caption>\n",
       "<tbody>\n",
       "\t<tr><td>1</td><td>4</td></tr>\n",
       "\t<tr><td>2</td><td>5</td></tr>\n",
       "\t<tr><td>3</td><td>6</td></tr>\n",
       "</tbody>\n",
       "</table>\n"
      ],
      "text/latex": [
       "A matrix: 3 × 2 of type dbl\n",
       "\\begin{tabular}{ll}\n",
       "\t 1 & 4\\\\\n",
       "\t 2 & 5\\\\\n",
       "\t 3 & 6\\\\\n",
       "\\end{tabular}\n"
      ],
      "text/markdown": [
       "\n",
       "A matrix: 3 × 2 of type dbl\n",
       "\n",
       "| 1 | 4 |\n",
       "| 2 | 5 |\n",
       "| 3 | 6 |\n",
       "\n"
      ],
      "text/plain": [
       "     [,1] [,2]\n",
       "[1,] 1    4   \n",
       "[2,] 2    5   \n",
       "[3,] 3    6   "
      ]
     },
     "metadata": {},
     "output_type": "display_data"
    },
    {
     "data": {
      "text/html": [
       "4"
      ],
      "text/latex": [
       "4"
      ],
      "text/markdown": [
       "4"
      ],
      "text/plain": [
       "[1] 4"
      ]
     },
     "metadata": {},
     "output_type": "display_data"
    },
    {
     "data": {
      "text/html": [
       "<style>\n",
       ".list-inline {list-style: none; margin:0; padding: 0}\n",
       ".list-inline>li {display: inline-block}\n",
       ".list-inline>li:not(:last-child)::after {content: \"\\00b7\"; padding: 0 .5ex}\n",
       "</style>\n",
       "<ol class=list-inline><li>2</li><li>5</li></ol>\n"
      ],
      "text/latex": [
       "\\begin{enumerate*}\n",
       "\\item 2\n",
       "\\item 5\n",
       "\\end{enumerate*}\n"
      ],
      "text/markdown": [
       "1. 2\n",
       "2. 5\n",
       "\n",
       "\n"
      ],
      "text/plain": [
       "[1] 2 5"
      ]
     },
     "metadata": {},
     "output_type": "display_data"
    },
    {
     "data": {
      "text/html": [
       "<style>\n",
       ".list-inline {list-style: none; margin:0; padding: 0}\n",
       ".list-inline>li {display: inline-block}\n",
       ".list-inline>li:not(:last-child)::after {content: \"\\00b7\"; padding: 0 .5ex}\n",
       "</style>\n",
       "<ol class=list-inline><li>4</li><li>5</li><li>6</li></ol>\n"
      ],
      "text/latex": [
       "\\begin{enumerate*}\n",
       "\\item 4\n",
       "\\item 5\n",
       "\\item 6\n",
       "\\end{enumerate*}\n"
      ],
      "text/markdown": [
       "1. 4\n",
       "2. 5\n",
       "3. 6\n",
       "\n",
       "\n"
      ],
      "text/plain": [
       "[1] 4 5 6"
      ]
     },
     "metadata": {},
     "output_type": "display_data"
    },
    {
     "data": {
      "text/html": [
       "<table class=\"dataframe\">\n",
       "<caption>A matrix: 2 × 2 of type dbl</caption>\n",
       "<tbody>\n",
       "\t<tr><td>1</td><td>4</td></tr>\n",
       "\t<tr><td>2</td><td>5</td></tr>\n",
       "</tbody>\n",
       "</table>\n"
      ],
      "text/latex": [
       "A matrix: 2 × 2 of type dbl\n",
       "\\begin{tabular}{ll}\n",
       "\t 1 & 4\\\\\n",
       "\t 2 & 5\\\\\n",
       "\\end{tabular}\n"
      ],
      "text/markdown": [
       "\n",
       "A matrix: 2 × 2 of type dbl\n",
       "\n",
       "| 1 | 4 |\n",
       "| 2 | 5 |\n",
       "\n"
      ],
      "text/plain": [
       "     [,1] [,2]\n",
       "[1,] 1    4   \n",
       "[2,] 2    5   "
      ]
     },
     "metadata": {},
     "output_type": "display_data"
    },
    {
     "data": {
      "text/html": [
       "<table class=\"dataframe\">\n",
       "<caption>A matrix: 3 × 2 of type dbl</caption>\n",
       "<tbody>\n",
       "\t<tr><td>1</td><td>4</td></tr>\n",
       "\t<tr><td>2</td><td>5</td></tr>\n",
       "\t<tr><td>3</td><td>6</td></tr>\n",
       "</tbody>\n",
       "</table>\n"
      ],
      "text/latex": [
       "A matrix: 3 × 2 of type dbl\n",
       "\\begin{tabular}{ll}\n",
       "\t 1 & 4\\\\\n",
       "\t 2 & 5\\\\\n",
       "\t 3 & 6\\\\\n",
       "\\end{tabular}\n"
      ],
      "text/markdown": [
       "\n",
       "A matrix: 3 × 2 of type dbl\n",
       "\n",
       "| 1 | 4 |\n",
       "| 2 | 5 |\n",
       "| 3 | 6 |\n",
       "\n"
      ],
      "text/plain": [
       "     [,1] [,2]\n",
       "[1,] 1    4   \n",
       "[2,] 2    5   \n",
       "[3,] 3    6   "
      ]
     },
     "metadata": {},
     "output_type": "display_data"
    }
   ],
   "source": [
    "thismatrix <- matrix(c(1,2,3,4,5,6), nrow = 3, ncol = 2)\n",
    "\n",
    "# Print the matrix\n",
    "thismatrix\n",
    "thismatrix[1, 2]\n",
    "thismatrix[2,]\n",
    "thismatrix[,2]\n",
    "thismatrix[c(1,2),]\n",
    "thismatrix[, c(1,2)]"
   ]
  },
  {
   "cell_type": "markdown",
   "id": "f286b87e-1eb3-4587-94f8-d97240dbd9a5",
   "metadata": {},
   "source": [
    "### Modifying matrices"
   ]
  },
  {
   "cell_type": "code",
   "execution_count": 198,
   "id": "2703e860-df64-4498-9e09-b80bd99e1e01",
   "metadata": {
    "tags": []
   },
   "outputs": [
    {
     "data": {
      "text/html": [
       "<table class=\"dataframe\">\n",
       "<caption>A matrix: 3 × 2 of type chr</caption>\n",
       "<tbody>\n",
       "\t<tr><td>apple </td><td>orange   </td></tr>\n",
       "\t<tr><td>banana</td><td>mango    </td></tr>\n",
       "\t<tr><td>cherry</td><td>pineapple</td></tr>\n",
       "</tbody>\n",
       "</table>\n"
      ],
      "text/latex": [
       "A matrix: 3 × 2 of type chr\n",
       "\\begin{tabular}{ll}\n",
       "\t apple  & orange   \\\\\n",
       "\t banana & mango    \\\\\n",
       "\t cherry & pineapple\\\\\n",
       "\\end{tabular}\n"
      ],
      "text/markdown": [
       "\n",
       "A matrix: 3 × 2 of type chr\n",
       "\n",
       "| apple  | orange    |\n",
       "| banana | mango     |\n",
       "| cherry | pineapple |\n",
       "\n"
      ],
      "text/plain": [
       "     [,1]   [,2]     \n",
       "[1,] apple  orange   \n",
       "[2,] banana mango    \n",
       "[3,] cherry pineapple"
      ]
     },
     "metadata": {},
     "output_type": "display_data"
    },
    {
     "data": {
      "text/html": [
       "<table class=\"dataframe\">\n",
       "<caption>A matrix: 3 × 3 of type chr</caption>\n",
       "<tbody>\n",
       "\t<tr><td>apple </td><td>orange   </td><td>strawberry</td></tr>\n",
       "\t<tr><td>banana</td><td>mango    </td><td>blueberry </td></tr>\n",
       "\t<tr><td>cherry</td><td>pineapple</td><td>raspberry </td></tr>\n",
       "</tbody>\n",
       "</table>\n"
      ],
      "text/latex": [
       "A matrix: 3 × 3 of type chr\n",
       "\\begin{tabular}{lll}\n",
       "\t apple  & orange    & strawberry\\\\\n",
       "\t banana & mango     & blueberry \\\\\n",
       "\t cherry & pineapple & raspberry \\\\\n",
       "\\end{tabular}\n"
      ],
      "text/markdown": [
       "\n",
       "A matrix: 3 × 3 of type chr\n",
       "\n",
       "| apple  | orange    | strawberry |\n",
       "| banana | mango     | blueberry  |\n",
       "| cherry | pineapple | raspberry  |\n",
       "\n"
      ],
      "text/plain": [
       "     [,1]   [,2]      [,3]      \n",
       "[1,] apple  orange    strawberry\n",
       "[2,] banana mango     blueberry \n",
       "[3,] cherry pineapple raspberry "
      ]
     },
     "metadata": {},
     "output_type": "display_data"
    },
    {
     "data": {
      "text/html": [
       "<table class=\"dataframe\">\n",
       "<caption>A matrix: 4 × 2 of type chr</caption>\n",
       "<tbody>\n",
       "\t<tr><td>apple     </td><td>orange   </td></tr>\n",
       "\t<tr><td>banana    </td><td>mango    </td></tr>\n",
       "\t<tr><td>cherry    </td><td>pineapple</td></tr>\n",
       "\t<tr><td>strawberry</td><td>blueberry</td></tr>\n",
       "</tbody>\n",
       "</table>\n"
      ],
      "text/latex": [
       "A matrix: 4 × 2 of type chr\n",
       "\\begin{tabular}{ll}\n",
       "\t apple      & orange   \\\\\n",
       "\t banana     & mango    \\\\\n",
       "\t cherry     & pineapple\\\\\n",
       "\t strawberry & blueberry\\\\\n",
       "\\end{tabular}\n"
      ],
      "text/markdown": [
       "\n",
       "A matrix: 4 × 2 of type chr\n",
       "\n",
       "| apple      | orange    |\n",
       "| banana     | mango     |\n",
       "| cherry     | pineapple |\n",
       "| strawberry | blueberry |\n",
       "\n"
      ],
      "text/plain": [
       "     [,1]       [,2]     \n",
       "[1,] apple      orange   \n",
       "[2,] banana     mango    \n",
       "[3,] cherry     pineapple\n",
       "[4,] strawberry blueberry"
      ]
     },
     "metadata": {},
     "output_type": "display_data"
    },
    {
     "data": {
      "text/html": [
       "<style>\n",
       ".list-inline {list-style: none; margin:0; padding: 0}\n",
       ".list-inline>li {display: inline-block}\n",
       ".list-inline>li:not(:last-child)::after {content: \"\\00b7\"; padding: 0 .5ex}\n",
       "</style>\n",
       "<ol class=list-inline><li>'mango'</li><li>'pineapple'</li></ol>\n"
      ],
      "text/latex": [
       "\\begin{enumerate*}\n",
       "\\item 'mango'\n",
       "\\item 'pineapple'\n",
       "\\end{enumerate*}\n"
      ],
      "text/markdown": [
       "1. 'mango'\n",
       "2. 'pineapple'\n",
       "\n",
       "\n"
      ],
      "text/plain": [
       "[1] \"mango\"     \"pineapple\""
      ]
     },
     "metadata": {},
     "output_type": "display_data"
    }
   ],
   "source": [
    "thismatrix <- matrix(c(\"apple\", \"banana\", \"cherry\", \"orange\", \"mango\", \"pineapple\"), nrow = 3, ncol =2)\n",
    "thismatrix\n",
    "cbind(thismatrix, c(\"strawberry\", \"blueberry\", \"raspberry\"))\n",
    "rbind(thismatrix, c(\"strawberry\", \"blueberry\"))\n",
    "thismatrix[-1, -1]"
   ]
  },
  {
   "cell_type": "code",
   "execution_count": 199,
   "id": "04436537-6148-4d4a-92cd-080ac85f39a9",
   "metadata": {
    "tags": []
   },
   "outputs": [
    {
     "data": {
      "text/html": [
       "<style>\n",
       ".list-inline {list-style: none; margin:0; padding: 0}\n",
       ".list-inline>li {display: inline-block}\n",
       ".list-inline>li:not(:last-child)::after {content: \"\\00b7\"; padding: 0 .5ex}\n",
       "</style>\n",
       "<ol class=list-inline><li>3</li><li>2</li></ol>\n"
      ],
      "text/latex": [
       "\\begin{enumerate*}\n",
       "\\item 3\n",
       "\\item 2\n",
       "\\end{enumerate*}\n"
      ],
      "text/markdown": [
       "1. 3\n",
       "2. 2\n",
       "\n",
       "\n"
      ],
      "text/plain": [
       "[1] 3 2"
      ]
     },
     "metadata": {},
     "output_type": "display_data"
    },
    {
     "data": {
      "text/html": [
       "6"
      ],
      "text/latex": [
       "6"
      ],
      "text/markdown": [
       "6"
      ],
      "text/plain": [
       "[1] 6"
      ]
     },
     "metadata": {},
     "output_type": "display_data"
    }
   ],
   "source": [
    "dim(thismatrix)\n",
    "length(thismatrix)"
   ]
  },
  {
   "cell_type": "markdown",
   "id": "9bb0be2a-b431-4859-9aa0-67c863e98258",
   "metadata": {},
   "source": [
    "### Looping matrices"
   ]
  },
  {
   "cell_type": "code",
   "execution_count": 200,
   "id": "49eaf2fe-9171-4d06-aa51-5690aaf26c63",
   "metadata": {
    "tags": []
   },
   "outputs": [
    {
     "name": "stdout",
     "output_type": "stream",
     "text": [
      "[1] \"apple\"\n",
      "[1] \"orange\"\n",
      "[1] \"banana\"\n",
      "[1] \"mango\"\n",
      "[1] \"cherry\"\n",
      "[1] \"pineapple\"\n"
     ]
    }
   ],
   "source": [
    "for (rows in 1:nrow(thismatrix)) {\n",
    "  for (columns in 1:ncol(thismatrix)) {\n",
    "    print(thismatrix[rows, columns])\n",
    "  }\n",
    "}"
   ]
  },
  {
   "cell_type": "markdown",
   "id": "392b427d-fd0b-494f-a747-3a63c75a0749",
   "metadata": {},
   "source": [
    "### Combining matrices"
   ]
  },
  {
   "cell_type": "code",
   "execution_count": 201,
   "id": "3225fdac-0092-4bb9-9ec8-44cc013a376c",
   "metadata": {
    "tags": []
   },
   "outputs": [
    {
     "data": {
      "text/html": [
       "<table class=\"dataframe\">\n",
       "<caption>A matrix: 4 × 2 of type chr</caption>\n",
       "<tbody>\n",
       "\t<tr><td>apple </td><td>cherry    </td></tr>\n",
       "\t<tr><td>banana</td><td>grape     </td></tr>\n",
       "\t<tr><td>orange</td><td>pineapple </td></tr>\n",
       "\t<tr><td>mango </td><td>watermelon</td></tr>\n",
       "</tbody>\n",
       "</table>\n"
      ],
      "text/latex": [
       "A matrix: 4 × 2 of type chr\n",
       "\\begin{tabular}{ll}\n",
       "\t apple  & cherry    \\\\\n",
       "\t banana & grape     \\\\\n",
       "\t orange & pineapple \\\\\n",
       "\t mango  & watermelon\\\\\n",
       "\\end{tabular}\n"
      ],
      "text/markdown": [
       "\n",
       "A matrix: 4 × 2 of type chr\n",
       "\n",
       "| apple  | cherry     |\n",
       "| banana | grape      |\n",
       "| orange | pineapple  |\n",
       "| mango  | watermelon |\n",
       "\n"
      ],
      "text/plain": [
       "     [,1]   [,2]      \n",
       "[1,] apple  cherry    \n",
       "[2,] banana grape     \n",
       "[3,] orange pineapple \n",
       "[4,] mango  watermelon"
      ]
     },
     "metadata": {},
     "output_type": "display_data"
    },
    {
     "data": {
      "text/html": [
       "<table class=\"dataframe\">\n",
       "<caption>A matrix: 2 × 4 of type chr</caption>\n",
       "<tbody>\n",
       "\t<tr><td>apple </td><td>cherry</td><td>orange</td><td>pineapple </td></tr>\n",
       "\t<tr><td>banana</td><td>grape </td><td>mango </td><td>watermelon</td></tr>\n",
       "</tbody>\n",
       "</table>\n"
      ],
      "text/latex": [
       "A matrix: 2 × 4 of type chr\n",
       "\\begin{tabular}{llll}\n",
       "\t apple  & cherry & orange & pineapple \\\\\n",
       "\t banana & grape  & mango  & watermelon\\\\\n",
       "\\end{tabular}\n"
      ],
      "text/markdown": [
       "\n",
       "A matrix: 2 × 4 of type chr\n",
       "\n",
       "| apple  | cherry | orange | pineapple  |\n",
       "| banana | grape  | mango  | watermelon |\n",
       "\n"
      ],
      "text/plain": [
       "     [,1]   [,2]   [,3]   [,4]      \n",
       "[1,] apple  cherry orange pineapple \n",
       "[2,] banana grape  mango  watermelon"
      ]
     },
     "metadata": {},
     "output_type": "display_data"
    }
   ],
   "source": [
    "# Combine matrices\n",
    "Matrix1 <- matrix(c(\"apple\", \"banana\", \"cherry\", \"grape\"), nrow = 2, ncol = 2)\n",
    "Matrix2 <- matrix(c(\"orange\", \"mango\", \"pineapple\", \"watermelon\"), nrow = 2, ncol = 2)\n",
    "\n",
    "# Adding it as a rows\n",
    "Matrix_Combined <- rbind(Matrix1, Matrix2)\n",
    "Matrix_Combined\n",
    "\n",
    "# Adding it as a columns\n",
    "Matrix_Combined <- cbind(Matrix1, Matrix2)\n",
    "Matrix_Combined"
   ]
  },
  {
   "cell_type": "markdown",
   "id": "0ddc5a99-c8b7-4c85-a147-9ee424093236",
   "metadata": {},
   "source": [
    "### Arrays"
   ]
  },
  {
   "cell_type": "code",
   "execution_count": 202,
   "id": "75fddbdb-5e93-4af6-8e1f-0fbdde56b62d",
   "metadata": {
    "tags": []
   },
   "outputs": [
    {
     "data": {
      "text/html": [
       "<style>\n",
       ".list-inline {list-style: none; margin:0; padding: 0}\n",
       ".list-inline>li {display: inline-block}\n",
       ".list-inline>li:not(:last-child)::after {content: \"\\00b7\"; padding: 0 .5ex}\n",
       "</style>\n",
       "<ol class=list-inline><li>1</li><li>2</li><li>3</li><li>4</li><li>5</li><li>6</li><li>7</li><li>8</li><li>9</li><li>10</li><li>11</li><li>12</li><li>13</li><li>14</li><li>15</li><li>16</li><li>17</li><li>18</li><li>19</li><li>20</li><li>21</li><li>22</li><li>23</li><li>24</li></ol>\n"
      ],
      "text/latex": [
       "\\begin{enumerate*}\n",
       "\\item 1\n",
       "\\item 2\n",
       "\\item 3\n",
       "\\item 4\n",
       "\\item 5\n",
       "\\item 6\n",
       "\\item 7\n",
       "\\item 8\n",
       "\\item 9\n",
       "\\item 10\n",
       "\\item 11\n",
       "\\item 12\n",
       "\\item 13\n",
       "\\item 14\n",
       "\\item 15\n",
       "\\item 16\n",
       "\\item 17\n",
       "\\item 18\n",
       "\\item 19\n",
       "\\item 20\n",
       "\\item 21\n",
       "\\item 22\n",
       "\\item 23\n",
       "\\item 24\n",
       "\\end{enumerate*}\n"
      ],
      "text/markdown": [
       "1. 1\n",
       "2. 2\n",
       "3. 3\n",
       "4. 4\n",
       "5. 5\n",
       "6. 6\n",
       "7. 7\n",
       "8. 8\n",
       "9. 9\n",
       "10. 10\n",
       "11. 11\n",
       "12. 12\n",
       "13. 13\n",
       "14. 14\n",
       "15. 15\n",
       "16. 16\n",
       "17. 17\n",
       "18. 18\n",
       "19. 19\n",
       "20. 20\n",
       "21. 21\n",
       "22. 22\n",
       "23. 23\n",
       "24. 24\n",
       "\n",
       "\n"
      ],
      "text/plain": [
       " [1]  1  2  3  4  5  6  7  8  9 10 11 12 13 14 15 16 17 18 19 20 21 22 23 24"
      ]
     },
     "metadata": {},
     "output_type": "display_data"
    },
    {
     "data": {
      "text/html": [
       "<style>\n",
       ".list-inline {list-style: none; margin:0; padding: 0}\n",
       ".list-inline>li {display: inline-block}\n",
       ".list-inline>li:not(:last-child)::after {content: \"\\00b7\"; padding: 0 .5ex}\n",
       "</style>\n",
       "<ol class=list-inline><li>1</li><li>2</li><li>3</li><li>4</li><li>5</li><li>6</li><li>7</li><li>8</li><li>9</li><li>10</li><li>11</li><li>12</li><li>13</li><li>14</li><li>15</li><li>16</li><li>17</li><li>18</li><li>19</li><li>20</li><li>21</li><li>22</li><li>23</li><li>24</li></ol>\n"
      ],
      "text/latex": [
       "\\begin{enumerate*}\n",
       "\\item 1\n",
       "\\item 2\n",
       "\\item 3\n",
       "\\item 4\n",
       "\\item 5\n",
       "\\item 6\n",
       "\\item 7\n",
       "\\item 8\n",
       "\\item 9\n",
       "\\item 10\n",
       "\\item 11\n",
       "\\item 12\n",
       "\\item 13\n",
       "\\item 14\n",
       "\\item 15\n",
       "\\item 16\n",
       "\\item 17\n",
       "\\item 18\n",
       "\\item 19\n",
       "\\item 20\n",
       "\\item 21\n",
       "\\item 22\n",
       "\\item 23\n",
       "\\item 24\n",
       "\\end{enumerate*}\n"
      ],
      "text/markdown": [
       "1. 1\n",
       "2. 2\n",
       "3. 3\n",
       "4. 4\n",
       "5. 5\n",
       "6. 6\n",
       "7. 7\n",
       "8. 8\n",
       "9. 9\n",
       "10. 10\n",
       "11. 11\n",
       "12. 12\n",
       "13. 13\n",
       "14. 14\n",
       "15. 15\n",
       "16. 16\n",
       "17. 17\n",
       "18. 18\n",
       "19. 19\n",
       "20. 20\n",
       "21. 21\n",
       "22. 22\n",
       "23. 23\n",
       "24. 24\n",
       "\n",
       "\n"
      ],
      "text/plain": [
       ", , 1\n",
       "\n",
       "     [,1] [,2] [,3]\n",
       "[1,]    1    5    9\n",
       "[2,]    2    6   10\n",
       "[3,]    3    7   11\n",
       "[4,]    4    8   12\n",
       "\n",
       ", , 2\n",
       "\n",
       "     [,1] [,2] [,3]\n",
       "[1,]   13   17   21\n",
       "[2,]   14   18   22\n",
       "[3,]   15   19   23\n",
       "[4,]   16   20   24\n"
      ]
     },
     "metadata": {},
     "output_type": "display_data"
    }
   ],
   "source": [
    "# An array with one dimension with values ranging from 1 to 24\n",
    "thisarray <- c(1:24)\n",
    "thisarray\n",
    "\n",
    "# An array with more than one dimension\n",
    "multiarray <- array(thisarray, dim = c(4, 3, 2)) # c(nrows, ncols, dim.)\n",
    "multiarray"
   ]
  },
  {
   "cell_type": "markdown",
   "id": "20d03b9e-f4ee-470b-bcfa-c99e5bafc1eb",
   "metadata": {},
   "source": [
    "## Data frames\n",
    "It's just like a matrix, but the columns have names. So a table."
   ]
  },
  {
   "cell_type": "code",
   "execution_count": 203,
   "id": "bb217499-6f45-49aa-bfd8-0b55cc08e397",
   "metadata": {
    "tags": []
   },
   "outputs": [
    {
     "data": {
      "text/html": [
       "<table class=\"dataframe\">\n",
       "<caption>A data.frame: 3 × 3</caption>\n",
       "<thead>\n",
       "\t<tr><th scope=col>Training</th><th scope=col>Pulse</th><th scope=col>Duration</th></tr>\n",
       "\t<tr><th scope=col>&lt;chr&gt;</th><th scope=col>&lt;dbl&gt;</th><th scope=col>&lt;dbl&gt;</th></tr>\n",
       "</thead>\n",
       "<tbody>\n",
       "\t<tr><td>Strength</td><td>100</td><td>60</td></tr>\n",
       "\t<tr><td>Stamina </td><td>150</td><td>30</td></tr>\n",
       "\t<tr><td>Other   </td><td>120</td><td>45</td></tr>\n",
       "</tbody>\n",
       "</table>\n"
      ],
      "text/latex": [
       "A data.frame: 3 × 3\n",
       "\\begin{tabular}{lll}\n",
       " Training & Pulse & Duration\\\\\n",
       " <chr> & <dbl> & <dbl>\\\\\n",
       "\\hline\n",
       "\t Strength & 100 & 60\\\\\n",
       "\t Stamina  & 150 & 30\\\\\n",
       "\t Other    & 120 & 45\\\\\n",
       "\\end{tabular}\n"
      ],
      "text/markdown": [
       "\n",
       "A data.frame: 3 × 3\n",
       "\n",
       "| Training &lt;chr&gt; | Pulse &lt;dbl&gt; | Duration &lt;dbl&gt; |\n",
       "|---|---|---|\n",
       "| Strength | 100 | 60 |\n",
       "| Stamina  | 150 | 30 |\n",
       "| Other    | 120 | 45 |\n",
       "\n"
      ],
      "text/plain": [
       "  Training Pulse Duration\n",
       "1 Strength 100   60      \n",
       "2 Stamina  150   30      \n",
       "3 Other    120   45      "
      ]
     },
     "metadata": {},
     "output_type": "display_data"
    },
    {
     "data": {
      "text/plain": [
       "   Training             Pulse          Duration   \n",
       " Length:3           Min.   :100.0   Min.   :30.0  \n",
       " Class :character   1st Qu.:110.0   1st Qu.:37.5  \n",
       " Mode  :character   Median :120.0   Median :45.0  \n",
       "                    Mean   :123.3   Mean   :45.0  \n",
       "                    3rd Qu.:135.0   3rd Qu.:52.5  \n",
       "                    Max.   :150.0   Max.   :60.0  "
      ]
     },
     "metadata": {},
     "output_type": "display_data"
    }
   ],
   "source": [
    "Data_Frame <- data.frame (\n",
    "  Training = c(\"Strength\", \"Stamina\", \"Other\"),\n",
    "  Pulse = c(100, 150, 120),\n",
    "  Duration = c(60, 30, 45)\n",
    ")\n",
    "\n",
    "Data_Frame\n",
    "summary(Data_Frame)"
   ]
  },
  {
   "cell_type": "code",
   "execution_count": 204,
   "id": "6c84d15f-f883-41d4-bb27-a371e37e9445",
   "metadata": {
    "tags": []
   },
   "outputs": [
    {
     "data": {
      "text/html": [
       "<table class=\"dataframe\">\n",
       "<caption>A data.frame: 3 × 1</caption>\n",
       "<thead>\n",
       "\t<tr><th scope=col>Training</th></tr>\n",
       "\t<tr><th scope=col>&lt;chr&gt;</th></tr>\n",
       "</thead>\n",
       "<tbody>\n",
       "\t<tr><td>Strength</td></tr>\n",
       "\t<tr><td>Stamina </td></tr>\n",
       "\t<tr><td>Other   </td></tr>\n",
       "</tbody>\n",
       "</table>\n"
      ],
      "text/latex": [
       "A data.frame: 3 × 1\n",
       "\\begin{tabular}{l}\n",
       " Training\\\\\n",
       " <chr>\\\\\n",
       "\\hline\n",
       "\t Strength\\\\\n",
       "\t Stamina \\\\\n",
       "\t Other   \\\\\n",
       "\\end{tabular}\n"
      ],
      "text/markdown": [
       "\n",
       "A data.frame: 3 × 1\n",
       "\n",
       "| Training &lt;chr&gt; |\n",
       "|---|\n",
       "| Strength |\n",
       "| Stamina  |\n",
       "| Other    |\n",
       "\n"
      ],
      "text/plain": [
       "  Training\n",
       "1 Strength\n",
       "2 Stamina \n",
       "3 Other   "
      ]
     },
     "metadata": {},
     "output_type": "display_data"
    },
    {
     "data": {
      "text/html": [
       "<style>\n",
       ".list-inline {list-style: none; margin:0; padding: 0}\n",
       ".list-inline>li {display: inline-block}\n",
       ".list-inline>li:not(:last-child)::after {content: \"\\00b7\"; padding: 0 .5ex}\n",
       "</style>\n",
       "<ol class=list-inline><li>'Strength'</li><li>'Stamina'</li><li>'Other'</li></ol>\n"
      ],
      "text/latex": [
       "\\begin{enumerate*}\n",
       "\\item 'Strength'\n",
       "\\item 'Stamina'\n",
       "\\item 'Other'\n",
       "\\end{enumerate*}\n"
      ],
      "text/markdown": [
       "1. 'Strength'\n",
       "2. 'Stamina'\n",
       "3. 'Other'\n",
       "\n",
       "\n"
      ],
      "text/plain": [
       "[1] \"Strength\" \"Stamina\"  \"Other\"   "
      ]
     },
     "metadata": {},
     "output_type": "display_data"
    },
    {
     "data": {
      "text/html": [
       "<style>\n",
       ".list-inline {list-style: none; margin:0; padding: 0}\n",
       ".list-inline>li {display: inline-block}\n",
       ".list-inline>li:not(:last-child)::after {content: \"\\00b7\"; padding: 0 .5ex}\n",
       "</style>\n",
       "<ol class=list-inline><li>'Strength'</li><li>'Stamina'</li><li>'Other'</li></ol>\n"
      ],
      "text/latex": [
       "\\begin{enumerate*}\n",
       "\\item 'Strength'\n",
       "\\item 'Stamina'\n",
       "\\item 'Other'\n",
       "\\end{enumerate*}\n"
      ],
      "text/markdown": [
       "1. 'Strength'\n",
       "2. 'Stamina'\n",
       "3. 'Other'\n",
       "\n",
       "\n"
      ],
      "text/plain": [
       "[1] \"Strength\" \"Stamina\"  \"Other\"   "
      ]
     },
     "metadata": {},
     "output_type": "display_data"
    }
   ],
   "source": [
    "Data_Frame[1]\n",
    "\n",
    "Data_Frame[[\"Training\"]]\n",
    "\n",
    "Data_Frame$Training"
   ]
  },
  {
   "cell_type": "code",
   "execution_count": 205,
   "id": "4b172241-3fc3-40b4-908e-182eb3c276e0",
   "metadata": {
    "tags": []
   },
   "outputs": [
    {
     "data": {
      "text/html": [
       "<table class=\"dataframe\">\n",
       "<caption>A data.frame: 4 × 3</caption>\n",
       "<thead>\n",
       "\t<tr><th scope=col>Training</th><th scope=col>Pulse</th><th scope=col>Duration</th></tr>\n",
       "\t<tr><th scope=col>&lt;chr&gt;</th><th scope=col>&lt;chr&gt;</th><th scope=col>&lt;chr&gt;</th></tr>\n",
       "</thead>\n",
       "<tbody>\n",
       "\t<tr><td>Strength</td><td>100</td><td>60 </td></tr>\n",
       "\t<tr><td>Stamina </td><td>150</td><td>30 </td></tr>\n",
       "\t<tr><td>Other   </td><td>120</td><td>45 </td></tr>\n",
       "\t<tr><td>Strength</td><td>110</td><td>110</td></tr>\n",
       "</tbody>\n",
       "</table>\n"
      ],
      "text/latex": [
       "A data.frame: 4 × 3\n",
       "\\begin{tabular}{lll}\n",
       " Training & Pulse & Duration\\\\\n",
       " <chr> & <chr> & <chr>\\\\\n",
       "\\hline\n",
       "\t Strength & 100 & 60 \\\\\n",
       "\t Stamina  & 150 & 30 \\\\\n",
       "\t Other    & 120 & 45 \\\\\n",
       "\t Strength & 110 & 110\\\\\n",
       "\\end{tabular}\n"
      ],
      "text/markdown": [
       "\n",
       "A data.frame: 4 × 3\n",
       "\n",
       "| Training &lt;chr&gt; | Pulse &lt;chr&gt; | Duration &lt;chr&gt; |\n",
       "|---|---|---|\n",
       "| Strength | 100 | 60  |\n",
       "| Stamina  | 150 | 30  |\n",
       "| Other    | 120 | 45  |\n",
       "| Strength | 110 | 110 |\n",
       "\n"
      ],
      "text/plain": [
       "  Training Pulse Duration\n",
       "1 Strength 100   60      \n",
       "2 Stamina  150   30      \n",
       "3 Other    120   45      \n",
       "4 Strength 110   110     "
      ]
     },
     "metadata": {},
     "output_type": "display_data"
    },
    {
     "data": {
      "text/html": [
       "<table class=\"dataframe\">\n",
       "<caption>A data.frame: 3 × 4</caption>\n",
       "<thead>\n",
       "\t<tr><th scope=col>Training</th><th scope=col>Pulse</th><th scope=col>Duration</th><th scope=col>Steps</th></tr>\n",
       "\t<tr><th scope=col>&lt;chr&gt;</th><th scope=col>&lt;dbl&gt;</th><th scope=col>&lt;dbl&gt;</th><th scope=col>&lt;dbl&gt;</th></tr>\n",
       "</thead>\n",
       "<tbody>\n",
       "\t<tr><td>Strength</td><td>100</td><td>60</td><td>1000</td></tr>\n",
       "\t<tr><td>Stamina </td><td>150</td><td>30</td><td>6000</td></tr>\n",
       "\t<tr><td>Other   </td><td>120</td><td>45</td><td>2000</td></tr>\n",
       "</tbody>\n",
       "</table>\n"
      ],
      "text/latex": [
       "A data.frame: 3 × 4\n",
       "\\begin{tabular}{llll}\n",
       " Training & Pulse & Duration & Steps\\\\\n",
       " <chr> & <dbl> & <dbl> & <dbl>\\\\\n",
       "\\hline\n",
       "\t Strength & 100 & 60 & 1000\\\\\n",
       "\t Stamina  & 150 & 30 & 6000\\\\\n",
       "\t Other    & 120 & 45 & 2000\\\\\n",
       "\\end{tabular}\n"
      ],
      "text/markdown": [
       "\n",
       "A data.frame: 3 × 4\n",
       "\n",
       "| Training &lt;chr&gt; | Pulse &lt;dbl&gt; | Duration &lt;dbl&gt; | Steps &lt;dbl&gt; |\n",
       "|---|---|---|---|\n",
       "| Strength | 100 | 60 | 1000 |\n",
       "| Stamina  | 150 | 30 | 6000 |\n",
       "| Other    | 120 | 45 | 2000 |\n",
       "\n"
      ],
      "text/plain": [
       "  Training Pulse Duration Steps\n",
       "1 Strength 100   60       1000 \n",
       "2 Stamina  150   30       6000 \n",
       "3 Other    120   45       2000 "
      ]
     },
     "metadata": {},
     "output_type": "display_data"
    }
   ],
   "source": [
    "New_row_DF <- rbind(Data_Frame, c(\"Strength\", 110, 110))\n",
    "New_row_DF\n",
    "New_col_DF <- cbind(Data_Frame, Steps = c(1000, 6000, 2000))\n",
    "New_col_DF"
   ]
  },
  {
   "cell_type": "code",
   "execution_count": 206,
   "id": "4c8cc09a-3ccb-4c32-8f5c-5ddced7c1956",
   "metadata": {
    "tags": []
   },
   "outputs": [
    {
     "data": {
      "text/html": [
       "<table class=\"dataframe\">\n",
       "<caption>A data.frame: 2 × 2</caption>\n",
       "<thead>\n",
       "\t<tr><th></th><th scope=col>Training</th><th scope=col>Duration</th></tr>\n",
       "\t<tr><th></th><th scope=col>&lt;chr&gt;</th><th scope=col>&lt;dbl&gt;</th></tr>\n",
       "</thead>\n",
       "<tbody>\n",
       "\t<tr><th scope=row>2</th><td>Stamina</td><td>30</td></tr>\n",
       "\t<tr><th scope=row>3</th><td>Other  </td><td>45</td></tr>\n",
       "</tbody>\n",
       "</table>\n"
      ],
      "text/latex": [
       "A data.frame: 2 × 2\n",
       "\\begin{tabular}{r|ll}\n",
       "  & Training & Duration\\\\\n",
       "  & <chr> & <dbl>\\\\\n",
       "\\hline\n",
       "\t2 & Stamina & 30\\\\\n",
       "\t3 & Other   & 45\\\\\n",
       "\\end{tabular}\n"
      ],
      "text/markdown": [
       "\n",
       "A data.frame: 2 × 2\n",
       "\n",
       "| <!--/--> | Training &lt;chr&gt; | Duration &lt;dbl&gt; |\n",
       "|---|---|---|\n",
       "| 2 | Stamina | 30 |\n",
       "| 3 | Other   | 45 |\n",
       "\n"
      ],
      "text/plain": [
       "  Training Duration\n",
       "2 Stamina  30      \n",
       "3 Other    45      "
      ]
     },
     "metadata": {},
     "output_type": "display_data"
    }
   ],
   "source": [
    "Data_Frame[-1, -2]\n",
    "# removed the first row, and second column"
   ]
  },
  {
   "cell_type": "markdown",
   "id": "21921969-66f7-4921-9f2e-fcd667b43cc2",
   "metadata": {},
   "source": [
    "## Factors"
   ]
  },
  {
   "cell_type": "code",
   "execution_count": 207,
   "id": "10404bd2-9262-4cd4-a808-4f292bef5503",
   "metadata": {
    "tags": []
   },
   "outputs": [
    {
     "data": {
      "text/html": [
       "<style>\n",
       ".list-inline {list-style: none; margin:0; padding: 0}\n",
       ".list-inline>li {display: inline-block}\n",
       ".list-inline>li:not(:last-child)::after {content: \"\\00b7\"; padding: 0 .5ex}\n",
       "</style>\n",
       "<ol class=list-inline><li>Jazz</li><li>Rock</li><li>Classic</li><li>Classic</li><li>Pop</li><li>Jazz</li><li>Rock</li><li>Jazz</li></ol>\n",
       "\n",
       "<details>\n",
       "\t<summary style=display:list-item;cursor:pointer>\n",
       "\t\t<strong>Levels</strong>:\n",
       "\t</summary>\n",
       "\t<style>\n",
       "\t.list-inline {list-style: none; margin:0; padding: 0}\n",
       "\t.list-inline>li {display: inline-block}\n",
       "\t.list-inline>li:not(:last-child)::after {content: \"\\00b7\"; padding: 0 .5ex}\n",
       "\t</style>\n",
       "\t<ol class=list-inline><li>'Classic'</li><li>'Jazz'</li><li>'Pop'</li><li>'Rock'</li></ol>\n",
       "</details>"
      ],
      "text/latex": [
       "\\begin{enumerate*}\n",
       "\\item Jazz\n",
       "\\item Rock\n",
       "\\item Classic\n",
       "\\item Classic\n",
       "\\item Pop\n",
       "\\item Jazz\n",
       "\\item Rock\n",
       "\\item Jazz\n",
       "\\end{enumerate*}\n",
       "\n",
       "\\emph{Levels}: \\begin{enumerate*}\n",
       "\\item 'Classic'\n",
       "\\item 'Jazz'\n",
       "\\item 'Pop'\n",
       "\\item 'Rock'\n",
       "\\end{enumerate*}\n"
      ],
      "text/markdown": [
       "1. Jazz\n",
       "2. Rock\n",
       "3. Classic\n",
       "4. Classic\n",
       "5. Pop\n",
       "6. Jazz\n",
       "7. Rock\n",
       "8. Jazz\n",
       "\n",
       "\n",
       "\n",
       "**Levels**: 1. 'Classic'\n",
       "2. 'Jazz'\n",
       "3. 'Pop'\n",
       "4. 'Rock'\n",
       "\n",
       "\n"
      ],
      "text/plain": [
       "[1] Jazz    Rock    Classic Classic Pop     Jazz    Rock    Jazz   \n",
       "Levels: Classic Jazz Pop Rock"
      ]
     },
     "metadata": {},
     "output_type": "display_data"
    }
   ],
   "source": [
    "music_genre <- factor(c(\"Jazz\", \"Rock\", \"Classic\", \"Classic\", \"Pop\", \"Jazz\", \"Rock\", \"Jazz\"))\n",
    "\n",
    "music_genre"
   ]
  },
  {
   "cell_type": "code",
   "execution_count": 208,
   "id": "f0f971b6-ef75-485c-96ba-8bd85abd9796",
   "metadata": {
    "tags": []
   },
   "outputs": [
    {
     "data": {
      "text/html": [
       "<style>\n",
       ".list-inline {list-style: none; margin:0; padding: 0}\n",
       ".list-inline>li {display: inline-block}\n",
       ".list-inline>li:not(:last-child)::after {content: \"\\00b7\"; padding: 0 .5ex}\n",
       "</style>\n",
       "<ol class=list-inline><li>'Classic'</li><li>'Jazz'</li><li>'Pop'</li><li>'Rock'</li></ol>\n"
      ],
      "text/latex": [
       "\\begin{enumerate*}\n",
       "\\item 'Classic'\n",
       "\\item 'Jazz'\n",
       "\\item 'Pop'\n",
       "\\item 'Rock'\n",
       "\\end{enumerate*}\n"
      ],
      "text/markdown": [
       "1. 'Classic'\n",
       "2. 'Jazz'\n",
       "3. 'Pop'\n",
       "4. 'Rock'\n",
       "\n",
       "\n"
      ],
      "text/plain": [
       "[1] \"Classic\" \"Jazz\"    \"Pop\"     \"Rock\"   "
      ]
     },
     "metadata": {},
     "output_type": "display_data"
    }
   ],
   "source": [
    "levels(music_genre)"
   ]
  },
  {
   "cell_type": "code",
   "execution_count": null,
   "id": "6fd7df4c-7bf0-448d-910b-86693a874c08",
   "metadata": {},
   "outputs": [],
   "source": []
  },
  {
   "cell_type": "code",
   "execution_count": null,
   "id": "c6dac198-0449-43a3-95ec-ec4239b0e106",
   "metadata": {},
   "outputs": [],
   "source": []
  }
 ],
 "metadata": {
  "kernelspec": {
   "display_name": "R",
   "language": "R",
   "name": "ir"
  },
  "language_info": {
   "codemirror_mode": "r",
   "file_extension": ".r",
   "mimetype": "text/x-r-source",
   "name": "R",
   "pygments_lexer": "r",
   "version": "4.0.4"
  }
 },
 "nbformat": 4,
 "nbformat_minor": 5
}
