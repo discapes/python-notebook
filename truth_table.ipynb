{
 "cells": [
  {
   "cell_type": "code",
   "execution_count": 1,
   "id": "7678d754-f35f-4953-8bd9-36dbd76849a4",
   "metadata": {
    "tags": []
   },
   "outputs": [
    {
     "data": {
      "application/vnd.jupyter.widget-view+json": {
       "model_id": "bd1e81bf9086469589e4ba7d4bb4b070",
       "version_major": 2,
       "version_minor": 0
      },
      "text/plain": [
       "interactive(children=(Text(value='(A and A) == ((not C) or A) and im(C, A)', description='statement'), Output(…"
      ]
     },
     "metadata": {},
     "output_type": "display_data"
    }
   ],
   "source": [
    "\n",
    "from ipywidgets import interact\n",
    "from IPython.display import Math\n",
    "\n",
    "toLatex = lambda py: \\\n",
    "    py.replace(\"not\", \"\\\\neg\") \\\n",
    "    .replace(\"and\", \"\\\\wedge\") \\\n",
    "    .replace(\"or\", \"\\\\vee\") \\\n",
    "    .replace(\"==\", \"\\\\Leftrightarrow\") \\\n",
    "    .replace(\"im\", \"\") \\\n",
    "    .replace(\", \", \"\\\\rightarrow \")\n",
    "\n",
    "alphabet = lambda: (chr(x) for x in range(ord('A'), ord('Z') + 1))\n",
    "\n",
    "im = lambda a, b: (not a or b)\n",
    "\n",
    "usedVars = lambda py: [x for x in alphabet() if x in py]\n",
    "\n",
    "getDict = lambda variables, bstr: \\\n",
    "    { variables[i]: bool(int(bstr[i])) for i in range(len(variables))}\n",
    "\n",
    "@interact(statement=\"(A and A) == ((not C) or A) and im(C, A)\")\n",
    "def generate(statement):\n",
    "    variables = usedVars(statement)\n",
    "    num = len(variables)\n",
    "    lines = [\"\\\\begin{matrix}\", \"&\".join(variables) + \"&\" +  toLatex(statement) + \"\\\\\\\\\"]\n",
    "    i = int(\"1\" * num, 2)\n",
    "    while i >= 0:\n",
    "        binstr = bin(i)[2:].rjust(num, \"0\")\n",
    "        line = \"&\".join(binstr)\n",
    "        line += \"&\" + str(int(eval(statement, { \"im\": im, **getDict(variables, binstr)})))\n",
    "        if i != 0: line += \"\\\\\\\\\"\n",
    "        lines.append(line)\n",
    "        i -= 1\n",
    "    lines.append(\"\\\\end{matrix}\")\n",
    "    output = \"\\n\".join(lines)\n",
    "    return Math(output)"
   ]
  }
 ],
 "metadata": {
  "kernelspec": {
   "display_name": "Python 3 (ipykernel)",
   "language": "python",
   "name": "python3"
  },
  "language_info": {
   "codemirror_mode": {
    "name": "ipython",
    "version": 3
   },
   "file_extension": ".py",
   "mimetype": "text/x-python",
   "name": "python",
   "nbconvert_exporter": "python",
   "pygments_lexer": "ipython3",
   "version": "3.9.2"
  }
 },
 "nbformat": 4,
 "nbformat_minor": 5
}
