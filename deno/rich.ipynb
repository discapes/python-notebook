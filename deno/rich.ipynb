{
 "cells": [
  {
   "cell_type": "code",
   "execution_count": 1,
   "id": "90c356c9-53a1-4e94-98c3-712cae58ebb6",
   "metadata": {},
   "outputs": [
    {
     "name": "stdout",
     "output_type": "stream",
     "text": [
      "hi\n"
     ]
    }
   ],
   "source": [
    "console.log(\"hi\")"
   ]
  },
  {
   "cell_type": "code",
   "execution_count": 5,
   "id": "bc908af3-e4d9-472c-a777-5c8ffe44d1b3",
   "metadata": {},
   "outputs": [
    {
     "data": {
      "text/html": [
       "<h1>Hello world!</h1>"
      ],
      "text/plain": [
       "Hello world!"
      ]
     },
     "execution_count": 5,
     "metadata": {},
     "output_type": "execute_result"
    }
   ],
   "source": [
    "{\n",
    "  [Symbol.for(\"Jupyter.display\")]() {\n",
    "    return {\n",
    "      // Plain text content\n",
    "      \"text/plain\": \"Hello world!\",\n",
    "\n",
    "      // HTML output\n",
    "      \"text/html\": \"<h1>Hello world!</h1>\",\n",
    "    }\n",
    "  }\n",
    "}\n"
   ]
  },
  {
   "cell_type": "code",
   "execution_count": 6,
   "id": "7e0b7bce-ee1f-4952-800f-7ebca24033af",
   "metadata": {},
   "outputs": [],
   "source": [
    "import * as colors from \"jsr:@std/fmt/colors\";\n"
   ]
  },
  {
   "cell_type": "code",
   "execution_count": 7,
   "id": "2fbd52f6-981a-4083-aa43-2aeb6e91e4cf",
   "metadata": {},
   "outputs": [
    {
     "data": {
      "text/plain": [
       "\u001b[32mHello world\u001b[39m"
      ]
     },
     "execution_count": 7,
     "metadata": {},
     "output_type": "execute_result"
    }
   ],
   "source": [
    "{\n",
    "  [Deno.jupyter.$display]() {\n",
    "    return {\n",
    "      \"text/plain\": colors.green(\"Hello world\"),\n",
    "    }\n",
    "  }\n",
    "}"
   ]
  },
  {
   "cell_type": "code",
   "execution_count": null,
   "id": "438aa33d-072d-4e1c-831a-0e3066a5f786",
   "metadata": {},
   "outputs": [],
   "source": []
  }
 ],
 "metadata": {
  "kernelspec": {
   "display_name": "Deno",
   "language": "typescript",
   "name": "deno"
  },
  "language_info": {
   "codemirror_mode": "typescript",
   "file_extension": ".ts",
   "mimetype": "text/x.typescript",
   "name": "typescript",
   "nbconvert_exporter": "script",
   "pygments_lexer": "typescript",
   "version": "5.6.2"
  }
 },
 "nbformat": 4,
 "nbformat_minor": 5
}
